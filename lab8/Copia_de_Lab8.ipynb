{
  "cells": [
    {
      "cell_type": "markdown",
      "metadata": {
        "id": "vwCVs8pzA4v_"
      },
      "source": [
        "<h1><center>Laboratorio 8: Predicciones y Recomendaciones 🔮🪄 </center></h1>\n",
        "\n",
        "<center><strong>MDS7202: Laboratorio de Programación Científica para Ciencia de Datos - Primavera 2024</strong></center>"
      ]
    },
    {
      "cell_type": "markdown",
      "metadata": {
        "id": "Z6idsH0-A77T"
      },
      "source": [
        "### **Cuerpo Docente:**\n",
        "\n",
        "- Profesores: Ignacio Meza, Sebastián Tinoco\n",
        "- Auxiliar: Eduardo Moya\n",
        "- Ayudantes: Nicolás Ojeda, Melanie Peña, Valentina Rojas"
      ]
    },
    {
      "cell_type": "markdown",
      "metadata": {
        "id": "xHCewuvxA-W2"
      },
      "source": [
        "### **Equipo: SUPER IMPORTANTE - notebooks sin nombre no serán revisados**\n",
        "\n",
        "- Nombre de alumno 1: Carolina Nuñez\n",
        "- Nombre de alumno 2: Alonso Uribe"
      ]
    },
    {
      "cell_type": "markdown",
      "metadata": {
        "id": "4pg5Iz9tegst"
      },
      "source": [
        "### **Link de repositorio de GitHub:** [Insertar Repositorio](https://github.com/...../)"
      ]
    },
    {
      "cell_type": "markdown",
      "metadata": {
        "id": "EZCCAQyqegsu"
      },
      "source": [
        "## Temas a tratar\n",
        "- Series de Tiempo.\n",
        "- Predicciones vía `Prophet`.\n",
        "- Implementar un sistema de recomendación utilizando `surprise`.\n",
        "\n",
        "## Reglas:\n",
        "\n",
        "- **Grupos de 2 personas**\n",
        "- Cualquier duda fuera del horario de clases al foro. Mensajes al equipo docente serán respondidos por este medio.\n",
        "- Prohibidas las copias.\n",
        "- Pueden usar cualquer matrial del curso que estimen conveniente.\n",
        "- Código que no se pueda ejecutar, no será revisado.\n",
        "\n",
        "### Objetivos principales del laboratorio\n",
        "- Comprender qué es una serie de tiempo y su estructura.\n",
        "- Identificar tendencias, estacionalidades e irregularidades.\n",
        "- Armar un modelo predictivo para la serie.\n",
        "- Conocer y aplicar sistemas de recomendación.\n",
        "- Entender estructura y conocer casos de estudio.\n"
      ]
    },
    {
      "cell_type": "code",
      "execution_count": null,
      "metadata": {
        "id": "CwmzvkB8p3rc"
      },
      "outputs": [],
      "source": [
        "# # Si usted está utilizando Colabolatory le puede ser útil este código para cargar los archivos.\n",
        "# try:\n",
        "#     from google.colab import drive\n",
        "#     drive.mount(\"/content/drive\")\n",
        "#     path = 'Dirección donde tiene los archivos en el Drive'\n",
        "# except:\n",
        "#     print('Ignorando conexión drive-colab')"
      ]
    },
    {
      "cell_type": "code",
      "execution_count": null,
      "metadata": {
        "id": "smst0oS3hp9t"
      },
      "outputs": [],
      "source": [
        "# Librerias globales\n",
        "\n",
        "import pandas as pd\n",
        "import numpy as np\n",
        "import matplotlib.pyplot as plt\n",
        "import seaborn as sns\n",
        "import copy\n",
        "import plotly.express as px"
      ]
    },
    {
      "cell_type": "markdown",
      "metadata": {
        "id": "jKJ0AuRJpDa-"
      },
      "source": [
        "# **1. Forecasting (30 puntos)**\n"
      ]
    },
    {
      "cell_type": "markdown",
      "metadata": {
        "id": "-q56pg4rpJ2d"
      },
      "source": [
        "## **Prophet**\n",
        "\n",
        "Prophet es una herramienta open-source de Facebook utilizada para realizar predicciones en series de tiempo. Esta se basa en la descomposición aditiva, donde tendencias no lineales se ajustan junto a la estacionalidad.\n",
        "\n",
        "En la ecuación de a continuación se puede ver una idea general de los elementos que construyen a un modelo aditivo como lo es Prophet.\n",
        "\n",
        "\\begin{equation}\n",
        "y(t) = g(t) + s(t) + h(t) + e(t)\n",
        "\\end{equation}\n",
        "\n",
        "Donde, $g(t)$ hace referencia a las tendencias, que corresponden a cambios graduales en largos periodos de tiempo. $s(t)$ corresponde a la estacionalidad, son cambios periodicos o cortos en el tiempo. $h(t)$ es el efecto que tienen las festividades sobre las predicciones, mientras que e(t) corresponde al error o ruido. Finalmente $y(t)$, es la predicción hecha por el modelo.\n",
        "\n",
        "Prophet trabaja por defecto con Piece-Wise Lineal Model, este es un modelo de regresión lineal, en el cual se buscan distintas zonas en que la data presente patrones o tendencias lineales, de estas zonas obtiene su regresión y luego las \"une\" de manera de representar toda la región, como se puede ver en la ecuación siguiente.\n",
        "\n",
        "\\begin{equation}\n",
        "y(x)=\n",
        "    \\begin{cases}\n",
        "        η_1 + \\beta_1(x-b_1), & b_1 < x  \\leqslant b_2 \\\\\n",
        "        η_2 + \\beta_2(x-b_2), & b_2 < x  \\leqslant b_3 \\\\\n",
        "        η_3 + \\beta_3(x-b_3), & b_3 < x  \\leqslant b_3 \\\\\n",
        "        ... \\\\\n",
        "        η_k + \\beta_{nb}(x-b_{nb-1}), & b_{n-1} < x  \\leqslant b_{nb} \\\\\n",
        "    \\end{cases}\n",
        "\\end{equation}\n",
        "\n",
        "Siendo $b_1$ el primer punto de quiebre en la serie y así hasta el punto $b_{nb}$ correspondiente al último punto de quiebre de la serie con una cantidad $nb$ de puntos.\n",
        "\n",
        "Para mayor información de Prophet y como utilizarla, pueden ver su [documentación](https://facebook.github.io/prophet/docs/quick_start.html#python-api), donde hay pueden encontrar un pequeño tutorial de la librería."
      ]
    },
    {
      "cell_type": "markdown",
      "metadata": {
        "id": "q4h6rX5sBXmB"
      },
      "source": [
        "## **La Factura de Homero**"
      ]
    },
    {
      "cell_type": "markdown",
      "metadata": {
        "id": "mHZq_h1RFZJ1"
      },
      "source": [
        "<!-- <center>\n",
        "<img src =\"https://i.makeagif.com/media/7-30-2018/H_ZAY1.gif\" width = 500 /> -->"
      ]
    },
    {
      "cell_type": "markdown",
      "metadata": {
        "id": "TsrEkIUHBwBb"
      },
      "source": [
        "Homero Simpson ha trabajado en la Planta Nuclear de Springfield por más de 20 años como Inspector de Seguridad, pero recientemente el Sr. Burns le ha permitido trabajar desde casa. Aunque le encanta la flexibilidad que esto le otorga, también ha notado un aumento considerable en su consumo energético en el hogar. Con el uso constante de calefacción en invierno y aire acondicionado en verano, Homero está preocupado por cómo afectará esto a su presupuesto en los próximos meses, ya que planea pasar aún más tiempo en casa.\n",
        "\n",
        "Afortunadamente, gracias a su puesto en la Planta de Energía Nuclear, Homero tiene acceso a los datos de consumo de energía de cada ciudadano en Springfield, por lo que accede a esta información y almacena el consumo de su hogar en un archivo llamado `energia_homero.csv`. Este archivo posee el consumo diario en el hogar de Homero Simpson desde el Junio del 2016 hasta Julio del 2020.\n",
        "\n",
        "Con esta valiosa información, Homero espera poder predecir su consumo energético y tomar decisiones informadas para ajustar su presupuesto mensual."
      ]
    },
    {
      "cell_type": "markdown",
      "metadata": {
        "id": "IKnCQlYbFpQ4"
      },
      "source": [
        "Los datos son los siguientes:\n",
        "\n",
        "* **date**: Fecha de medición.\n",
        "* **Energy_kWh**: Consumo diario de energía eléctrica en el hogar de Homero (en kWh)."
      ]
    },
    {
      "cell_type": "markdown",
      "metadata": {
        "id": "Obay1DE6H9Hk"
      },
      "source": [
        "## 1.1 Series de Tiempo [0 puntos]"
      ]
    },
    {
      "cell_type": "markdown",
      "metadata": {
        "id": "fIjQdwBAJFLJ"
      },
      "source": [
        "### Carga de los datos\n",
        "\n",
        "En primer lugar, cargue los datos históricos del archivo `energia_homero.csv` al entorno de trabajo. Una vez cargados, asegúrense de transformar la columna `date` a formato `datetime`. Además, visualice el consumo de energía en la casa de Homero mediante la librería `plotly`.\n"
      ]
    },
    {
      "cell_type": "markdown",
      "metadata": {
        "id": "Trz2Q7JKR2Zq"
      },
      "source": [
        "**Respuesta**:"
      ]
    },
    {
      "cell_type": "code",
      "execution_count": null,
      "metadata": {
        "id": "0HcBD2JHRtxk",
        "outputId": "4650be4c-4311-44ec-8e79-73216efbf4af"
      },
      "outputs": [],
      "source": [
        "eh = pd.read_csv(\"energia_homero.csv\")\n",
        "eh[\"date\"] = pd.to_datetime(eh[\"date\"])\n",
        "eh.info()\n",
        "\n",
        "px.line(eh, x=\"date\", y=\"Energy_kWh\", title=\"KWH en el tiempo\")"
      ]
    },
    {
      "cell_type": "code",
      "execution_count": null,
      "metadata": {
        "id": "03SYX9DQY8jH"
      },
      "outputs": [],
      "source": [
        "eh.rename(axis=1, mapper={\"Energy_kWh\": \"y\", \"date\":\"ds\"}, inplace=True)"
      ]
    },
    {
      "cell_type": "markdown",
      "metadata": {
        "id": "6-aXIm9ZOufL"
      },
      "source": [
        "## 1.2 Controlando la Serie de Tiempo [6 puntos]"
      ]
    },
    {
      "cell_type": "markdown",
      "metadata": {
        "id": "LYT66o06PYSY"
      },
      "source": [
        "<!-- <center>\n",
        "<img src =\"https://i.pinimg.com/originals/66/77/88/667788e0b1f08ff1e1cfce11d303b203.gif\" width = 500 /> -->"
      ]
    },
    {
      "cell_type": "markdown",
      "metadata": {
        "id": "z7OIm3yzPcPG"
      },
      "source": [
        "Luego de leer mucho, Homero cree que necesita descomponer la serie de tiempo para poder controlar estos componentes de forma efectiva y lograr que la serie tenga propiedades de una serie estacionaria.\n",
        "\n",
        "Usted, como buen ciudadano de Springfield, decide ayudar a Homero, el cual le pide que realice lo siguientes pasos:\n",
        "\n",
        "0. Cree un conjunto de entrenamiento y uno de prueba (a proyectar). Para ello, considere como entrenamiento la información **hasta** el `2020-02-29` y como conjunto de prueba **desde** el `2020-03-01`. [0 puntos]\n",
        "1. Cree un `Pipeline` que permita obtener una representación de la tendencia de la serie de tiempo, mediante un modelo Lineal. Nombre al pipeline `Pipeline_trend`. [1 punto]\n",
        "2. Entrene el modelo lineal y luego obtenga predicciones tanto para el conjunto de entrenamiento como para el de prueba (intervalo completo de tiempo). Luego grafique las predicciones y calcule el `Mean Absolute Error` (MAE), tanto para el conjunto de prueba como para el de entrenamiento. [1 punto]\n",
        "3. Grafique el error (Valor real - Valor predicho) para todo el intervalo de tiempo y responda ¿Hay un comportamiento estacional en la serie? [1 punto]\n",
        "4.  Cree un `Pipeline` que permita modelar la estacionalidad de la serie temporal mediante términos de Fourier y la represente a través de una Regresión Lineal de la variable objetivo. Nombre a este pipeline `Pipeline_seasonal`. Determine el valor de Periodos `P` y el número de terminos de Fourier `n`. [1 punto]\n",
        "5. Entrene el nuevo modelo y obtenga predicciones en el intervalo completo de tiempo. Luego grafique y calcule el `MAE` en el conjunto de prueba y en el de entrenamiento. [1 punto]\n",
        "6. Vuelva a graficar el error y comente los resultados. [1 punto]"
      ]
    },
    {
      "cell_type": "markdown",
      "metadata": {
        "id": "iwz-_XbTSCwX"
      },
      "source": [
        "**Respuesta**"
      ]
    },
    {
      "cell_type": "code",
      "execution_count": null,
      "metadata": {
        "id": "Y77qr78ASEH8",
        "outputId": "c35fa935-1505-4d5a-9efa-5ace368a9ca2"
      },
      "outputs": [],
      "source": [
        "eh['set'] = np.where(eh.ds > pd.Timestamp('2020-02-29'), 'Test', 'Train')\n",
        "train = eh[eh['set'] == 'Train'].copy()\n",
        "test = eh[eh['set'] == 'Test'].copy()\n",
        "\n",
        "from sklearn.linear_model import LinearRegression\n",
        "from sklearn.metrics import mean_absolute_error\n",
        "from sklearn.pipeline import Pipeline\n",
        "from plotly import graph_objects as go\n",
        "\n",
        "x_axis = np.arange(len(train)).reshape((-1,1))\n",
        "Pipeline_trend = Pipeline([('reg', LinearRegression(fit_intercept=True, copy_X=True))])\n",
        "m = Pipeline_trend.fit(X=x_axis, y=train['y'])\n",
        "lm = m.get_params()['reg']\n",
        "a , b= lm.coef_, lm.intercept_\n",
        "y_hat = m.predict(np.arange(x_axis[-1], x_axis[-1]+len(test)).reshape((-1,1)))\n",
        "\n",
        "fig = go.Figure(go.Scatter(x=train['ds'], y=train['y'], line=dict(color='royalblue')))\n",
        "fig.add_traces(go.Scatter(x=train['ds'], y=a*x_axis[:,0] + b, line=dict(color='red')))\n",
        "fig.add_traces(go.Scatter(x=test['ds'], y=test['y'], line=dict(color='firebrick')))\n",
        "fig.add_traces(go.Scatter(x=test['ds'], y=y_hat, line=dict(color='blue')))\n",
        "fig.show()\n",
        "print(\"MAE train: \", mean_absolute_error(train['y'], a*x_axis[:,0] + b), \"MAE test: \", mean_absolute_error(test['y'], y_hat))\n"
      ]
    },
    {
      "cell_type": "code",
      "execution_count": null,
      "metadata": {
        "id": "CvsKgKwCY8jK",
        "outputId": "02260a8d-b0ed-4345-a250-767317105eb4"
      },
      "outputs": [],
      "source": [
        "fig = go.Figure(go.Scatter(x=train['ds'], y=train['y']-(a*x_axis[:,0]+b), line=dict(color='royalblue')))\n",
        "fig.add_traces(go.Scatter(x=test['ds'], y=test['y']-y_hat, line=dict(color='firebrick')))"
      ]
    },
    {
      "cell_type": "markdown",
      "metadata": {
        "id": "rjnWmnfrY8jK"
      },
      "source": [
        "Se observa en terminos cualitativos cierta periodicidad de los datos al rededor de un año"
      ]
    },
    {
      "cell_type": "code",
      "execution_count": null,
      "metadata": {
        "id": "hi3dHNQsY8jL",
        "outputId": "0a4ab11c-7daa-412a-8994-05cd157ceaa0"
      },
      "outputs": [],
      "source": [
        "from scipy import fft\n",
        "freqs = np.abs(fft.fft(train['y']))\n",
        "fig = go.Figure(go.Scatter(y=freqs, line=dict(color='royalblue')))\n",
        "fig.update_layout(yaxis_range=[0,10000], xaxis_range=[0,500])\n",
        "\n",
        "fig"
      ]
    },
    {
      "cell_type": "markdown",
      "metadata": {
        "id": "tBMIji6RY8jL"
      },
      "source": [
        "Existe una periodicidad más marcada en los 4 días, luego al rededor de los 30 menos marcada. No se percibe una periodicidad anual marcada, más si leve, al rededor de los 195 días. Esto último puede deberse al tamaño del dataset y la limitada información respecto al comportamiento anual del fenómeno."
      ]
    },
    {
      "cell_type": "markdown",
      "metadata": {
        "id": "wYclWYijbB9O"
      },
      "source": [
        "## 1.3 Un Consejo para Homero [6 puntos]"
      ]
    },
    {
      "cell_type": "markdown",
      "metadata": {
        "id": "VXI4w5jdcAML"
      },
      "source": [
        "<!-- <center>\n",
        "<img src =\"https://media.tenor.com/sjbvGMLZiDkAAAAM/the-simpsons-homner-simpson.gif\" width = 400 /> -->"
      ]
    },
    {
      "cell_type": "markdown",
      "metadata": {
        "id": "TQYcRK_ibGhc"
      },
      "source": [
        "Homero al observar los resultados obtenidos, se mostró conforme y decidió no seguir averiguando al respecto. Usted, como buen amigo y utilizando sus recientes conocimientos en Forecast, le sugiere a Homero utilizar **Prophet**, una herramienta de modelado de series de tiempo que incluye descomposición de tendencias y estacionalidad, así como la capacidad de incorporar regresores adicionales. Usted le explica a Homero que Prophet es especialmente útil para realizar pronósticos cuando hay patrones estacionales y que podría mejorar los resultados que ha obtenido hasta ahora.\n",
        "\n",
        "Homero, algo agotado debido al exhaustivo estudio que hizo para entender como funciona esta herramienta, le solicita ayuda para implementar Prophet y evaluar si puede obtener mejores resultados en sus predicciones de consumo energético.\n",
        "\n",
        "Dado esto, Homero le pide que realice los siguientes pasos:\n",
        "\n",
        "1. Instale y cargue Prophet a su entorno de trabajo. Luego renombre la variable temporal `date` por `ds` y la variable objetivo `Energy_kWh` por `y`, en los conjuntos de entrenamiento y de prueba. [1 punto]\n",
        "2. Cree y ajuste el modelo Prophet con sus datos de entrenamiento. Luego realice prepare el dataset de predicciones con su set de prueba y realice las predicciones. `Nota:` Le puede ser útil este [Enlace](https://facebook.github.io/prophet/docs/quick_start.html#python-api) [2 puntos]\n",
        "3. Grafique las predicciones y las componentes del modelo Prophet. `Nota`: Utilice los métodos `.plot()` y `.plot_components()` de Prophet. [1 punto]\n",
        "4. Calcule el `MAE` de la predicción en el conjunto de entrenamiento y de prueba. [1 punto]\n",
        "5. Grafique el error (Valor real - Valor predicho) en todo el intervalo de tiempo. Analice sus resultados y responda: ¿Hay un comportamiento estacional en la serie? [1 punto]"
      ]
    },
    {
      "cell_type": "code",
      "execution_count": null,
      "metadata": {
        "id": "-XmKaQmYoqtp"
      },
      "outputs": [],
      "source": [
        "# 1\n",
        "from prophet import Prophet\n",
        "from prophet.plot import plot_plotly, plot_components_plotly"
      ]
    },
    {
      "cell_type": "markdown",
      "metadata": {
        "id": "S1eLSZ_uSQxK"
      },
      "source": [
        "**Respuesta:**"
      ]
    },
    {
      "cell_type": "code",
      "execution_count": null,
      "metadata": {
        "id": "P9bkU463SPM-",
        "outputId": "029e3806-ba02-4ef0-8c16-a7e43d0a9634"
      },
      "outputs": [],
      "source": [
        "\n",
        "model = Prophet()\n",
        "# 2\n",
        "model.fit(train)\n",
        "future = model.make_future_dataframe(periods=len(test))\n",
        "forecast = model.predict(future)\n",
        "forecast"
      ]
    },
    {
      "cell_type": "code",
      "execution_count": null,
      "metadata": {
        "id": "JGie4oGKY8jM",
        "outputId": "3bb874b0-47e5-4c0b-8ae0-3210a9e1a7f4"
      },
      "outputs": [],
      "source": [
        "forecast.info()"
      ]
    },
    {
      "cell_type": "code",
      "execution_count": null,
      "metadata": {
        "id": "6WfZjfBRY8jM",
        "outputId": "07c842af-cb98-4355-8fc0-85c5ca22f2d6"
      },
      "outputs": [],
      "source": [
        "# 3\n",
        "model.plot(forecast, )"
      ]
    },
    {
      "cell_type": "code",
      "execution_count": null,
      "metadata": {
        "id": "8lNYbEj6Y8jN",
        "outputId": "9e4a397c-4081-4373-80ea-f444eab66a91"
      },
      "outputs": [],
      "source": [
        "model.plot_components(forecast)"
      ]
    },
    {
      "cell_type": "code",
      "execution_count": null,
      "metadata": {
        "id": "XXRqHWIqY8jN",
        "outputId": "4fc2defd-6af6-48f8-cb77-d05fad371aa6"
      },
      "outputs": [],
      "source": [
        "# 4\n",
        "foretrain = forecast.loc[forecast['ds'] < \"2020-03-01\", 'yhat']\n",
        "foretest = forecast.loc[forecast['ds'] >= \"2020-03-01\", 'yhat']\n",
        "print(\"MAE en entrenamiento: \", mean_absolute_error(train['y'], foretrain))\n",
        "print(\"MAE en entrenamiento: \", mean_absolute_error(test['y'], foretest))"
      ]
    },
    {
      "cell_type": "code",
      "execution_count": null,
      "metadata": {
        "id": "r0cdyhCdY8jN",
        "outputId": "9b7f5407-0ffa-4070-859d-c89c0b334053"
      },
      "outputs": [],
      "source": [
        "fig = go.Figure(go.Scatter(x=train['ds'], y=train['y']-foretrain, line=dict(color='royalblue')))\n",
        "fig.add_traces(go.Scatter(x=test['ds'], y=test['y']-foretest, line=dict(color='firebrick')))"
      ]
    },
    {
      "cell_type": "markdown",
      "metadata": {
        "id": "YcvOMHiPY8jO"
      },
      "source": [
        "El error es mucho menor en MEA en relación a una regresión lineal. Esto puede verse de manera cualitativa en el gráfico de error, se apega mucho más a cero y sus perturbaciones son menores.\n",
        "\n",
        "Respecto a la estacionalidad, el modelo automaticamente define una estacionalidad semanal y anual, se percibe como significante."
      ]
    },
    {
      "cell_type": "markdown",
      "metadata": {
        "id": "hmv6O8Qj44Dt"
      },
      "source": [
        "## 1.4 Incluyendo Regresores [5 puntos]"
      ]
    },
    {
      "cell_type": "markdown",
      "metadata": {
        "id": "YvWzqXrwRSkc"
      },
      "source": [
        "<!-- <center>\n",
        "<img src =\"https://i.redd.it/64hwjftunjjd1.gif\" width = 400 /> -->"
      ]
    },
    {
      "cell_type": "markdown",
      "metadata": {
        "id": "xUNihwodPwBG"
      },
      "source": [
        "Con los nuevos resultados obtenidos del modelo Prophet, usted le aconseja a Homero que puede mejorar sus predicciones al incluir regresores en el modelo, es decir, variables adicionales que pueden influir en la variable objetivo, en este caso, el consumo energético. Homero encuentra que es una buena idea y va en busca de ayuda donde el Profesor Frink, un destacado Científico de Springfield. Para suerte de Homero, Frink tenía un estudio reciente que registra las condiciones climáticas en Springfield, en el mismo intervalo de tiempo en que Homero disponía de los datos de consumo eléctrico. Con esta nueva información, usted le recomienda a Homero que podrían utilizar esta información meteorológica proporcionada como variables exógenas al modelo.\n",
        "\n",
        "Sin embargo, al no comprender bien la importancia de los regresores, Homero decide confiar en sus capacidades y le pide que, por favor, incluya estas variables en el modelo para evaluar su impacto en las predicciones.\n",
        "\n",
        "Para ello, usted debe:\n",
        "0. Seleccionar las variables exógenas a utilizar del archivo `datos_frink.csv`. Añada estas variables a sus conjuntos de entrenamiento y prueba mediante `merge`. [0 puntos]\n",
        "1. Cree el modelo Prophet e incluya los regresores (variables exógenas) al modelo. Luego realice el entrenamiento. **Hint**: Utilice el método `.add_regressor()`. Mas información en el siguiente [Enlace](https://facebook.github.io/prophet/docs/seasonality,_holiday_effects,_and_regressors.html#additional-regressors). [2 puntos]\n",
        "2. Grafique las predicciones y las componentes del modelo Prophet. `Nota`: Utilice los métodos `.plot()` y `.plot_components()` de Prophet. [1 punto]\n",
        "3. Calcule el `MAE` de la predicción en el conjunto de entrenamiento y de prueba. Analice sus resultados. [1 punto]\n",
        "4. Grafique el error (Valor real - Valor predicho) en el conjunto de entrenamiento y de prueba. ¿Hay un comportamiento estacional en la serie? ¿Influyen estas variables en el comportamiento del consumo energético en el hogar de Homero? [1 punto]"
      ]
    },
    {
      "cell_type": "markdown",
      "metadata": {
        "id": "8BTXeJvXqesW"
      },
      "source": [
        "Los datos del dataset de Frink son los siguientes:\n",
        "\n",
        "* **date**: Fecha de medición.\n",
        "* **Temp_max**: Temperatura máxima registrada durante el día (en °F).\n",
        "* **Temp_avg**: Temperatura promedio registrada durante el día (en °F).\n",
        "* **Temp_min**: Temperatura mínima registrada durante el día (en °F).\n",
        "* **Dew_max**: Punto de rocío máximo registrado durante el día (en °F).\n",
        "* **Dew_avg**: Punto de rocío promedio registrado durante el día (en °F).\n",
        "* **Dew_min**: Punto de rocío mínimo registrado durante el día (en °F).\n",
        "* **Hum_max**: Humedad máxima registrada durante el día (en porcentaje).\n",
        "* **Hum_avg**: Humedad promedio registrada durante el día (en porcentaje).\n",
        "* **Hum_min**: Humedad mínima registrada durante el día (en porcentaje).\n",
        "* **Wind_max**: Velocidad máxima del viento registrada durante el día (en millas por hora, mph).\n",
        "* **Wind_avg**: Velocidad promedio del viento registrada durante el día (en millas por hora, mph).\n",
        "* **Wind_min**: Velocidad mínima del viento registrada durante el día (en millas por hora, mph).\n",
        "* **Press_max**: Presión atmosférica máxima registrada durante el día (en pulgadas de mercurio, Hg).\n",
        "* **Press_avg**: Presión atmosférica promedio registrada durante el día (en pulgadas de mercurio, Hg).\n",
        "* **Press_min**: Presión atmosférica mínima registrada durante el día (en pulgadas de mercurio, Hg)."
      ]
    },
    {
      "cell_type": "markdown",
      "metadata": {
        "id": "ctwtNdYiSYkt"
      },
      "source": [
        "**Respuesta:**"
      ]
    },
    {
      "cell_type": "code",
      "execution_count": null,
      "metadata": {
        "id": "sIkCy2vNSZ0N"
      },
      "outputs": [],
      "source": [
        "# 1\n",
        "regg = pd.read_csv(\"datos_frink\")\n",
        "model = Prophet()\n",
        "model.add_regressor('')"
      ]
    },
    {
      "cell_type": "markdown",
      "metadata": {
        "id": "dF6GHPP89yPk"
      },
      "source": [
        "## 1.5 Aplicando Lags [7 puntos]"
      ]
    },
    {
      "cell_type": "markdown",
      "metadata": {
        "id": "jkRSC7IvL9hT"
      },
      "source": [
        "<!-- <center>\n",
        "<img src =\"https://i.gifer.com/J45h.gif\" width = 400 /> -->"
      ]
    },
    {
      "cell_type": "markdown",
      "metadata": {
        "id": "DLhDwh6295N-"
      },
      "source": [
        "Homero, satisfecho con los resultados obtenidos, cree que aún puede mejorar el rendimiento del modelo incorporando lags de las variables exógenas. Se le ocurre que, al incluir estos lags, podría identificar cómo los valores pasados de las variables influyen en la evolución de la variable objetivo. Con esta idea en mente, Homero solicita su ayuda para encontrar y aplicar los lags adecuados a las variables exógenas de manera efectiva.\n",
        "\n",
        "Para ello, a usted se le pide que:\n",
        "\n",
        "1. Calcule la `Autocorrelación Parcial` de las variables exógenas `avg` que usted haya considerado. Por ejemplo: `Temp_avg, Dew_avg, etc`. Luego determine la cantidad de rezagos (lags) que se va a aplicar a cada una de las variables. Justifique. [1 punto]\n",
        "\n",
        "2. Aplique los lags determinados en el paso anterior e incluyalos como variables en los conjuntos train y test. [1 punto]\n",
        "\n",
        "3. Impute los valores nulos de los nuevos atributos lags mediante la media de cada variable. [1 punto]\n",
        "\n",
        "4. Cree y entrene el modelo Prophet e incluya las variables exógenas y adicionalmente sus respectivos lags al modelo. [1 punto]\n",
        "\n",
        "5. Grafique las predicciones y las componentes del modelo Prophet. `Nota`: Utilice los métodos `.plot()` y `.plot_components()` de Prophet. [1 punto]\n",
        "6. Calcule el `MAE` de la predicción en el conjunto de prueba y en el de entrenamiento. Analice sus resultados. [1 punto]\n",
        "7. Grafique el error (Valor real - Valor predicho) en el conjunto de entrenamiento y en el de prueba. ¿Hay un comportamiento estacional en la serie? ¿Como afecta la inclusión de los lags en el desempeño del modelo? [1 punto]\n"
      ]
    },
    {
      "cell_type": "markdown",
      "metadata": {
        "id": "2ER9nRljShWz"
      },
      "source": [
        "**Respuesta:**"
      ]
    },
    {
      "cell_type": "code",
      "execution_count": null,
      "metadata": {
        "id": "AiTxiiUnSizV"
      },
      "outputs": [],
      "source": [
        "#CODIGO AQUI"
      ]
    },
    {
      "cell_type": "markdown",
      "metadata": {
        "id": "eX7JgdOEyTEA"
      },
      "source": [
        "## 1.6 Optimizando Prophet [6 puntos]"
      ]
    },
    {
      "cell_type": "markdown",
      "metadata": {
        "id": "PXi5MIk3RtgS"
      },
      "source": [
        "<!-- <center>\n",
        "<img src =\"https://i.gifer.com/BKlg.gif\" width = 500 /> -->"
      ]
    },
    {
      "cell_type": "markdown",
      "metadata": {
        "id": "fYc8t5ukRx1x"
      },
      "source": [
        "Homero, contento con sus resultados, decide compartir su trabajo en LinkedIn. Sin embargo, justo antes de realizar la publicación, su hija Lisa Simpson le comenta que su modelo podría mejorar aún más mediante la optimización de hiperparámetros. Aunque Homero no entiende muy bien a qué se refiere Lisa, decide confiar en su conocimiento y le pide ayuda para implementar la optimización.\n",
        "\n",
        "Lisa le prepara una función llamada optimize_prophet, que recibe como entrada el registro histórico, los datos a predecir (futuros), el nombre de las variables exógenas y una grilla de hiperparámetros que se desea modificar.\n",
        "\n",
        "Después de varios intentos, Homero no logra utilizar la función de Lisa y, desesperado por publicar sus resultados en internet, se acerca a usted en busca de ayuda.\n",
        "\n",
        "Para ello, usted decide realizar los siguientes pasos:\n",
        "\n",
        "1. Crear una grilla donde se modifiquen los siguientes hiperparámetros: `changepoint_prior_scale`, `seasonality_prior_scale`, `seasonality_mode`, `changepoint_range` y encuentre los hiperparámetros que optimicen el `MAE`. `Nota:` Utilice la función `optimize_prophet()` dada en el enunciado. [1 punto]\n",
        "2. Crear y entrenar un modelo Prophet utilizando los mejores parámetros encontrados, incluyendo regresores (variables exógenas). [2 puntos]\n",
        "3. Grafique las predicciones y las componentes del modelo Prophet. `Nota`: Utilice los métodos `.plot()` y `.plot_components()` de Prophet. [1 punto]\n",
        "4. Calcule el `MAE` de la predicción en el conjunto de entrenamiento y en el de prueba. [1 punto]\n",
        "5. Grafique el error (Valor real - Valor predicho) en ambos conjuntos. Analice sus resultados. [1 punto]\n"
      ]
    },
    {
      "cell_type": "code",
      "execution_count": null,
      "metadata": {
        "id": "49jB4USI5B4P"
      },
      "outputs": [],
      "source": [
        "#NO MODIFICAR ESTA CELDA\n",
        "\n",
        "import itertools\n",
        "import numpy as np\n",
        "import pandas as pd\n",
        "from tqdm import tqdm\n",
        "import logging\n",
        "\n",
        "# Silenciar el logging de Prophet\n",
        "logging.getLogger('prophet').setLevel(logging.ERROR)\n",
        "logging.getLogger('cmdstanpy').setLevel(logging.ERROR)\n",
        "\n",
        "\n",
        "def optimize_prophet(df, df_to_pred, features, param_grid ):\n",
        "  '''\n",
        "  Función que recibe como entrada:\n",
        "  -df: data entrenamiento.\n",
        "  -df_to_pred: data a predecir (test).\n",
        "  -features: lista de variables exógenas.\n",
        "  -param_grid: grilla de hiperparámetros.\n",
        "\n",
        "  Retorna:\n",
        "  -tuning_results: Dataframe con resultados de la optimización.\n",
        "  -best_params: Diccionario de mejores parámetros encontrados.\n",
        "  '''\n",
        "\n",
        "  # Generate all combinations of parameters\n",
        "  all_params = [dict(zip(param_grid.keys(), v)) for v in itertools.product(*param_grid.values())]\n",
        "  MAEs = []  # Store the MAEs for each params here\n",
        "\n",
        "  # Use tqdm to add a progress bar to the parameter tuning loop\n",
        "  for params in tqdm(all_params, desc=\"Tuning Prophet parameters\"):\n",
        "      m = Prophet(**params)  # Fit model with given params\n",
        "      for feature in features:\n",
        "          m.add_regressor(feature)\n",
        "      m.fit(df)\n",
        "\n",
        "      # Prepare future dataframe\n",
        "      df_prop = m.make_future_dataframe(periods=len(df_to_pred))\n",
        "      df_feat = pd.concat([df[features], df_to_pred[features]]).reset_index(drop=True)\n",
        "      df_prop[features] = df_feat[features]\n",
        "\n",
        "      # Make predictions\n",
        "      forecast = m.predict(df_prop)\n",
        "      forecast_pred = forecast[forecast['ds'].isin(df_to_pred['ds'])].reset_index(drop=True)\n",
        "\n",
        "      # Calculate MAE for the predictions\n",
        "      mae_pred = mean_absolute_error(df_to_pred['y'], forecast_pred['yhat'])\n",
        "      MAEs.append(mae_pred)\n",
        "\n",
        "  # Find the best parameters\n",
        "  tuning_results = pd.DataFrame(all_params)\n",
        "  tuning_results['MAEs'] = MAEs\n",
        "  tuning_results = tuning_results.sort_values(by='MAEs', ascending=True)\n",
        "  best_params = all_params[np.argmin(MAEs)]\n",
        "  return tuning_results, best_params"
      ]
    },
    {
      "cell_type": "markdown",
      "metadata": {
        "id": "1XQVCm2VStle"
      },
      "source": [
        "**Respuesta:**"
      ]
    },
    {
      "cell_type": "code",
      "execution_count": null,
      "metadata": {
        "id": "NCs9MMySSvcg"
      },
      "outputs": [],
      "source": [
        "#CODIGO AQUI"
      ]
    },
    {
      "cell_type": "markdown",
      "metadata": {
        "id": "FVox6yBNCS6T"
      },
      "source": [
        "# **2. Sistemas de Recomendación (30 puntos)**"
      ]
    },
    {
      "cell_type": "markdown",
      "metadata": {
        "id": "KKtN95WQCjcp"
      },
      "source": [
        "## Homero contra la Prohibición"
      ]
    },
    {
      "cell_type": "markdown",
      "metadata": {
        "id": "OD7xVTFp4rac"
      },
      "source": [
        "<!-- <center>\n",
        "<img src =\"https://i.ytimg.com/vi/rMSXXuhZjYY/maxresdefault.jpg\" width = 500 /> -->"
      ]
    },
    {
      "cell_type": "markdown",
      "metadata": {
        "id": "xrf2l5Xb1xd7"
      },
      "source": [
        "En Springfield, el caos estalló cuando las autoridades prohibieron el alcohol. Pero como siempre, donde otros ven problemas, Homero Simpson ve oportunidades. Decidido a mantener las fiestas vivas, se convirtió en el Barón de la Cerveza en un abrir y cerrar de ojos. Con la ayuda de su buen amigo Moe el cantinero, Homero obtuvo un valioso dataset llamado `cervezas.csv`, que contiene valoraciones de los ciudadanos de Springfield sobre distintas cervezas. Homero quiere asegurarse de ofrecer las cervezas más apreciadas para mantener a su clientela oculta y feliz, mientras eludía la mirada del estricto Elio Pez. Por ende, Homero lo contacta para solicitar de su ayuda en esta nueva labor.\n",
        "\n",
        "El dataset contiene los siguientes atributos:\n",
        "\n",
        "  * userId: Identificador de los ciudadanos/usuarios\n",
        "  * beerId: Identificador único de cada cerveza\n",
        "  * rating: Evaluación otorgada por el ciudadano a la cerveza, en un rango de 1.0 a 5.0.\n",
        "  * beerName: Nombre de la cerveza\n",
        "  * beerStyle: Tipo de Cerveza.\n",
        "\n"
      ]
    },
    {
      "cell_type": "code",
      "execution_count": null,
      "metadata": {
        "colab": {
          "base_uri": "https://localhost:8080/"
        },
        "id": "87A32f0bxjq-",
        "outputId": "c44be776-decd-49f2-cc03-19b8f29a6ea1"
      },
      "outputs": [],
      "source": [
        "!pip install surprise"
      ]
    },
    {
      "cell_type": "code",
      "execution_count": null,
      "metadata": {
        "id": "Sm4EO6VRvBLQ"
      },
      "outputs": [],
      "source": [
        "# Librerias extras\n",
        "from sklearn.preprocessing import LabelEncoder\n",
        "\n",
        "from surprise import accuracy\n",
        "from surprise.reader import Reader\n",
        "from surprise.dataset import Dataset\n",
        "from surprise.prediction_algorithms.knns import KNNBasic\n",
        "from surprise.prediction_algorithms.matrix_factorization import SVD\n",
        "from surprise.accuracy import mae\n",
        "from surprise import NMF\n",
        "from collections import defaultdict\n",
        "from sklearn.feature_extraction.text import CountVectorizer\n",
        "from sklearn.metrics.pairwise import cosine_similarity\n",
        "\n",
        "import pandas as pd\n",
        "from copy import deepcopy"
      ]
    },
    {
      "cell_type": "markdown",
      "metadata": {
        "id": "TSctqoUm5JLB"
      },
      "source": [
        "## Carga de los datos [0 puntos]\n",
        "\n",
        "Cargue el dataset `cervezas.csv` y realice una breve exploración de los datos. ¿Hay valores nulos? ¿Cuantos cervezas se estan evaluando? ¿Cuantos ciudadanos participaron de esta evaluación?"
      ]
    },
    {
      "cell_type": "code",
      "execution_count": null,
      "metadata": {
        "colab": {
          "base_uri": "https://localhost:8080/"
        },
        "id": "Gp5RMLpTTOVD",
        "outputId": "2d4f7ab5-1f26-4302-9d29-45ef7013175e"
      },
      "outputs": [],
      "source": [
        "#CODIGO AQUI\n",
        "beer_df = pd.read_csv('cervezas.csv')\n",
        "\n",
        "print(beer_df.isna().sum())\n",
        "print('Datos sin valores nulos')\n",
        "print('-----------------------------------------------------')\n",
        "print('Número de cervezas: ',beer_df['beerId'].unique().sum())\n",
        "print('Número de ciudadanos entrevistados: ', beer_df['userId'].unique().sum())"
      ]
    },
    {
      "cell_type": "markdown",
      "metadata": {
        "id": "_v0xBQmN9v80"
      },
      "source": [
        "## 2.1 Caracterización Inicial [3 puntos]"
      ]
    },
    {
      "cell_type": "markdown",
      "metadata": {
        "id": "gbsflKIA9zO9"
      },
      "source": [
        "Antes de entrenar nuestro sistema recomendador, es necesario caracterizar los datos disponibles y de esta manera tener un mejor entendimiento del problema a resolver. Para esto, se le pide lo siguiente:\n",
        "\n",
        "1. Genere gráficos y/o estadística descriptiva con los datos. Utilice su análisis para responder las siguientes preguntas: [2 puntos]\n",
        "  - ¿Cuantos *usuarios* hay en los datos?\n",
        "  - ¿Cuantos *productos* hay en los datos?\n",
        "  - ¿Cuantas *calificaciones* hay en los datos?\n",
        "  - ¿Cuantas *calificaciones* faltantes hay en los datos?\n",
        "  - ¿Cual es la media de las *calificaciones* entregadas por los usuarios? ¿Cómo cambia esto a través de los productos?  \n",
        "2. Transforme los datos entregados a una matriz (usuario, producto) y muestre sus resultados. [1 punto]"
      ]
    },
    {
      "cell_type": "code",
      "execution_count": null,
      "metadata": {
        "colab": {
          "base_uri": "https://localhost:8080/"
        },
        "id": "pEcBbf5tfIKI",
        "outputId": "dd3e0c1e-02f9-4458-b5f5-71baee9f53b0"
      },
      "outputs": [],
      "source": [
        "print('Cantidad de usuarios: ', beer_df['userId'].unique().size)\n",
        "print('Cantidad de productos: ', beer_df['beerId'].unique().size)\n",
        "print('Cantidad de calificaciones: ', beer_df['rating'].count())\n",
        "print('Cantidad de calificaciones faltantes: ', beer_df['rating'].isna().sum())"
      ]
    },
    {
      "cell_type": "code",
      "execution_count": null,
      "metadata": {
        "colab": {
          "base_uri": "https://localhost:8080/",
          "height": 617
        },
        "id": "2HRp6PUznaov",
        "outputId": "24a42ab9-c4bc-4022-b128-1e7011afe206"
      },
      "outputs": [],
      "source": [
        "beer = beer_df.groupby('beerName').agg({'rating':'mean'}).reset_index()\n",
        "fig = px.scatter(beer, x='beerName', y='rating', height=600)\n",
        "fig.update_traces(marker=dict(color='pink', opacity=1))\n",
        "fig.add_hline(y=beer_df.rating.mean(), line_color=\"blue\", annotation_text=\"Media general\",\n",
        "              annotation=dict(font=dict(size=20, color='blue')), annotation_position=\"top left\")\n",
        "fig.update_xaxes(tickangle=45)  # Rotate x-axis ticks by 45 degrees"
      ]
    },
    {
      "cell_type": "markdown",
      "metadata": {
        "id": "gcFBw1LPwzR6"
      },
      "source": [
        "Al revisar la media de las calificaciones por cerveza es posible observar que estas se distribuyen entorno a la media general de los datos."
      ]
    },
    {
      "cell_type": "code",
      "execution_count": null,
      "metadata": {
        "colab": {
          "base_uri": "https://localhost:8080/",
          "height": 455
        },
        "id": "Rzi16IzWxFdJ",
        "outputId": "45629711-0639-48e1-c850-482c155b70d3"
      },
      "outputs": [],
      "source": [
        "# 2. Transforme los datos entregados a una matriz (usuario, producto) y muestre sus resultados. [1 punto]\n",
        "\n",
        "beer_df.pivot_table(index='beerName', columns='userId', values='rating')\n"
      ]
    },
    {
      "cell_type": "markdown",
      "metadata": {
        "id": "4_RHVQbNvGKQ"
      },
      "source": [
        "## 2.2 Método Basado en Contenido [4 puntos]"
      ]
    },
    {
      "cell_type": "markdown",
      "metadata": {
        "id": "4rCGuXKI52RJ"
      },
      "source": [
        "Como primera tarea, Homero le pide centrarse en las características de las cervezas y no en la interacción de los ciudadanos con esta. Adicionalmente, Homero le quiere regalar un pack de distintas cervezas a Carl en agradecimiento a su ayuda anterior, el cual se enteró que Carl tiene un `userId = 100`. Por ende, Homero le pide las siguientes acciones:\n",
        "\n",
        "1. Cree un dataframe que contenga las características de las cervezas, excluyendo las evaluaciones de los ciudadanos. `Nota:` No considere valores duplicados. [1 punto]\n",
        "2. Implemente el método Bag of Words para procesar la columna `beerStyle`. Para ello, transforme las palabras a minúsculas, elimine stopwords en inglés y filtre las palabras que aparezcan en 10 documentos como mínimo. Guarde su resultado como un DataFrame. [1 punto].\n",
        "> `Nota:` Le puede ser útil esta [documentacion](https://scikit-learn.org/1.5/modules/generated/sklearn.feature_extraction.text.CountVectorizer.html) y el método `.get_feature_names_out()`.\n",
        "3. Cree una función que imprima las top 5 cervezas similares a `Chocolate Porter`, utilizando como medida de similitud la similitud coseno. [1 punto]\n",
        "4. Identifique la cerveza mejor evaluada por Carl (`userId = 100`) y obtenga las top 5 cervezas similares a esa cerveza. [1 punto]"
      ]
    },
    {
      "cell_type": "markdown",
      "metadata": {
        "id": "-cmVF_zATVdq"
      },
      "source": [
        "**Respuesta:**"
      ]
    },
    {
      "cell_type": "code",
      "execution_count": 23,
      "metadata": {
        "id": "sv3qlPfrTX9-"
      },
      "outputs": [],
      "source": [
        "#CODIGO AQUI\n",
        "beer2 = beer_df[['beerId', 'beerName', 'beerStyle']].drop_duplicates()"
      ]
    },
    {
      "cell_type": "code",
      "execution_count": 30,
      "metadata": {
        "id": "pgFjBKTBgM0q"
      },
      "outputs": [],
      "source": [
        "# Bag of words de beerStyle\n",
        "from sklearn.feature_extraction.text import CountVectorizer\n",
        "\n",
        "vectorizer = CountVectorizer(lowercase = True,\n",
        "                             min_df = 10, # mínimo 10 ocurrencias\n",
        "                             stop_words = 'english')\n",
        "bow = vectorizer.fit_transform(beer2['beerStyle']).toarray()\n",
        "words_beer = pd.DataFrame(bow, columns=vectorizer.get_feature_names_out())"
      ]
    },
    {
      "cell_type": "code",
      "execution_count": null,
      "metadata": {
        "colab": {
          "base_uri": "https://localhost:8080/"
        },
        "id": "Azfju8bEjKQ3",
        "outputId": "53217c3e-83cf-4045-ee44-58639c431a5c"
      },
      "outputs": [],
      "source": [
        "from sklearn.metrics.pairwise import cosine_similarity\n",
        "\n",
        "def similar_beers(df, beer_name):\n",
        "  df = df.reset_index()\n",
        "  assert beer_name in df['beerName'].values, 'Cerveza no encontrada:c'\n",
        "\n",
        "  vectorizer = CountVectorizer(lowercase=True, min_df=10, stop_words='english')\n",
        "  bow = vectorizer.fit_transform(df['beerStyle']).toarray()\n",
        "  wordsBeer = pd.DataFrame(bow, columns=vectorizer.get_feature_names_out())\n",
        "  cosine_sim = cosine_similarity(wordsBeer, words_beer)\n",
        "\n",
        "  idx = df[df['beerName'] == beer_name].index[0]\n",
        "\n",
        "  sim_scores = list(enumerate(cosine_sim[idx]))\n",
        "\n",
        "  # cervezas reordeandas según similitud a beer_name, solo primeras 5\n",
        "  sim_scores = sorted(sim_scores, key=lambda x: x[1], reverse=True)[1:6]\n",
        "  beer_ind = [i[0] for i in sim_scores]\n",
        "\n",
        "  return print('Recomendaciones de cervezas: ',\n",
        "               df['beerName'].iloc[beer_ind].to_list())\n",
        "\n",
        "similar_beers(beer2, 'Chocolate Porter')"
      ]
    },
    {
      "cell_type": "code",
      "execution_count": null,
      "metadata": {
        "colab": {
          "base_uri": "https://localhost:8080/",
          "height": 206
        },
        "id": "zB8EWzn1oLCb",
        "outputId": "08493c01-95b7-4e45-9ad4-e581b81104c2"
      },
      "outputs": [],
      "source": [
        "# Recomendaciones usando rating de Carl\n",
        "data_carl = beer_df.loc[(beer_df['userId']==100)]\n",
        "data_carl[data_carl.rating==data_carl.rating.max()].drop_duplicates()"
      ]
    },
    {
      "cell_type": "markdown",
      "metadata": {
        "id": "iBKCBfRIqVVj"
      },
      "source": [
        "Dado que se encontraron 5 cervezas con la máxima evaluación, solo consideraremos la primera para generar las 5 recomendaciones"
      ]
    },
    {
      "cell_type": "code",
      "execution_count": null,
      "metadata": {
        "colab": {
          "base_uri": "https://localhost:8080/"
        },
        "id": "JBWTC6QbnQFY",
        "outputId": "c5665dd2-1698-41dd-fadb-ddab396ce3e1"
      },
      "outputs": [],
      "source": [
        "# Cerveza mejor evaluada por Carl + 5 más similares a ella\n",
        "\n",
        "similar_beers(beer2, \"McNeill's Extra Special Bitter\")"
      ]
    },
    {
      "cell_type": "markdown",
      "metadata": {
        "id": "c7pMOOedwGQu"
      },
      "source": [
        "## 2.3 Filtros Colaborativos [16 puntos]"
      ]
    },
    {
      "cell_type": "markdown",
      "metadata": {
        "id": "P9tgPpoa_Utx"
      },
      "source": [
        "<!-- <center>\n",
        "<img src =\"https://i.makeagif.com/media/2-08-2016/McmGFQ.gif\" width = 400 /> -->"
      ]
    },
    {
      "cell_type": "markdown",
      "metadata": {
        "id": "DJeoHmbQA9uK"
      },
      "source": [
        "Después de consolidarse como el Barón de la Cerveza en Springfield, Homero Simpson decidió llevar su negocio clandestino a otro nivel. Al ser el único proveedor de alcohol en la ciudad, quiere asegurarse de que cada cerveza que elabora sea de la mejor calidad posible. Para lograrlo, planea usar las evaluaciones pasadas que los ciudadanos de Springfield han registrado sobre las distintas cervezas. Inspirado por los consejos de su amigo Moe, Homero se enteró de que puede implementar un sistema de recomendación basado en filtros colaborativos.\n",
        "\n",
        "Ahora, Homero necesita de su ayuda para diseñar y elaborar distintos sistemas de filtros colaborativos que le permitan continuar con su reinado cervecero."
      ]
    },
    {
      "cell_type": "markdown",
      "metadata": {
        "id": "oGCI_UeUwHcw"
      },
      "source": [
        "### 2.3.1 Filtros Colaborativos Basados en Memoria [8 puntos]"
      ]
    },
    {
      "cell_type": "markdown",
      "metadata": {
        "id": "pWnf00k4BdyC"
      },
      "source": [
        "Para este tipo de filtros, Homero le pide lo siguiente:\n",
        "\n",
        "1. Transforme el DataFrame de `pandas` a Dataset de `surprise`. `Hint`: Utilice solamente los identificadores de ciudadano, cerveza y rating. ¿Importa el orden? [1 punto]\n",
        "2. Genere un conjunto de entrenamiento y uno de prueba, asegurando que el 30% de los datos sea destinado al conjunto de prueba. No olvide fijar una semilla para garantizar reproducibilidad. [1 punto]\n",
        "3. Entrene un modelo de **KNN basado en usuarios** utilizando la `similitud coseno`. Luego realice predicciones en el conjunto de prueba. `Nota`: Le puede ser útil la siguiente [documentación](https://surprise.readthedocs.io/en/stable/knn_inspired.html) [2 puntos]\n",
        "4. Calcule el MAE (Mean Absolute Error) de las predicciones realizadas por el modelo y muestre las predicciones en un DataFrame para su análisis. `Nota:` Le puede ser útil la siguiente [documentación](https://surprise.readthedocs.io/en/stable/accuracy.html#surprise.accuracy.mae) [2 puntos]\n",
        "5. Repita los pasos 3 y 4 pero utilizando un modelo de **KNN basado en los productos**. [2 puntos]"
      ]
    },
    {
      "cell_type": "markdown",
      "metadata": {
        "id": "IBAY-wkNTfFu"
      },
      "source": [
        "**Respuesta:**"
      ]
    },
    {
      "cell_type": "code",
      "execution_count": 136,
      "metadata": {
        "id": "pwkiO8k6y5Ed"
      },
      "outputs": [],
      "source": [
        "from surprise import Reader, Dataset\n",
        "from surprise.model_selection import train_test_split\n",
        "from surprise import KNNBasic, NMF, SVD\n",
        "from surprise.accuracy import mae"
      ]
    },
    {
      "cell_type": "code",
      "execution_count": null,
      "metadata": {
        "colab": {
          "base_uri": "https://localhost:8080/"
        },
        "id": "M6GZBM2uTig4",
        "outputId": "cd53401d-9fc0-4779-d339-392cfd472c19"
      },
      "outputs": [],
      "source": [
        "reader = Reader(rating_scale = (1, 5)) # instanciamos reader, es importante definir la escala de los valores (ratings)\n",
        "\n",
        "# Surprise dataset\n",
        "df_surprise = Dataset.load_from_df(beer_df[['userId', 'beerId', 'rating']].copy(), reader)\n",
        "\n",
        "# Train Test dataset\n",
        "df_train, df_test = train_test_split(df_surprise, test_size = 0.3, random_state = 29)\n",
        "df_train"
      ]
    },
    {
      "cell_type": "code",
      "execution_count": null,
      "metadata": {
        "colab": {
          "base_uri": "https://localhost:8080/"
        },
        "collapsed": true,
        "id": "M3dv3eNrzl4t",
        "outputId": "f9ce1854-53fb-4983-bfcb-0a870cb35122"
      },
      "outputs": [],
      "source": [
        "modelo_user = KNNBasic(sim_options = {\"name\": \"cosine\", \"user_based\": True})\n",
        "modelo_user.fit(df_train)\n",
        "prediction_user = modelo_user.test(df_test)\n",
        "df_predict_user = pd.DataFrame(prediction_user)\n",
        "print('Modelo basado en usuarios')\n",
        "mae(prediction_user, verbose=True)"
      ]
    },
    {
      "cell_type": "code",
      "execution_count": null,
      "metadata": {
        "colab": {
          "base_uri": "https://localhost:8080/",
          "height": 460
        },
        "collapsed": true,
        "id": "QufJ3uXPzMMc",
        "outputId": "8aa2fe08-2129-40d7-b8b7-2f5f7da7aaaf"
      },
      "outputs": [],
      "source": [
        "modelo_prod = KNNBasic(sim_options = {\"name\": \"cosine\", \"user_based\": False})\n",
        "modelo_prod.fit(df_train)\n",
        "prediction_prod = modelo_prod.test(df_test)\n",
        "df_predict_prod = pd.DataFrame(prediction_prod)"
      ]
    },
    {
      "cell_type": "code",
      "execution_count": null,
      "metadata": {
        "colab": {
          "base_uri": "https://localhost:8080/"
        },
        "id": "LkxKznvv9iUs",
        "outputId": "0ce9a213-6201-4f8e-cb65-4d0abbb7e781"
      },
      "outputs": [],
      "source": [
        "print('Modelo basado en productos')\n",
        "mae(prediction_prod)"
      ]
    },
    {
      "cell_type": "markdown",
      "metadata": {
        "id": "rhYHlQYowqd_"
      },
      "source": [
        "### 2.3.2 Filtros Colaborativos Basados en Modelo [8 puntos]"
      ]
    },
    {
      "cell_type": "markdown",
      "metadata": {
        "id": "lLRjmyYDGgWq"
      },
      "source": [
        "Ahora Homero le pide que cambie el enfoque del tipo de filtro colaborativo a uno basado en modelo. Por ende, Homero le pide lo siguiente:\n",
        "\n",
        "1. Entrene un modelo `NMF` , asegurándose de fijar la semilla para reproducibilidad. Luego genere predicciones para el conjunto de prueba. [2 puntos]\n",
        "2. Calcule el MAE de las predicciones obtenidas y muestre los resultados de las predicciones en un DataFrame para su analisis. [1 punto]\n",
        "3. Entrene un modelo `SVD` sobre el conjunto de entrenamiento. Posteriormente, genere las predicciones para el conjunto de prueba. [2 puntos]\n",
        "4. Calcule el MAE de las predicciones y muestre los resultados de las predicciones en un DataFrame. [1 punto]\n",
        "5. Compare los resultados de ambos modelos y seleccione el mejor a su criterio. Justifique. [2 puntos]"
      ]
    },
    {
      "cell_type": "markdown",
      "metadata": {
        "id": "BkH_1GJiTk95"
      },
      "source": [
        "**Respuesta**"
      ]
    },
    {
      "cell_type": "code",
      "execution_count": null,
      "metadata": {
        "colab": {
          "base_uri": "https://localhost:8080/",
          "height": 460
        },
        "id": "DpZm03aUTmu-",
        "outputId": "a25e079d-1757-4b1a-8590-18ba25be20f8"
      },
      "outputs": [],
      "source": [
        "#CODIGO AQUI\n",
        "model_nmf = NMF(random_state = 29) # instanciamos modelo NMF (cambiar a modelo de preferencia)\n",
        "model_nmf.fit(df_train) # fit del modelo\n",
        "predict_nmf = model_nmf.test(df_test)\n",
        "df_pred_nmf = pd.DataFrame(predict_nmf)\n",
        "print('MAE de NMF predictions: ', mae(predict_nmf))\n",
        "df_pred_nmf"
      ]
    },
    {
      "cell_type": "code",
      "execution_count": null,
      "metadata": {
        "colab": {
          "base_uri": "https://localhost:8080/",
          "height": 460
        },
        "id": "iLXZAUQCDtbe",
        "outputId": "eb5f2912-6f9f-4475-e3c0-dfc2ee51ea52"
      },
      "outputs": [],
      "source": [
        "model_SVD = SVD(random_state = 29)\n",
        "model_SVD.fit(df_train)\n",
        "predict_SVD = model_SVD.test(df_test)\n",
        "df_pred_SVD = pd.DataFrame(predict_SVD)\n",
        "print('MAE de SVD predictions: ', mae(predict_SVD))\n",
        "df_pred_SVD"
      ]
    },
    {
      "cell_type": "markdown",
      "metadata": {
        "id": "oycd3GdvPfe_"
      },
      "source": [
        "Como el error absoluto promedio obtenido con SVD es menor, entonces se utilizarán sus predicciones para la sgte sección."
      ]
    },
    {
      "cell_type": "markdown",
      "metadata": {
        "id": "S-zlOMPdH5nT"
      },
      "source": [
        "## 2.4 El Mejor Filtro Colaborativo [7 puntos]"
      ]
    },
    {
      "cell_type": "markdown",
      "metadata": {
        "id": "PX4JsISWJ-fS"
      },
      "source": [
        "<!-- <center>\n",
        "<img src =\"https://media.giphy.com/media/citBl9yPwnUOs/giphy.gif\" width = 400 /> -->"
      ]
    },
    {
      "cell_type": "markdown",
      "metadata": {
        "id": "xOPZ5Q05NZej"
      },
      "source": [
        "Homero Simpson desea perfeccionar y extender su sistema de recomendaciones para cervezas en Springfield. En esta fase, busca implementar técnicas que le permitan no solo predecir las preferencias de los ciudadanos, sino también evaluar métricas que midan la eficacia de sus recomendaciones. Con el objetivo de recomendar las mejores K cervezas para usuarios específicos, Homero buscará comprender mejor cómo optimizar su sistema y satisfacer a sus clientes.\n",
        "\n",
        "Para ello, usted ayudará a Homero realizando las siguientes labores:"
      ]
    },
    {
      "cell_type": "markdown",
      "metadata": {
        "id": "WdUi4etiIDPY"
      },
      "source": [
        "1. Implemente la función `get_top_n()` que le permita extraer las `N` mejores cervezas recomendadas para cada ciudadano utilizando las predicciones generadas por el mejor modelo seleccionado en la sección anterior. Luego obtenga las `3` mejores cervezas recomendadas para Carl (`userId = 100`). `Hint`: Para cada ciudadano, elimine las predicciones duplicadas. [2 puntos]\n",
        "2. Realice predicciones de rating para 5 cervezas aleatorias no evaluadas por Carl, para estimar las calificaciones que Carl podría darles. [1 punto]\n",
        "3. Calcule los promedios de `precisión@k` y el `recall@k` para `k=10` y `threshold = 3.5`. Analice sus resultados. ¿Es un buen modelo? `Hint:` Utilice la función dada `precision_recall_at_k(...)`. [1 punto]\n",
        "4. Calcule la `precisión@k` y el `recall@k` para valores de `k` que varíen entre 3 y 25 con paso de 1 unidad. Luego, grafique los resultados y analice el comportamiento de las curvas de precisión y recall en función de `k`. [1 punto]\n",
        "5. Calcule la `precisión@k` y el `recall@k` para valores de `threshold` que varíen entre 3.0 y 4.5, con paso de 0.1. Luego, grafique los resultados y analice el comportamiento de las curvas de precisión y recall en función de `threshold`. [1 punto]\n",
        "6. Finalmente utilice el mejor modelo para estimar los ratings faltantes. Muestre sus resultados en una matriz (usuario, producto) sin valores nulos. [1 punto]\n",
        "\n"
      ]
    },
    {
      "cell_type": "code",
      "execution_count": null,
      "metadata": {
        "colab": {
          "base_uri": "https://localhost:8080/",
          "height": 183
        },
        "id": "J7AJXJL-POz8",
        "outputId": "83ee286e-7391-46f8-c2cd-8c3f21253893"
      },
      "outputs": [],
      "source": [
        "from collections import defaultdict\n",
        "\n",
        "def get_top_n(predictions, n):\n",
        "\n",
        "    top_n = defaultdict(list)\n",
        "    for uid, iid, true_r, est, _ in predictions:\n",
        "        top_n[uid].append((iid, est))\n",
        "\n",
        "    # Then sort the predictions for each user and retrieve the k highest ones.\n",
        "    for uid, user_ratings in top_n.items():\n",
        "        user_ratings.sort(key=lambda x: x[1], reverse=True)\n",
        "        top_n[uid] = user_ratings[:n]\n",
        "\n",
        "    return top_n\n",
        "\n",
        "get_top_n(predict_SVD, n=3)"
      ]
    },
    {
      "cell_type": "code",
      "execution_count": null,
      "metadata": {
        "id": "Lww1jglnPOu5"
      },
      "outputs": [],
      "source": []
    },
    {
      "cell_type": "code",
      "execution_count": null,
      "metadata": {
        "id": "OsV3CY1uxRig"
      },
      "outputs": [],
      "source": [
        "#NO MODIFICAR ESTA CELDA\n",
        "def precision_recall_at_k(predictions, k=10, threshold=3.5):\n",
        "\n",
        "    user_est_true = defaultdict(list)\n",
        "    for uid, _, true_r, est, _ in predictions:\n",
        "        user_est_true[uid].append((est, true_r))\n",
        "    precisions = dict()\n",
        "    recalls = dict()\n",
        "    for uid, user_ratings in user_est_true.items():\n",
        "        user_ratings.sort(key=lambda x: x[0], reverse=True)\n",
        "        n_rel = sum((true_r >= threshold) for (_, true_r) in user_ratings)\n",
        "        n_rec_k = sum((est >= threshold) for (est, _) in user_ratings[:k])\n",
        "        n_rel_and_rec_k = sum(\n",
        "            ((true_r >= threshold) and (est >= threshold))\n",
        "            for (est, true_r) in user_ratings[:k]\n",
        "        )\n",
        "        precisions[uid] = n_rel_and_rec_k / n_rec_k if n_rec_k != 0 else 0\n",
        "        recalls[uid] = n_rel_and_rec_k / n_rel if n_rel != 0 else 0\n",
        "    return precisions, recalls"
      ]
    },
    {
      "cell_type": "markdown",
      "metadata": {
        "id": "OUcwX6xfTyGB"
      },
      "source": [
        "**Respuesta:**"
      ]
    },
    {
      "cell_type": "code",
      "execution_count": null,
      "metadata": {
        "id": "ur-Tu9MPT0Gp"
      },
      "outputs": [],
      "source": [
        "#CODIGO AQUI"
      ]
    },
    {
      "cell_type": "markdown",
      "metadata": {
        "id": "VS418FVdIO97"
      },
      "source": [
        "# Conclusión\n",
        "Eso ha sido todo para el lab de hoy, recuerden que el laboratorio tiene un plazo de entrega de una semana. Cualquier duda del laboratorio, no duden en contactarnos por el foro de U-cursos o por correo.\n",
        "\n",
        "<!-- <center>\n",
        "<img src =\"https://i.gifer.com/origin/cb/cbd80e6045652ab123caffef72f29210_w200.gif\" width = 400 /> -->\n"
      ]
    }
  ],
  "metadata": {
    "colab": {
      "provenance": []
    },
    "kernelspec": {
      "display_name": ".venv",
      "language": "python",
      "name": "python3"
    },
    "language_info": {
      "codemirror_mode": {
        "name": "ipython",
        "version": 3
      },
      "file_extension": ".py",
      "mimetype": "text/x-python",
      "name": "python",
      "nbconvert_exporter": "python",
      "pygments_lexer": "ipython3",
      "version": "3.10.11"
    }
  },
  "nbformat": 4,
  "nbformat_minor": 0
}
