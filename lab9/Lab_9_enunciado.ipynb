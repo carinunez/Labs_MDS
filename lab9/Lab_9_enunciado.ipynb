{
 "cells": [
  {
   "cell_type": "markdown",
   "metadata": {
    "cell_id": "b5c0d2440b3e4995a794ded565213150",
    "deepnote_cell_type": "markdown",
    "id": "_Mql1uRoI5v5"
   },
   "source": [
    "<h1><center>Laboratorio 9: Optimización de modelos 💯</center></h1>\n",
    "\n",
    "<center><strong>MDS7202: Laboratorio de Programación Científica para Ciencia de Datos - Primavera 2024</strong></center>"
   ]
  },
  {
   "cell_type": "markdown",
   "metadata": {
    "cell_id": "bfb94b9656f145ad83e81b75d218cb70",
    "deepnote_cell_type": "markdown",
    "id": "FAPGIlEAI5v8"
   },
   "source": [
    "### **Cuerpo Docente:**\n",
    "\n",
    "- Profesores: Ignacio Meza, Sebastián Tinoco\n",
    "- Auxiliar: Eduardo Moya\n",
    "- Ayudantes: Nicolás Ojeda, Melanie Peña, Valentina Rojas"
   ]
  },
  {
   "cell_type": "markdown",
   "metadata": {
    "cell_id": "b1b537fdd27c43909a49d3476ce64d91",
    "deepnote_cell_type": "markdown",
    "id": "8NozgbkZI5v9"
   },
   "source": [
    "### Equipo: SUPER IMPORTANTE - notebooks sin nombre no serán revisados\n",
    "\n",
    "- Nombre de alumno 1: Carolina Nuñez\n",
    "- Nombre de alumno 2: Alonso Uribe\n"
   ]
  },
  {
   "cell_type": "markdown",
   "metadata": {
    "id": "DgFGQ4urEYkA"
   },
   "source": [
    "### **Link de repositorio de GitHub:** [Repositorio💻](https://github.com/carinunez/Labs_MDS/)"
   ]
  },
  {
   "cell_type": "markdown",
   "metadata": {
    "cell_id": "b7dbdd30ab544cb8a8afe00648a586ae",
    "deepnote_cell_type": "markdown",
    "id": "vHU9DI6wI5v9"
   },
   "source": [
    "### Temas a tratar\n",
    "\n",
    "- Predicción de demanda usando `xgboost`\n",
    "- Búsqueda del modelo óptimo de clasificación usando `optuna`\n",
    "- Uso de pipelines.\n",
    "\n",
    "### Reglas:\n",
    "\n",
    "- **Grupos de 2 personas**\n",
    "- Cualquier duda fuera del horario de clases al foro. Mensajes al equipo docente serán respondidos por este medio.\n",
    "- Prohibidas las copias.\n",
    "- Pueden usar cualquer matrial del curso que estimen conveniente.\n",
    "- Código que no se pueda ejecutar, no será revisado.\n",
    "\n",
    "### Objetivos principales del laboratorio\n",
    "\n",
    "- Optimizar modelos usando `optuna`\n",
    "- Recurrir a técnicas de *prunning*\n",
    "- Forzar el aprendizaje de relaciones entre variables mediante *constraints*\n",
    "- Fijar un pipeline con un modelo base que luego se irá optimizando.\n",
    "\n",
    "El laboratorio deberá ser desarrollado sin el uso indiscriminado de iteradores nativos de python (aka \"for\", \"while\"). La idea es que aprendan a exprimir al máximo las funciones optimizadas que nos entrega `pandas`, las cuales vale mencionar, son bastante más eficientes que los iteradores nativos sobre DataFrames."
   ]
  },
  {
   "cell_type": "markdown",
   "metadata": {
    "cell_id": "f1c73babb7f74af588a4fa6ae14829e0",
    "deepnote_cell_type": "markdown",
    "id": "U_-sNOuOI5v9"
   },
   "source": [
    "# Importamos librerias útiles"
   ]
  },
  {
   "cell_type": "code",
   "execution_count": null,
   "metadata": {
    "cell_id": "51afe4d2df42442b9e5402ffece60ead",
    "deepnote_cell_type": "code",
    "deepnote_to_be_reexecuted": false,
    "execution_millis": 4957,
    "execution_start": 1699544354044,
    "id": "ekHbM85NI5v9",
    "source_hash": null
   },
   "outputs": [],
   "source": [
    "!pip install -qq xgboost optuna"
   ]
  },
  {
   "cell_type": "markdown",
   "metadata": {
    "id": "y6hJXpLCSspz"
   },
   "source": [
    "# El emprendimiento de Fiu"
   ]
  },
  {
   "cell_type": "markdown",
   "metadata": {
    "cell_id": "44d227389a734ac59189c5e0005bc68a",
    "deepnote_cell_type": "markdown",
    "id": "b0bDalAOI5v-"
   },
   "source": [
    "Tras liderar de manera exitosa la implementación de un proyecto de ciencia de datos para caracterizar los datos generados en Santiago 2023, el misterioso corpóreo **Fiu** se anima y decide levantar su propio negocio de consultoría en machine learning. Tras varias e intensas negociaciones, Fiu logra encontrar su *primera chamba*: predecir la demanda (cantidad de venta) de una famosa productora de bebidas de calibre mundial. Al ver el gran potencial y talento que usted ha demostrado en el campo de la ciencia de datos, Fiu lo contrata como data scientist para que forme parte de su nuevo emprendimiento.\n",
    "\n",
    "Para este laboratorio deben trabajar con los datos `sales.csv` subidos a u-cursos, el cual contiene una muestra de ventas de la empresa para diferentes productos en un determinado tiempo.\n",
    "\n",
    "Para comenzar, cargue el dataset señalado y visualice a través de un `.head` los atributos que posee el dataset.\n",
    "\n",
    "<i><p align=\"center\">Fiu siendo felicitado por su excelente desempeño en el proyecto de caracterización de datos</p></i>\n",
    "<p align=\"center\">\n",
    "  <img src=\"https://media-front.elmostrador.cl/2023/09/A_UNO_1506411_2440e.jpg\">\n",
    "</p>"
   ]
  },
  {
   "cell_type": "code",
   "execution_count": null,
   "metadata": {
    "cell_id": "2f9c82d204b14515ad27ae07e0b77702",
    "colab": {
     "base_uri": "https://localhost:8080/",
     "height": 206
    },
    "deepnote_cell_type": "code",
    "deepnote_to_be_reexecuted": false,
    "execution_millis": 92,
    "execution_start": 1699544359006,
    "id": "QvMPOqHuI5v-",
    "outputId": "42eedc80-d339-4a0e-fd76-abff92b12bad",
    "source_hash": null
   },
   "outputs": [],
   "source": [
    "import pandas as pd\n",
    "import numpy as np\n",
    "from datetime import datetime\n",
    "\n",
    "df = pd.read_csv('sales.csv')\n",
    "\n",
    "df.head()"
   ]
  },
  {
   "cell_type": "markdown",
   "metadata": {
    "cell_id": "b50db6f2cb804932ae3f9e5748a6ea61",
    "deepnote_cell_type": "markdown",
    "id": "pk4ru76pI5v_"
   },
   "source": [
    "## 1 Generando un Baseline (5 puntos)\n",
    "\n",
    "<!-- <p align=\"center\">\n",
    "  <img src=\"https://media.tenor.com/O-lan6TkadUAAAAC/what-i-wnna-do-after-a-baseline.gif\">\n",
    "</p> -->\n",
    "\n",
    "Antes de entrenar un algoritmo, usted recuerda los apuntes de su magíster en ciencia de datos y recuerda que debe seguir una serie de *buenas prácticas* para entrenar correcta y debidamente su modelo. Después de un par de vueltas, llega a las siguientes tareas:\n",
    "\n",
    "1. Separe los datos en conjuntos de train (70%), validation (20%) y test (10%). Fije una semilla para controlar la aleatoriedad. [0.5 puntos]\n",
    "2. Implemente un `FunctionTransformer` para extraer el día, mes y año de la variable `date`. Guarde estas variables en el formato categorical de pandas. [1 punto]\n",
    "3. Implemente un `ColumnTransformer` para procesar de manera adecuada los datos numéricos y categóricos. Use `OneHotEncoder` para las variables categóricas. `Nota:` Utilice el método `.set_output(transform='pandas')` para obtener un DataFrame como salida del `ColumnTransformer` [1 punto]\n",
    "4. Guarde los pasos anteriores en un `Pipeline`, dejando como último paso el regresor `DummyRegressor` para generar predicciones en base a promedios. [0.5 punto]\n",
    "5. Entrene el pipeline anterior y reporte la métrica `mean_absolute_error` sobre los datos de validación. ¿Cómo se interpreta esta métrica para el contexto del negocio? [0.5 puntos]\n",
    "6. Finalmente, vuelva a entrenar el `Pipeline` pero esta vez usando `XGBRegressor` como modelo **utilizando los parámetros por default**. ¿Cómo cambia el MAE al implementar este algoritmo? ¿Es mejor o peor que el `DummyRegressor`? [1 punto]\n",
    "7. Guarde ambos modelos en un archivo .pkl (uno cada uno) [0.5 puntos]"
   ]
  },
  {
   "cell_type": "code",
   "execution_count": null,
   "metadata": {
    "id": "Fw3Z6JU0MQQt"
   },
   "outputs": [],
   "source": [
    "from sklearn import set_config\n",
    "set_config(transform_output=\"pandas\")\n",
    "\n",
    "from sklearn.model_selection import train_test_split\n",
    "from  sklearn.preprocessing import FunctionTransformer, OneHotEncoder, MinMaxScaler\n",
    "from sklearn.compose import ColumnTransformer\n",
    "from sklearn.pipeline import Pipeline\n",
    "from sklearn.dummy import DummyRegressor\n",
    "from sklearn.metrics import mean_absolute_error\n",
    "from xgboost import XGBRegressor"
   ]
  },
  {
   "cell_type": "code",
   "execution_count": null,
   "metadata": {
    "cell_id": "1482c992d9494e5582b23dbd3431dbfd",
    "deepnote_cell_type": "code",
    "id": "sfnN7HubI5v_"
   },
   "outputs": [],
   "source": [
    "X = df.drop(columns='quantity')\n",
    "y = df.quantity\n",
    "X_train_val, X_test, y_train, y_test= train_test_split(X, y,  train_size=0.9, test_size=0.1, random_state=29)\n",
    "X_train, X_val, y_train, y_val = train_test_split(X_train_val, y_train, train_size=0.7, test_size=0.2, random_state=29)"
   ]
  },
  {
   "cell_type": "code",
   "execution_count": null,
   "metadata": {
    "id": "bp2XgraUDK22"
   },
   "outputs": [],
   "source": [
    "def extract_from_date(df):\n",
    "  # Le entrego una pd.series a la funcion\n",
    "  df['day'] = df.date.apply(lambda x: x.split('/')[0]).astype('category')\n",
    "  df['month'] = df.date.apply(lambda x: x.split('/')[1]).astype('category')\n",
    "  df['year'] = df.date. apply(lambda x: x.split('/')[2]).astype('category')\n",
    "  return df\n",
    "\n",
    "fxn_transf = FunctionTransformer(extract_from_date)\n",
    "# df = fxn_transf.fit_transform(df)"
   ]
  },
  {
   "cell_type": "code",
   "execution_count": null,
   "metadata": {
    "id": "wevKtyDYM9fS"
   },
   "outputs": [],
   "source": [
    "numerical_cols = (df.drop(columns=['id', 'quantity']).select_dtypes('number').columns.to_list())\n",
    "cat_cols = (df.drop(columns=['id', 'quantity', 'date']).select_dtypes(exclude='number').columns.to_list()) +['day', 'month', 'year']\n",
    "# print('Num cols:', numerical_cols)\n",
    "# print('Cat cols:',cat_cols)"
   ]
  },
  {
   "cell_type": "code",
   "execution_count": null,
   "metadata": {
    "colab": {
     "base_uri": "https://localhost:8080/",
     "height": 135
    },
    "id": "7F1_T27IGkVU",
    "outputId": "3a46210d-9e36-4669-a839-14f8a8f51dd2"
   },
   "outputs": [],
   "source": [
    "one_hot = OneHotEncoder(sparse_output=False)\n",
    "col_tr = ColumnTransformer([\n",
    "                            # ('mantener_id','passthrough', ['id']),\n",
    "                            ('drop_date','drop', ['id','date']),\n",
    "                            ('num_cols', MinMaxScaler(), numerical_cols),\n",
    "                            ('cat_cols', one_hot, cat_cols)],\n",
    "                           remainder=\"passthrough\",\n",
    "                           verbose_feature_names_out=False)\n",
    "col_tr.set_output(transform='pandas')"
   ]
  },
  {
   "cell_type": "code",
   "execution_count": null,
   "metadata": {
    "colab": {
     "base_uri": "https://localhost:8080/"
    },
    "id": "8esuQy7RXz2K",
    "outputId": "9200c80c-f4b7-4e0b-a313-bf4c5b7b5245"
   },
   "outputs": [],
   "source": [
    "pipe_dummy = Pipeline([\n",
    "                ('extract_date', FunctionTransformer(extract_from_date)),\n",
    "                ('col_transformation', col_tr),\n",
    "                ('dummy', DummyRegressor(strategy='mean'))])\n",
    "pipe_dummy.fit(X_train, y_train)\n",
    "y_val_pred = pipe_dummy.predict(X_val)\n",
    "print('MAE :', mean_absolute_error(y_val, y_val_pred))"
   ]
  },
  {
   "cell_type": "markdown",
   "metadata": {
    "id": "Vo7YNf98uBJ2"
   },
   "source": [
    "El MAE obtenido es alto, por lo que se podría estar sobreestimando considerablemente la demanda."
   ]
  },
  {
   "cell_type": "code",
   "execution_count": null,
   "metadata": {
    "colab": {
     "base_uri": "https://localhost:8080/"
    },
    "id": "oHgvVUvxlqZn",
    "outputId": "de5ce71a-8bd8-499e-b209-98e27909cb9e"
   },
   "outputs": [],
   "source": [
    "pipe_xgb = Pipeline([\n",
    "                ('extract_date', FunctionTransformer(extract_from_date)),\n",
    "                ('col_transformation', col_tr),\n",
    "                ('xgb_reg', XGBRegressor(enable_categorical=True))])\n",
    "pipe_xgb.fit(X_train, y_train)\n",
    "y_val_pred = pipe_xgb.predict(X_val)\n",
    "print('MAE :', mean_absolute_error(y_val, y_val_pred))"
   ]
  },
  {
   "cell_type": "markdown",
   "metadata": {
    "id": "RO5zz-jvtE5e"
   },
   "source": [
    "El MAE obtenido usando XGBRegressor es considerablemente menor por lo que este permitiría predecir de mejor manera la demanda que al utilizar DummyRegressor."
   ]
  },
  {
   "cell_type": "code",
   "execution_count": null,
   "metadata": {
    "id": "Mj9GS-Qvs8eQ"
   },
   "outputs": [],
   "source": [
    "import pickle\n",
    "\n",
    "dummy_pkl = \"dummy_model.pkl\"\n",
    "xgb_pkl = \"xgb_model.pkl\"\n",
    "\n",
    "with open(dummy_pkl, 'wb') as file:\n",
    "    pickle.dump(pipe_dummy, file)\n",
    "\n",
    "with open(xgb_pkl, 'wb') as file:\n",
    "    pickle.dump(pipe_xgb, file)"
   ]
  },
  {
   "cell_type": "markdown",
   "metadata": {
    "cell_id": "7e17e46063774ec28226fe300d42ffe0",
    "deepnote_cell_type": "markdown",
    "id": "wnyMINdKI5v_"
   },
   "source": [
    "## 2. Forzando relaciones entre parámetros con XGBoost (10 puntos)\n",
    "\n",
    "<p align=\"center\">\n",
    "  <img src=\"https://64.media.tumblr.com/14cc45f9610a6ee341a45fd0d68f4dde/20d11b36022bca7b-bf/s640x960/67ab1db12ff73a530f649ac455c000945d99c0d6.gif\">\n",
    "</p>\n",
    "\n",
    "Un colega aficionado a la economía le *sopla* que la demanda guarda una relación inversa con el precio del producto. Motivado para impresionar al querido corpóreo, se propone hacer uso de esta información para mejorar su modelo realizando las siguientes tareas:\n",
    "\n",
    "1. Vuelva a entrenar el `Pipeline` con `XGBRegressor`, pero esta vez forzando una relación monótona negativa entre el precio y la cantidad. Para aplicar esta restricción apóyese en la siguiente <a href = https://xgboost.readthedocs.io/en/stable/tutorials/monotonic.html>documentación</a>. [6 puntos]\n",
    "\n",
    ">Hint 1: Para implementar el constraint se le sugiere hacerlo especificando el nombre de la variable. De ser así, probablemente le sea útil **mantener el formato de pandas** antes del step de entrenamiento.\n",
    "\n",
    ">Hint 2: Puede obtener el nombre de las columnas en el paso anterior al modelo regresor mediante el método `.get_feature_names_out()`\n",
    "\n",
    "2. Luego, vuelva a reportar el `MAE` sobre el conjunto de validación. [1 puntos]\n",
    "\n",
    "3. ¿Cómo cambia el error al incluir esta relación? ¿Tenía razón su amigo? [2 puntos]\n",
    "\n",
    "4. Guarde su modelo en un archivo .pkl [1 punto]"
   ]
  },
  {
   "cell_type": "code",
   "execution_count": null,
   "metadata": {
    "cell_id": "f469f3b572be434191d2d5c3f11b20d2",
    "colab": {
     "base_uri": "https://localhost:8080/"
    },
    "deepnote_cell_type": "code",
    "id": "B7tMnkiAI5v_",
    "outputId": "f692b4dc-1d7a-4574-a9ea-27512612e3f3"
   },
   "outputs": [],
   "source": [
    "pipe_xgb_neg = Pipeline([\n",
    "                ('extract_date', FunctionTransformer(extract_from_date)),\n",
    "                ('col_tr', col_tr),\n",
    "                ('xgb_reg', XGBRegressor(enable_categorical=True,\n",
    "                                         monotone_constraints={'price':-1}\n",
    "                                         ))\n",
    "                ])\n",
    "\n",
    "# pipe_xgb_neg.set_params(xgb_reg__monotone_constraints={'price':-1})\n",
    "pipe_xgb_neg.fit(X_train, y_train)\n",
    "y_val_pred = pipe_xgb_neg.predict(X_val)\n",
    "print('MAE :', mean_absolute_error(y_val, y_val_pred))\n",
    "\n",
    "xgb_neg_pkl = \"xgb_neg_model.pkl\"\n",
    "with open(xgb_neg_pkl, 'wb') as file:\n",
    "    pickle.dump(pipe_xgb_neg, file)"
   ]
  },
  {
   "cell_type": "code",
   "execution_count": null,
   "metadata": {
    "id": "heaVTcKkAZ56"
   },
   "outputs": [],
   "source": [
    "# pipe_xgb_neg.get_params()"
   ]
  },
  {
   "cell_type": "markdown",
   "metadata": {
    "id": "jtBjdMKMdLnv"
   },
   "source": [
    "El error aumentó por lo que incluir esta restricción, no sería buena idea."
   ]
  },
  {
   "cell_type": "code",
   "execution_count": null,
   "metadata": {
    "id": "QXSR2HsFYiBE"
   },
   "outputs": [],
   "source": [
    "feature_names = pipe_xgb_neg.named_steps['col_tr'].get_feature_names_out()\n",
    "# print(len(feature_names))"
   ]
  },
  {
   "cell_type": "markdown",
   "metadata": {
    "id": "OQpnwcla2UdV"
   },
   "source": [
    "Al incluir esta relación, se logra disminuir ligeramente el MAE"
   ]
  },
  {
   "cell_type": "markdown",
   "metadata": {
    "cell_id": "e59ef80ed20b4de8921f24da74e87374",
    "deepnote_cell_type": "markdown",
    "id": "5D5-tX4dI5v_"
   },
   "source": [
    "## 1.3 Optimización de Hiperparámetros con Optuna (20 puntos)\n",
    "\n",
    "\n",
    "Luego de presentarle sus resultados, Fiu le pregunta si es posible mejorar *aun más* su modelo. En particular, le comenta de la optimización de hiperparámetros con metodologías bayesianas a través del paquete `optuna`. Como usted es un aficionado al entrenamiento de modelos de ML, se propone implementar la descabellada idea de su jefe.\n",
    "\n",
    "A partir de la mejor configuración obtenida en la sección anterior, utilice `optuna` para optimizar sus hiperparámetros. En particular, se pide que su optimización considere lo siguiente:\n",
    "\n",
    "- Fijar una semilla en las instancias necesarias para garantizar la reproducibilidad de resultados\n",
    "- Utilice `TPESampler` como método de muestreo\n",
    "- De `XGBRegressor`, optimice los siguientes hiperparámetros:\n",
    "    - `learning_rate` buscando valores flotantes en el rango (0.001, 0.1)\n",
    "    - `n_estimators` buscando valores enteros en el rango (50, 1000)\n",
    "    - `max_depth` buscando valores enteros en el rango (3, 10)\n",
    "    - `max_leaves` buscando valores enteros en el rango (0, 100)\n",
    "    - `min_child_weight` buscando valores enteros en el rango (1, 5)\n",
    "    - `reg_alpha` buscando valores flotantes en el rango (0, 1)\n",
    "    - `reg_lambda` buscando valores flotantes en el rango (0, 1)\n",
    "- De `OneHotEncoder`, optimice el hiperparámetro `min_frequency` buscando el mejor valor flotante en el rango (0.0, 1.0)\n",
    "\n",
    "Para ello se pide los siguientes pasos:\n",
    "1. Implemente una función `objective()` que permita minimizar el `MAE` en el conjunto de validación. Use el método `.set_user_attr()` para almacenar el mejor pipeline entrenado. [10 puntos]\n",
    "2. Fije el tiempo de entrenamiento a 5 minutos. [1 punto]\n",
    "3. Optimizar el modelo y reportar el número de *trials*, el `MAE` y los mejores hiperparámetros encontrados. ¿Cómo cambian sus resultados con respecto a la sección anterior? ¿A qué se puede deber esto? [3 puntos]\n",
    "4. Explique cada hiperparámetro y su rol en el modelo. ¿Hacen sentido los rangos de optimización indicados? [5 puntos]\n",
    "5. Guardar su modelo en un archivo .pkl [1 punto]"
   ]
  },
  {
   "cell_type": "code",
   "execution_count": null,
   "metadata": {
    "cell_id": "de5914621cc64cb0b1bacb9ff565a97e",
    "deepnote_cell_type": "code",
    "id": "kMXXi1ckI5v_"
   },
   "outputs": [],
   "source": [
    "import optuna\n",
    "from optuna.samplers import TPESampler\n",
    "optuna.logging.set_verbosity(optuna.logging.WARNING)\n",
    "\n",
    "def objective(trial):\n",
    "    trial.set_user_attr(\"best_model\", 128)\n",
    "    monotone_constraints_str = \"(\" + \",\".join([\"-1\" if col == 'price' else \"0\" for col in X_val.columns]) + \")\"\n",
    "\n",
    "    pipe_xgb_neg.set_params(\n",
    "        col_transformation__cat_cols__min_frequency=trial.suggest_float(\"min_frequency\", 0.0, 1.0),\n",
    "        xgb_reg__learning_rate = trial.suggest_float(\"learning_rate\", 0.001, 0.1),\n",
    "        xgb_reg__n_estimators = trial.suggest_int(\"n_estimators\", 50, 1000),\n",
    "        xgb_reg__max_depth = trial.suggest_int(\"max_depth\", 3, 10),\n",
    "        xgb_reg__max_leaves = trial.suggest_int(\"max_leaves\", 0, 100),\n",
    "        xgb_reg__min_child_weight = trial.suggest_int(\"min_child_weight\", 1, 5),\n",
    "        xgb_reg__reg_alpha = trial.suggest_float(\"reg_alpha\", 0.0, 1.0),\n",
    "        xgb_reg__reg_lambda = trial.suggest_float(\"reg_lambda\", 0.0, 1.0),\n",
    "        xgb_reg__monotone_constraints=monotone_constraints_str\n",
    "        )\n",
    "\n",
    "    # Predict and evaluate the model\n",
    "    y_pred = pipe_xgb_neg.predict(X_val)\n",
    "    return mean_absolute_error(y_val, y_pred)"
   ]
  },
  {
   "cell_type": "code",
   "execution_count": null,
   "metadata": {
    "id": "XF9rOB698zbU"
   },
   "outputs": [],
   "source": [
    "study = optuna.create_study(sampler=TPESampler(), direction=\"minimize\")"
   ]
  },
  {
   "cell_type": "code",
   "execution_count": null,
   "metadata": {
    "id": "-q5npExAFTHp"
   },
   "outputs": [],
   "source": [
    "study.optimize(objective, n_trials=50)"
   ]
  },
  {
   "cell_type": "code",
   "execution_count": null,
   "metadata": {
    "colab": {
     "base_uri": "https://localhost:8080/"
    },
    "id": "5gMcES63iNd9",
    "outputId": "7c5b716e-29fb-4f99-ce08-8cb819b962d6"
   },
   "outputs": [],
   "source": [
    "print('Menor MAE: ', study.best_value)\n",
    "print('Mejores params: ', study.best_params)"
   ]
  },
  {
   "cell_type": "markdown",
   "metadata": {
    "cell_id": "5195ccfc37e044ad9453f6eb2754f631",
    "deepnote_cell_type": "markdown",
    "id": "ZglyD_QWI5wA"
   },
   "source": [
    "## 4. Optimización de Hiperparámetros con Optuna y Prunners (17 puntos)\n",
    "\n",
    "<p align=\"center\">\n",
    "  <img src=\"https://i.pinimg.com/originals/90/16/f9/9016f919c2259f3d0e8fe465049638a7.gif\">\n",
    "</p>\n",
    "\n",
    "Después de optimizar el rendimiento de su modelo varias veces, Fiu le pregunta si no es posible optimizar el entrenamiento del modelo en sí mismo. Después de leer un par de post de personas de dudosa reputación en la *deepweb*, usted llega a la conclusión que puede cumplir este objetivo mediante la implementación de **Prunning**.\n",
    "\n",
    "Vuelva a optimizar los mismos hiperparámetros que la sección pasada, pero esta vez utilizando **Prunning** en la optimización. En particular, usted debe:\n",
    "\n",
    "- Responder: ¿Qué es prunning? ¿De qué forma debería impactar en el entrenamiento? [2 puntos]\n",
    "- Redefinir la función `objective()` utilizando `optuna.integration.XGBoostPruningCallback` como método de **Prunning** [10 puntos]\n",
    "- Fijar nuevamente el tiempo de entrenamiento a 5 minutos [1 punto]\n",
    "- Reportar el número de *trials*, el `MAE` y los mejores hiperparámetros encontrados. ¿Cómo cambian sus resultados con respecto a la sección anterior? ¿A qué se puede deber esto? [3 puntos]\n",
    "- Guardar su modelo en un archivo .pkl [1 punto]\n",
    "\n",
    "Nota: Si quieren silenciar los prints obtenidos en el prunning, pueden hacerlo mediante el siguiente comando:\n",
    "\n",
    "```\n",
    "optuna.logging.set_verbosity(optuna.logging.WARNING)\n",
    "```\n",
    "\n",
    "De implementar la opción anterior, pueden especificar `show_progress_bar = True` en el método `optimize` para *más sabor*.\n",
    "\n",
    "Hint: Si quieren especificar parámetros del método .fit() del modelo a través del pipeline, pueden hacerlo por medio de la siguiente sintaxis: `pipeline.fit(stepmodelo__parametro = valor)`\n",
    "\n",
    "Hint2: Este <a href = https://stackoverflow.com/questions/40329576/sklearn-pass-fit-parameters-to-xgboost-in-pipeline>enlace</a> les puede ser de ayuda en su implementación"
   ]
  },
  {
   "cell_type": "code",
   "execution_count": null,
   "metadata": {
    "id": "_bFDkkyjEYkH"
   },
   "outputs": [],
   "source": [
    "#!pip install optuna-integration[xgboost]"
   ]
  },
  {
   "cell_type": "code",
   "execution_count": null,
   "metadata": {
    "cell_id": "eeaa967cd8f6426d8c54f276c17dce79",
    "deepnote_cell_type": "code",
    "id": "sST6Wtj5I5wA"
   },
   "outputs": [],
   "source": [
    "# Inserte su código acá"
   ]
  },
  {
   "cell_type": "markdown",
   "metadata": {
    "cell_id": "8a081778cc704fc6bed05393a5419327",
    "deepnote_cell_type": "markdown",
    "id": "ZMiiVaCUI5wA"
   },
   "source": [
    "## 5. Visualizaciones (5 puntos)\n",
    "\n",
    "<p align=\"center\">\n",
    "  <img src=\"https://media.tenor.com/F-LgB1xTebEAAAAd/look-at-this-graph-nickelback.gif\">\n",
    "</p>\n",
    "\n",
    "\n",
    "Satisfecho con su trabajo, Fiu le pregunta si es posible generar visualizaciones que permitan entender el entrenamiento de su modelo.\n",
    "\n",
    "A partir del siguiente <a href = https://optuna.readthedocs.io/en/stable/tutorial/10_key_features/005_visualization.html#visualization>enlace</a>, genere las siguientes visualizaciones:\n",
    "\n",
    "1. Gráfico de historial de optimización [1 punto]\n",
    "2. Gráfico de coordenadas paralelas [1 punto]\n",
    "3. Gráfico de importancia de hiperparámetros [1 punto]\n",
    "\n",
    "Comente sus resultados:\n",
    "\n",
    "4. ¿Desde qué *trial* se empiezan a observar mejoras notables en sus resultados? [0.5 puntos]\n",
    "5. ¿Qué tendencias puede observar a partir del gráfico de coordenadas paralelas? [1 punto]\n",
    "6. ¿Cuáles son los hiperparámetros con mayor importancia para la optimización de su modelo? [0.5 puntos]"
   ]
  },
  {
   "cell_type": "code",
   "execution_count": null,
   "metadata": {
    "cell_id": "0e706dc9a8d946eda7a9eb1f0463c6d7",
    "deepnote_cell_type": "code",
    "id": "xjxAEENAI5wA"
   },
   "outputs": [],
   "source": [
    "# Inserte su código acá"
   ]
  },
  {
   "cell_type": "markdown",
   "metadata": {
    "cell_id": "ac8a20f445d045a3becf1a518d410a7d",
    "deepnote_cell_type": "markdown",
    "id": "EoW32TA9I5wA"
   },
   "source": [
    "## 6. Síntesis de resultados (3 puntos)\n",
    "\n",
    "Finalmente:\n",
    "\n",
    "1. Genere una tabla resumen del MAE en el conjunto de validación obtenido en los 5 modelos entrenados desde Baseline hasta XGBoost con Constraints, Optuna y Prunning. [1 punto]\n",
    "2. Compare los resultados de la tabla y responda, ¿qué modelo obtiene el mejor rendimiento? [0.5 puntos]\n",
    "3. Cargue el mejor modelo, prediga sobre el conjunto de **test** y reporte su MAE. [0.5 puntos]\n",
    "4. ¿Existen diferencias con respecto a las métricas obtenidas en el conjunto de validación? ¿Porqué puede ocurrir esto? [1 punto]"
   ]
  },
  {
   "cell_type": "code",
   "execution_count": null,
   "metadata": {
    "id": "jq5C6cDnJg9h"
   },
   "outputs": [],
   "source": [
    "# Inserte su código acá"
   ]
  },
  {
   "cell_type": "markdown",
   "metadata": {
    "cell_id": "5c4654d12037494fbd385b4dc6bd1059",
    "deepnote_cell_type": "markdown",
    "id": "E_19tgBEI5wA"
   },
   "source": [
    "# Conclusión\n",
    "Eso ha sido todo para el lab de hoy, recuerden que el laboratorio tiene un plazo de entrega de una semana. Cualquier duda del laboratorio, no duden en contactarnos por mail o U-cursos.\n",
    "\n",
    "<p align=\"center\">\n",
    "  <img src=\"https://media.tenor.com/8CT1AXElF_cAAAAC/gojo-satoru.gif\">\n",
    "</p>"
   ]
  },
  {
   "cell_type": "markdown",
   "metadata": {
    "cell_id": "5025de06759f4903a26916c80323bf25",
    "deepnote_cell_type": "markdown",
    "id": "Kq2cFix1I5wA"
   },
   "source": []
  },
  {
   "cell_type": "markdown",
   "metadata": {
    "created_in_deepnote_cell": true,
    "deepnote_cell_type": "markdown",
    "id": "rAp9UxwiI5wA"
   },
   "source": [
    "<a style='text-decoration:none;line-height:16px;display:flex;color:#5B5B62;padding:10px;justify-content:end;' href='https://deepnote.com?utm_source=created-in-deepnote-cell&projectId=87110296-876e-426f-b91d-aaf681223468' target=\"_blank\">\n",
    "<img alt='Created in deepnote.com' style='display:inline;max-height:16px;margin:0px;margin-right:7.5px;' src='data:image/svg+xml;base64,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' > </img>\n",
    "Created in <span style='font-weight:600;margin-left:4px;'>Deepnote</span></a>"
   ]
  }
 ],
 "metadata": {
  "colab": {
   "provenance": []
  },
  "deepnote": {},
  "deepnote_execution_queue": [],
  "deepnote_notebook_id": "f63d38450a6b464c9bb6385cf11db4d9",
  "deepnote_persisted_session": {
   "createdAt": "2023-11-09T16:18:30.203Z"
  },
  "kernelspec": {
   "display_name": "base",
   "language": "python",
   "name": "python3"
  },
  "language_info": {
   "codemirror_mode": {
    "name": "ipython",
    "version": 3
   },
   "file_extension": ".py",
   "mimetype": "text/x-python",
   "name": "python",
   "nbconvert_exporter": "python",
   "pygments_lexer": "ipython3",
   "version": "3.10.9"
  }
 },
 "nbformat": 4,
 "nbformat_minor": 0
}
