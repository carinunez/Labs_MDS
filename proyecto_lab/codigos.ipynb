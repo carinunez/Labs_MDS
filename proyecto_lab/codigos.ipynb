{
 "cells": [
  {
   "cell_type": "code",
   "execution_count": 1,
   "metadata": {
    "id": "cZxCau25tFdr"
   },
   "outputs": [],
   "source": [
    "import datetime\n",
    "import numpy as np\n",
    "import pandas as pd\n",
    "import seaborn as sns\n",
    "import scipy.stats as stats\n",
    "import matplotlib.pyplot as plt\n",
    "import plotly.graph_objects as go\n",
    "from plotly.subplots import make_subplots\n",
    "from collections import defaultdict\n",
    "from sklearn.pipeline import Pipeline\n",
    "from sklearn.compose import ColumnTransformer\n",
    "from sklearn.preprocessing import StandardScaler, MinMaxScaler, FunctionTransformer\n",
    "from sklearn.impute import SimpleImputer\n",
    "\n",
    "\n",
    "maxcols = pd.get_option(\"display.max_columns\")\n",
    "pd.set_option(\"display.max_columns\", None)"
   ]
  },
  {
   "cell_type": "code",
   "execution_count": 2,
   "metadata": {
    "id": "mkM2W7ZYtFdv"
   },
   "outputs": [],
   "source": [
    "# para entrenar\n",
    "X_t0 = pd.read_parquet('X_t0.parquet')\n",
    "y_t0 = pd.read_parquet('y_t0.parquet')\n",
    "# para predecir(?)\n",
    "X_t1 = pd.read_parquet('X_t1.parquet')\n",
    "X_t0 = X_t0[sorted(X_t0.columns)]\n",
    "X_t1 = X_t1[sorted(X_t1.columns)]\n",
    "\n",
    "X = X_t0.copy()\n",
    "y = y_t0.copy()"
   ]
  },
  {
   "cell_type": "markdown",
   "metadata": {
    "id": "gFpmcp22tFdw"
   },
   "source": [
    "# Entrega 1"
   ]
  },
  {
   "cell_type": "code",
   "execution_count": 3,
   "metadata": {
    "id": "Nqm9-82VtFdy"
   },
   "outputs": [],
   "source": [
    "from sklearn.base import BaseEstimator, TransformerMixin\n",
    "\n",
    "# Calcula el número de prestamos por wallet_address\n",
    "class borrow_times(BaseEstimator, TransformerMixin):\n",
    "    def __init__(self):\n",
    "        self.borrow_per_cli = None\n",
    "\n",
    "    def fit(self, X, y=None):\n",
    "        data = X.copy()\n",
    "        object_var = data.select_dtypes(include='object').columns.to_list()\n",
    "        vars = object_var + ['borrow_timestamp']\n",
    "\n",
    "        self.borrow_per_cli = data[vars].groupby(*object_var).count()\n",
    "        self.borrow_per_cli.rename(columns={'borrow_timestamp': 'borrow_times'}, inplace=True)\n",
    "        self.borrow_per_cli.reset_index(inplace=True)\n",
    "        return self\n",
    "\n",
    "    def transform(self, X, y=None):\n",
    "        data = X.copy()\n",
    "        new_X = pd.merge(data, self.borrow_per_cli, on='wallet_address', how='left').fillna(0)\n",
    "        new_X = new_X.sort_index(axis=1)\n",
    "        return new_X\n",
    "\n",
    "    def set_output(self,transform='default'):\n",
    "        #No modificar este método\n",
    "        return self\n",
    "\n",
    "# Se calcula tiempo entre las_tx_timestamp y first_tx_timestamp = ts_diff_tx,\n",
    "# Renombra 'risky_first_last_tx_timestamp_diff':'ts_diff_risky_tx'}\n",
    "# Elimina las_tx_timestamp y first_tx_timestamp\n",
    "\n",
    "class tx_diff(BaseEstimator, TransformerMixin):\n",
    "    def __init__(self):\n",
    "        self.ts_diff_tx = None\n",
    "\n",
    "    def fit(self, X, y=None):\n",
    "        data = X.copy()\n",
    "        self.data = data\n",
    "        return self\n",
    "\n",
    "    def transform(self, X, y=None):\n",
    "        data = X.copy()\n",
    "        data['ts_diff_tx'] = data['last_tx_timestamp'] - data['first_tx_timestamp']\n",
    "        data.rename(columns={'risky_first_last_tx_timestamp_diff':'ts_diff_risky_tx'}, inplace=True)\n",
    "        data.drop(columns=['last_tx_timestamp',\n",
    "                           'first_tx_timestamp',\n",
    "                           'risky_last_tx_timestamp',\n",
    "                           'risky_first_tx_timestamp',\n",
    "                        #    'borrow_timestamp'\n",
    "                           ], inplace=True)\n",
    "\n",
    "        new_data = data.sort_index(axis=1)\n",
    "        return new_data\n",
    "\n",
    "    def set_output(self,transform='default'):\n",
    "        return self\n",
    "\n",
    "class search_binary(BaseEstimator, TransformerMixin):\n",
    "    def __init__(self):\n",
    "        self.binary_cols = []\n",
    "\n",
    "    def fit(self, X, y=None):\n",
    "        data = X.copy()\n",
    "        for col in data.columns:\n",
    "            diff_values = len(data[col].value_counts())\n",
    "            is_binary = diff_values == 2\n",
    "            if is_binary:\n",
    "                self.binary_cols.append(col)\n",
    "        return self\n",
    "\n",
    "    def transform(self, X, y=None):\n",
    "        data = X.copy()\n",
    "        if self.binary_cols:\n",
    "            binary_col = self.binary_cols[0] if isinstance(self.binary_cols, list) else self.binary_cols\n",
    "            data[binary_col] = data[binary_col].astype('category')\n",
    "        return data\n",
    "\n",
    "    def set_output(self, transform='default'):\n",
    "        return self"
   ]
  },
  {
   "cell_type": "code",
   "execution_count": 4,
   "metadata": {
    "id": "4O0dwP9UtFd0"
   },
   "outputs": [],
   "source": [
    "class time_tranf(BaseEstimator, TransformerMixin):\n",
    "    def __init__(self):\n",
    "        self.time_cols = []\n",
    "\n",
    "    def fit(self, X, y=None):\n",
    "        data = X.copy()\n",
    "        tcols = [col for col in data.columns if \"timestamp\" in col]\n",
    "        self.time_cols = tcols\n",
    "        return self\n",
    "\n",
    "    def transform(self, X, y=None):\n",
    "        data = X.copy()\n",
    "        for col in self.time_cols:\n",
    "            min_ms = data[col].min()\n",
    "            data[col] = data[col] - min_ms\n",
    "        return data\n",
    "\n",
    "    def set_output(self,transform='default'):\n",
    "        return self"
   ]
  },
  {
   "cell_type": "code",
   "execution_count": 20,
   "metadata": {},
   "outputs": [
    {
     "data": {
      "text/plain": [
       "[1, 3, 4]"
      ]
     },
     "execution_count": 20,
     "metadata": {},
     "output_type": "execute_result"
    }
   ],
   "source": [
    "a = [1,3,4,\"as\"]\n",
    "a.remove(\"as\")\n",
    "a"
   ]
  },
  {
   "cell_type": "code",
   "execution_count": null,
   "metadata": {
    "colab": {
     "base_uri": "https://localhost:8080/",
     "height": 134
    },
    "id": "Mn8-G3OmtFd2",
    "outputId": "daca03de-d41d-4383-9477-33e6721c24e5"
   },
   "outputs": [
    {
     "data": {
      "text/html": [
       "<style>#sk-container-id-4 {\n",
       "  /* Definition of color scheme common for light and dark mode */\n",
       "  --sklearn-color-text: black;\n",
       "  --sklearn-color-line: gray;\n",
       "  /* Definition of color scheme for unfitted estimators */\n",
       "  --sklearn-color-unfitted-level-0: #fff5e6;\n",
       "  --sklearn-color-unfitted-level-1: #f6e4d2;\n",
       "  --sklearn-color-unfitted-level-2: #ffe0b3;\n",
       "  --sklearn-color-unfitted-level-3: chocolate;\n",
       "  /* Definition of color scheme for fitted estimators */\n",
       "  --sklearn-color-fitted-level-0: #f0f8ff;\n",
       "  --sklearn-color-fitted-level-1: #d4ebff;\n",
       "  --sklearn-color-fitted-level-2: #b3dbfd;\n",
       "  --sklearn-color-fitted-level-3: cornflowerblue;\n",
       "\n",
       "  /* Specific color for light theme */\n",
       "  --sklearn-color-text-on-default-background: var(--sg-text-color, var(--theme-code-foreground, var(--jp-content-font-color1, black)));\n",
       "  --sklearn-color-background: var(--sg-background-color, var(--theme-background, var(--jp-layout-color0, white)));\n",
       "  --sklearn-color-border-box: var(--sg-text-color, var(--theme-code-foreground, var(--jp-content-font-color1, black)));\n",
       "  --sklearn-color-icon: #696969;\n",
       "\n",
       "  @media (prefers-color-scheme: dark) {\n",
       "    /* Redefinition of color scheme for dark theme */\n",
       "    --sklearn-color-text-on-default-background: var(--sg-text-color, var(--theme-code-foreground, var(--jp-content-font-color1, white)));\n",
       "    --sklearn-color-background: var(--sg-background-color, var(--theme-background, var(--jp-layout-color0, #111)));\n",
       "    --sklearn-color-border-box: var(--sg-text-color, var(--theme-code-foreground, var(--jp-content-font-color1, white)));\n",
       "    --sklearn-color-icon: #878787;\n",
       "  }\n",
       "}\n",
       "\n",
       "#sk-container-id-4 {\n",
       "  color: var(--sklearn-color-text);\n",
       "}\n",
       "\n",
       "#sk-container-id-4 pre {\n",
       "  padding: 0;\n",
       "}\n",
       "\n",
       "#sk-container-id-4 input.sk-hidden--visually {\n",
       "  border: 0;\n",
       "  clip: rect(1px 1px 1px 1px);\n",
       "  clip: rect(1px, 1px, 1px, 1px);\n",
       "  height: 1px;\n",
       "  margin: -1px;\n",
       "  overflow: hidden;\n",
       "  padding: 0;\n",
       "  position: absolute;\n",
       "  width: 1px;\n",
       "}\n",
       "\n",
       "#sk-container-id-4 div.sk-dashed-wrapped {\n",
       "  border: 1px dashed var(--sklearn-color-line);\n",
       "  margin: 0 0.4em 0.5em 0.4em;\n",
       "  box-sizing: border-box;\n",
       "  padding-bottom: 0.4em;\n",
       "  background-color: var(--sklearn-color-background);\n",
       "}\n",
       "\n",
       "#sk-container-id-4 div.sk-container {\n",
       "  /* jupyter's `normalize.less` sets `[hidden] { display: none; }`\n",
       "     but bootstrap.min.css set `[hidden] { display: none !important; }`\n",
       "     so we also need the `!important` here to be able to override the\n",
       "     default hidden behavior on the sphinx rendered scikit-learn.org.\n",
       "     See: https://github.com/scikit-learn/scikit-learn/issues/21755 */\n",
       "  display: inline-block !important;\n",
       "  position: relative;\n",
       "}\n",
       "\n",
       "#sk-container-id-4 div.sk-text-repr-fallback {\n",
       "  display: none;\n",
       "}\n",
       "\n",
       "div.sk-parallel-item,\n",
       "div.sk-serial,\n",
       "div.sk-item {\n",
       "  /* draw centered vertical line to link estimators */\n",
       "  background-image: linear-gradient(var(--sklearn-color-text-on-default-background), var(--sklearn-color-text-on-default-background));\n",
       "  background-size: 2px 100%;\n",
       "  background-repeat: no-repeat;\n",
       "  background-position: center center;\n",
       "}\n",
       "\n",
       "/* Parallel-specific style estimator block */\n",
       "\n",
       "#sk-container-id-4 div.sk-parallel-item::after {\n",
       "  content: \"\";\n",
       "  width: 100%;\n",
       "  border-bottom: 2px solid var(--sklearn-color-text-on-default-background);\n",
       "  flex-grow: 1;\n",
       "}\n",
       "\n",
       "#sk-container-id-4 div.sk-parallel {\n",
       "  display: flex;\n",
       "  align-items: stretch;\n",
       "  justify-content: center;\n",
       "  background-color: var(--sklearn-color-background);\n",
       "  position: relative;\n",
       "}\n",
       "\n",
       "#sk-container-id-4 div.sk-parallel-item {\n",
       "  display: flex;\n",
       "  flex-direction: column;\n",
       "}\n",
       "\n",
       "#sk-container-id-4 div.sk-parallel-item:first-child::after {\n",
       "  align-self: flex-end;\n",
       "  width: 50%;\n",
       "}\n",
       "\n",
       "#sk-container-id-4 div.sk-parallel-item:last-child::after {\n",
       "  align-self: flex-start;\n",
       "  width: 50%;\n",
       "}\n",
       "\n",
       "#sk-container-id-4 div.sk-parallel-item:only-child::after {\n",
       "  width: 0;\n",
       "}\n",
       "\n",
       "/* Serial-specific style estimator block */\n",
       "\n",
       "#sk-container-id-4 div.sk-serial {\n",
       "  display: flex;\n",
       "  flex-direction: column;\n",
       "  align-items: center;\n",
       "  background-color: var(--sklearn-color-background);\n",
       "  padding-right: 1em;\n",
       "  padding-left: 1em;\n",
       "}\n",
       "\n",
       "\n",
       "/* Toggleable style: style used for estimator/Pipeline/ColumnTransformer box that is\n",
       "clickable and can be expanded/collapsed.\n",
       "- Pipeline and ColumnTransformer use this feature and define the default style\n",
       "- Estimators will overwrite some part of the style using the `sk-estimator` class\n",
       "*/\n",
       "\n",
       "/* Pipeline and ColumnTransformer style (default) */\n",
       "\n",
       "#sk-container-id-4 div.sk-toggleable {\n",
       "  /* Default theme specific background. It is overwritten whether we have a\n",
       "  specific estimator or a Pipeline/ColumnTransformer */\n",
       "  background-color: var(--sklearn-color-background);\n",
       "}\n",
       "\n",
       "/* Toggleable label */\n",
       "#sk-container-id-4 label.sk-toggleable__label {\n",
       "  cursor: pointer;\n",
       "  display: block;\n",
       "  width: 100%;\n",
       "  margin-bottom: 0;\n",
       "  padding: 0.5em;\n",
       "  box-sizing: border-box;\n",
       "  text-align: center;\n",
       "}\n",
       "\n",
       "#sk-container-id-4 label.sk-toggleable__label-arrow:before {\n",
       "  /* Arrow on the left of the label */\n",
       "  content: \"▸\";\n",
       "  float: left;\n",
       "  margin-right: 0.25em;\n",
       "  color: var(--sklearn-color-icon);\n",
       "}\n",
       "\n",
       "#sk-container-id-4 label.sk-toggleable__label-arrow:hover:before {\n",
       "  color: var(--sklearn-color-text);\n",
       "}\n",
       "\n",
       "/* Toggleable content - dropdown */\n",
       "\n",
       "#sk-container-id-4 div.sk-toggleable__content {\n",
       "  max-height: 0;\n",
       "  max-width: 0;\n",
       "  overflow: hidden;\n",
       "  text-align: left;\n",
       "  /* unfitted */\n",
       "  background-color: var(--sklearn-color-unfitted-level-0);\n",
       "}\n",
       "\n",
       "#sk-container-id-4 div.sk-toggleable__content.fitted {\n",
       "  /* fitted */\n",
       "  background-color: var(--sklearn-color-fitted-level-0);\n",
       "}\n",
       "\n",
       "#sk-container-id-4 div.sk-toggleable__content pre {\n",
       "  margin: 0.2em;\n",
       "  border-radius: 0.25em;\n",
       "  color: var(--sklearn-color-text);\n",
       "  /* unfitted */\n",
       "  background-color: var(--sklearn-color-unfitted-level-0);\n",
       "}\n",
       "\n",
       "#sk-container-id-4 div.sk-toggleable__content.fitted pre {\n",
       "  /* unfitted */\n",
       "  background-color: var(--sklearn-color-fitted-level-0);\n",
       "}\n",
       "\n",
       "#sk-container-id-4 input.sk-toggleable__control:checked~div.sk-toggleable__content {\n",
       "  /* Expand drop-down */\n",
       "  max-height: 200px;\n",
       "  max-width: 100%;\n",
       "  overflow: auto;\n",
       "}\n",
       "\n",
       "#sk-container-id-4 input.sk-toggleable__control:checked~label.sk-toggleable__label-arrow:before {\n",
       "  content: \"▾\";\n",
       "}\n",
       "\n",
       "/* Pipeline/ColumnTransformer-specific style */\n",
       "\n",
       "#sk-container-id-4 div.sk-label input.sk-toggleable__control:checked~label.sk-toggleable__label {\n",
       "  color: var(--sklearn-color-text);\n",
       "  background-color: var(--sklearn-color-unfitted-level-2);\n",
       "}\n",
       "\n",
       "#sk-container-id-4 div.sk-label.fitted input.sk-toggleable__control:checked~label.sk-toggleable__label {\n",
       "  background-color: var(--sklearn-color-fitted-level-2);\n",
       "}\n",
       "\n",
       "/* Estimator-specific style */\n",
       "\n",
       "/* Colorize estimator box */\n",
       "#sk-container-id-4 div.sk-estimator input.sk-toggleable__control:checked~label.sk-toggleable__label {\n",
       "  /* unfitted */\n",
       "  background-color: var(--sklearn-color-unfitted-level-2);\n",
       "}\n",
       "\n",
       "#sk-container-id-4 div.sk-estimator.fitted input.sk-toggleable__control:checked~label.sk-toggleable__label {\n",
       "  /* fitted */\n",
       "  background-color: var(--sklearn-color-fitted-level-2);\n",
       "}\n",
       "\n",
       "#sk-container-id-4 div.sk-label label.sk-toggleable__label,\n",
       "#sk-container-id-4 div.sk-label label {\n",
       "  /* The background is the default theme color */\n",
       "  color: var(--sklearn-color-text-on-default-background);\n",
       "}\n",
       "\n",
       "/* On hover, darken the color of the background */\n",
       "#sk-container-id-4 div.sk-label:hover label.sk-toggleable__label {\n",
       "  color: var(--sklearn-color-text);\n",
       "  background-color: var(--sklearn-color-unfitted-level-2);\n",
       "}\n",
       "\n",
       "/* Label box, darken color on hover, fitted */\n",
       "#sk-container-id-4 div.sk-label.fitted:hover label.sk-toggleable__label.fitted {\n",
       "  color: var(--sklearn-color-text);\n",
       "  background-color: var(--sklearn-color-fitted-level-2);\n",
       "}\n",
       "\n",
       "/* Estimator label */\n",
       "\n",
       "#sk-container-id-4 div.sk-label label {\n",
       "  font-family: monospace;\n",
       "  font-weight: bold;\n",
       "  display: inline-block;\n",
       "  line-height: 1.2em;\n",
       "}\n",
       "\n",
       "#sk-container-id-4 div.sk-label-container {\n",
       "  text-align: center;\n",
       "}\n",
       "\n",
       "/* Estimator-specific */\n",
       "#sk-container-id-4 div.sk-estimator {\n",
       "  font-family: monospace;\n",
       "  border: 1px dotted var(--sklearn-color-border-box);\n",
       "  border-radius: 0.25em;\n",
       "  box-sizing: border-box;\n",
       "  margin-bottom: 0.5em;\n",
       "  /* unfitted */\n",
       "  background-color: var(--sklearn-color-unfitted-level-0);\n",
       "}\n",
       "\n",
       "#sk-container-id-4 div.sk-estimator.fitted {\n",
       "  /* fitted */\n",
       "  background-color: var(--sklearn-color-fitted-level-0);\n",
       "}\n",
       "\n",
       "/* on hover */\n",
       "#sk-container-id-4 div.sk-estimator:hover {\n",
       "  /* unfitted */\n",
       "  background-color: var(--sklearn-color-unfitted-level-2);\n",
       "}\n",
       "\n",
       "#sk-container-id-4 div.sk-estimator.fitted:hover {\n",
       "  /* fitted */\n",
       "  background-color: var(--sklearn-color-fitted-level-2);\n",
       "}\n",
       "\n",
       "/* Specification for estimator info (e.g. \"i\" and \"?\") */\n",
       "\n",
       "/* Common style for \"i\" and \"?\" */\n",
       "\n",
       ".sk-estimator-doc-link,\n",
       "a:link.sk-estimator-doc-link,\n",
       "a:visited.sk-estimator-doc-link {\n",
       "  float: right;\n",
       "  font-size: smaller;\n",
       "  line-height: 1em;\n",
       "  font-family: monospace;\n",
       "  background-color: var(--sklearn-color-background);\n",
       "  border-radius: 1em;\n",
       "  height: 1em;\n",
       "  width: 1em;\n",
       "  text-decoration: none !important;\n",
       "  margin-left: 1ex;\n",
       "  /* unfitted */\n",
       "  border: var(--sklearn-color-unfitted-level-1) 1pt solid;\n",
       "  color: var(--sklearn-color-unfitted-level-1);\n",
       "}\n",
       "\n",
       ".sk-estimator-doc-link.fitted,\n",
       "a:link.sk-estimator-doc-link.fitted,\n",
       "a:visited.sk-estimator-doc-link.fitted {\n",
       "  /* fitted */\n",
       "  border: var(--sklearn-color-fitted-level-1) 1pt solid;\n",
       "  color: var(--sklearn-color-fitted-level-1);\n",
       "}\n",
       "\n",
       "/* On hover */\n",
       "div.sk-estimator:hover .sk-estimator-doc-link:hover,\n",
       ".sk-estimator-doc-link:hover,\n",
       "div.sk-label-container:hover .sk-estimator-doc-link:hover,\n",
       ".sk-estimator-doc-link:hover {\n",
       "  /* unfitted */\n",
       "  background-color: var(--sklearn-color-unfitted-level-3);\n",
       "  color: var(--sklearn-color-background);\n",
       "  text-decoration: none;\n",
       "}\n",
       "\n",
       "div.sk-estimator.fitted:hover .sk-estimator-doc-link.fitted:hover,\n",
       ".sk-estimator-doc-link.fitted:hover,\n",
       "div.sk-label-container:hover .sk-estimator-doc-link.fitted:hover,\n",
       ".sk-estimator-doc-link.fitted:hover {\n",
       "  /* fitted */\n",
       "  background-color: var(--sklearn-color-fitted-level-3);\n",
       "  color: var(--sklearn-color-background);\n",
       "  text-decoration: none;\n",
       "}\n",
       "\n",
       "/* Span, style for the box shown on hovering the info icon */\n",
       ".sk-estimator-doc-link span {\n",
       "  display: none;\n",
       "  z-index: 9999;\n",
       "  position: relative;\n",
       "  font-weight: normal;\n",
       "  right: .2ex;\n",
       "  padding: .5ex;\n",
       "  margin: .5ex;\n",
       "  width: min-content;\n",
       "  min-width: 20ex;\n",
       "  max-width: 50ex;\n",
       "  color: var(--sklearn-color-text);\n",
       "  box-shadow: 2pt 2pt 4pt #999;\n",
       "  /* unfitted */\n",
       "  background: var(--sklearn-color-unfitted-level-0);\n",
       "  border: .5pt solid var(--sklearn-color-unfitted-level-3);\n",
       "}\n",
       "\n",
       ".sk-estimator-doc-link.fitted span {\n",
       "  /* fitted */\n",
       "  background: var(--sklearn-color-fitted-level-0);\n",
       "  border: var(--sklearn-color-fitted-level-3);\n",
       "}\n",
       "\n",
       ".sk-estimator-doc-link:hover span {\n",
       "  display: block;\n",
       "}\n",
       "\n",
       "/* \"?\"-specific style due to the `<a>` HTML tag */\n",
       "\n",
       "#sk-container-id-4 a.estimator_doc_link {\n",
       "  float: right;\n",
       "  font-size: 1rem;\n",
       "  line-height: 1em;\n",
       "  font-family: monospace;\n",
       "  background-color: var(--sklearn-color-background);\n",
       "  border-radius: 1rem;\n",
       "  height: 1rem;\n",
       "  width: 1rem;\n",
       "  text-decoration: none;\n",
       "  /* unfitted */\n",
       "  color: var(--sklearn-color-unfitted-level-1);\n",
       "  border: var(--sklearn-color-unfitted-level-1) 1pt solid;\n",
       "}\n",
       "\n",
       "#sk-container-id-4 a.estimator_doc_link.fitted {\n",
       "  /* fitted */\n",
       "  border: var(--sklearn-color-fitted-level-1) 1pt solid;\n",
       "  color: var(--sklearn-color-fitted-level-1);\n",
       "}\n",
       "\n",
       "/* On hover */\n",
       "#sk-container-id-4 a.estimator_doc_link:hover {\n",
       "  /* unfitted */\n",
       "  background-color: var(--sklearn-color-unfitted-level-3);\n",
       "  color: var(--sklearn-color-background);\n",
       "  text-decoration: none;\n",
       "}\n",
       "\n",
       "#sk-container-id-4 a.estimator_doc_link.fitted:hover {\n",
       "  /* fitted */\n",
       "  background-color: var(--sklearn-color-fitted-level-3);\n",
       "}\n",
       "</style><div id=\"sk-container-id-4\" class=\"sk-top-container\"><div class=\"sk-text-repr-fallback\"><pre>ColumnTransformer(remainder=&#x27;passthrough&#x27;,\n",
       "                  transformers=[(&#x27;scale_data&#x27;, MinMaxScaler(),\n",
       "                                 &lt;sklearn.compose._column_transformer.make_column_selector object at 0x000001BAA5C37C70&gt;),\n",
       "                                (&#x27;object&#x27;, &#x27;drop&#x27;, [&#x27;wallet_address&#x27;]),\n",
       "                                (&#x27;categorical&#x27;, &#x27;passthrough&#x27;,\n",
       "                                 &lt;sklearn.compose._column_transformer.make_column_selector object at 0x000001BAA5C99ED0&gt;)],\n",
       "                  verbose_feature_names_out=False)</pre><b>In a Jupyter environment, please rerun this cell to show the HTML representation or trust the notebook. <br />On GitHub, the HTML representation is unable to render, please try loading this page with nbviewer.org.</b></div><div class=\"sk-container\" hidden><div class=\"sk-item sk-dashed-wrapped\"><div class=\"sk-label-container\"><div class=\"sk-label  sk-toggleable\"><input class=\"sk-toggleable__control sk-hidden--visually\" id=\"sk-estimator-id-30\" type=\"checkbox\" ><label for=\"sk-estimator-id-30\" class=\"sk-toggleable__label  sk-toggleable__label-arrow \">&nbsp;&nbsp;ColumnTransformer<a class=\"sk-estimator-doc-link \" rel=\"noreferrer\" target=\"_blank\" href=\"https://scikit-learn.org/1.5/modules/generated/sklearn.compose.ColumnTransformer.html\">?<span>Documentation for ColumnTransformer</span></a><span class=\"sk-estimator-doc-link \">i<span>Not fitted</span></span></label><div class=\"sk-toggleable__content \"><pre>ColumnTransformer(remainder=&#x27;passthrough&#x27;,\n",
       "                  transformers=[(&#x27;scale_data&#x27;, MinMaxScaler(),\n",
       "                                 &lt;sklearn.compose._column_transformer.make_column_selector object at 0x000001BAA5C37C70&gt;),\n",
       "                                (&#x27;object&#x27;, &#x27;drop&#x27;, [&#x27;wallet_address&#x27;]),\n",
       "                                (&#x27;categorical&#x27;, &#x27;passthrough&#x27;,\n",
       "                                 &lt;sklearn.compose._column_transformer.make_column_selector object at 0x000001BAA5C99ED0&gt;)],\n",
       "                  verbose_feature_names_out=False)</pre></div> </div></div><div class=\"sk-parallel\"><div class=\"sk-parallel-item\"><div class=\"sk-item\"><div class=\"sk-label-container\"><div class=\"sk-label  sk-toggleable\"><input class=\"sk-toggleable__control sk-hidden--visually\" id=\"sk-estimator-id-31\" type=\"checkbox\" ><label for=\"sk-estimator-id-31\" class=\"sk-toggleable__label  sk-toggleable__label-arrow \">scale_data</label><div class=\"sk-toggleable__content \"><pre>&lt;sklearn.compose._column_transformer.make_column_selector object at 0x000001BAA5C37C70&gt;</pre></div> </div></div><div class=\"sk-serial\"><div class=\"sk-item\"><div class=\"sk-estimator  sk-toggleable\"><input class=\"sk-toggleable__control sk-hidden--visually\" id=\"sk-estimator-id-32\" type=\"checkbox\" ><label for=\"sk-estimator-id-32\" class=\"sk-toggleable__label  sk-toggleable__label-arrow \">&nbsp;MinMaxScaler<a class=\"sk-estimator-doc-link \" rel=\"noreferrer\" target=\"_blank\" href=\"https://scikit-learn.org/1.5/modules/generated/sklearn.preprocessing.MinMaxScaler.html\">?<span>Documentation for MinMaxScaler</span></a></label><div class=\"sk-toggleable__content \"><pre>MinMaxScaler()</pre></div> </div></div></div></div></div><div class=\"sk-parallel-item\"><div class=\"sk-item\"><div class=\"sk-label-container\"><div class=\"sk-label  sk-toggleable\"><input class=\"sk-toggleable__control sk-hidden--visually\" id=\"sk-estimator-id-33\" type=\"checkbox\" ><label for=\"sk-estimator-id-33\" class=\"sk-toggleable__label  sk-toggleable__label-arrow \">object</label><div class=\"sk-toggleable__content \"><pre>[&#x27;wallet_address&#x27;]</pre></div> </div></div><div class=\"sk-serial\"><div class=\"sk-item\"><div class=\"sk-estimator  sk-toggleable\"><input class=\"sk-toggleable__control sk-hidden--visually\" id=\"sk-estimator-id-34\" type=\"checkbox\" ><label for=\"sk-estimator-id-34\" class=\"sk-toggleable__label  sk-toggleable__label-arrow \">drop</label><div class=\"sk-toggleable__content \"><pre>drop</pre></div> </div></div></div></div></div><div class=\"sk-parallel-item\"><div class=\"sk-item\"><div class=\"sk-label-container\"><div class=\"sk-label  sk-toggleable\"><input class=\"sk-toggleable__control sk-hidden--visually\" id=\"sk-estimator-id-35\" type=\"checkbox\" ><label for=\"sk-estimator-id-35\" class=\"sk-toggleable__label  sk-toggleable__label-arrow \">categorical</label><div class=\"sk-toggleable__content \"><pre>&lt;sklearn.compose._column_transformer.make_column_selector object at 0x000001BAA5C99ED0&gt;</pre></div> </div></div><div class=\"sk-serial\"><div class=\"sk-item\"><div class=\"sk-estimator  sk-toggleable\"><input class=\"sk-toggleable__control sk-hidden--visually\" id=\"sk-estimator-id-36\" type=\"checkbox\" ><label for=\"sk-estimator-id-36\" class=\"sk-toggleable__label  sk-toggleable__label-arrow \">passthrough</label><div class=\"sk-toggleable__content \"><pre>passthrough</pre></div> </div></div></div></div></div><div class=\"sk-parallel-item\"><div class=\"sk-item\"><div class=\"sk-label-container\"><div class=\"sk-label  sk-toggleable\"><input class=\"sk-toggleable__control sk-hidden--visually\" id=\"sk-estimator-id-37\" type=\"checkbox\" ><label for=\"sk-estimator-id-37\" class=\"sk-toggleable__label  sk-toggleable__label-arrow \">remainder</label><div class=\"sk-toggleable__content \"><pre></pre></div> </div></div><div class=\"sk-serial\"><div class=\"sk-item\"><div class=\"sk-estimator  sk-toggleable\"><input class=\"sk-toggleable__control sk-hidden--visually\" id=\"sk-estimator-id-38\" type=\"checkbox\" ><label for=\"sk-estimator-id-38\" class=\"sk-toggleable__label  sk-toggleable__label-arrow \">passthrough</label><div class=\"sk-toggleable__content \"><pre>passthrough</pre></div> </div></div></div></div></div></div></div></div></div>"
      ],
      "text/plain": [
       "ColumnTransformer(remainder='passthrough',\n",
       "                  transformers=[('scale_data', MinMaxScaler(),\n",
       "                                 <sklearn.compose._column_transformer.make_column_selector object at 0x000001BAA5C37C70>),\n",
       "                                ('object', 'drop', ['wallet_address']),\n",
       "                                ('categorical', 'passthrough',\n",
       "                                 <sklearn.compose._column_transformer.make_column_selector object at 0x000001BAA5C99ED0>)],\n",
       "                  verbose_feature_names_out=False)"
      ]
     },
     "execution_count": 26,
     "metadata": {},
     "output_type": "execute_result"
    }
   ],
   "source": [
    "from sklearn.compose import make_column_selector\n",
    "from sklearn.preprocessing import KBinsDiscretizer\n",
    "\n",
    "# bins_transformer = ColumnTransformer([\n",
    "#     ('to_binary', KBinsDiscretizer(n_bins=2, encode='ordinal', strategy='kmeans'), ['time_since_last_liquidated'])\n",
    "#     ], \n",
    "#     remainder='passthrough',\n",
    "#     verbose_feature_names_out=False) \n",
    "# bins_transformer.set_output(transform='pandas')\n",
    "\n",
    "first_transformer = ColumnTransformer([\n",
    "    # ('drop_times', 'drop', make_column_selector(dtype_include=datetime)),\n",
    "    ('scale_data', MinMaxScaler(), make_column_selector(dtype_include='number',)),\n",
    "    # ('object', 'drop', make_column_selector(dtype_include=object)),\n",
    "    ('object', 'drop', ['wallet_address']),\n",
    "    ('categorical', 'passthrough', make_column_selector(dtype_include='category'))\n",
    "    ],\n",
    "    remainder='passthrough',\n",
    "    verbose_feature_names_out=False)\n",
    "first_transformer.set_output(transform='pandas')"
   ]
  },
  {
   "cell_type": "code",
   "execution_count": 7,
   "metadata": {
    "id": "Oo3HcjMqtFd5"
   },
   "outputs": [],
   "source": [
    "transf_pipe = Pipeline([\n",
    "                ('add_borrow', borrow_times()),\n",
    "                ('diff_tranf', tx_diff()),\n",
    "                ('binary_cols', search_binary()),\n",
    "                # ('time_cols', time_tranf()), # Dejamos la columna temporal como numero para aplicar MinMaxScaler y meter al modelo \n",
    "                ('cols_transf', first_transformer),\n",
    "                ])"
   ]
  },
  {
   "cell_type": "code",
   "execution_count": 8,
   "metadata": {
    "id": "Jm8byZN2tFd7"
   },
   "outputs": [],
   "source": [
    "from sklearn.model_selection import train_test_split\n",
    "X_train, X_test, y_train, y_test = train_test_split(X, y,\n",
    "                                                    test_size=0.3, random_state=29, shuffle=True,)\n",
    "\n",
    "# X_train.to_csv('X_train.csv')\n",
    "# X_test.to_csv('X_test.csv')\n",
    "# y_train.to_csv('y_train.csv')\n",
    "# y_test.to_csv('y_test.csv')"
   ]
  },
  {
   "cell_type": "code",
   "execution_count": 9,
   "metadata": {
    "id": "f_udjOSotFd8"
   },
   "outputs": [],
   "source": [
    "from sklearn.dummy import DummyClassifier\n",
    "from sklearn.svm import LinearSVC\n",
    "from sklearn.metrics import roc_curve, roc_auc_score, auc\n",
    "from sklearn.preprocessing import LabelEncoder\n",
    "from sklearn.metrics import classification_report, confusion_matrix"
   ]
  },
  {
   "cell_type": "markdown",
   "metadata": {
    "id": "UpG22CQ0tFd9"
   },
   "source": [
    "### Dummy Classifier"
   ]
  },
  {
   "cell_type": "code",
   "execution_count": 10,
   "metadata": {
    "colab": {
     "base_uri": "https://localhost:8080/"
    },
    "id": "IyuVuqOKtFd-",
    "outputId": "eb58671d-abdf-4332-c170-1238dfd9d667"
   },
   "outputs": [
    {
     "ename": "ValueError",
     "evalue": "Duplicated feature names found before concatenating the outputs of the transformers: ['time_since_last_liquidated'].\nTransformer to_binary has conflicting columns names: ['time_since_last_liquidated'].\nTransformer scale_data has conflicting columns names: ['time_since_last_liquidated'].\nEither make sure that the transformers named above do not generate columns with conflicting names or set verbose_feature_names_out=True to automatically prefix to the output feature names with the name of the transformer to prevent any conflicting names.",
     "output_type": "error",
     "traceback": [
      "\u001b[1;31m---------------------------------------------------------------------------\u001b[0m",
      "\u001b[1;31mValueError\u001b[0m                                Traceback (most recent call last)",
      "Cell \u001b[1;32mIn[10], line 8\u001b[0m\n\u001b[0;32m      1\u001b[0m \u001b[38;5;66;03m# X_train_dummy = pd.read_csv('X_train.csv')\u001b[39;00m\n\u001b[0;32m      2\u001b[0m \u001b[38;5;66;03m# X_test_dummy = pd.read_csv('X_test.csv')\u001b[39;00m\n\u001b[0;32m      4\u001b[0m dummy_pipe \u001b[38;5;241m=\u001b[39m Pipeline([\n\u001b[0;32m      5\u001b[0m                     (\u001b[38;5;124m'\u001b[39m\u001b[38;5;124mpreprocess\u001b[39m\u001b[38;5;124m'\u001b[39m, transf_pipe),\n\u001b[0;32m      6\u001b[0m                     (\u001b[38;5;124m'\u001b[39m\u001b[38;5;124mdummy_clf\u001b[39m\u001b[38;5;124m'\u001b[39m, DummyClassifier(strategy\u001b[38;5;241m=\u001b[39m\u001b[38;5;124m'\u001b[39m\u001b[38;5;124mmost_frequent\u001b[39m\u001b[38;5;124m'\u001b[39m))\n\u001b[0;32m      7\u001b[0m                     ])\n\u001b[1;32m----> 8\u001b[0m \u001b[43mdummy_pipe\u001b[49m\u001b[38;5;241;43m.\u001b[39;49m\u001b[43mfit\u001b[49m\u001b[43m(\u001b[49m\u001b[43mX_train\u001b[49m\u001b[43m,\u001b[49m\u001b[43m \u001b[49m\u001b[43my_train\u001b[49m\u001b[43m)\u001b[49m\n\u001b[0;32m      9\u001b[0m y_dummy \u001b[38;5;241m=\u001b[39m dummy_pipe\u001b[38;5;241m.\u001b[39mpredict(X_test)\n\u001b[0;32m     10\u001b[0m dummy_pipe\u001b[38;5;241m.\u001b[39mscore(X_test, y_test)\n",
      "File \u001b[1;32md:\\FCFM\\Primavera2024\\Lab\\Labs_MDS\\.venv\\lib\\site-packages\\sklearn\\base.py:1473\u001b[0m, in \u001b[0;36m_fit_context.<locals>.decorator.<locals>.wrapper\u001b[1;34m(estimator, *args, **kwargs)\u001b[0m\n\u001b[0;32m   1466\u001b[0m     estimator\u001b[38;5;241m.\u001b[39m_validate_params()\n\u001b[0;32m   1468\u001b[0m \u001b[38;5;28;01mwith\u001b[39;00m config_context(\n\u001b[0;32m   1469\u001b[0m     skip_parameter_validation\u001b[38;5;241m=\u001b[39m(\n\u001b[0;32m   1470\u001b[0m         prefer_skip_nested_validation \u001b[38;5;129;01mor\u001b[39;00m global_skip_validation\n\u001b[0;32m   1471\u001b[0m     )\n\u001b[0;32m   1472\u001b[0m ):\n\u001b[1;32m-> 1473\u001b[0m     \u001b[38;5;28;01mreturn\u001b[39;00m fit_method(estimator, \u001b[38;5;241m*\u001b[39margs, \u001b[38;5;241m*\u001b[39m\u001b[38;5;241m*\u001b[39mkwargs)\n",
      "File \u001b[1;32md:\\FCFM\\Primavera2024\\Lab\\Labs_MDS\\.venv\\lib\\site-packages\\sklearn\\pipeline.py:469\u001b[0m, in \u001b[0;36mPipeline.fit\u001b[1;34m(self, X, y, **params)\u001b[0m\n\u001b[0;32m    426\u001b[0m \u001b[38;5;250m\u001b[39m\u001b[38;5;124;03m\"\"\"Fit the model.\u001b[39;00m\n\u001b[0;32m    427\u001b[0m \n\u001b[0;32m    428\u001b[0m \u001b[38;5;124;03mFit all the transformers one after the other and sequentially transform the\u001b[39;00m\n\u001b[1;32m   (...)\u001b[0m\n\u001b[0;32m    466\u001b[0m \u001b[38;5;124;03m    Pipeline with fitted steps.\u001b[39;00m\n\u001b[0;32m    467\u001b[0m \u001b[38;5;124;03m\"\"\"\u001b[39;00m\n\u001b[0;32m    468\u001b[0m routed_params \u001b[38;5;241m=\u001b[39m \u001b[38;5;28mself\u001b[39m\u001b[38;5;241m.\u001b[39m_check_method_params(method\u001b[38;5;241m=\u001b[39m\u001b[38;5;124m\"\u001b[39m\u001b[38;5;124mfit\u001b[39m\u001b[38;5;124m\"\u001b[39m, props\u001b[38;5;241m=\u001b[39mparams)\n\u001b[1;32m--> 469\u001b[0m Xt \u001b[38;5;241m=\u001b[39m \u001b[38;5;28;43mself\u001b[39;49m\u001b[38;5;241;43m.\u001b[39;49m\u001b[43m_fit\u001b[49m\u001b[43m(\u001b[49m\u001b[43mX\u001b[49m\u001b[43m,\u001b[49m\u001b[43m \u001b[49m\u001b[43my\u001b[49m\u001b[43m,\u001b[49m\u001b[43m \u001b[49m\u001b[43mrouted_params\u001b[49m\u001b[43m)\u001b[49m\n\u001b[0;32m    470\u001b[0m \u001b[38;5;28;01mwith\u001b[39;00m _print_elapsed_time(\u001b[38;5;124m\"\u001b[39m\u001b[38;5;124mPipeline\u001b[39m\u001b[38;5;124m\"\u001b[39m, \u001b[38;5;28mself\u001b[39m\u001b[38;5;241m.\u001b[39m_log_message(\u001b[38;5;28mlen\u001b[39m(\u001b[38;5;28mself\u001b[39m\u001b[38;5;241m.\u001b[39msteps) \u001b[38;5;241m-\u001b[39m \u001b[38;5;241m1\u001b[39m)):\n\u001b[0;32m    471\u001b[0m     \u001b[38;5;28;01mif\u001b[39;00m \u001b[38;5;28mself\u001b[39m\u001b[38;5;241m.\u001b[39m_final_estimator \u001b[38;5;241m!=\u001b[39m \u001b[38;5;124m\"\u001b[39m\u001b[38;5;124mpassthrough\u001b[39m\u001b[38;5;124m\"\u001b[39m:\n",
      "File \u001b[1;32md:\\FCFM\\Primavera2024\\Lab\\Labs_MDS\\.venv\\lib\\site-packages\\sklearn\\pipeline.py:406\u001b[0m, in \u001b[0;36mPipeline._fit\u001b[1;34m(self, X, y, routed_params)\u001b[0m\n\u001b[0;32m    404\u001b[0m     cloned_transformer \u001b[38;5;241m=\u001b[39m clone(transformer)\n\u001b[0;32m    405\u001b[0m \u001b[38;5;66;03m# Fit or load from cache the current transformer\u001b[39;00m\n\u001b[1;32m--> 406\u001b[0m X, fitted_transformer \u001b[38;5;241m=\u001b[39m \u001b[43mfit_transform_one_cached\u001b[49m\u001b[43m(\u001b[49m\n\u001b[0;32m    407\u001b[0m \u001b[43m    \u001b[49m\u001b[43mcloned_transformer\u001b[49m\u001b[43m,\u001b[49m\n\u001b[0;32m    408\u001b[0m \u001b[43m    \u001b[49m\u001b[43mX\u001b[49m\u001b[43m,\u001b[49m\n\u001b[0;32m    409\u001b[0m \u001b[43m    \u001b[49m\u001b[43my\u001b[49m\u001b[43m,\u001b[49m\n\u001b[0;32m    410\u001b[0m \u001b[43m    \u001b[49m\u001b[38;5;28;43;01mNone\u001b[39;49;00m\u001b[43m,\u001b[49m\n\u001b[0;32m    411\u001b[0m \u001b[43m    \u001b[49m\u001b[43mmessage_clsname\u001b[49m\u001b[38;5;241;43m=\u001b[39;49m\u001b[38;5;124;43m\"\u001b[39;49m\u001b[38;5;124;43mPipeline\u001b[39;49m\u001b[38;5;124;43m\"\u001b[39;49m\u001b[43m,\u001b[49m\n\u001b[0;32m    412\u001b[0m \u001b[43m    \u001b[49m\u001b[43mmessage\u001b[49m\u001b[38;5;241;43m=\u001b[39;49m\u001b[38;5;28;43mself\u001b[39;49m\u001b[38;5;241;43m.\u001b[39;49m\u001b[43m_log_message\u001b[49m\u001b[43m(\u001b[49m\u001b[43mstep_idx\u001b[49m\u001b[43m)\u001b[49m\u001b[43m,\u001b[49m\n\u001b[0;32m    413\u001b[0m \u001b[43m    \u001b[49m\u001b[43mparams\u001b[49m\u001b[38;5;241;43m=\u001b[39;49m\u001b[43mrouted_params\u001b[49m\u001b[43m[\u001b[49m\u001b[43mname\u001b[49m\u001b[43m]\u001b[49m\u001b[43m,\u001b[49m\n\u001b[0;32m    414\u001b[0m \u001b[43m\u001b[49m\u001b[43m)\u001b[49m\n\u001b[0;32m    415\u001b[0m \u001b[38;5;66;03m# Replace the transformer of the step with the fitted\u001b[39;00m\n\u001b[0;32m    416\u001b[0m \u001b[38;5;66;03m# transformer. This is necessary when loading the transformer\u001b[39;00m\n\u001b[0;32m    417\u001b[0m \u001b[38;5;66;03m# from the cache.\u001b[39;00m\n\u001b[0;32m    418\u001b[0m \u001b[38;5;28mself\u001b[39m\u001b[38;5;241m.\u001b[39msteps[step_idx] \u001b[38;5;241m=\u001b[39m (name, fitted_transformer)\n",
      "File \u001b[1;32md:\\FCFM\\Primavera2024\\Lab\\Labs_MDS\\.venv\\lib\\site-packages\\joblib\\memory.py:312\u001b[0m, in \u001b[0;36mNotMemorizedFunc.__call__\u001b[1;34m(self, *args, **kwargs)\u001b[0m\n\u001b[0;32m    311\u001b[0m \u001b[38;5;28;01mdef\u001b[39;00m \u001b[38;5;21m__call__\u001b[39m(\u001b[38;5;28mself\u001b[39m, \u001b[38;5;241m*\u001b[39margs, \u001b[38;5;241m*\u001b[39m\u001b[38;5;241m*\u001b[39mkwargs):\n\u001b[1;32m--> 312\u001b[0m     \u001b[38;5;28;01mreturn\u001b[39;00m \u001b[38;5;28mself\u001b[39m\u001b[38;5;241m.\u001b[39mfunc(\u001b[38;5;241m*\u001b[39margs, \u001b[38;5;241m*\u001b[39m\u001b[38;5;241m*\u001b[39mkwargs)\n",
      "File \u001b[1;32md:\\FCFM\\Primavera2024\\Lab\\Labs_MDS\\.venv\\lib\\site-packages\\sklearn\\pipeline.py:1310\u001b[0m, in \u001b[0;36m_fit_transform_one\u001b[1;34m(transformer, X, y, weight, message_clsname, message, params)\u001b[0m\n\u001b[0;32m   1308\u001b[0m \u001b[38;5;28;01mwith\u001b[39;00m _print_elapsed_time(message_clsname, message):\n\u001b[0;32m   1309\u001b[0m     \u001b[38;5;28;01mif\u001b[39;00m \u001b[38;5;28mhasattr\u001b[39m(transformer, \u001b[38;5;124m\"\u001b[39m\u001b[38;5;124mfit_transform\u001b[39m\u001b[38;5;124m\"\u001b[39m):\n\u001b[1;32m-> 1310\u001b[0m         res \u001b[38;5;241m=\u001b[39m transformer\u001b[38;5;241m.\u001b[39mfit_transform(X, y, \u001b[38;5;241m*\u001b[39m\u001b[38;5;241m*\u001b[39mparams\u001b[38;5;241m.\u001b[39mget(\u001b[38;5;124m\"\u001b[39m\u001b[38;5;124mfit_transform\u001b[39m\u001b[38;5;124m\"\u001b[39m, {}))\n\u001b[0;32m   1311\u001b[0m     \u001b[38;5;28;01melse\u001b[39;00m:\n\u001b[0;32m   1312\u001b[0m         res \u001b[38;5;241m=\u001b[39m transformer\u001b[38;5;241m.\u001b[39mfit(X, y, \u001b[38;5;241m*\u001b[39m\u001b[38;5;241m*\u001b[39mparams\u001b[38;5;241m.\u001b[39mget(\u001b[38;5;124m\"\u001b[39m\u001b[38;5;124mfit\u001b[39m\u001b[38;5;124m\"\u001b[39m, {}))\u001b[38;5;241m.\u001b[39mtransform(\n\u001b[0;32m   1313\u001b[0m             X, \u001b[38;5;241m*\u001b[39m\u001b[38;5;241m*\u001b[39mparams\u001b[38;5;241m.\u001b[39mget(\u001b[38;5;124m\"\u001b[39m\u001b[38;5;124mtransform\u001b[39m\u001b[38;5;124m\"\u001b[39m, {})\n\u001b[0;32m   1314\u001b[0m         )\n",
      "File \u001b[1;32md:\\FCFM\\Primavera2024\\Lab\\Labs_MDS\\.venv\\lib\\site-packages\\sklearn\\base.py:1473\u001b[0m, in \u001b[0;36m_fit_context.<locals>.decorator.<locals>.wrapper\u001b[1;34m(estimator, *args, **kwargs)\u001b[0m\n\u001b[0;32m   1466\u001b[0m     estimator\u001b[38;5;241m.\u001b[39m_validate_params()\n\u001b[0;32m   1468\u001b[0m \u001b[38;5;28;01mwith\u001b[39;00m config_context(\n\u001b[0;32m   1469\u001b[0m     skip_parameter_validation\u001b[38;5;241m=\u001b[39m(\n\u001b[0;32m   1470\u001b[0m         prefer_skip_nested_validation \u001b[38;5;129;01mor\u001b[39;00m global_skip_validation\n\u001b[0;32m   1471\u001b[0m     )\n\u001b[0;32m   1472\u001b[0m ):\n\u001b[1;32m-> 1473\u001b[0m     \u001b[38;5;28;01mreturn\u001b[39;00m fit_method(estimator, \u001b[38;5;241m*\u001b[39margs, \u001b[38;5;241m*\u001b[39m\u001b[38;5;241m*\u001b[39mkwargs)\n",
      "File \u001b[1;32md:\\FCFM\\Primavera2024\\Lab\\Labs_MDS\\.venv\\lib\\site-packages\\sklearn\\pipeline.py:541\u001b[0m, in \u001b[0;36mPipeline.fit_transform\u001b[1;34m(self, X, y, **params)\u001b[0m\n\u001b[0;32m    539\u001b[0m last_step_params \u001b[38;5;241m=\u001b[39m routed_params[\u001b[38;5;28mself\u001b[39m\u001b[38;5;241m.\u001b[39msteps[\u001b[38;5;241m-\u001b[39m\u001b[38;5;241m1\u001b[39m][\u001b[38;5;241m0\u001b[39m]]\n\u001b[0;32m    540\u001b[0m \u001b[38;5;28;01mif\u001b[39;00m \u001b[38;5;28mhasattr\u001b[39m(last_step, \u001b[38;5;124m\"\u001b[39m\u001b[38;5;124mfit_transform\u001b[39m\u001b[38;5;124m\"\u001b[39m):\n\u001b[1;32m--> 541\u001b[0m     \u001b[38;5;28;01mreturn\u001b[39;00m last_step\u001b[38;5;241m.\u001b[39mfit_transform(\n\u001b[0;32m    542\u001b[0m         Xt, y, \u001b[38;5;241m*\u001b[39m\u001b[38;5;241m*\u001b[39mlast_step_params[\u001b[38;5;124m\"\u001b[39m\u001b[38;5;124mfit_transform\u001b[39m\u001b[38;5;124m\"\u001b[39m]\n\u001b[0;32m    543\u001b[0m     )\n\u001b[0;32m    544\u001b[0m \u001b[38;5;28;01melse\u001b[39;00m:\n\u001b[0;32m    545\u001b[0m     \u001b[38;5;28;01mreturn\u001b[39;00m last_step\u001b[38;5;241m.\u001b[39mfit(Xt, y, \u001b[38;5;241m*\u001b[39m\u001b[38;5;241m*\u001b[39mlast_step_params[\u001b[38;5;124m\"\u001b[39m\u001b[38;5;124mfit\u001b[39m\u001b[38;5;124m\"\u001b[39m])\u001b[38;5;241m.\u001b[39mtransform(\n\u001b[0;32m    546\u001b[0m         Xt, \u001b[38;5;241m*\u001b[39m\u001b[38;5;241m*\u001b[39mlast_step_params[\u001b[38;5;124m\"\u001b[39m\u001b[38;5;124mtransform\u001b[39m\u001b[38;5;124m\"\u001b[39m]\n\u001b[0;32m    547\u001b[0m     )\n",
      "File \u001b[1;32md:\\FCFM\\Primavera2024\\Lab\\Labs_MDS\\.venv\\lib\\site-packages\\sklearn\\utils\\_set_output.py:316\u001b[0m, in \u001b[0;36m_wrap_method_output.<locals>.wrapped\u001b[1;34m(self, X, *args, **kwargs)\u001b[0m\n\u001b[0;32m    314\u001b[0m \u001b[38;5;129m@wraps\u001b[39m(f)\n\u001b[0;32m    315\u001b[0m \u001b[38;5;28;01mdef\u001b[39;00m \u001b[38;5;21mwrapped\u001b[39m(\u001b[38;5;28mself\u001b[39m, X, \u001b[38;5;241m*\u001b[39margs, \u001b[38;5;241m*\u001b[39m\u001b[38;5;241m*\u001b[39mkwargs):\n\u001b[1;32m--> 316\u001b[0m     data_to_wrap \u001b[38;5;241m=\u001b[39m f(\u001b[38;5;28mself\u001b[39m, X, \u001b[38;5;241m*\u001b[39margs, \u001b[38;5;241m*\u001b[39m\u001b[38;5;241m*\u001b[39mkwargs)\n\u001b[0;32m    317\u001b[0m     \u001b[38;5;28;01mif\u001b[39;00m \u001b[38;5;28misinstance\u001b[39m(data_to_wrap, \u001b[38;5;28mtuple\u001b[39m):\n\u001b[0;32m    318\u001b[0m         \u001b[38;5;66;03m# only wrap the first output for cross decomposition\u001b[39;00m\n\u001b[0;32m    319\u001b[0m         return_tuple \u001b[38;5;241m=\u001b[39m (\n\u001b[0;32m    320\u001b[0m             _wrap_data_with_container(method, data_to_wrap[\u001b[38;5;241m0\u001b[39m], X, \u001b[38;5;28mself\u001b[39m),\n\u001b[0;32m    321\u001b[0m             \u001b[38;5;241m*\u001b[39mdata_to_wrap[\u001b[38;5;241m1\u001b[39m:],\n\u001b[0;32m    322\u001b[0m         )\n",
      "File \u001b[1;32md:\\FCFM\\Primavera2024\\Lab\\Labs_MDS\\.venv\\lib\\site-packages\\sklearn\\base.py:1473\u001b[0m, in \u001b[0;36m_fit_context.<locals>.decorator.<locals>.wrapper\u001b[1;34m(estimator, *args, **kwargs)\u001b[0m\n\u001b[0;32m   1466\u001b[0m     estimator\u001b[38;5;241m.\u001b[39m_validate_params()\n\u001b[0;32m   1468\u001b[0m \u001b[38;5;28;01mwith\u001b[39;00m config_context(\n\u001b[0;32m   1469\u001b[0m     skip_parameter_validation\u001b[38;5;241m=\u001b[39m(\n\u001b[0;32m   1470\u001b[0m         prefer_skip_nested_validation \u001b[38;5;129;01mor\u001b[39;00m global_skip_validation\n\u001b[0;32m   1471\u001b[0m     )\n\u001b[0;32m   1472\u001b[0m ):\n\u001b[1;32m-> 1473\u001b[0m     \u001b[38;5;28;01mreturn\u001b[39;00m fit_method(estimator, \u001b[38;5;241m*\u001b[39margs, \u001b[38;5;241m*\u001b[39m\u001b[38;5;241m*\u001b[39mkwargs)\n",
      "File \u001b[1;32md:\\FCFM\\Primavera2024\\Lab\\Labs_MDS\\.venv\\lib\\site-packages\\sklearn\\compose\\_column_transformer.py:1006\u001b[0m, in \u001b[0;36mColumnTransformer.fit_transform\u001b[1;34m(self, X, y, **params)\u001b[0m\n\u001b[0;32m   1003\u001b[0m \u001b[38;5;28mself\u001b[39m\u001b[38;5;241m.\u001b[39m_validate_output(Xs)\n\u001b[0;32m   1004\u001b[0m \u001b[38;5;28mself\u001b[39m\u001b[38;5;241m.\u001b[39m_record_output_indices(Xs)\n\u001b[1;32m-> 1006\u001b[0m \u001b[38;5;28;01mreturn\u001b[39;00m \u001b[38;5;28;43mself\u001b[39;49m\u001b[38;5;241;43m.\u001b[39;49m\u001b[43m_hstack\u001b[49m\u001b[43m(\u001b[49m\u001b[38;5;28;43mlist\u001b[39;49m\u001b[43m(\u001b[49m\u001b[43mXs\u001b[49m\u001b[43m)\u001b[49m\u001b[43m,\u001b[49m\u001b[43m \u001b[49m\u001b[43mn_samples\u001b[49m\u001b[38;5;241;43m=\u001b[39;49m\u001b[43mn_samples\u001b[49m\u001b[43m)\u001b[49m\n",
      "File \u001b[1;32md:\\FCFM\\Primavera2024\\Lab\\Labs_MDS\\.venv\\lib\\site-packages\\sklearn\\compose\\_column_transformer.py:1169\u001b[0m, in \u001b[0;36mColumnTransformer._hstack\u001b[1;34m(self, Xs, n_samples)\u001b[0m\n\u001b[0;32m   1164\u001b[0m             \u001b[38;5;28;01mif\u001b[39;00m \u001b[38;5;28mlen\u001b[39m(dup_cols_in_transformer):\n\u001b[0;32m   1165\u001b[0m                 err_msg \u001b[38;5;241m+\u001b[39m\u001b[38;5;241m=\u001b[39m (\n\u001b[0;32m   1166\u001b[0m                     \u001b[38;5;124mf\u001b[39m\u001b[38;5;124m\"\u001b[39m\u001b[38;5;124mTransformer \u001b[39m\u001b[38;5;132;01m{\u001b[39;00mtransformer_name\u001b[38;5;132;01m}\u001b[39;00m\u001b[38;5;124m has conflicting \u001b[39m\u001b[38;5;124m\"\u001b[39m\n\u001b[0;32m   1167\u001b[0m                     \u001b[38;5;124mf\u001b[39m\u001b[38;5;124m\"\u001b[39m\u001b[38;5;124mcolumns names: \u001b[39m\u001b[38;5;132;01m{\u001b[39;00mdup_cols_in_transformer\u001b[38;5;132;01m}\u001b[39;00m\u001b[38;5;124m.\u001b[39m\u001b[38;5;130;01m\\n\u001b[39;00m\u001b[38;5;124m\"\u001b[39m\n\u001b[0;32m   1168\u001b[0m                 )\n\u001b[1;32m-> 1169\u001b[0m         \u001b[38;5;28;01mraise\u001b[39;00m \u001b[38;5;167;01mValueError\u001b[39;00m(\n\u001b[0;32m   1170\u001b[0m             err_msg\n\u001b[0;32m   1171\u001b[0m             \u001b[38;5;241m+\u001b[39m \u001b[38;5;124m\"\u001b[39m\u001b[38;5;124mEither make sure that the transformers named above \u001b[39m\u001b[38;5;124m\"\u001b[39m\n\u001b[0;32m   1172\u001b[0m             \u001b[38;5;124m\"\u001b[39m\u001b[38;5;124mdo not generate columns with conflicting names or set \u001b[39m\u001b[38;5;124m\"\u001b[39m\n\u001b[0;32m   1173\u001b[0m             \u001b[38;5;124m\"\u001b[39m\u001b[38;5;124mverbose_feature_names_out=True to automatically \u001b[39m\u001b[38;5;124m\"\u001b[39m\n\u001b[0;32m   1174\u001b[0m             \u001b[38;5;124m\"\u001b[39m\u001b[38;5;124mprefix to the output feature names with the name \u001b[39m\u001b[38;5;124m\"\u001b[39m\n\u001b[0;32m   1175\u001b[0m             \u001b[38;5;124m\"\u001b[39m\u001b[38;5;124mof the transformer to prevent any conflicting \u001b[39m\u001b[38;5;124m\"\u001b[39m\n\u001b[0;32m   1176\u001b[0m             \u001b[38;5;124m\"\u001b[39m\u001b[38;5;124mnames.\u001b[39m\u001b[38;5;124m\"\u001b[39m\n\u001b[0;32m   1177\u001b[0m         )\n\u001b[0;32m   1179\u001b[0m names_idx \u001b[38;5;241m=\u001b[39m \u001b[38;5;241m0\u001b[39m\n\u001b[0;32m   1180\u001b[0m \u001b[38;5;28;01mfor\u001b[39;00m X \u001b[38;5;129;01min\u001b[39;00m Xs:\n",
      "\u001b[1;31mValueError\u001b[0m: Duplicated feature names found before concatenating the outputs of the transformers: ['time_since_last_liquidated'].\nTransformer to_binary has conflicting columns names: ['time_since_last_liquidated'].\nTransformer scale_data has conflicting columns names: ['time_since_last_liquidated'].\nEither make sure that the transformers named above do not generate columns with conflicting names or set verbose_feature_names_out=True to automatically prefix to the output feature names with the name of the transformer to prevent any conflicting names."
     ]
    }
   ],
   "source": [
    "# X_train_dummy = pd.read_csv('X_train.csv')\n",
    "# X_test_dummy = pd.read_csv('X_test.csv')\n",
    "\n",
    "dummy_pipe = Pipeline([\n",
    "                    ('preprocess', transf_pipe),\n",
    "                    ('dummy_clf', DummyClassifier(strategy='most_frequent'))\n",
    "                    ])\n",
    "dummy_pipe.fit(X_train, y_train)\n",
    "y_dummy = dummy_pipe.predict(X_test)\n",
    "dummy_pipe.score(X_test, y_test)"
   ]
  },
  {
   "cell_type": "markdown",
   "metadata": {
    "id": "pe_DdUlhtFeB"
   },
   "source": [
    "### Linear SVC"
   ]
  },
  {
   "cell_type": "code",
   "execution_count": null,
   "metadata": {
    "colab": {
     "base_uri": "https://localhost:8080/"
    },
    "id": "C9FFRnYTtFeB",
    "outputId": "129ecaea-12bb-4555-cb39-81461a457936"
   },
   "outputs": [
    {
     "name": "stderr",
     "output_type": "stream",
     "text": [
      "/usr/local/lib/python3.10/dist-packages/sklearn/utils/validation.py:1339: DataConversionWarning: A column-vector y was passed when a 1d array was expected. Please change the shape of y to (n_samples, ), for example using ravel().\n",
      "  y = column_or_1d(y, warn=True)\n"
     ]
    },
    {
     "data": {
      "text/plain": [
       "0.7543080743472045"
      ]
     },
     "execution_count": 10,
     "metadata": {},
     "output_type": "execute_result"
    }
   ],
   "source": [
    "# Linear SVC\n",
    "# X_train_lsvc = pd.read_csv('X_train.csv')\n",
    "# X_test_lsvc = pd.read_csv('X_test.csv')\n",
    "\n",
    "lsvc_pipe = Pipeline([\n",
    "                    ('preprocess', transf_pipe),\n",
    "                    ('lsvc_clf', LinearSVC(random_state=29))\n",
    "                    ])\n",
    "# lsvc_clf = LinearSVC(random_state=29)\n",
    "lsvc_pipe.fit(X_train, y_train)\n",
    "y_lsvc = lsvc_pipe.predict(X_test)\n",
    "lsvc_pipe.score(X_test, y_test)"
   ]
  },
  {
   "cell_type": "markdown",
   "metadata": {
    "id": "COT1Bqa-tFeC"
   },
   "source": [
    "### Decision Tree Classifier"
   ]
  },
  {
   "cell_type": "code",
   "execution_count": null,
   "metadata": {
    "colab": {
     "base_uri": "https://localhost:8080/"
    },
    "id": "7aFCkQObtFeC",
    "outputId": "8f11c670-28ea-4866-844a-8763b448b9a5"
   },
   "outputs": [
    {
     "data": {
      "text/plain": [
       "0.8370833019790804"
      ]
     },
     "execution_count": 11,
     "metadata": {},
     "output_type": "execute_result"
    }
   ],
   "source": [
    "from sklearn.tree import DecisionTreeClassifier\n",
    "\n",
    "# X_train_tree = pd.read_csv('X_train.csv')\n",
    "# X_test_tree = pd.read_csv('X_test.csv')\n",
    "\n",
    "tree_pipe = Pipeline([\n",
    "                    ('preprocess', transf_pipe),\n",
    "                    ('tree_clf', DecisionTreeClassifier(random_state=29))\n",
    "                    ])\n",
    "\n",
    "tree_pipe.fit(X_train, y_train)\n",
    "y_tree = tree_pipe.predict(X_test)\n",
    "tree_pipe.score(X_test, y_test)"
   ]
  },
  {
   "cell_type": "markdown",
   "metadata": {
    "id": "wCjpgvQ9tFeC"
   },
   "source": [
    "### Random Forest Classifier"
   ]
  },
  {
   "cell_type": "code",
   "execution_count": null,
   "metadata": {
    "colab": {
     "base_uri": "https://localhost:8080/"
    },
    "id": "RLvT7GEOtFeD",
    "outputId": "6e8c9cee-2bcc-432b-e856-52bebf25ecae"
   },
   "outputs": [
    {
     "name": "stderr",
     "output_type": "stream",
     "text": [
      "/usr/local/lib/python3.10/dist-packages/sklearn/base.py:1473: DataConversionWarning: A column-vector y was passed when a 1d array was expected. Please change the shape of y to (n_samples,), for example using ravel().\n",
      "  return fit_method(estimator, *args, **kwargs)\n"
     ]
    },
    {
     "data": {
      "text/plain": [
       "0.9014974791180675"
      ]
     },
     "execution_count": 12,
     "metadata": {},
     "output_type": "execute_result"
    }
   ],
   "source": [
    "from sklearn.ensemble import RandomForestClassifier\n",
    "\n",
    "# X_train_rf = pd.read_csv('X_train.csv')\n",
    "# X_test_rf = pd.read_csv('X_test.csv')\n",
    "\n",
    "rf_pipe = Pipeline([\n",
    "                    ('preprocess', transf_pipe),\n",
    "                    ('rf_clf', RandomForestClassifier(criterion='entropy',random_state=29))\n",
    "                    ])\n",
    "\n",
    "rf_pipe.fit(X_train, y_train)\n",
    "y_tree = rf_pipe.predict(X_test)\n",
    "rf_pipe.score(X_test, y_test)"
   ]
  },
  {
   "cell_type": "markdown",
   "metadata": {
    "id": "olS-2AkjtFeD"
   },
   "source": [
    "# Entrega 2"
   ]
  },
  {
   "cell_type": "code",
   "execution_count": null,
   "metadata": {
    "colab": {
     "base_uri": "https://localhost:8080/"
    },
    "id": "CoT1E3C7ufUV",
    "outputId": "6eac2f3c-9ab2-4b87-88f9-2a9ced8e2f19"
   },
   "outputs": [
    {
     "name": "stdout",
     "output_type": "stream",
     "text": [
      "Requirement already satisfied: optuna in /usr/local/lib/python3.10/dist-packages (4.1.0)\n",
      "Requirement already satisfied: alembic>=1.5.0 in /usr/local/lib/python3.10/dist-packages (from optuna) (1.14.0)\n",
      "Requirement already satisfied: colorlog in /usr/local/lib/python3.10/dist-packages (from optuna) (6.9.0)\n",
      "Requirement already satisfied: numpy in /usr/local/lib/python3.10/dist-packages (from optuna) (1.26.4)\n",
      "Requirement already satisfied: packaging>=20.0 in /usr/local/lib/python3.10/dist-packages (from optuna) (24.2)\n",
      "Requirement already satisfied: sqlalchemy>=1.4.2 in /usr/local/lib/python3.10/dist-packages (from optuna) (2.0.36)\n",
      "Requirement already satisfied: tqdm in /usr/local/lib/python3.10/dist-packages (from optuna) (4.66.6)\n",
      "Requirement already satisfied: PyYAML in /usr/local/lib/python3.10/dist-packages (from optuna) (6.0.2)\n",
      "Requirement already satisfied: Mako in /usr/local/lib/python3.10/dist-packages (from alembic>=1.5.0->optuna) (1.3.7)\n",
      "Requirement already satisfied: typing-extensions>=4 in /usr/local/lib/python3.10/dist-packages (from alembic>=1.5.0->optuna) (4.12.2)\n",
      "Requirement already satisfied: greenlet!=0.4.17 in /usr/local/lib/python3.10/dist-packages (from sqlalchemy>=1.4.2->optuna) (3.1.1)\n",
      "Requirement already satisfied: MarkupSafe>=0.9.2 in /usr/local/lib/python3.10/dist-packages (from Mako->alembic>=1.5.0->optuna) (3.0.2)\n"
     ]
    }
   ],
   "source": [
    "!pip install optuna"
   ]
  },
  {
   "cell_type": "code",
   "execution_count": null,
   "metadata": {
    "id": "gSpBfpyMtFeE"
   },
   "outputs": [],
   "source": [
    "import optuna\n",
    "from optuna.visualization.matplotlib import (plot_optimization_history, plot_param_importances,\n",
    "                                    plot_parallel_coordinate)"
   ]
  },
  {
   "cell_type": "code",
   "execution_count": null,
   "metadata": {
    "colab": {
     "base_uri": "https://localhost:8080/"
    },
    "collapsed": true,
    "id": "A9zPXnnEtFeE",
    "outputId": "3f3408f3-8f25-4bec-92bb-0fe7afed5c97"
   },
   "outputs": [
    {
     "data": {
      "text/plain": [
       "{'memory': None,\n",
       " 'steps': [('preprocess',\n",
       "   Pipeline(steps=[('add_borrow', borrow_times()), ('diff_tranf', tx_diff()),\n",
       "                   ('binary_cols', search_binary()), ('time_cols', time_tranf()),\n",
       "                   ('cols_transf',\n",
       "                    ColumnTransformer(remainder='passthrough',\n",
       "                                      transformers=[('scale_data', MinMaxScaler(),\n",
       "                                                     <sklearn.compose._column_transformer.make_column_selector object at 0x79cbe5e658a0>),\n",
       "                                                    ('object', 'drop',\n",
       "                                                     ['wallet_address']),\n",
       "                                                    ('categorical', 'passthrough',\n",
       "                                                     <sklearn.compose._column_transformer.make_column_selector object at 0x79cbe5e66350>)],\n",
       "                                      verbose_feature_names_out=False))])),\n",
       "  ('rf_clf', RandomForestClassifier(criterion='entropy', random_state=29))],\n",
       " 'verbose': False,\n",
       " 'preprocess': Pipeline(steps=[('add_borrow', borrow_times()), ('diff_tranf', tx_diff()),\n",
       "                 ('binary_cols', search_binary()), ('time_cols', time_tranf()),\n",
       "                 ('cols_transf',\n",
       "                  ColumnTransformer(remainder='passthrough',\n",
       "                                    transformers=[('scale_data', MinMaxScaler(),\n",
       "                                                   <sklearn.compose._column_transformer.make_column_selector object at 0x79cbe5e658a0>),\n",
       "                                                  ('object', 'drop',\n",
       "                                                   ['wallet_address']),\n",
       "                                                  ('categorical', 'passthrough',\n",
       "                                                   <sklearn.compose._column_transformer.make_column_selector object at 0x79cbe5e66350>)],\n",
       "                                    verbose_feature_names_out=False))]),\n",
       " 'rf_clf': RandomForestClassifier(criterion='entropy', random_state=29),\n",
       " 'preprocess__memory': None,\n",
       " 'preprocess__steps': [('add_borrow', borrow_times()),\n",
       "  ('diff_tranf', tx_diff()),\n",
       "  ('binary_cols', search_binary()),\n",
       "  ('time_cols', time_tranf()),\n",
       "  ('cols_transf',\n",
       "   ColumnTransformer(remainder='passthrough',\n",
       "                     transformers=[('scale_data', MinMaxScaler(),\n",
       "                                    <sklearn.compose._column_transformer.make_column_selector object at 0x79cbe5e658a0>),\n",
       "                                   ('object', 'drop', ['wallet_address']),\n",
       "                                   ('categorical', 'passthrough',\n",
       "                                    <sklearn.compose._column_transformer.make_column_selector object at 0x79cbe5e66350>)],\n",
       "                     verbose_feature_names_out=False))],\n",
       " 'preprocess__verbose': False,\n",
       " 'preprocess__add_borrow': borrow_times(),\n",
       " 'preprocess__diff_tranf': tx_diff(),\n",
       " 'preprocess__binary_cols': search_binary(),\n",
       " 'preprocess__time_cols': time_tranf(),\n",
       " 'preprocess__cols_transf': ColumnTransformer(remainder='passthrough',\n",
       "                   transformers=[('scale_data', MinMaxScaler(),\n",
       "                                  <sklearn.compose._column_transformer.make_column_selector object at 0x79cbe5e658a0>),\n",
       "                                 ('object', 'drop', ['wallet_address']),\n",
       "                                 ('categorical', 'passthrough',\n",
       "                                  <sklearn.compose._column_transformer.make_column_selector object at 0x79cbe5e66350>)],\n",
       "                   verbose_feature_names_out=False),\n",
       " 'preprocess__cols_transf__force_int_remainder_cols': True,\n",
       " 'preprocess__cols_transf__n_jobs': None,\n",
       " 'preprocess__cols_transf__remainder': 'passthrough',\n",
       " 'preprocess__cols_transf__sparse_threshold': 0.3,\n",
       " 'preprocess__cols_transf__transformer_weights': None,\n",
       " 'preprocess__cols_transf__transformers': [('scale_data',\n",
       "   MinMaxScaler(),\n",
       "   <sklearn.compose._column_transformer.make_column_selector at 0x79cbe5e658a0>),\n",
       "  ('object', 'drop', ['wallet_address']),\n",
       "  ('categorical',\n",
       "   'passthrough',\n",
       "   <sklearn.compose._column_transformer.make_column_selector at 0x79cbe5e66350>)],\n",
       " 'preprocess__cols_transf__verbose': False,\n",
       " 'preprocess__cols_transf__verbose_feature_names_out': False,\n",
       " 'preprocess__cols_transf__scale_data': MinMaxScaler(),\n",
       " 'preprocess__cols_transf__object': 'drop',\n",
       " 'preprocess__cols_transf__categorical': 'passthrough',\n",
       " 'preprocess__cols_transf__scale_data__clip': False,\n",
       " 'preprocess__cols_transf__scale_data__copy': True,\n",
       " 'preprocess__cols_transf__scale_data__feature_range': (0, 1),\n",
       " 'rf_clf__bootstrap': True,\n",
       " 'rf_clf__ccp_alpha': 0.0,\n",
       " 'rf_clf__class_weight': None,\n",
       " 'rf_clf__criterion': 'entropy',\n",
       " 'rf_clf__max_depth': None,\n",
       " 'rf_clf__max_features': 'sqrt',\n",
       " 'rf_clf__max_leaf_nodes': None,\n",
       " 'rf_clf__max_samples': None,\n",
       " 'rf_clf__min_impurity_decrease': 0.0,\n",
       " 'rf_clf__min_samples_leaf': 1,\n",
       " 'rf_clf__min_samples_split': 2,\n",
       " 'rf_clf__min_weight_fraction_leaf': 0.0,\n",
       " 'rf_clf__monotonic_cst': None,\n",
       " 'rf_clf__n_estimators': 100,\n",
       " 'rf_clf__n_jobs': None,\n",
       " 'rf_clf__oob_score': False,\n",
       " 'rf_clf__random_state': 29,\n",
       " 'rf_clf__verbose': 0,\n",
       " 'rf_clf__warm_start': False}"
      ]
     },
     "execution_count": 15,
     "metadata": {},
     "output_type": "execute_result"
    }
   ],
   "source": [
    "rf_pipe.get_params()"
   ]
  },
  {
   "cell_type": "code",
   "execution_count": null,
   "metadata": {
    "id": "Q1HNFH5zWZe0"
   },
   "outputs": [],
   "source": [
    "from sklearn.metrics import f1_score\n",
    "from time import process_time"
   ]
  },
  {
   "cell_type": "code",
   "execution_count": null,
   "metadata": {
    "id": "ttnkiVZItFeG"
   },
   "outputs": [],
   "source": [
    "# Optimización de parámetros del modelo seleccionado.\n",
    "\n",
    "def objective_function(trial):\n",
    "    # Comenzamos a tomar el tiempo que tarda en ejecutarse cada iteración\n",
    "    inicial_time = process_time()\n",
    "\n",
    "    # Split into train and validation sets\n",
    "\n",
    "    X_train, X_valid, y_train, y_valid = train_test_split(\n",
    "        X, y , test_size=0.2, random_state=29)\n",
    "\n",
    "    y_train, y_valid = np.ravel(y_train), np.ravel(y_valid)\n",
    "\n",
    "    # Hyperparameters\n",
    "    rf_params = {\n",
    "        \"rf_clf__n_estimators\": trial.suggest_int(\"n_estimators\", 10, 400),\n",
    "        \"rf_clf__criterion\": trial.suggest_categorical('criterion', ['gini', 'entropy', 'log_loss']),\n",
    "        \"rf_clf__max_depth\": trial.suggest_int(\"max_depth\", 3, 50),\n",
    "        'rf_clf__max_leaf_nodes': trial.suggest_int('max_leaf_nodes', 2, 60),\n",
    "        'rf_clf__max_features':  trial.suggest_categorical('max_features', ['sqrt', 'log2', None])\n",
    "        }\n",
    "\n",
    "    # rf_pipe = Pipeline([\n",
    "    #                 ('preprocess', transf_pipe),\n",
    "    #                 ('rf_clf', RandomForestClassifier(random_state=29))\n",
    "    #                 ])\n",
    "    rf_pipe.fit(\n",
    "        X_train,\n",
    "        y_train,\n",
    "    ).set_params(**rf_params)\n",
    "\n",
    "    # Predict and evaluate the model\n",
    "    yhat = rf_pipe.predict(X_valid)\n",
    "    f1 = f1_score(y_valid, yhat, average='weighted')\n",
    "    elapsed_time = process_time() - inicial_time\n",
    "\n",
    "    print('elapsed_time', elapsed_time)\n",
    "    print('f1 score', f1)\n",
    "    print('')\n",
    "    return f1\n"
   ]
  },
  {
   "cell_type": "code",
   "execution_count": null,
   "metadata": {
    "collapsed": true,
    "id": "tbj-3PYgtFeG"
   },
   "outputs": [],
   "source": [
    "inicial_opti = process_time()\n",
    "\n",
    "study = optuna.create_study(study_name='RandomForest optimization', direction=\"maximize\")\n",
    "study.optimize(objective_function, n_trials=10)\n",
    "opti_time = process_time() - inicial_opti\n",
    "print('Tiempo total de opti: ', opti_time)"
   ]
  },
  {
   "cell_type": "markdown",
   "metadata": {
    "id": "3tMGdInZxDD0"
   },
   "source": [
    "### XGBoost"
   ]
  },
  {
   "cell_type": "code",
   "execution_count": null,
   "metadata": {
    "colab": {
     "base_uri": "https://localhost:8080/"
    },
    "id": "sf_hJa3_x0cH",
    "outputId": "011950ba-3c82-42cb-bcfc-994e623b9754"
   },
   "outputs": [
    {
     "name": "stdout",
     "output_type": "stream",
     "text": [
      "Requirement already satisfied: xgboost in /usr/local/lib/python3.10/dist-packages (2.1.2)\n",
      "Requirement already satisfied: numpy in /usr/local/lib/python3.10/dist-packages (from xgboost) (1.26.4)\n",
      "Requirement already satisfied: nvidia-nccl-cu12 in /usr/local/lib/python3.10/dist-packages (from xgboost) (2.23.4)\n",
      "Requirement already satisfied: scipy in /usr/local/lib/python3.10/dist-packages (from xgboost) (1.13.1)\n"
     ]
    }
   ],
   "source": [
    "!pip install xgboost"
   ]
  },
  {
   "cell_type": "code",
   "execution_count": null,
   "metadata": {
    "colab": {
     "base_uri": "https://localhost:8080/"
    },
    "id": "xrjxUrKnxCho",
    "outputId": "b58823a0-96c2-4801-90ba-47f6f0d9fb5b"
   },
   "outputs": [
    {
     "data": {
      "text/plain": [
       "0.8858454360749493"
      ]
     },
     "execution_count": 18,
     "metadata": {},
     "output_type": "execute_result"
    }
   ],
   "source": [
    "from xgboost import XGBClassifier\n",
    "\n",
    "xgb_pipe = Pipeline([\n",
    "                    ('preprocess', transf_pipe),\n",
    "                    ('xgb_clf', XGBClassifier(random_state=29,\n",
    "                                              enable_categorical=True))\n",
    "                    ])\n",
    "\n",
    "xgb_pipe.fit(X_train, y_train)\n",
    "y_xgb= xgb_pipe.predict(X_test)\n",
    "xgb_pipe.score(X_test, y_test)"
   ]
  },
  {
   "cell_type": "code",
   "execution_count": null,
   "metadata": {
    "id": "bvQS0sady5pe"
   },
   "outputs": [],
   "source": [
    "def objective_function(trial):\n",
    "    # Comenzamos a tomar el tiempo que tarda en ejecutarse cada iteración\n",
    "    inicial_time = process_time()\n",
    "\n",
    "    # Split into train and validation sets\n",
    "    X_train, X_valid, y_train, y_valid = train_test_split(\n",
    "        X, y , test_size=0.2, random_state=29)\n",
    "\n",
    "    y_train, y_valid = np.ravel(y_train), np.ravel(y_valid)\n",
    "\n",
    "    # Hyperparameters\n",
    "    xgb_params = {\n",
    "            \"xgb_clf__n_estimators\": trial.suggest_int(\"n_estimators\", 10, 500),\n",
    "            \"xgb_clf__max_depth\": trial.suggest_int(\"max_depth\", 3, 10),\n",
    "            'xgb_clf__max_leaves': trial.suggest_int(\"max_leaves\", 3, 30),\n",
    "            \"xgb_clf__grow_policy\": trial.suggest_categorical('grow_policy', ['depthwise', 'lossguide']),\n",
    "            \"xgb_clf__learning_rate\": trial.suggest_float(\"learning_rate\", 0.001, 0.1, log=True),\n",
    "            \"xgb_clf__n_jobs\": trial.suggest_int('n_jobs', 1, 3),\n",
    "            \"xgb_clf__gamma\": trial.suggest_float(\"gamma\", 0, 1),\n",
    "            \"xgb_clf__min_child_weight\": trial.suggest_int(\"min_child_weight\", 1, 7),\n",
    "            \"xgb_clf__subsample\": trial.suggest_float(\"subsample\", 0.5, 1.0),\n",
    "            \"xgb_clf__colsample_bytree\": trial.suggest_float(\"colsample_bytree\", 0.5, 1.0),\n",
    "        }\n",
    "\n",
    "    xgb_pipe.fit(\n",
    "        X_train,\n",
    "        y_train,\n",
    "      ).set_params(**xgb_params)\n",
    "\n",
    "    # Predict and evaluate the model\n",
    "    yhat = xgb_pipe.predict(X_valid)\n",
    "    f1 = f1_score(y_valid, yhat, average='weighted')\n",
    "    elapsed_time = process_time() - inicial_time\n",
    "\n",
    "    print('elapsed_time', elapsed_time)\n",
    "    print('f1 score', f1)\n",
    "    print('')\n",
    "    return f1\n"
   ]
  },
  {
   "cell_type": "code",
   "execution_count": null,
   "metadata": {
    "colab": {
     "base_uri": "https://localhost:8080/"
    },
    "collapsed": true,
    "id": "x-Et6Ks4Wc4X",
    "outputId": "b51a6ded-538e-4753-d91c-96afa748408c"
   },
   "outputs": [
    {
     "name": "stdout",
     "output_type": "stream",
     "text": [
      "Collecting optuna\n",
      "  Downloading optuna-4.1.0-py3-none-any.whl.metadata (16 kB)\n",
      "Collecting alembic>=1.5.0 (from optuna)\n",
      "  Downloading alembic-1.14.0-py3-none-any.whl.metadata (7.4 kB)\n",
      "Collecting colorlog (from optuna)\n",
      "  Downloading colorlog-6.9.0-py3-none-any.whl.metadata (10 kB)\n",
      "Requirement already satisfied: numpy in /usr/local/lib/python3.10/dist-packages (from optuna) (1.26.4)\n",
      "Requirement already satisfied: packaging>=20.0 in /usr/local/lib/python3.10/dist-packages (from optuna) (24.2)\n",
      "Requirement already satisfied: sqlalchemy>=1.4.2 in /usr/local/lib/python3.10/dist-packages (from optuna) (2.0.36)\n",
      "Requirement already satisfied: tqdm in /usr/local/lib/python3.10/dist-packages (from optuna) (4.66.6)\n",
      "Requirement already satisfied: PyYAML in /usr/local/lib/python3.10/dist-packages (from optuna) (6.0.2)\n",
      "Collecting Mako (from alembic>=1.5.0->optuna)\n",
      "  Downloading Mako-1.3.7-py3-none-any.whl.metadata (2.9 kB)\n",
      "Requirement already satisfied: typing-extensions>=4 in /usr/local/lib/python3.10/dist-packages (from alembic>=1.5.0->optuna) (4.12.2)\n",
      "Requirement already satisfied: greenlet!=0.4.17 in /usr/local/lib/python3.10/dist-packages (from sqlalchemy>=1.4.2->optuna) (3.1.1)\n",
      "Requirement already satisfied: MarkupSafe>=0.9.2 in /usr/local/lib/python3.10/dist-packages (from Mako->alembic>=1.5.0->optuna) (3.0.2)\n",
      "Downloading optuna-4.1.0-py3-none-any.whl (364 kB)\n",
      "\u001b[2K   \u001b[90m━━━━━━━━━━━━━━━━━━━━━━━━━━━━━━━━━━━━━━━━\u001b[0m \u001b[32m364.4/364.4 kB\u001b[0m \u001b[31m7.7 MB/s\u001b[0m eta \u001b[36m0:00:00\u001b[0m\n",
      "\u001b[?25hDownloading alembic-1.14.0-py3-none-any.whl (233 kB)\n",
      "\u001b[2K   \u001b[90m━━━━━━━━━━━━━━━━━━━━━━━━━━━━━━━━━━━━━━━━\u001b[0m \u001b[32m233.5/233.5 kB\u001b[0m \u001b[31m15.4 MB/s\u001b[0m eta \u001b[36m0:00:00\u001b[0m\n",
      "\u001b[?25hDownloading colorlog-6.9.0-py3-none-any.whl (11 kB)\n",
      "Downloading Mako-1.3.7-py3-none-any.whl (78 kB)\n",
      "\u001b[2K   \u001b[90m━━━━━━━━━━━━━━━━━━━━━━━━━━━━━━━━━━━━━━━━\u001b[0m \u001b[32m78.9/78.9 kB\u001b[0m \u001b[31m6.0 MB/s\u001b[0m eta \u001b[36m0:00:00\u001b[0m\n",
      "\u001b[?25hInstalling collected packages: Mako, colorlog, alembic, optuna\n",
      "Successfully installed Mako-1.3.7 alembic-1.14.0 colorlog-6.9.0 optuna-4.1.0\n"
     ]
    }
   ],
   "source": [
    "pip install optuna"
   ]
  },
  {
   "cell_type": "code",
   "execution_count": null,
   "metadata": {
    "colab": {
     "base_uri": "https://localhost:8080/"
    },
    "id": "EUO26bW9z88T",
    "outputId": "4c8c0d13-9f3d-4716-9507-ee31413415d2"
   },
   "outputs": [
    {
     "name": "stderr",
     "output_type": "stream",
     "text": [
      "[I 2024-12-04 20:26:22,990] A new study created in memory with name: XGBoost Clf optimization\n",
      "[I 2024-12-04 20:26:39,596] Trial 0 finished with value: 0.8910427663548696 and parameters: {'n_estimators': 130, 'max_depth': 7, 'max_leaves': 27, 'grow_policy': 'depthwise', 'learning_rate': 0.00612164787608574, 'n_jobs': 1, 'gamma': 0.09002119746002757, 'min_child_weight': 2, 'subsample': 0.5548786194877064, 'colsample_bytree': 0.8901226152691828}. Best is trial 0 with value: 0.8910427663548696.\n"
     ]
    },
    {
     "name": "stdout",
     "output_type": "stream",
     "text": [
      "elapsed_time 13.163723465000004\n",
      "f1 score 0.8910427663548696\n",
      "\n"
     ]
    },
    {
     "name": "stderr",
     "output_type": "stream",
     "text": [
      "[I 2024-12-04 20:26:44,374] Trial 1 finished with value: 0.7992617634637122 and parameters: {'n_estimators': 47, 'max_depth': 3, 'max_leaves': 25, 'grow_policy': 'lossguide', 'learning_rate': 0.01807576817824144, 'n_jobs': 1, 'gamma': 0.10749688994823847, 'min_child_weight': 6, 'subsample': 0.849687222441334, 'colsample_bytree': 0.565362222582908}. Best is trial 0 with value: 0.8910427663548696.\n"
     ]
    },
    {
     "name": "stdout",
     "output_type": "stream",
     "text": [
      "elapsed_time 4.7097025459999955\n",
      "f1 score 0.7992617634637122\n",
      "\n"
     ]
    },
    {
     "name": "stderr",
     "output_type": "stream",
     "text": [
      "[I 2024-12-04 20:26:45,741] Trial 2 finished with value: 0.7706240552740429 and parameters: {'n_estimators': 376, 'max_depth': 7, 'max_leaves': 24, 'grow_policy': 'lossguide', 'learning_rate': 0.013834993169236573, 'n_jobs': 2, 'gamma': 0.3528878793736139, 'min_child_weight': 1, 'subsample': 0.677406451303477, 'colsample_bytree': 0.7437384055776143}. Best is trial 0 with value: 0.8910427663548696.\n"
     ]
    },
    {
     "name": "stdout",
     "output_type": "stream",
     "text": [
      "elapsed_time 1.4690820089999974\n",
      "f1 score 0.7706240552740429\n",
      "\n"
     ]
    },
    {
     "name": "stderr",
     "output_type": "stream",
     "text": [
      "[I 2024-12-04 20:26:54,795] Trial 3 finished with value: 0.8350946783059382 and parameters: {'n_estimators': 143, 'max_depth': 7, 'max_leaves': 3, 'grow_policy': 'depthwise', 'learning_rate': 0.04219150808648471, 'n_jobs': 3, 'gamma': 0.65944843026627, 'min_child_weight': 3, 'subsample': 0.7139854424330117, 'colsample_bytree': 0.5234032275806103}. Best is trial 0 with value: 0.8910427663548696.\n"
     ]
    },
    {
     "name": "stdout",
     "output_type": "stream",
     "text": [
      "elapsed_time 16.284833629999994\n",
      "f1 score 0.8350946783059382\n",
      "\n"
     ]
    },
    {
     "name": "stderr",
     "output_type": "stream",
     "text": [
      "[I 2024-12-04 20:26:57,306] Trial 4 finished with value: 0.7736662990839697 and parameters: {'n_estimators': 170, 'max_depth': 7, 'max_leaves': 28, 'grow_policy': 'lossguide', 'learning_rate': 0.027383732784841276, 'n_jobs': 3, 'gamma': 0.4338075275827312, 'min_child_weight': 6, 'subsample': 0.9378191725210808, 'colsample_bytree': 0.7578774859650863}. Best is trial 0 with value: 0.8910427663548696.\n"
     ]
    },
    {
     "name": "stdout",
     "output_type": "stream",
     "text": [
      "elapsed_time 3.3301307389999977\n",
      "f1 score 0.7736662990839697\n",
      "\n"
     ]
    },
    {
     "name": "stderr",
     "output_type": "stream",
     "text": [
      "[I 2024-12-04 20:27:01,709] Trial 5 finished with value: 0.832251274461715 and parameters: {'n_estimators': 98, 'max_depth': 6, 'max_leaves': 28, 'grow_policy': 'depthwise', 'learning_rate': 0.01656075434427193, 'n_jobs': 1, 'gamma': 0.8081107396635475, 'min_child_weight': 5, 'subsample': 0.6715743140880799, 'colsample_bytree': 0.6955345488431928}. Best is trial 0 with value: 0.8910427663548696.\n"
     ]
    },
    {
     "name": "stdout",
     "output_type": "stream",
     "text": [
      "elapsed_time 8.00888912100001\n",
      "f1 score 0.832251274461715\n",
      "\n"
     ]
    },
    {
     "name": "stderr",
     "output_type": "stream",
     "text": [
      "[I 2024-12-04 20:27:04,488] Trial 6 finished with value: 0.8068179150954266 and parameters: {'n_estimators': 481, 'max_depth': 7, 'max_leaves': 6, 'grow_policy': 'depthwise', 'learning_rate': 0.025739676277709202, 'n_jobs': 3, 'gamma': 0.7990891528054374, 'min_child_weight': 5, 'subsample': 0.8008741572004341, 'colsample_bytree': 0.8646440444691503}. Best is trial 0 with value: 0.8910427663548696.\n"
     ]
    },
    {
     "name": "stdout",
     "output_type": "stream",
     "text": [
      "elapsed_time 2.891800269000001\n",
      "f1 score 0.8068179150954266\n",
      "\n"
     ]
    },
    {
     "name": "stderr",
     "output_type": "stream",
     "text": [
      "[I 2024-12-04 20:27:11,682] Trial 7 finished with value: 0.8130346906482963 and parameters: {'n_estimators': 174, 'max_depth': 9, 'max_leaves': 27, 'grow_policy': 'lossguide', 'learning_rate': 0.05768216232615857, 'n_jobs': 3, 'gamma': 0.19512906493995108, 'min_child_weight': 5, 'subsample': 0.8814956591669705, 'colsample_bytree': 0.6562661315967855}. Best is trial 0 with value: 0.8910427663548696.\n"
     ]
    },
    {
     "name": "stdout",
     "output_type": "stream",
     "text": [
      "elapsed_time 11.119512861999993\n",
      "f1 score 0.8130346906482963\n",
      "\n"
     ]
    },
    {
     "name": "stderr",
     "output_type": "stream",
     "text": [
      "[I 2024-12-04 20:27:15,784] Trial 8 finished with value: 0.8566624896713665 and parameters: {'n_estimators': 447, 'max_depth': 10, 'max_leaves': 20, 'grow_policy': 'lossguide', 'learning_rate': 0.0054441086539125496, 'n_jobs': 1, 'gamma': 0.9036958140347973, 'min_child_weight': 6, 'subsample': 0.5686850965343634, 'colsample_bytree': 0.8923193253644796}. Best is trial 0 with value: 0.8910427663548696.\n"
     ]
    },
    {
     "name": "stdout",
     "output_type": "stream",
     "text": [
      "elapsed_time 7.571388710999997\n",
      "f1 score 0.8566624896713665\n",
      "\n"
     ]
    },
    {
     "name": "stderr",
     "output_type": "stream",
     "text": [
      "[I 2024-12-04 20:27:27,291] Trial 9 finished with value: 0.815796460208515 and parameters: {'n_estimators': 430, 'max_depth': 10, 'max_leaves': 11, 'grow_policy': 'depthwise', 'learning_rate': 0.05264160306771081, 'n_jobs': 1, 'gamma': 0.030298751469984286, 'min_child_weight': 6, 'subsample': 0.6996115247115848, 'colsample_bytree': 0.7343145630497011}. Best is trial 0 with value: 0.8910427663548696.\n"
     ]
    },
    {
     "name": "stdout",
     "output_type": "stream",
     "text": [
      "elapsed_time 11.544659451000001\n",
      "f1 score 0.815796460208515\n",
      "\n",
      "Tiempo total de opti:  80.169018967\n"
     ]
    }
   ],
   "source": [
    "import optuna\n",
    "\n",
    "inicial_opti = process_time()\n",
    "\n",
    "study = optuna.create_study(study_name='XGBoost Clf optimization', direction=\"maximize\")\n",
    "study.optimize(objective_function, n_trials=10)\n",
    "opti_time = process_time() - inicial_opti\n",
    "print('Tiempo total de opti: ', opti_time)"
   ]
  },
  {
   "cell_type": "code",
   "execution_count": null,
   "metadata": {
    "colab": {
     "base_uri": "https://localhost:8080/"
    },
    "id": "1RJtG42k2_Ry",
    "outputId": "c388b621-40f8-4c5c-d617-f1a1821f22d7"
   },
   "outputs": [
    {
     "name": "stdout",
     "output_type": "stream",
     "text": [
      "XGBoost Clf optimization\n",
      "f1:  0.8910427663548696\n",
      "best params:  {'n_estimators': 130, 'max_depth': 7, 'max_leaves': 27, 'grow_policy': 'depthwise', 'learning_rate': 0.00612164787608574, 'n_jobs': 1, 'gamma': 0.09002119746002757, 'min_child_weight': 2, 'subsample': 0.5548786194877064, 'colsample_bytree': 0.8901226152691828}\n"
     ]
    }
   ],
   "source": [
    "# Mejor modelo\n",
    "print(study.study_name)\n",
    "print('f1: ', study.best_trial.value)\n",
    "best_params = study.best_trial.params\n",
    "print('best params: ', best_params)\n",
    "\n",
    "# Debemos agregar 'xgb_clf__' a cada key para poder entrenar el modelo con los parametros encontrados\n",
    "xgb_best_params = {f\"xgb_clf__{k}\": v for k, v in best_params.items()}"
   ]
  },
  {
   "cell_type": "code",
   "execution_count": null,
   "metadata": {
    "colab": {
     "base_uri": "https://localhost:8080/"
    },
    "id": "IKo1lCU97n2v",
    "outputId": "0ac7a62a-f70e-4d81-efb7-33911a7cbc82"
   },
   "outputs": [
    {
     "data": {
      "text/plain": [
       "dict_items([('n_estimators', 130), ('max_depth', 7), ('max_leaves', 27), ('grow_policy', 'depthwise'), ('learning_rate', 0.00612164787608574), ('n_jobs', 1), ('gamma', 0.09002119746002757), ('min_child_weight', 2), ('subsample', 0.5548786194877064), ('colsample_bytree', 0.8901226152691828)])"
      ]
     },
     "execution_count": 27,
     "metadata": {},
     "output_type": "execute_result"
    }
   ],
   "source": [
    "best_params.items()"
   ]
  },
  {
   "cell_type": "code",
   "execution_count": null,
   "metadata": {
    "id": "bPKgOs1t7n1L"
   },
   "outputs": [],
   "source": []
  },
  {
   "cell_type": "code",
   "execution_count": null,
   "metadata": {
    "id": "EOaKSXDb5sMy"
   },
   "outputs": [],
   "source": [
    "# Entreno el modelo con los mejores parámetros\n",
    "xgb_pipe.fit(X_train, y_train).set_params(**xgb_best_params)"
   ]
  },
  {
   "cell_type": "markdown",
   "metadata": {
    "id": "nIh-EI89w_wE"
   },
   "source": [
    "## Interpretabilidad"
   ]
  },
  {
   "cell_type": "code",
   "execution_count": null,
   "metadata": {
    "id": "F-ThJigtxOcm"
   },
   "outputs": [],
   "source": [
    "X_t1 = pd.read_parquet('X_t1.parquet')\n",
    "y_t1 = pd.read_parquet('y_t1.parquet')\n",
    "X_t2 = pd.read_parquet('X_t2.parquet')\n",
    "\n",
    "X_train_t1, X_test_t1, y_train_t1, y_test_t1 = train_test_split(X_t1, y_t1,\n",
    "                                                    test_size=0.3, random_state=29, shuffle=True,)"
   ]
  },
  {
   "cell_type": "markdown",
   "metadata": {
    "id": "DE3XewqNxJBk"
   },
   "source": [
    "# Re-entrenamiento de modelos\n",
    "\n",
    "Con la variación y entrega de nuevos datos, un proyecto de data-science debe incluir este paso. Sin embargo, entrenar con todos los datos puede ser costoso. Es importante comprender que un re-entrenamiento puede ser caro y requiere herramientas adecuadas. Como primera aproximación a este paradigma, se les pide lo siguiente:\n",
    "\n",
    "- Diseñar y ejecutar estrategias de re-entrenamiento para mantener la precisión y relevancia de los modelos, utilizando estrategias de ```partial_fit```\n",
    "- Automatizar el proceso de actualización de modelos basados en nuevos datos y feedback recibido a través de una función.\n",
    "- Acompañar el re-entrenamiento de una etapa de optimización.\n",
    "\n",
    "Podría serles útil la inicialización de modelos en base a pesos pasados. Mayor información la pueden encontrar en el siguiente [link](https://stackoverflow.com/questions/38079853/how-can-i-implement-incremental-training-for-xgboost)."
   ]
  },
  {
   "cell_type": "code",
   "execution_count": null,
   "metadata": {
    "colab": {
     "base_uri": "https://localhost:8080/"
    },
    "collapsed": true,
    "id": "Kpj2300v9ohX",
    "outputId": "d05773dc-8084-49b4-bbc1-de751c589015"
   },
   "outputs": [
    {
     "data": {
      "text/plain": [
       "{'objective': 'binary:logistic',\n",
       " 'base_score': None,\n",
       " 'booster': None,\n",
       " 'callbacks': None,\n",
       " 'colsample_bylevel': None,\n",
       " 'colsample_bynode': None,\n",
       " 'colsample_bytree': 0.7316593364997117,\n",
       " 'device': None,\n",
       " 'early_stopping_rounds': None,\n",
       " 'enable_categorical': True,\n",
       " 'eval_metric': None,\n",
       " 'feature_types': None,\n",
       " 'gamma': 0.46692061985110067,\n",
       " 'grow_policy': 'depthwise',\n",
       " 'importance_type': None,\n",
       " 'interaction_constraints': None,\n",
       " 'learning_rate': 0.09043057330159886,\n",
       " 'max_bin': None,\n",
       " 'max_cat_threshold': None,\n",
       " 'max_cat_to_onehot': None,\n",
       " 'max_delta_step': None,\n",
       " 'max_depth': 9,\n",
       " 'max_leaves': 7,\n",
       " 'min_child_weight': 2,\n",
       " 'missing': nan,\n",
       " 'monotone_constraints': None,\n",
       " 'multi_strategy': None,\n",
       " 'n_estimators': 378,\n",
       " 'n_jobs': 2,\n",
       " 'num_parallel_tree': None,\n",
       " 'random_state': 29,\n",
       " 'reg_alpha': None,\n",
       " 'reg_lambda': None,\n",
       " 'sampling_method': None,\n",
       " 'scale_pos_weight': None,\n",
       " 'subsample': 0.710585955296333,\n",
       " 'tree_method': None,\n",
       " 'validate_parameters': None,\n",
       " 'verbosity': None}"
      ]
     },
     "execution_count": 25,
     "metadata": {},
     "output_type": "execute_result"
    }
   ],
   "source": [
    "# xgb_pipe.named_steps['xgb_clf'].get_params()"
   ]
  },
  {
   "cell_type": "code",
   "execution_count": null,
   "metadata": {
    "id": "UA4qI3AbIaAX"
   },
   "outputs": [],
   "source": [
    "from sklearn.metrics import mean_squared_error\n",
    "import xgboost as xgb"
   ]
  },
  {
   "cell_type": "code",
   "execution_count": null,
   "metadata": {
    "colab": {
     "base_uri": "https://localhost:8080/"
    },
    "id": "asfL0OuG6P-9",
    "outputId": "ccc60f4f-637d-4e34-c9fc-dcc5b8b847ff"
   },
   "outputs": [
    {
     "name": "stdout",
     "output_type": "stream",
     "text": [
      "Score t0: 0.8013394536834977\n"
     ]
    }
   ],
   "source": [
    "model = xgb_pipe.fit(X_train, y_train).set_params(**xgb_best_params)\n",
    "print(\"Score t0:\", xgb_pipe.score(X_test, y_test))"
   ]
  },
  {
   "cell_type": "code",
   "execution_count": null,
   "metadata": {
    "colab": {
     "base_uri": "https://localhost:8080/"
    },
    "id": "_c64-Jpy5oqT",
    "outputId": "3006b957-3ea5-4fe0-da74-aa0f75b9bfad"
   },
   "outputs": [
    {
     "name": "stdout",
     "output_type": "stream",
     "text": [
      "Score t0: 0.8013394536834977\n",
      "Incremental model f1 score after batch 0: 0.794888265236676\n",
      "Incremental model f1 score after batch 2000: 0.799355505404701\n",
      "Incremental model f1 score after batch 4000: 0.8008748038477025\n",
      "Incremental model f1 score after batch 6000: 0.8035382360343697\n",
      "Incremental model f1 score after batch 8000: 0.8069991117302833\n",
      "Incremental model f1 score after batch 10000: 0.8079212776015634\n",
      "Incremental model f1 score after batch 12000: 0.8069717170808425\n",
      "Incremental model f1 score after batch 14000: 0.810184792595038\n",
      "Incremental model f1 score after batch 16000: 0.8125981051565923\n",
      "Incremental model f1 score after batch 18000: 0.8134166040071317\n",
      "Incremental model f1 score after batch 20000: 0.8133294157461598\n",
      "Incremental model f1 score after batch 22000: 0.8139232849808791\n",
      "Incremental model f1 score after batch 24000: 0.8139299199308677\n",
      "Incremental model f1 score after batch 26000: 0.8147089354488908\n",
      "Incremental model f1 score after batch 28000: 0.815016073518495\n",
      "Incremental model f1 score after batch 30000: 0.8166583532847518\n",
      "Incremental model f1 score after batch 32000: 0.8177563444945477\n",
      "Incremental model f1 score after batch 34000: 0.8182821127979543\n",
      "Incremental model f1 score after batch 36000: 0.8181006591460471\n",
      "Incremental model f1 score after batch 38000: 0.8179339995143774\n",
      "Incremental model f1 score after batch 40000: 0.8191830947522565\n",
      "Incremental model f1 score after batch 42000: 0.8196250657812711\n",
      "Incremental model f1 score after batch 44000: 0.8199926563557217\n",
      "Incremental model f1 score after batch 46000: 0.8211012576644994\n",
      "Incremental model f1 score after batch 48000: 0.821029514868628\n",
      "Incremental model f1 score after batch 50000: 0.8208016843595995\n",
      "Incremental model f1 score after batch 52000: 0.8206169414138694\n",
      "Incremental model f1 score after batch 54000: 0.8218882156146159\n",
      "Incremental model f1 score after batch 56000: 0.821655310293609\n",
      "Incremental model f1 score after batch 58000: 0.8226314049936635\n",
      "Incremental model f1 score after batch 60000: 0.8220161648895803\n",
      "Incremental model f1 score after batch 62000: 0.8221737287298098\n",
      "Incremental model f1 score after batch 64000: 0.8232226446290116\n",
      "Incremental model f1 score after batch 66000: 0.823649503488645\n",
      "Incremental model f1 score after batch 68000: 0.8242625429151886\n",
      "Incremental model f1 score after batch 70000: 0.8259580670638564\n",
      "Incremental model f1 score after batch 72000: 0.8262856956279804\n",
      "Incremental model f1 score after batch 74000: 0.8275899920409201\n",
      "Incremental model f1 score after batch 76000: 0.8273264888871771\n",
      "Incremental model f1 score after batch 78000: 0.8262915837757363\n",
      "Incremental model f1 score after batch 80000: 0.8268844363764902\n",
      "Incremental model f1 score after batch 82000: 0.8278208538367253\n",
      "Incremental model f1 score after batch 84000: 0.8286176789552455\n",
      "Incremental model f1 score after batch 86000: 0.8294070385149593\n",
      "Incremental model f1 score after batch 88000: 0.829055438806165\n",
      "Incremental model f1 score after batch 90000: 0.8295759027062671\n",
      "Incremental model f1 score after batch 92000: 0.8288541451853624\n"
     ]
    }
   ],
   "source": [
    "# Initial training\n",
    "batch_size=3000\n",
    "# Entreno el modelo con los mejores parámetros\n",
    "xgb_pipe.fit(X_train, y_train).set_params(**xgb_best_params)\n",
    "print(\"Score t0:\", xgb_pipe.score(X_test, y_test))\n",
    "\n",
    "for start in range(0, len(X_train_t1), batch_size):\n",
    "\n",
    "    # Incremental training on next batch\n",
    "    X_batch, y_batch = X_train_t1[start:start+batch_size], y_train_t1[start:start+batch_size]\n",
    "\n",
    "    X_train_batch= xgb_pipe.named_steps['preprocess'].transform(X_batch)\n",
    "    xgb_pipe.named_steps['xgb_clf'].fit(X_train_batch, y_batch,\n",
    "                                        xgb_model = xgb_pipe.named_steps['xgb_clf']\\\n",
    "                                                            .get_booster())\n",
    "\n",
    "    y_xgb_2 = xgb_pipe.predict(X_test_t1)\n",
    "    print(f\"Incremental model f1 score after batch {start}:\", f1_score(y_test_t1, y_xgb_2, average='weighted'))"
   ]
  },
  {
   "cell_type": "code",
   "execution_count": null,
   "metadata": {
    "colab": {
     "base_uri": "https://localhost:8080/"
    },
    "id": "GOjamHRFb6sh",
    "outputId": "5a24d94a-40f5-4ae2-856e-daa5906bc777"
   },
   "outputs": [
    {
     "data": {
      "text/plain": [
       "0.7577758356574243"
      ]
     },
     "execution_count": 43,
     "metadata": {},
     "output_type": "execute_result"
    }
   ],
   "source": [
    "y_xgb_2 = xgb_pipe.predict(X_test)\n",
    "\n",
    "f1_score(y_test, y_xgb_2, average='weighted')"
   ]
  },
  {
   "cell_type": "code",
   "execution_count": null,
   "metadata": {
    "id": "W45m0gBeaMlF"
   },
   "outputs": [],
   "source": [
    "from zipfile import ZipFile\n",
    "import os\n",
    "def generateFiles(predict_data, clf_pipe):\n",
    "    \"\"\"Genera los archivos a subir en CodaLab\n",
    "\n",
    "    Input\n",
    "    ---------------\n",
    "    predict_data: Dataframe con los datos de entrada a predecir\n",
    "    clf_pipe: pipeline del clf\n",
    "\n",
    "    Ouput\n",
    "    ---------------\n",
    "    archivo de txt\n",
    "    \"\"\"\n",
    "    y_pred_clf = clf_pipe.predict_proba(predict_data)[:, 1]\n",
    "    with open('./predictions.txt', 'w') as f:\n",
    "        for item in y_pred_clf:\n",
    "            f.write(\"%s\\n\" % item)\n",
    "\n",
    "    with ZipFile('predictions.zip', 'w') as zipObj:\n",
    "        zipObj.write('predictions.txt')\n",
    "    os.remove('predictions.txt')\n",
    "\n",
    "generateFiles(X_t2, xgb_pipe)"
   ]
  }
 ],
 "metadata": {
  "colab": {
   "provenance": []
  },
  "kernelspec": {
   "display_name": ".venv",
   "language": "python",
   "name": "python3"
  },
  "language_info": {
   "codemirror_mode": {
    "name": "ipython",
    "version": 3
   },
   "file_extension": ".py",
   "mimetype": "text/x-python",
   "name": "python",
   "nbconvert_exporter": "python",
   "pygments_lexer": "ipython3",
   "version": "3.10.11"
  }
 },
 "nbformat": 4,
 "nbformat_minor": 0
}
