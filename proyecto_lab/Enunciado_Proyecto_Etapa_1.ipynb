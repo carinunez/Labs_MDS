{
 "cells": [
  {
   "cell_type": "markdown",
   "metadata": {
    "cell_id": "444c63b736114e3b9b67559059378f8c",
    "deepnote_app_block_visible": true,
    "deepnote_cell_type": "markdown"
   },
   "source": [
    "![](https://www.dii.uchile.cl/wp-content/uploads/2021/06/Magi%CC%81ster-en-Ciencia-de-Datos.png)\n"
   ]
  },
  {
   "cell_type": "markdown",
   "metadata": {
    "cell_id": "21e0ebf8ffa144328967a9a2400f91c9",
    "deepnote_app_block_visible": true,
    "deepnote_cell_type": "markdown"
   },
   "source": [
    "# De las Comisiones a la Innovación: El Giro de Ignacio Yacurro\n",
    "\n",
    "**MDS7202: Laboratorio de Programación Científica para Ciencia de Datos**\n",
    "\n",
    "### Cuerpo Docente:\n",
    "\n",
    "- Profesor: Sebastián Tinoco, Ignacio Meza De La Jara\n",
    "- Auxiliar: Eduardo Moya Briones\n",
    "- Ayudante: Nicolás Ojeda González, Melanie Peña Torres, Valentina Rojas Osorio\n",
    "\n",
    "_Por favor, lean detalladamente las instrucciones de la tarea antes de empezar a escribir._\n",
    "\n",
    "---\n"
   ]
  },
  {
   "cell_type": "markdown",
   "metadata": {
    "cell_id": "21950333cf004d2099353ccb0c02e248",
    "deepnote_app_block_visible": true,
    "deepnote_cell_type": "markdown"
   },
   "source": [
    "---\n",
    "\n",
    "## Enunciado 📖"
   ]
  },
  {
   "cell_type": "markdown",
   "metadata": {
    "cell_id": "1da3c9afc6df4a6a89d5aada1d058bea",
    "deepnote_app_block_visible": true,
    "deepnote_cell_type": "image",
    "deepnote_img_src": "DALL·E 2024-11-10 18.44.25 - A satirical illustration of a corporate office scene at the 'Banco de Comisiones Infinitas' led by a caricature of Ignacio Yacurro, a shrewd businessm.png",
    "deepnote_img_width": "50%"
   },
   "source": [
    "<center>\n",
    "<img src=\"https://i.ibb.co/XCjRnyJ/Banco-de-Comisiones-Infinitas-led-by-a-caricature-of-Ignacio-Yacurro-a-shrewd-businessm.png\" width=\"35%\" align=\"\" />"
   ]
  },
  {
   "cell_type": "markdown",
   "metadata": {
    "cell_id": "ed0dd18d9d4d4b91ab50499a6d05370a",
    "deepnote_app_block_visible": true,
    "deepnote_cell_type": "markdown"
   },
   "source": [
    "**Banco de Comisiones Infinitas (BCI)**, bajo la visión estratégica de **Ignacio Yacurro**, se destacaba no solo por su habilidad para diseñar ingeniosas comisiones, sino también por su creciente interés en convertirse en líder en innovación financiera. Preocupado por el aumento de préstamos incobrables que amenazaban las arcas del banco, Ignacio decidió dar un giro hacia la modernidad: desarrollar un modelo de riesgo crediticio que le permitiera predecir quiénes pagarían y quiénes no.\n",
    "\n",
    "\"Necesitamos adelantarnos a los impagos, pero sin perder la oportunidad de cobrar jugosas tasas de interés a los clientes con más apuros\", explicó Ignacio a su equipo de científicos de datos. \"Quiero un modelo tan inteligente que identifique al cliente ideal: aquel que paga justo antes de caer en mora, para maximizar nuestros ingresos por intereses.\"\n",
    "\n",
    "Otro punto que menciona el dueño del banco es que un aspecto clave de los modelos crediticios es su capacidad para predecir la **probabilidad de morosidad** de los clientes. Por lo tanto, al entrenar sus modelos, deberán enfocarse en optimizar la predicción de esta probabilidad, asegurándose de que las decisiones tomadas sean consistentes y alineadas con la evaluación del riesgo de incumplimiento. Este enfoque no solo mejorará la precisión de las predicciones, sino que también permitirá una interpretación más clara y útil para la gestión del riesgo financiero.\n",
    "\n",
    "Para incentivar la innovación, Ignacio lanzó un **concurso interno** donde los analistas competirían por diseñar el mejor modelo predictivo de riesgo crediticio. El concurso consta de **3 etapas + 1 etapa de revisión de pares** y los participantes recibirían datos semanalmente, simulando un problema real. En cada etapa, los concursantes deberán subir los resultados de su mejor modelo a **CodaLab** utilizando la función **generateFiles**, disponible en el anexo. Cada equipo tendrá hasta **3 intentos** para cargar sus modelos por etapa.\n",
    "\n",
    "Las fechas del concurso son las siguientes:  \n",
    "- **Entrega Parcial 1**: del 13 al 28 de Noviembre del 2024 \n",
    "- **Entrega Parcial 2**: del 29 de Noviembre al 5 de Diciembre del 2024  \n",
    "- **Entrega Final**: del 6 al 12 de Diciembre del 2024\n",
    "- **Revisión de Pares**: del 13 al 14 de Diciembre del 2024\n",
    "\n",
    "**Importante: Las vacaciones comienzan el Lunes 16 de Diciembre y el equipo debe corregir sus entregas, por lo que consideren que <u>NO PODEMOS EXTENDER LOS PLAZOS.</u>**\n",
    "\n",
    "\"Por favor, lean detalladamente las instrucciones de la tarea antes de empezar a escribir\", insistió Ignacio, subrayando la importancia de la preparación.\n",
    "\n",
    "El equipo de analistas recibió una amplia gama de datos, desde historiales crediticios hasta ingresos y patrones de gasto, y se les animó a explorar técnicas avanzadas de machine learning para predecir la probabilidad de incumplimiento de los clientes. Ignacio insistió en que los modelos fueran interpretables para garantizar que las decisiones estuvieran alineadas con los intereses del negocio y pudieran justificarse ante los reguladores.\n",
    "\n",
    "Así, mientras los equipos trabajaban febrilmente para superar cada etapa del concurso, Ignacio Yacurro sonreía desde su oficina, anticipando los beneficios que traería esta carrera por la innovación. \"Que gane el mejor\", pensó, mientras ya planeaba cómo capitalizar los resultados para llevar al Banco de Comisiones Infinitas a la cima del mundo financiero."
   ]
  },
  {
   "cell_type": "markdown",
   "metadata": {
    "cell_id": "5d2ee5a6add742a4948495e9cc24673d",
    "deepnote_app_block_visible": true,
    "deepnote_cell_type": "markdown"
   },
   "source": [
    "## Reglas 📏"
   ]
  },
  {
   "cell_type": "markdown",
   "metadata": {
    "cell_id": "fa62e20e416248cba7aef01e7ca69418",
    "deepnote_app_block_visible": true,
    "deepnote_cell_type": "markdown"
   },
   "source": [
    "<center>\n",
    "<img src=\"https://media.tenor.com/tWbpabRvPG4AAAAM/idiot-lafuddyduddy.gif\" width=\"450\">"
   ]
  },
  {
   "cell_type": "markdown",
   "metadata": {
    "cell_id": "c44dc6db5d70477298a92a315aa8b152",
    "deepnote_app_block_visible": true,
    "deepnote_cell_type": "markdown"
   },
   "source": [
    "\n",
    "\n",
    "El proyecto consta de **dos entregas parciales** y una **entrega final** en las que los participantes deberán presentar modelos que reflejen su avance en el desarrollo de un sistema de predicción de riesgo de incumplimiento de clientes. Este esquema busca emular un escenario real en el que los datos no están disponibles de manera completa desde el principio, desafiando a los equipos a ajustar y mejorar sus modelos progresivamente a medida que reciben nueva información. Además, el proyecto consta de una etapa de **peer review** en la que simularemos un escenario en el que profesionales evalúan trabajos de terceros.\n",
    "\n",
    "La idea de generar el proyecto por etapas es proporcionar una simulación práctica del flujo de trabajo en entornos reales, donde los datos se obtienen de manera incremental y se requiere evaluar continuamente la estabilidad de los modelos y los datos. Esto permite a los participantes identificar cambios en las distribuciones, implementar estrategias de entrenamiento incremental y adaptar sus enfoques a escenarios dinámicos. Además, este enfoque fomenta el uso de buenas prácticas como **MLOps**, asegurando que los modelos sean escalables, reproducibles y fáciles de gestionar durante el desarrollo y las entregas. Esto refuerza habilidades clave como la gestión de recursos computacionales, la implementación de pipelines eficientes y la justificación de decisiones basadas en análisis sólidos, preparando a los equipos para desafíos del mundo real.\n",
    "\n",
    "- Recuerden verificar las **fechas de entrega** en la plataforma de **CodaLab** y subir los archivos correspondientes dentro del plazo establecido para evitar penalizaciones.\n",
    "\n",
    "---\n",
    "\n",
    "### **Requisitos del proyecto**\n",
    "- **Grupos**: Formar equipos de **2 personas**. No se aceptarán trabajos individuales o grupos con más integrantes.\n",
    "- **Consultas**: Cualquier duda fuera del horario de clases debe ser planteada en el foro correspondiente. Los mensajes enviados al equipo docente serán respondidos únicamente por este medio. Por favor, revisen las respuestas anteriores en el foro antes de realizar nuevas consultas.\n",
    "- **Plagio**: La copia o reutilización no autorizada de trabajos de otros grupos está **estrictamente prohibida**. El incumplimiento de esta norma implicará la anulación inmediata del proyecto y una posible sanción académica.\n",
    "- **Material permitido**: Pueden usar cualquier material del curso, ya sea notas, lecturas, códigos, o referencias proporcionadas por los docentes, que consideren útil para el desarrollo del proyecto.\n",
    "\n",
    "---\n",
    "\n",
    "### **Entregables y etapas**\n",
    "\n",
    "#### **1. Entrega Parcial 1**  \n",
    "- Dispondrán de los archivos de datos **X_t0.parquet** e **y_t0.parquet** para el modelamiento inicial.  \n",
    "- Utilizarán el archivo **X_t1.parquet** para generar las predicciones que serán presentadas en la primera competencia en **CodaLab**.  \n",
    "- En esta etapa, se espera que entreguen un **modelo parcial**, basado únicamente en los datos proporcionados hasta el momento. Este modelo debe demostrar un entendimiento básico de la tarea y un primer enfoque para la predicción del riesgo.  \n",
    "- **Informe**: No se exige un avance del informe en esta etapa, pero se **recomienda comenzar** a redactarlo para disminuir la carga académica en las etapas posteriores.  \n",
    "\n",
    "#### **2. Entrega Parcial 2**  \n",
    "- En esta entrega, deberán actualizar y perfeccionar su modelo incorporando **un nuevo set datos**. Esto incluye seleccionar su **mejor modelo actualizado** para realizar predicciones sobre el conjunto de prueba proporcionado para esta etapa.  \n",
    "- Se espera un modelo más refinado que integre mejoras significativas respecto a la primera entrega, demostrando un progreso en la comprensión y aplicación de los datos.  \n",
    "- **Informe**: Similar a la primera etapa, no se exige un avance del informe, pero se **recomienda avanzar con su redacción** para evitar una acumulación de trabajo en la etapa final.  \n",
    "\n",
    "#### **3. Entrega Final**  \n",
    "- En la entrega final, deberán **incorporar el último set de datos**, seleccionar el **mejor modelo final**, generar las predicciones sobre el conjunto de prueba de esta etapa y reportar sus resultados en la competencia de **CodaLab**.  \n",
    "- **Informe completo**: Deberán entregar un informe que abarque todo el trabajo realizado a lo largo del proyecto. Este debe incluir:  \n",
    "  - Análisis exploratorio de datos  \n",
    "  - Metodología aplicada  \n",
    "  - Selección y entrenamiento de modelos  \n",
    "  - Evaluación de resultados  \n",
    "  - Conclusiones y aprendizajes  \n",
    "\n",
    "Es **altamente recomendable** ir redactando el informe en paralelo al desarrollo de los modelos para garantizar que toda la información relevante quede documentada adecuadamente.  \n",
    "\n",
    "#### **4. Peer Review**\n",
    "\n",
    "En esta etapa, cada grupo deberá realizar una revisión del proyecto de dos equipos del curso. El objetivo es que vivan la experiencia de un peer-review en un entorno similar al laboral. Para ello, se sugiere crear un video de un máximo de 3 minutos en el que expliquen de manera clara su proyecto y los resultados obtenidos. Este video será enviado a los grupos asignados para la revisión. La evaluación recibida tendrá un peso específico en la calificación final del proyecto.\n",
    "\n",
    "### Nota Final\n",
    "\n",
    "La calificación final de su proyecto se calculará utilizando la siguiente ponderación, que combina el proyecto y el proceso de **Peer Review**:\n",
    "\n",
    "$$Nota Final = 0.9 * Nota Proyecto + 0.1 * Nota Peer Review$$\n",
    "\n",
    "---\n",
    "\n",
    "### **Instrucciones importantes**\n",
    "1. **Generación de archivos para CodaLab**:  \n",
    "   - Grupos que no suban su entrega al Codalab tendrán un **descuento de 1.0 punto en su nota final**.\n",
    "   - Para generar los archivos de predicciones que serán subidos a la plataforma, utilicen la función **generateFiles** disponible en los anexos.  \n",
    "   - Asegúrense de respetar los formatos requeridos para cada etapa para evitar errores en la evaluación.\n",
    "\n",
    "2. **Formato del informe**:  \n",
    "   - El informe debe estar integrado dentro de un **Jupyter Notebook**. No es necesario subirlo a una plataforma externa, pero debe cumplir con los siguientes requisitos:  \n",
    "     - Estructura clara y ordenada.  \n",
    "     - Código acompañado de explicaciones detalladas.  \n",
    "     - Resultados presentados de forma visual y analítica.  \n",
    "\n",
    "3. **Descuento por informes deficientes**:  \n",
    "   - Cualquier sección del informe que no tenga una explicación adecuada o no respete el formato será penalizada con un descuento en la nota. Esto incluye código sin comentarios o análisis que no sean coherentes con los resultados presentados."
   ]
  },
  {
   "cell_type": "markdown",
   "metadata": {
    "cell_id": "40b62a3bc4fa4ef0993dfc030f02676e",
    "deepnote_app_block_visible": true,
    "deepnote_cell_type": "markdown"
   },
   "source": [
    "## Enlace Competencia [CodaLab](https://codalab.lisn.upsaclay.fr/competitions/20705?secret_key=802a6a25-9a8c-4821-a68e-3d8c02adcd82)"
   ]
  },
  {
   "cell_type": "markdown",
   "metadata": {
    "cell_id": "442f1acbaf9b403f8a77118417ccfbd2",
    "deepnote_app_block_visible": true,
    "deepnote_cell_type": "markdown"
   },
   "source": [
    "Recuerde utilizar los archivos correspondientes para hacer la entrega de resultados a la competencia en CodaLab. Utilizar los datos erróneos se verá reflejado en un bajo desempeño en la tabla de resultados. **Utilice un nombre que permita una clara identifación del grupo de estudiantes que realiza la entrega.**"
   ]
  },
  {
   "cell_type": "markdown",
   "metadata": {
    "cell_id": "3b78802d8cf940419667f5d0a1a10e3c",
    "deepnote_app_block_visible": true,
    "deepnote_cell_type": "markdown"
   },
   "source": [
    "## Fuentes de Datos [GitLab](https://gitlab.com/mds7202-2/proyecto-mds7202)"
   ]
  },
  {
   "cell_type": "markdown",
   "metadata": {
    "cell_id": "fe60348ddbae474eb7996622b13d89dc",
    "deepnote_app_block_visible": true,
    "deepnote_cell_type": "markdown"
   },
   "source": [
    "A través de **GitLab** se dispondrán de las fuentes de datos a utilizar en cada una de las etapas del proyecto. Los datos se encuentran en la carpeta _**competition_files**_. Estos serán actualizados en cada etapa del proyecto dentro de la misma carpeta.\n",
    "\n",
    "Las descripciones de cada uno de los atributos del dataset a utilizar se encuentran disponibles en la competencia de **CodaLab**, en la pestaña _**Participate**_ y en el apartado _**Get Data**_.  "
   ]
  },
  {
   "cell_type": "markdown",
   "metadata": {
    "cell_id": "222e579ed57a46e980b25f8d80cc05c7",
    "deepnote_app_block_visible": true,
    "deepnote_cell_type": "markdown"
   },
   "source": [
    "## Recomendaciones para el desarrollo del proyecto 👁️"
   ]
  },
  {
   "cell_type": "markdown",
   "metadata": {
    "cell_id": "1db1c542dbd743639ebf8b2453736a89",
    "deepnote_app_block_visible": true,
    "deepnote_cell_type": "markdown"
   },
   "source": [
    "<center>\n",
    "<img src=\"https://media3.giphy.com/media/v1.Y2lkPTc5MGI3NjExNXM5MDNza2tzaG1oZ3gzbGNqa282d2RocnZqemhldXVvcDRocDZjbSZlcD12MV9pbnRlcm5hbF9naWZfYnlfaWQmY3Q9Zw/nOwG55u1jGOiTAqKqU/giphy.webp\" width=\"450\">"
   ]
  },
  {
   "cell_type": "markdown",
   "metadata": {
    "cell_id": "76a5946c90f54a678accf6075d142b2e",
    "deepnote_app_block_visible": true,
    "deepnote_cell_type": "markdown"
   },
   "source": [
    "\n",
    "\n",
    "1. **Rendimiento esperado:**  \n",
    "   - No es necesario alcanzar un rendimiento cercano al **100%** para obtener la nota máxima en el proyecto. Se evaluará la calidad del enfoque, la justificación de las decisiones tomadas y la interpretación de los resultados obtenidos.  \n",
    "\n",
    "2. **Uso de muestras en caso de limitaciones:**  \n",
    "   - Si su equipo no puede cargar o procesar todos los datos debido a limitaciones de recursos (como RAM), puede trabajar con **muestras representativas del conjunto de datos**.  \n",
    "   - Es **obligatorio justificar** este enfoque en el informe, explicando claramente las razones detrás de la decisión y cómo se asegura que las muestras son representativas.  \n",
    "\n",
    "3. **Optimización de recursos:**  \n",
    "   - Si enfrenta problemas de memoria al ejecutar tareas, **reduzca la cantidad de procesos paralelos** (**jobs**) a un nivel que su computador o intérprete web pueda manejar. Es preferible priorizar la estabilidad del proceso sobre la velocidad.\n",
    "\n",
    "4. **Paralelización para búsquedas de hiperparámetros:**  \n",
    "   - Aproveche la paralelización para acelerar la búsqueda de hiperparámetros, especialmente si esta es un cuello de botella en su proyecto. Herramientas como `GridSearchCV`, `RandomizedSearchCV` o `Optuna` suelen permitir paralelización configurando el parámetro `n_jobs`.  \n",
    "\n",
    "5. **Grillas de búsqueda razonables:**  \n",
    "   - Al realizar búsquedas de hiperparámetros, **diseñe grillas de búsqueda razonables** que no sean excesivamente grandes.  \n",
    "   - Recuerde que, aunque explorar un mayor espacio de hiperparámetros puede parecer atractivo, también puede hacer que el proceso sea extremadamente lento o inviable. Ajuste el tamaño de las grillas para garantizar que la búsqueda **converja en tiempos razonables** y no tome **\"3.5 eternidades\"**."
   ]
  },
  {
   "cell_type": "markdown",
   "metadata": {
    "cell_id": "8d2cc2ee56ed48beb457c49ad108760e",
    "deepnote_app_block_visible": true,
    "deepnote_cell_type": "markdown"
   },
   "source": [
    "## **Objetivos: Entrega Parcial 1** ⚒️"
   ]
  },
  {
   "cell_type": "markdown",
   "metadata": {
    "cell_id": "d14bd4be23404bc1b723ed8f06003a60",
    "deepnote_app_block_visible": true,
    "deepnote_cell_type": "markdown"
   },
   "source": [
    "<center>\n",
    "<img src=\"https://media.tenor.com/w5p8dTeVBHgAAAAM/solicy-deadline.gif\" width=\"300\">"
   ]
  },
  {
   "cell_type": "markdown",
   "metadata": {
    "cell_id": "f7c8cc94a0aa4c28baa430245ffcef9e",
    "deepnote_app_block_visible": true,
    "deepnote_cell_type": "markdown"
   },
   "source": [
    "\n",
    "\n",
    "A continuación, se detallan las tareas que deben completar para la **Entrega Parcial 1**. Recuerden que el principal entregable es **predecir, con su mejor modelo, sobre los clientes del archivo `X_t1.parquet` y subir las predicciones a la plataforma CodaLab**. **Para esta entrega el desarrollo del informe es sugerido, pero no mandatorio**. Asegúrense de utilizar el archivo correspondiente para subir los resultados a la competencia. El uso de datos incorrectos se reflejará en un bajo desempeño en la tabla de clasificación.\n",
    "\n",
    "### **Tareas a realizar:**\n",
    "1. **Análisis exploratorio de datos:**  \n",
    "   Realicen un análisis detallado para identificar patrones, tendencias y relaciones en los datos. Este paso les permitirá comprender mejor las características del conjunto de datos y guiar las siguientes decisiones en el pipeline de modelamiento.\n",
    "\n",
    "2. **Preprocesamiento de datos:**  \n",
    "   Incluyan técnicas de preprocesamiento que aseguren la calidad y adecuación de los datos para los modelos. Algunas tareas sugeridas son:  \n",
    "   - Estandarización de filas y/o columnas.  \n",
    "   - Reducción de dimensionalidad.  \n",
    "   - Discretización de variables numéricas a categóricas.  \n",
    "   - Manejo de datos nulos.  \n",
    "   - Otras transformaciones relevantes según los datos disponibles.  \n",
    "\n",
    "3. **División del conjunto de datos:**  \n",
    "   Implementen una técnica **Hold-Out**, separando el conjunto de datos en **70% para entrenamiento** y **30% para testeo**.\n",
    "\n",
    "4. **Creación de un modelo baseline:**  \n",
    "   Entrenen un modelo sencillo que sirva como línea base para comparar el rendimiento de los modelos más avanzados.\n",
    "\n",
    "5. **Desarrollo de 3 modelos de Machine Learning diferentes al baseline:**  \n",
    "   - Utilicen exclusivamente pipelines de **Scikit-Learn** para esta iteración del proyecto.  \n",
    "   - El uso de librerías o herramientas externas será penalizado con una calificación de **0** en las secciones implicadas.  \n",
    "\n",
    "6. **Interpretabilidad del modelo con mejores resultados:**  \n",
    "   Apliquen técnicas que permitan interpretar y justificar los resultados obtenidos por el modelo con mejor desempeño."
   ]
  },
  {
   "cell_type": "markdown",
   "metadata": {
    "cell_id": "6abfabcb13a7482cb5fa71b9675b3508",
    "deepnote_app_block_visible": true,
    "deepnote_cell_type": "markdown"
   },
   "source": [
    "### Entregable de la Primera Etapa 🛑IMPORTANTE🛑\n",
    "\n",
    "El entregable de esta primera etapa consiste en modelos de Machine Learning, incluyendo un modelo baseline, que reflejen el progreso alcanzado hasta el momento. Es importante destacar que este entregable debe ser subido **exclusivamente a la plataforma CodaLab**. No se habilitará ninguna tarea en Ucursos para este propósito, por lo que cualquier archivo entregado por otros medios no será considerado para la evaluación.\n",
    "\n",
    "Como se indicó en el enunciado, los modelos de riesgo crediticio deben proporcionar una **probabilidad de morosidad** como salida, por lo que las predicciones entregadas deben reflejar esta probabilidad de manera precisa. En este contexto, y considerando la métrica utilizada en la competencia, es fundamental que en su informe justifiquen qué métrica sería más adecuada para este tipo de problema.  \n",
    "\n",
    "Explique si la métrica seleccionada en CodaLab es la más apropiada para evaluar la efectividad del modelo, teniendo en cuenta aspectos como el desbalanceo de clases y las implicaciones prácticas del problema. Analicen si esta métrica captura correctamente el objetivo de priorizar la predicción de la probabilidad de incumplimiento y propongan alternativas en caso de identificar limitaciones.\n",
    "\n",
    "Tengan en cuenta que el archivo a subir debe ser generado utilizando la función especificada a continuación: [detalle de la función]. Asegúrense de seguir las instrucciones para garantizar que su archivo cumple con el formato requerido."
   ]
  },
  {
   "cell_type": "code",
   "execution_count": null,
   "metadata": {
    "cell_id": "96637bda40004e3aac814478f79f7f08",
    "deepnote_app_block_visible": true,
    "deepnote_cell_type": "code"
   },
   "outputs": [],
   "source": [
    "from zipfile import ZipFile\n",
    "import os\n",
    "def generateFiles(predict_data, clf_pipe):\n",
    "    \"\"\"Genera los archivos a subir en CodaLab\n",
    "\n",
    "    Input\n",
    "    ---------------\n",
    "    predict_data: Dataframe con los datos de entrada a predecir\n",
    "    clf_pipe: pipeline del clf\n",
    "\n",
    "    Ouput\n",
    "    ---------------\n",
    "    archivo de txt\n",
    "    \"\"\"\n",
    "    y_pred_clf = clf_pipe.predict_proba(predict_data)[:, 1]\n",
    "    with open('./predictions.txt', 'w') as f:\n",
    "        for item in y_pred_clf:\n",
    "            f.write(\"%s\\n\" % item)\n",
    "    \n",
    "    with ZipFile('predictions.zip', 'w') as zipObj:\n",
    "        zipObj.write('predictions.txt')\n",
    "    os.remove('predictions.txt')\n",
    "\n",
    "generateFiles(X_test, pipe_clf)"
   ]
  },
  {
   "cell_type": "markdown",
   "metadata": {
    "cell_id": "2880362352cc4f98b2c9425f2b658c08",
    "deepnote_app_block_visible": true,
    "deepnote_cell_type": "markdown"
   },
   "source": [
    "---\n",
    "\n",
    "## Instrucciones para el Informe (Recomendación)"
   ]
  },
  {
   "cell_type": "markdown",
   "metadata": {
    "cell_id": "942d73db63e149ffabccf9885a28c527",
    "deepnote_app_block_visible": true,
    "deepnote_cell_type": "markdown"
   },
   "source": [
    "<center>\n",
    "<img src=\"https://media1.tenor.com/m/0KWXHEPwL3cAAAAC/typing-jim-carrey.gif\" width=\"300\">"
   ]
  },
  {
   "cell_type": "markdown",
   "metadata": {
    "cell_id": "196a9ca3f9854f1fb100c74217dfad66",
    "deepnote_app_block_visible": true,
    "deepnote_cell_type": "markdown"
   },
   "source": [
    "Como ya hemos dicho anteriormente, en la primera entrega solo se debe entregar las predicciones del modelo entrenado a codalab, sin embargo, se recomienda avanzar en el informe y aqui les damos algunas directrices de los puntos que pueden ir avanzando.\n",
    "\n",
    "**Noten que esta estructura es <u>parcial</u>, pues el resto de los componentes del informe serán detallados en los enunciados de las entregas posteriores.**\n",
    "\n",
    "El informe debe ser presentado en formato **Jupyter Notebook**, con un estilo tipo informe técnico. Cada sección debe ser desarrollada de manera clara y detallada, describiendo las decisiones tomadas y justificando cada paso del proceso. A continuación, se describen las secciones obligatorias:\n",
    "\n",
    "#### **1. Introducción [0.25 puntos]**  \n",
    "Esta sección debe incluir:  \n",
    "- Una breve descripción del problema planteado: ¿Qué se intenta predecir?  \n",
    "- Un resumen de los datos de entrada proporcionados.  \n",
    "- La métrica seleccionada para evaluar los modelos, justificando su elección. Considerando que los datos están desbalanceados, eviten usar `accuracy` y enfoquen su análisis en métricas como `precision`, `recall` o `f1-score`, indicando en qué clase se centrarán.  \n",
    "- Una mención breve de los modelos utilizados para resolver el problema, incluyendo las transformaciones intermedias aplicadas a los datos.  \n",
    "- Un cierre con un análisis general de los resultados obtenidos, indicando si el modelo final cumplió con los objetivos y cómo se posicionaron respecto a otros equipos.\n",
    "\n",
    "#### **2. Modelos con Scikit-Learn (Entrega Parcial 1)**\n",
    "\n",
    "##### **2.1. Análisis Exploratorio de Datos [0.5 puntos]**  \n",
    "Realicen un análisis que explore patrones, tendencias y relaciones clave en los datos. Incluyan:  \n",
    "- Estadísticas descriptivas generales.  \n",
    "- Visualizaciones para identificar distribuciones, valores atípicos y posibles relaciones entre variables.  \n",
    "- Cualquier observación relevante que pueda influir en las etapas posteriores del proyecto.  \n",
    "\n",
    "El informe debe ser detallado y profesional, demostrando no solo la implementación técnica, sino también una comprensión profunda de los datos y la problemática planteada.\n",
    "\n",
    "##### **2.2 Preprocesamiento de Datos [0.25 puntos]**\n",
    "\n",
    "Esta sección se centra en la limpieza y preparación de los datos para garantizar que sean adecuados para el entrenamiento y evaluación de los modelos. Es fundamental ejecutar un **`train_test_split`** para dividir los datos en conjuntos de entrenamiento y validación, siguiendo la proporción establecida (por ejemplo, 70/30). \n",
    "\n",
    "Se espera la implementación de diversas técnicas de preprocesamiento, tales como:  \n",
    "- **Uso de `ColumnTransformer`:** Permite aplicar transformaciones específicas a diferentes columnas de manera eficiente.  \n",
    "- **Imputación de valores nulos:** Elija una estrategia adecuada (media, mediana, moda, etc.) para completar los datos faltantes.  \n",
    "- **Discretización de variables:** Convierte variables numéricas continuas en categóricas, si resulta útil para el modelo.  \n",
    "- **Estandarización o normalización:** Mejora el rendimiento de algunos algoritmos que son sensibles a la escala de los datos.  \n",
    "- Otras transformaciones necesarias dependiendo de las características específicas del conjunto de datos.\n",
    "\n",
    "El proceso debe estar bien documentado y justificado en el informe, explicando las decisiones tomadas en función de los datos y los objetivos del proyecto.\n",
    "\n",
    "---\n",
    "\n",
    "##### **2.3 Baseline [0.25 puntos]**\n",
    "\n",
    "En esta sección se debe construir el modelo más sencillo posible que pueda resolver el problema planteado, conocido como **modelo baseline**. Su propósito es servir como referencia para comparar el rendimiento de los modelos más avanzados desarrollados en etapas posteriores.  \n",
    "\n",
    "Pasos requeridos:  \n",
    "- Implemente, entrene y evalúe un modelo básico utilizando un pipeline.  \n",
    "- Asegúrese de incluir en el pipeline las transformaciones del preprocesamiento realizadas previamente junto con un clasificador básico.  \n",
    "- Evalúe el modelo y presente el informe de métricas utilizando **`classification_report`**.  \n",
    "\n",
    "Documente claramente cómo se creó el modelo, las decisiones tomadas y los resultados obtenidos. Este modelo será la base comparativa en las secciones posteriores.\n",
    "\n",
    "---\n",
    "\n",
    "##### **2.4 Modelos de Machine Learning [0.5 puntos]**\n",
    "\n",
    "Esta sección debe detallar la creación de tres modelos más avanzados. Cada modelo debe incluirse en un pipeline que combine el preprocesamiento de datos y un clasificador. A continuación, describa:  \n",
    "- **Estructura y diferencias entre los modelos:** Explique los clasificadores seleccionados, sus hiperparámetros iniciales y el enfoque utilizado para cada uno.  \n",
    "- **Resultados:** Evalúe cada modelo utilizando **`classification_report`**, destacando métricas clave como precisión, recall y F1-score.  \n",
    "- **Clasificadores sugeridos:** Puede seleccionar entre los siguientes:  \n",
    "  - `LogisticRegression`  \n",
    "  - `KNeighborsClassifier`  \n",
    "  - `DecisionTreeClassifier`  \n",
    "  - `SVC`  \n",
    "  - `RandomForestClassifier`  \n",
    "  - `LightGBMClassifier` (del paquete `lightgbm`)  \n",
    "  - `XGBClassifier` (del paquete `xgboost`)\n",
    "  - Otro\n",
    "\n",
    "Además, responda las siguientes preguntas para evaluar el rendimiento de los modelos:  \n",
    "1. ¿Hay algún clasificador que supere al modelo baseline?  \n",
    "2. ¿Cuál es el mejor clasificador entrenado y por qué?  \n",
    "3. ¿Qué factores hacen que el mejor clasificador sea superior a los otros?  \n",
    "4. En términos de tiempo de entrenamiento, ¿qué modelo considera más adecuado para experimentar con grillas de optimización?  \n",
    "\n",
    "Finalmente, seleccione **uno de los tres modelos** desarrollados para continuar con las siguientes secciones. Justifique su elección basándose en criterios metodológicos y de rendimiento, explicando por qué este modelo es el más adecuado para abordar el problema planteado.  \n",
    "\n",
    "Además, se recomienda realizar un análisis preliminar de interpretabilidad sobre su modelo baseline utilizando herramientas básicas. Esto le permitirá comprender de manera general cómo el modelo está tomando decisiones y podría ser de gran utilidad más adelante, cuando trabaje con su modelo final, para comparar y validar los resultados obtenidos."
   ]
  },
  {
   "cell_type": "markdown",
   "metadata": {
    "cell_id": "7ebabd6c226c4d04b0c19f0c2d2bc49c",
    "deepnote_app_block_visible": true,
    "deepnote_cell_type": "markdown"
   },
   "source": [
    "## FAQ\n",
    "\n",
    "En esta sección pueden encontrar las respuestas a algunas preguntas frecuentes:\n",
    "\n",
    "- **¿Cuántas entregas tengo que hacer en el proyecto?**\n",
    "\n",
    "> El proyecto consta de 3 entregas (la última junto a un informe final) y una revisión de pares. \n",
    "\n",
    "- **Leí el enunciado y me confundí.. ¿Qué debo subir para la entrega 1?**\n",
    "\n",
    "> Para esta entrega lo único mandatorio es subir sus predicciones a `CodaLab`. <u>Sin embargo, es altamente recomendado que se avance en el desarrollo del Informe.</u>\n",
    "\n",
    "- **Entonces.. ¿puedo subir las predicciones y escribir el Informe un par de dias antes de la entrega?**\n",
    "> Sí, aunque esto es un caso extremo que se les recomienda muchísimo evitar. Este proyecto está hecho para ser desarrollado de manera integral a través de las entregas, por lo que *speedrunnear* el Informe en poco tiempo probablemente tenga repercusiones sobre la calidad del trabajo entregado.\n",
    "\n",
    "- **¿Si son 3 entregas, entonces tengo que entregar 3 informes?**\n",
    "\n",
    "> No, el proyecto contempla sólo 1 informe el cual se entrega en la última etapa del proyecto (13 de Diciembre).\n",
    "\n",
    "- **Pero leí el enunciado y el informe parece corto... ¿Lo puedo entregar antes?**\n",
    "> No, esto no es posible ya que para las fechas posteriores se especificarán nuevas secciones del informe que deberán desarrollar. Además, se espera que vayan retroalimentando las secciones desarrolladas con el trabajo realizado en las próximas entregas (*por ejemplo: ¿Qué pasó en la sección X con los nuevos datos?*).\n",
    "\n",
    "- **¿Qué pasa si no subo mis predicciones a `Codalab`?**\n",
    "\n",
    "> Tal como se explica en el enunciado, por cada entrega que no suba su predicción a `Codalab` existirá 1.0 de descuento en la Nota del proyecto.\n",
    "\n",
    "- **¿Habrá extensión de plazo?**\n",
    "> No se extenderá el plazo de las entregas del proyecto pues no existe espacio para hacerlo (la última  entrega es apenas un par de días antes del inicio de vacaciones)."
   ]
  },
  {
   "cell_type": "markdown",
   "metadata": {
    "cell_id": "c4b627e363c14ea29bd419c538334bb1",
    "deepnote_app_block_visible": true,
    "deepnote_cell_type": "markdown"
   },
   "source": []
  },
  {
   "cell_type": "markdown",
   "metadata": {
    "created_in_deepnote_cell": true,
    "deepnote_cell_type": "markdown"
   },
   "source": [
    "<a style='text-decoration:none;line-height:16px;display:flex;color:#5B5B62;padding:10px;justify-content:end;' href='https://deepnote.com?utm_source=created-in-deepnote-cell&projectId=87110296-876e-426f-b91d-aaf681223468' target=\"_blank\">\n",
    "<img alt='Created in deepnote.com' style='display:inline;max-height:16px;margin:0px;margin-right:7.5px;' src='data:image/svg+xml;base64,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' > </img>\n",
    "Created in <span style='font-weight:600;margin-left:4px;'>Deepnote</span></a>"
   ]
  }
 ],
 "metadata": {
  "deepnote_app_clear_outputs": false,
  "deepnote_app_layout": "powerful-article",
  "deepnote_app_reactivity_enabled": true,
  "deepnote_app_run_on_load_enabled": false,
  "deepnote_notebook_id": "fb0d70f9ce2c4dcca492583dad524254",
  "language_info": {
   "name": "python"
  }
 },
 "nbformat": 4,
 "nbformat_minor": 0
}
