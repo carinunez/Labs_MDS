{
 "cells": [
  {
   "cell_type": "markdown",
   "metadata": {},
   "source": [
    "# Informe Proyecto Laboratorio\n",
    "\n",
    "Integrantes: \n",
    "- Carolina Núñez\n",
    "- Alonso Uribe\n",
    "\n",
    "El problema busca predecir a qué usuarios se le debería otorgar un préstamo,a partir del historial bancario de los clientes y otras variables del mercado. Teniendo en cuenta que dar un préstamo a una persona con historial moroso impliría pérdida directa para el banco. Junto con ello, no asignar el préstamo a una persona con historial NO moroso, también sería perjudicial. Es en este contexto que resulta minimizar la cantidad de \"Falsos Negativos\", i.e Recall. \n",
    "\n",
    "Los datos disponibles entregan información acerca de la edad de la billetera, prestamos realizados con su información respectiva(como fecha y bloque), número de transacciones, ingresos, transacciones riegosas, factores de mercado en el momento del préstamo, etc. \n",
    "\n",
    "\n"
   ]
  },
  {
   "cell_type": "code",
   "execution_count": null,
   "metadata": {
    "vscode": {
     "languageId": "plaintext"
    }
   },
   "outputs": [],
   "source": []
  }
 ],
 "metadata": {
  "language_info": {
   "name": "python"
  }
 },
 "nbformat": 4,
 "nbformat_minor": 2
}
