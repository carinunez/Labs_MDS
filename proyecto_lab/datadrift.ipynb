{
 "cells": [
  {
   "cell_type": "markdown",
   "metadata": {},
   "source": [
    "## Data Drift"
   ]
  },
  {
   "cell_type": "code",
   "execution_count": 19,
   "metadata": {},
   "outputs": [],
   "source": [
    "from sklearn.base import BaseEstimator, TransformerMixin\n",
    "from sklearn.pipeline import Pipeline\n",
    "from sklearn.compose import ColumnTransformer\n",
    "from sklearn.preprocessing import MinMaxScaler\n",
    "from sklearn.compose import make_column_selector\n",
    "import numpy as np\n",
    "\n",
    "\n",
    "class borrow_times(BaseEstimator, TransformerMixin):\n",
    "    def __init__(self):\n",
    "        self.borrow_per_cli = None\n",
    "\n",
    "    def fit(self, X, y=None):\n",
    "        data = X.copy()\n",
    "        object_var = data.select_dtypes(include='object').columns.to_list()\n",
    "        vars = object_var + ['borrow_timestamp']\n",
    "\n",
    "        self.borrow_per_cli = data[vars].groupby(*object_var).count()\n",
    "        self.borrow_per_cli.rename(columns={'borrow_timestamp': 'borrow_times'}, inplace=True)\n",
    "        self.borrow_per_cli.reset_index(inplace=True)\n",
    "        return self\n",
    "\n",
    "    def transform(self, X, y=None):\n",
    "        data = X.copy()\n",
    "        new_X = pd.merge(data, self.borrow_per_cli, on='wallet_address', how='left').fillna(0)\n",
    "        new_X = new_X.sort_index(axis=1)\n",
    "        return new_X\n",
    "\n",
    "    def set_output(self,transform='default'):\n",
    "        #No modificar este método\n",
    "        return self\n",
    "\n",
    "class tx_diff(BaseEstimator, TransformerMixin):\n",
    "    def __init__(self):\n",
    "        self.ts_diff_tx = None\n",
    "\n",
    "    def fit(self, X, y=None):\n",
    "        data = X.copy()\n",
    "        self.data = data\n",
    "        return self\n",
    "\n",
    "    def transform(self, X, y=None):\n",
    "        data = X.copy()\n",
    "        data['ts_diff_tx'] = data['last_tx_timestamp'] - data['first_tx_timestamp']\n",
    "        data.rename(columns={'risky_first_last_tx_timestamp_diff':'ts_diff_risky_tx'}, inplace=True)\n",
    "        data.drop(columns=['last_tx_timestamp',\n",
    "                           'first_tx_timestamp',\n",
    "                           'risky_last_tx_timestamp',\n",
    "                           'risky_first_tx_timestamp',\n",
    "                        #    'borrow_timestamp'\n",
    "                           ], inplace=True)\n",
    "\n",
    "        new_data = data.sort_index(axis=1)\n",
    "        return new_data\n",
    "\n",
    "    def set_output(self,transform='default'):\n",
    "        return self\n",
    "\n",
    "class search_binary(BaseEstimator, TransformerMixin):\n",
    "    def __init__(self):\n",
    "        self.binary_cols = []\n",
    "\n",
    "    def fit(self, X, y=None):\n",
    "        data = X.copy()\n",
    "        for col in data.columns:\n",
    "            diff_values = len(data[col].value_counts())\n",
    "            is_binary = diff_values == 2\n",
    "            if is_binary:\n",
    "                self.binary_cols.append(col)\n",
    "        return self\n",
    "\n",
    "    def transform(self, X, y=None):\n",
    "        data = X.copy()\n",
    "        if self.binary_cols:\n",
    "            binary_col = self.binary_cols[0] if isinstance(self.binary_cols, list) else self.binary_cols\n",
    "            data[binary_col] = data[binary_col].astype('category')\n",
    "        return data\n",
    "\n",
    "    def set_output(self, transform='default'):\n",
    "        return self"
   ]
  },
  {
   "cell_type": "code",
   "execution_count": 20,
   "metadata": {},
   "outputs": [],
   "source": [
    "first_transformer = ColumnTransformer([\n",
    "    ('scale_data', MinMaxScaler(), make_column_selector(dtype_include='number',)),\n",
    "    ('object', 'drop', ['wallet_address']),\n",
    "    ('categorical', 'passthrough', make_column_selector(dtype_include='category'))\n",
    "    ],\n",
    "    remainder='passthrough',\n",
    "    verbose_feature_names_out=False)\n",
    "first_transformer.set_output(transform='pandas')\n",
    "transf_pipe = Pipeline([\n",
    "                ('add_borrow', borrow_times()),\n",
    "                ('diff_tranf', tx_diff()),\n",
    "                ('binary_cols', search_binary()),\n",
    "                ('cols_transf', first_transformer),\n",
    "                ])"
   ]
  },
  {
   "cell_type": "code",
   "execution_count": 21,
   "metadata": {},
   "outputs": [],
   "source": [
    "from scipy.stats import kstest\n",
    "import pandas as pd\n",
    "\n",
    "\n",
    "X_t0 = pd.read_parquet(\"X_t0.parquet\")"
   ]
  },
  {
   "cell_type": "code",
   "execution_count": 22,
   "metadata": {},
   "outputs": [],
   "source": [
    "X_t1 = pd.read_parquet(\"X_t1.parquet\")\n",
    "X_t2 = pd.read_parquet(\"X_t2.parquet\")\n",
    "X_t3 = pd.read_parquet(\"X_t3.parquet\")\n",
    "datasets = [X_t0, X_t1, X_t2, X_t3]"
   ]
  },
  {
   "cell_type": "code",
   "execution_count": 23,
   "metadata": {},
   "outputs": [],
   "source": [
    "from collections import defaultdict\n",
    "\n",
    "means = defaultdict(list)\n",
    "stds = defaultdict(list)\n",
    "kstests = defaultdict(list)\n",
    "prev_X = None\n",
    "for X in datasets:\n",
    "    X = transf_pipe.fit_transform(X)\n",
    "    for column in X.select_dtypes(include=np.float64).columns:\n",
    "        description = X[column].describe()\n",
    "        means[column].append(description['mean'])\n",
    "        stds[column].append(description['std'])\n",
    "        if prev_X is not None:\n",
    "                kstests[column].append(kstest(X[column], prev_X[column]))\n",
    "    prev_X = X"
   ]
  },
  {
   "cell_type": "code",
   "execution_count": 24,
   "metadata": {},
   "outputs": [
    {
     "data": {
      "application/vnd.plotly.v1+json": {
       "config": {
        "plotlyServerURL": "https://plot.ly"
       },
       "data": [
        {
         "name": "avg_gas_paid_per_tx_eth",
         "type": "scatter",
         "y": [
          0.006923187624968706,
          0.007231762342284473,
          0.013245647790354418,
          0.026970403284813527
         ]
        },
        {
         "name": "avg_risk_factor",
         "type": "scatter",
         "y": [
          0.41207485295690155,
          0.00010279817621978124,
          0.000024283950578723186,
          0.00006584075714194804
         ]
        },
        {
         "name": "avg_weighted_risk_factor",
         "type": "scatter",
         "y": [
          0.00632098127219173,
          0.0017266162075278274,
          0.0018603821485994984,
          0.00044270195343115856
         ]
        },
        {
         "name": "borrow_amount_avg_eth",
         "type": "scatter",
         "y": [
          0.0029162835160637278,
          0.0019015033294070296,
          0.0026724402997797218,
          0.00972904337840843
         ]
        },
        {
         "name": "borrow_amount_sum_eth",
         "type": "scatter",
         "y": [
          0.00903690076648468,
          0.0037696261750550823,
          0.0008701722541118344,
          0.013347954791914854
         ]
        },
        {
         "name": "borrow_block_number",
         "type": "scatter",
         "y": [
          0.6215949375582452,
          0.5762588297136487,
          0.39770970540748496,
          0.36025971108824856
         ]
        },
        {
         "name": "borrow_count",
         "type": "scatter",
         "y": [
          0.02033086288979441,
          0.01244920970193848,
          0.006549827674432602,
          0.017283406239238294
         ]
        },
        {
         "name": "borrow_repay_diff_eth",
         "type": "scatter",
         "y": [
          0.007822661220408731,
          0.003421180205000459,
          0.0010093969080326739,
          0.0009147937876739611
         ]
        },
        {
         "name": "borrow_times",
         "type": "scatter",
         "y": [
          0.07464103463231427,
          0.08497575082594046,
          0.06498082990158376,
          0.08206435200914822
         ]
        },
        {
         "name": "borrow_timestamp",
         "type": "scatter",
         "y": [
          0.6226708879748921,
          0.5765132210079802,
          0.3947538967942706,
          0.3664672839359914
         ]
        },
        {
         "name": "deposit_amount_sum_eth",
         "type": "scatter",
         "y": [
          0.010490244743803489,
          0.0029100533383124194,
          0.0014754735060499874,
          0.0085192609617493
         ]
        },
        {
         "name": "deposit_count",
         "type": "scatter",
         "y": [
          0.01700677779517274,
          0.0059491098814508205,
          0.007534495593568094,
          0.013135730969556158
         ]
        },
        {
         "name": "incoming_tx_avg_eth",
         "type": "scatter",
         "y": [
          0.0031465251973657026,
          0.0009462245462337346,
          0.0024776490892842585,
          0.0020643896038944677
         ]
        },
        {
         "name": "incoming_tx_count",
         "type": "scatter",
         "y": [
          0.010110480568097465,
          0.004027146840998493,
          0.0036489004390224547,
          0.018192144982977138
         ]
        },
        {
         "name": "incoming_tx_sum_eth",
         "type": "scatter",
         "y": [
          0.009746337958666125,
          0.007879593477251834,
          0.003958275216325346,
          0.01052781763442355
         ]
        },
        {
         "name": "liquidation_amount_sum_eth",
         "type": "scatter",
         "y": [
          0.02824726881370131,
          0.0042166808846116266,
          0.005589048226175285,
          0.0012181295032255074
         ]
        },
        {
         "name": "liquidation_count",
         "type": "scatter",
         "y": [
          0.040393283130874515,
          0.004175084488072514,
          0.006501670938076029,
          0.008686623932749472
         ]
        },
        {
         "name": "market_adx",
         "type": "scatter",
         "y": [
          0.32995384037044245,
          0.3082098326256348,
          0.3994875340656074,
          0.28464333535337694
         ]
        },
        {
         "name": "market_adxr",
         "type": "scatter",
         "y": [
          0.3628269887652547,
          0.32557724354036555,
          0.3945919957919136,
          0.2776016930224808
         ]
        },
        {
         "name": "market_apo",
         "type": "scatter",
         "y": [
          0.5624328818567059,
          0.5438578507801246,
          0.5103731537602835,
          0.5134836118044389
         ]
        },
        {
         "name": "market_aroonosc",
         "type": "scatter",
         "y": [
          0.5643149368908371,
          0.804074651889149,
          0.5451473357605087,
          0.5090948826414402
         ]
        },
        {
         "name": "market_aroonup",
         "type": "scatter",
         "y": [
          0.4248287494535202,
          0.691346418467876,
          0.511924246629421,
          0.500570828717522
         ]
        },
        {
         "name": "market_atr",
         "type": "scatter",
         "y": [
          0.4602935133455423,
          0.3694614257308782,
          0.5818693706466803,
          0.4052106115243543
         ]
        },
        {
         "name": "market_cci",
         "type": "scatter",
         "y": [
          0.5058128705214682,
          0.5396079282381784,
          0.45037697030297796,
          0.5219450679491644
         ]
        },
        {
         "name": "market_cmo",
         "type": "scatter",
         "y": [
          0.43942402484277554,
          0.4535590389891956,
          0.4964270748882329,
          0.4667494263172377
         ]
        },
        {
         "name": "market_correl",
         "type": "scatter",
         "y": [
          0.8428301288445651,
          0.8213737089612474,
          0.9167529911105146,
          0.9154426241673641
         ]
        },
        {
         "name": "market_dx",
         "type": "scatter",
         "y": [
          0.3518845782617556,
          0.31269422451400136,
          0.3887855255700473,
          0.3648548842511599
         ]
        },
        {
         "name": "market_fastd",
         "type": "scatter",
         "y": [
          0.5052866799523731,
          0.6134991808851209,
          0.5448448779306645,
          0.5108614182324097
         ]
        },
        {
         "name": "market_fastk",
         "type": "scatter",
         "y": [
          0.5177865072169466,
          0.6437603017527297,
          0.549660015043339,
          0.5234843552803101
         ]
        },
        {
         "name": "market_linearreg_slope",
         "type": "scatter",
         "y": [
          0.5686169966020019,
          0.5476651507549951,
          0.5868611358247151,
          0.5705921588373812
         ]
        },
        {
         "name": "market_macd",
         "type": "scatter",
         "y": [
          0.5477717790349795,
          0.43089824592550713,
          0.4293581583186242,
          0.4339177057138783
         ]
        },
        {
         "name": "market_macd_macdext",
         "type": "scatter",
         "y": [
          0.5624328818567059,
          0.5438578507801246,
          0.5103731537602835,
          0.5134836118044389
         ]
        },
        {
         "name": "market_macd_macdfix",
         "type": "scatter",
         "y": [
          0.5475026709567339,
          0.4315629913786825,
          0.4296861465676034,
          0.43374161002964035
         ]
        },
        {
         "name": "market_macdsignal",
         "type": "scatter",
         "y": [
          0.545292842896137,
          0.4070023328745077,
          0.4404488473956805,
          0.4440133360316324
         ]
        },
        {
         "name": "market_macdsignal_macdext",
         "type": "scatter",
         "y": [
          0.5787091586223658,
          0.5248562430178256,
          0.4944981908971767,
          0.48088760995853425
         ]
        },
        {
         "name": "market_macdsignal_macdfix",
         "type": "scatter",
         "y": [
          0.5456030782524955,
          0.40730735449710154,
          0.44053916061479864,
          0.4436432308500363
         ]
        },
        {
         "name": "market_max_drawdown_365d",
         "type": "scatter",
         "y": [
          0.5396203043072296,
          0.3471791853152927,
          0.46786109380354374,
          0.4056538943558571
         ]
        },
        {
         "name": "market_natr",
         "type": "scatter",
         "y": [
          0.2875394340134568,
          0.4250980440075627,
          0.34573125909517605,
          0.4641081538390788
         ]
        },
        {
         "name": "market_plus_di",
         "type": "scatter",
         "y": [
          0.3165139091842256,
          0.34557687386202457,
          0.3944444180662502,
          0.3759476306269297
         ]
        },
        {
         "name": "market_plus_dm",
         "type": "scatter",
         "y": [
          0.28102378948549306,
          0.005401859354258842,
          0.0022096059399165824,
          0.3809189743322604
         ]
        },
        {
         "name": "market_ppo",
         "type": "scatter",
         "y": [
          0.6064194476588227,
          0.41724855679575046,
          0.5358563506702309,
          0.5172753400523206
         ]
        },
        {
         "name": "market_rocp",
         "type": "scatter",
         "y": [
          0.4989462331833387,
          0.3634382166628802,
          0.4814662725595388,
          0.5516653021174497
         ]
        },
        {
         "name": "market_rocr",
         "type": "scatter",
         "y": [
          0.4989462331833388,
          0.3634382166628801,
          0.4814662725595389,
          0.5516653021174497
         ]
        },
        {
         "name": "max_eth_ever",
         "type": "scatter",
         "y": [
          0.005579672300873828,
          0.007395626836935198,
          0.0035451222312588124,
          0.004556563064428963
         ]
        },
        {
         "name": "max_risk_factor",
         "type": "scatter",
         "y": [
          0.12819830160038861,
          0.0001586558364847948,
          0.00007399437390435025,
          0.00011652902067794606
         ]
        },
        {
         "name": "min_eth_ever",
         "type": "scatter",
         "y": [
          0.0005222874153455448,
          0.00024990518391454925,
          0.00016615116380209853,
          0.0002936066106132224
         ]
        },
        {
         "name": "net_incoming_tx_count",
         "type": "scatter",
         "y": [
          0.40792620344038044,
          0.8351786773618659,
          0.8338161501886832,
          0.9590115153468335
         ]
        },
        {
         "name": "outgoing_tx_avg_eth",
         "type": "scatter",
         "y": [
          0.0030400561032408505,
          0.0016127276520594635,
          0.0024883581131628597,
          0.004327345095986287
         ]
        },
        {
         "name": "outgoing_tx_count",
         "type": "scatter",
         "y": [
          0.019135091237651166,
          0.0014173033279135012,
          0.0024544698444425262,
          0.003255774611399224
         ]
        },
        {
         "name": "outgoing_tx_sum_eth",
         "type": "scatter",
         "y": [
          0.009626100486500202,
          0.008050544313677554,
          0.00425518570310584,
          0.010375910125467127
         ]
        },
        {
         "name": "repay_amount_avg_eth",
         "type": "scatter",
         "y": [
          0.0017829188882356774,
          0.004143452407830753,
          0.0021461066229843326,
          0.008751054025630573
         ]
        },
        {
         "name": "repay_amount_sum_eth",
         "type": "scatter",
         "y": [
          0.010768515244703207,
          0.0027894692742191415,
          0.0007744895167861514,
          0.012161750161893237
         ]
        },
        {
         "name": "repay_count",
         "type": "scatter",
         "y": [
          0.02090607313565849,
          0.010801943735079582,
          0.007711647580886261,
          0.015316768065799753
         ]
        },
        {
         "name": "risk_factor",
         "type": "scatter",
         "y": [
          0.42969493466766756,
          0.2608416997591458,
          0.07214507607518489,
          0.246568334333155
         ]
        },
        {
         "name": "risk_factor_above_threshold_daily_count",
         "type": "scatter",
         "y": [
          0.018368627145721784,
          0.0022043516877606286,
          0.007441786655450226,
          0.006835989794548189
         ]
        },
        {
         "name": "risky_sum_outgoing_amount_eth",
         "type": "scatter",
         "y": [
          0.003749107778816799,
          0.003042433316363503,
          0.0012737441742060448,
          0.006549369751712315
         ]
        },
        {
         "name": "risky_tx_count",
         "type": "scatter",
         "y": [
          0.013437915424402752,
          0.030148099772956398,
          0.014214652741004048,
          0.018462339461359806
         ]
        },
        {
         "name": "risky_unique_contract_count",
         "type": "scatter",
         "y": [
          0.007846119833346826,
          0.0489043097824284,
          0.028953780532160734,
          0.022320406705065035
         ]
        },
        {
         "name": "time_since_first_deposit",
         "type": "scatter",
         "y": [
          0.21588041732523347,
          0.1457589515452864,
          0.13719707080083499,
          0.1628352107833569
         ]
        },
        {
         "name": "time_since_last_liquidated",
         "type": "scatter",
         "y": [
          0.7754783920680495,
          0.8832082037692267,
          0.8438554865987267,
          0.9044872595348041
         ]
        },
        {
         "name": "total_available_borrows_avg_eth",
         "type": "scatter",
         "y": [
          0.0047478041417078135,
          0.0017772649179118281,
          0.003471415584666343,
          0.010145857046272456
         ]
        },
        {
         "name": "total_available_borrows_eth",
         "type": "scatter",
         "y": [
          0.0043626873147342045,
          0.0006779372407316694,
          0.003947131976197748,
          0.013716027271877856
         ]
        },
        {
         "name": "total_balance_eth",
         "type": "scatter",
         "y": [
          0.0018634370096716377,
          0.0023477745057184415,
          0.0003700110213704417,
          0.0010021811150641362
         ]
        },
        {
         "name": "total_collateral_avg_eth",
         "type": "scatter",
         "y": [
          0.005370012961134737,
          0.002501099385763294,
          0.004152408991485121,
          0.006369668885964604
         ]
        },
        {
         "name": "total_collateral_eth",
         "type": "scatter",
         "y": [
          0.004690623107601496,
          0.0027631360681917736,
          0.002865283754400568,
          0.01348010722090228
         ]
        },
        {
         "name": "total_gas_paid_eth",
         "type": "scatter",
         "y": [
          0.005368436253791282,
          0.006098999909760638,
          0.006714522403601093,
          0.003859292097736473
         ]
        },
        {
         "name": "ts_diff_risky_tx",
         "type": "scatter",
         "y": [
          0.02748670270425026,
          0.25976631351346335,
          0.22912198206557943,
          0.22146812991180562
         ]
        },
        {
         "name": "ts_diff_tx",
         "type": "scatter",
         "y": [
          0.1907002911035254,
          0.1692870684731294,
          0.1616098306039081,
          0.1738711630664037
         ]
        },
        {
         "name": "unique_borrow_protocol_count",
         "type": "scatter",
         "y": [
          0.8467581722954669,
          0.488035037023659,
          0.25109772891457466,
          0.4895759258632172
         ]
        },
        {
         "name": "unique_lending_protocol_count",
         "type": "scatter",
         "y": [
          0.9702681957738848,
          0.5969500632111252,
          0.6551974218891097,
          0.6109681351799804
         ]
        },
        {
         "name": "wallet_age",
         "type": "scatter",
         "y": [
          0.19104966661663497,
          0.16967303694357236,
          0.1621986249552866,
          0.1743432080636035
         ]
        },
        {
         "name": "withdraw_amount_sum_eth",
         "type": "scatter",
         "y": [
          0.0053512705534414645,
          0.0023152869108067323,
          0.0006725358064651598,
          0.008682018071833855
         ]
        },
        {
         "name": "withdraw_deposit_diff_if_positive_eth",
         "type": "scatter",
         "y": [
          0.00032551768384505783,
          0.0002064202414809329,
          0.000051602032629350277,
          0.0006950075302101864
         ]
        }
       ],
       "layout": {
        "height": 1000,
        "template": {
         "data": {
          "bar": [
           {
            "error_x": {
             "color": "#2a3f5f"
            },
            "error_y": {
             "color": "#2a3f5f"
            },
            "marker": {
             "line": {
              "color": "#E5ECF6",
              "width": 0.5
             },
             "pattern": {
              "fillmode": "overlay",
              "size": 10,
              "solidity": 0.2
             }
            },
            "type": "bar"
           }
          ],
          "barpolar": [
           {
            "marker": {
             "line": {
              "color": "#E5ECF6",
              "width": 0.5
             },
             "pattern": {
              "fillmode": "overlay",
              "size": 10,
              "solidity": 0.2
             }
            },
            "type": "barpolar"
           }
          ],
          "carpet": [
           {
            "aaxis": {
             "endlinecolor": "#2a3f5f",
             "gridcolor": "white",
             "linecolor": "white",
             "minorgridcolor": "white",
             "startlinecolor": "#2a3f5f"
            },
            "baxis": {
             "endlinecolor": "#2a3f5f",
             "gridcolor": "white",
             "linecolor": "white",
             "minorgridcolor": "white",
             "startlinecolor": "#2a3f5f"
            },
            "type": "carpet"
           }
          ],
          "choropleth": [
           {
            "colorbar": {
             "outlinewidth": 0,
             "ticks": ""
            },
            "type": "choropleth"
           }
          ],
          "contour": [
           {
            "colorbar": {
             "outlinewidth": 0,
             "ticks": ""
            },
            "colorscale": [
             [
              0,
              "#0d0887"
             ],
             [
              0.1111111111111111,
              "#46039f"
             ],
             [
              0.2222222222222222,
              "#7201a8"
             ],
             [
              0.3333333333333333,
              "#9c179e"
             ],
             [
              0.4444444444444444,
              "#bd3786"
             ],
             [
              0.5555555555555556,
              "#d8576b"
             ],
             [
              0.6666666666666666,
              "#ed7953"
             ],
             [
              0.7777777777777778,
              "#fb9f3a"
             ],
             [
              0.8888888888888888,
              "#fdca26"
             ],
             [
              1,
              "#f0f921"
             ]
            ],
            "type": "contour"
           }
          ],
          "contourcarpet": [
           {
            "colorbar": {
             "outlinewidth": 0,
             "ticks": ""
            },
            "type": "contourcarpet"
           }
          ],
          "heatmap": [
           {
            "colorbar": {
             "outlinewidth": 0,
             "ticks": ""
            },
            "colorscale": [
             [
              0,
              "#0d0887"
             ],
             [
              0.1111111111111111,
              "#46039f"
             ],
             [
              0.2222222222222222,
              "#7201a8"
             ],
             [
              0.3333333333333333,
              "#9c179e"
             ],
             [
              0.4444444444444444,
              "#bd3786"
             ],
             [
              0.5555555555555556,
              "#d8576b"
             ],
             [
              0.6666666666666666,
              "#ed7953"
             ],
             [
              0.7777777777777778,
              "#fb9f3a"
             ],
             [
              0.8888888888888888,
              "#fdca26"
             ],
             [
              1,
              "#f0f921"
             ]
            ],
            "type": "heatmap"
           }
          ],
          "heatmapgl": [
           {
            "colorbar": {
             "outlinewidth": 0,
             "ticks": ""
            },
            "colorscale": [
             [
              0,
              "#0d0887"
             ],
             [
              0.1111111111111111,
              "#46039f"
             ],
             [
              0.2222222222222222,
              "#7201a8"
             ],
             [
              0.3333333333333333,
              "#9c179e"
             ],
             [
              0.4444444444444444,
              "#bd3786"
             ],
             [
              0.5555555555555556,
              "#d8576b"
             ],
             [
              0.6666666666666666,
              "#ed7953"
             ],
             [
              0.7777777777777778,
              "#fb9f3a"
             ],
             [
              0.8888888888888888,
              "#fdca26"
             ],
             [
              1,
              "#f0f921"
             ]
            ],
            "type": "heatmapgl"
           }
          ],
          "histogram": [
           {
            "marker": {
             "pattern": {
              "fillmode": "overlay",
              "size": 10,
              "solidity": 0.2
             }
            },
            "type": "histogram"
           }
          ],
          "histogram2d": [
           {
            "colorbar": {
             "outlinewidth": 0,
             "ticks": ""
            },
            "colorscale": [
             [
              0,
              "#0d0887"
             ],
             [
              0.1111111111111111,
              "#46039f"
             ],
             [
              0.2222222222222222,
              "#7201a8"
             ],
             [
              0.3333333333333333,
              "#9c179e"
             ],
             [
              0.4444444444444444,
              "#bd3786"
             ],
             [
              0.5555555555555556,
              "#d8576b"
             ],
             [
              0.6666666666666666,
              "#ed7953"
             ],
             [
              0.7777777777777778,
              "#fb9f3a"
             ],
             [
              0.8888888888888888,
              "#fdca26"
             ],
             [
              1,
              "#f0f921"
             ]
            ],
            "type": "histogram2d"
           }
          ],
          "histogram2dcontour": [
           {
            "colorbar": {
             "outlinewidth": 0,
             "ticks": ""
            },
            "colorscale": [
             [
              0,
              "#0d0887"
             ],
             [
              0.1111111111111111,
              "#46039f"
             ],
             [
              0.2222222222222222,
              "#7201a8"
             ],
             [
              0.3333333333333333,
              "#9c179e"
             ],
             [
              0.4444444444444444,
              "#bd3786"
             ],
             [
              0.5555555555555556,
              "#d8576b"
             ],
             [
              0.6666666666666666,
              "#ed7953"
             ],
             [
              0.7777777777777778,
              "#fb9f3a"
             ],
             [
              0.8888888888888888,
              "#fdca26"
             ],
             [
              1,
              "#f0f921"
             ]
            ],
            "type": "histogram2dcontour"
           }
          ],
          "mesh3d": [
           {
            "colorbar": {
             "outlinewidth": 0,
             "ticks": ""
            },
            "type": "mesh3d"
           }
          ],
          "parcoords": [
           {
            "line": {
             "colorbar": {
              "outlinewidth": 0,
              "ticks": ""
             }
            },
            "type": "parcoords"
           }
          ],
          "pie": [
           {
            "automargin": true,
            "type": "pie"
           }
          ],
          "scatter": [
           {
            "fillpattern": {
             "fillmode": "overlay",
             "size": 10,
             "solidity": 0.2
            },
            "type": "scatter"
           }
          ],
          "scatter3d": [
           {
            "line": {
             "colorbar": {
              "outlinewidth": 0,
              "ticks": ""
             }
            },
            "marker": {
             "colorbar": {
              "outlinewidth": 0,
              "ticks": ""
             }
            },
            "type": "scatter3d"
           }
          ],
          "scattercarpet": [
           {
            "marker": {
             "colorbar": {
              "outlinewidth": 0,
              "ticks": ""
             }
            },
            "type": "scattercarpet"
           }
          ],
          "scattergeo": [
           {
            "marker": {
             "colorbar": {
              "outlinewidth": 0,
              "ticks": ""
             }
            },
            "type": "scattergeo"
           }
          ],
          "scattergl": [
           {
            "marker": {
             "colorbar": {
              "outlinewidth": 0,
              "ticks": ""
             }
            },
            "type": "scattergl"
           }
          ],
          "scattermapbox": [
           {
            "marker": {
             "colorbar": {
              "outlinewidth": 0,
              "ticks": ""
             }
            },
            "type": "scattermapbox"
           }
          ],
          "scatterpolar": [
           {
            "marker": {
             "colorbar": {
              "outlinewidth": 0,
              "ticks": ""
             }
            },
            "type": "scatterpolar"
           }
          ],
          "scatterpolargl": [
           {
            "marker": {
             "colorbar": {
              "outlinewidth": 0,
              "ticks": ""
             }
            },
            "type": "scatterpolargl"
           }
          ],
          "scatterternary": [
           {
            "marker": {
             "colorbar": {
              "outlinewidth": 0,
              "ticks": ""
             }
            },
            "type": "scatterternary"
           }
          ],
          "surface": [
           {
            "colorbar": {
             "outlinewidth": 0,
             "ticks": ""
            },
            "colorscale": [
             [
              0,
              "#0d0887"
             ],
             [
              0.1111111111111111,
              "#46039f"
             ],
             [
              0.2222222222222222,
              "#7201a8"
             ],
             [
              0.3333333333333333,
              "#9c179e"
             ],
             [
              0.4444444444444444,
              "#bd3786"
             ],
             [
              0.5555555555555556,
              "#d8576b"
             ],
             [
              0.6666666666666666,
              "#ed7953"
             ],
             [
              0.7777777777777778,
              "#fb9f3a"
             ],
             [
              0.8888888888888888,
              "#fdca26"
             ],
             [
              1,
              "#f0f921"
             ]
            ],
            "type": "surface"
           }
          ],
          "table": [
           {
            "cells": {
             "fill": {
              "color": "#EBF0F8"
             },
             "line": {
              "color": "white"
             }
            },
            "header": {
             "fill": {
              "color": "#C8D4E3"
             },
             "line": {
              "color": "white"
             }
            },
            "type": "table"
           }
          ]
         },
         "layout": {
          "annotationdefaults": {
           "arrowcolor": "#2a3f5f",
           "arrowhead": 0,
           "arrowwidth": 1
          },
          "autotypenumbers": "strict",
          "coloraxis": {
           "colorbar": {
            "outlinewidth": 0,
            "ticks": ""
           }
          },
          "colorscale": {
           "diverging": [
            [
             0,
             "#8e0152"
            ],
            [
             0.1,
             "#c51b7d"
            ],
            [
             0.2,
             "#de77ae"
            ],
            [
             0.3,
             "#f1b6da"
            ],
            [
             0.4,
             "#fde0ef"
            ],
            [
             0.5,
             "#f7f7f7"
            ],
            [
             0.6,
             "#e6f5d0"
            ],
            [
             0.7,
             "#b8e186"
            ],
            [
             0.8,
             "#7fbc41"
            ],
            [
             0.9,
             "#4d9221"
            ],
            [
             1,
             "#276419"
            ]
           ],
           "sequential": [
            [
             0,
             "#0d0887"
            ],
            [
             0.1111111111111111,
             "#46039f"
            ],
            [
             0.2222222222222222,
             "#7201a8"
            ],
            [
             0.3333333333333333,
             "#9c179e"
            ],
            [
             0.4444444444444444,
             "#bd3786"
            ],
            [
             0.5555555555555556,
             "#d8576b"
            ],
            [
             0.6666666666666666,
             "#ed7953"
            ],
            [
             0.7777777777777778,
             "#fb9f3a"
            ],
            [
             0.8888888888888888,
             "#fdca26"
            ],
            [
             1,
             "#f0f921"
            ]
           ],
           "sequentialminus": [
            [
             0,
             "#0d0887"
            ],
            [
             0.1111111111111111,
             "#46039f"
            ],
            [
             0.2222222222222222,
             "#7201a8"
            ],
            [
             0.3333333333333333,
             "#9c179e"
            ],
            [
             0.4444444444444444,
             "#bd3786"
            ],
            [
             0.5555555555555556,
             "#d8576b"
            ],
            [
             0.6666666666666666,
             "#ed7953"
            ],
            [
             0.7777777777777778,
             "#fb9f3a"
            ],
            [
             0.8888888888888888,
             "#fdca26"
            ],
            [
             1,
             "#f0f921"
            ]
           ]
          },
          "colorway": [
           "#636efa",
           "#EF553B",
           "#00cc96",
           "#ab63fa",
           "#FFA15A",
           "#19d3f3",
           "#FF6692",
           "#B6E880",
           "#FF97FF",
           "#FECB52"
          ],
          "font": {
           "color": "#2a3f5f"
          },
          "geo": {
           "bgcolor": "white",
           "lakecolor": "white",
           "landcolor": "#E5ECF6",
           "showlakes": true,
           "showland": true,
           "subunitcolor": "white"
          },
          "hoverlabel": {
           "align": "left"
          },
          "hovermode": "closest",
          "mapbox": {
           "style": "light"
          },
          "paper_bgcolor": "white",
          "plot_bgcolor": "#E5ECF6",
          "polar": {
           "angularaxis": {
            "gridcolor": "white",
            "linecolor": "white",
            "ticks": ""
           },
           "bgcolor": "#E5ECF6",
           "radialaxis": {
            "gridcolor": "white",
            "linecolor": "white",
            "ticks": ""
           }
          },
          "scene": {
           "xaxis": {
            "backgroundcolor": "#E5ECF6",
            "gridcolor": "white",
            "gridwidth": 2,
            "linecolor": "white",
            "showbackground": true,
            "ticks": "",
            "zerolinecolor": "white"
           },
           "yaxis": {
            "backgroundcolor": "#E5ECF6",
            "gridcolor": "white",
            "gridwidth": 2,
            "linecolor": "white",
            "showbackground": true,
            "ticks": "",
            "zerolinecolor": "white"
           },
           "zaxis": {
            "backgroundcolor": "#E5ECF6",
            "gridcolor": "white",
            "gridwidth": 2,
            "linecolor": "white",
            "showbackground": true,
            "ticks": "",
            "zerolinecolor": "white"
           }
          },
          "shapedefaults": {
           "line": {
            "color": "#2a3f5f"
           }
          },
          "ternary": {
           "aaxis": {
            "gridcolor": "white",
            "linecolor": "white",
            "ticks": ""
           },
           "baxis": {
            "gridcolor": "white",
            "linecolor": "white",
            "ticks": ""
           },
           "bgcolor": "#E5ECF6",
           "caxis": {
            "gridcolor": "white",
            "linecolor": "white",
            "ticks": ""
           }
          },
          "title": {
           "x": 0.05
          },
          "xaxis": {
           "automargin": true,
           "gridcolor": "white",
           "linecolor": "white",
           "ticks": "",
           "title": {
            "standoff": 15
           },
           "zerolinecolor": "white",
           "zerolinewidth": 2
          },
          "yaxis": {
           "automargin": true,
           "gridcolor": "white",
           "linecolor": "white",
           "ticks": "",
           "title": {
            "standoff": 15
           },
           "zerolinecolor": "white",
           "zerolinewidth": 2
          }
         }
        },
        "width": 2000
       }
      }
     },
     "metadata": {},
     "output_type": "display_data"
    }
   ],
   "source": [
    "import plotly.graph_objects as go\n",
    "\n",
    "fig = go.Figure()\n",
    "for column in X.select_dtypes(include=np.float64):\n",
    "    fig.add_trace(go.Scatter(y=means[column], name=column))\n",
    "fig.update_layout(width=2000, height=1000)\n",
    "fig"
   ]
  },
  {
   "cell_type": "code",
   "execution_count": 25,
   "metadata": {},
   "outputs": [
    {
     "data": {
      "application/vnd.plotly.v1+json": {
       "config": {
        "plotlyServerURL": "https://plot.ly"
       },
       "data": [
        {
         "name": "avg_gas_paid_per_tx_eth",
         "type": "scatter",
         "y": [
          0.019599807847725945,
          0.0133645659044174,
          0.024444385647672644,
          0.04045396260861634
         ]
        },
        {
         "name": "avg_risk_factor",
         "type": "scatter",
         "y": [
          0.327920604421891,
          0.008837404184717904,
          0.003700877534738461,
          0.006444378207814408
         ]
        },
        {
         "name": "avg_weighted_risk_factor",
         "type": "scatter",
         "y": [
          0.036176099274528944,
          0.01611940081022175,
          0.022664704471490583,
          0.011327742713818709
         ]
        },
        {
         "name": "borrow_amount_avg_eth",
         "type": "scatter",
         "y": [
          0.020941021232900082,
          0.013983145273042381,
          0.016690812498623697,
          0.031315448772357896
         ]
        },
        {
         "name": "borrow_amount_sum_eth",
         "type": "scatter",
         "y": [
          0.03430427451747699,
          0.027402581615534716,
          0.008329440032436172,
          0.05324320292426758
         ]
        },
        {
         "name": "borrow_block_number",
         "type": "scatter",
         "y": [
          0.2960226749273986,
          0.29541158760486147,
          0.31164127404992364,
          0.2616190318494167
         ]
        },
        {
         "name": "borrow_count",
         "type": "scatter",
         "y": [
          0.07169612508362472,
          0.04900654103134962,
          0.01572911544689959,
          0.048304202759106296
         ]
        },
        {
         "name": "borrow_repay_diff_eth",
         "type": "scatter",
         "y": [
          0.032890533036848156,
          0.026448496241528757,
          0.010294093825103469,
          0.00969492506689648
         ]
        },
        {
         "name": "borrow_times",
         "type": "scatter",
         "y": [
          0.22681880957339867,
          0.1473695218368565,
          0.14160451200721627,
          0.20902639767906853
         ]
        },
        {
         "name": "borrow_timestamp",
         "type": "scatter",
         "y": [
          0.2980212752738105,
          0.2951924175920254,
          0.3105344047590319,
          0.2598262379359505
         ]
        },
        {
         "name": "deposit_amount_sum_eth",
         "type": "scatter",
         "y": [
          0.0405768238986764,
          0.019202891367534485,
          0.012510329648824663,
          0.04122551882729921
         ]
        },
        {
         "name": "deposit_count",
         "type": "scatter",
         "y": [
          0.05909246596819259,
          0.03839261646660269,
          0.03653104830823719,
          0.03734814458475546
         ]
        },
        {
         "name": "incoming_tx_avg_eth",
         "type": "scatter",
         "y": [
          0.02302836648566523,
          0.009824192821201222,
          0.018332403871069082,
          0.011161818987144056
         ]
        },
        {
         "name": "incoming_tx_count",
         "type": "scatter",
         "y": [
          0.031040784027411297,
          0.013288369535900856,
          0.009501463362718968,
          0.05140054836079534
         ]
        },
        {
         "name": "incoming_tx_sum_eth",
         "type": "scatter",
         "y": [
          0.03410349682356477,
          0.043784470592255514,
          0.024979652746884472,
          0.06703837206800355
         ]
        },
        {
         "name": "liquidation_amount_sum_eth",
         "type": "scatter",
         "y": [
          0.1378410902311786,
          0.05247373073796483,
          0.045069895972626846,
          0.020328241423431502
         ]
        },
        {
         "name": "liquidation_count",
         "type": "scatter",
         "y": [
          0.1567969065121795,
          0.04595400072905234,
          0.028542610399722824,
          0.04339836939568462
         ]
        },
        {
         "name": "market_adx",
         "type": "scatter",
         "y": [
          0.21912296527055686,
          0.20216511771373274,
          0.25018088015686946,
          0.19223541599355484
         ]
        },
        {
         "name": "market_adxr",
         "type": "scatter",
         "y": [
          0.2342782625800273,
          0.20372444762427608,
          0.26625127309609237,
          0.17712377699307333
         ]
        },
        {
         "name": "market_apo",
         "type": "scatter",
         "y": [
          0.17910008339434969,
          0.20318630767181753,
          0.19099707919144734,
          0.21958254791244936
         ]
        },
        {
         "name": "market_aroonosc",
         "type": "scatter",
         "y": [
          0.31999163440487294,
          0.22183464759972069,
          0.3345862420910031,
          0.3153853856465008
         ]
        },
        {
         "name": "market_aroonup",
         "type": "scatter",
         "y": [
          0.34943950329065854,
          0.3133971303805131,
          0.3906371988461978,
          0.349207847406817
         ]
        },
        {
         "name": "market_atr",
         "type": "scatter",
         "y": [
          0.24176616298312226,
          0.3253629911960656,
          0.2352017507752639,
          0.31670820830545626
         ]
        },
        {
         "name": "market_cci",
         "type": "scatter",
         "y": [
          0.22206533541231518,
          0.18638685329602095,
          0.18870098640784116,
          0.1947674522895621
         ]
        },
        {
         "name": "market_cmo",
         "type": "scatter",
         "y": [
          0.1931726329697565,
          0.21081535534082302,
          0.21531042544818263,
          0.18877905384198165
         ]
        },
        {
         "name": "market_correl",
         "type": "scatter",
         "y": [
          0.15169021626781107,
          0.16213598294229822,
          0.11295462572157385,
          0.16610843637026512
         ]
        },
        {
         "name": "market_dx",
         "type": "scatter",
         "y": [
          0.23067491366174736,
          0.2327295156247009,
          0.22614976752075028,
          0.23966337780523897
         ]
        },
        {
         "name": "market_fastd",
         "type": "scatter",
         "y": [
          0.26956601951285286,
          0.24078649956261267,
          0.2856552542768949,
          0.28807472222423985
         ]
        },
        {
         "name": "market_fastk",
         "type": "scatter",
         "y": [
          0.2982375002345365,
          0.27003429655085315,
          0.3197788091874827,
          0.3085689559426964
         ]
        },
        {
         "name": "market_linearreg_slope",
         "type": "scatter",
         "y": [
          0.15456399429815612,
          0.17344062795505646,
          0.17468759878359352,
          0.2223585943188724
         ]
        },
        {
         "name": "market_macd",
         "type": "scatter",
         "y": [
          0.1913400144839312,
          0.29484783141328574,
          0.21584728646277734,
          0.24127680799949303
         ]
        },
        {
         "name": "market_macd_macdext",
         "type": "scatter",
         "y": [
          0.17910008339434969,
          0.20318630767181753,
          0.19099707919144734,
          0.21958254791244936
         ]
        },
        {
         "name": "market_macd_macdfix",
         "type": "scatter",
         "y": [
          0.19162689796497331,
          0.2957770642782379,
          0.2161617211493289,
          0.2415122114934962
         ]
        },
        {
         "name": "market_macdsignal",
         "type": "scatter",
         "y": [
          0.20683905357605578,
          0.329293200278587,
          0.22896791104611644,
          0.24775517581984777
         ]
        },
        {
         "name": "market_macdsignal_macdext",
         "type": "scatter",
         "y": [
          0.1852044837118409,
          0.22511391433451386,
          0.2087449908679371,
          0.22268141170075822
         ]
        },
        {
         "name": "market_macdsignal_macdfix",
         "type": "scatter",
         "y": [
          0.20699392432483948,
          0.3293722672900778,
          0.2292365151335327,
          0.24783392841062007
         ]
        },
        {
         "name": "market_max_drawdown_365d",
         "type": "scatter",
         "y": [
          0.1956739813270362,
          0.32410756987666933,
          0.21822915075199523,
          0.20117101386097394
         ]
        },
        {
         "name": "market_natr",
         "type": "scatter",
         "y": [
          0.1803691636081933,
          0.20939527889129533,
          0.2132170264153533,
          0.3278077508556011
         ]
        },
        {
         "name": "market_plus_di",
         "type": "scatter",
         "y": [
          0.18169271398558517,
          0.19672939544523285,
          0.21721583458876262,
          0.2020337661385864
         ]
        },
        {
         "name": "market_plus_dm",
         "type": "scatter",
         "y": [
          0.17439860822630865,
          0.05624450903174929,
          0.0404015509639555,
          0.22060090793433015
         ]
        },
        {
         "name": "market_ppo",
         "type": "scatter",
         "y": [
          0.16456933313562036,
          0.19577109581872493,
          0.20490991128548852,
          0.20859485110494114
         ]
        },
        {
         "name": "market_rocp",
         "type": "scatter",
         "y": [
          0.14235469570845857,
          0.17414575855692005,
          0.1944171926374729,
          0.2124197975065733
         ]
        },
        {
         "name": "market_rocr",
         "type": "scatter",
         "y": [
          0.14235469570845857,
          0.17414575855692005,
          0.19441719263747287,
          0.2124197975065733
         ]
        },
        {
         "name": "max_eth_ever",
         "type": "scatter",
         "y": [
          0.03222064059828368,
          0.05063383840526081,
          0.02769948668505753,
          0.024172219254928486
         ]
        },
        {
         "name": "max_risk_factor",
         "type": "scatter",
         "y": [
          0.08435571853500665,
          0.012569957467753563,
          0.008565336920897695,
          0.006105597579821702
         ]
        },
        {
         "name": "min_eth_ever",
         "type": "scatter",
         "y": [
          0.01198182909525451,
          0.0121070147277348,
          0.005250947835439797,
          0.010857492384590012
         ]
        },
        {
         "name": "net_incoming_tx_count",
         "type": "scatter",
         "y": [
          0.013069782683327227,
          0.010476291899759647,
          0.02914227995115797,
          0.03320192214070434
         ]
        },
        {
         "name": "outgoing_tx_avg_eth",
         "type": "scatter",
         "y": [
          0.022450938891200378,
          0.01266262292869366,
          0.018182274785594716,
          0.019279477560481602
         ]
        },
        {
         "name": "outgoing_tx_count",
         "type": "scatter",
         "y": [
          0.05537618621953675,
          0.013100663431220775,
          0.03499070019283357,
          0.03462182736274928
         ]
        },
        {
         "name": "outgoing_tx_sum_eth",
         "type": "scatter",
         "y": [
          0.033845336562893735,
          0.04680300654165348,
          0.029370786312956466,
          0.06660598209869945
         ]
        },
        {
         "name": "repay_amount_avg_eth",
         "type": "scatter",
         "y": [
          0.017968044163861135,
          0.027731091180910623,
          0.012938009882590156,
          0.027535971738391365
         ]
        },
        {
         "name": "repay_amount_sum_eth",
         "type": "scatter",
         "y": [
          0.04374309128346187,
          0.0218167510616764,
          0.007894464708834639,
          0.04924806760081827
         ]
        },
        {
         "name": "repay_count",
         "type": "scatter",
         "y": [
          0.07200832761154125,
          0.04910253243246159,
          0.023583154966369962,
          0.047387222888853865
         ]
        },
        {
         "name": "risk_factor",
         "type": "scatter",
         "y": [
          0.3540420365936997,
          0.2010094620695268,
          0.05777458134777151,
          0.2239405844436222
         ]
        },
        {
         "name": "risk_factor_above_threshold_daily_count",
         "type": "scatter",
         "y": [
          0.1024196709477234,
          0.04193989846263725,
          0.05003145859984324,
          0.05548926623760094
         ]
        },
        {
         "name": "risky_sum_outgoing_amount_eth",
         "type": "scatter",
         "y": [
          0.04452985556770331,
          0.026261308589470574,
          0.01222700067454594,
          0.04619990344314298
         ]
        },
        {
         "name": "risky_tx_count",
         "type": "scatter",
         "y": [
          0.05271191892487955,
          0.06600622586033168,
          0.03603127463692132,
          0.050678318240603114
         ]
        },
        {
         "name": "risky_unique_contract_count",
         "type": "scatter",
         "y": [
          0.024262776471432997,
          0.07515758022942383,
          0.050708161459491745,
          0.04763802553847448
         ]
        },
        {
         "name": "time_since_first_deposit",
         "type": "scatter",
         "y": [
          0.2607110985797114,
          0.1950901456576042,
          0.16572708008743076,
          0.1876475482093931
         ]
        },
        {
         "name": "time_since_last_liquidated",
         "type": "scatter",
         "y": [
          0.4166387227263302,
          0.3201185140092466,
          0.3615848290772462,
          0.2906790413029186
         ]
        },
        {
         "name": "total_available_borrows_avg_eth",
         "type": "scatter",
         "y": [
          0.02719509365201406,
          0.012243927338021349,
          0.03526301422254019,
          0.040666195791436925
         ]
        },
        {
         "name": "total_available_borrows_eth",
         "type": "scatter",
         "y": [
          0.030789663604563557,
          0.006372303466524818,
          0.018096011215193337,
          0.06739966860576613
         ]
        },
        {
         "name": "total_balance_eth",
         "type": "scatter",
         "y": [
          0.01875688322011452,
          0.030383024856514302,
          0.006480583344378685,
          0.010385137611564206
         ]
        },
        {
         "name": "total_collateral_avg_eth",
         "type": "scatter",
         "y": [
          0.03095451505299309,
          0.01758022293007962,
          0.037807579952651084,
          0.030824383016441095
         ]
        },
        {
         "name": "total_collateral_eth",
         "type": "scatter",
         "y": [
          0.032272021185973665,
          0.02114027926097944,
          0.028697613500487194,
          0.05902186699279632
         ]
        },
        {
         "name": "total_gas_paid_eth",
         "type": "scatter",
         "y": [
          0.02643382225242576,
          0.03324596646147466,
          0.033014488461622075,
          0.018021915251608758
         ]
        },
        {
         "name": "ts_diff_risky_tx",
         "type": "scatter",
         "y": [
          0.1061069866265065,
          0.258573732019366,
          0.23185133841962222,
          0.259333215815055
         ]
        },
        {
         "name": "ts_diff_tx",
         "type": "scatter",
         "y": [
          0.18807984619286428,
          0.19726556615213142,
          0.17552347435984822,
          0.17196103959271966
         ]
        },
        {
         "name": "unique_borrow_protocol_count",
         "type": "scatter",
         "y": [
          0.36022451244857606,
          0.255036863891307,
          0.15461199660751904,
          0.2877833459284473
         ]
        },
        {
         "name": "unique_lending_protocol_count",
         "type": "scatter",
         "y": [
          0.16984838918723313,
          0.20777322872348855,
          0.2419592822859677,
          0.2206076567231233
         ]
        },
        {
         "name": "wallet_age",
         "type": "scatter",
         "y": [
          0.1880638231619223,
          0.1972594118231781,
          0.17557183226847264,
          0.1715987627224264
         ]
        },
        {
         "name": "withdraw_amount_sum_eth",
         "type": "scatter",
         "y": [
          0.02222488121021366,
          0.016047662897213138,
          0.007098101441417884,
          0.04313425034971865
         ]
        },
        {
         "name": "withdraw_deposit_diff_if_positive_eth",
         "type": "scatter",
         "y": [
          0.006694707124745098,
          0.004459601591235,
          0.004061220531498728,
          0.018782173357575163
         ]
        }
       ],
       "layout": {
        "height": 1000,
        "template": {
         "data": {
          "bar": [
           {
            "error_x": {
             "color": "#2a3f5f"
            },
            "error_y": {
             "color": "#2a3f5f"
            },
            "marker": {
             "line": {
              "color": "#E5ECF6",
              "width": 0.5
             },
             "pattern": {
              "fillmode": "overlay",
              "size": 10,
              "solidity": 0.2
             }
            },
            "type": "bar"
           }
          ],
          "barpolar": [
           {
            "marker": {
             "line": {
              "color": "#E5ECF6",
              "width": 0.5
             },
             "pattern": {
              "fillmode": "overlay",
              "size": 10,
              "solidity": 0.2
             }
            },
            "type": "barpolar"
           }
          ],
          "carpet": [
           {
            "aaxis": {
             "endlinecolor": "#2a3f5f",
             "gridcolor": "white",
             "linecolor": "white",
             "minorgridcolor": "white",
             "startlinecolor": "#2a3f5f"
            },
            "baxis": {
             "endlinecolor": "#2a3f5f",
             "gridcolor": "white",
             "linecolor": "white",
             "minorgridcolor": "white",
             "startlinecolor": "#2a3f5f"
            },
            "type": "carpet"
           }
          ],
          "choropleth": [
           {
            "colorbar": {
             "outlinewidth": 0,
             "ticks": ""
            },
            "type": "choropleth"
           }
          ],
          "contour": [
           {
            "colorbar": {
             "outlinewidth": 0,
             "ticks": ""
            },
            "colorscale": [
             [
              0,
              "#0d0887"
             ],
             [
              0.1111111111111111,
              "#46039f"
             ],
             [
              0.2222222222222222,
              "#7201a8"
             ],
             [
              0.3333333333333333,
              "#9c179e"
             ],
             [
              0.4444444444444444,
              "#bd3786"
             ],
             [
              0.5555555555555556,
              "#d8576b"
             ],
             [
              0.6666666666666666,
              "#ed7953"
             ],
             [
              0.7777777777777778,
              "#fb9f3a"
             ],
             [
              0.8888888888888888,
              "#fdca26"
             ],
             [
              1,
              "#f0f921"
             ]
            ],
            "type": "contour"
           }
          ],
          "contourcarpet": [
           {
            "colorbar": {
             "outlinewidth": 0,
             "ticks": ""
            },
            "type": "contourcarpet"
           }
          ],
          "heatmap": [
           {
            "colorbar": {
             "outlinewidth": 0,
             "ticks": ""
            },
            "colorscale": [
             [
              0,
              "#0d0887"
             ],
             [
              0.1111111111111111,
              "#46039f"
             ],
             [
              0.2222222222222222,
              "#7201a8"
             ],
             [
              0.3333333333333333,
              "#9c179e"
             ],
             [
              0.4444444444444444,
              "#bd3786"
             ],
             [
              0.5555555555555556,
              "#d8576b"
             ],
             [
              0.6666666666666666,
              "#ed7953"
             ],
             [
              0.7777777777777778,
              "#fb9f3a"
             ],
             [
              0.8888888888888888,
              "#fdca26"
             ],
             [
              1,
              "#f0f921"
             ]
            ],
            "type": "heatmap"
           }
          ],
          "heatmapgl": [
           {
            "colorbar": {
             "outlinewidth": 0,
             "ticks": ""
            },
            "colorscale": [
             [
              0,
              "#0d0887"
             ],
             [
              0.1111111111111111,
              "#46039f"
             ],
             [
              0.2222222222222222,
              "#7201a8"
             ],
             [
              0.3333333333333333,
              "#9c179e"
             ],
             [
              0.4444444444444444,
              "#bd3786"
             ],
             [
              0.5555555555555556,
              "#d8576b"
             ],
             [
              0.6666666666666666,
              "#ed7953"
             ],
             [
              0.7777777777777778,
              "#fb9f3a"
             ],
             [
              0.8888888888888888,
              "#fdca26"
             ],
             [
              1,
              "#f0f921"
             ]
            ],
            "type": "heatmapgl"
           }
          ],
          "histogram": [
           {
            "marker": {
             "pattern": {
              "fillmode": "overlay",
              "size": 10,
              "solidity": 0.2
             }
            },
            "type": "histogram"
           }
          ],
          "histogram2d": [
           {
            "colorbar": {
             "outlinewidth": 0,
             "ticks": ""
            },
            "colorscale": [
             [
              0,
              "#0d0887"
             ],
             [
              0.1111111111111111,
              "#46039f"
             ],
             [
              0.2222222222222222,
              "#7201a8"
             ],
             [
              0.3333333333333333,
              "#9c179e"
             ],
             [
              0.4444444444444444,
              "#bd3786"
             ],
             [
              0.5555555555555556,
              "#d8576b"
             ],
             [
              0.6666666666666666,
              "#ed7953"
             ],
             [
              0.7777777777777778,
              "#fb9f3a"
             ],
             [
              0.8888888888888888,
              "#fdca26"
             ],
             [
              1,
              "#f0f921"
             ]
            ],
            "type": "histogram2d"
           }
          ],
          "histogram2dcontour": [
           {
            "colorbar": {
             "outlinewidth": 0,
             "ticks": ""
            },
            "colorscale": [
             [
              0,
              "#0d0887"
             ],
             [
              0.1111111111111111,
              "#46039f"
             ],
             [
              0.2222222222222222,
              "#7201a8"
             ],
             [
              0.3333333333333333,
              "#9c179e"
             ],
             [
              0.4444444444444444,
              "#bd3786"
             ],
             [
              0.5555555555555556,
              "#d8576b"
             ],
             [
              0.6666666666666666,
              "#ed7953"
             ],
             [
              0.7777777777777778,
              "#fb9f3a"
             ],
             [
              0.8888888888888888,
              "#fdca26"
             ],
             [
              1,
              "#f0f921"
             ]
            ],
            "type": "histogram2dcontour"
           }
          ],
          "mesh3d": [
           {
            "colorbar": {
             "outlinewidth": 0,
             "ticks": ""
            },
            "type": "mesh3d"
           }
          ],
          "parcoords": [
           {
            "line": {
             "colorbar": {
              "outlinewidth": 0,
              "ticks": ""
             }
            },
            "type": "parcoords"
           }
          ],
          "pie": [
           {
            "automargin": true,
            "type": "pie"
           }
          ],
          "scatter": [
           {
            "fillpattern": {
             "fillmode": "overlay",
             "size": 10,
             "solidity": 0.2
            },
            "type": "scatter"
           }
          ],
          "scatter3d": [
           {
            "line": {
             "colorbar": {
              "outlinewidth": 0,
              "ticks": ""
             }
            },
            "marker": {
             "colorbar": {
              "outlinewidth": 0,
              "ticks": ""
             }
            },
            "type": "scatter3d"
           }
          ],
          "scattercarpet": [
           {
            "marker": {
             "colorbar": {
              "outlinewidth": 0,
              "ticks": ""
             }
            },
            "type": "scattercarpet"
           }
          ],
          "scattergeo": [
           {
            "marker": {
             "colorbar": {
              "outlinewidth": 0,
              "ticks": ""
             }
            },
            "type": "scattergeo"
           }
          ],
          "scattergl": [
           {
            "marker": {
             "colorbar": {
              "outlinewidth": 0,
              "ticks": ""
             }
            },
            "type": "scattergl"
           }
          ],
          "scattermapbox": [
           {
            "marker": {
             "colorbar": {
              "outlinewidth": 0,
              "ticks": ""
             }
            },
            "type": "scattermapbox"
           }
          ],
          "scatterpolar": [
           {
            "marker": {
             "colorbar": {
              "outlinewidth": 0,
              "ticks": ""
             }
            },
            "type": "scatterpolar"
           }
          ],
          "scatterpolargl": [
           {
            "marker": {
             "colorbar": {
              "outlinewidth": 0,
              "ticks": ""
             }
            },
            "type": "scatterpolargl"
           }
          ],
          "scatterternary": [
           {
            "marker": {
             "colorbar": {
              "outlinewidth": 0,
              "ticks": ""
             }
            },
            "type": "scatterternary"
           }
          ],
          "surface": [
           {
            "colorbar": {
             "outlinewidth": 0,
             "ticks": ""
            },
            "colorscale": [
             [
              0,
              "#0d0887"
             ],
             [
              0.1111111111111111,
              "#46039f"
             ],
             [
              0.2222222222222222,
              "#7201a8"
             ],
             [
              0.3333333333333333,
              "#9c179e"
             ],
             [
              0.4444444444444444,
              "#bd3786"
             ],
             [
              0.5555555555555556,
              "#d8576b"
             ],
             [
              0.6666666666666666,
              "#ed7953"
             ],
             [
              0.7777777777777778,
              "#fb9f3a"
             ],
             [
              0.8888888888888888,
              "#fdca26"
             ],
             [
              1,
              "#f0f921"
             ]
            ],
            "type": "surface"
           }
          ],
          "table": [
           {
            "cells": {
             "fill": {
              "color": "#EBF0F8"
             },
             "line": {
              "color": "white"
             }
            },
            "header": {
             "fill": {
              "color": "#C8D4E3"
             },
             "line": {
              "color": "white"
             }
            },
            "type": "table"
           }
          ]
         },
         "layout": {
          "annotationdefaults": {
           "arrowcolor": "#2a3f5f",
           "arrowhead": 0,
           "arrowwidth": 1
          },
          "autotypenumbers": "strict",
          "coloraxis": {
           "colorbar": {
            "outlinewidth": 0,
            "ticks": ""
           }
          },
          "colorscale": {
           "diverging": [
            [
             0,
             "#8e0152"
            ],
            [
             0.1,
             "#c51b7d"
            ],
            [
             0.2,
             "#de77ae"
            ],
            [
             0.3,
             "#f1b6da"
            ],
            [
             0.4,
             "#fde0ef"
            ],
            [
             0.5,
             "#f7f7f7"
            ],
            [
             0.6,
             "#e6f5d0"
            ],
            [
             0.7,
             "#b8e186"
            ],
            [
             0.8,
             "#7fbc41"
            ],
            [
             0.9,
             "#4d9221"
            ],
            [
             1,
             "#276419"
            ]
           ],
           "sequential": [
            [
             0,
             "#0d0887"
            ],
            [
             0.1111111111111111,
             "#46039f"
            ],
            [
             0.2222222222222222,
             "#7201a8"
            ],
            [
             0.3333333333333333,
             "#9c179e"
            ],
            [
             0.4444444444444444,
             "#bd3786"
            ],
            [
             0.5555555555555556,
             "#d8576b"
            ],
            [
             0.6666666666666666,
             "#ed7953"
            ],
            [
             0.7777777777777778,
             "#fb9f3a"
            ],
            [
             0.8888888888888888,
             "#fdca26"
            ],
            [
             1,
             "#f0f921"
            ]
           ],
           "sequentialminus": [
            [
             0,
             "#0d0887"
            ],
            [
             0.1111111111111111,
             "#46039f"
            ],
            [
             0.2222222222222222,
             "#7201a8"
            ],
            [
             0.3333333333333333,
             "#9c179e"
            ],
            [
             0.4444444444444444,
             "#bd3786"
            ],
            [
             0.5555555555555556,
             "#d8576b"
            ],
            [
             0.6666666666666666,
             "#ed7953"
            ],
            [
             0.7777777777777778,
             "#fb9f3a"
            ],
            [
             0.8888888888888888,
             "#fdca26"
            ],
            [
             1,
             "#f0f921"
            ]
           ]
          },
          "colorway": [
           "#636efa",
           "#EF553B",
           "#00cc96",
           "#ab63fa",
           "#FFA15A",
           "#19d3f3",
           "#FF6692",
           "#B6E880",
           "#FF97FF",
           "#FECB52"
          ],
          "font": {
           "color": "#2a3f5f"
          },
          "geo": {
           "bgcolor": "white",
           "lakecolor": "white",
           "landcolor": "#E5ECF6",
           "showlakes": true,
           "showland": true,
           "subunitcolor": "white"
          },
          "hoverlabel": {
           "align": "left"
          },
          "hovermode": "closest",
          "mapbox": {
           "style": "light"
          },
          "paper_bgcolor": "white",
          "plot_bgcolor": "#E5ECF6",
          "polar": {
           "angularaxis": {
            "gridcolor": "white",
            "linecolor": "white",
            "ticks": ""
           },
           "bgcolor": "#E5ECF6",
           "radialaxis": {
            "gridcolor": "white",
            "linecolor": "white",
            "ticks": ""
           }
          },
          "scene": {
           "xaxis": {
            "backgroundcolor": "#E5ECF6",
            "gridcolor": "white",
            "gridwidth": 2,
            "linecolor": "white",
            "showbackground": true,
            "ticks": "",
            "zerolinecolor": "white"
           },
           "yaxis": {
            "backgroundcolor": "#E5ECF6",
            "gridcolor": "white",
            "gridwidth": 2,
            "linecolor": "white",
            "showbackground": true,
            "ticks": "",
            "zerolinecolor": "white"
           },
           "zaxis": {
            "backgroundcolor": "#E5ECF6",
            "gridcolor": "white",
            "gridwidth": 2,
            "linecolor": "white",
            "showbackground": true,
            "ticks": "",
            "zerolinecolor": "white"
           }
          },
          "shapedefaults": {
           "line": {
            "color": "#2a3f5f"
           }
          },
          "ternary": {
           "aaxis": {
            "gridcolor": "white",
            "linecolor": "white",
            "ticks": ""
           },
           "baxis": {
            "gridcolor": "white",
            "linecolor": "white",
            "ticks": ""
           },
           "bgcolor": "#E5ECF6",
           "caxis": {
            "gridcolor": "white",
            "linecolor": "white",
            "ticks": ""
           }
          },
          "title": {
           "x": 0.05
          },
          "xaxis": {
           "automargin": true,
           "gridcolor": "white",
           "linecolor": "white",
           "ticks": "",
           "title": {
            "standoff": 15
           },
           "zerolinecolor": "white",
           "zerolinewidth": 2
          },
          "yaxis": {
           "automargin": true,
           "gridcolor": "white",
           "linecolor": "white",
           "ticks": "",
           "title": {
            "standoff": 15
           },
           "zerolinecolor": "white",
           "zerolinewidth": 2
          }
         }
        },
        "width": 2000
       }
      }
     },
     "metadata": {},
     "output_type": "display_data"
    }
   ],
   "source": [
    "fig = go.Figure()\n",
    "for column in X.select_dtypes(include=np.float64):\n",
    "    fig.add_trace(go.Scatter(y=stds[column], name=column))\n",
    "fig.update_layout(width=2000, height=1000)\n",
    "fig"
   ]
  },
  {
   "cell_type": "code",
   "execution_count": 26,
   "metadata": {},
   "outputs": [
    {
     "data": {
      "text/plain": [
       "[KstestResult(statistic=0.20358497381253388, pvalue=0.0, statistic_location=0.004328932705755147, statistic_sign=-1),\n",
       " KstestResult(statistic=0.29565310637529346, pvalue=0.0, statistic_location=0.007673845695984875, statistic_sign=-1),\n",
       " KstestResult(statistic=0.38717263193012036, pvalue=0.0, statistic_location=0.014837239493548465, statistic_sign=-1)]"
      ]
     },
     "execution_count": 26,
     "metadata": {},
     "output_type": "execute_result"
    }
   ],
   "source": [
    "kstests['avg_gas_paid_per_tx_eth']"
   ]
  },
  {
   "cell_type": "code",
   "execution_count": 27,
   "metadata": {},
   "outputs": [
    {
     "data": {
      "application/vnd.plotly.v1+json": {
       "config": {
        "plotlyServerURL": "https://plot.ly"
       },
       "data": [
        {
         "name": "avg_gas_paid_per_tx_eth",
         "type": "scatter",
         "y": [
          0.38717263193012036,
          0
         ]
        },
        {
         "name": "avg_risk_factor",
         "type": "scatter",
         "y": [
          0.7535672355854461,
          0
         ]
        },
        {
         "name": "avg_weighted_risk_factor",
         "type": "scatter",
         "y": [
          0.5622251944339578,
          0
         ]
        },
        {
         "name": "borrow_amount_avg_eth",
         "type": "scatter",
         "y": [
          0.1934777567151833,
          0
         ]
        },
        {
         "name": "borrow_amount_sum_eth",
         "type": "scatter",
         "y": [
          0.17248969659047253,
          0
         ]
        },
        {
         "name": "borrow_block_number",
         "type": "scatter",
         "y": [
          0.11374799345645281,
          0
         ]
        },
        {
         "name": "borrow_count",
         "type": "scatter",
         "y": [
          0.09379656882166987,
          0
         ]
        },
        {
         "name": "borrow_repay_diff_eth",
         "type": "scatter",
         "y": [
          0.13237770721885744,
          0
         ]
        },
        {
         "name": "borrow_times",
         "type": "scatter",
         "y": [
          0.13420452999823101,
          0
         ]
        },
        {
         "name": "borrow_timestamp",
         "type": "scatter",
         "y": [
          0.11001177642818738,
          0
         ]
        },
        {
         "name": "deposit_amount_sum_eth",
         "type": "scatter",
         "y": [
          0.0897515474321462,
          0
         ]
        },
        {
         "name": "deposit_count",
         "type": "scatter",
         "y": [
          0.15447597368883126,
          0
         ]
        },
        {
         "name": "incoming_tx_avg_eth",
         "type": "scatter",
         "y": [
          0.10671766522388565,
          0
         ]
        },
        {
         "name": "incoming_tx_count",
         "type": "scatter",
         "y": [
          0.2889979356038162,
          0
         ]
        },
        {
         "name": "incoming_tx_sum_eth",
         "type": "scatter",
         "y": [
          0.06144888351342581,
          2.5809961998825144e-194
         ]
        },
        {
         "name": "liquidation_amount_sum_eth",
         "type": "scatter",
         "y": [
          0.06481492637000819,
          3.7057867975718036e-216
         ]
        },
        {
         "name": "liquidation_count",
         "type": "scatter",
         "y": [
          0.05969610676779402,
          2.104993518878051e-183
         ]
        },
        {
         "name": "market_adx",
         "type": "scatter",
         "y": [
          0.27081760358388796,
          0
         ]
        },
        {
         "name": "market_adxr",
         "type": "scatter",
         "y": [
          0.30593928410794186,
          0
         ]
        },
        {
         "name": "market_apo",
         "type": "scatter",
         "y": [
          0.09361248168727782,
          0
         ]
        },
        {
         "name": "market_aroonosc",
         "type": "scatter",
         "y": [
          0.17999760810772397,
          0
         ]
        },
        {
         "name": "market_aroonup",
         "type": "scatter",
         "y": [
          0.15423659710371784,
          0
         ]
        },
        {
         "name": "market_atr",
         "type": "scatter",
         "y": [
          0.39242580731902865,
          0
         ]
        },
        {
         "name": "market_cci",
         "type": "scatter",
         "y": [
          0.1872031349182583,
          0
         ]
        },
        {
         "name": "market_cmo",
         "type": "scatter",
         "y": [
          0.11916055039751638,
          0
         ]
        },
        {
         "name": "market_correl",
         "type": "scatter",
         "y": [
          0.15543402260798023,
          0
         ]
        },
        {
         "name": "market_dx",
         "type": "scatter",
         "y": [
          0.08450506862505275,
          0
         ]
        },
        {
         "name": "market_fastd",
         "type": "scatter",
         "y": [
          0.10050389792459113,
          0
         ]
        },
        {
         "name": "market_fastk",
         "type": "scatter",
         "y": [
          0.09250019109319696,
          0
         ]
        },
        {
         "name": "market_linearreg_slope",
         "type": "scatter",
         "y": [
          0.10674514230854681,
          0
         ]
        },
        {
         "name": "market_macd",
         "type": "scatter",
         "y": [
          0.07525934093289355,
          2.230904277646093e-291
         ]
        },
        {
         "name": "market_macd_macdext",
         "type": "scatter",
         "y": [
          0.09361248168727782,
          0
         ]
        },
        {
         "name": "market_macd_macdfix",
         "type": "scatter",
         "y": [
          0.07525934093289355,
          2.230904277646093e-291
         ]
        },
        {
         "name": "market_macdsignal",
         "type": "scatter",
         "y": [
          0.09494475376445827,
          0
         ]
        },
        {
         "name": "market_macdsignal_macdext",
         "type": "scatter",
         "y": [
          0.08395078119977308,
          0
         ]
        },
        {
         "name": "market_macdsignal_macdfix",
         "type": "scatter",
         "y": [
          0.09494475376445827,
          0
         ]
        },
        {
         "name": "market_max_drawdown_365d",
         "type": "scatter",
         "y": [
          0.4914762867533622,
          0
         ]
        },
        {
         "name": "market_natr",
         "type": "scatter",
         "y": [
          0.30078431775631675,
          0
         ]
        },
        {
         "name": "market_plus_di",
         "type": "scatter",
         "y": [
          0.09022384068603373,
          0
         ]
        },
        {
         "name": "market_plus_dm",
         "type": "scatter",
         "y": [
          0.9968168857955299,
          0
         ]
        },
        {
         "name": "market_ppo",
         "type": "scatter",
         "y": [
          0.07553472386076698,
          1.6318769931149732e-293
         ]
        },
        {
         "name": "market_rocp",
         "type": "scatter",
         "y": [
          0.21129237374869925,
          0
         ]
        },
        {
         "name": "market_rocr",
         "type": "scatter",
         "y": [
          0.21129237374869925,
          0
         ]
        },
        {
         "name": "max_eth_ever",
         "type": "scatter",
         "y": [
          0.04068978070460599,
          2.0990408436942283e-85
         ]
        },
        {
         "name": "max_risk_factor",
         "type": "scatter",
         "y": [
          0.754385600654994,
          0
         ]
        },
        {
         "name": "min_eth_ever",
         "type": "scatter",
         "y": [
          0.13441865179705298,
          0
         ]
        },
        {
         "name": "net_incoming_tx_count",
         "type": "scatter",
         "y": [
          0.9982673574024601,
          0
         ]
        },
        {
         "name": "outgoing_tx_avg_eth",
         "type": "scatter",
         "y": [
          0.08736921414796084,
          0
         ]
        },
        {
         "name": "outgoing_tx_count",
         "type": "scatter",
         "y": [
          0.06285955569574686,
          2.5114323163825177e-203
         ]
        },
        {
         "name": "outgoing_tx_sum_eth",
         "type": "scatter",
         "y": [
          0.03884502256822597,
          7.157785222873891e-78
         ]
        },
        {
         "name": "repay_amount_avg_eth",
         "type": "scatter",
         "y": [
          0.2050535749504595,
          0
         ]
        },
        {
         "name": "repay_amount_sum_eth",
         "type": "scatter",
         "y": [
          0.16569476068133338,
          0
         ]
        },
        {
         "name": "repay_count",
         "type": "scatter",
         "y": [
          0.0674600791172672,
          3.834453288686955e-234
         ]
        },
        {
         "name": "risk_factor",
         "type": "scatter",
         "y": [
          0.5633571310655323,
          0
         ]
        },
        {
         "name": "risk_factor_above_threshold_daily_count",
         "type": "scatter",
         "y": [
          0.05348950696046073,
          2.60053952927156e-147
         ]
        },
        {
         "name": "risky_sum_outgoing_amount_eth",
         "type": "scatter",
         "y": [
          0.11066695953761238,
          0
         ]
        },
        {
         "name": "risky_tx_count",
         "type": "scatter",
         "y": [
          0.10496099945610696,
          0
         ]
        },
        {
         "name": "risky_unique_contract_count",
         "type": "scatter",
         "y": [
          0.17204925010046238,
          0
         ]
        },
        {
         "name": "time_since_first_deposit",
         "type": "scatter",
         "y": [
          0.06486825961971932,
          1.6344972899773326e-216
         ]
        },
        {
         "name": "time_since_last_liquidated",
         "type": "scatter",
         "y": [
          0.9025092275913447,
          0
         ]
        },
        {
         "name": "total_available_borrows_avg_eth",
         "type": "scatter",
         "y": [
          0.6267030116977893,
          0
         ]
        },
        {
         "name": "total_available_borrows_eth",
         "type": "scatter",
         "y": [
          0.8261826547500796,
          0
         ]
        },
        {
         "name": "total_balance_eth",
         "type": "scatter",
         "y": [
          0.09540601655973668,
          0
         ]
        },
        {
         "name": "total_collateral_avg_eth",
         "type": "scatter",
         "y": [
          0.08346932787714414,
          0
         ]
        },
        {
         "name": "total_collateral_eth",
         "type": "scatter",
         "y": [
          0.1781030648563079,
          0
         ]
        },
        {
         "name": "total_gas_paid_eth",
         "type": "scatter",
         "y": [
          0.17717082769956105,
          0
         ]
        },
        {
         "name": "ts_diff_risky_tx",
         "type": "scatter",
         "y": [
          0.11564983696183567,
          0
         ]
        },
        {
         "name": "ts_diff_tx",
         "type": "scatter",
         "y": [
          0.08851900994491091,
          0
         ]
        },
        {
         "name": "unique_borrow_protocol_count",
         "type": "scatter",
         "y": [
          0.6336878756325122,
          0
         ]
        },
        {
         "name": "unique_lending_protocol_count",
         "type": "scatter",
         "y": [
          0.08752746219034402,
          0
         ]
        },
        {
         "name": "wallet_age",
         "type": "scatter",
         "y": [
          0.08840047112032323,
          0
         ]
        },
        {
         "name": "withdraw_amount_sum_eth",
         "type": "scatter",
         "y": [
          0.1287901482166447,
          0
         ]
        },
        {
         "name": "withdraw_deposit_diff_if_positive_eth",
         "type": "scatter",
         "y": [
          0.044602344409142014,
          1.5399084859979456e-102
         ]
        }
       ],
       "layout": {
        "height": 1000,
        "template": {
         "data": {
          "bar": [
           {
            "error_x": {
             "color": "#2a3f5f"
            },
            "error_y": {
             "color": "#2a3f5f"
            },
            "marker": {
             "line": {
              "color": "#E5ECF6",
              "width": 0.5
             },
             "pattern": {
              "fillmode": "overlay",
              "size": 10,
              "solidity": 0.2
             }
            },
            "type": "bar"
           }
          ],
          "barpolar": [
           {
            "marker": {
             "line": {
              "color": "#E5ECF6",
              "width": 0.5
             },
             "pattern": {
              "fillmode": "overlay",
              "size": 10,
              "solidity": 0.2
             }
            },
            "type": "barpolar"
           }
          ],
          "carpet": [
           {
            "aaxis": {
             "endlinecolor": "#2a3f5f",
             "gridcolor": "white",
             "linecolor": "white",
             "minorgridcolor": "white",
             "startlinecolor": "#2a3f5f"
            },
            "baxis": {
             "endlinecolor": "#2a3f5f",
             "gridcolor": "white",
             "linecolor": "white",
             "minorgridcolor": "white",
             "startlinecolor": "#2a3f5f"
            },
            "type": "carpet"
           }
          ],
          "choropleth": [
           {
            "colorbar": {
             "outlinewidth": 0,
             "ticks": ""
            },
            "type": "choropleth"
           }
          ],
          "contour": [
           {
            "colorbar": {
             "outlinewidth": 0,
             "ticks": ""
            },
            "colorscale": [
             [
              0,
              "#0d0887"
             ],
             [
              0.1111111111111111,
              "#46039f"
             ],
             [
              0.2222222222222222,
              "#7201a8"
             ],
             [
              0.3333333333333333,
              "#9c179e"
             ],
             [
              0.4444444444444444,
              "#bd3786"
             ],
             [
              0.5555555555555556,
              "#d8576b"
             ],
             [
              0.6666666666666666,
              "#ed7953"
             ],
             [
              0.7777777777777778,
              "#fb9f3a"
             ],
             [
              0.8888888888888888,
              "#fdca26"
             ],
             [
              1,
              "#f0f921"
             ]
            ],
            "type": "contour"
           }
          ],
          "contourcarpet": [
           {
            "colorbar": {
             "outlinewidth": 0,
             "ticks": ""
            },
            "type": "contourcarpet"
           }
          ],
          "heatmap": [
           {
            "colorbar": {
             "outlinewidth": 0,
             "ticks": ""
            },
            "colorscale": [
             [
              0,
              "#0d0887"
             ],
             [
              0.1111111111111111,
              "#46039f"
             ],
             [
              0.2222222222222222,
              "#7201a8"
             ],
             [
              0.3333333333333333,
              "#9c179e"
             ],
             [
              0.4444444444444444,
              "#bd3786"
             ],
             [
              0.5555555555555556,
              "#d8576b"
             ],
             [
              0.6666666666666666,
              "#ed7953"
             ],
             [
              0.7777777777777778,
              "#fb9f3a"
             ],
             [
              0.8888888888888888,
              "#fdca26"
             ],
             [
              1,
              "#f0f921"
             ]
            ],
            "type": "heatmap"
           }
          ],
          "heatmapgl": [
           {
            "colorbar": {
             "outlinewidth": 0,
             "ticks": ""
            },
            "colorscale": [
             [
              0,
              "#0d0887"
             ],
             [
              0.1111111111111111,
              "#46039f"
             ],
             [
              0.2222222222222222,
              "#7201a8"
             ],
             [
              0.3333333333333333,
              "#9c179e"
             ],
             [
              0.4444444444444444,
              "#bd3786"
             ],
             [
              0.5555555555555556,
              "#d8576b"
             ],
             [
              0.6666666666666666,
              "#ed7953"
             ],
             [
              0.7777777777777778,
              "#fb9f3a"
             ],
             [
              0.8888888888888888,
              "#fdca26"
             ],
             [
              1,
              "#f0f921"
             ]
            ],
            "type": "heatmapgl"
           }
          ],
          "histogram": [
           {
            "marker": {
             "pattern": {
              "fillmode": "overlay",
              "size": 10,
              "solidity": 0.2
             }
            },
            "type": "histogram"
           }
          ],
          "histogram2d": [
           {
            "colorbar": {
             "outlinewidth": 0,
             "ticks": ""
            },
            "colorscale": [
             [
              0,
              "#0d0887"
             ],
             [
              0.1111111111111111,
              "#46039f"
             ],
             [
              0.2222222222222222,
              "#7201a8"
             ],
             [
              0.3333333333333333,
              "#9c179e"
             ],
             [
              0.4444444444444444,
              "#bd3786"
             ],
             [
              0.5555555555555556,
              "#d8576b"
             ],
             [
              0.6666666666666666,
              "#ed7953"
             ],
             [
              0.7777777777777778,
              "#fb9f3a"
             ],
             [
              0.8888888888888888,
              "#fdca26"
             ],
             [
              1,
              "#f0f921"
             ]
            ],
            "type": "histogram2d"
           }
          ],
          "histogram2dcontour": [
           {
            "colorbar": {
             "outlinewidth": 0,
             "ticks": ""
            },
            "colorscale": [
             [
              0,
              "#0d0887"
             ],
             [
              0.1111111111111111,
              "#46039f"
             ],
             [
              0.2222222222222222,
              "#7201a8"
             ],
             [
              0.3333333333333333,
              "#9c179e"
             ],
             [
              0.4444444444444444,
              "#bd3786"
             ],
             [
              0.5555555555555556,
              "#d8576b"
             ],
             [
              0.6666666666666666,
              "#ed7953"
             ],
             [
              0.7777777777777778,
              "#fb9f3a"
             ],
             [
              0.8888888888888888,
              "#fdca26"
             ],
             [
              1,
              "#f0f921"
             ]
            ],
            "type": "histogram2dcontour"
           }
          ],
          "mesh3d": [
           {
            "colorbar": {
             "outlinewidth": 0,
             "ticks": ""
            },
            "type": "mesh3d"
           }
          ],
          "parcoords": [
           {
            "line": {
             "colorbar": {
              "outlinewidth": 0,
              "ticks": ""
             }
            },
            "type": "parcoords"
           }
          ],
          "pie": [
           {
            "automargin": true,
            "type": "pie"
           }
          ],
          "scatter": [
           {
            "fillpattern": {
             "fillmode": "overlay",
             "size": 10,
             "solidity": 0.2
            },
            "type": "scatter"
           }
          ],
          "scatter3d": [
           {
            "line": {
             "colorbar": {
              "outlinewidth": 0,
              "ticks": ""
             }
            },
            "marker": {
             "colorbar": {
              "outlinewidth": 0,
              "ticks": ""
             }
            },
            "type": "scatter3d"
           }
          ],
          "scattercarpet": [
           {
            "marker": {
             "colorbar": {
              "outlinewidth": 0,
              "ticks": ""
             }
            },
            "type": "scattercarpet"
           }
          ],
          "scattergeo": [
           {
            "marker": {
             "colorbar": {
              "outlinewidth": 0,
              "ticks": ""
             }
            },
            "type": "scattergeo"
           }
          ],
          "scattergl": [
           {
            "marker": {
             "colorbar": {
              "outlinewidth": 0,
              "ticks": ""
             }
            },
            "type": "scattergl"
           }
          ],
          "scattermapbox": [
           {
            "marker": {
             "colorbar": {
              "outlinewidth": 0,
              "ticks": ""
             }
            },
            "type": "scattermapbox"
           }
          ],
          "scatterpolar": [
           {
            "marker": {
             "colorbar": {
              "outlinewidth": 0,
              "ticks": ""
             }
            },
            "type": "scatterpolar"
           }
          ],
          "scatterpolargl": [
           {
            "marker": {
             "colorbar": {
              "outlinewidth": 0,
              "ticks": ""
             }
            },
            "type": "scatterpolargl"
           }
          ],
          "scatterternary": [
           {
            "marker": {
             "colorbar": {
              "outlinewidth": 0,
              "ticks": ""
             }
            },
            "type": "scatterternary"
           }
          ],
          "surface": [
           {
            "colorbar": {
             "outlinewidth": 0,
             "ticks": ""
            },
            "colorscale": [
             [
              0,
              "#0d0887"
             ],
             [
              0.1111111111111111,
              "#46039f"
             ],
             [
              0.2222222222222222,
              "#7201a8"
             ],
             [
              0.3333333333333333,
              "#9c179e"
             ],
             [
              0.4444444444444444,
              "#bd3786"
             ],
             [
              0.5555555555555556,
              "#d8576b"
             ],
             [
              0.6666666666666666,
              "#ed7953"
             ],
             [
              0.7777777777777778,
              "#fb9f3a"
             ],
             [
              0.8888888888888888,
              "#fdca26"
             ],
             [
              1,
              "#f0f921"
             ]
            ],
            "type": "surface"
           }
          ],
          "table": [
           {
            "cells": {
             "fill": {
              "color": "#EBF0F8"
             },
             "line": {
              "color": "white"
             }
            },
            "header": {
             "fill": {
              "color": "#C8D4E3"
             },
             "line": {
              "color": "white"
             }
            },
            "type": "table"
           }
          ]
         },
         "layout": {
          "annotationdefaults": {
           "arrowcolor": "#2a3f5f",
           "arrowhead": 0,
           "arrowwidth": 1
          },
          "autotypenumbers": "strict",
          "coloraxis": {
           "colorbar": {
            "outlinewidth": 0,
            "ticks": ""
           }
          },
          "colorscale": {
           "diverging": [
            [
             0,
             "#8e0152"
            ],
            [
             0.1,
             "#c51b7d"
            ],
            [
             0.2,
             "#de77ae"
            ],
            [
             0.3,
             "#f1b6da"
            ],
            [
             0.4,
             "#fde0ef"
            ],
            [
             0.5,
             "#f7f7f7"
            ],
            [
             0.6,
             "#e6f5d0"
            ],
            [
             0.7,
             "#b8e186"
            ],
            [
             0.8,
             "#7fbc41"
            ],
            [
             0.9,
             "#4d9221"
            ],
            [
             1,
             "#276419"
            ]
           ],
           "sequential": [
            [
             0,
             "#0d0887"
            ],
            [
             0.1111111111111111,
             "#46039f"
            ],
            [
             0.2222222222222222,
             "#7201a8"
            ],
            [
             0.3333333333333333,
             "#9c179e"
            ],
            [
             0.4444444444444444,
             "#bd3786"
            ],
            [
             0.5555555555555556,
             "#d8576b"
            ],
            [
             0.6666666666666666,
             "#ed7953"
            ],
            [
             0.7777777777777778,
             "#fb9f3a"
            ],
            [
             0.8888888888888888,
             "#fdca26"
            ],
            [
             1,
             "#f0f921"
            ]
           ],
           "sequentialminus": [
            [
             0,
             "#0d0887"
            ],
            [
             0.1111111111111111,
             "#46039f"
            ],
            [
             0.2222222222222222,
             "#7201a8"
            ],
            [
             0.3333333333333333,
             "#9c179e"
            ],
            [
             0.4444444444444444,
             "#bd3786"
            ],
            [
             0.5555555555555556,
             "#d8576b"
            ],
            [
             0.6666666666666666,
             "#ed7953"
            ],
            [
             0.7777777777777778,
             "#fb9f3a"
            ],
            [
             0.8888888888888888,
             "#fdca26"
            ],
            [
             1,
             "#f0f921"
            ]
           ]
          },
          "colorway": [
           "#636efa",
           "#EF553B",
           "#00cc96",
           "#ab63fa",
           "#FFA15A",
           "#19d3f3",
           "#FF6692",
           "#B6E880",
           "#FF97FF",
           "#FECB52"
          ],
          "font": {
           "color": "#2a3f5f"
          },
          "geo": {
           "bgcolor": "white",
           "lakecolor": "white",
           "landcolor": "#E5ECF6",
           "showlakes": true,
           "showland": true,
           "subunitcolor": "white"
          },
          "hoverlabel": {
           "align": "left"
          },
          "hovermode": "closest",
          "mapbox": {
           "style": "light"
          },
          "paper_bgcolor": "white",
          "plot_bgcolor": "#E5ECF6",
          "polar": {
           "angularaxis": {
            "gridcolor": "white",
            "linecolor": "white",
            "ticks": ""
           },
           "bgcolor": "#E5ECF6",
           "radialaxis": {
            "gridcolor": "white",
            "linecolor": "white",
            "ticks": ""
           }
          },
          "scene": {
           "xaxis": {
            "backgroundcolor": "#E5ECF6",
            "gridcolor": "white",
            "gridwidth": 2,
            "linecolor": "white",
            "showbackground": true,
            "ticks": "",
            "zerolinecolor": "white"
           },
           "yaxis": {
            "backgroundcolor": "#E5ECF6",
            "gridcolor": "white",
            "gridwidth": 2,
            "linecolor": "white",
            "showbackground": true,
            "ticks": "",
            "zerolinecolor": "white"
           },
           "zaxis": {
            "backgroundcolor": "#E5ECF6",
            "gridcolor": "white",
            "gridwidth": 2,
            "linecolor": "white",
            "showbackground": true,
            "ticks": "",
            "zerolinecolor": "white"
           }
          },
          "shapedefaults": {
           "line": {
            "color": "#2a3f5f"
           }
          },
          "ternary": {
           "aaxis": {
            "gridcolor": "white",
            "linecolor": "white",
            "ticks": ""
           },
           "baxis": {
            "gridcolor": "white",
            "linecolor": "white",
            "ticks": ""
           },
           "bgcolor": "#E5ECF6",
           "caxis": {
            "gridcolor": "white",
            "linecolor": "white",
            "ticks": ""
           }
          },
          "title": {
           "x": 0.05
          },
          "xaxis": {
           "automargin": true,
           "gridcolor": "white",
           "linecolor": "white",
           "ticks": "",
           "title": {
            "standoff": 15
           },
           "zerolinecolor": "white",
           "zerolinewidth": 2
          },
          "yaxis": {
           "automargin": true,
           "gridcolor": "white",
           "linecolor": "white",
           "ticks": "",
           "title": {
            "standoff": 15
           },
           "zerolinecolor": "white",
           "zerolinewidth": 2
          }
         }
        },
        "width": 2000
       }
      }
     },
     "metadata": {},
     "output_type": "display_data"
    }
   ],
   "source": [
    "fig = go.Figure()\n",
    "for column in X.select_dtypes(include=np.float64):\n",
    "    fig.add_trace(go.Scatter(y=kstests[column][2], name=column))\n",
    "fig.update_layout(width=2000, height=1000)\n",
    "fig"
   ]
  },
  {
   "cell_type": "code",
   "execution_count": 28,
   "metadata": {},
   "outputs": [
    {
     "data": {
      "text/html": [
       "<div>\n",
       "<style scoped>\n",
       "    .dataframe tbody tr th:only-of-type {\n",
       "        vertical-align: middle;\n",
       "    }\n",
       "\n",
       "    .dataframe tbody tr th {\n",
       "        vertical-align: top;\n",
       "    }\n",
       "\n",
       "    .dataframe thead th {\n",
       "        text-align: right;\n",
       "    }\n",
       "</style>\n",
       "<table border=\"1\" class=\"dataframe\">\n",
       "  <thead>\n",
       "    <tr style=\"text-align: right;\">\n",
       "      <th></th>\n",
       "      <th>borrow_block_number</th>\n",
       "      <th>borrow_timestamp</th>\n",
       "      <th>wallet_address</th>\n",
       "      <th>first_tx_timestamp</th>\n",
       "      <th>last_tx_timestamp</th>\n",
       "      <th>wallet_age</th>\n",
       "      <th>incoming_tx_count</th>\n",
       "      <th>outgoing_tx_count</th>\n",
       "      <th>net_incoming_tx_count</th>\n",
       "      <th>total_gas_paid_eth</th>\n",
       "      <th>...</th>\n",
       "      <th>market_natr</th>\n",
       "      <th>market_plus_di</th>\n",
       "      <th>market_plus_dm</th>\n",
       "      <th>market_ppo</th>\n",
       "      <th>market_rocp</th>\n",
       "      <th>market_rocr</th>\n",
       "      <th>unique_borrow_protocol_count</th>\n",
       "      <th>unique_lending_protocol_count</th>\n",
       "      <th>date</th>\n",
       "      <th>type</th>\n",
       "    </tr>\n",
       "  </thead>\n",
       "  <tbody>\n",
       "    <tr>\n",
       "      <th>0</th>\n",
       "      <td>7711117</td>\n",
       "      <td>1.557197e+09</td>\n",
       "      <td>0x502cb8985b2c92a8d4bf309cdaa89de9be442708</td>\n",
       "      <td>1.537224e+09</td>\n",
       "      <td>1.557197e+09</td>\n",
       "      <td>19973049.0</td>\n",
       "      <td>199</td>\n",
       "      <td>438</td>\n",
       "      <td>-239</td>\n",
       "      <td>0.397391</td>\n",
       "      <td>...</td>\n",
       "      <td>4.479356</td>\n",
       "      <td>33.216622</td>\n",
       "      <td>33.415526</td>\n",
       "      <td>-2.370346</td>\n",
       "      <td>0.104294</td>\n",
       "      <td>1.104294</td>\n",
       "      <td>0</td>\n",
       "      <td>1</td>\n",
       "      <td>2024-11-01</td>\n",
       "      <td>reference</td>\n",
       "    </tr>\n",
       "    <tr>\n",
       "      <th>1</th>\n",
       "      <td>7711123</td>\n",
       "      <td>1.557197e+09</td>\n",
       "      <td>0x502cb8985b2c92a8d4bf309cdaa89de9be442708</td>\n",
       "      <td>1.537224e+09</td>\n",
       "      <td>1.557197e+09</td>\n",
       "      <td>19973188.0</td>\n",
       "      <td>200</td>\n",
       "      <td>439</td>\n",
       "      <td>-239</td>\n",
       "      <td>0.399063</td>\n",
       "      <td>...</td>\n",
       "      <td>4.479356</td>\n",
       "      <td>33.216622</td>\n",
       "      <td>33.415526</td>\n",
       "      <td>-2.370346</td>\n",
       "      <td>0.104294</td>\n",
       "      <td>1.104294</td>\n",
       "      <td>1</td>\n",
       "      <td>1</td>\n",
       "      <td>2024-11-01</td>\n",
       "      <td>reference</td>\n",
       "    </tr>\n",
       "    <tr>\n",
       "      <th>2</th>\n",
       "      <td>7711126</td>\n",
       "      <td>1.557197e+09</td>\n",
       "      <td>0x502cb8985b2c92a8d4bf309cdaa89de9be442708</td>\n",
       "      <td>1.537224e+09</td>\n",
       "      <td>1.557197e+09</td>\n",
       "      <td>19973238.0</td>\n",
       "      <td>201</td>\n",
       "      <td>440</td>\n",
       "      <td>-239</td>\n",
       "      <td>0.400895</td>\n",
       "      <td>...</td>\n",
       "      <td>4.479356</td>\n",
       "      <td>33.216622</td>\n",
       "      <td>33.415526</td>\n",
       "      <td>-2.370346</td>\n",
       "      <td>0.104294</td>\n",
       "      <td>1.104294</td>\n",
       "      <td>1</td>\n",
       "      <td>1</td>\n",
       "      <td>2024-11-01</td>\n",
       "      <td>reference</td>\n",
       "    </tr>\n",
       "    <tr>\n",
       "      <th>3</th>\n",
       "      <td>7711672</td>\n",
       "      <td>1.557205e+09</td>\n",
       "      <td>0xa7ff0d561cd15ed525e31bbe0af3fe34ac2059f6</td>\n",
       "      <td>1.557191e+09</td>\n",
       "      <td>1.557198e+09</td>\n",
       "      <td>13922.0</td>\n",
       "      <td>8</td>\n",
       "      <td>56</td>\n",
       "      <td>-48</td>\n",
       "      <td>0.604001</td>\n",
       "      <td>...</td>\n",
       "      <td>4.479356</td>\n",
       "      <td>33.216622</td>\n",
       "      <td>33.415526</td>\n",
       "      <td>-2.370346</td>\n",
       "      <td>0.104294</td>\n",
       "      <td>1.104294</td>\n",
       "      <td>0</td>\n",
       "      <td>1</td>\n",
       "      <td>2024-11-01</td>\n",
       "      <td>reference</td>\n",
       "    </tr>\n",
       "    <tr>\n",
       "      <th>4</th>\n",
       "      <td>7712572</td>\n",
       "      <td>1.557217e+09</td>\n",
       "      <td>0xbd9ed130a53cfafcf81502e4d35329a6c4d53410</td>\n",
       "      <td>1.557217e+09</td>\n",
       "      <td>1.557217e+09</td>\n",
       "      <td>264.0</td>\n",
       "      <td>2</td>\n",
       "      <td>3</td>\n",
       "      <td>-1</td>\n",
       "      <td>0.003008</td>\n",
       "      <td>...</td>\n",
       "      <td>4.479356</td>\n",
       "      <td>33.216622</td>\n",
       "      <td>33.415526</td>\n",
       "      <td>-2.370346</td>\n",
       "      <td>0.104294</td>\n",
       "      <td>1.104294</td>\n",
       "      <td>0</td>\n",
       "      <td>1</td>\n",
       "      <td>2024-11-01</td>\n",
       "      <td>reference</td>\n",
       "    </tr>\n",
       "    <tr>\n",
       "      <th>...</th>\n",
       "      <td>...</td>\n",
       "      <td>...</td>\n",
       "      <td>...</td>\n",
       "      <td>...</td>\n",
       "      <td>...</td>\n",
       "      <td>...</td>\n",
       "      <td>...</td>\n",
       "      <td>...</td>\n",
       "      <td>...</td>\n",
       "      <td>...</td>\n",
       "      <td>...</td>\n",
       "      <td>...</td>\n",
       "      <td>...</td>\n",
       "      <td>...</td>\n",
       "      <td>...</td>\n",
       "      <td>...</td>\n",
       "      <td>...</td>\n",
       "      <td>...</td>\n",
       "      <td>...</td>\n",
       "      <td>...</td>\n",
       "      <td>...</td>\n",
       "    </tr>\n",
       "    <tr>\n",
       "      <th>88588</th>\n",
       "      <td>18250961</td>\n",
       "      <td>1.696106e+09</td>\n",
       "      <td>0x3dc6d0168838c40e26d105115908ee833b24e56a</td>\n",
       "      <td>1.677567e+09</td>\n",
       "      <td>1.696106e+09</td>\n",
       "      <td>18539076.0</td>\n",
       "      <td>68</td>\n",
       "      <td>91</td>\n",
       "      <td>-23</td>\n",
       "      <td>0.352223</td>\n",
       "      <td>...</td>\n",
       "      <td>3.327281</td>\n",
       "      <td>21.642831</td>\n",
       "      <td>116.954834</td>\n",
       "      <td>-0.430690</td>\n",
       "      <td>0.018477</td>\n",
       "      <td>1.018477</td>\n",
       "      <td>0</td>\n",
       "      <td>1</td>\n",
       "      <td>2025-02-01</td>\n",
       "      <td>analyze</td>\n",
       "    </tr>\n",
       "    <tr>\n",
       "      <th>88589</th>\n",
       "      <td>18251701</td>\n",
       "      <td>1.696115e+09</td>\n",
       "      <td>0x3af16178664dd4b2500c9d02c53347e86b3e7873</td>\n",
       "      <td>1.624471e+09</td>\n",
       "      <td>1.695934e+09</td>\n",
       "      <td>71643811.0</td>\n",
       "      <td>154</td>\n",
       "      <td>168</td>\n",
       "      <td>-14</td>\n",
       "      <td>1.382943</td>\n",
       "      <td>...</td>\n",
       "      <td>3.327281</td>\n",
       "      <td>21.642831</td>\n",
       "      <td>116.954834</td>\n",
       "      <td>-0.430690</td>\n",
       "      <td>0.018477</td>\n",
       "      <td>1.018477</td>\n",
       "      <td>1</td>\n",
       "      <td>1</td>\n",
       "      <td>2025-02-01</td>\n",
       "      <td>analyze</td>\n",
       "    </tr>\n",
       "    <tr>\n",
       "      <th>88590</th>\n",
       "      <td>18251742</td>\n",
       "      <td>1.696116e+09</td>\n",
       "      <td>0xba01430a43496df98956e42aab08eb85ca107bb1</td>\n",
       "      <td>1.613776e+09</td>\n",
       "      <td>1.696116e+09</td>\n",
       "      <td>82339560.0</td>\n",
       "      <td>163</td>\n",
       "      <td>310</td>\n",
       "      <td>-147</td>\n",
       "      <td>1.218006</td>\n",
       "      <td>...</td>\n",
       "      <td>3.327281</td>\n",
       "      <td>21.642831</td>\n",
       "      <td>116.954834</td>\n",
       "      <td>-0.430690</td>\n",
       "      <td>0.018477</td>\n",
       "      <td>1.018477</td>\n",
       "      <td>1</td>\n",
       "      <td>1</td>\n",
       "      <td>2025-02-01</td>\n",
       "      <td>analyze</td>\n",
       "    </tr>\n",
       "    <tr>\n",
       "      <th>88591</th>\n",
       "      <td>18251864</td>\n",
       "      <td>1.696117e+09</td>\n",
       "      <td>0x1f2b17bff4a0313ec6342eef464742ad1c2de83c</td>\n",
       "      <td>1.671973e+09</td>\n",
       "      <td>1.695933e+09</td>\n",
       "      <td>24144360.0</td>\n",
       "      <td>117</td>\n",
       "      <td>221</td>\n",
       "      <td>-104</td>\n",
       "      <td>0.738964</td>\n",
       "      <td>...</td>\n",
       "      <td>3.327281</td>\n",
       "      <td>21.642831</td>\n",
       "      <td>116.954834</td>\n",
       "      <td>-0.430690</td>\n",
       "      <td>0.018477</td>\n",
       "      <td>1.018477</td>\n",
       "      <td>1</td>\n",
       "      <td>1</td>\n",
       "      <td>2025-02-01</td>\n",
       "      <td>analyze</td>\n",
       "    </tr>\n",
       "    <tr>\n",
       "      <th>88592</th>\n",
       "      <td>18251921</td>\n",
       "      <td>1.696118e+09</td>\n",
       "      <td>0x654fae4aa229d104cabead47e56703f58b174be4</td>\n",
       "      <td>1.625306e+09</td>\n",
       "      <td>1.696101e+09</td>\n",
       "      <td>70812157.0</td>\n",
       "      <td>131</td>\n",
       "      <td>19696</td>\n",
       "      <td>-19565</td>\n",
       "      <td>419.429932</td>\n",
       "      <td>...</td>\n",
       "      <td>3.327281</td>\n",
       "      <td>21.642831</td>\n",
       "      <td>116.954834</td>\n",
       "      <td>-0.430690</td>\n",
       "      <td>0.018477</td>\n",
       "      <td>1.018477</td>\n",
       "      <td>1</td>\n",
       "      <td>1</td>\n",
       "      <td>2025-02-01</td>\n",
       "      <td>analyze</td>\n",
       "    </tr>\n",
       "  </tbody>\n",
       "</table>\n",
       "<p>442961 rows × 79 columns</p>\n",
       "</div>"
      ],
      "text/plain": [
       "       borrow_block_number  borrow_timestamp  \\\n",
       "0                  7711117      1.557197e+09   \n",
       "1                  7711123      1.557197e+09   \n",
       "2                  7711126      1.557197e+09   \n",
       "3                  7711672      1.557205e+09   \n",
       "4                  7712572      1.557217e+09   \n",
       "...                    ...               ...   \n",
       "88588             18250961      1.696106e+09   \n",
       "88589             18251701      1.696115e+09   \n",
       "88590             18251742      1.696116e+09   \n",
       "88591             18251864      1.696117e+09   \n",
       "88592             18251921      1.696118e+09   \n",
       "\n",
       "                                   wallet_address  first_tx_timestamp  \\\n",
       "0      0x502cb8985b2c92a8d4bf309cdaa89de9be442708        1.537224e+09   \n",
       "1      0x502cb8985b2c92a8d4bf309cdaa89de9be442708        1.537224e+09   \n",
       "2      0x502cb8985b2c92a8d4bf309cdaa89de9be442708        1.537224e+09   \n",
       "3      0xa7ff0d561cd15ed525e31bbe0af3fe34ac2059f6        1.557191e+09   \n",
       "4      0xbd9ed130a53cfafcf81502e4d35329a6c4d53410        1.557217e+09   \n",
       "...                                           ...                 ...   \n",
       "88588  0x3dc6d0168838c40e26d105115908ee833b24e56a        1.677567e+09   \n",
       "88589  0x3af16178664dd4b2500c9d02c53347e86b3e7873        1.624471e+09   \n",
       "88590  0xba01430a43496df98956e42aab08eb85ca107bb1        1.613776e+09   \n",
       "88591  0x1f2b17bff4a0313ec6342eef464742ad1c2de83c        1.671973e+09   \n",
       "88592  0x654fae4aa229d104cabead47e56703f58b174be4        1.625306e+09   \n",
       "\n",
       "       last_tx_timestamp  wallet_age  incoming_tx_count  outgoing_tx_count  \\\n",
       "0           1.557197e+09  19973049.0                199                438   \n",
       "1           1.557197e+09  19973188.0                200                439   \n",
       "2           1.557197e+09  19973238.0                201                440   \n",
       "3           1.557198e+09     13922.0                  8                 56   \n",
       "4           1.557217e+09       264.0                  2                  3   \n",
       "...                  ...         ...                ...                ...   \n",
       "88588       1.696106e+09  18539076.0                 68                 91   \n",
       "88589       1.695934e+09  71643811.0                154                168   \n",
       "88590       1.696116e+09  82339560.0                163                310   \n",
       "88591       1.695933e+09  24144360.0                117                221   \n",
       "88592       1.696101e+09  70812157.0                131              19696   \n",
       "\n",
       "       net_incoming_tx_count  total_gas_paid_eth  ...  market_natr  \\\n",
       "0                       -239            0.397391  ...     4.479356   \n",
       "1                       -239            0.399063  ...     4.479356   \n",
       "2                       -239            0.400895  ...     4.479356   \n",
       "3                        -48            0.604001  ...     4.479356   \n",
       "4                         -1            0.003008  ...     4.479356   \n",
       "...                      ...                 ...  ...          ...   \n",
       "88588                    -23            0.352223  ...     3.327281   \n",
       "88589                    -14            1.382943  ...     3.327281   \n",
       "88590                   -147            1.218006  ...     3.327281   \n",
       "88591                   -104            0.738964  ...     3.327281   \n",
       "88592                 -19565          419.429932  ...     3.327281   \n",
       "\n",
       "       market_plus_di  market_plus_dm  market_ppo  market_rocp  market_rocr  \\\n",
       "0           33.216622       33.415526   -2.370346     0.104294     1.104294   \n",
       "1           33.216622       33.415526   -2.370346     0.104294     1.104294   \n",
       "2           33.216622       33.415526   -2.370346     0.104294     1.104294   \n",
       "3           33.216622       33.415526   -2.370346     0.104294     1.104294   \n",
       "4           33.216622       33.415526   -2.370346     0.104294     1.104294   \n",
       "...               ...             ...         ...          ...          ...   \n",
       "88588       21.642831      116.954834   -0.430690     0.018477     1.018477   \n",
       "88589       21.642831      116.954834   -0.430690     0.018477     1.018477   \n",
       "88590       21.642831      116.954834   -0.430690     0.018477     1.018477   \n",
       "88591       21.642831      116.954834   -0.430690     0.018477     1.018477   \n",
       "88592       21.642831      116.954834   -0.430690     0.018477     1.018477   \n",
       "\n",
       "       unique_borrow_protocol_count  unique_lending_protocol_count       date  \\\n",
       "0                                 0                              1 2024-11-01   \n",
       "1                                 1                              1 2024-11-01   \n",
       "2                                 1                              1 2024-11-01   \n",
       "3                                 0                              1 2024-11-01   \n",
       "4                                 0                              1 2024-11-01   \n",
       "...                             ...                            ...        ...   \n",
       "88588                             0                              1 2025-02-01   \n",
       "88589                             1                              1 2025-02-01   \n",
       "88590                             1                              1 2025-02-01   \n",
       "88591                             1                              1 2025-02-01   \n",
       "88592                             1                              1 2025-02-01   \n",
       "\n",
       "            type  \n",
       "0      reference  \n",
       "1      reference  \n",
       "2      reference  \n",
       "3      reference  \n",
       "4      reference  \n",
       "...          ...  \n",
       "88588    analyze  \n",
       "88589    analyze  \n",
       "88590    analyze  \n",
       "88591    analyze  \n",
       "88592    analyze  \n",
       "\n",
       "[442961 rows x 79 columns]"
      ]
     },
     "execution_count": 28,
     "metadata": {},
     "output_type": "execute_result"
    }
   ],
   "source": [
    "total = pd.DataFrame()\n",
    "for i, X in enumerate(datasets):\n",
    "    X['date'] = pd.Timestamp(2024, 11, 1) + pd.DateOffset(months=i)\n",
    "    X['type'] = 'reference'\n",
    "    total = pd.concat([total, X], axis=0)\n",
    "\n",
    "total.reset_index(drop=True)\n",
    "total.loc[total['date'] > pd.Timestamp(2024, 11, 1), 'type'] = 'analyze'\n",
    "total"
   ]
  },
  {
   "cell_type": "code",
   "execution_count": null,
   "metadata": {},
   "outputs": [
    {
     "name": "stderr",
     "output_type": "stream",
     "text": [
      "d:\\FCFM\\Primavera2024\\Lab\\Labs_MDS\\.venv\\lib\\site-packages\\numpy\\core\\_methods.py:269: RuntimeWarning:\n",
      "\n",
      "Degrees of freedom <= 0 for slice\n",
      "\n",
      "d:\\FCFM\\Primavera2024\\Lab\\Labs_MDS\\.venv\\lib\\site-packages\\numpy\\core\\_methods.py:261: RuntimeWarning:\n",
      "\n",
      "invalid value encountered in scalar divide\n",
      "\n"
     ]
    },
    {
     "data": {
      "application/vnd.plotly.v1+json": {
       "config": {
        "plotlyServerURL": "https://plot.ly"
       },
       "data": [
        {
         "hoverinfo": "skip",
         "legendgroup": "metric_reference",
         "line": {
          "color": "#00c8e5",
          "shape": "hv",
          "width": 2
         },
         "mode": "lines",
         "name": "Metric",
         "showlegend": true,
         "type": "scatter",
         "x": [
          0,
          1,
          2,
          3,
          4,
          5,
          6,
          7,
          8,
          9,
          10,
          11
         ],
         "y": [
          3.037703298415796,
          3.233886130683456,
          3.2563941118416033,
          3.57570223000962,
          3.053096373596312,
          3.450528571983669,
          4.450351214129264,
          3.5896385801835122,
          3.4225028336360253,
          3.8819548310453995,
          3.3179411928623455,
          3.3179411928623455
         ]
        },
        {
         "customdata": [
          [
           "Reconstruction Error",
           "<b style=\"color:#00c8e5;line-height:60px\">Reference</b>",
           "",
           "[0:4428]",
           "Chunk index: <b>0</b>",
           3.0377,
           0.0491
          ],
          [
           "Reconstruction Error",
           "<b style=\"color:#00c8e5;line-height:60px\">Reference</b>",
           "",
           "[4429:8857]",
           "Chunk index: <b>1</b>",
           3.2339,
           0.0549
          ],
          [
           "Reconstruction Error",
           "<b style=\"color:#00c8e5;line-height:60px\">Reference</b>",
           "",
           "[8858:13286]",
           "Chunk index: <b>2</b>",
           3.2564,
           0.0436
          ],
          [
           "Reconstruction Error",
           "<b style=\"color:#00c8e5;line-height:60px\">Reference</b>",
           "",
           "[13287:17715]",
           "Chunk index: <b>3</b>",
           3.5757,
           0.0765
          ],
          [
           "Reconstruction Error",
           "<b style=\"color:#00c8e5;line-height:60px\">Reference</b>",
           "",
           "[17716:22144]",
           "Chunk index: <b>4</b>",
           3.0531,
           0.0932
          ],
          [
           "Reconstruction Error",
           "<b style=\"color:#00c8e5;line-height:60px\">Reference</b>",
           "",
           "[22145:26573]",
           "Chunk index: <b>5</b>",
           3.4505,
           0.1483
          ],
          [
           "Reconstruction Error",
           "<b style=\"color:#00c8e5;line-height:60px\">Reference</b>",
           "",
           "[26574:31002]",
           "Chunk index: <b>6</b>",
           4.4504,
           0.1239
          ],
          [
           "Reconstruction Error",
           "<b style=\"color:#00c8e5;line-height:60px\">Reference</b>",
           "",
           "[31003:35431]",
           "Chunk index: <b>7</b>",
           3.5896,
           0.1015
          ],
          [
           "Reconstruction Error",
           "<b style=\"color:#00c8e5;line-height:60px\">Reference</b>",
           "",
           "[35432:39860]",
           "Chunk index: <b>8</b>",
           3.4225,
           0.1564
          ],
          [
           "Reconstruction Error",
           "<b style=\"color:#00c8e5;line-height:60px\">Reference</b>",
           "",
           "[39861:44289]",
           "Chunk index: <b>9</b>",
           3.882,
           0.2252
          ],
          [
           "Reconstruction Error",
           "<b style=\"color:#00c8e5;line-height:60px\">Reference</b>",
           "",
           "[44290:44295]",
           "Chunk index: <b>10</b>",
           3.3179,
           1.5276
          ]
         ],
         "hovertemplate": "%{customdata[1]} &nbsp; &nbsp; %{customdata[2]} <br />Chunk: <b>%{customdata[3]}</b> &nbsp; &nbsp; %{customdata[4]} <br />%{customdata[0]}: <b>%{customdata[5]}</b><br />Confidence band: +/- <b>%{customdata[6]}</b><br /><extra></extra>",
         "legendgroup": "metric_reference",
         "marker": {
          "color": "#00c8e5",
          "size": 5,
          "symbol": "circle"
         },
         "mode": "markers",
         "name": "Metric",
         "showlegend": false,
         "type": "scatter",
         "x": [
          0.5,
          1.5,
          2.5,
          3.5,
          4.5,
          5.5,
          6.5,
          7.5,
          8.5,
          9.5,
          10.5
         ],
         "y": [
          3.037703298415796,
          3.233886130683456,
          3.2563941118416033,
          3.57570223000962,
          3.053096373596312,
          3.450528571983669,
          4.450351214129264,
          3.5896385801835122,
          3.4225028336360253,
          3.8819548310453995,
          3.3179411928623455,
          3.3179411928623455
         ]
        },
        {
         "hoverinfo": "skip",
         "legendgroup": "metric_analysis",
         "line": {
          "color": "#00c8e5",
          "shape": "hv",
          "width": 2
         },
         "mode": "lines",
         "name": "Metric",
         "showlegend": false,
         "type": "scatter",
         "x": [
          11,
          12,
          13,
          14,
          15,
          16,
          17,
          18,
          19,
          20,
          21,
          22
         ],
         "y": [
          3.495151810695229,
          88.88173096360569,
          224.54538034810273,
          866.2998470207144,
          400.9640814252121,
          268.9969556702218,
          540.4670933340885,
          144.98493379259747,
          77326.64688051159,
          145631.7370910702,
          155.37120321246513,
          155.37120321246513
         ]
        },
        {
         "customdata": [
          [
           "Reconstruction Error",
           "<b style=\"color:#3b0280;line-height:60px\">Analysis</b>",
           "",
           "[0:44295]",
           "Chunk index: <b>0</b>",
           3.4952,
           0.0385
          ],
          [
           "Reconstruction Error",
           "<b style=\"color:#3b0280;line-height:60px\">Analysis</b>",
           "<span style=\"color:#AD0000\">⚠ <b>Drift detected</b></span>",
           "[44296:88591]",
           "Chunk index: <b>1</b>",
           88.8817,
           147.1504
          ],
          [
           "Reconstruction Error",
           "<b style=\"color:#3b0280;line-height:60px\">Analysis</b>",
           "<span style=\"color:#AD0000\">⚠ <b>Drift detected</b></span>",
           "[88592:132887]",
           "Chunk index: <b>2</b>",
           224.5454,
           247.5778
          ],
          [
           "Reconstruction Error",
           "<b style=\"color:#3b0280;line-height:60px\">Analysis</b>",
           "<span style=\"color:#AD0000\">⚠ <b>Drift detected</b></span>",
           "[132888:177183]",
           "Chunk index: <b>3</b>",
           866.2998,
           587.9962
          ],
          [
           "Reconstruction Error",
           "<b style=\"color:#3b0280;line-height:60px\">Analysis</b>",
           "<span style=\"color:#AD0000\">⚠ <b>Drift detected</b></span>",
           "[177184:221479]",
           "Chunk index: <b>4</b>",
           400.9641,
           350.0391
          ],
          [
           "Reconstruction Error",
           "<b style=\"color:#3b0280;line-height:60px\">Analysis</b>",
           "<span style=\"color:#AD0000\">⚠ <b>Drift detected</b></span>",
           "[221480:265775]",
           "Chunk index: <b>5</b>",
           268.997,
           260.8649
          ],
          [
           "Reconstruction Error",
           "<b style=\"color:#3b0280;line-height:60px\">Analysis</b>",
           "<span style=\"color:#AD0000\">⚠ <b>Drift detected</b></span>",
           "[265776:310071]",
           "Chunk index: <b>6</b>",
           540.4671,
           252.3739
          ],
          [
           "Reconstruction Error",
           "<b style=\"color:#3b0280;line-height:60px\">Analysis</b>",
           "<span style=\"color:#AD0000\">⚠ <b>Drift detected</b></span>",
           "[310072:354367]",
           "Chunk index: <b>7</b>",
           144.9849,
           146.1458
          ],
          [
           "Reconstruction Error",
           "<b style=\"color:#3b0280;line-height:60px\">Analysis</b>",
           "<span style=\"color:#AD0000\">⚠ <b>Drift detected</b></span>",
           "[354368:398663]",
           "Chunk index: <b>8</b>",
           77326.6469,
           24960.2538
          ],
          [
           "Reconstruction Error",
           "<b style=\"color:#3b0280;line-height:60px\">Analysis</b>",
           "<span style=\"color:#AD0000\">⚠ <b>Drift detected</b></span>",
           "[398664:442959]",
           "Chunk index: <b>9</b>",
           145631.7371,
           113397.4423
          ],
          [
           "Reconstruction Error",
           "<b style=\"color:#3b0280;line-height:60px\">Analysis</b>",
           "<span style=\"color:#AD0000\">⚠ <b>Drift detected</b></span>",
           "[442960:442960]",
           "Chunk index: <b>10</b>",
           155.3712,
           null
          ]
         ],
         "hovertemplate": "%{customdata[1]} &nbsp; &nbsp; %{customdata[2]} <br />Chunk: <b>%{customdata[3]}</b> &nbsp; &nbsp; %{customdata[4]} <br />%{customdata[0]}: <b>%{customdata[5]}</b><br />Confidence band: +/- <b>%{customdata[6]}</b><br /><extra></extra>",
         "legendgroup": "metric_analysis",
         "marker": {
          "color": "#00c8e5",
          "size": 5,
          "symbol": "circle"
         },
         "mode": "markers",
         "name": "Metric",
         "showlegend": false,
         "type": "scatter",
         "x": [
          11.5,
          12.5,
          13.5,
          14.5,
          15.5,
          16.5,
          17.5,
          18.5,
          19.5,
          20.5,
          21.5
         ],
         "y": [
          3.495151810695229,
          88.88173096360569,
          224.54538034810273,
          866.2998470207144,
          400.9640814252121,
          268.9969556702218,
          540.4670933340885,
          144.98493379259747,
          77326.64688051159,
          145631.7370910702,
          155.37120321246513,
          155.37120321246513
         ]
        },
        {
         "hoverinfo": "skip",
         "legendgroup": "alert",
         "marker": {
          "color": "#DD4040",
          "size": 8,
          "symbol": "diamond"
         },
         "mode": "markers",
         "name": "Alert",
         "showlegend": true,
         "type": "scatter",
         "x": [
          12.5,
          13.5,
          14.5,
          15.5,
          16.5,
          17.5,
          18.5,
          19.5,
          20.5,
          21.5
         ],
         "y": [
          88.88173096360569,
          224.54538034810273,
          866.2998470207144,
          400.9640814252121,
          268.9969556702218,
          540.4670933340885,
          144.98493379259747,
          77326.64688051159,
          145631.7370910702,
          155.37120321246513
         ]
        },
        {
         "hoverinfo": "skip",
         "legendgroup": "thresh",
         "line": {
          "color": "#DD4040",
          "dash": "dash",
          "width": 2
         },
         "mode": "lines",
         "name": "Threshold",
         "showlegend": false,
         "type": "scatter",
         "x": [
          0,
          1,
          2,
          3,
          4,
          5,
          6,
          7,
          8,
          9,
          10,
          11
         ],
         "y": [
          4.638562364854275,
          4.638562364854275,
          4.638562364854275,
          4.638562364854275,
          4.638562364854275,
          4.638562364854275,
          4.638562364854275,
          4.638562364854275,
          4.638562364854275,
          4.638562364854275,
          4.638562364854275,
          4.638562364854275
         ]
        },
        {
         "hoverinfo": "skip",
         "legendgroup": "thresh",
         "line": {
          "color": "#DD4040",
          "dash": "dash",
          "width": 2
         },
         "mode": "lines",
         "name": "Threshold",
         "showlegend": false,
         "type": "scatter",
         "x": [
          0,
          1,
          2,
          3,
          4,
          5,
          6,
          7,
          8,
          9,
          10,
          11
         ],
         "y": [
          2.319564793034269,
          2.319564793034269,
          2.319564793034269,
          2.319564793034269,
          2.319564793034269,
          2.319564793034269,
          2.319564793034269,
          2.319564793034269,
          2.319564793034269,
          2.319564793034269,
          2.319564793034269,
          2.319564793034269
         ]
        },
        {
         "hoverinfo": "skip",
         "legendgroup": "thresh",
         "line": {
          "color": "#DD4040",
          "dash": "dash",
          "width": 2
         },
         "mode": "lines",
         "name": "Threshold",
         "showlegend": false,
         "type": "scatter",
         "x": [
          11,
          12,
          13,
          14,
          15,
          16,
          17,
          18,
          19,
          20,
          21,
          22
         ],
         "y": [
          4.638562364854275,
          4.638562364854275,
          4.638562364854275,
          4.638562364854275,
          4.638562364854275,
          4.638562364854275,
          4.638562364854275,
          4.638562364854275,
          4.638562364854275,
          4.638562364854275,
          4.638562364854275,
          4.638562364854275
         ]
        },
        {
         "hoverinfo": "skip",
         "legendgroup": "thresh",
         "line": {
          "color": "#DD4040",
          "dash": "dash",
          "width": 2
         },
         "mode": "lines",
         "name": "Threshold",
         "showlegend": false,
         "type": "scatter",
         "x": [
          11,
          12,
          13,
          14,
          15,
          16,
          17,
          18,
          19,
          20,
          21,
          22
         ],
         "y": [
          2.319564793034269,
          2.319564793034269,
          2.319564793034269,
          2.319564793034269,
          2.319564793034269,
          2.319564793034269,
          2.319564793034269,
          2.319564793034269,
          2.319564793034269,
          2.319564793034269,
          2.319564793034269,
          2.319564793034269
         ]
        },
        {
         "connectgaps": true,
         "hoverinfo": "skip",
         "line": {
          "color": "rgba(0,0,0,0)",
          "shape": "hv"
         },
         "mode": "lines",
         "name": "Confidence band",
         "showlegend": false,
         "type": "scatter",
         "x": [
          0,
          1,
          2,
          3,
          4,
          5,
          6,
          7,
          8,
          9,
          10,
          11
         ],
         "y": [
          3.086819525601876,
          3.2888147084668957,
          3.2999711694885234,
          3.652181339741926,
          3.1462803961993604,
          3.598861539237892,
          4.574231233997927,
          3.6911360121744954,
          3.5789352127782967,
          4.10710653857089,
          4.845570806694447,
          4.845570806694447
         ]
        },
        {
         "connectgaps": true,
         "fill": "tonexty",
         "fillcolor": "rgba(0.0, 0.7843137254901961, 0.8980392156862745, 0.2)",
         "hoverinfo": "skip",
         "line": {
          "color": "rgba(0,0,0,0)",
          "shape": "hv"
         },
         "mode": "lines",
         "name": "Confidence band",
         "showlegend": true,
         "type": "scatter",
         "x": [
          0,
          1,
          2,
          3,
          4,
          5,
          6,
          7,
          8,
          9,
          10,
          11
         ],
         "y": [
          2.9885870712297162,
          3.1789575529000165,
          3.212817054194683,
          3.499223120277314,
          2.959912350993264,
          3.3021956047294463,
          4.326471194260601,
          3.488141148192529,
          3.2660704544937538,
          3.6568031235199085,
          1.7903115790302446,
          1.7903115790302446
         ]
        },
        {
         "connectgaps": true,
         "hoverinfo": "skip",
         "line": {
          "color": "rgba(0,0,0,0)",
          "shape": "hv"
         },
         "mode": "lines",
         "name": "Confidence band",
         "showlegend": false,
         "type": "scatter",
         "x": [
          11,
          12,
          13,
          14,
          15,
          16,
          17,
          18,
          19,
          20,
          21,
          22
         ],
         "y": [
          3.533608433129999,
          236.03215763170982,
          472.1231433535986,
          1454.2960017458083,
          751.0031318663564,
          529.8618986173808,
          792.8409835813222,
          291.130694089555,
          102286.90066042752,
          259029.17939384317,
          null,
          null
         ]
        },
        {
         "connectgaps": true,
         "fill": "tonexty",
         "fillcolor": "rgba(0.0, 0.7843137254901961, 0.8980392156862745, 0.2)",
         "hoverinfo": "skip",
         "line": {
          "color": "rgba(0,0,0,0)",
          "shape": "hv"
         },
         "mode": "lines",
         "name": "Confidence band",
         "showlegend": false,
         "type": "scatter",
         "x": [
          11,
          12,
          13,
          14,
          15,
          16,
          17,
          18,
          19,
          20,
          21,
          22
         ],
         "y": [
          3.456695188260459,
          0,
          0,
          278.3036922956205,
          50.9250309840678,
          8.132012723062758,
          288.09320308685477,
          0,
          52366.39310059565,
          32234.294788297208,
          null,
          null
         ]
        }
       ],
       "layout": {
        "annotations": [
         {
          "showarrow": false,
          "text": "Reference",
          "x": 5,
          "xshift": 10,
          "y": 1.01,
          "yref": "y domain"
         },
         {
          "showarrow": false,
          "text": "Analysis",
          "x": 16,
          "xshift": 15,
          "y": 1.01,
          "yref": "y domain"
         }
        ],
        "hoverlabel": {
         "bgcolor": "white",
         "font": {
          "size": 14
         }
        },
        "legend": {
         "itemclick": false,
         "itemdoubleclick": false,
         "traceorder": "grouped"
        },
        "paper_bgcolor": "rgba(255,255,255,1)",
        "plot_bgcolor": "rgba(255,255,255,1)",
        "shapes": [
         {
          "layer": "below",
          "line": {
           "color": "#666666",
           "width": 1
          },
          "type": "line",
          "x0": 11,
          "x1": 11,
          "xref": "x",
          "y0": 0,
          "y1": 1,
          "yref": "y domain"
         }
        ],
        "template": {
         "data": {
          "bar": [
           {
            "error_x": {
             "color": "#2a3f5f"
            },
            "error_y": {
             "color": "#2a3f5f"
            },
            "marker": {
             "line": {
              "color": "#E5ECF6",
              "width": 0.5
             },
             "pattern": {
              "fillmode": "overlay",
              "size": 10,
              "solidity": 0.2
             }
            },
            "type": "bar"
           }
          ],
          "barpolar": [
           {
            "marker": {
             "line": {
              "color": "#E5ECF6",
              "width": 0.5
             },
             "pattern": {
              "fillmode": "overlay",
              "size": 10,
              "solidity": 0.2
             }
            },
            "type": "barpolar"
           }
          ],
          "carpet": [
           {
            "aaxis": {
             "endlinecolor": "#2a3f5f",
             "gridcolor": "white",
             "linecolor": "white",
             "minorgridcolor": "white",
             "startlinecolor": "#2a3f5f"
            },
            "baxis": {
             "endlinecolor": "#2a3f5f",
             "gridcolor": "white",
             "linecolor": "white",
             "minorgridcolor": "white",
             "startlinecolor": "#2a3f5f"
            },
            "type": "carpet"
           }
          ],
          "choropleth": [
           {
            "colorbar": {
             "outlinewidth": 0,
             "ticks": ""
            },
            "type": "choropleth"
           }
          ],
          "contour": [
           {
            "colorbar": {
             "outlinewidth": 0,
             "ticks": ""
            },
            "colorscale": [
             [
              0,
              "#0d0887"
             ],
             [
              0.1111111111111111,
              "#46039f"
             ],
             [
              0.2222222222222222,
              "#7201a8"
             ],
             [
              0.3333333333333333,
              "#9c179e"
             ],
             [
              0.4444444444444444,
              "#bd3786"
             ],
             [
              0.5555555555555556,
              "#d8576b"
             ],
             [
              0.6666666666666666,
              "#ed7953"
             ],
             [
              0.7777777777777778,
              "#fb9f3a"
             ],
             [
              0.8888888888888888,
              "#fdca26"
             ],
             [
              1,
              "#f0f921"
             ]
            ],
            "type": "contour"
           }
          ],
          "contourcarpet": [
           {
            "colorbar": {
             "outlinewidth": 0,
             "ticks": ""
            },
            "type": "contourcarpet"
           }
          ],
          "heatmap": [
           {
            "colorbar": {
             "outlinewidth": 0,
             "ticks": ""
            },
            "colorscale": [
             [
              0,
              "#0d0887"
             ],
             [
              0.1111111111111111,
              "#46039f"
             ],
             [
              0.2222222222222222,
              "#7201a8"
             ],
             [
              0.3333333333333333,
              "#9c179e"
             ],
             [
              0.4444444444444444,
              "#bd3786"
             ],
             [
              0.5555555555555556,
              "#d8576b"
             ],
             [
              0.6666666666666666,
              "#ed7953"
             ],
             [
              0.7777777777777778,
              "#fb9f3a"
             ],
             [
              0.8888888888888888,
              "#fdca26"
             ],
             [
              1,
              "#f0f921"
             ]
            ],
            "type": "heatmap"
           }
          ],
          "heatmapgl": [
           {
            "colorbar": {
             "outlinewidth": 0,
             "ticks": ""
            },
            "colorscale": [
             [
              0,
              "#0d0887"
             ],
             [
              0.1111111111111111,
              "#46039f"
             ],
             [
              0.2222222222222222,
              "#7201a8"
             ],
             [
              0.3333333333333333,
              "#9c179e"
             ],
             [
              0.4444444444444444,
              "#bd3786"
             ],
             [
              0.5555555555555556,
              "#d8576b"
             ],
             [
              0.6666666666666666,
              "#ed7953"
             ],
             [
              0.7777777777777778,
              "#fb9f3a"
             ],
             [
              0.8888888888888888,
              "#fdca26"
             ],
             [
              1,
              "#f0f921"
             ]
            ],
            "type": "heatmapgl"
           }
          ],
          "histogram": [
           {
            "marker": {
             "pattern": {
              "fillmode": "overlay",
              "size": 10,
              "solidity": 0.2
             }
            },
            "type": "histogram"
           }
          ],
          "histogram2d": [
           {
            "colorbar": {
             "outlinewidth": 0,
             "ticks": ""
            },
            "colorscale": [
             [
              0,
              "#0d0887"
             ],
             [
              0.1111111111111111,
              "#46039f"
             ],
             [
              0.2222222222222222,
              "#7201a8"
             ],
             [
              0.3333333333333333,
              "#9c179e"
             ],
             [
              0.4444444444444444,
              "#bd3786"
             ],
             [
              0.5555555555555556,
              "#d8576b"
             ],
             [
              0.6666666666666666,
              "#ed7953"
             ],
             [
              0.7777777777777778,
              "#fb9f3a"
             ],
             [
              0.8888888888888888,
              "#fdca26"
             ],
             [
              1,
              "#f0f921"
             ]
            ],
            "type": "histogram2d"
           }
          ],
          "histogram2dcontour": [
           {
            "colorbar": {
             "outlinewidth": 0,
             "ticks": ""
            },
            "colorscale": [
             [
              0,
              "#0d0887"
             ],
             [
              0.1111111111111111,
              "#46039f"
             ],
             [
              0.2222222222222222,
              "#7201a8"
             ],
             [
              0.3333333333333333,
              "#9c179e"
             ],
             [
              0.4444444444444444,
              "#bd3786"
             ],
             [
              0.5555555555555556,
              "#d8576b"
             ],
             [
              0.6666666666666666,
              "#ed7953"
             ],
             [
              0.7777777777777778,
              "#fb9f3a"
             ],
             [
              0.8888888888888888,
              "#fdca26"
             ],
             [
              1,
              "#f0f921"
             ]
            ],
            "type": "histogram2dcontour"
           }
          ],
          "mesh3d": [
           {
            "colorbar": {
             "outlinewidth": 0,
             "ticks": ""
            },
            "type": "mesh3d"
           }
          ],
          "parcoords": [
           {
            "line": {
             "colorbar": {
              "outlinewidth": 0,
              "ticks": ""
             }
            },
            "type": "parcoords"
           }
          ],
          "pie": [
           {
            "automargin": true,
            "type": "pie"
           }
          ],
          "scatter": [
           {
            "fillpattern": {
             "fillmode": "overlay",
             "size": 10,
             "solidity": 0.2
            },
            "type": "scatter"
           }
          ],
          "scatter3d": [
           {
            "line": {
             "colorbar": {
              "outlinewidth": 0,
              "ticks": ""
             }
            },
            "marker": {
             "colorbar": {
              "outlinewidth": 0,
              "ticks": ""
             }
            },
            "type": "scatter3d"
           }
          ],
          "scattercarpet": [
           {
            "marker": {
             "colorbar": {
              "outlinewidth": 0,
              "ticks": ""
             }
            },
            "type": "scattercarpet"
           }
          ],
          "scattergeo": [
           {
            "marker": {
             "colorbar": {
              "outlinewidth": 0,
              "ticks": ""
             }
            },
            "type": "scattergeo"
           }
          ],
          "scattergl": [
           {
            "marker": {
             "colorbar": {
              "outlinewidth": 0,
              "ticks": ""
             }
            },
            "type": "scattergl"
           }
          ],
          "scattermapbox": [
           {
            "marker": {
             "colorbar": {
              "outlinewidth": 0,
              "ticks": ""
             }
            },
            "type": "scattermapbox"
           }
          ],
          "scatterpolar": [
           {
            "marker": {
             "colorbar": {
              "outlinewidth": 0,
              "ticks": ""
             }
            },
            "type": "scatterpolar"
           }
          ],
          "scatterpolargl": [
           {
            "marker": {
             "colorbar": {
              "outlinewidth": 0,
              "ticks": ""
             }
            },
            "type": "scatterpolargl"
           }
          ],
          "scatterternary": [
           {
            "marker": {
             "colorbar": {
              "outlinewidth": 0,
              "ticks": ""
             }
            },
            "type": "scatterternary"
           }
          ],
          "surface": [
           {
            "colorbar": {
             "outlinewidth": 0,
             "ticks": ""
            },
            "colorscale": [
             [
              0,
              "#0d0887"
             ],
             [
              0.1111111111111111,
              "#46039f"
             ],
             [
              0.2222222222222222,
              "#7201a8"
             ],
             [
              0.3333333333333333,
              "#9c179e"
             ],
             [
              0.4444444444444444,
              "#bd3786"
             ],
             [
              0.5555555555555556,
              "#d8576b"
             ],
             [
              0.6666666666666666,
              "#ed7953"
             ],
             [
              0.7777777777777778,
              "#fb9f3a"
             ],
             [
              0.8888888888888888,
              "#fdca26"
             ],
             [
              1,
              "#f0f921"
             ]
            ],
            "type": "surface"
           }
          ],
          "table": [
           {
            "cells": {
             "fill": {
              "color": "#EBF0F8"
             },
             "line": {
              "color": "white"
             }
            },
            "header": {
             "fill": {
              "color": "#C8D4E3"
             },
             "line": {
              "color": "white"
             }
            },
            "type": "table"
           }
          ]
         },
         "layout": {
          "annotationdefaults": {
           "arrowcolor": "#2a3f5f",
           "arrowhead": 0,
           "arrowwidth": 1
          },
          "autotypenumbers": "strict",
          "coloraxis": {
           "colorbar": {
            "outlinewidth": 0,
            "ticks": ""
           }
          },
          "colorscale": {
           "diverging": [
            [
             0,
             "#8e0152"
            ],
            [
             0.1,
             "#c51b7d"
            ],
            [
             0.2,
             "#de77ae"
            ],
            [
             0.3,
             "#f1b6da"
            ],
            [
             0.4,
             "#fde0ef"
            ],
            [
             0.5,
             "#f7f7f7"
            ],
            [
             0.6,
             "#e6f5d0"
            ],
            [
             0.7,
             "#b8e186"
            ],
            [
             0.8,
             "#7fbc41"
            ],
            [
             0.9,
             "#4d9221"
            ],
            [
             1,
             "#276419"
            ]
           ],
           "sequential": [
            [
             0,
             "#0d0887"
            ],
            [
             0.1111111111111111,
             "#46039f"
            ],
            [
             0.2222222222222222,
             "#7201a8"
            ],
            [
             0.3333333333333333,
             "#9c179e"
            ],
            [
             0.4444444444444444,
             "#bd3786"
            ],
            [
             0.5555555555555556,
             "#d8576b"
            ],
            [
             0.6666666666666666,
             "#ed7953"
            ],
            [
             0.7777777777777778,
             "#fb9f3a"
            ],
            [
             0.8888888888888888,
             "#fdca26"
            ],
            [
             1,
             "#f0f921"
            ]
           ],
           "sequentialminus": [
            [
             0,
             "#0d0887"
            ],
            [
             0.1111111111111111,
             "#46039f"
            ],
            [
             0.2222222222222222,
             "#7201a8"
            ],
            [
             0.3333333333333333,
             "#9c179e"
            ],
            [
             0.4444444444444444,
             "#bd3786"
            ],
            [
             0.5555555555555556,
             "#d8576b"
            ],
            [
             0.6666666666666666,
             "#ed7953"
            ],
            [
             0.7777777777777778,
             "#fb9f3a"
            ],
            [
             0.8888888888888888,
             "#fdca26"
            ],
            [
             1,
             "#f0f921"
            ]
           ]
          },
          "colorway": [
           "#636efa",
           "#EF553B",
           "#00cc96",
           "#ab63fa",
           "#FFA15A",
           "#19d3f3",
           "#FF6692",
           "#B6E880",
           "#FF97FF",
           "#FECB52"
          ],
          "font": {
           "color": "#2a3f5f"
          },
          "geo": {
           "bgcolor": "white",
           "lakecolor": "white",
           "landcolor": "#E5ECF6",
           "showlakes": true,
           "showland": true,
           "subunitcolor": "white"
          },
          "hoverlabel": {
           "align": "left"
          },
          "hovermode": "closest",
          "mapbox": {
           "style": "light"
          },
          "paper_bgcolor": "white",
          "plot_bgcolor": "#E5ECF6",
          "polar": {
           "angularaxis": {
            "gridcolor": "white",
            "linecolor": "white",
            "ticks": ""
           },
           "bgcolor": "#E5ECF6",
           "radialaxis": {
            "gridcolor": "white",
            "linecolor": "white",
            "ticks": ""
           }
          },
          "scene": {
           "xaxis": {
            "backgroundcolor": "#E5ECF6",
            "gridcolor": "white",
            "gridwidth": 2,
            "linecolor": "white",
            "showbackground": true,
            "ticks": "",
            "zerolinecolor": "white"
           },
           "yaxis": {
            "backgroundcolor": "#E5ECF6",
            "gridcolor": "white",
            "gridwidth": 2,
            "linecolor": "white",
            "showbackground": true,
            "ticks": "",
            "zerolinecolor": "white"
           },
           "zaxis": {
            "backgroundcolor": "#E5ECF6",
            "gridcolor": "white",
            "gridwidth": 2,
            "linecolor": "white",
            "showbackground": true,
            "ticks": "",
            "zerolinecolor": "white"
           }
          },
          "shapedefaults": {
           "line": {
            "color": "#2a3f5f"
           }
          },
          "ternary": {
           "aaxis": {
            "gridcolor": "white",
            "linecolor": "white",
            "ticks": ""
           },
           "baxis": {
            "gridcolor": "white",
            "linecolor": "white",
            "ticks": ""
           },
           "bgcolor": "#E5ECF6",
           "caxis": {
            "gridcolor": "white",
            "linecolor": "white",
            "ticks": ""
           }
          },
          "title": {
           "x": 0.05
          },
          "xaxis": {
           "automargin": true,
           "gridcolor": "white",
           "linecolor": "white",
           "ticks": "",
           "title": {
            "standoff": 15
           },
           "zerolinecolor": "white",
           "zerolinewidth": 2
          },
          "yaxis": {
           "automargin": true,
           "gridcolor": "white",
           "linecolor": "white",
           "ticks": "",
           "title": {
            "standoff": 15
           },
           "zerolinecolor": "white",
           "zerolinewidth": 2
          }
         }
        },
        "title": {
         "text": "Multivariate Drift (PCA Reconstruction Error)"
        },
        "xaxis": {
         "linecolor": "#3b0280",
         "matches": "x",
         "mirror": true,
         "showgrid": false,
         "title": {
          "text": "Chunk"
         },
         "zeroline": false
        },
        "yaxis": {
         "linecolor": "#3b0280",
         "mirror": true,
         "showgrid": false,
         "title": {
          "text": "Reconstruction Error"
         },
         "zeroline": false
        }
       }
      }
     },
     "metadata": {},
     "output_type": "display_data"
    }
   ],
   "source": [
    "from nannyml import DataReconstructionDriftCalculator\n",
    "\n",
    "# metadata = extract_metadata(data = total[total['type']=='reference'], model_name='3d_rotation', model_type='classification_binary')\n",
    "# metadata.timestamp_column_name = 'ordered'\n",
    "# metadata.target_column_name = 'y_true'\n",
    "\n",
    "rcerror_calculator = DataReconstructionDriftCalculator(total.select_dtypes(include=np.float64).columns).fit(reference_data=total[total['type']=='reference'])\n",
    "# let's compute (and visualize) results across all the dataset.\n",
    "rcerror_results = rcerror_calculator.calculate(data=total)\n",
    "\n",
    "# let's create plot with results\n",
    "figure = rcerror_results.plot()\n",
    "figure.show()"
   ]
  }
 ],
 "metadata": {
  "kernelspec": {
   "display_name": ".venv",
   "language": "python",
   "name": "python3"
  },
  "language_info": {
   "codemirror_mode": {
    "name": "ipython",
    "version": 3
   },
   "file_extension": ".py",
   "mimetype": "text/x-python",
   "name": "python",
   "nbconvert_exporter": "python",
   "pygments_lexer": "ipython3",
   "version": "3.10.11"
  }
 },
 "nbformat": 4,
 "nbformat_minor": 2
}
