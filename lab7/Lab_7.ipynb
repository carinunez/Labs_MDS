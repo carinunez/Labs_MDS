{
  "cells": [
    {
      "cell_type": "markdown",
      "metadata": {
        "id": "_Tgm8mCA9Dp3"
      },
      "source": [
        "# Laboratorio 7: Clasificación 🤗\n",
        "\n",
        "<center><strong>MDS7202: Laboratorio de Programación Científica para Ciencia de Datos - Primavera 2024</strong></center>\n"
      ]
    },
    {
      "cell_type": "markdown",
      "metadata": {
        "id": "11Kc_ibM9GXH"
      },
      "source": [
        "### Cuerpo Docente:\n",
        "\n",
        "- Profesores: Ignacio Meza, Sebastián Tinoco\n",
        "- Auxiliar: Eduardo Moya\n",
        "- Ayudantes: Nicolás Ojeda, Melanie Peña, Valentina Rojas"
      ]
    },
    {
      "cell_type": "markdown",
      "metadata": {
        "id": "jTprXLfDa4-h"
      },
      "source": [
        "### Equipo: SUPER IMPORTANTE - notebooks sin nombre no serán revisados\n",
        "\n",
        "- Nombre de alumno 1: Carolina Núñez\n",
        "- Nombre de alumno 2: Alonso Uribe\n"
      ]
    },
    {
      "cell_type": "markdown",
      "metadata": {
        "id": "2k4ZMfKMa4-i"
      },
      "source": [
        "### **Link de repositorio de GitHub:** [Repositorio💻](https://github.com/carinunez/Labs_MDS/)"
      ]
    },
    {
      "cell_type": "markdown",
      "metadata": {
        "id": "YBa48PDF9OHw"
      },
      "source": [
        "### Temas a tratar\n",
        "- Clasificación en problemas desbalanceados\n",
        "- Lightgbm y xgboost\n",
        "- Pipelines"
      ]
    },
    {
      "cell_type": "markdown",
      "metadata": {
        "id": "mkhnnMx49Qrh"
      },
      "source": [
        "### Reglas:\n",
        "\n",
        "- **Grupos de 2 personas**\n",
        "- Cualquier duda fuera del horario de clases al foro. Mensajes al equipo docente serán respondidos por este medio.\n",
        "- Prohibidas las copias.\n",
        "- Pueden usar cualquer matrial del curso que estimen conveniente.\n",
        "- Código que no se pueda ejecutar, no será revisado."
      ]
    },
    {
      "cell_type": "markdown",
      "metadata": {
        "id": "sxzJ48Vv8quO"
      },
      "source": [
        "\n",
        "\n",
        "### Objetivos principales del laboratorio\n",
        "- Comprender cómo trabajar con problemas de clasificación con clases desbalanceadas.\n",
        "- Aplicar los modelos lightgbm y xgboost.\n",
        "- Practicar Pipelines"
      ]
    },
    {
      "cell_type": "markdown",
      "metadata": {
        "id": "k-ao0mOU64Ru"
      },
      "source": [
        "# Parte Teórica [12 puntos]\n",
        "\n",
        "\n"
      ]
    },
    {
      "cell_type": "markdown",
      "metadata": {
        "id": "ApXKwPDmxcEV"
      },
      "source": [
        "1. Explique cuál es la diferencia entre los datos de entrenamiento y validación. [1 punto]\n",
        "\n",
        "2. Explique cuál es el principal desafío al trabajar problemas de clasificación con data no supervisada. [1 punto]\n",
        "\n",
        "3. Explique en **sus palabras** qué es la matriz de confusión y para qué se utiliza. [1 puntos]\n",
        "\n",
        "4. Escriba la fórmula de las siguientes métricas y explique con **sus palabras** cómo se interpretan. [1 punto cada uno]\n",
        "\n",
        "  * Accuracy\n",
        "  * Precision\n",
        "  * Recall\n",
        "  * F1 score\n",
        "\n",
        "5. Explique qué métrica recomendaría para los siguientes contextos de clasificación. [1 punto cada uno]\n",
        "\n",
        "  * Mantenimiento predictivo de fallas de maquinaria pesada en la industria minera.  \n",
        "  * Detección de enfermedades altamente contagiosas.\n",
        "  * Aprobación de créditos de alto riesgo.\n",
        "  * Detección de crímenes.\n",
        "\n",
        "6. Explique qué es la calibración de modelos y para qué se usa. [1 punto]\n"
      ]
    },
    {
      "cell_type": "markdown",
      "metadata": {
        "id": "Yy4QMWD8-FPk"
      },
      "source": [
        "**Respuesta:**"
      ]
    },
    {
      "cell_type": "markdown",
      "metadata": {
        "id": "QYFdD1aK-ICa"
      },
      "source": [
        "1. Los datos de entrenamiento, tal como su nombre lo dice, son utilizados para entrenar el modelo. Mientras que los datos de validación permiten medir que tan bueno es el modelo y con ello encontrar los hiperparámetros de este.\n",
        "\n",
        "2. La falta de etiquetas hace que el algoritmo deba encontrar los patrones \"ocultos\" en los datos, cuando se tiene gran cantidad de datos el proceso puede ser muy costoso computacionalmente. Otro problema es que estos algoritmos tienden a caer en overfitting, disminuyendo la capacidad de generalización del modelo. Además, los resutlados son difíciles de interpretar ya no se conoce etiquetas.\n",
        "\n",
        "\n",
        "3. La matriz de confusión permite reportar de manera clara la cantidad de datos/observaciones que fueron asignadas a clase correcta y las que no.\n",
        "\n",
        "4. - Accuracy: $\\frac{\\text{num predicciones correctas}}{\\text{Predicciones totales}} = \\frac{\\text{TP +TN}}{\\text{Predicciones totales}}$ da cuenta de la exactitud del modelo, proporción de verdaderos positivos y verdaderos negativos.\n",
        "   - Precision: $P= \\frac{\\text{TP}}{\\text{TP + FP}}$ proporción de las clases bien predichas corresponeden a la clase de interés (en el caso de clasificación binaria).\n",
        "   - Recall: $R = \\frac{\\text{TP}}{\\text{TP +FN}}$ porción de las observaciones clasificadas como positivas que realmente lo son.\n",
        "   - F1 Score: $\\frac{\\text{2P*R}}{\\text{P + R}}$ calcula una media armónica entre precision y recall por lo que es una métrica que balancea el resultado de cada una por si sola.\n",
        "\n",
        "5. Métricas recomendadas:\n",
        "   1. En el caso de la detección de fallas, se esperaría tener la menor cantidad de falsos positivos ya que esto podria generar atrasos o costos adicionales, de forma análoga de debería minimizar la cantidad de FN por lo que se debreía priorizar tanto la precisión como el recall, es por ello que se debería poner atención al f1 score.  \n",
        "\n",
        "   2. Dado que se está detectando una enfermedad, lo que esperaría es minimizar la cantidad de falsos negativos posibles, entonces se debería buscar un Recall cercano a 1.\n",
        "   3. En este caso, asignar créditos a personas que no están \"aprobadas\" sería lo más perjudicial (falsos positivos) por lo que se debería tener en cuenta la precisión del modelo.\n",
        "   4. Suponieno que lo que se desea es minimizar la cantidad de crímenes dectados erróneamente, entonces había que enfocarse en el Recall.\n",
        "   \n",
        "6. La calibración de modelos permite eliminar sesgos propios de los modelos de ML y con ello poder realizar interpretaciones de mejor calidad."
      ]
    },
    {
      "cell_type": "markdown",
      "metadata": {
        "id": "Jg_9jBqtgRDO"
      },
      "source": [
        "# Parte práctica [48 puntos]"
      ]
    },
    {
      "cell_type": "markdown",
      "metadata": {
        "id": "slm6yRfdfZwS"
      },
      "source": [
        "<p align=\"center\">\n",
        "  <img src=\"https://i.ibb.co/61L8z0w/renacin-by-volframio-dcirf4l-fullview.jpg\"\n",
        "\" width=\"400\">\n",
        "</p>\n",
        "\n",
        "\n",
        "\n",
        "Tras el trágico despido de la mítica mascota de Maipú, Renacín decide adentrarse como consultor en el mercado futbolero, el cuál (para variar...) está cargado en especulaciones.\n",
        "\n",
        "Como su principal tarea será asesorar a los directivos de los clubes sobre cuál jugador comprar y cuál no, Renacín desea generar modelos predictivos que evaluén distintas características de los jugadores; todo con el fin de tomar decisiones concretas basadas en los datos.\n",
        "\n",
        "Sin embargo, su condición de corporeo le impidió tomar la versión anterior de MDS7202, por lo que este motivo Renacín contrata a su equipo para lograr su objetivo final. Dado que aún tiene fuertes vínculos con la dirección de deportes de la municipalidad, el corporeo le entrega base de datos con las estadísticas de cada jugador para que su equipo empieze a trabajar ya con un dataset listo para ser usado.\n"
      ]
    },
    {
      "cell_type": "markdown",
      "metadata": {
        "id": "jnbx7RwHfkue"
      },
      "source": [
        "**Los Datos**\n",
        "\n",
        "Para este laboratorio deberán trabajar con el csv `statsplayers.csv`, donde deberán aplicar algoritmos de aprendizaje supervisado de clasificación en base a características que describen de jugadores de fútbol.\n",
        "\n",
        "Para comenzar cargue el dataset señalado y a continuación vea el reporte **`Player_Stats_Report.html`** (adjunto en la carpeta del enunciado) que describe las características principales del `DataFrame`."
      ]
    },
    {
      "cell_type": "code",
      "execution_count": 1,
      "metadata": {
        "id": "mX6iwOWUfrp_"
      },
      "outputs": [],
      "source": [
        "# Si usted está utilizando Colabolatory le puede ser útil este código para cargar los archivos.\n",
        "# try:\n",
        "#     from google.colab import drive\n",
        "#     drive.mount(\"/content/drive\")\n",
        "#     path = 'Dirección donde tiene los archivos en el Drive'\n",
        "# except:\n",
        "#     print('Ignorando conexión drive-colab')"
      ]
    },
    {
      "cell_type": "markdown",
      "metadata": {
        "id": "JdcucZhp-M_0"
      },
      "source": [
        "## 1. Predicción de Seleccionados Nacionales [14 puntos]"
      ]
    },
    {
      "cell_type": "markdown",
      "metadata": {
        "id": "HXrewqxjjzvA"
      },
      "source": [
        "<p align=\"center\">\n",
        "  <img src=\"https://www.futuro.cl/wp-content/uploads/2016/06/chile-argentina-meme-12.jpg\" width=\"300\">\n",
        "</p>\n",
        "\n"
      ]
    },
    {
      "cell_type": "markdown",
      "metadata": {
        "id": "Qfre1YsSDqla"
      },
      "source": [
        "### 1.1 Preprocesamiento [5 puntos]"
      ]
    },
    {
      "cell_type": "markdown",
      "metadata": {
        "id": "IR00u4HTDtxv"
      },
      "source": [
        "Tareas:\n",
        "\n",
        "1. Genere los labels para la clasificación binaria en una variable llamada `label`. Para esto, trabaje sobre el atributo `National_Position` suponiendo que los valores nulos son jugadores no seleccionados para representar a su país. [Sin puntaje]\n",
        "\n",
        "2. Hecho esto, ¿cuántos se tienen ejemplos por cada clase? Comente lo que observa. [1 punto]\n",
        "\n",
        "3. Genere un `ColumnTransformer` en donde especifique las transformaciones que hay que realizar para cada columna (por ejemplo StandarScaler, MinMaxScaler, OneHotEncoder, etc...) para que puedan ser utilizadas correctamente por el modelo predictivo y guárdelo una variable llamada `col_transformer`. [2 puntos]\n",
        "\n",
        "4. Comente y justifique las transformaciones elegidas sobre cada una de las variables (para esto utilice el material `Player_Stats_Report.html` que viene en el zip del lab), al igual que las transformaciones aplicadas. [2 puntos]"
      ]
    },
    {
      "cell_type": "markdown",
      "metadata": {
        "id": "tgAk0kbPjEsx"
      },
      "source": [
        "**Respuesta:**"
      ]
    },
    {
      "cell_type": "code",
      "execution_count": 2,
      "metadata": {
        "id": "JhC2sZj9dSI1"
      },
      "outputs": [],
      "source": [
        "import numpy as np\n",
        "import pandas as pd\n",
        "import plotly.express as px\n",
        "import plotly.graph_objects as go\n",
        "\n",
        "# Librerias utiles\n",
        "from sklearn.base import BaseEstimator, TransformerMixin\n",
        "from sklearn.pipeline import Pipeline\n",
        "from sklearn.compose import ColumnTransformer\n",
        "from sklearn.preprocessing import FunctionTransformer, StandardScaler, OneHotEncoder, MinMaxScaler\n",
        "from sklearn.preprocessing import LabelEncoder, OrdinalEncoder"
      ]
    },
    {
      "cell_type": "code",
      "source": [
        "df = pd.read_csv('stats_players.csv')\n",
        "df_copy = df.copy()\n",
        "\n",
        "df.head(5)"
      ],
      "metadata": {
        "id": "QvNuwO3pDv_6",
        "colab": {
          "base_uri": "https://localhost:8080/",
          "height": 322
        },
        "outputId": "1045a403-5849-4075-b13e-88f257044a21"
      },
      "execution_count": 3,
      "outputs": [
        {
          "output_type": "execute_result",
          "data": {
            "text/plain": [
              "                Name Nationality National_Position Club_Position  Height  \\\n",
              "0  Cristiano Ronaldo    Portugal                LS            LW     185   \n",
              "1       Lionel Messi   Argentina                RW            RW     170   \n",
              "2             Neymar      Brazil                LW            LW     174   \n",
              "3        Luis Suárez     Uruguay                LS            ST     182   \n",
              "4       Manuel Neuer     Germany                GK            GK     193   \n",
              "\n",
              "   Weight Preffered_Foot  Age        Work_Rate  Weak_foot  ...  Agility  \\\n",
              "0      80          Right   32       High / Low          4  ...       90   \n",
              "1      72           Left   29  Medium / Medium          4  ...       90   \n",
              "2      68          Right   25    High / Medium          5  ...       96   \n",
              "3      85          Right   30    High / Medium          4  ...       86   \n",
              "4      92          Right   31  Medium / Medium          4  ...       52   \n",
              "\n",
              "   Jumping  Heading  Shot_Power  Finishing  Long_Shots  Curve  \\\n",
              "0       95       85          92         93          90     81   \n",
              "1       68       71          85         95          88     89   \n",
              "2       61       62          78         89          77     79   \n",
              "3       69       77          87         94          86     86   \n",
              "4       78       25          25         13          16     14   \n",
              "\n",
              "   Freekick_Accuracy  Penalties  Volleys  \n",
              "0                 76         85       88  \n",
              "1                 90         74       85  \n",
              "2                 84         81       83  \n",
              "3                 84         85       88  \n",
              "4                 11         47       11  \n",
              "\n",
              "[5 rows x 39 columns]"
            ],
            "text/html": [
              "\n",
              "  <div id=\"df-4ea828ca-0eb1-4a2e-b0d2-8108077b13e2\" class=\"colab-df-container\">\n",
              "    <div>\n",
              "<style scoped>\n",
              "    .dataframe tbody tr th:only-of-type {\n",
              "        vertical-align: middle;\n",
              "    }\n",
              "\n",
              "    .dataframe tbody tr th {\n",
              "        vertical-align: top;\n",
              "    }\n",
              "\n",
              "    .dataframe thead th {\n",
              "        text-align: right;\n",
              "    }\n",
              "</style>\n",
              "<table border=\"1\" class=\"dataframe\">\n",
              "  <thead>\n",
              "    <tr style=\"text-align: right;\">\n",
              "      <th></th>\n",
              "      <th>Name</th>\n",
              "      <th>Nationality</th>\n",
              "      <th>National_Position</th>\n",
              "      <th>Club_Position</th>\n",
              "      <th>Height</th>\n",
              "      <th>Weight</th>\n",
              "      <th>Preffered_Foot</th>\n",
              "      <th>Age</th>\n",
              "      <th>Work_Rate</th>\n",
              "      <th>Weak_foot</th>\n",
              "      <th>...</th>\n",
              "      <th>Agility</th>\n",
              "      <th>Jumping</th>\n",
              "      <th>Heading</th>\n",
              "      <th>Shot_Power</th>\n",
              "      <th>Finishing</th>\n",
              "      <th>Long_Shots</th>\n",
              "      <th>Curve</th>\n",
              "      <th>Freekick_Accuracy</th>\n",
              "      <th>Penalties</th>\n",
              "      <th>Volleys</th>\n",
              "    </tr>\n",
              "  </thead>\n",
              "  <tbody>\n",
              "    <tr>\n",
              "      <th>0</th>\n",
              "      <td>Cristiano Ronaldo</td>\n",
              "      <td>Portugal</td>\n",
              "      <td>LS</td>\n",
              "      <td>LW</td>\n",
              "      <td>185</td>\n",
              "      <td>80</td>\n",
              "      <td>Right</td>\n",
              "      <td>32</td>\n",
              "      <td>High / Low</td>\n",
              "      <td>4</td>\n",
              "      <td>...</td>\n",
              "      <td>90</td>\n",
              "      <td>95</td>\n",
              "      <td>85</td>\n",
              "      <td>92</td>\n",
              "      <td>93</td>\n",
              "      <td>90</td>\n",
              "      <td>81</td>\n",
              "      <td>76</td>\n",
              "      <td>85</td>\n",
              "      <td>88</td>\n",
              "    </tr>\n",
              "    <tr>\n",
              "      <th>1</th>\n",
              "      <td>Lionel Messi</td>\n",
              "      <td>Argentina</td>\n",
              "      <td>RW</td>\n",
              "      <td>RW</td>\n",
              "      <td>170</td>\n",
              "      <td>72</td>\n",
              "      <td>Left</td>\n",
              "      <td>29</td>\n",
              "      <td>Medium / Medium</td>\n",
              "      <td>4</td>\n",
              "      <td>...</td>\n",
              "      <td>90</td>\n",
              "      <td>68</td>\n",
              "      <td>71</td>\n",
              "      <td>85</td>\n",
              "      <td>95</td>\n",
              "      <td>88</td>\n",
              "      <td>89</td>\n",
              "      <td>90</td>\n",
              "      <td>74</td>\n",
              "      <td>85</td>\n",
              "    </tr>\n",
              "    <tr>\n",
              "      <th>2</th>\n",
              "      <td>Neymar</td>\n",
              "      <td>Brazil</td>\n",
              "      <td>LW</td>\n",
              "      <td>LW</td>\n",
              "      <td>174</td>\n",
              "      <td>68</td>\n",
              "      <td>Right</td>\n",
              "      <td>25</td>\n",
              "      <td>High / Medium</td>\n",
              "      <td>5</td>\n",
              "      <td>...</td>\n",
              "      <td>96</td>\n",
              "      <td>61</td>\n",
              "      <td>62</td>\n",
              "      <td>78</td>\n",
              "      <td>89</td>\n",
              "      <td>77</td>\n",
              "      <td>79</td>\n",
              "      <td>84</td>\n",
              "      <td>81</td>\n",
              "      <td>83</td>\n",
              "    </tr>\n",
              "    <tr>\n",
              "      <th>3</th>\n",
              "      <td>Luis Suárez</td>\n",
              "      <td>Uruguay</td>\n",
              "      <td>LS</td>\n",
              "      <td>ST</td>\n",
              "      <td>182</td>\n",
              "      <td>85</td>\n",
              "      <td>Right</td>\n",
              "      <td>30</td>\n",
              "      <td>High / Medium</td>\n",
              "      <td>4</td>\n",
              "      <td>...</td>\n",
              "      <td>86</td>\n",
              "      <td>69</td>\n",
              "      <td>77</td>\n",
              "      <td>87</td>\n",
              "      <td>94</td>\n",
              "      <td>86</td>\n",
              "      <td>86</td>\n",
              "      <td>84</td>\n",
              "      <td>85</td>\n",
              "      <td>88</td>\n",
              "    </tr>\n",
              "    <tr>\n",
              "      <th>4</th>\n",
              "      <td>Manuel Neuer</td>\n",
              "      <td>Germany</td>\n",
              "      <td>GK</td>\n",
              "      <td>GK</td>\n",
              "      <td>193</td>\n",
              "      <td>92</td>\n",
              "      <td>Right</td>\n",
              "      <td>31</td>\n",
              "      <td>Medium / Medium</td>\n",
              "      <td>4</td>\n",
              "      <td>...</td>\n",
              "      <td>52</td>\n",
              "      <td>78</td>\n",
              "      <td>25</td>\n",
              "      <td>25</td>\n",
              "      <td>13</td>\n",
              "      <td>16</td>\n",
              "      <td>14</td>\n",
              "      <td>11</td>\n",
              "      <td>47</td>\n",
              "      <td>11</td>\n",
              "    </tr>\n",
              "  </tbody>\n",
              "</table>\n",
              "<p>5 rows × 39 columns</p>\n",
              "</div>\n",
              "    <div class=\"colab-df-buttons\">\n",
              "\n",
              "  <div class=\"colab-df-container\">\n",
              "    <button class=\"colab-df-convert\" onclick=\"convertToInteractive('df-4ea828ca-0eb1-4a2e-b0d2-8108077b13e2')\"\n",
              "            title=\"Convert this dataframe to an interactive table.\"\n",
              "            style=\"display:none;\">\n",
              "\n",
              "  <svg xmlns=\"http://www.w3.org/2000/svg\" height=\"24px\" viewBox=\"0 -960 960 960\">\n",
              "    <path d=\"M120-120v-720h720v720H120Zm60-500h600v-160H180v160Zm220 220h160v-160H400v160Zm0 220h160v-160H400v160ZM180-400h160v-160H180v160Zm440 0h160v-160H620v160ZM180-180h160v-160H180v160Zm440 0h160v-160H620v160Z\"/>\n",
              "  </svg>\n",
              "    </button>\n",
              "\n",
              "  <style>\n",
              "    .colab-df-container {\n",
              "      display:flex;\n",
              "      gap: 12px;\n",
              "    }\n",
              "\n",
              "    .colab-df-convert {\n",
              "      background-color: #E8F0FE;\n",
              "      border: none;\n",
              "      border-radius: 50%;\n",
              "      cursor: pointer;\n",
              "      display: none;\n",
              "      fill: #1967D2;\n",
              "      height: 32px;\n",
              "      padding: 0 0 0 0;\n",
              "      width: 32px;\n",
              "    }\n",
              "\n",
              "    .colab-df-convert:hover {\n",
              "      background-color: #E2EBFA;\n",
              "      box-shadow: 0px 1px 2px rgba(60, 64, 67, 0.3), 0px 1px 3px 1px rgba(60, 64, 67, 0.15);\n",
              "      fill: #174EA6;\n",
              "    }\n",
              "\n",
              "    .colab-df-buttons div {\n",
              "      margin-bottom: 4px;\n",
              "    }\n",
              "\n",
              "    [theme=dark] .colab-df-convert {\n",
              "      background-color: #3B4455;\n",
              "      fill: #D2E3FC;\n",
              "    }\n",
              "\n",
              "    [theme=dark] .colab-df-convert:hover {\n",
              "      background-color: #434B5C;\n",
              "      box-shadow: 0px 1px 3px 1px rgba(0, 0, 0, 0.15);\n",
              "      filter: drop-shadow(0px 1px 2px rgba(0, 0, 0, 0.3));\n",
              "      fill: #FFFFFF;\n",
              "    }\n",
              "  </style>\n",
              "\n",
              "    <script>\n",
              "      const buttonEl =\n",
              "        document.querySelector('#df-4ea828ca-0eb1-4a2e-b0d2-8108077b13e2 button.colab-df-convert');\n",
              "      buttonEl.style.display =\n",
              "        google.colab.kernel.accessAllowed ? 'block' : 'none';\n",
              "\n",
              "      async function convertToInteractive(key) {\n",
              "        const element = document.querySelector('#df-4ea828ca-0eb1-4a2e-b0d2-8108077b13e2');\n",
              "        const dataTable =\n",
              "          await google.colab.kernel.invokeFunction('convertToInteractive',\n",
              "                                                    [key], {});\n",
              "        if (!dataTable) return;\n",
              "\n",
              "        const docLinkHtml = 'Like what you see? Visit the ' +\n",
              "          '<a target=\"_blank\" href=https://colab.research.google.com/notebooks/data_table.ipynb>data table notebook</a>'\n",
              "          + ' to learn more about interactive tables.';\n",
              "        element.innerHTML = '';\n",
              "        dataTable['output_type'] = 'display_data';\n",
              "        await google.colab.output.renderOutput(dataTable, element);\n",
              "        const docLink = document.createElement('div');\n",
              "        docLink.innerHTML = docLinkHtml;\n",
              "        element.appendChild(docLink);\n",
              "      }\n",
              "    </script>\n",
              "  </div>\n",
              "\n",
              "\n",
              "<div id=\"df-c85bd302-efef-459c-8bdd-293a6f97e15c\">\n",
              "  <button class=\"colab-df-quickchart\" onclick=\"quickchart('df-c85bd302-efef-459c-8bdd-293a6f97e15c')\"\n",
              "            title=\"Suggest charts\"\n",
              "            style=\"display:none;\">\n",
              "\n",
              "<svg xmlns=\"http://www.w3.org/2000/svg\" height=\"24px\"viewBox=\"0 0 24 24\"\n",
              "     width=\"24px\">\n",
              "    <g>\n",
              "        <path d=\"M19 3H5c-1.1 0-2 .9-2 2v14c0 1.1.9 2 2 2h14c1.1 0 2-.9 2-2V5c0-1.1-.9-2-2-2zM9 17H7v-7h2v7zm4 0h-2V7h2v10zm4 0h-2v-4h2v4z\"/>\n",
              "    </g>\n",
              "</svg>\n",
              "  </button>\n",
              "\n",
              "<style>\n",
              "  .colab-df-quickchart {\n",
              "      --bg-color: #E8F0FE;\n",
              "      --fill-color: #1967D2;\n",
              "      --hover-bg-color: #E2EBFA;\n",
              "      --hover-fill-color: #174EA6;\n",
              "      --disabled-fill-color: #AAA;\n",
              "      --disabled-bg-color: #DDD;\n",
              "  }\n",
              "\n",
              "  [theme=dark] .colab-df-quickchart {\n",
              "      --bg-color: #3B4455;\n",
              "      --fill-color: #D2E3FC;\n",
              "      --hover-bg-color: #434B5C;\n",
              "      --hover-fill-color: #FFFFFF;\n",
              "      --disabled-bg-color: #3B4455;\n",
              "      --disabled-fill-color: #666;\n",
              "  }\n",
              "\n",
              "  .colab-df-quickchart {\n",
              "    background-color: var(--bg-color);\n",
              "    border: none;\n",
              "    border-radius: 50%;\n",
              "    cursor: pointer;\n",
              "    display: none;\n",
              "    fill: var(--fill-color);\n",
              "    height: 32px;\n",
              "    padding: 0;\n",
              "    width: 32px;\n",
              "  }\n",
              "\n",
              "  .colab-df-quickchart:hover {\n",
              "    background-color: var(--hover-bg-color);\n",
              "    box-shadow: 0 1px 2px rgba(60, 64, 67, 0.3), 0 1px 3px 1px rgba(60, 64, 67, 0.15);\n",
              "    fill: var(--button-hover-fill-color);\n",
              "  }\n",
              "\n",
              "  .colab-df-quickchart-complete:disabled,\n",
              "  .colab-df-quickchart-complete:disabled:hover {\n",
              "    background-color: var(--disabled-bg-color);\n",
              "    fill: var(--disabled-fill-color);\n",
              "    box-shadow: none;\n",
              "  }\n",
              "\n",
              "  .colab-df-spinner {\n",
              "    border: 2px solid var(--fill-color);\n",
              "    border-color: transparent;\n",
              "    border-bottom-color: var(--fill-color);\n",
              "    animation:\n",
              "      spin 1s steps(1) infinite;\n",
              "  }\n",
              "\n",
              "  @keyframes spin {\n",
              "    0% {\n",
              "      border-color: transparent;\n",
              "      border-bottom-color: var(--fill-color);\n",
              "      border-left-color: var(--fill-color);\n",
              "    }\n",
              "    20% {\n",
              "      border-color: transparent;\n",
              "      border-left-color: var(--fill-color);\n",
              "      border-top-color: var(--fill-color);\n",
              "    }\n",
              "    30% {\n",
              "      border-color: transparent;\n",
              "      border-left-color: var(--fill-color);\n",
              "      border-top-color: var(--fill-color);\n",
              "      border-right-color: var(--fill-color);\n",
              "    }\n",
              "    40% {\n",
              "      border-color: transparent;\n",
              "      border-right-color: var(--fill-color);\n",
              "      border-top-color: var(--fill-color);\n",
              "    }\n",
              "    60% {\n",
              "      border-color: transparent;\n",
              "      border-right-color: var(--fill-color);\n",
              "    }\n",
              "    80% {\n",
              "      border-color: transparent;\n",
              "      border-right-color: var(--fill-color);\n",
              "      border-bottom-color: var(--fill-color);\n",
              "    }\n",
              "    90% {\n",
              "      border-color: transparent;\n",
              "      border-bottom-color: var(--fill-color);\n",
              "    }\n",
              "  }\n",
              "</style>\n",
              "\n",
              "  <script>\n",
              "    async function quickchart(key) {\n",
              "      const quickchartButtonEl =\n",
              "        document.querySelector('#' + key + ' button');\n",
              "      quickchartButtonEl.disabled = true;  // To prevent multiple clicks.\n",
              "      quickchartButtonEl.classList.add('colab-df-spinner');\n",
              "      try {\n",
              "        const charts = await google.colab.kernel.invokeFunction(\n",
              "            'suggestCharts', [key], {});\n",
              "      } catch (error) {\n",
              "        console.error('Error during call to suggestCharts:', error);\n",
              "      }\n",
              "      quickchartButtonEl.classList.remove('colab-df-spinner');\n",
              "      quickchartButtonEl.classList.add('colab-df-quickchart-complete');\n",
              "    }\n",
              "    (() => {\n",
              "      let quickchartButtonEl =\n",
              "        document.querySelector('#df-c85bd302-efef-459c-8bdd-293a6f97e15c button');\n",
              "      quickchartButtonEl.style.display =\n",
              "        google.colab.kernel.accessAllowed ? 'block' : 'none';\n",
              "    })();\n",
              "  </script>\n",
              "</div>\n",
              "\n",
              "    </div>\n",
              "  </div>\n"
            ],
            "application/vnd.google.colaboratory.intrinsic+json": {
              "type": "dataframe",
              "variable_name": "df"
            }
          },
          "metadata": {},
          "execution_count": 3
        }
      ]
    },
    {
      "cell_type": "code",
      "source": [
        "df.shape"
      ],
      "metadata": {
        "colab": {
          "base_uri": "https://localhost:8080/"
        },
        "id": "7sxLL3sz_G1q",
        "outputId": "6d5dc3e1-d177-48b6-cc3c-88ab6aec0fd4"
      },
      "execution_count": 4,
      "outputs": [
        {
          "output_type": "execute_result",
          "data": {
            "text/plain": [
              "(17588, 39)"
            ]
          },
          "metadata": {},
          "execution_count": 4
        }
      ]
    },
    {
      "cell_type": "code",
      "source": [
        "df.info()"
      ],
      "metadata": {
        "colab": {
          "base_uri": "https://localhost:8080/"
        },
        "id": "4a1iWxb1_we0",
        "outputId": "98b94758-991d-4a0e-8314-dce02ea1340e"
      },
      "execution_count": 5,
      "outputs": [
        {
          "output_type": "stream",
          "name": "stdout",
          "text": [
            "<class 'pandas.core.frame.DataFrame'>\n",
            "RangeIndex: 17588 entries, 0 to 17587\n",
            "Data columns (total 39 columns):\n",
            " #   Column             Non-Null Count  Dtype \n",
            "---  ------             --------------  ----- \n",
            " 0   Name               17588 non-null  object\n",
            " 1   Nationality        17588 non-null  object\n",
            " 2   National_Position  1075 non-null   object\n",
            " 3   Club_Position      17587 non-null  object\n",
            " 4   Height             17588 non-null  int64 \n",
            " 5   Weight             17588 non-null  int64 \n",
            " 6   Preffered_Foot     17588 non-null  object\n",
            " 7   Age                17588 non-null  int64 \n",
            " 8   Work_Rate          17588 non-null  object\n",
            " 9   Weak_foot          17588 non-null  int64 \n",
            " 10  Skill_Moves        17588 non-null  int64 \n",
            " 11  Ball_Control       17588 non-null  int64 \n",
            " 12  Dribbling          17588 non-null  int64 \n",
            " 13  Marking            17588 non-null  int64 \n",
            " 14  Sliding_Tackle     17588 non-null  int64 \n",
            " 15  Standing_Tackle    17588 non-null  int64 \n",
            " 16  Aggression         17588 non-null  int64 \n",
            " 17  Reactions          17588 non-null  int64 \n",
            " 18  Interceptions      17588 non-null  int64 \n",
            " 19  Vision             17588 non-null  int64 \n",
            " 20  Composure          17588 non-null  int64 \n",
            " 21  Crossing           17588 non-null  int64 \n",
            " 22  Short_Pass         17588 non-null  int64 \n",
            " 23  Long_Pass          17588 non-null  int64 \n",
            " 24  Acceleration       17588 non-null  int64 \n",
            " 25  Speed              17588 non-null  int64 \n",
            " 26  Stamina            17588 non-null  int64 \n",
            " 27  Strength           17588 non-null  int64 \n",
            " 28  Balance            17588 non-null  int64 \n",
            " 29  Agility            17588 non-null  int64 \n",
            " 30  Jumping            17588 non-null  int64 \n",
            " 31  Heading            17588 non-null  int64 \n",
            " 32  Shot_Power         17588 non-null  int64 \n",
            " 33  Finishing          17588 non-null  int64 \n",
            " 34  Long_Shots         17588 non-null  int64 \n",
            " 35  Curve              17588 non-null  int64 \n",
            " 36  Freekick_Accuracy  17588 non-null  int64 \n",
            " 37  Penalties          17588 non-null  int64 \n",
            " 38  Volleys            17588 non-null  int64 \n",
            "dtypes: int64(33), object(6)\n",
            "memory usage: 5.2+ MB\n"
          ]
        }
      ]
    },
    {
      "cell_type": "code",
      "source": [
        "# Asigno 0 si National_Position es NaN, 1 si no.\n",
        "df['label'] =  df['National_Position'].notnull().astype('int')\n",
        "\n",
        "# Cant por clase\n",
        "df.label.value_counts()"
      ],
      "metadata": {
        "colab": {
          "base_uri": "https://localhost:8080/",
          "height": 178
        },
        "collapsed": true,
        "id": "G9Ili0TobWhf",
        "outputId": "e70a878d-c201-4de9-e9f2-62a7cd87f6b0"
      },
      "execution_count": 6,
      "outputs": [
        {
          "output_type": "execute_result",
          "data": {
            "text/plain": [
              "label\n",
              "0    16513\n",
              "1     1075\n",
              "Name: count, dtype: int64"
            ],
            "text/html": [
              "<div>\n",
              "<style scoped>\n",
              "    .dataframe tbody tr th:only-of-type {\n",
              "        vertical-align: middle;\n",
              "    }\n",
              "\n",
              "    .dataframe tbody tr th {\n",
              "        vertical-align: top;\n",
              "    }\n",
              "\n",
              "    .dataframe thead th {\n",
              "        text-align: right;\n",
              "    }\n",
              "</style>\n",
              "<table border=\"1\" class=\"dataframe\">\n",
              "  <thead>\n",
              "    <tr style=\"text-align: right;\">\n",
              "      <th></th>\n",
              "      <th>count</th>\n",
              "    </tr>\n",
              "    <tr>\n",
              "      <th>label</th>\n",
              "      <th></th>\n",
              "    </tr>\n",
              "  </thead>\n",
              "  <tbody>\n",
              "    <tr>\n",
              "      <th>0</th>\n",
              "      <td>16513</td>\n",
              "    </tr>\n",
              "    <tr>\n",
              "      <th>1</th>\n",
              "      <td>1075</td>\n",
              "    </tr>\n",
              "  </tbody>\n",
              "</table>\n",
              "</div><br><label><b>dtype:</b> int64</label>"
            ]
          },
          "metadata": {},
          "execution_count": 6
        }
      ]
    },
    {
      "cell_type": "code",
      "source": [
        "1075/(1075+16513)"
      ],
      "metadata": {
        "colab": {
          "base_uri": "https://localhost:8080/"
        },
        "id": "SKDxOtuylUGE",
        "outputId": "4f5339ba-0744-4e25-f44e-43e4333e0a54"
      },
      "execution_count": 7,
      "outputs": [
        {
          "output_type": "execute_result",
          "data": {
            "text/plain": [
              "0.061121219012963385"
            ]
          },
          "metadata": {},
          "execution_count": 7
        }
      ]
    },
    {
      "cell_type": "markdown",
      "source": [
        "Al observar la cantidad de datos por clase es posible notar que la mayoría de los jugadores no están seleccionados y solo el 6% de ellos lo está."
      ],
      "metadata": {
        "id": "crdsf_aZdoLe"
      }
    },
    {
      "cell_type": "code",
      "source": [
        "df['Work_Rate'].str.split(' / ', expand=True).rename({0:'Work1', 1:'Work2'}, axis=1)"
      ],
      "metadata": {
        "colab": {
          "base_uri": "https://localhost:8080/",
          "height": 424
        },
        "id": "r7waZ0S4I417",
        "outputId": "48e4cb0e-ee7d-4a1a-f10a-f6593ebcf01c"
      },
      "execution_count": 8,
      "outputs": [
        {
          "output_type": "execute_result",
          "data": {
            "text/plain": [
              "        Work1   Work2\n",
              "0        High     Low\n",
              "1      Medium  Medium\n",
              "2        High  Medium\n",
              "3        High  Medium\n",
              "4      Medium  Medium\n",
              "...       ...     ...\n",
              "17583  Medium  Medium\n",
              "17584  Medium  Medium\n",
              "17585    High  Medium\n",
              "17586  Medium  Medium\n",
              "17587  Medium  Medium\n",
              "\n",
              "[17588 rows x 2 columns]"
            ],
            "text/html": [
              "\n",
              "  <div id=\"df-45557010-c137-4495-afec-a53934895951\" class=\"colab-df-container\">\n",
              "    <div>\n",
              "<style scoped>\n",
              "    .dataframe tbody tr th:only-of-type {\n",
              "        vertical-align: middle;\n",
              "    }\n",
              "\n",
              "    .dataframe tbody tr th {\n",
              "        vertical-align: top;\n",
              "    }\n",
              "\n",
              "    .dataframe thead th {\n",
              "        text-align: right;\n",
              "    }\n",
              "</style>\n",
              "<table border=\"1\" class=\"dataframe\">\n",
              "  <thead>\n",
              "    <tr style=\"text-align: right;\">\n",
              "      <th></th>\n",
              "      <th>Work1</th>\n",
              "      <th>Work2</th>\n",
              "    </tr>\n",
              "  </thead>\n",
              "  <tbody>\n",
              "    <tr>\n",
              "      <th>0</th>\n",
              "      <td>High</td>\n",
              "      <td>Low</td>\n",
              "    </tr>\n",
              "    <tr>\n",
              "      <th>1</th>\n",
              "      <td>Medium</td>\n",
              "      <td>Medium</td>\n",
              "    </tr>\n",
              "    <tr>\n",
              "      <th>2</th>\n",
              "      <td>High</td>\n",
              "      <td>Medium</td>\n",
              "    </tr>\n",
              "    <tr>\n",
              "      <th>3</th>\n",
              "      <td>High</td>\n",
              "      <td>Medium</td>\n",
              "    </tr>\n",
              "    <tr>\n",
              "      <th>4</th>\n",
              "      <td>Medium</td>\n",
              "      <td>Medium</td>\n",
              "    </tr>\n",
              "    <tr>\n",
              "      <th>...</th>\n",
              "      <td>...</td>\n",
              "      <td>...</td>\n",
              "    </tr>\n",
              "    <tr>\n",
              "      <th>17583</th>\n",
              "      <td>Medium</td>\n",
              "      <td>Medium</td>\n",
              "    </tr>\n",
              "    <tr>\n",
              "      <th>17584</th>\n",
              "      <td>Medium</td>\n",
              "      <td>Medium</td>\n",
              "    </tr>\n",
              "    <tr>\n",
              "      <th>17585</th>\n",
              "      <td>High</td>\n",
              "      <td>Medium</td>\n",
              "    </tr>\n",
              "    <tr>\n",
              "      <th>17586</th>\n",
              "      <td>Medium</td>\n",
              "      <td>Medium</td>\n",
              "    </tr>\n",
              "    <tr>\n",
              "      <th>17587</th>\n",
              "      <td>Medium</td>\n",
              "      <td>Medium</td>\n",
              "    </tr>\n",
              "  </tbody>\n",
              "</table>\n",
              "<p>17588 rows × 2 columns</p>\n",
              "</div>\n",
              "    <div class=\"colab-df-buttons\">\n",
              "\n",
              "  <div class=\"colab-df-container\">\n",
              "    <button class=\"colab-df-convert\" onclick=\"convertToInteractive('df-45557010-c137-4495-afec-a53934895951')\"\n",
              "            title=\"Convert this dataframe to an interactive table.\"\n",
              "            style=\"display:none;\">\n",
              "\n",
              "  <svg xmlns=\"http://www.w3.org/2000/svg\" height=\"24px\" viewBox=\"0 -960 960 960\">\n",
              "    <path d=\"M120-120v-720h720v720H120Zm60-500h600v-160H180v160Zm220 220h160v-160H400v160Zm0 220h160v-160H400v160ZM180-400h160v-160H180v160Zm440 0h160v-160H620v160ZM180-180h160v-160H180v160Zm440 0h160v-160H620v160Z\"/>\n",
              "  </svg>\n",
              "    </button>\n",
              "\n",
              "  <style>\n",
              "    .colab-df-container {\n",
              "      display:flex;\n",
              "      gap: 12px;\n",
              "    }\n",
              "\n",
              "    .colab-df-convert {\n",
              "      background-color: #E8F0FE;\n",
              "      border: none;\n",
              "      border-radius: 50%;\n",
              "      cursor: pointer;\n",
              "      display: none;\n",
              "      fill: #1967D2;\n",
              "      height: 32px;\n",
              "      padding: 0 0 0 0;\n",
              "      width: 32px;\n",
              "    }\n",
              "\n",
              "    .colab-df-convert:hover {\n",
              "      background-color: #E2EBFA;\n",
              "      box-shadow: 0px 1px 2px rgba(60, 64, 67, 0.3), 0px 1px 3px 1px rgba(60, 64, 67, 0.15);\n",
              "      fill: #174EA6;\n",
              "    }\n",
              "\n",
              "    .colab-df-buttons div {\n",
              "      margin-bottom: 4px;\n",
              "    }\n",
              "\n",
              "    [theme=dark] .colab-df-convert {\n",
              "      background-color: #3B4455;\n",
              "      fill: #D2E3FC;\n",
              "    }\n",
              "\n",
              "    [theme=dark] .colab-df-convert:hover {\n",
              "      background-color: #434B5C;\n",
              "      box-shadow: 0px 1px 3px 1px rgba(0, 0, 0, 0.15);\n",
              "      filter: drop-shadow(0px 1px 2px rgba(0, 0, 0, 0.3));\n",
              "      fill: #FFFFFF;\n",
              "    }\n",
              "  </style>\n",
              "\n",
              "    <script>\n",
              "      const buttonEl =\n",
              "        document.querySelector('#df-45557010-c137-4495-afec-a53934895951 button.colab-df-convert');\n",
              "      buttonEl.style.display =\n",
              "        google.colab.kernel.accessAllowed ? 'block' : 'none';\n",
              "\n",
              "      async function convertToInteractive(key) {\n",
              "        const element = document.querySelector('#df-45557010-c137-4495-afec-a53934895951');\n",
              "        const dataTable =\n",
              "          await google.colab.kernel.invokeFunction('convertToInteractive',\n",
              "                                                    [key], {});\n",
              "        if (!dataTable) return;\n",
              "\n",
              "        const docLinkHtml = 'Like what you see? Visit the ' +\n",
              "          '<a target=\"_blank\" href=https://colab.research.google.com/notebooks/data_table.ipynb>data table notebook</a>'\n",
              "          + ' to learn more about interactive tables.';\n",
              "        element.innerHTML = '';\n",
              "        dataTable['output_type'] = 'display_data';\n",
              "        await google.colab.output.renderOutput(dataTable, element);\n",
              "        const docLink = document.createElement('div');\n",
              "        docLink.innerHTML = docLinkHtml;\n",
              "        element.appendChild(docLink);\n",
              "      }\n",
              "    </script>\n",
              "  </div>\n",
              "\n",
              "\n",
              "<div id=\"df-1febcb3e-546c-491e-9684-55d7f671ef5a\">\n",
              "  <button class=\"colab-df-quickchart\" onclick=\"quickchart('df-1febcb3e-546c-491e-9684-55d7f671ef5a')\"\n",
              "            title=\"Suggest charts\"\n",
              "            style=\"display:none;\">\n",
              "\n",
              "<svg xmlns=\"http://www.w3.org/2000/svg\" height=\"24px\"viewBox=\"0 0 24 24\"\n",
              "     width=\"24px\">\n",
              "    <g>\n",
              "        <path d=\"M19 3H5c-1.1 0-2 .9-2 2v14c0 1.1.9 2 2 2h14c1.1 0 2-.9 2-2V5c0-1.1-.9-2-2-2zM9 17H7v-7h2v7zm4 0h-2V7h2v10zm4 0h-2v-4h2v4z\"/>\n",
              "    </g>\n",
              "</svg>\n",
              "  </button>\n",
              "\n",
              "<style>\n",
              "  .colab-df-quickchart {\n",
              "      --bg-color: #E8F0FE;\n",
              "      --fill-color: #1967D2;\n",
              "      --hover-bg-color: #E2EBFA;\n",
              "      --hover-fill-color: #174EA6;\n",
              "      --disabled-fill-color: #AAA;\n",
              "      --disabled-bg-color: #DDD;\n",
              "  }\n",
              "\n",
              "  [theme=dark] .colab-df-quickchart {\n",
              "      --bg-color: #3B4455;\n",
              "      --fill-color: #D2E3FC;\n",
              "      --hover-bg-color: #434B5C;\n",
              "      --hover-fill-color: #FFFFFF;\n",
              "      --disabled-bg-color: #3B4455;\n",
              "      --disabled-fill-color: #666;\n",
              "  }\n",
              "\n",
              "  .colab-df-quickchart {\n",
              "    background-color: var(--bg-color);\n",
              "    border: none;\n",
              "    border-radius: 50%;\n",
              "    cursor: pointer;\n",
              "    display: none;\n",
              "    fill: var(--fill-color);\n",
              "    height: 32px;\n",
              "    padding: 0;\n",
              "    width: 32px;\n",
              "  }\n",
              "\n",
              "  .colab-df-quickchart:hover {\n",
              "    background-color: var(--hover-bg-color);\n",
              "    box-shadow: 0 1px 2px rgba(60, 64, 67, 0.3), 0 1px 3px 1px rgba(60, 64, 67, 0.15);\n",
              "    fill: var(--button-hover-fill-color);\n",
              "  }\n",
              "\n",
              "  .colab-df-quickchart-complete:disabled,\n",
              "  .colab-df-quickchart-complete:disabled:hover {\n",
              "    background-color: var(--disabled-bg-color);\n",
              "    fill: var(--disabled-fill-color);\n",
              "    box-shadow: none;\n",
              "  }\n",
              "\n",
              "  .colab-df-spinner {\n",
              "    border: 2px solid var(--fill-color);\n",
              "    border-color: transparent;\n",
              "    border-bottom-color: var(--fill-color);\n",
              "    animation:\n",
              "      spin 1s steps(1) infinite;\n",
              "  }\n",
              "\n",
              "  @keyframes spin {\n",
              "    0% {\n",
              "      border-color: transparent;\n",
              "      border-bottom-color: var(--fill-color);\n",
              "      border-left-color: var(--fill-color);\n",
              "    }\n",
              "    20% {\n",
              "      border-color: transparent;\n",
              "      border-left-color: var(--fill-color);\n",
              "      border-top-color: var(--fill-color);\n",
              "    }\n",
              "    30% {\n",
              "      border-color: transparent;\n",
              "      border-left-color: var(--fill-color);\n",
              "      border-top-color: var(--fill-color);\n",
              "      border-right-color: var(--fill-color);\n",
              "    }\n",
              "    40% {\n",
              "      border-color: transparent;\n",
              "      border-right-color: var(--fill-color);\n",
              "      border-top-color: var(--fill-color);\n",
              "    }\n",
              "    60% {\n",
              "      border-color: transparent;\n",
              "      border-right-color: var(--fill-color);\n",
              "    }\n",
              "    80% {\n",
              "      border-color: transparent;\n",
              "      border-right-color: var(--fill-color);\n",
              "      border-bottom-color: var(--fill-color);\n",
              "    }\n",
              "    90% {\n",
              "      border-color: transparent;\n",
              "      border-bottom-color: var(--fill-color);\n",
              "    }\n",
              "  }\n",
              "</style>\n",
              "\n",
              "  <script>\n",
              "    async function quickchart(key) {\n",
              "      const quickchartButtonEl =\n",
              "        document.querySelector('#' + key + ' button');\n",
              "      quickchartButtonEl.disabled = true;  // To prevent multiple clicks.\n",
              "      quickchartButtonEl.classList.add('colab-df-spinner');\n",
              "      try {\n",
              "        const charts = await google.colab.kernel.invokeFunction(\n",
              "            'suggestCharts', [key], {});\n",
              "      } catch (error) {\n",
              "        console.error('Error during call to suggestCharts:', error);\n",
              "      }\n",
              "      quickchartButtonEl.classList.remove('colab-df-spinner');\n",
              "      quickchartButtonEl.classList.add('colab-df-quickchart-complete');\n",
              "    }\n",
              "    (() => {\n",
              "      let quickchartButtonEl =\n",
              "        document.querySelector('#df-1febcb3e-546c-491e-9684-55d7f671ef5a button');\n",
              "      quickchartButtonEl.style.display =\n",
              "        google.colab.kernel.accessAllowed ? 'block' : 'none';\n",
              "    })();\n",
              "  </script>\n",
              "</div>\n",
              "\n",
              "    </div>\n",
              "  </div>\n"
            ],
            "application/vnd.google.colaboratory.intrinsic+json": {
              "type": "dataframe",
              "summary": "{\n  \"name\": \"df['Work_Rate']\",\n  \"rows\": 17588,\n  \"fields\": [\n    {\n      \"column\": \"Work1\",\n      \"properties\": {\n        \"dtype\": \"category\",\n        \"num_unique_values\": 3,\n        \"samples\": [\n          \"High\",\n          \"Medium\",\n          \"Low\"\n        ],\n        \"semantic_type\": \"\",\n        \"description\": \"\"\n      }\n    },\n    {\n      \"column\": \"Work2\",\n      \"properties\": {\n        \"dtype\": \"category\",\n        \"num_unique_values\": 3,\n        \"samples\": [\n          \"Low\",\n          \"Medium\",\n          \"High\"\n        ],\n        \"semantic_type\": \"\",\n        \"description\": \"\"\n      }\n    }\n  ]\n}"
            }
          },
          "metadata": {},
          "execution_count": 8
        }
      ]
    },
    {
      "cell_type": "code",
      "source": [
        "# def transf_workRate(dataframe):\n",
        "#   # dataframe['WorkRate'] = dataframe.apply(lambda x: x.str.split(' / '))\n",
        "#   serie = pd.Series(dataframe.copy().to_numpy()[:,0])\n",
        "#   frame = dataframe.copy()\n",
        "#   print(serie.str.split(' / ', expand=True))\n",
        "#   frame[['Work1', 'Work2']] = serie.str.split(' / ', expand=True)\n",
        "#   ord_enc = OrdinalEncoder()\n",
        "#   frame.drop(columns=\"Work_Rate\", inplace=True)\n",
        "#   ord_enc.fit_transform(frame[['Work1', 'Work2']])\n",
        "#   return dataframe\n",
        "\n",
        "# def t_workRate(dataframe, indice):\n",
        "#     serie = pd.Series(dataframe.copy().to_numpy()[:,0])\n",
        "#     dataframe[f'Work_{indice}'] = serie.str.split(' / ')[indice]\n",
        "#     l_enc = LabelEncoder(['Low', 'Medium', 'High'])\n",
        "#     data[f'Work_{indice}'] = l_enc.fit_transform(dataframe[[f'Work_{indice}']])\n",
        "#   return dataframe\n"
      ],
      "metadata": {
        "id": "1Go9DSGS2Fbm"
      },
      "execution_count": 9,
      "outputs": []
    },
    {
      "cell_type": "code",
      "source": [
        "from sklearn.impute import SimpleImputer\n",
        "\n",
        "useless_cols = ['Name', 'Nationality', 'National_Position', 'Work_Rate']\n",
        "\n",
        "highCorr_cols = ['Weight', 'Ball_Control', 'Dribbling', 'Standing_Tackle',\n",
        "                 'Sliding_Tackle', 'Interceptions', 'Short_Pass', 'Acceleration',\n",
        "                  'Curve', 'Long_Shots', 'Volleys', 'Finishing', 'Shot_Power',\n",
        "                 'Freekick_Accuracy']\n",
        "\n",
        "standard_cols = ['Height', 'Weak_foot', 'Skill_Moves', 'Reactions', 'Vision',\n",
        "                 'Composure', 'Speed', 'Strength', 'Balance', 'Agility',\n",
        "                 'Jumping', 'Penalties', 'Aggression']\n",
        "\n",
        "min_max_cols = ['Marking', 'Crossing', 'Age', 'Long_Pass', 'Stamina', 'Heading']\n",
        "\n",
        "\n",
        "pipe_club = Pipeline([('imputer', SimpleImputer(missing_values=np.nan, strategy='most_frequent')),\n",
        "                       ('labels_encod', OrdinalEncoder())])\n",
        "\n",
        "col_transformer = ColumnTransformer([\n",
        "                         ('drop_cols', 'drop', useless_cols),\n",
        "                         ('club_pipe', pipe_club, ['Club_Position']),\n",
        "                         ('one_hot', OneHotEncoder(drop='first', sparse_output=False), ['Preffered_Foot']),\n",
        "                         ('drop_hight_corr', 'drop', highCorr_cols),\n",
        "                         ('standard', StandardScaler(), standard_cols),\n",
        "                         ('min_max', MinMaxScaler(), min_max_cols)],\n",
        "                         remainder='passthrough',\n",
        "                         verbose_feature_names_out=False)\n",
        "\n",
        "col_transformer.set_output(transform='pandas')\n",
        "\n",
        "df_new = col_transformer.fit_transform(df)"
      ],
      "metadata": {
        "collapsed": true,
        "id": "FoEZaqFse0oz"
      },
      "execution_count": 10,
      "outputs": []
    },
    {
      "cell_type": "code",
      "source": [
        "df_new.head(4)"
      ],
      "metadata": {
        "id": "GDUA3nnV7fhc",
        "colab": {
          "base_uri": "https://localhost:8080/",
          "height": 204
        },
        "outputId": "63be05df-d28c-42dc-a8a9-0d67e8afb9b7"
      },
      "execution_count": 11,
      "outputs": [
        {
          "output_type": "execute_result",
          "data": {
            "text/plain": [
              "   Club_Position  Preffered_Foot_Right    Height  Weak_foot  Skill_Moves  \\\n",
              "0           14.0                   1.0  0.583453   1.625071     3.614412   \n",
              "1           24.0                   0.0 -1.663748   1.625071     2.274171   \n",
              "2           14.0                   1.0 -1.064495   3.149676     3.614412   \n",
              "3           27.0                   1.0  0.134013   1.625071     2.274171   \n",
              "\n",
              "   Reactions    Vision  Composure     Speed  Strength  ...   Jumping  \\\n",
              "0   3.690524  2.213453   2.235484  1.880549  1.190025  ...  2.631689   \n",
              "1   3.582707  2.556176   2.828708  1.525945 -0.485601  ...  0.269584   \n",
              "2   2.827986  1.870729   1.790565  1.738707 -1.283518  ... -0.342814   \n",
              "3   3.367072  2.144908   2.013024  0.816736  0.870858  ...  0.357069   \n",
              "\n",
              "   Penalties  Aggression   Marking  Crossing       Age  Long_Pass   Stamina  \\\n",
              "0   2.257805    0.405838  0.213483  0.917647  0.500000   0.813953  0.964706   \n",
              "1   1.564729   -0.454009  0.112360  0.835294  0.400000   0.930233  0.752941   \n",
              "2   2.005777    0.004576  0.202247  0.811765  0.266667   0.790698  0.811765   \n",
              "3   2.257805    1.265685  0.303371  0.835294  0.433333   0.662791  0.929412   \n",
              "\n",
              "    Heading  label  \n",
              "0  0.900000      1  \n",
              "1  0.744444      1  \n",
              "2  0.644444      1  \n",
              "3  0.811111      1  \n",
              "\n",
              "[4 rows x 22 columns]"
            ],
            "text/html": [
              "\n",
              "  <div id=\"df-339f0f5b-6062-434b-972f-658dd562235e\" class=\"colab-df-container\">\n",
              "    <div>\n",
              "<style scoped>\n",
              "    .dataframe tbody tr th:only-of-type {\n",
              "        vertical-align: middle;\n",
              "    }\n",
              "\n",
              "    .dataframe tbody tr th {\n",
              "        vertical-align: top;\n",
              "    }\n",
              "\n",
              "    .dataframe thead th {\n",
              "        text-align: right;\n",
              "    }\n",
              "</style>\n",
              "<table border=\"1\" class=\"dataframe\">\n",
              "  <thead>\n",
              "    <tr style=\"text-align: right;\">\n",
              "      <th></th>\n",
              "      <th>Club_Position</th>\n",
              "      <th>Preffered_Foot_Right</th>\n",
              "      <th>Height</th>\n",
              "      <th>Weak_foot</th>\n",
              "      <th>Skill_Moves</th>\n",
              "      <th>Reactions</th>\n",
              "      <th>Vision</th>\n",
              "      <th>Composure</th>\n",
              "      <th>Speed</th>\n",
              "      <th>Strength</th>\n",
              "      <th>...</th>\n",
              "      <th>Jumping</th>\n",
              "      <th>Penalties</th>\n",
              "      <th>Aggression</th>\n",
              "      <th>Marking</th>\n",
              "      <th>Crossing</th>\n",
              "      <th>Age</th>\n",
              "      <th>Long_Pass</th>\n",
              "      <th>Stamina</th>\n",
              "      <th>Heading</th>\n",
              "      <th>label</th>\n",
              "    </tr>\n",
              "  </thead>\n",
              "  <tbody>\n",
              "    <tr>\n",
              "      <th>0</th>\n",
              "      <td>14.0</td>\n",
              "      <td>1.0</td>\n",
              "      <td>0.583453</td>\n",
              "      <td>1.625071</td>\n",
              "      <td>3.614412</td>\n",
              "      <td>3.690524</td>\n",
              "      <td>2.213453</td>\n",
              "      <td>2.235484</td>\n",
              "      <td>1.880549</td>\n",
              "      <td>1.190025</td>\n",
              "      <td>...</td>\n",
              "      <td>2.631689</td>\n",
              "      <td>2.257805</td>\n",
              "      <td>0.405838</td>\n",
              "      <td>0.213483</td>\n",
              "      <td>0.917647</td>\n",
              "      <td>0.500000</td>\n",
              "      <td>0.813953</td>\n",
              "      <td>0.964706</td>\n",
              "      <td>0.900000</td>\n",
              "      <td>1</td>\n",
              "    </tr>\n",
              "    <tr>\n",
              "      <th>1</th>\n",
              "      <td>24.0</td>\n",
              "      <td>0.0</td>\n",
              "      <td>-1.663748</td>\n",
              "      <td>1.625071</td>\n",
              "      <td>2.274171</td>\n",
              "      <td>3.582707</td>\n",
              "      <td>2.556176</td>\n",
              "      <td>2.828708</td>\n",
              "      <td>1.525945</td>\n",
              "      <td>-0.485601</td>\n",
              "      <td>...</td>\n",
              "      <td>0.269584</td>\n",
              "      <td>1.564729</td>\n",
              "      <td>-0.454009</td>\n",
              "      <td>0.112360</td>\n",
              "      <td>0.835294</td>\n",
              "      <td>0.400000</td>\n",
              "      <td>0.930233</td>\n",
              "      <td>0.752941</td>\n",
              "      <td>0.744444</td>\n",
              "      <td>1</td>\n",
              "    </tr>\n",
              "    <tr>\n",
              "      <th>2</th>\n",
              "      <td>14.0</td>\n",
              "      <td>1.0</td>\n",
              "      <td>-1.064495</td>\n",
              "      <td>3.149676</td>\n",
              "      <td>3.614412</td>\n",
              "      <td>2.827986</td>\n",
              "      <td>1.870729</td>\n",
              "      <td>1.790565</td>\n",
              "      <td>1.738707</td>\n",
              "      <td>-1.283518</td>\n",
              "      <td>...</td>\n",
              "      <td>-0.342814</td>\n",
              "      <td>2.005777</td>\n",
              "      <td>0.004576</td>\n",
              "      <td>0.202247</td>\n",
              "      <td>0.811765</td>\n",
              "      <td>0.266667</td>\n",
              "      <td>0.790698</td>\n",
              "      <td>0.811765</td>\n",
              "      <td>0.644444</td>\n",
              "      <td>1</td>\n",
              "    </tr>\n",
              "    <tr>\n",
              "      <th>3</th>\n",
              "      <td>27.0</td>\n",
              "      <td>1.0</td>\n",
              "      <td>0.134013</td>\n",
              "      <td>1.625071</td>\n",
              "      <td>2.274171</td>\n",
              "      <td>3.367072</td>\n",
              "      <td>2.144908</td>\n",
              "      <td>2.013024</td>\n",
              "      <td>0.816736</td>\n",
              "      <td>0.870858</td>\n",
              "      <td>...</td>\n",
              "      <td>0.357069</td>\n",
              "      <td>2.257805</td>\n",
              "      <td>1.265685</td>\n",
              "      <td>0.303371</td>\n",
              "      <td>0.835294</td>\n",
              "      <td>0.433333</td>\n",
              "      <td>0.662791</td>\n",
              "      <td>0.929412</td>\n",
              "      <td>0.811111</td>\n",
              "      <td>1</td>\n",
              "    </tr>\n",
              "  </tbody>\n",
              "</table>\n",
              "<p>4 rows × 22 columns</p>\n",
              "</div>\n",
              "    <div class=\"colab-df-buttons\">\n",
              "\n",
              "  <div class=\"colab-df-container\">\n",
              "    <button class=\"colab-df-convert\" onclick=\"convertToInteractive('df-339f0f5b-6062-434b-972f-658dd562235e')\"\n",
              "            title=\"Convert this dataframe to an interactive table.\"\n",
              "            style=\"display:none;\">\n",
              "\n",
              "  <svg xmlns=\"http://www.w3.org/2000/svg\" height=\"24px\" viewBox=\"0 -960 960 960\">\n",
              "    <path d=\"M120-120v-720h720v720H120Zm60-500h600v-160H180v160Zm220 220h160v-160H400v160Zm0 220h160v-160H400v160ZM180-400h160v-160H180v160Zm440 0h160v-160H620v160ZM180-180h160v-160H180v160Zm440 0h160v-160H620v160Z\"/>\n",
              "  </svg>\n",
              "    </button>\n",
              "\n",
              "  <style>\n",
              "    .colab-df-container {\n",
              "      display:flex;\n",
              "      gap: 12px;\n",
              "    }\n",
              "\n",
              "    .colab-df-convert {\n",
              "      background-color: #E8F0FE;\n",
              "      border: none;\n",
              "      border-radius: 50%;\n",
              "      cursor: pointer;\n",
              "      display: none;\n",
              "      fill: #1967D2;\n",
              "      height: 32px;\n",
              "      padding: 0 0 0 0;\n",
              "      width: 32px;\n",
              "    }\n",
              "\n",
              "    .colab-df-convert:hover {\n",
              "      background-color: #E2EBFA;\n",
              "      box-shadow: 0px 1px 2px rgba(60, 64, 67, 0.3), 0px 1px 3px 1px rgba(60, 64, 67, 0.15);\n",
              "      fill: #174EA6;\n",
              "    }\n",
              "\n",
              "    .colab-df-buttons div {\n",
              "      margin-bottom: 4px;\n",
              "    }\n",
              "\n",
              "    [theme=dark] .colab-df-convert {\n",
              "      background-color: #3B4455;\n",
              "      fill: #D2E3FC;\n",
              "    }\n",
              "\n",
              "    [theme=dark] .colab-df-convert:hover {\n",
              "      background-color: #434B5C;\n",
              "      box-shadow: 0px 1px 3px 1px rgba(0, 0, 0, 0.15);\n",
              "      filter: drop-shadow(0px 1px 2px rgba(0, 0, 0, 0.3));\n",
              "      fill: #FFFFFF;\n",
              "    }\n",
              "  </style>\n",
              "\n",
              "    <script>\n",
              "      const buttonEl =\n",
              "        document.querySelector('#df-339f0f5b-6062-434b-972f-658dd562235e button.colab-df-convert');\n",
              "      buttonEl.style.display =\n",
              "        google.colab.kernel.accessAllowed ? 'block' : 'none';\n",
              "\n",
              "      async function convertToInteractive(key) {\n",
              "        const element = document.querySelector('#df-339f0f5b-6062-434b-972f-658dd562235e');\n",
              "        const dataTable =\n",
              "          await google.colab.kernel.invokeFunction('convertToInteractive',\n",
              "                                                    [key], {});\n",
              "        if (!dataTable) return;\n",
              "\n",
              "        const docLinkHtml = 'Like what you see? Visit the ' +\n",
              "          '<a target=\"_blank\" href=https://colab.research.google.com/notebooks/data_table.ipynb>data table notebook</a>'\n",
              "          + ' to learn more about interactive tables.';\n",
              "        element.innerHTML = '';\n",
              "        dataTable['output_type'] = 'display_data';\n",
              "        await google.colab.output.renderOutput(dataTable, element);\n",
              "        const docLink = document.createElement('div');\n",
              "        docLink.innerHTML = docLinkHtml;\n",
              "        element.appendChild(docLink);\n",
              "      }\n",
              "    </script>\n",
              "  </div>\n",
              "\n",
              "\n",
              "<div id=\"df-dd560a6c-1372-4eb5-b0d9-fac1a97137e8\">\n",
              "  <button class=\"colab-df-quickchart\" onclick=\"quickchart('df-dd560a6c-1372-4eb5-b0d9-fac1a97137e8')\"\n",
              "            title=\"Suggest charts\"\n",
              "            style=\"display:none;\">\n",
              "\n",
              "<svg xmlns=\"http://www.w3.org/2000/svg\" height=\"24px\"viewBox=\"0 0 24 24\"\n",
              "     width=\"24px\">\n",
              "    <g>\n",
              "        <path d=\"M19 3H5c-1.1 0-2 .9-2 2v14c0 1.1.9 2 2 2h14c1.1 0 2-.9 2-2V5c0-1.1-.9-2-2-2zM9 17H7v-7h2v7zm4 0h-2V7h2v10zm4 0h-2v-4h2v4z\"/>\n",
              "    </g>\n",
              "</svg>\n",
              "  </button>\n",
              "\n",
              "<style>\n",
              "  .colab-df-quickchart {\n",
              "      --bg-color: #E8F0FE;\n",
              "      --fill-color: #1967D2;\n",
              "      --hover-bg-color: #E2EBFA;\n",
              "      --hover-fill-color: #174EA6;\n",
              "      --disabled-fill-color: #AAA;\n",
              "      --disabled-bg-color: #DDD;\n",
              "  }\n",
              "\n",
              "  [theme=dark] .colab-df-quickchart {\n",
              "      --bg-color: #3B4455;\n",
              "      --fill-color: #D2E3FC;\n",
              "      --hover-bg-color: #434B5C;\n",
              "      --hover-fill-color: #FFFFFF;\n",
              "      --disabled-bg-color: #3B4455;\n",
              "      --disabled-fill-color: #666;\n",
              "  }\n",
              "\n",
              "  .colab-df-quickchart {\n",
              "    background-color: var(--bg-color);\n",
              "    border: none;\n",
              "    border-radius: 50%;\n",
              "    cursor: pointer;\n",
              "    display: none;\n",
              "    fill: var(--fill-color);\n",
              "    height: 32px;\n",
              "    padding: 0;\n",
              "    width: 32px;\n",
              "  }\n",
              "\n",
              "  .colab-df-quickchart:hover {\n",
              "    background-color: var(--hover-bg-color);\n",
              "    box-shadow: 0 1px 2px rgba(60, 64, 67, 0.3), 0 1px 3px 1px rgba(60, 64, 67, 0.15);\n",
              "    fill: var(--button-hover-fill-color);\n",
              "  }\n",
              "\n",
              "  .colab-df-quickchart-complete:disabled,\n",
              "  .colab-df-quickchart-complete:disabled:hover {\n",
              "    background-color: var(--disabled-bg-color);\n",
              "    fill: var(--disabled-fill-color);\n",
              "    box-shadow: none;\n",
              "  }\n",
              "\n",
              "  .colab-df-spinner {\n",
              "    border: 2px solid var(--fill-color);\n",
              "    border-color: transparent;\n",
              "    border-bottom-color: var(--fill-color);\n",
              "    animation:\n",
              "      spin 1s steps(1) infinite;\n",
              "  }\n",
              "\n",
              "  @keyframes spin {\n",
              "    0% {\n",
              "      border-color: transparent;\n",
              "      border-bottom-color: var(--fill-color);\n",
              "      border-left-color: var(--fill-color);\n",
              "    }\n",
              "    20% {\n",
              "      border-color: transparent;\n",
              "      border-left-color: var(--fill-color);\n",
              "      border-top-color: var(--fill-color);\n",
              "    }\n",
              "    30% {\n",
              "      border-color: transparent;\n",
              "      border-left-color: var(--fill-color);\n",
              "      border-top-color: var(--fill-color);\n",
              "      border-right-color: var(--fill-color);\n",
              "    }\n",
              "    40% {\n",
              "      border-color: transparent;\n",
              "      border-right-color: var(--fill-color);\n",
              "      border-top-color: var(--fill-color);\n",
              "    }\n",
              "    60% {\n",
              "      border-color: transparent;\n",
              "      border-right-color: var(--fill-color);\n",
              "    }\n",
              "    80% {\n",
              "      border-color: transparent;\n",
              "      border-right-color: var(--fill-color);\n",
              "      border-bottom-color: var(--fill-color);\n",
              "    }\n",
              "    90% {\n",
              "      border-color: transparent;\n",
              "      border-bottom-color: var(--fill-color);\n",
              "    }\n",
              "  }\n",
              "</style>\n",
              "\n",
              "  <script>\n",
              "    async function quickchart(key) {\n",
              "      const quickchartButtonEl =\n",
              "        document.querySelector('#' + key + ' button');\n",
              "      quickchartButtonEl.disabled = true;  // To prevent multiple clicks.\n",
              "      quickchartButtonEl.classList.add('colab-df-spinner');\n",
              "      try {\n",
              "        const charts = await google.colab.kernel.invokeFunction(\n",
              "            'suggestCharts', [key], {});\n",
              "      } catch (error) {\n",
              "        console.error('Error during call to suggestCharts:', error);\n",
              "      }\n",
              "      quickchartButtonEl.classList.remove('colab-df-spinner');\n",
              "      quickchartButtonEl.classList.add('colab-df-quickchart-complete');\n",
              "    }\n",
              "    (() => {\n",
              "      let quickchartButtonEl =\n",
              "        document.querySelector('#df-dd560a6c-1372-4eb5-b0d9-fac1a97137e8 button');\n",
              "      quickchartButtonEl.style.display =\n",
              "        google.colab.kernel.accessAllowed ? 'block' : 'none';\n",
              "    })();\n",
              "  </script>\n",
              "</div>\n",
              "\n",
              "    </div>\n",
              "  </div>\n"
            ],
            "application/vnd.google.colaboratory.intrinsic+json": {
              "type": "dataframe",
              "variable_name": "df_new"
            }
          },
          "metadata": {},
          "execution_count": 11
        }
      ]
    },
    {
      "cell_type": "code",
      "source": [
        "df_new.info()"
      ],
      "metadata": {
        "colab": {
          "base_uri": "https://localhost:8080/"
        },
        "id": "OCEguRLn-JEM",
        "outputId": "210bf010-28ef-455d-808f-9dcb718b31dd"
      },
      "execution_count": 12,
      "outputs": [
        {
          "output_type": "stream",
          "name": "stdout",
          "text": [
            "<class 'pandas.core.frame.DataFrame'>\n",
            "RangeIndex: 17588 entries, 0 to 17587\n",
            "Data columns (total 22 columns):\n",
            " #   Column                Non-Null Count  Dtype  \n",
            "---  ------                --------------  -----  \n",
            " 0   Club_Position         17588 non-null  float64\n",
            " 1   Preffered_Foot_Right  17588 non-null  float64\n",
            " 2   Height                17588 non-null  float64\n",
            " 3   Weak_foot             17588 non-null  float64\n",
            " 4   Skill_Moves           17588 non-null  float64\n",
            " 5   Reactions             17588 non-null  float64\n",
            " 6   Vision                17588 non-null  float64\n",
            " 7   Composure             17588 non-null  float64\n",
            " 8   Speed                 17588 non-null  float64\n",
            " 9   Strength              17588 non-null  float64\n",
            " 10  Balance               17588 non-null  float64\n",
            " 11  Agility               17588 non-null  float64\n",
            " 12  Jumping               17588 non-null  float64\n",
            " 13  Penalties             17588 non-null  float64\n",
            " 14  Aggression            17588 non-null  float64\n",
            " 15  Marking               17588 non-null  float64\n",
            " 16  Crossing              17588 non-null  float64\n",
            " 17  Age                   17588 non-null  float64\n",
            " 18  Long_Pass             17588 non-null  float64\n",
            " 19  Stamina               17588 non-null  float64\n",
            " 20  Heading               17588 non-null  float64\n",
            " 21  label                 17588 non-null  int64  \n",
            "dtypes: float64(21), int64(1)\n",
            "memory usage: 3.0 MB\n"
          ]
        }
      ]
    },
    {
      "cell_type": "markdown",
      "source": [
        " **Justficación de transformaciones**\n",
        "\n",
        "1.   **'Name', 'Nationality':** fueron eliminadas ya que no aportan con información relevante.\n",
        "2.   Se eliminó **'National_Position'**  porque estaba correlacionada con las labels.\n",
        "3.  **'Preffered_Foot'** se le aplicó OneHotEncoder pues solo se tienen 2 categorías y se dejó como referencia si su pie preferido es el derecho.\n",
        "4.**'Weight', 'Ball_Control', 'Dribbling', 'Standing_Tackle', 'Sliding_Tackle', 'Interceptions', 'Short_Pass', 'Acceleration', 'Curve', 'Long_Shots', 'Volleys', 'Finishing', 'Shot_Power','Freekick_Accuracy'** :  fueron eliminadas ya que estaban altamente correlacionadas con otras variables, por lo que solo dejamos una de ellas para no tener información redundante.\n",
        "5. **'Height', 'Weak_foot', 'Skill_Moves', 'Reactions', 'Vision','Composure', 'Speed', 'Strength', 'Balance', 'Agility', 'Jumping', 'Penalties', 'Aggression'**: a estas variables se les aplicó StandarScaler, pues al revisar la distribución de estas, tienen una distribución similar a Gaussiana por lo que se estandarizó para dejar las variables con rangos similares.\n",
        "6. **'Marking', 'Crossing', 'Age', 'Long_Pass', 'Stamina', 'Heading'** a estas variables se les aplicó MinMaxScaler ya que no tienen una distribución gaussiana pero al aplicar esta transformación, todas las variables tendrían el mismo rango de valores lo que ayudaría a mejorar el rendimiento de los algoritmos.\n",
        "7. Se creó una pipeline para **'Club_Position** para imputar el valor nulo por el más frecuente en esa fila y luego se aplicó LabelEncoder para tener solo datos númericos en el dataframe."
      ],
      "metadata": {
        "id": "LxgDgi7PMeOW"
      }
    },
    {
      "cell_type": "code",
      "source": [
        "numerical_cols = (df.select_dtypes('number').columns.to_list())\n",
        "df[numerical_cols].hist(figsize=(15, 15));"
      ],
      "metadata": {
        "collapsed": true,
        "id": "ArbEsIDZOjG5",
        "colab": {
          "base_uri": "https://localhost:8080/",
          "height": 1000
        },
        "outputId": "cca13250-bd0f-424c-8327-3a79a2fc53ba"
      },
      "execution_count": 13,
      "outputs": [
        {
          "output_type": "display_data",
          "data": {
            "text/plain": [
              "<Figure size 1500x1500 with 36 Axes>"
            ],
            "image/png": "[encoded data removed]"
          },
          "metadata": {}
        }
      ]
    },
    {
      "cell_type": "code",
      "source": [
        "df_corr = df[numerical_cols].corr()\n",
        "fig = go.Figure()\n",
        "fig.add_trace(\n",
        "    go.Heatmap(\n",
        "        x = df_corr.columns,\n",
        "        y = df_corr.index,\n",
        "        z = np.array(df_corr),\n",
        "        text=df_corr.values,\n",
        "        texttemplate='%{text:.2f}'\n",
        "        )\n",
        ")\n",
        "fig.update_layout(title_text='Correlación entre las variables numéricas originales',\n",
        "                    height=800, width=1200)\n",
        "fig.show()"
      ],
      "metadata": {
        "id": "NxDNEbVGSK_O",
        "colab": {
          "base_uri": "https://localhost:8080/",
          "height": 817
        },
        "outputId": "9033d6f6-a449-41df-9027-57df0aa21d3e"
      },
      "execution_count": 14,
      "outputs": [
        {
          "output_type": "display_data",
          "data": {
            "text/html": [
              "<html>\n",
              "<head><meta charset=\"utf-8\" /></head>\n",
              "<body>\n",
              "    <div>            <script src=\"https://cdnjs.cloudflare.com/ajax/libs/mathjax/2.7.5/MathJax.js?config=TeX-AMS-MML_SVG\"></script><script type=\"text/javascript\">if (window.MathJax && window.MathJax.Hub && window.MathJax.Hub.Config) {window.MathJax.Hub.Config({SVG: {font: \"STIX-Web\"}});}</script>                <script type=\"text/javascript\">window.PlotlyConfig = {MathJaxConfig: 'local'};</script>\n",
              "        <script charset=\"utf-8\" src=\"https://cdn.plot.ly/plotly-2.35.2.min.js\"></script>                <div id=\"54e5ffe6-c37e-4022-b8a7-5918b359ebfb\" class=\"plotly-graph-div\" style=\"height:800px; width:1200px;\"></div>            <script type=\"text/javascript\">                                    window.PLOTLYENV=window.PLOTLYENV || {};                                    if (document.getElementById(\"54e5ffe6-c37e-4022-b8a7-5918b359ebfb\")) {                    Plotly.newPlot(                        \"54e5ffe6-c37e-4022-b8a7-5918b359ebfb\",                        [{\"text\":[[1.0,0.758213494188663,0.0769004723397927,-0.180301128494731,-0.4310865914753591,-0.4024727165556154,-0.48344288606901054,-0.04255166211108535,-0.0696501013150119,-0.05432674523139626,-0.04891187995483917,-0.016272265520831164,-0.050371185885373954,-0.3594620014954013,-0.1693173172123788,-0.47123345950753487,-0.35674553016754756,-0.32352701518784754,-0.5216732325347947,-0.45111709670782363,-0.2935584739203541,0.5372712781349243,-0.7997748728156734,-0.6111751275656588,-0.06297852385798437,0.00549141702601145,-0.2732684422380292,-0.3469764401289975,-0.3640285871392326,-0.4229526480940005,-0.3799901982390491,-0.3210412912821984,-0.3334061686029571,0.03597086716090656],[0.758213494188663,1.0,0.22348892698172887,-0.13532647212699464,-0.3751119575391422,-0.33838729058338507,-0.4129015256179424,-0.030551321121586143,-0.06234016407526358,-0.04712325912924482,0.017418735472470265,0.07908648803143906,-0.028955616292911036,-0.2830116173401904,-0.08346211530555245,-0.38924188795097026,-0.29925494800920555,-0.2615865039036819,-0.4655551903294981,-0.4042383178412986,-0.24136500863325436,0.6138373131522042,-0.6807981587285961,-0.5353970219458142,0.005880106612898287,0.019305662665786438,-0.18865607125586942,-0.2816682990095504,-0.27435681825529923,-0.34328321488790364,-0.2938183384145813,-0.24606578205695104,-0.2588313943830012,0.056694191637044915],[0.0769004723397927,0.22348892698172887,1.0,0.08637723762269221,-0.01593037618677171,0.08306599626193888,0.0047403789785086465,0.1312197796669397,0.09652735314980865,0.11670090169282892,0.2595643410798892,0.45688859065186255,0.1925825662083279,0.1901852629879079,0.3557655998032046,0.1346942941954945,0.12752769559669475,0.1791450820723457,-0.17593840099874578,-0.16841745274475337,0.07065294144152921,0.3294591412515564,-0.10020216413882842,-0.019456459734494454,0.16880842261379364,0.1380452400121757,0.15140110519168787,0.06477781498340845,0.14985867385660626,0.13933102457013183,0.1956401509677731,0.13178107529470343,0.1342093026589783,0.07912231066854676],[-0.180301128494731,-0.13532647212699464,0.08637723762269221,1.0,0.33695800943309173,0.3674952756561219,0.36345364035195654,0.026852091348999373,0.025791935736898756,0.04358694101101317,0.13423044047019264,0.2072408359699691,0.05812187257089111,0.35233030804846704,0.3165990927859995,0.32417141214243905,0.3389046186499256,0.2981235539048799,0.2571285877597134,0.2408914275627771,0.22859256912176423,-0.004686024831354678,0.25339067351932626,0.3060251006049921,0.06473803211214263,0.19098614354290633,0.33500019358521277,0.3620938428563695,0.3657331060368776,0.35914323519760494,0.3458794693157349,0.3408876354962029,0.3667172848279743,0.07810355613229947],[-0.4310865914753591,-0.3751119575391422,-0.01593037618677171,0.33695800943309173,1.0,0.7271387075520347,0.7626355661787789,0.0327549178412124,0.04299399760420215,0.07080074264584377,0.2304786620599086,0.22331006158491934,0.06739316654674969,0.5916498393717006,0.4908917053893667,0.6447782345784956,0.6280785074785759,0.515640324151427,0.6196029905913579,0.5987065063808372,0.4691833031755331,-0.11692856353370149,0.5426931743223987,0.6373838104767913,0.03521562443254574,0.39167663161151356,0.6402047016415899,0.7152372602301141,0.6804518558233336,0.689281508240788,0.6348778360957622,0.6621174414967165,0.7010300934565336,0.05665436531981633],[-0.4024727165556154,-0.33838729058338507,0.08306599626193888,0.3674952756561219,0.7271387075520347,1.0,0.9311195572649921,0.3553237583098373,0.35694383142128316,0.39161151719559284,0.543188992977865,0.42507022679529577,0.3927656741882161,0.7325480241394129,0.7047602722988879,0.8387825256472525,0.9043631284151635,0.7930758035856982,0.6689862661217241,0.665714948710622,0.7247157242502454,0.08001145036999685,0.5737088975812205,0.695534227918411,0.17286093115826318,0.6581522655604354,0.8299198060421483,0.7812413051251071,0.8318636113474185,0.8320264448359335,0.7633340510901234,0.7678239258999443,0.7893093542857174,0.09304307672177548],[-0.48344288606901054,-0.4129015256179424,0.0047403789785086465,0.36345364035195654,0.7626355661787789,0.9311195572649921,1.0,0.22847006574170012,0.24322097085379607,0.26995287795048895,0.4264366414730845,0.3491760907124513,0.264881182123174,0.7362143186545865,0.6274156369867525,0.8488721687442744,0.8335605649280018,0.7178587413352105,0.7406303941744119,0.725688270618712,0.6764693960934788,-0.04627506118255936,0.6385793952321221,0.7546823641480503,0.11742342450354239,0.548294025866097,0.7950263197764676,0.8170358753986984,0.8360860697761625,0.8400665586754769,0.7500117466739143,0.7652581299866189,0.8046380383195347,0.07692525226200948],[-0.04255166211108535,-0.030551321121586143,0.1312197796669397,0.026852091348999373,0.0327549178412124,0.3553237583098373,0.22847006574170012,1.0,0.9599545956519502,0.9602711205946112,0.7085297843416867,0.2180890135898223,0.9221026593298672,0.09779559646711287,0.32779433675483005,0.3845204720304913,0.47667097923747004,0.5353160774644266,0.13809297459768635,0.16324284895029964,0.5387608263398028,0.32726141229430067,0.11750058001968705,0.08564309203267238,0.2585973662292482,0.5468143537379053,0.21903706799484546,-0.09616493336514635,0.11651171693866255,0.20637299349325874,0.23328460186159206,0.06281183927088158,0.01344638545584168,0.05373487970335267],[-0.0696501013150119,-0.06234016407526358,0.09652735314980865,0.025791935736898756,0.04299399760420215,0.35694383142128316,0.24322097085379607,0.9599545956519502,1.0,0.9717308491249362,0.7027417436935531,0.20071636001542642,0.9151999541443818,0.1081437381589473,0.31488152289180654,0.40052525399974465,0.4792594002978495,0.5402831632523386,0.15917945763242144,0.1813178499403446,0.5383077184942668,0.28780184439553363,0.14526419075953928,0.10345791985532167,0.2548824435985951,0.5238038734307319,0.21737365213184537,-0.09886789983243724,0.11708009026416484,0.2167807770132733,0.2410473863155981,0.05924965036077574,0.015050531489860375,0.045783343958302164],[-0.05432674523139626,-0.04712325912924482,0.11670090169282892,0.04358694101101317,0.07080074264584377,0.39161151719559284,0.26995287795048895,0.9602711205946112,0.9717308491249362,1.0,0.7281344470826636,0.23000980072113808,0.9300550504722926,0.14371080142190662,0.35294486515076123,0.4173272574949811,0.5141244898640097,0.5674104906747359,0.1588847714593267,0.182391391197356,0.5618806424341433,0.32116359092973346,0.13949294802996934,0.11056624715081802,0.2550807645190274,0.5553093777807604,0.2567135537065717,-0.05873986595251511,0.1567690128239747,0.24699781763404083,0.2745781463695254,0.09637971709931253,0.05335479478763491,0.05533527604394466],[-0.04891187995483917,0.017418735472470265,0.2595643410798892,0.13423044047019264,0.2304786620599086,0.543188992977865,0.4264366414730845,0.7085297843416867,0.7027417436935531,0.7281344470826636,1.0,0.39054291996490936,0.7360526530064859,0.31223788059031515,0.5350437699952997,0.4762380214055646,0.5978903296183629,0.5839425897782526,0.2605415118946367,0.2918153574728509,0.6432074593493297,0.45011093982350864,0.1719697579329954,0.23931499087639213,0.3522169250507085,0.677682232604555,0.496362097080345,0.2308082507284398,0.3863386080587319,0.39595521853704635,0.4024663265070562,0.32995023544285756,0.3184633168066319,0.09063691295726506],[-0.016272265520831164,0.07908648803143906,0.45688859065186255,0.2072408359699691,0.22331006158491934,0.42507022679529577,0.3491760907124513,0.2180890135898223,0.20071636001542642,0.23000980072113808,0.39054291996490936,1.0,0.31876082748396756,0.4821710175558766,0.5893948118822238,0.38160997647211076,0.4576635844280181,0.4442795759909163,0.18354567115701384,0.18866853008662446,0.3459944181221045,0.2910602134665306,0.13001119304362863,0.28368672909920845,0.26047608544107104,0.30518694063612917,0.40505581229071863,0.3169473746643523,0.40865297004222423,0.4056527566662809,0.3907124274864287,0.33387564898291194,0.38283588146301145,0.2456293961056065],[-0.050371185885373954,-0.028955616292911036,0.1925825662083279,0.05812187257089111,0.06739316654674969,0.3927656741882161,0.264881182123174,0.9221026593298672,0.9151999541443818,0.9300550504722926,0.7360526530064859,0.31876082748396756,1.0,0.18070624453577686,0.38639724854099844,0.4175861632542376,0.5167526495392809,0.5785136540413296,0.15200727391378555,0.17035098386697956,0.5667607252894609,0.34268004792503026,0.13877909449299797,0.12649980443995543,0.27959456207604044,0.5367298821305502,0.26486704683460827,-0.04490839942944679,0.18130091912731436,0.2607118665837143,0.2927940823698816,0.10473754367762952,0.07106096182137665,0.07452938152160056],[-0.3594620014954013,-0.2830116173401904,0.1901852629879079,0.35233030804846704,0.5916498393717006,0.7325480241394129,0.7362143186545865,0.09779559646711287,0.1081437381589473,0.14371080142190662,0.31223788059031515,0.4821710175558766,0.18070624453577686,1.0,0.648942724739762,0.6885971796337639,0.7281813916609545,0.6991886019168065,0.4571679689196931,0.4312962507275331,0.48230036683870886,-0.03574628040950716,0.476705889542767,0.5948802681587908,0.05417288192601191,0.3059206000085043,0.679285144894353,0.6952279009478479,0.7549013058807369,0.7505340444836351,0.7188022047731203,0.6471191407570566,0.7002722466533087,0.1300699596487779],[-0.1693173172123788,-0.08346211530555245,0.3557655998032046,0.3165990927859995,0.4908917053893667,0.7047602722988879,0.6274156369867525,0.32779433675483005,0.31488152289180654,0.35294486515076123,0.5350437699952997,0.5893948118822238,0.38639724854099844,0.648942724739762,1.0,0.5945355280019211,0.7044803969551716,0.6598282334623046,0.3854887322939241,0.39135813392567664,0.5442676164992791,0.2589723808839294,0.3293461564956059,0.46296404058057594,0.2437111453679667,0.5425614344762828,0.6734185855984156,0.5627728508303429,0.6429766365770382,0.6416972092283264,0.606631959194129,0.5903620260461558,0.6226935562703019,0.17008401631296038],[-0.47123345950753487,-0.38924188795097026,0.1346942941954945,0.32417141214243905,0.6447782345784956,0.8387825256472525,0.8488721687442744,0.3845204720304913,0.40052525399974465,0.4173272574949811,0.4762380214055646,0.38160997647211076,0.4175861632542376,0.6885971796337639,0.5945355280019211,1.0,0.8118533353341137,0.7640628661125807,0.6504423560622152,0.6383931330266569,0.6671152026576389,-0.03226721540812372,0.5939130809332746,0.6816947629997085,0.11782441750795726,0.4828163026185491,0.7042151345609913,0.6443990398916725,0.7405665282370876,0.8268744877829932,0.7610066226912178,0.6480902567447331,0.6849301244232113,0.081004003086568],[-0.35674553016754756,-0.29925494800920555,0.12752769559669475,0.3389046186499256,0.6280785074785759,0.9043631284151635,0.8335605649280018,0.47667097923747004,0.4792594002978495,0.5141244898640097,0.5978903296183629,0.4576635844280181,0.5167526495392809,0.7281813916609545,0.7044803969551716,0.8118533353341137,1.0,0.9007455936843577,0.5589254216855395,0.5553514268533243,0.7084637270794646,0.11858194668131682,0.5156208202161167,0.606181786021612,0.17464749047010142,0.6320585564121697,0.7716874918910523,0.6538746177735825,0.7613466830094895,0.7794148594702368,0.7423279117548949,0.6754008699982182,0.6911199148455299,0.10589099544549348],[-0.32352701518784754,-0.2615865039036819,0.1791450820723457,0.2981235539048799,0.515640324151427,0.7930758035856982,0.7178587413352105,0.5353160774644266,0.5402831632523386,0.5674104906747359,0.5839425897782526,0.4442795759909163,0.5785136540413296,0.6991886019168065,0.6598282334623046,0.7640628661125807,0.9007455936843577,1.0,0.44353883165847563,0.43519382695776,0.6329913109229933,0.10891592716343795,0.45094468745609184,0.5222375953500077,0.14193602802045968,0.5183754118263483,0.6792990792191927,0.5075907443750356,0.6739979031173936,0.7164115803460472,0.7102203125092479,0.5509402606847469,0.5695578339662062,0.10735608973299328],[-0.5216732325347947,-0.4655551903294981,-0.17593840099874578,0.2571285877597134,0.6196029905913579,0.6689862661217241,0.7406303941744119,0.13809297459768635,0.15917945763242144,0.1588847714593267,0.2605415118946367,0.18354567115701384,0.15200727391378555,0.4571679689196931,0.3854887322939241,0.6504423560622152,0.5589254216855395,0.44353883165847563,1.0,0.9226815028691796,0.6128459705997871,-0.16405947444980884,0.6815473011834534,0.7925857682539618,0.20930934837307452,0.3459114029027967,0.5382741131455353,0.5917602540969343,0.5714500319106478,0.5957706383435727,0.48616253601321685,0.5222549117219969,0.5631620937399486,0.05758678856488237],[-0.45111709670782363,-0.4042383178412986,-0.16841745274475337,0.2408914275627771,0.5987065063808372,0.665714948710622,0.725688270618712,0.16324284895029964,0.1813178499403446,0.182391391197356,0.2918153574728509,0.18866853008662446,0.17035098386697956,0.4312962507275331,0.39135813392567664,0.6383931330266569,0.5553514268533243,0.43519382695776,0.9226815028691796,1.0,0.6274961814467263,-0.08594385020367078,0.6195496693858945,0.7485921113793306,0.23236955368682138,0.39828017735476273,0.548921049303693,0.5825157786889101,0.5579733553516547,0.5763217342853308,0.4622919870403331,0.5157402542379245,0.5552572065564368,0.06175726114492116],[-0.2935584739203541,-0.24136500863325436,0.07065294144152921,0.22859256912176423,0.4691833031755331,0.7247157242502454,0.6764693960934788,0.5387608263398028,0.5383077184942668,0.5618806424341433,0.6432074593493297,0.3459944181221045,0.5667607252894609,0.48230036683870886,0.5442676164992791,0.6671152026576389,0.7084637270794646,0.6329913109229933,0.6128459705997871,0.6274961814467263,1.0,0.2302197695331151,0.4582679749049325,0.5573332846567042,0.33150649192178,0.6405518358330495,0.6202073964513515,0.4958377255933319,0.5911135767992073,0.5868272434068957,0.5369982967805692,0.5162842283823733,0.5231091035975849,0.08652769095389685],[0.5372712781349243,0.6138373131522042,0.3294591412515564,-0.004686024831354678,-0.11692856353370149,0.08001145036999685,-0.04627506118255936,0.32726141229430067,0.28780184439553363,0.32116359092973346,0.45011093982350864,0.2910602134665306,0.34268004792503026,-0.03574628040950716,0.2589723808839294,-0.03226721540812372,0.11858194668131682,0.10891592716343795,-0.16405947444980884,-0.08594385020367078,0.2302197695331151,1.0,-0.4190644882651471,-0.24375400145291257,0.26892957688562624,0.45846511752115704,0.1730063779481826,-0.01182704228478476,0.045610778716561544,-0.036098743828237766,-0.0034691569041815327,0.05258637014450231,0.022946175484735404,0.08497049894003479],[-0.7997748728156734,-0.6807981587285961,-0.10020216413882842,0.25339067351932626,0.5426931743223987,0.5737088975812205,0.6385793952321221,0.11750058001968705,0.14526419075953928,0.13949294802996934,0.1719697579329954,0.13001119304362863,0.13877909449299797,0.476705889542767,0.3293461564956059,0.5939130809332746,0.5156208202161167,0.45094468745609184,0.6815473011834534,0.6195496693858945,0.4582679749049325,-0.4190644882651471,1.0,0.748221064691225,0.16766699855646974,0.15700927590623878,0.42920771789324164,0.48659053178413686,0.5046334545665155,0.5587685690688098,0.493299333106462,0.45326260884909214,0.4847433385705878,0.01691065049776891],[-0.6111751275656588,-0.5353970219458142,-0.019456459734494454,0.3060251006049921,0.6373838104767913,0.695534227918411,0.7546823641480503,0.08564309203267238,0.10345791985532167,0.11056624715081802,0.23931499087639213,0.28368672909920845,0.12649980443995543,0.5948802681587908,0.46296404058057594,0.6816947629997085,0.606181786021612,0.5222375953500077,0.7925857682539618,0.7485921113793306,0.5573332846567042,-0.24375400145291257,0.748221064691225,1.0,0.20883025727002255,0.2666773174069743,0.5637298740978168,0.6270855415675483,0.6372679037740376,0.6683412844931381,0.5776136576393908,0.5526036617810827,0.6165110026300598,0.05809167684434565],[-0.06297852385798437,0.005880106612898287,0.16880842261379364,0.06473803211214263,0.03521562443254574,0.17286093115826318,0.11742342450354239,0.2585973662292482,0.2548824435985951,0.2550807645190274,0.3522169250507085,0.26047608544107104,0.27959456207604044,0.05417288192601191,0.2437111453679667,0.11782441750795726,0.17464749047010142,0.14193602802045968,0.20930934837307452,0.23236955368682138,0.33150649192178,0.26892957688562624,0.16766699855646974,0.20883025727002255,1.0,0.3602826239285153,0.17018880131235845,0.07039694905431998,0.11197707110999533,0.08803899563487934,0.06378113447357546,0.1095414182386664,0.1025467254576213,0.069323566571944],[0.00549141702601145,0.019305662665786438,0.1380452400121757,0.19098614354290633,0.39167663161151356,0.6581522655604354,0.548294025866097,0.5468143537379053,0.5238038734307319,0.5553093777807604,0.677682232604555,0.30518694063612917,0.5367298821305502,0.3059206000085043,0.5425614344762828,0.4828163026185491,0.6320585564121697,0.5183754118263483,0.3459114029027967,0.39828017735476273,0.6405518358330495,0.45846511752115704,0.15700927590623878,0.2666773174069743,0.3602826239285153,1.0,0.6198741280307577,0.47637073369916216,0.5066639093705376,0.45164131594926055,0.426106020101997,0.5535278697013808,0.5025943882712188,0.06763755074825986],[-0.2732684422380292,-0.18865607125586942,0.15140110519168787,0.33500019358521277,0.6402047016415899,0.8299198060421483,0.7950263197764676,0.21903706799484546,0.21737365213184537,0.2567135537065717,0.496362097080345,0.40505581229071863,0.26486704683460827,0.679285144894353,0.6734185855984156,0.7042151345609913,0.7716874918910523,0.6792990792191927,0.5382741131455353,0.548921049303693,0.6202073964513515,0.1730063779481826,0.42920771789324164,0.5637298740978168,0.17018880131235845,0.6198741280307577,1.0,0.7972364268734535,0.8800317150270125,0.7849690462591694,0.7491053303590469,0.7865520697554418,0.8173470995324431,0.09457928504077767],[-0.3469764401289975,-0.2816682990095504,0.06477781498340845,0.3620938428563695,0.7152372602301141,0.7812413051251071,0.8170358753986984,-0.09616493336514635,-0.09886789983243724,-0.05873986595251511,0.2308082507284398,0.3169473746643523,-0.04490839942944679,0.6952279009478479,0.5627728508303429,0.6443990398916725,0.6538746177735825,0.5075907443750356,0.5917602540969343,0.5825157786889101,0.4958377255933319,-0.01182704228478476,0.48659053178413686,0.6270855415675483,0.07039694905431998,0.47637073369916216,0.7972364268734535,1.0,0.8632091946140125,0.750740667571031,0.687790957785473,0.8347425145280826,0.8761610717099687,0.07866971731641245],[-0.3640285871392326,-0.27435681825529923,0.14985867385660626,0.3657331060368776,0.6804518558233336,0.8318636113474185,0.8360860697761625,0.11651171693866255,0.11708009026416484,0.1567690128239747,0.3863386080587319,0.40865297004222423,0.18130091912731436,0.7549013058807369,0.6429766365770382,0.7405665282370876,0.7613466830094895,0.6739979031173936,0.5714500319106478,0.5579733553516547,0.5911135767992073,0.045610778716561544,0.5046334545665155,0.6372679037740376,0.11197707110999533,0.5066639093705376,0.8800317150270125,0.8632091946140125,1.0,0.8307331839600658,0.801375405698257,0.8068373954821648,0.8573254595923285,0.09299958685841254],[-0.4229526480940005,-0.34328321488790364,0.13933102457013183,0.35914323519760494,0.689281508240788,0.8320264448359335,0.8400665586754769,0.20637299349325874,0.2167807770132733,0.24699781763404083,0.39595521853704635,0.4056527566662809,0.2607118665837143,0.7505340444836351,0.6416972092283264,0.8268744877829932,0.7794148594702368,0.7164115803460472,0.5957706383435727,0.5763217342853308,0.5868272434068957,-0.036098743828237766,0.5587685690688098,0.6683412844931381,0.08803899563487934,0.45164131594926055,0.7849690462591694,0.750740667571031,0.8307331839600658,1.0,0.8560872756767565,0.7507395870933882,0.7994758131556234,0.08305729039255796],[-0.3799901982390491,-0.2938183384145813,0.1956401509677731,0.3458794693157349,0.6348778360957622,0.7633340510901234,0.7500117466739143,0.23328460186159206,0.2410473863155981,0.2745781463695254,0.4024663265070562,0.3907124274864287,0.2927940823698816,0.7188022047731203,0.606631959194129,0.7610066226912178,0.7423279117548949,0.7102203125092479,0.48616253601321685,0.4622919870403331,0.5369982967805692,-0.0034691569041815327,0.493299333106462,0.5776136576393908,0.06378113447357546,0.426106020101997,0.7491053303590469,0.687790957785473,0.801375405698257,0.8560872756767565,1.0,0.7327623817486443,0.7377559879386991,0.08489893712237027],[-0.3210412912821984,-0.24606578205695104,0.13178107529470343,0.3408876354962029,0.6621174414967165,0.7678239258999443,0.7652581299866189,0.06281183927088158,0.05924965036077574,0.09637971709931253,0.32995023544285756,0.33387564898291194,0.10473754367762952,0.6471191407570566,0.5903620260461558,0.6480902567447331,0.6754008699982182,0.5509402606847469,0.5222549117219969,0.5157402542379245,0.5162842283823733,0.05258637014450231,0.45326260884909214,0.5526036617810827,0.1095414182386664,0.5535278697013808,0.7865520697554418,0.8347425145280826,0.8068373954821648,0.7507395870933882,0.7327623817486443,1.0,0.8169949686579452,0.07396223876044988],[-0.3334061686029571,-0.2588313943830012,0.1342093026589783,0.3667172848279743,0.7010300934565336,0.7893093542857174,0.8046380383195347,0.01344638545584168,0.015050531489860375,0.05335479478763491,0.3184633168066319,0.38283588146301145,0.07106096182137665,0.7002722466533087,0.6226935562703019,0.6849301244232113,0.6911199148455299,0.5695578339662062,0.5631620937399486,0.5552572065564368,0.5231091035975849,0.022946175484735404,0.4847433385705878,0.6165110026300598,0.1025467254576213,0.5025943882712188,0.8173470995324431,0.8761610717099687,0.8573254595923285,0.7994758131556234,0.7377559879386991,0.8169949686579452,1.0,0.09410248204899836],[0.03597086716090656,0.056694191637044915,0.07912231066854676,0.07810355613229947,0.05665436531981633,0.09304307672177548,0.07692525226200948,0.05373487970335267,0.045783343958302164,0.05533527604394466,0.09063691295726506,0.2456293961056065,0.07452938152160056,0.1300699596487779,0.17008401631296038,0.081004003086568,0.10589099544549348,0.10735608973299328,0.05758678856488237,0.06175726114492116,0.08652769095389685,0.08497049894003479,0.01691065049776891,0.05809167684434565,0.069323566571944,0.06763755074825986,0.09457928504077767,0.07866971731641245,0.09299958685841254,0.08305729039255796,0.08489893712237027,0.07396223876044988,0.09410248204899836,1.0]],\"texttemplate\":\"%{text:.2f}\",\"x\":[\"Height\",\"Weight\",\"Age\",\"Weak_foot\",\"Skill_Moves\",\"Ball_Control\",\"Dribbling\",\"Marking\",\"Sliding_Tackle\",\"Standing_Tackle\",\"Aggression\",\"Reactions\",\"Interceptions\",\"Vision\",\"Composure\",\"Crossing\",\"Short_Pass\",\"Long_Pass\",\"Acceleration\",\"Speed\",\"Stamina\",\"Strength\",\"Balance\",\"Agility\",\"Jumping\",\"Heading\",\"Shot_Power\",\"Finishing\",\"Long_Shots\",\"Curve\",\"Freekick_Accuracy\",\"Penalties\",\"Volleys\",\"label\"],\"y\":[\"Height\",\"Weight\",\"Age\",\"Weak_foot\",\"Skill_Moves\",\"Ball_Control\",\"Dribbling\",\"Marking\",\"Sliding_Tackle\",\"Standing_Tackle\",\"Aggression\",\"Reactions\",\"Interceptions\",\"Vision\",\"Composure\",\"Crossing\",\"Short_Pass\",\"Long_Pass\",\"Acceleration\",\"Speed\",\"Stamina\",\"Strength\",\"Balance\",\"Agility\",\"Jumping\",\"Heading\",\"Shot_Power\",\"Finishing\",\"Long_Shots\",\"Curve\",\"Freekick_Accuracy\",\"Penalties\",\"Volleys\",\"label\"],\"z\":[[1.0,0.758213494188663,0.0769004723397927,-0.180301128494731,-0.4310865914753591,-0.4024727165556154,-0.48344288606901054,-0.04255166211108535,-0.0696501013150119,-0.05432674523139626,-0.04891187995483917,-0.016272265520831164,-0.050371185885373954,-0.3594620014954013,-0.1693173172123788,-0.47123345950753487,-0.35674553016754756,-0.32352701518784754,-0.5216732325347947,-0.45111709670782363,-0.2935584739203541,0.5372712781349243,-0.7997748728156734,-0.6111751275656588,-0.06297852385798437,0.00549141702601145,-0.2732684422380292,-0.3469764401289975,-0.3640285871392326,-0.4229526480940005,-0.3799901982390491,-0.3210412912821984,-0.3334061686029571,0.03597086716090656],[0.758213494188663,1.0,0.22348892698172887,-0.13532647212699464,-0.3751119575391422,-0.33838729058338507,-0.4129015256179424,-0.030551321121586143,-0.06234016407526358,-0.04712325912924482,0.017418735472470265,0.07908648803143906,-0.028955616292911036,-0.2830116173401904,-0.08346211530555245,-0.38924188795097026,-0.29925494800920555,-0.2615865039036819,-0.4655551903294981,-0.4042383178412986,-0.24136500863325436,0.6138373131522042,-0.6807981587285961,-0.5353970219458142,0.005880106612898287,0.019305662665786438,-0.18865607125586942,-0.2816682990095504,-0.27435681825529923,-0.34328321488790364,-0.2938183384145813,-0.24606578205695104,-0.2588313943830012,0.056694191637044915],[0.0769004723397927,0.22348892698172887,1.0,0.08637723762269221,-0.01593037618677171,0.08306599626193888,0.0047403789785086465,0.1312197796669397,0.09652735314980865,0.11670090169282892,0.2595643410798892,0.45688859065186255,0.1925825662083279,0.1901852629879079,0.3557655998032046,0.1346942941954945,0.12752769559669475,0.1791450820723457,-0.17593840099874578,-0.16841745274475337,0.07065294144152921,0.3294591412515564,-0.10020216413882842,-0.019456459734494454,0.16880842261379364,0.1380452400121757,0.15140110519168787,0.06477781498340845,0.14985867385660626,0.13933102457013183,0.1956401509677731,0.13178107529470343,0.1342093026589783,0.07912231066854676],[-0.180301128494731,-0.13532647212699464,0.08637723762269221,1.0,0.33695800943309173,0.3674952756561219,0.36345364035195654,0.026852091348999373,0.025791935736898756,0.04358694101101317,0.13423044047019264,0.2072408359699691,0.05812187257089111,0.35233030804846704,0.3165990927859995,0.32417141214243905,0.3389046186499256,0.2981235539048799,0.2571285877597134,0.2408914275627771,0.22859256912176423,-0.004686024831354678,0.25339067351932626,0.3060251006049921,0.06473803211214263,0.19098614354290633,0.33500019358521277,0.3620938428563695,0.3657331060368776,0.35914323519760494,0.3458794693157349,0.3408876354962029,0.3667172848279743,0.07810355613229947],[-0.4310865914753591,-0.3751119575391422,-0.01593037618677171,0.33695800943309173,1.0,0.7271387075520347,0.7626355661787789,0.0327549178412124,0.04299399760420215,0.07080074264584377,0.2304786620599086,0.22331006158491934,0.06739316654674969,0.5916498393717006,0.4908917053893667,0.6447782345784956,0.6280785074785759,0.515640324151427,0.6196029905913579,0.5987065063808372,0.4691833031755331,-0.11692856353370149,0.5426931743223987,0.6373838104767913,0.03521562443254574,0.39167663161151356,0.6402047016415899,0.7152372602301141,0.6804518558233336,0.689281508240788,0.6348778360957622,0.6621174414967165,0.7010300934565336,0.05665436531981633],[-0.4024727165556154,-0.33838729058338507,0.08306599626193888,0.3674952756561219,0.7271387075520347,1.0,0.9311195572649921,0.3553237583098373,0.35694383142128316,0.39161151719559284,0.543188992977865,0.42507022679529577,0.3927656741882161,0.7325480241394129,0.7047602722988879,0.8387825256472525,0.9043631284151635,0.7930758035856982,0.6689862661217241,0.665714948710622,0.7247157242502454,0.08001145036999685,0.5737088975812205,0.695534227918411,0.17286093115826318,0.6581522655604354,0.8299198060421483,0.7812413051251071,0.8318636113474185,0.8320264448359335,0.7633340510901234,0.7678239258999443,0.7893093542857174,0.09304307672177548],[-0.48344288606901054,-0.4129015256179424,0.0047403789785086465,0.36345364035195654,0.7626355661787789,0.9311195572649921,1.0,0.22847006574170012,0.24322097085379607,0.26995287795048895,0.4264366414730845,0.3491760907124513,0.264881182123174,0.7362143186545865,0.6274156369867525,0.8488721687442744,0.8335605649280018,0.7178587413352105,0.7406303941744119,0.725688270618712,0.6764693960934788,-0.04627506118255936,0.6385793952321221,0.7546823641480503,0.11742342450354239,0.548294025866097,0.7950263197764676,0.8170358753986984,0.8360860697761625,0.8400665586754769,0.7500117466739143,0.7652581299866189,0.8046380383195347,0.07692525226200948],[-0.04255166211108535,-0.030551321121586143,0.1312197796669397,0.026852091348999373,0.0327549178412124,0.3553237583098373,0.22847006574170012,1.0,0.9599545956519502,0.9602711205946112,0.7085297843416867,0.2180890135898223,0.9221026593298672,0.09779559646711287,0.32779433675483005,0.3845204720304913,0.47667097923747004,0.5353160774644266,0.13809297459768635,0.16324284895029964,0.5387608263398028,0.32726141229430067,0.11750058001968705,0.08564309203267238,0.2585973662292482,0.5468143537379053,0.21903706799484546,-0.09616493336514635,0.11651171693866255,0.20637299349325874,0.23328460186159206,0.06281183927088158,0.01344638545584168,0.05373487970335267],[-0.0696501013150119,-0.06234016407526358,0.09652735314980865,0.025791935736898756,0.04299399760420215,0.35694383142128316,0.24322097085379607,0.9599545956519502,1.0,0.9717308491249362,0.7027417436935531,0.20071636001542642,0.9151999541443818,0.1081437381589473,0.31488152289180654,0.40052525399974465,0.4792594002978495,0.5402831632523386,0.15917945763242144,0.1813178499403446,0.5383077184942668,0.28780184439553363,0.14526419075953928,0.10345791985532167,0.2548824435985951,0.5238038734307319,0.21737365213184537,-0.09886789983243724,0.11708009026416484,0.2167807770132733,0.2410473863155981,0.05924965036077574,0.015050531489860375,0.045783343958302164],[-0.05432674523139626,-0.04712325912924482,0.11670090169282892,0.04358694101101317,0.07080074264584377,0.39161151719559284,0.26995287795048895,0.9602711205946112,0.9717308491249362,1.0,0.7281344470826636,0.23000980072113808,0.9300550504722926,0.14371080142190662,0.35294486515076123,0.4173272574949811,0.5141244898640097,0.5674104906747359,0.1588847714593267,0.182391391197356,0.5618806424341433,0.32116359092973346,0.13949294802996934,0.11056624715081802,0.2550807645190274,0.5553093777807604,0.2567135537065717,-0.05873986595251511,0.1567690128239747,0.24699781763404083,0.2745781463695254,0.09637971709931253,0.05335479478763491,0.05533527604394466],[-0.04891187995483917,0.017418735472470265,0.2595643410798892,0.13423044047019264,0.2304786620599086,0.543188992977865,0.4264366414730845,0.7085297843416867,0.7027417436935531,0.7281344470826636,1.0,0.39054291996490936,0.7360526530064859,0.31223788059031515,0.5350437699952997,0.4762380214055646,0.5978903296183629,0.5839425897782526,0.2605415118946367,0.2918153574728509,0.6432074593493297,0.45011093982350864,0.1719697579329954,0.23931499087639213,0.3522169250507085,0.677682232604555,0.496362097080345,0.2308082507284398,0.3863386080587319,0.39595521853704635,0.4024663265070562,0.32995023544285756,0.3184633168066319,0.09063691295726506],[-0.016272265520831164,0.07908648803143906,0.45688859065186255,0.2072408359699691,0.22331006158491934,0.42507022679529577,0.3491760907124513,0.2180890135898223,0.20071636001542642,0.23000980072113808,0.39054291996490936,1.0,0.31876082748396756,0.4821710175558766,0.5893948118822238,0.38160997647211076,0.4576635844280181,0.4442795759909163,0.18354567115701384,0.18866853008662446,0.3459944181221045,0.2910602134665306,0.13001119304362863,0.28368672909920845,0.26047608544107104,0.30518694063612917,0.40505581229071863,0.3169473746643523,0.40865297004222423,0.4056527566662809,0.3907124274864287,0.33387564898291194,0.38283588146301145,0.2456293961056065],[-0.050371185885373954,-0.028955616292911036,0.1925825662083279,0.05812187257089111,0.06739316654674969,0.3927656741882161,0.264881182123174,0.9221026593298672,0.9151999541443818,0.9300550504722926,0.7360526530064859,0.31876082748396756,1.0,0.18070624453577686,0.38639724854099844,0.4175861632542376,0.5167526495392809,0.5785136540413296,0.15200727391378555,0.17035098386697956,0.5667607252894609,0.34268004792503026,0.13877909449299797,0.12649980443995543,0.27959456207604044,0.5367298821305502,0.26486704683460827,-0.04490839942944679,0.18130091912731436,0.2607118665837143,0.2927940823698816,0.10473754367762952,0.07106096182137665,0.07452938152160056],[-0.3594620014954013,-0.2830116173401904,0.1901852629879079,0.35233030804846704,0.5916498393717006,0.7325480241394129,0.7362143186545865,0.09779559646711287,0.1081437381589473,0.14371080142190662,0.31223788059031515,0.4821710175558766,0.18070624453577686,1.0,0.648942724739762,0.6885971796337639,0.7281813916609545,0.6991886019168065,0.4571679689196931,0.4312962507275331,0.48230036683870886,-0.03574628040950716,0.476705889542767,0.5948802681587908,0.05417288192601191,0.3059206000085043,0.679285144894353,0.6952279009478479,0.7549013058807369,0.7505340444836351,0.7188022047731203,0.6471191407570566,0.7002722466533087,0.1300699596487779],[-0.1693173172123788,-0.08346211530555245,0.3557655998032046,0.3165990927859995,0.4908917053893667,0.7047602722988879,0.6274156369867525,0.32779433675483005,0.31488152289180654,0.35294486515076123,0.5350437699952997,0.5893948118822238,0.38639724854099844,0.648942724739762,1.0,0.5945355280019211,0.7044803969551716,0.6598282334623046,0.3854887322939241,0.39135813392567664,0.5442676164992791,0.2589723808839294,0.3293461564956059,0.46296404058057594,0.2437111453679667,0.5425614344762828,0.6734185855984156,0.5627728508303429,0.6429766365770382,0.6416972092283264,0.606631959194129,0.5903620260461558,0.6226935562703019,0.17008401631296038],[-0.47123345950753487,-0.38924188795097026,0.1346942941954945,0.32417141214243905,0.6447782345784956,0.8387825256472525,0.8488721687442744,0.3845204720304913,0.40052525399974465,0.4173272574949811,0.4762380214055646,0.38160997647211076,0.4175861632542376,0.6885971796337639,0.5945355280019211,1.0,0.8118533353341137,0.7640628661125807,0.6504423560622152,0.6383931330266569,0.6671152026576389,-0.03226721540812372,0.5939130809332746,0.6816947629997085,0.11782441750795726,0.4828163026185491,0.7042151345609913,0.6443990398916725,0.7405665282370876,0.8268744877829932,0.7610066226912178,0.6480902567447331,0.6849301244232113,0.081004003086568],[-0.35674553016754756,-0.29925494800920555,0.12752769559669475,0.3389046186499256,0.6280785074785759,0.9043631284151635,0.8335605649280018,0.47667097923747004,0.4792594002978495,0.5141244898640097,0.5978903296183629,0.4576635844280181,0.5167526495392809,0.7281813916609545,0.7044803969551716,0.8118533353341137,1.0,0.9007455936843577,0.5589254216855395,0.5553514268533243,0.7084637270794646,0.11858194668131682,0.5156208202161167,0.606181786021612,0.17464749047010142,0.6320585564121697,0.7716874918910523,0.6538746177735825,0.7613466830094895,0.7794148594702368,0.7423279117548949,0.6754008699982182,0.6911199148455299,0.10589099544549348],[-0.32352701518784754,-0.2615865039036819,0.1791450820723457,0.2981235539048799,0.515640324151427,0.7930758035856982,0.7178587413352105,0.5353160774644266,0.5402831632523386,0.5674104906747359,0.5839425897782526,0.4442795759909163,0.5785136540413296,0.6991886019168065,0.6598282334623046,0.7640628661125807,0.9007455936843577,1.0,0.44353883165847563,0.43519382695776,0.6329913109229933,0.10891592716343795,0.45094468745609184,0.5222375953500077,0.14193602802045968,0.5183754118263483,0.6792990792191927,0.5075907443750356,0.6739979031173936,0.7164115803460472,0.7102203125092479,0.5509402606847469,0.5695578339662062,0.10735608973299328],[-0.5216732325347947,-0.4655551903294981,-0.17593840099874578,0.2571285877597134,0.6196029905913579,0.6689862661217241,0.7406303941744119,0.13809297459768635,0.15917945763242144,0.1588847714593267,0.2605415118946367,0.18354567115701384,0.15200727391378555,0.4571679689196931,0.3854887322939241,0.6504423560622152,0.5589254216855395,0.44353883165847563,1.0,0.9226815028691796,0.6128459705997871,-0.16405947444980884,0.6815473011834534,0.7925857682539618,0.20930934837307452,0.3459114029027967,0.5382741131455353,0.5917602540969343,0.5714500319106478,0.5957706383435727,0.48616253601321685,0.5222549117219969,0.5631620937399486,0.05758678856488237],[-0.45111709670782363,-0.4042383178412986,-0.16841745274475337,0.2408914275627771,0.5987065063808372,0.665714948710622,0.725688270618712,0.16324284895029964,0.1813178499403446,0.182391391197356,0.2918153574728509,0.18866853008662446,0.17035098386697956,0.4312962507275331,0.39135813392567664,0.6383931330266569,0.5553514268533243,0.43519382695776,0.9226815028691796,1.0,0.6274961814467263,-0.08594385020367078,0.6195496693858945,0.7485921113793306,0.23236955368682138,0.39828017735476273,0.548921049303693,0.5825157786889101,0.5579733553516547,0.5763217342853308,0.4622919870403331,0.5157402542379245,0.5552572065564368,0.06175726114492116],[-0.2935584739203541,-0.24136500863325436,0.07065294144152921,0.22859256912176423,0.4691833031755331,0.7247157242502454,0.6764693960934788,0.5387608263398028,0.5383077184942668,0.5618806424341433,0.6432074593493297,0.3459944181221045,0.5667607252894609,0.48230036683870886,0.5442676164992791,0.6671152026576389,0.7084637270794646,0.6329913109229933,0.6128459705997871,0.6274961814467263,1.0,0.2302197695331151,0.4582679749049325,0.5573332846567042,0.33150649192178,0.6405518358330495,0.6202073964513515,0.4958377255933319,0.5911135767992073,0.5868272434068957,0.5369982967805692,0.5162842283823733,0.5231091035975849,0.08652769095389685],[0.5372712781349243,0.6138373131522042,0.3294591412515564,-0.004686024831354678,-0.11692856353370149,0.08001145036999685,-0.04627506118255936,0.32726141229430067,0.28780184439553363,0.32116359092973346,0.45011093982350864,0.2910602134665306,0.34268004792503026,-0.03574628040950716,0.2589723808839294,-0.03226721540812372,0.11858194668131682,0.10891592716343795,-0.16405947444980884,-0.08594385020367078,0.2302197695331151,1.0,-0.4190644882651471,-0.24375400145291257,0.26892957688562624,0.45846511752115704,0.1730063779481826,-0.01182704228478476,0.045610778716561544,-0.036098743828237766,-0.0034691569041815327,0.05258637014450231,0.022946175484735404,0.08497049894003479],[-0.7997748728156734,-0.6807981587285961,-0.10020216413882842,0.25339067351932626,0.5426931743223987,0.5737088975812205,0.6385793952321221,0.11750058001968705,0.14526419075953928,0.13949294802996934,0.1719697579329954,0.13001119304362863,0.13877909449299797,0.476705889542767,0.3293461564956059,0.5939130809332746,0.5156208202161167,0.45094468745609184,0.6815473011834534,0.6195496693858945,0.4582679749049325,-0.4190644882651471,1.0,0.748221064691225,0.16766699855646974,0.15700927590623878,0.42920771789324164,0.48659053178413686,0.5046334545665155,0.5587685690688098,0.493299333106462,0.45326260884909214,0.4847433385705878,0.01691065049776891],[-0.6111751275656588,-0.5353970219458142,-0.019456459734494454,0.3060251006049921,0.6373838104767913,0.695534227918411,0.7546823641480503,0.08564309203267238,0.10345791985532167,0.11056624715081802,0.23931499087639213,0.28368672909920845,0.12649980443995543,0.5948802681587908,0.46296404058057594,0.6816947629997085,0.606181786021612,0.5222375953500077,0.7925857682539618,0.7485921113793306,0.5573332846567042,-0.24375400145291257,0.748221064691225,1.0,0.20883025727002255,0.2666773174069743,0.5637298740978168,0.6270855415675483,0.6372679037740376,0.6683412844931381,0.5776136576393908,0.5526036617810827,0.6165110026300598,0.05809167684434565],[-0.06297852385798437,0.005880106612898287,0.16880842261379364,0.06473803211214263,0.03521562443254574,0.17286093115826318,0.11742342450354239,0.2585973662292482,0.2548824435985951,0.2550807645190274,0.3522169250507085,0.26047608544107104,0.27959456207604044,0.05417288192601191,0.2437111453679667,0.11782441750795726,0.17464749047010142,0.14193602802045968,0.20930934837307452,0.23236955368682138,0.33150649192178,0.26892957688562624,0.16766699855646974,0.20883025727002255,1.0,0.3602826239285153,0.17018880131235845,0.07039694905431998,0.11197707110999533,0.08803899563487934,0.06378113447357546,0.1095414182386664,0.1025467254576213,0.069323566571944],[0.00549141702601145,0.019305662665786438,0.1380452400121757,0.19098614354290633,0.39167663161151356,0.6581522655604354,0.548294025866097,0.5468143537379053,0.5238038734307319,0.5553093777807604,0.677682232604555,0.30518694063612917,0.5367298821305502,0.3059206000085043,0.5425614344762828,0.4828163026185491,0.6320585564121697,0.5183754118263483,0.3459114029027967,0.39828017735476273,0.6405518358330495,0.45846511752115704,0.15700927590623878,0.2666773174069743,0.3602826239285153,1.0,0.6198741280307577,0.47637073369916216,0.5066639093705376,0.45164131594926055,0.426106020101997,0.5535278697013808,0.5025943882712188,0.06763755074825986],[-0.2732684422380292,-0.18865607125586942,0.15140110519168787,0.33500019358521277,0.6402047016415899,0.8299198060421483,0.7950263197764676,0.21903706799484546,0.21737365213184537,0.2567135537065717,0.496362097080345,0.40505581229071863,0.26486704683460827,0.679285144894353,0.6734185855984156,0.7042151345609913,0.7716874918910523,0.6792990792191927,0.5382741131455353,0.548921049303693,0.6202073964513515,0.1730063779481826,0.42920771789324164,0.5637298740978168,0.17018880131235845,0.6198741280307577,1.0,0.7972364268734535,0.8800317150270125,0.7849690462591694,0.7491053303590469,0.7865520697554418,0.8173470995324431,0.09457928504077767],[-0.3469764401289975,-0.2816682990095504,0.06477781498340845,0.3620938428563695,0.7152372602301141,0.7812413051251071,0.8170358753986984,-0.09616493336514635,-0.09886789983243724,-0.05873986595251511,0.2308082507284398,0.3169473746643523,-0.04490839942944679,0.6952279009478479,0.5627728508303429,0.6443990398916725,0.6538746177735825,0.5075907443750356,0.5917602540969343,0.5825157786889101,0.4958377255933319,-0.01182704228478476,0.48659053178413686,0.6270855415675483,0.07039694905431998,0.47637073369916216,0.7972364268734535,1.0,0.8632091946140125,0.750740667571031,0.687790957785473,0.8347425145280826,0.8761610717099687,0.07866971731641245],[-0.3640285871392326,-0.27435681825529923,0.14985867385660626,0.3657331060368776,0.6804518558233336,0.8318636113474185,0.8360860697761625,0.11651171693866255,0.11708009026416484,0.1567690128239747,0.3863386080587319,0.40865297004222423,0.18130091912731436,0.7549013058807369,0.6429766365770382,0.7405665282370876,0.7613466830094895,0.6739979031173936,0.5714500319106478,0.5579733553516547,0.5911135767992073,0.045610778716561544,0.5046334545665155,0.6372679037740376,0.11197707110999533,0.5066639093705376,0.8800317150270125,0.8632091946140125,1.0,0.8307331839600658,0.801375405698257,0.8068373954821648,0.8573254595923285,0.09299958685841254],[-0.4229526480940005,-0.34328321488790364,0.13933102457013183,0.35914323519760494,0.689281508240788,0.8320264448359335,0.8400665586754769,0.20637299349325874,0.2167807770132733,0.24699781763404083,0.39595521853704635,0.4056527566662809,0.2607118665837143,0.7505340444836351,0.6416972092283264,0.8268744877829932,0.7794148594702368,0.7164115803460472,0.5957706383435727,0.5763217342853308,0.5868272434068957,-0.036098743828237766,0.5587685690688098,0.6683412844931381,0.08803899563487934,0.45164131594926055,0.7849690462591694,0.750740667571031,0.8307331839600658,1.0,0.8560872756767565,0.7507395870933882,0.7994758131556234,0.08305729039255796],[-0.3799901982390491,-0.2938183384145813,0.1956401509677731,0.3458794693157349,0.6348778360957622,0.7633340510901234,0.7500117466739143,0.23328460186159206,0.2410473863155981,0.2745781463695254,0.4024663265070562,0.3907124274864287,0.2927940823698816,0.7188022047731203,0.606631959194129,0.7610066226912178,0.7423279117548949,0.7102203125092479,0.48616253601321685,0.4622919870403331,0.5369982967805692,-0.0034691569041815327,0.493299333106462,0.5776136576393908,0.06378113447357546,0.426106020101997,0.7491053303590469,0.687790957785473,0.801375405698257,0.8560872756767565,1.0,0.7327623817486443,0.7377559879386991,0.08489893712237027],[-0.3210412912821984,-0.24606578205695104,0.13178107529470343,0.3408876354962029,0.6621174414967165,0.7678239258999443,0.7652581299866189,0.06281183927088158,0.05924965036077574,0.09637971709931253,0.32995023544285756,0.33387564898291194,0.10473754367762952,0.6471191407570566,0.5903620260461558,0.6480902567447331,0.6754008699982182,0.5509402606847469,0.5222549117219969,0.5157402542379245,0.5162842283823733,0.05258637014450231,0.45326260884909214,0.5526036617810827,0.1095414182386664,0.5535278697013808,0.7865520697554418,0.8347425145280826,0.8068373954821648,0.7507395870933882,0.7327623817486443,1.0,0.8169949686579452,0.07396223876044988],[-0.3334061686029571,-0.2588313943830012,0.1342093026589783,0.3667172848279743,0.7010300934565336,0.7893093542857174,0.8046380383195347,0.01344638545584168,0.015050531489860375,0.05335479478763491,0.3184633168066319,0.38283588146301145,0.07106096182137665,0.7002722466533087,0.6226935562703019,0.6849301244232113,0.6911199148455299,0.5695578339662062,0.5631620937399486,0.5552572065564368,0.5231091035975849,0.022946175484735404,0.4847433385705878,0.6165110026300598,0.1025467254576213,0.5025943882712188,0.8173470995324431,0.8761610717099687,0.8573254595923285,0.7994758131556234,0.7377559879386991,0.8169949686579452,1.0,0.09410248204899836],[0.03597086716090656,0.056694191637044915,0.07912231066854676,0.07810355613229947,0.05665436531981633,0.09304307672177548,0.07692525226200948,0.05373487970335267,0.045783343958302164,0.05533527604394466,0.09063691295726506,0.2456293961056065,0.07452938152160056,0.1300699596487779,0.17008401631296038,0.081004003086568,0.10589099544549348,0.10735608973299328,0.05758678856488237,0.06175726114492116,0.08652769095389685,0.08497049894003479,0.01691065049776891,0.05809167684434565,0.069323566571944,0.06763755074825986,0.09457928504077767,0.07866971731641245,0.09299958685841254,0.08305729039255796,0.08489893712237027,0.07396223876044988,0.09410248204899836,1.0]],\"type\":\"heatmap\"}],                        {\"template\":{\"data\":{\"histogram2dcontour\":[{\"type\":\"histogram2dcontour\",\"colorbar\":{\"outlinewidth\":0,\"ticks\":\"\"},\"colorscale\":[[0.0,\"#0d0887\"],[0.1111111111111111,\"#46039f\"],[0.2222222222222222,\"#7201a8\"],[0.3333333333333333,\"#9c179e\"],[0.4444444444444444,\"#bd3786\"],[0.5555555555555556,\"#d8576b\"],[0.6666666666666666,\"#ed7953\"],[0.7777777777777778,\"#fb9f3a\"],[0.8888888888888888,\"#fdca26\"],[1.0,\"#f0f921\"]]}],\"choropleth\":[{\"type\":\"choropleth\",\"colorbar\":{\"outlinewidth\":0,\"ticks\":\"\"}}],\"histogram2d\":[{\"type\":\"histogram2d\",\"colorbar\":{\"outlinewidth\":0,\"ticks\":\"\"},\"colorscale\":[[0.0,\"#0d0887\"],[0.1111111111111111,\"#46039f\"],[0.2222222222222222,\"#7201a8\"],[0.3333333333333333,\"#9c179e\"],[0.4444444444444444,\"#bd3786\"],[0.5555555555555556,\"#d8576b\"],[0.6666666666666666,\"#ed7953\"],[0.7777777777777778,\"#fb9f3a\"],[0.8888888888888888,\"#fdca26\"],[1.0,\"#f0f921\"]]}],\"heatmap\":[{\"type\":\"heatmap\",\"colorbar\":{\"outlinewidth\":0,\"ticks\":\"\"},\"colorscale\":[[0.0,\"#0d0887\"],[0.1111111111111111,\"#46039f\"],[0.2222222222222222,\"#7201a8\"],[0.3333333333333333,\"#9c179e\"],[0.4444444444444444,\"#bd3786\"],[0.5555555555555556,\"#d8576b\"],[0.6666666666666666,\"#ed7953\"],[0.7777777777777778,\"#fb9f3a\"],[0.8888888888888888,\"#fdca26\"],[1.0,\"#f0f921\"]]}],\"heatmapgl\":[{\"type\":\"heatmapgl\",\"colorbar\":{\"outlinewidth\":0,\"ticks\":\"\"},\"colorscale\":[[0.0,\"#0d0887\"],[0.1111111111111111,\"#46039f\"],[0.2222222222222222,\"#7201a8\"],[0.3333333333333333,\"#9c179e\"],[0.4444444444444444,\"#bd3786\"],[0.5555555555555556,\"#d8576b\"],[0.6666666666666666,\"#ed7953\"],[0.7777777777777778,\"#fb9f3a\"],[0.8888888888888888,\"#fdca26\"],[1.0,\"#f0f921\"]]}],\"contourcarpet\":[{\"type\":\"contourcarpet\",\"colorbar\":{\"outlinewidth\":0,\"ticks\":\"\"}}],\"contour\":[{\"type\":\"contour\",\"colorbar\":{\"outlinewidth\":0,\"ticks\":\"\"},\"colorscale\":[[0.0,\"#0d0887\"],[0.1111111111111111,\"#46039f\"],[0.2222222222222222,\"#7201a8\"],[0.3333333333333333,\"#9c179e\"],[0.4444444444444444,\"#bd3786\"],[0.5555555555555556,\"#d8576b\"],[0.6666666666666666,\"#ed7953\"],[0.7777777777777778,\"#fb9f3a\"],[0.8888888888888888,\"#fdca26\"],[1.0,\"#f0f921\"]]}],\"surface\":[{\"type\":\"surface\",\"colorbar\":{\"outlinewidth\":0,\"ticks\":\"\"},\"colorscale\":[[0.0,\"#0d0887\"],[0.1111111111111111,\"#46039f\"],[0.2222222222222222,\"#7201a8\"],[0.3333333333333333,\"#9c179e\"],[0.4444444444444444,\"#bd3786\"],[0.5555555555555556,\"#d8576b\"],[0.6666666666666666,\"#ed7953\"],[0.7777777777777778,\"#fb9f3a\"],[0.8888888888888888,\"#fdca26\"],[1.0,\"#f0f921\"]]}],\"mesh3d\":[{\"type\":\"mesh3d\",\"colorbar\":{\"outlinewidth\":0,\"ticks\":\"\"}}],\"scatter\":[{\"fillpattern\":{\"fillmode\":\"overlay\",\"size\":10,\"solidity\":0.2},\"type\":\"scatter\"}],\"parcoords\":[{\"type\":\"parcoords\",\"line\":{\"colorbar\":{\"outlinewidth\":0,\"ticks\":\"\"}}}],\"scatterpolargl\":[{\"type\":\"scatterpolargl\",\"marker\":{\"colorbar\":{\"outlinewidth\":0,\"ticks\":\"\"}}}],\"bar\":[{\"error_x\":{\"color\":\"#2a3f5f\"},\"error_y\":{\"color\":\"#2a3f5f\"},\"marker\":{\"line\":{\"color\":\"#E5ECF6\",\"width\":0.5},\"pattern\":{\"fillmode\":\"overlay\",\"size\":10,\"solidity\":0.2}},\"type\":\"bar\"}],\"scattergeo\":[{\"type\":\"scattergeo\",\"marker\":{\"colorbar\":{\"outlinewidth\":0,\"ticks\":\"\"}}}],\"scatterpolar\":[{\"type\":\"scatterpolar\",\"marker\":{\"colorbar\":{\"outlinewidth\":0,\"ticks\":\"\"}}}],\"histogram\":[{\"marker\":{\"pattern\":{\"fillmode\":\"overlay\",\"size\":10,\"solidity\":0.2}},\"type\":\"histogram\"}],\"scattergl\":[{\"type\":\"scattergl\",\"marker\":{\"colorbar\":{\"outlinewidth\":0,\"ticks\":\"\"}}}],\"scatter3d\":[{\"type\":\"scatter3d\",\"line\":{\"colorbar\":{\"outlinewidth\":0,\"ticks\":\"\"}},\"marker\":{\"colorbar\":{\"outlinewidth\":0,\"ticks\":\"\"}}}],\"scattermapbox\":[{\"type\":\"scattermapbox\",\"marker\":{\"colorbar\":{\"outlinewidth\":0,\"ticks\":\"\"}}}],\"scatterternary\":[{\"type\":\"scatterternary\",\"marker\":{\"colorbar\":{\"outlinewidth\":0,\"ticks\":\"\"}}}],\"scattercarpet\":[{\"type\":\"scattercarpet\",\"marker\":{\"colorbar\":{\"outlinewidth\":0,\"ticks\":\"\"}}}],\"carpet\":[{\"aaxis\":{\"endlinecolor\":\"#2a3f5f\",\"gridcolor\":\"white\",\"linecolor\":\"white\",\"minorgridcolor\":\"white\",\"startlinecolor\":\"#2a3f5f\"},\"baxis\":{\"endlinecolor\":\"#2a3f5f\",\"gridcolor\":\"white\",\"linecolor\":\"white\",\"minorgridcolor\":\"white\",\"startlinecolor\":\"#2a3f5f\"},\"type\":\"carpet\"}],\"table\":[{\"cells\":{\"fill\":{\"color\":\"#EBF0F8\"},\"line\":{\"color\":\"white\"}},\"header\":{\"fill\":{\"color\":\"#C8D4E3\"},\"line\":{\"color\":\"white\"}},\"type\":\"table\"}],\"barpolar\":[{\"marker\":{\"line\":{\"color\":\"#E5ECF6\",\"width\":0.5},\"pattern\":{\"fillmode\":\"overlay\",\"size\":10,\"solidity\":0.2}},\"type\":\"barpolar\"}],\"pie\":[{\"automargin\":true,\"type\":\"pie\"}]},\"layout\":{\"autotypenumbers\":\"strict\",\"colorway\":[\"#636efa\",\"#EF553B\",\"#00cc96\",\"#ab63fa\",\"#FFA15A\",\"#19d3f3\",\"#FF6692\",\"#B6E880\",\"#FF97FF\",\"#FECB52\"],\"font\":{\"color\":\"#2a3f5f\"},\"hovermode\":\"closest\",\"hoverlabel\":{\"align\":\"left\"},\"paper_bgcolor\":\"white\",\"plot_bgcolor\":\"#E5ECF6\",\"polar\":{\"bgcolor\":\"#E5ECF6\",\"angularaxis\":{\"gridcolor\":\"white\",\"linecolor\":\"white\",\"ticks\":\"\"},\"radialaxis\":{\"gridcolor\":\"white\",\"linecolor\":\"white\",\"ticks\":\"\"}},\"ternary\":{\"bgcolor\":\"#E5ECF6\",\"aaxis\":{\"gridcolor\":\"white\",\"linecolor\":\"white\",\"ticks\":\"\"},\"baxis\":{\"gridcolor\":\"white\",\"linecolor\":\"white\",\"ticks\":\"\"},\"caxis\":{\"gridcolor\":\"white\",\"linecolor\":\"white\",\"ticks\":\"\"}},\"coloraxis\":{\"colorbar\":{\"outlinewidth\":0,\"ticks\":\"\"}},\"colorscale\":{\"sequential\":[[0.0,\"#0d0887\"],[0.1111111111111111,\"#46039f\"],[0.2222222222222222,\"#7201a8\"],[0.3333333333333333,\"#9c179e\"],[0.4444444444444444,\"#bd3786\"],[0.5555555555555556,\"#d8576b\"],[0.6666666666666666,\"#ed7953\"],[0.7777777777777778,\"#fb9f3a\"],[0.8888888888888888,\"#fdca26\"],[1.0,\"#f0f921\"]],\"sequentialminus\":[[0.0,\"#0d0887\"],[0.1111111111111111,\"#46039f\"],[0.2222222222222222,\"#7201a8\"],[0.3333333333333333,\"#9c179e\"],[0.4444444444444444,\"#bd3786\"],[0.5555555555555556,\"#d8576b\"],[0.6666666666666666,\"#ed7953\"],[0.7777777777777778,\"#fb9f3a\"],[0.8888888888888888,\"#fdca26\"],[1.0,\"#f0f921\"]],\"diverging\":[[0,\"#8e0152\"],[0.1,\"#c51b7d\"],[0.2,\"#de77ae\"],[0.3,\"#f1b6da\"],[0.4,\"#fde0ef\"],[0.5,\"#f7f7f7\"],[0.6,\"#e6f5d0\"],[0.7,\"#b8e186\"],[0.8,\"#7fbc41\"],[0.9,\"#4d9221\"],[1,\"#276419\"]]},\"xaxis\":{\"gridcolor\":\"white\",\"linecolor\":\"white\",\"ticks\":\"\",\"title\":{\"standoff\":15},\"zerolinecolor\":\"white\",\"automargin\":true,\"zerolinewidth\":2},\"yaxis\":{\"gridcolor\":\"white\",\"linecolor\":\"white\",\"ticks\":\"\",\"title\":{\"standoff\":15},\"zerolinecolor\":\"white\",\"automargin\":true,\"zerolinewidth\":2},\"scene\":{\"xaxis\":{\"backgroundcolor\":\"#E5ECF6\",\"gridcolor\":\"white\",\"linecolor\":\"white\",\"showbackground\":true,\"ticks\":\"\",\"zerolinecolor\":\"white\",\"gridwidth\":2},\"yaxis\":{\"backgroundcolor\":\"#E5ECF6\",\"gridcolor\":\"white\",\"linecolor\":\"white\",\"showbackground\":true,\"ticks\":\"\",\"zerolinecolor\":\"white\",\"gridwidth\":2},\"zaxis\":{\"backgroundcolor\":\"#E5ECF6\",\"gridcolor\":\"white\",\"linecolor\":\"white\",\"showbackground\":true,\"ticks\":\"\",\"zerolinecolor\":\"white\",\"gridwidth\":2}},\"shapedefaults\":{\"line\":{\"color\":\"#2a3f5f\"}},\"annotationdefaults\":{\"arrowcolor\":\"#2a3f5f\",\"arrowhead\":0,\"arrowwidth\":1},\"geo\":{\"bgcolor\":\"white\",\"landcolor\":\"#E5ECF6\",\"subunitcolor\":\"white\",\"showland\":true,\"showlakes\":true,\"lakecolor\":\"white\"},\"title\":{\"x\":0.05},\"mapbox\":{\"style\":\"light\"}}},\"title\":{\"text\":\"Correlación entre las variables numéricas originales\"},\"height\":800,\"width\":1200},                        {\"responsive\": true}                    ).then(function(){\n",
              "                            \n",
              "var gd = document.getElementById('54e5ffe6-c37e-4022-b8a7-5918b359ebfb');\n",
              "var x = new MutationObserver(function (mutations, observer) {{\n",
              "        var display = window.getComputedStyle(gd).display;\n",
              "        if (!display || display === 'none') {{\n",
              "            console.log([gd, 'removed!']);\n",
              "            Plotly.purge(gd);\n",
              "            observer.disconnect();\n",
              "        }}\n",
              "}});\n",
              "\n",
              "// Listen for the removal of the full notebook cells\n",
              "var notebookContainer = gd.closest('#notebook-container');\n",
              "if (notebookContainer) {{\n",
              "    x.observe(notebookContainer, {childList: true});\n",
              "}}\n",
              "\n",
              "// Listen for the clearing of the current output cell\n",
              "var outputEl = gd.closest('.output');\n",
              "if (outputEl) {{\n",
              "    x.observe(outputEl, {childList: true});\n",
              "}}\n",
              "\n",
              "                        })                };                            </script>        </div>\n",
              "</body>\n",
              "</html>"
            ]
          },
          "metadata": {}
        }
      ]
    },
    {
      "cell_type": "markdown",
      "metadata": {
        "id": "Bv1HOfcNEPF4"
      },
      "source": [
        "### 1.2 Entrenamiento [3 puntos]"
      ]
    },
    {
      "cell_type": "markdown",
      "metadata": {
        "id": "whPkuXTUBvB0"
      },
      "source": [
        "Ahora, vamos a entrenar los pipelines generados en los pasos anteriores. Para esto, debe realizar las siguientes tareas:\n",
        "\n",
        "1. Separe los datos de entrenamiento en un conjunto de entrenamiento y de prueba  (la proporción queda a su juicio). En este paso, seleccione los ejemplos de forma aleatoria e intente mantener la distribución original de labels de cada clase en los conjuntos de prueba/entrenamiento. (vea la documentación de `train_test_split`). [1 puntos]\n",
        "\n",
        "\n",
        "2. Defina un pipeline llamado `pipeline_xgboost` y otro llamado `pipeline_lightgbm`. Estos pipelines deben tener el mismo ColumnTransformer definido en la sección de preprocesamiento, pero deben variar los clasificadores de acuerdo al nombre de cada pipeline. [1 puntos]\n",
        "\n",
        "3. Entrene los pipelines. [1 punto]\n",
        "\n"
      ]
    },
    {
      "cell_type": "markdown",
      "metadata": {
        "id": "kbadONFtjGnE"
      },
      "source": [
        "**Respuesta:**"
      ]
    },
    {
      "cell_type": "code",
      "source": [
        "from xgboost import XGBClassifier\n",
        "from lightgbm import LGBMClassifier\n",
        "from sklearn.model_selection import train_test_split\n",
        "\n",
        "X = df.drop(columns='label').copy()\n",
        "y = df['label'].copy()\n",
        "\n",
        "# Train Test sets\n",
        "X_train, X_test, y_train, y_test = train_test_split(X, y, test_size=0.3,\n",
        "                                                    random_state=42, shuffle=True,\n",
        "                                                    stratify=y) #mantengo la prop de clases\n",
        "\n",
        "# Pipeline\n",
        "pipe_xgboost = Pipeline([('col_transf', col_transformer),\n",
        "                            ('xgboost_classifier', XGBClassifier())])\n",
        "pipe_lightlgbm = Pipeline([('col_transf', col_transformer),\n",
        "                            ('lgbm_classifier', LGBMClassifier(verbose=-1))])"
      ],
      "metadata": {
        "id": "Lif2zGKNfrE_",
        "colab": {
          "base_uri": "https://localhost:8080/"
        },
        "outputId": "bdabe492-c770-4b49-cdee-34ec388eec74"
      },
      "execution_count": 15,
      "outputs": [
        {
          "output_type": "stream",
          "name": "stderr",
          "text": [
            "/usr/local/lib/python3.10/dist-packages/dask/dataframe/__init__.py:42: FutureWarning:\n",
            "\n",
            "\n",
            "Dask dataframe query planning is disabled because dask-expr is not installed.\n",
            "\n",
            "You can install it with `pip install dask[dataframe]` or `conda install dask`.\n",
            "This will raise in a future version.\n",
            "\n",
            "\n"
          ]
        }
      ]
    },
    {
      "cell_type": "code",
      "source": [
        "# Entrenamiento\n",
        "xgb_pipe = pipe_xgboost.fit(X_train, y_train)\n",
        "y_pred_xgb = pipe_xgboost.predict(X_test)\n",
        "\n",
        "lgbm_pipe = pipe_lightlgbm.fit(X_train, y_train)\n",
        "y_pred_lgbm = pipe_lightlgbm.predict(X_test)"
      ],
      "metadata": {
        "id": "6YKOnKJdiSXH"
      },
      "execution_count": 16,
      "outputs": []
    },
    {
      "cell_type": "markdown",
      "metadata": {
        "id": "poc9HSNBFeKO"
      },
      "source": [
        "### 1.3 Resultados [6 puntos]"
      ]
    },
    {
      "cell_type": "markdown",
      "metadata": {
        "id": "tGGCj8YtFil1"
      },
      "source": [
        "1. Calcule las métricas accuracy, precisión y recall de la clase positiva (la que indica que un jugador es seleccionado nacional) para evaluar el rendimiento de los distintos modelos. Verifique sus resultados usando `classification_report`. [2 puntos]\n",
        "\n",
        "2. Explique qué implican los valores de accuracy, precisión y recall de la clase positiva (la que indica que un jugador es seleccionado nacional) y cómo influye la cantidad de ejemplos por clase en los resultados obtenidos. [2 puntos]\n",
        "\n",
        "3. Explique qué métrica le parece más adecuada y concluya qué modelo tiene un mejor desempeño. [2 puntos]"
      ]
    },
    {
      "cell_type": "markdown",
      "metadata": {
        "id": "A1hkVFdujJTi"
      },
      "source": [
        "**Respuesta:**"
      ]
    },
    {
      "cell_type": "code",
      "execution_count": 17,
      "metadata": {
        "id": "QNmI_tbbdQte",
        "colab": {
          "base_uri": "https://localhost:8080/"
        },
        "outputId": "95e08adf-da33-441e-b455-69ee5fe9b635"
      },
      "outputs": [
        {
          "output_type": "stream",
          "name": "stdout",
          "text": [
            "Métricas XGBOOST\n",
            " \n",
            "Accuracy:  0.9378434716695092\n",
            "Precision:  0.46987951807228917\n",
            "Recall:  0.12074303405572756\n",
            " \n",
            "-----------     Classification Report     -----------\n",
            "              precision    recall  f1-score   support\n",
            "\n",
            "           0       0.95      0.99      0.97      4954\n",
            "           1       0.47      0.12      0.19       323\n",
            "\n",
            "    accuracy                           0.94      5277\n",
            "   macro avg       0.71      0.56      0.58      5277\n",
            "weighted avg       0.92      0.94      0.92      5277\n",
            "\n"
          ]
        }
      ],
      "source": [
        "# Métricas\n",
        "from sklearn.metrics import classification_report\n",
        "from sklearn.metrics import accuracy_score, precision_score, recall_score\n",
        "\n",
        "print('Métricas XGBOOST')\n",
        "print(' ')\n",
        "print('Accuracy: ', accuracy_score(y_test, y_pred_xgb))\n",
        "print('Precision: ', precision_score(y_test, y_pred_xgb))\n",
        "print('Recall: ', recall_score(y_test, y_pred_xgb))\n",
        "print(' ')\n",
        "print('-----------     Classification Report     -----------')\n",
        "print(classification_report(y_test, y_pred_xgb))"
      ]
    },
    {
      "cell_type": "markdown",
      "source": [
        "Explicación XGBoost\n",
        "  1. Accuracy = 0.93784 da cuenta de que el 93.784% de las predicciones fueron realizadas correctamente (tanto clase positiva como negativa).\n",
        "  2. Precisión = 0.4698 da cuenta de que solo el 47% de las predicciones de la clase positiva fueron realizadas correctamente.\n",
        "  3. Recall = 0.1207 hace referencia a que solo el 12.07% de las predicciones realizadas efectivamente correspondan a la clase positiva (considerando true positive y false negative).\n",
        "\n",
        "  Las métricas calculadas coinciden con los valores reportados en el ``clasification_report``.\n"
      ],
      "metadata": {
        "id": "G0mWwtjit-Wu"
      }
    },
    {
      "cell_type": "code",
      "source": [
        "print('Métricas LightGBM')\n",
        "print(' ')\n",
        "print('Accuracy: ', accuracy_score(y_test, y_pred_lgbm))\n",
        "print('Precision: ', precision_score(y_test, y_pred_lgbm))\n",
        "print('Recall: ', recall_score(y_test, y_pred_lgbm))\n",
        "print(' ')\n",
        "print('-----------     Classification Report     -----------')\n",
        "print(classification_report(y_test, y_pred_lgbm))"
      ],
      "metadata": {
        "colab": {
          "base_uri": "https://localhost:8080/"
        },
        "id": "SHuDJqkOrajV",
        "outputId": "29769b4b-5570-407e-c637-a63185cce853"
      },
      "execution_count": 18,
      "outputs": [
        {
          "output_type": "stream",
          "name": "stdout",
          "text": [
            "Métricas LightGBM\n",
            " \n",
            "Accuracy:  0.9403069926094372\n",
            "Precision:  0.5540540540540541\n",
            "Recall:  0.12693498452012383\n",
            " \n",
            "-----------     Classification Report     -----------\n",
            "              precision    recall  f1-score   support\n",
            "\n",
            "           0       0.95      0.99      0.97      4954\n",
            "           1       0.55      0.13      0.21       323\n",
            "\n",
            "    accuracy                           0.94      5277\n",
            "   macro avg       0.75      0.56      0.59      5277\n",
            "weighted avg       0.92      0.94      0.92      5277\n",
            "\n"
          ]
        }
      ]
    },
    {
      "cell_type": "markdown",
      "source": [
        "Explicación LightGBM\n",
        "  1. Accuracy = 0.9403 da cuenta de que el 94.03% de las predicciones fueron realizadas correctamente (tanto clase positiva como negativa).\n",
        "  2. Precisión = 0.554 da cuenta de que solo el 55.4% de las predicciones de la clase positiva fueron realizadas correctamente.\n",
        "  3. Recall = 0.1269 hace referencia a que solo el 12.69% de las predicciones realizadas efectivamente correspondan a la clase positiva (considerando true positive y false negative).\n",
        "\n",
        "  Las métricas calculadas coinciden con los valores reportados en el ``clasification_report``."
      ],
      "metadata": {
        "id": "fZLthWud3Bxp"
      }
    },
    {
      "cell_type": "markdown",
      "source": [
        "\n",
        "Es importante tener en cuenta que ambos modelos no son buenos para clasificar la clase de interés, esto se puede deber a que la cantidad de muestras de esta es considerablemente menor en comparación a la clase 0.\n",
        "\n",
        "**Mejor métrica**\n",
        "\n",
        "Como nos importa saber quienes efectivamente son seleccionados nacionales, lo que debemos hacer es revisar el Recall. Mientras mayor sea esta métrica, menor será la cantidad de falsos negativos, es decir, de menor será la cantidad de seleccionados nacionales que fueron clasificados erróneamente.\n",
        "Bajo el argumento anterior, el mejor modelo sería LIghtGBM pues su recall es ligeramente mayor."
      ],
      "metadata": {
        "id": "5ooFWxr_2-Fm"
      }
    },
    {
      "cell_type": "markdown",
      "metadata": {
        "id": "uy5VMU6ae_g6"
      },
      "source": [
        "## 2. Predicción de posiciones de jugadores [4 puntos]"
      ]
    },
    {
      "cell_type": "markdown",
      "metadata": {
        "id": "S0PGg_hLgr4H"
      },
      "source": [
        "<p align=\"center\">\n",
        "  <img src=\"https://pbs.twimg.com/media/E1rfA1aWEAYU6Ny.jpg\" width=\"300\">\n",
        "</p>"
      ]
    },
    {
      "cell_type": "markdown",
      "metadata": {
        "id": "I6rSnAesfOm3"
      },
      "source": [
        "En una nueva jornada de desmesuradas transacciones deportivas, Renacín escuchó a sus colegas discutir acerca de que el precio de cada jugador depende en gran medida de la posición en la cancha en la que juega. Y además, que hay bastantes jugadores nuevos que no tienen muy claro en que posición verdaderamente brillarían, por lo que actualmente puede que actualmente estén jugando en posiciones sub-optimas.\n",
        "\n",
        "Viendo que los resultados del primer análisis no son tan esperanzadores, el corporeo los comanda a cambiar su tarea: ahora, les solicita que construyan un **clasificador enfocado en predecir la mejor posición de los jugadores** en la cancha según sus características.\n",
        "\n",
        "Para lograr esto, primero, les pide que etiqueten de la siguiente manera los valores que aparecen en el atributo `Club_Position`, pidiendo que agrupen los valores en los siguientes grupos:\n",
        "\n",
        "**Nota**:  Renacín les recalca que **no deben utilizar los valores ```Sub``` y ```Res``` de esta columna**.\n",
        "\n",
        "```python\n",
        "ataque = ['ST', 'CF']\n",
        "central_ataque = ['RW', 'CAM', 'LW']\n",
        "central = ['RM', 'CM', 'LM']\n",
        "central_defensa = ['RWB', 'CDM', 'LWB']\n",
        "defensa = ['RB', 'CB', 'LB']\n",
        "arquero = ['GK']\n",
        "```\n",
        "\n",
        "La elección del clasificador se justificar en base a la siguiente [guía](https://scikit-learn.org/stable/tutorial/machine_learning_map/index.html) y se deben comentar los resultados obtenidos en la clasificación.\n",
        "\n",
        "**Tareas:** [1 punto por tarea]\n",
        "\n",
        "1. En un nuevo dataframe, aplique las etiquetas descritas anteriormente en cada uno de los valores señalados en esta sección y guárdelos en la variable `label`.\n",
        "2. Cuente cuántos por clase quedan.\n",
        "3. Entrene el nuevo pipeline y ejecute una evaluación de este.  \n",
        "4. Comente los resultados obtenidos."
      ]
    },
    {
      "cell_type": "markdown",
      "metadata": {
        "id": "sBmSaWh8i2MI"
      },
      "source": [
        "**Respuesta:**"
      ]
    },
    {
      "cell_type": "code",
      "source": [
        "data = df_copy.copy()"
      ],
      "metadata": {
        "id": "uhYSidzQZVjl"
      },
      "execution_count": 19,
      "outputs": []
    },
    {
      "cell_type": "code",
      "execution_count": 20,
      "metadata": {
        "id": "Ir_7zMh2i1vg"
      },
      "outputs": [],
      "source": [
        "# Como hay 1 dato nulo en Club_Position, primero haré una imputación por el valor\n",
        "# más frecuente y luego asignaré las labels\n",
        "data.dropna(subset = ['Club_Position'], inplace=True)\n",
        "\n",
        "\n",
        "data.loc[(data['Club_Position']=='ST')| (data['Club_Position']=='CF'), 'label'] = 'ataque'\n",
        "\n",
        "data.loc[(data['Club_Position']=='RW')| (data['Club_Position']=='CAM')\n",
        "      |(data['Club_Position']=='LW'), 'label'] = 'central_ataque'\n",
        "\n",
        "data.loc[(data['Club_Position']=='RM')| (data['Club_Position']=='CM')\n",
        "      |(data['Club_Position']=='LM'), 'label'] = 'central'\n",
        "\n",
        "data.loc[(data['Club_Position']=='RWB')| (data['Club_Position']=='CDM')\n",
        "      |(data['Club_Position']=='LWB'), 'label'] = 'central_defensa'\n",
        "\n",
        "data.loc[(data['Club_Position']=='RB')| (data['Club_Position']=='CB')\n",
        "      |(data['Club_Position']=='LB'), 'label'] = 'defensa'\n",
        "\n",
        "data.loc[(data['Club_Position']=='GK'), 'label'] = 'arquero'\n",
        "\n",
        "# Elimina 'Sub' y 'Res'\n",
        "index_drop = data.loc[(data['Club_Position']=='Sub')|(data['Club_Position']=='Res')].index.to_list()\n",
        "data.drop(index=index_drop, inplace=True)\n",
        "\n",
        "\n",
        "# Asignaré 'Otro' para las otras posiciones que quedan\n",
        "data.fillna({'label':'Otro'}, inplace=True)"
      ]
    },
    {
      "cell_type": "code",
      "source": [
        "# Datos por clase\n",
        "data.label.value_counts()"
      ],
      "metadata": {
        "colab": {
          "base_uri": "https://localhost:8080/",
          "height": 335
        },
        "id": "cgHsUFqoayXB",
        "outputId": "50528ce8-ac25-42a3-e776-cf9f1bb5bb1e"
      },
      "execution_count": 21,
      "outputs": [
        {
          "output_type": "execute_result",
          "data": {
            "text/plain": [
              "label\n",
              "nan                3010\n",
              "defensa            1180\n",
              "central             907\n",
              "arquero             632\n",
              "central_ataque      581\n",
              "ataque              430\n",
              "central_defensa     209\n",
              "Name: count, dtype: int64"
            ],
            "text/html": [
              "<div>\n",
              "<style scoped>\n",
              "    .dataframe tbody tr th:only-of-type {\n",
              "        vertical-align: middle;\n",
              "    }\n",
              "\n",
              "    .dataframe tbody tr th {\n",
              "        vertical-align: top;\n",
              "    }\n",
              "\n",
              "    .dataframe thead th {\n",
              "        text-align: right;\n",
              "    }\n",
              "</style>\n",
              "<table border=\"1\" class=\"dataframe\">\n",
              "  <thead>\n",
              "    <tr style=\"text-align: right;\">\n",
              "      <th></th>\n",
              "      <th>count</th>\n",
              "    </tr>\n",
              "    <tr>\n",
              "      <th>label</th>\n",
              "      <th></th>\n",
              "    </tr>\n",
              "  </thead>\n",
              "  <tbody>\n",
              "    <tr>\n",
              "      <th>nan</th>\n",
              "      <td>3010</td>\n",
              "    </tr>\n",
              "    <tr>\n",
              "      <th>defensa</th>\n",
              "      <td>1180</td>\n",
              "    </tr>\n",
              "    <tr>\n",
              "      <th>central</th>\n",
              "      <td>907</td>\n",
              "    </tr>\n",
              "    <tr>\n",
              "      <th>arquero</th>\n",
              "      <td>632</td>\n",
              "    </tr>\n",
              "    <tr>\n",
              "      <th>central_ataque</th>\n",
              "      <td>581</td>\n",
              "    </tr>\n",
              "    <tr>\n",
              "      <th>ataque</th>\n",
              "      <td>430</td>\n",
              "    </tr>\n",
              "    <tr>\n",
              "      <th>central_defensa</th>\n",
              "      <td>209</td>\n",
              "    </tr>\n",
              "  </tbody>\n",
              "</table>\n",
              "</div><br><label><b>dtype:</b> int64</label>"
            ]
          },
          "metadata": {},
          "execution_count": 21
        }
      ]
    },
    {
      "cell_type": "code",
      "source": [
        "X_new = data.drop(columns='label').copy()\n",
        "\n",
        "y_new = data['label'].copy()\n",
        "\n",
        "# Train Test sets\n",
        "X_train2, X_test2, y_train2, y_test2 = train_test_split(X_new, y_new, test_size=0.3,\n",
        "                                                    random_state=42, shuffle=True,\n",
        "                                                    stratify=y_new)"
      ],
      "metadata": {
        "id": "gmPhobXxbqAW"
      },
      "execution_count": 22,
      "outputs": []
    },
    {
      "cell_type": "code",
      "source": [
        "# Crear nuevo Pipeline con otro clasificado y comentar métricas\n",
        "data.shape"
      ],
      "metadata": {
        "colab": {
          "base_uri": "https://localhost:8080/"
        },
        "id": "5gEuTHx-c81-",
        "outputId": "b24f4feb-e3a9-41ed-8a8e-f5c674b412d0"
      },
      "execution_count": 23,
      "outputs": [
        {
          "output_type": "execute_result",
          "data": {
            "text/plain": [
              "(6949, 40)"
            ]
          },
          "metadata": {},
          "execution_count": 23
        }
      ]
    },
    {
      "cell_type": "markdown",
      "source": [
        "Dado que tenemos que predecir categorías y que al dejar fuera las clases 'Sub' y 'Res' quedan 6950 filas, entonces se podría utilizar Linear SVC (según la guía)."
      ],
      "metadata": {
        "id": "JvY679k9AFrH"
      }
    },
    {
      "cell_type": "code",
      "source": [
        "from sklearn.svm import LinearSVC\n",
        "\n",
        "pipe_SVC = Pipeline([('col_transf', col_transformer),\n",
        "                            ('linearSVC_classifier', LinearSVC())])\n",
        "\n",
        "# Entrenamiento\n",
        "svc_pipe = pipe_SVC.fit(X_train2, y_train2)\n",
        "y_pred_svc = pipe_SVC.predict(X_test2)\n",
        "\n",
        "# Metricas\n",
        "print('-----------     Classification Report     -----------')\n",
        "print(classification_report(y_test2, y_pred_svc))"
      ],
      "metadata": {
        "colab": {
          "base_uri": "https://localhost:8080/"
        },
        "id": "nElcEQMgbjcK",
        "outputId": "14d80033-6360-4ebf-80fb-955ae8bb0443"
      },
      "execution_count": 24,
      "outputs": [
        {
          "output_type": "stream",
          "name": "stderr",
          "text": [
            "/usr/local/lib/python3.10/dist-packages/sklearn/svm/_classes.py:31: FutureWarning:\n",
            "\n",
            "The default value of `dual` will change from `True` to `'auto'` in 1.5. Set the value of `dual` explicitly to suppress the warning.\n",
            "\n"
          ]
        },
        {
          "output_type": "stream",
          "name": "stdout",
          "text": [
            "-----------     Classification Report     -----------\n",
            "                 precision    recall  f1-score   support\n",
            "\n",
            "        arquero       1.00      1.00      1.00       190\n",
            "         ataque       0.62      0.99      0.76       129\n",
            "        central       0.60      0.49      0.54       272\n",
            " central_ataque       0.55      0.55      0.55       174\n",
            "central_defensa       0.00      0.00      0.00        63\n",
            "        defensa       0.67      0.81      0.73       354\n",
            "            nan       0.79      0.75      0.77       903\n",
            "\n",
            "       accuracy                           0.73      2085\n",
            "      macro avg       0.60      0.66      0.62      2085\n",
            "   weighted avg       0.71      0.73      0.71      2085\n",
            "\n"
          ]
        },
        {
          "output_type": "stream",
          "name": "stderr",
          "text": [
            "/usr/local/lib/python3.10/dist-packages/sklearn/svm/_base.py:1237: ConvergenceWarning:\n",
            "\n",
            "Liblinear failed to converge, increase the number of iterations.\n",
            "\n",
            "/usr/local/lib/python3.10/dist-packages/sklearn/metrics/_classification.py:1509: UndefinedMetricWarning:\n",
            "\n",
            "Precision is ill-defined and being set to 0.0 in labels with no predicted samples. Use `zero_division` parameter to control this behavior.\n",
            "\n",
            "/usr/local/lib/python3.10/dist-packages/sklearn/metrics/_classification.py:1509: UndefinedMetricWarning:\n",
            "\n",
            "Precision is ill-defined and being set to 0.0 in labels with no predicted samples. Use `zero_division` parameter to control this behavior.\n",
            "\n",
            "/usr/local/lib/python3.10/dist-packages/sklearn/metrics/_classification.py:1509: UndefinedMetricWarning:\n",
            "\n",
            "Precision is ill-defined and being set to 0.0 in labels with no predicted samples. Use `zero_division` parameter to control this behavior.\n",
            "\n"
          ]
        }
      ]
    },
    {
      "cell_type": "markdown",
      "source": [
        "Tal como se puede observar, el modelo predice perfectamente a los ``arqueros``, y muy mal a ``central_defensa``. De modo general, es posible decir que el clasificador tiene un accuracy de 0.72, dando cuenta de que predice correctamente cerca del 72% de los datos.\n",
        "\n",
        "Ahora, para ver si hay otro clasificador que permite observar un mejor rendimiento, observamos que nuestros datos luego del col_transformer no tendrá datos numéricos por lo que podría ser buena idea utilizar KNeighbors, según el diagrama de la [guía](https://scikit-learn.org/stable/machine_learning_map.html).\n",
        "\n"
      ],
      "metadata": {
        "id": "qV31cSyZyuuS"
      }
    },
    {
      "cell_type": "code",
      "source": [
        "from sklearn.neighbors import KNeighborsClassifier\n",
        "\n",
        "pipe_kn = Pipeline([('col_transf', col_transformer),\n",
        "                            ('kneighbors_classifier', KNeighborsClassifier())])\n",
        "\n",
        "# Entrenamiento\n",
        "kn_pipe = pipe_kn.fit(X_train2, y_train2)\n",
        "y_pred_kn = pipe_kn.predict(X_test2)\n",
        "\n",
        "# Metricas\n",
        "print('-----------     Classification Report     -----------')\n",
        "print(classification_report(y_test2, y_pred_kn))"
      ],
      "metadata": {
        "colab": {
          "base_uri": "https://localhost:8080/"
        },
        "id": "ookxJRmazuSZ",
        "outputId": "e4fbe9d1-70a6-4b6b-bd05-7dafbed23d68"
      },
      "execution_count": 25,
      "outputs": [
        {
          "output_type": "stream",
          "name": "stdout",
          "text": [
            "-----------     Classification Report     -----------\n",
            "                 precision    recall  f1-score   support\n",
            "\n",
            "        arquero       1.00      1.00      1.00       190\n",
            "         ataque       0.96      0.99      0.98       129\n",
            "        central       0.82      0.97      0.89       272\n",
            " central_ataque       0.94      0.86      0.89       174\n",
            "central_defensa       0.92      0.75      0.82        63\n",
            "        defensa       0.94      0.95      0.95       354\n",
            "            nan       0.95      0.92      0.94       903\n",
            "\n",
            "       accuracy                           0.93      2085\n",
            "      macro avg       0.93      0.92      0.92      2085\n",
            "   weighted avg       0.94      0.93      0.93      2085\n",
            "\n"
          ]
        }
      ]
    },
    {
      "cell_type": "markdown",
      "source": [
        "Tal como se esperaba, el rendimiento mejoró considerablemente,de hecho, todas las clases mejoraron sus métricas. Si bien ``central_defensa`` sigue siendo una de las clases peor clasificadas, ahora tiene una precisión de 0.89 en lugar de 0."
      ],
      "metadata": {
        "id": "j7JuqjqB0JRM"
      }
    },
    {
      "cell_type": "markdown",
      "metadata": {
        "id": "9bL2m8nNojXM"
      },
      "source": [
        "## 3. Predicciones de Seleccionados Nacionales para el Jere Klein [30 puntos]"
      ]
    },
    {
      "cell_type": "markdown",
      "metadata": {
        "id": "_2XmRsJdsEh_"
      },
      "source": [
        "<center>\n",
        "<img src='https://www.radioactiva.cl/wp-content/uploads/2024/04/Jere-Klein-1-768x432.webp' width=500 />"
      ]
    },
    {
      "cell_type": "markdown",
      "metadata": {
        "id": "AgmUoVDsqUPu"
      },
      "source": [
        "Después de alcanzar la fama como cantante urbano, Jere Klein decide explorar una nueva faceta. Con su amor por el fútbol y convencido de que los artistas urbanos poseen un talento y versatilidad excepcionales, Jere se embarca en un proyecto innovador: desarrollar un sistema de inteligencia artificial capaz de identificar a jugadores que tienen potencial para convertirse en futbolistas profesionales. Su teoría es que muchos artistas del género urbano chileno, con sus habilidades únicas y su disciplina, podrían destacarse también en el deporte. Con este sistema, Jere espera no solo abrir nuevas oportunidades para sus colegas artistas, sino también demostrar la amplia gama de talentos que pueden ofrecer."
      ]
    },
    {
      "cell_type": "markdown",
      "metadata": {
        "id": "rD8pQ5Zfq8dE"
      },
      "source": [
        "### 2.1 ¿Qué modelo de árbol es más de \"pana\"? [10 puntos]"
      ]
    },
    {
      "cell_type": "markdown",
      "metadata": {
        "id": "zB-KUA4g99eo"
      },
      "source": [
        "<center>\n",
        "<img src='https://64.media.tumblr.com/39189215a7d3d96823cb359f35b44e05/tumblr_psmrhrR3Xw1qf5hjqo4_540.gif' width=300 />"
      ]
    },
    {
      "cell_type": "markdown",
      "metadata": {
        "id": "uL-moVhB9vPH"
      },
      "source": [
        "\n",
        "**Tareas**\n",
        "\n",
        "\n",
        "1. Considerando el la variable llamada `label` creada en la sección 1.1. Para determinar cuál modelo de árbol sería más adecuado para la tarea en cuestión, utilice PyCaret. Este deberá centrarse exclusivamente en modelos de tipo árbol. Jere ha especificado que busca un modelo que tome decisiones rápidamente y que tenga una baja tasa de falsos positivos, ya que planea invertir en estos jugadores. [3 puntos]\n",
        "\n",
        "Para la comparación, utilice los siguientes modelos:\n",
        "\n",
        "```python\n",
        "['et', 'rf', 'dt', 'xgboost', 'lightgbm', 'catboost']\n",
        "```\n",
        "\n",
        "2. Explique en brevemente que son los modelos de la siguiente lista `['et', 'rf', 'dt']` y como funcionan. [3 punto]\n",
        "\n",
        "  - et: Extra Trees Classifier\n",
        "    \n",
        "      Fitea de manera aleatoria árboles de decisión en subconjunto de los datos y promedia sus resultados para obtener un mejor modelo.\n",
        "\n",
        "  - rf: Random Forest\n",
        "\n",
        "      Similar a 'et' pero con bootstraping.\n",
        "\n",
        "  - dt: Decision Tree Classifier\n",
        "    \n",
        "      El clásico árbol de decisión, decide el mejor criterio para clasificar por categorias una entrada.\n",
        "\n",
        "3. Tras realizar la comparación de modelos, seleccione aquel que muestre el mejor rendimiento en términos de velocidad y precisión, especialmente en la reducción de falsos positivos. Utilice la función `evaluate_model` de PyCaret para revisar y analizar los resultados obtenidos en los siguientes aspectos:\n",
        "\n",
        "  - **Confusión Matrix**: ¿Cómo se encuentran la tasa de verdaderos positivos y verdaderos negativos?\n",
        "  - **Threshold**: ¿Es acaso el umbral por defecto del modelo el mejor para las predicciones?\n",
        "  - **Feature Importance**: ¿Cuáles son las variables con mejor desempeño? ¿A qué podría deberse esto?\n",
        "  - **Learning Curve**: ¿El modelo presenta algún problema?\n",
        "\n",
        "  [4 puntos]"
      ]
    },
    {
      "cell_type": "markdown",
      "metadata": {
        "id": "qY85nrViYROF"
      },
      "source": [
        "**Respuesta**"
      ]
    },
    {
      "cell_type": "code",
      "source": [
        "#  !pip install pycaret"
      ],
      "metadata": {
        "collapsed": true,
        "id": "1bSRpUCK7yjh"
      },
      "execution_count": 26,
      "outputs": []
    },
    {
      "cell_type": "code",
      "execution_count": 104,
      "metadata": {
        "id": "kUCjOjsEYUXL",
        "colab": {
          "base_uri": "https://localhost:8080/",
          "height": 771
        },
        "outputId": "a6662045-7973-4c8a-a086-bc59372ffc63"
      },
      "outputs": [
        {
          "output_type": "display_data",
          "data": {
            "text/plain": [
              "<pandas.io.formats.style.Styler at 0x7b45a53738e0>"
            ],
            "text/html": [
              "<style type=\"text/css\">\n",
              "#T_29f61_row10_col1 {\n",
              "  background-color: lightgreen;\n",
              "}\n",
              "</style>\n",
              "<table id=\"T_29f61\" class=\"dataframe\">\n",
              "  <thead>\n",
              "    <tr>\n",
              "      <th class=\"blank level0\" >&nbsp;</th>\n",
              "      <th id=\"T_29f61_level0_col0\" class=\"col_heading level0 col0\" >Description</th>\n",
              "      <th id=\"T_29f61_level0_col1\" class=\"col_heading level0 col1\" >Value</th>\n",
              "    </tr>\n",
              "  </thead>\n",
              "  <tbody>\n",
              "    <tr>\n",
              "      <th id=\"T_29f61_level0_row0\" class=\"row_heading level0 row0\" >0</th>\n",
              "      <td id=\"T_29f61_row0_col0\" class=\"data row0 col0\" >Session id</td>\n",
              "      <td id=\"T_29f61_row0_col1\" class=\"data row0 col1\" >2111</td>\n",
              "    </tr>\n",
              "    <tr>\n",
              "      <th id=\"T_29f61_level0_row1\" class=\"row_heading level0 row1\" >1</th>\n",
              "      <td id=\"T_29f61_row1_col0\" class=\"data row1 col0\" >Target</td>\n",
              "      <td id=\"T_29f61_row1_col1\" class=\"data row1 col1\" >label</td>\n",
              "    </tr>\n",
              "    <tr>\n",
              "      <th id=\"T_29f61_level0_row2\" class=\"row_heading level0 row2\" >2</th>\n",
              "      <td id=\"T_29f61_row2_col0\" class=\"data row2 col0\" >Target type</td>\n",
              "      <td id=\"T_29f61_row2_col1\" class=\"data row2 col1\" >Binary</td>\n",
              "    </tr>\n",
              "    <tr>\n",
              "      <th id=\"T_29f61_level0_row3\" class=\"row_heading level0 row3\" >3</th>\n",
              "      <td id=\"T_29f61_row3_col0\" class=\"data row3 col0\" >Original data shape</td>\n",
              "      <td id=\"T_29f61_row3_col1\" class=\"data row3 col1\" >(17588, 40)</td>\n",
              "    </tr>\n",
              "    <tr>\n",
              "      <th id=\"T_29f61_level0_row4\" class=\"row_heading level0 row4\" >4</th>\n",
              "      <td id=\"T_29f61_row4_col0\" class=\"data row4 col0\" >Transformed data shape</td>\n",
              "      <td id=\"T_29f61_row4_col1\" class=\"data row4 col1\" >(17588, 48)</td>\n",
              "    </tr>\n",
              "    <tr>\n",
              "      <th id=\"T_29f61_level0_row5\" class=\"row_heading level0 row5\" >5</th>\n",
              "      <td id=\"T_29f61_row5_col0\" class=\"data row5 col0\" >Transformed train set shape</td>\n",
              "      <td id=\"T_29f61_row5_col1\" class=\"data row5 col1\" >(12311, 48)</td>\n",
              "    </tr>\n",
              "    <tr>\n",
              "      <th id=\"T_29f61_level0_row6\" class=\"row_heading level0 row6\" >6</th>\n",
              "      <td id=\"T_29f61_row6_col0\" class=\"data row6 col0\" >Transformed test set shape</td>\n",
              "      <td id=\"T_29f61_row6_col1\" class=\"data row6 col1\" >(5277, 48)</td>\n",
              "    </tr>\n",
              "    <tr>\n",
              "      <th id=\"T_29f61_level0_row7\" class=\"row_heading level0 row7\" >7</th>\n",
              "      <td id=\"T_29f61_row7_col0\" class=\"data row7 col0\" >Numeric features</td>\n",
              "      <td id=\"T_29f61_row7_col1\" class=\"data row7 col1\" >33</td>\n",
              "    </tr>\n",
              "    <tr>\n",
              "      <th id=\"T_29f61_level0_row8\" class=\"row_heading level0 row8\" >8</th>\n",
              "      <td id=\"T_29f61_row8_col0\" class=\"data row8 col0\" >Categorical features</td>\n",
              "      <td id=\"T_29f61_row8_col1\" class=\"data row8 col1\" >6</td>\n",
              "    </tr>\n",
              "    <tr>\n",
              "      <th id=\"T_29f61_level0_row9\" class=\"row_heading level0 row9\" >9</th>\n",
              "      <td id=\"T_29f61_row9_col0\" class=\"data row9 col0\" >Rows with missing values</td>\n",
              "      <td id=\"T_29f61_row9_col1\" class=\"data row9 col1\" >93.9%</td>\n",
              "    </tr>\n",
              "    <tr>\n",
              "      <th id=\"T_29f61_level0_row10\" class=\"row_heading level0 row10\" >10</th>\n",
              "      <td id=\"T_29f61_row10_col0\" class=\"data row10 col0\" >Preprocess</td>\n",
              "      <td id=\"T_29f61_row10_col1\" class=\"data row10 col1\" >True</td>\n",
              "    </tr>\n",
              "    <tr>\n",
              "      <th id=\"T_29f61_level0_row11\" class=\"row_heading level0 row11\" >11</th>\n",
              "      <td id=\"T_29f61_row11_col0\" class=\"data row11 col0\" >Imputation type</td>\n",
              "      <td id=\"T_29f61_row11_col1\" class=\"data row11 col1\" >simple</td>\n",
              "    </tr>\n",
              "    <tr>\n",
              "      <th id=\"T_29f61_level0_row12\" class=\"row_heading level0 row12\" >12</th>\n",
              "      <td id=\"T_29f61_row12_col0\" class=\"data row12 col0\" >Numeric imputation</td>\n",
              "      <td id=\"T_29f61_row12_col1\" class=\"data row12 col1\" >mean</td>\n",
              "    </tr>\n",
              "    <tr>\n",
              "      <th id=\"T_29f61_level0_row13\" class=\"row_heading level0 row13\" >13</th>\n",
              "      <td id=\"T_29f61_row13_col0\" class=\"data row13 col0\" >Categorical imputation</td>\n",
              "      <td id=\"T_29f61_row13_col1\" class=\"data row13 col1\" >mode</td>\n",
              "    </tr>\n",
              "    <tr>\n",
              "      <th id=\"T_29f61_level0_row14\" class=\"row_heading level0 row14\" >14</th>\n",
              "      <td id=\"T_29f61_row14_col0\" class=\"data row14 col0\" >Maximum one-hot encoding</td>\n",
              "      <td id=\"T_29f61_row14_col1\" class=\"data row14 col1\" >25</td>\n",
              "    </tr>\n",
              "    <tr>\n",
              "      <th id=\"T_29f61_level0_row15\" class=\"row_heading level0 row15\" >15</th>\n",
              "      <td id=\"T_29f61_row15_col0\" class=\"data row15 col0\" >Encoding method</td>\n",
              "      <td id=\"T_29f61_row15_col1\" class=\"data row15 col1\" >None</td>\n",
              "    </tr>\n",
              "    <tr>\n",
              "      <th id=\"T_29f61_level0_row16\" class=\"row_heading level0 row16\" >16</th>\n",
              "      <td id=\"T_29f61_row16_col0\" class=\"data row16 col0\" >Fold Generator</td>\n",
              "      <td id=\"T_29f61_row16_col1\" class=\"data row16 col1\" >StratifiedKFold</td>\n",
              "    </tr>\n",
              "    <tr>\n",
              "      <th id=\"T_29f61_level0_row17\" class=\"row_heading level0 row17\" >17</th>\n",
              "      <td id=\"T_29f61_row17_col0\" class=\"data row17 col0\" >Fold Number</td>\n",
              "      <td id=\"T_29f61_row17_col1\" class=\"data row17 col1\" >10</td>\n",
              "    </tr>\n",
              "    <tr>\n",
              "      <th id=\"T_29f61_level0_row18\" class=\"row_heading level0 row18\" >18</th>\n",
              "      <td id=\"T_29f61_row18_col0\" class=\"data row18 col0\" >CPU Jobs</td>\n",
              "      <td id=\"T_29f61_row18_col1\" class=\"data row18 col1\" >-1</td>\n",
              "    </tr>\n",
              "    <tr>\n",
              "      <th id=\"T_29f61_level0_row19\" class=\"row_heading level0 row19\" >19</th>\n",
              "      <td id=\"T_29f61_row19_col0\" class=\"data row19 col0\" >Use GPU</td>\n",
              "      <td id=\"T_29f61_row19_col1\" class=\"data row19 col1\" >False</td>\n",
              "    </tr>\n",
              "    <tr>\n",
              "      <th id=\"T_29f61_level0_row20\" class=\"row_heading level0 row20\" >20</th>\n",
              "      <td id=\"T_29f61_row20_col0\" class=\"data row20 col0\" >Log Experiment</td>\n",
              "      <td id=\"T_29f61_row20_col1\" class=\"data row20 col1\" >False</td>\n",
              "    </tr>\n",
              "    <tr>\n",
              "      <th id=\"T_29f61_level0_row21\" class=\"row_heading level0 row21\" >21</th>\n",
              "      <td id=\"T_29f61_row21_col0\" class=\"data row21 col0\" >Experiment Name</td>\n",
              "      <td id=\"T_29f61_row21_col1\" class=\"data row21 col1\" >clf-default-name</td>\n",
              "    </tr>\n",
              "    <tr>\n",
              "      <th id=\"T_29f61_level0_row22\" class=\"row_heading level0 row22\" >22</th>\n",
              "      <td id=\"T_29f61_row22_col0\" class=\"data row22 col0\" >USI</td>\n",
              "      <td id=\"T_29f61_row22_col1\" class=\"data row22 col1\" >33bb</td>\n",
              "    </tr>\n",
              "  </tbody>\n",
              "</table>\n"
            ]
          },
          "metadata": {}
        }
      ],
      "source": [
        "from pycaret.datasets import get_data\n",
        "from pycaret.classification import *\n",
        "import os\n",
        "\n",
        "os.environ[\"PYCARET_CUSTOM_LOGGING_LEVEL\"] = \"CRITICAL\"\n",
        "\n",
        "# 1.1\n",
        "clf = setup(df, target='label')"
      ]
    },
    {
      "cell_type": "code",
      "source": [
        "tree_models = ['et', 'rf', 'dt', 'xgboost', 'lightgbm']\n",
        "best_model = compare_models(include=tree_models, n_select=5)"
      ],
      "metadata": {
        "colab": {
          "base_uri": "https://localhost:8080/",
          "height": 206,
          "referenced_widgets": [
            "15ff60fd4c134f8f9211fdc089f572be",
            "4cb2b2ee455440ddb593e7abd4c748b1",
            "60d82b415ea84b57a259efcf00379e27",
            "9084a0923fde425d896757ba245e05fe",
            "bc2820b1c3d4457b863f6219565eda3a",
            "4b01ed549d4041cb9226f9d54386878a",
            "0b8a48e352544e2696582422ba1eba1b",
            "04d23fba61644f6399c4059b83a698cd",
            "e8868d1a988044dca53bda4dfe944378",
            "09df00ff44a346d8b3cb7ccccca06a91",
            "114e63abfe3f4c0ab537181b8d1bb2af"
          ]
        },
        "id": "SY8YgjjwANyh",
        "outputId": "67199fea-5072-49cf-dab1-8913918fc684"
      },
      "execution_count": 105,
      "outputs": [
        {
          "output_type": "display_data",
          "data": {
            "text/plain": [
              "<IPython.core.display.HTML object>"
            ],
            "text/html": []
          },
          "metadata": {}
        },
        {
          "output_type": "display_data",
          "data": {
            "text/plain": [
              "<pandas.io.formats.style.Styler at 0x7b45bd448b80>"
            ],
            "text/html": [
              "<style type=\"text/css\">\n",
              "#T_91165 th {\n",
              "  text-align: left;\n",
              "}\n",
              "#T_91165_row0_col0, #T_91165_row0_col2, #T_91165_row0_col4, #T_91165_row1_col0, #T_91165_row1_col1, #T_91165_row1_col3, #T_91165_row1_col5, #T_91165_row1_col6, #T_91165_row1_col7, #T_91165_row2_col0, #T_91165_row2_col1, #T_91165_row2_col2, #T_91165_row2_col3, #T_91165_row2_col4, #T_91165_row2_col5, #T_91165_row2_col6, #T_91165_row2_col7, #T_91165_row3_col0, #T_91165_row3_col1, #T_91165_row3_col2, #T_91165_row3_col3, #T_91165_row3_col4, #T_91165_row3_col5, #T_91165_row3_col6, #T_91165_row3_col7, #T_91165_row4_col0, #T_91165_row4_col1, #T_91165_row4_col2, #T_91165_row4_col3, #T_91165_row4_col4, #T_91165_row4_col5, #T_91165_row4_col6, #T_91165_row4_col7 {\n",
              "  text-align: left;\n",
              "}\n",
              "#T_91165_row0_col1, #T_91165_row0_col3, #T_91165_row0_col5, #T_91165_row0_col6, #T_91165_row0_col7, #T_91165_row1_col2, #T_91165_row1_col4 {\n",
              "  text-align: left;\n",
              "  background-color: yellow;\n",
              "}\n",
              "#T_91165_row0_col8 {\n",
              "  text-align: left;\n",
              "  background-color: yellow;\n",
              "  background-color: lightgrey;\n",
              "}\n",
              "#T_91165_row1_col8, #T_91165_row2_col8, #T_91165_row3_col8, #T_91165_row4_col8 {\n",
              "  text-align: left;\n",
              "  background-color: lightgrey;\n",
              "}\n",
              "</style>\n",
              "<table id=\"T_91165\" class=\"dataframe\">\n",
              "  <thead>\n",
              "    <tr>\n",
              "      <th class=\"blank level0\" >&nbsp;</th>\n",
              "      <th id=\"T_91165_level0_col0\" class=\"col_heading level0 col0\" >Model</th>\n",
              "      <th id=\"T_91165_level0_col1\" class=\"col_heading level0 col1\" >Accuracy</th>\n",
              "      <th id=\"T_91165_level0_col2\" class=\"col_heading level0 col2\" >AUC</th>\n",
              "      <th id=\"T_91165_level0_col3\" class=\"col_heading level0 col3\" >Recall</th>\n",
              "      <th id=\"T_91165_level0_col4\" class=\"col_heading level0 col4\" >Prec.</th>\n",
              "      <th id=\"T_91165_level0_col5\" class=\"col_heading level0 col5\" >F1</th>\n",
              "      <th id=\"T_91165_level0_col6\" class=\"col_heading level0 col6\" >Kappa</th>\n",
              "      <th id=\"T_91165_level0_col7\" class=\"col_heading level0 col7\" >MCC</th>\n",
              "      <th id=\"T_91165_level0_col8\" class=\"col_heading level0 col8\" >TT (Sec)</th>\n",
              "    </tr>\n",
              "  </thead>\n",
              "  <tbody>\n",
              "    <tr>\n",
              "      <th id=\"T_91165_level0_row0\" class=\"row_heading level0 row0\" >dt</th>\n",
              "      <td id=\"T_91165_row0_col0\" class=\"data row0 col0\" >Decision Tree Classifier</td>\n",
              "      <td id=\"T_91165_row0_col1\" class=\"data row0 col1\" >0.9562</td>\n",
              "      <td id=\"T_91165_row0_col2\" class=\"data row0 col2\" >0.6473</td>\n",
              "      <td id=\"T_91165_row0_col3\" class=\"data row0 col3\" >0.2954</td>\n",
              "      <td id=\"T_91165_row0_col4\" class=\"data row0 col4\" >0.6791</td>\n",
              "      <td id=\"T_91165_row0_col5\" class=\"data row0 col5\" >0.4106</td>\n",
              "      <td id=\"T_91165_row0_col6\" class=\"data row0 col6\" >0.3993</td>\n",
              "      <td id=\"T_91165_row0_col7\" class=\"data row0 col7\" >0.4373</td>\n",
              "      <td id=\"T_91165_row0_col8\" class=\"data row0 col8\" >0.3090</td>\n",
              "    </tr>\n",
              "    <tr>\n",
              "      <th id=\"T_91165_level0_row1\" class=\"row_heading level0 row1\" >rf</th>\n",
              "      <td id=\"T_91165_row1_col0\" class=\"data row1 col0\" >Random Forest Classifier</td>\n",
              "      <td id=\"T_91165_row1_col1\" class=\"data row1 col1\" >0.9478</td>\n",
              "      <td id=\"T_91165_row1_col2\" class=\"data row1 col2\" >0.9316</td>\n",
              "      <td id=\"T_91165_row1_col3\" class=\"data row1 col3\" >0.1569</td>\n",
              "      <td id=\"T_91165_row1_col4\" class=\"data row1 col4\" >0.9194</td>\n",
              "      <td id=\"T_91165_row1_col5\" class=\"data row1 col5\" >0.2623</td>\n",
              "      <td id=\"T_91165_row1_col6\" class=\"data row1 col6\" >0.2500</td>\n",
              "      <td id=\"T_91165_row1_col7\" class=\"data row1 col7\" >0.3607</td>\n",
              "      <td id=\"T_91165_row1_col8\" class=\"data row1 col8\" >1.7370</td>\n",
              "    </tr>\n",
              "    <tr>\n",
              "      <th id=\"T_91165_level0_row2\" class=\"row_heading level0 row2\" >et</th>\n",
              "      <td id=\"T_91165_row2_col0\" class=\"data row2 col0\" >Extra Trees Classifier</td>\n",
              "      <td id=\"T_91165_row2_col1\" class=\"data row2 col1\" >0.9471</td>\n",
              "      <td id=\"T_91165_row2_col2\" class=\"data row2 col2\" >0.9066</td>\n",
              "      <td id=\"T_91165_row2_col3\" class=\"data row2 col3\" >0.1464</td>\n",
              "      <td id=\"T_91165_row2_col4\" class=\"data row2 col4\" >0.9188</td>\n",
              "      <td id=\"T_91165_row2_col5\" class=\"data row2 col5\" >0.2480</td>\n",
              "      <td id=\"T_91165_row2_col6\" class=\"data row2 col6\" >0.2359</td>\n",
              "      <td id=\"T_91165_row2_col7\" class=\"data row2 col7\" >0.3485</td>\n",
              "      <td id=\"T_91165_row2_col8\" class=\"data row2 col8\" >1.2210</td>\n",
              "    </tr>\n",
              "    <tr>\n",
              "      <th id=\"T_91165_level0_row3\" class=\"row_heading level0 row3\" >lightgbm</th>\n",
              "      <td id=\"T_91165_row3_col0\" class=\"data row3 col0\" >Light Gradient Boosting Machine</td>\n",
              "      <td id=\"T_91165_row3_col1\" class=\"data row3 col1\" >0.9407</td>\n",
              "      <td id=\"T_91165_row3_col2\" class=\"data row3 col2\" >0.7294</td>\n",
              "      <td id=\"T_91165_row3_col3\" class=\"data row3 col3\" >0.0408</td>\n",
              "      <td id=\"T_91165_row3_col4\" class=\"data row3 col4\" >0.1000</td>\n",
              "      <td id=\"T_91165_row3_col5\" class=\"data row3 col5\" >0.0579</td>\n",
              "      <td id=\"T_91165_row3_col6\" class=\"data row3 col6\" >0.0550</td>\n",
              "      <td id=\"T_91165_row3_col7\" class=\"data row3 col7\" >0.0578</td>\n",
              "      <td id=\"T_91165_row3_col8\" class=\"data row3 col8\" >1.9580</td>\n",
              "    </tr>\n",
              "    <tr>\n",
              "      <th id=\"T_91165_level0_row4\" class=\"row_heading level0 row4\" >xgboost</th>\n",
              "      <td id=\"T_91165_row4_col0\" class=\"data row4 col0\" >Extreme Gradient Boosting</td>\n",
              "      <td id=\"T_91165_row4_col1\" class=\"data row4 col1\" >0.9382</td>\n",
              "      <td id=\"T_91165_row4_col2\" class=\"data row4 col2\" >0.8648</td>\n",
              "      <td id=\"T_91165_row4_col3\" class=\"data row4 col3\" >0.0000</td>\n",
              "      <td id=\"T_91165_row4_col4\" class=\"data row4 col4\" >0.0000</td>\n",
              "      <td id=\"T_91165_row4_col5\" class=\"data row4 col5\" >0.0000</td>\n",
              "      <td id=\"T_91165_row4_col6\" class=\"data row4 col6\" >-0.0014</td>\n",
              "      <td id=\"T_91165_row4_col7\" class=\"data row4 col7\" >-0.0048</td>\n",
              "      <td id=\"T_91165_row4_col8\" class=\"data row4 col8\" >0.7630</td>\n",
              "    </tr>\n",
              "  </tbody>\n",
              "</table>\n"
            ]
          },
          "metadata": {}
        },
        {
          "output_type": "display_data",
          "data": {
            "text/plain": [
              "Processing:   0%|          | 0/29 [00:00<?, ?it/s]"
            ],
            "application/vnd.jupyter.widget-view+json": {
              "version_major": 2,
              "version_minor": 0,
              "model_id": "15ff60fd4c134f8f9211fdc089f572be"
            }
          },
          "metadata": {
            "application/vnd.jupyter.widget-view+json": {
              "colab": {
                "custom_widget_manager": {
                  "url": "https://ssl.gstatic.com/colaboratory-static/widgets/colab-cdn-widget-manager/2b70e893a8ba7c0f/manager.min.js"
                }
              }
            }
          }
        },
        {
          "output_type": "display_data",
          "data": {
            "text/plain": [
              "<IPython.core.display.HTML object>"
            ],
            "text/html": []
          },
          "metadata": {}
        }
      ]
    },
    {
      "cell_type": "markdown",
      "source": [
        "El mejor en performance de falsos positivos o Precision es Extra Tree Classifier ('et')"
      ],
      "metadata": {
        "id": "uO5tcgACAVCA"
      }
    },
    {
      "cell_type": "code",
      "source": [
        "evaluate_model(best_model[2])"
      ],
      "metadata": {
        "colab": {
          "base_uri": "https://localhost:8080/",
          "height": 611,
          "referenced_widgets": [
            "739f065ad514489a85db8909786864ff",
            "997af1f6d7ff4b5191664e233313a71d",
            "13d38e934ddf4a7aa54c8ec167c06089",
            "d74e3685a863440c8eaf967c3dec5eac",
            "2d5bfaee16e545b1aa37200d1e3c1085",
            "452b51c6f1194ff7b63e1c39225ea025",
            "b2ddbb4141524f85b77b171b53ac220e"
          ]
        },
        "id": "JjbfEBymAURn",
        "outputId": "e5876c67-62e1-4bfd-d889-ac7ac20e7931"
      },
      "execution_count": 56,
      "outputs": [
        {
          "output_type": "display_data",
          "data": {
            "text/plain": [
              "interactive(children=(ToggleButtons(description='Plot Type:', icons=('',), options=(('Pipeline Plot', 'pipelin…"
            ],
            "application/vnd.jupyter.widget-view+json": {
              "version_major": 2,
              "version_minor": 0,
              "model_id": "739f065ad514489a85db8909786864ff"
            }
          },
          "metadata": {
            "application/vnd.jupyter.widget-view+json": {
              "colab": {
                "custom_widget_manager": {
                  "url": "https://ssl.gstatic.com/colaboratory-static/widgets/colab-cdn-widget-manager/2b70e893a8ba7c0f/manager.min.js"
                }
              }
            }
          }
        }
      ]
    },
    {
      "cell_type": "markdown",
      "source": [
        "**Confusion Matrix**: Los verdaderos positivos se priorizan a costa de tener muchos falsos positivos, los verdaderos negativos guardan una buena proporción en comparación con los falsos negativos\n",
        "\n",
        "**Threshold**: Debido al desvalance de clases, un threshold menos a 0.5 puede mejor el desempeño del modelo en todas las métricas, pero para nuestro caso solo se necesita precision. Vale la pena estudiar esta curva en otros modelos para ver si puede mejorar la precision sin sacrificar su robustes.\n",
        "\n",
        "**Feature Importance**: Nombre, National Position, Nationality, Reaction. Esto puede deberse a que lo más importante de un jugador es la popularidad y el desempeño comparativo.\n",
        "\n",
        "**Learning Curve**: El modelo tiene overfitting"
      ],
      "metadata": {
        "id": "Zl72o1zxcuo3"
      }
    },
    {
      "cell_type": "markdown",
      "metadata": {
        "id": "K8DSS3u1xMpB"
      },
      "source": [
        "### 2.2 Reducción de dimensionalidad [14 puntos]"
      ]
    },
    {
      "cell_type": "markdown",
      "metadata": {
        "id": "RLu0543p876P"
      },
      "source": [
        "<center>\n",
        "<img src='https://i.kym-cdn.com/photos/images/original/002/258/560/668.gif' width=400 />"
      ]
    },
    {
      "cell_type": "markdown",
      "metadata": {
        "id": "QT-bxJ0txwNF"
      },
      "source": [
        "A pesar de los resultados obtenidos previamente, el manager de Jere ha solicitado el entrenamiento de un modelo de XGBoost utilizando los datos disponibles. Además, se debe proceder a realizar una reducción de dimensionalidad basada en la importancia de las características.\n",
        "\n",
        "Para llevar a cabo esta tarea:\n",
        "\n",
        "1. Inicie entrenando un modelo XGBoost con todas las características disponibles. [2 puntos]\n",
        "\n",
        "2. Una vez el modelo esté entrenado, evalúe y clasifique las características según su importancia de forma descendente. [2 puntos]\n",
        "\n",
        "3. Utilice esta clasificación para ejecutar una búsqueda recursiva de eliminación de características, eliminando progresivamente las menos importantes y evaluando el impacto en el desempeño del modelo hasta identificar las N características más críticas. [2 puntos]\n",
        "\n",
        "4. Con este conjunto reducido de características, entrene un nuevo modelo y evalúe su rendimiento. [2 puntos]\n",
        "\n",
        "5. Posteriormente, responda a las siguientes preguntas para una comprensión más profunda de los cambios y beneficios:\n",
        "\n",
        "  - ¿El rendimiento del modelo con las características seleccionadas es similar al del modelo original? ¿Cómo se comparan en términos de precisión y robustez? [2 puntos]\n",
        "  - ¿Cuáles son los beneficios potenciales de eliminar variables del modelo? Considere factores como la simplificación del modelo, reducción del tiempo de entrenamiento, y mejora en la capacidad de generalización. [2 puntos]\n",
        "  - Comente si el modelo con menor dimensionalidad es más sencillo de explicar. Explique brevemente por qué la eliminación de ciertas características puede facilitar la comprensión y la explicación del comportamiento del modelo. [2 puntos]\n",
        "\n",
        "Notar que con esta metodologia buscamos encontrar un punto entermedio entre número de festures y desempeño. por esto, si observa que al aumentar festires el aumento es despreciable, puede no considerar agregar más features a su modelo."
      ]
    },
    {
      "cell_type": "markdown",
      "metadata": {
        "id": "NHfmK63TuDOS"
      },
      "source": [
        "**Respuesta**"
      ]
    },
    {
      "cell_type": "code",
      "execution_count": 83,
      "metadata": {
        "id": "HQwUd_nsuDOe",
        "colab": {
          "base_uri": "https://localhost:8080/",
          "height": 81,
          "referenced_widgets": [
            "6b440132ad134a958292bc7627c15325",
            "b8e1d1084fc449a4a40da62244b03fdc",
            "a063e3720b794bd0ace200c75fc85861",
            "20916d35a02844fc9394dc68ec10989c",
            "a61ca6a293f94e0d9be39d1c69d3e027",
            "8da2e50efd7643439f8956cf852ed10a",
            "77d0c28a759b417bbabcb283617d60ed",
            "177468d93872498f81c25bfa1ce55009",
            "35f2ab3714d24e5bbd4f075f10a7061f",
            "4301d2b2c6a94b6eb09cac7d625fbb40",
            "0ab7ba4e36564ac49ab1cc395fffd255"
          ]
        },
        "outputId": "fee7f7c8-7cbe-4e05-b5f4-c3b00fd1371c"
      },
      "outputs": [
        {
          "output_type": "display_data",
          "data": {
            "text/plain": [
              "<IPython.core.display.HTML object>"
            ],
            "text/html": []
          },
          "metadata": {}
        },
        {
          "output_type": "display_data",
          "data": {
            "text/plain": [
              "<pandas.io.formats.style.Styler at 0x7b45a714ea10>"
            ],
            "text/html": [
              "<style type=\"text/css\">\n",
              "#T_49082 th {\n",
              "  text-align: left;\n",
              "}\n",
              "#T_49082_row0_col0 {\n",
              "  text-align: left;\n",
              "}\n",
              "#T_49082_row0_col1, #T_49082_row0_col2, #T_49082_row0_col3, #T_49082_row0_col4, #T_49082_row0_col5, #T_49082_row0_col6, #T_49082_row0_col7 {\n",
              "  text-align: left;\n",
              "  background-color: yellow;\n",
              "}\n",
              "#T_49082_row0_col8 {\n",
              "  text-align: left;\n",
              "  background-color: yellow;\n",
              "  background-color: lightgrey;\n",
              "}\n",
              "</style>\n",
              "<table id=\"T_49082\" class=\"dataframe\">\n",
              "  <thead>\n",
              "    <tr>\n",
              "      <th class=\"blank level0\" >&nbsp;</th>\n",
              "      <th id=\"T_49082_level0_col0\" class=\"col_heading level0 col0\" >Model</th>\n",
              "      <th id=\"T_49082_level0_col1\" class=\"col_heading level0 col1\" >Accuracy</th>\n",
              "      <th id=\"T_49082_level0_col2\" class=\"col_heading level0 col2\" >AUC</th>\n",
              "      <th id=\"T_49082_level0_col3\" class=\"col_heading level0 col3\" >Recall</th>\n",
              "      <th id=\"T_49082_level0_col4\" class=\"col_heading level0 col4\" >Prec.</th>\n",
              "      <th id=\"T_49082_level0_col5\" class=\"col_heading level0 col5\" >F1</th>\n",
              "      <th id=\"T_49082_level0_col6\" class=\"col_heading level0 col6\" >Kappa</th>\n",
              "      <th id=\"T_49082_level0_col7\" class=\"col_heading level0 col7\" >MCC</th>\n",
              "      <th id=\"T_49082_level0_col8\" class=\"col_heading level0 col8\" >TT (Sec)</th>\n",
              "    </tr>\n",
              "  </thead>\n",
              "  <tbody>\n",
              "    <tr>\n",
              "      <th id=\"T_49082_level0_row0\" class=\"row_heading level0 row0\" >xgboost</th>\n",
              "      <td id=\"T_49082_row0_col0\" class=\"data row0 col0\" >Extreme Gradient Boosting</td>\n",
              "      <td id=\"T_49082_row0_col1\" class=\"data row0 col1\" >0.9386</td>\n",
              "      <td id=\"T_49082_row0_col2\" class=\"data row0 col2\" >0.8426</td>\n",
              "      <td id=\"T_49082_row0_col3\" class=\"data row0 col3\" >0.0027</td>\n",
              "      <td id=\"T_49082_row0_col4\" class=\"data row0 col4\" >0.1333</td>\n",
              "      <td id=\"T_49082_row0_col5\" class=\"data row0 col5\" >0.0052</td>\n",
              "      <td id=\"T_49082_row0_col6\" class=\"data row0 col6\" >0.0039</td>\n",
              "      <td id=\"T_49082_row0_col7\" class=\"data row0 col7\" >0.0143</td>\n",
              "      <td id=\"T_49082_row0_col8\" class=\"data row0 col8\" >0.7240</td>\n",
              "    </tr>\n",
              "  </tbody>\n",
              "</table>\n"
            ]
          },
          "metadata": {}
        },
        {
          "output_type": "display_data",
          "data": {
            "text/plain": [
              "Processing:   0%|          | 0/9 [00:00<?, ?it/s]"
            ],
            "application/vnd.jupyter.widget-view+json": {
              "version_major": 2,
              "version_minor": 0,
              "model_id": "6b440132ad134a958292bc7627c15325"
            }
          },
          "metadata": {
            "application/vnd.jupyter.widget-view+json": {
              "colab": {
                "custom_widget_manager": {
                  "url": "https://ssl.gstatic.com/colaboratory-static/widgets/colab-cdn-widget-manager/2b70e893a8ba7c0f/manager.min.js"
                }
              }
            }
          }
        },
        {
          "output_type": "display_data",
          "data": {
            "text/plain": [
              "<IPython.core.display.HTML object>"
            ],
            "text/html": []
          },
          "metadata": {}
        }
      ],
      "source": [
        "xgboost = compare_models(include=['xgboost'])"
      ]
    },
    {
      "cell_type": "code",
      "source": [
        "feat_importances = pd.DataFrame(\n",
        "    xgboost.feature_importances_,\n",
        "    xgboost.feature_names_in_,\n",
        "    columns=[\"Importance\"]\n",
        ")\n",
        "feat_importances.sort_values(by='Importance', ascending=False, inplace=True)\n",
        "feat_importances.plot(kind='barh', figsize=(10,8), legend=False)"
      ],
      "metadata": {
        "colab": {
          "base_uri": "https://localhost:8080/",
          "height": 693
        },
        "id": "VqUOjcjxxubb",
        "outputId": "646d49cc-afba-4e00-bded-9e84606aa367"
      },
      "execution_count": 88,
      "outputs": [
        {
          "output_type": "execute_result",
          "data": {
            "text/plain": [
              "<Axes: >"
            ]
          },
          "metadata": {},
          "execution_count": 88
        },
        {
          "output_type": "display_data",
          "data": {
            "text/plain": [
              "<Figure size 1000x800 with 1 Axes>"
            ],
            "image/png": "[encoded data removed]"
          },
          "metadata": {}
        }
      ]
    },
    {
      "cell_type": "code",
      "source": [
        "# 7 caracteristicas más importantes\n",
        "feat_importances[:7]"
      ],
      "metadata": {
        "colab": {
          "base_uri": "https://localhost:8080/",
          "height": 269
        },
        "id": "MMgF0pya30mf",
        "outputId": "2a60e381-0049-4f74-eb09-2bfe0b921dbc"
      },
      "execution_count": 92,
      "outputs": [
        {
          "output_type": "execute_result",
          "data": {
            "text/plain": [
              "                   Importance\n",
              "Name                 0.974578\n",
              "National_Position    0.008143\n",
              "Strength             0.006330\n",
              "Weight               0.004860\n",
              "Reactions            0.002387\n",
              "Long_Pass            0.001577\n",
              "Nationality          0.001018"
            ],
            "text/html": [
              "\n",
              "  <div id=\"df-e74d75ec-6bee-4e3e-9474-f2b53c844177\" class=\"colab-df-container\">\n",
              "    <div>\n",
              "<style scoped>\n",
              "    .dataframe tbody tr th:only-of-type {\n",
              "        vertical-align: middle;\n",
              "    }\n",
              "\n",
              "    .dataframe tbody tr th {\n",
              "        vertical-align: top;\n",
              "    }\n",
              "\n",
              "    .dataframe thead th {\n",
              "        text-align: right;\n",
              "    }\n",
              "</style>\n",
              "<table border=\"1\" class=\"dataframe\">\n",
              "  <thead>\n",
              "    <tr style=\"text-align: right;\">\n",
              "      <th></th>\n",
              "      <th>Importance</th>\n",
              "    </tr>\n",
              "  </thead>\n",
              "  <tbody>\n",
              "    <tr>\n",
              "      <th>Name</th>\n",
              "      <td>0.974578</td>\n",
              "    </tr>\n",
              "    <tr>\n",
              "      <th>National_Position</th>\n",
              "      <td>0.008143</td>\n",
              "    </tr>\n",
              "    <tr>\n",
              "      <th>Strength</th>\n",
              "      <td>0.006330</td>\n",
              "    </tr>\n",
              "    <tr>\n",
              "      <th>Weight</th>\n",
              "      <td>0.004860</td>\n",
              "    </tr>\n",
              "    <tr>\n",
              "      <th>Reactions</th>\n",
              "      <td>0.002387</td>\n",
              "    </tr>\n",
              "    <tr>\n",
              "      <th>Long_Pass</th>\n",
              "      <td>0.001577</td>\n",
              "    </tr>\n",
              "    <tr>\n",
              "      <th>Nationality</th>\n",
              "      <td>0.001018</td>\n",
              "    </tr>\n",
              "  </tbody>\n",
              "</table>\n",
              "</div>\n",
              "    <div class=\"colab-df-buttons\">\n",
              "\n",
              "  <div class=\"colab-df-container\">\n",
              "    <button class=\"colab-df-convert\" onclick=\"convertToInteractive('df-e74d75ec-6bee-4e3e-9474-f2b53c844177')\"\n",
              "            title=\"Convert this dataframe to an interactive table.\"\n",
              "            style=\"display:none;\">\n",
              "\n",
              "  <svg xmlns=\"http://www.w3.org/2000/svg\" height=\"24px\" viewBox=\"0 -960 960 960\">\n",
              "    <path d=\"M120-120v-720h720v720H120Zm60-500h600v-160H180v160Zm220 220h160v-160H400v160Zm0 220h160v-160H400v160ZM180-400h160v-160H180v160Zm440 0h160v-160H620v160ZM180-180h160v-160H180v160Zm440 0h160v-160H620v160Z\"/>\n",
              "  </svg>\n",
              "    </button>\n",
              "\n",
              "  <style>\n",
              "    .colab-df-container {\n",
              "      display:flex;\n",
              "      gap: 12px;\n",
              "    }\n",
              "\n",
              "    .colab-df-convert {\n",
              "      background-color: #E8F0FE;\n",
              "      border: none;\n",
              "      border-radius: 50%;\n",
              "      cursor: pointer;\n",
              "      display: none;\n",
              "      fill: #1967D2;\n",
              "      height: 32px;\n",
              "      padding: 0 0 0 0;\n",
              "      width: 32px;\n",
              "    }\n",
              "\n",
              "    .colab-df-convert:hover {\n",
              "      background-color: #E2EBFA;\n",
              "      box-shadow: 0px 1px 2px rgba(60, 64, 67, 0.3), 0px 1px 3px 1px rgba(60, 64, 67, 0.15);\n",
              "      fill: #174EA6;\n",
              "    }\n",
              "\n",
              "    .colab-df-buttons div {\n",
              "      margin-bottom: 4px;\n",
              "    }\n",
              "\n",
              "    [theme=dark] .colab-df-convert {\n",
              "      background-color: #3B4455;\n",
              "      fill: #D2E3FC;\n",
              "    }\n",
              "\n",
              "    [theme=dark] .colab-df-convert:hover {\n",
              "      background-color: #434B5C;\n",
              "      box-shadow: 0px 1px 3px 1px rgba(0, 0, 0, 0.15);\n",
              "      filter: drop-shadow(0px 1px 2px rgba(0, 0, 0, 0.3));\n",
              "      fill: #FFFFFF;\n",
              "    }\n",
              "  </style>\n",
              "\n",
              "    <script>\n",
              "      const buttonEl =\n",
              "        document.querySelector('#df-e74d75ec-6bee-4e3e-9474-f2b53c844177 button.colab-df-convert');\n",
              "      buttonEl.style.display =\n",
              "        google.colab.kernel.accessAllowed ? 'block' : 'none';\n",
              "\n",
              "      async function convertToInteractive(key) {\n",
              "        const element = document.querySelector('#df-e74d75ec-6bee-4e3e-9474-f2b53c844177');\n",
              "        const dataTable =\n",
              "          await google.colab.kernel.invokeFunction('convertToInteractive',\n",
              "                                                    [key], {});\n",
              "        if (!dataTable) return;\n",
              "\n",
              "        const docLinkHtml = 'Like what you see? Visit the ' +\n",
              "          '<a target=\"_blank\" href=https://colab.research.google.com/notebooks/data_table.ipynb>data table notebook</a>'\n",
              "          + ' to learn more about interactive tables.';\n",
              "        element.innerHTML = '';\n",
              "        dataTable['output_type'] = 'display_data';\n",
              "        await google.colab.output.renderOutput(dataTable, element);\n",
              "        const docLink = document.createElement('div');\n",
              "        docLink.innerHTML = docLinkHtml;\n",
              "        element.appendChild(docLink);\n",
              "      }\n",
              "    </script>\n",
              "  </div>\n",
              "\n",
              "\n",
              "<div id=\"df-ab033924-a657-4f60-968d-83547c43b31c\">\n",
              "  <button class=\"colab-df-quickchart\" onclick=\"quickchart('df-ab033924-a657-4f60-968d-83547c43b31c')\"\n",
              "            title=\"Suggest charts\"\n",
              "            style=\"display:none;\">\n",
              "\n",
              "<svg xmlns=\"http://www.w3.org/2000/svg\" height=\"24px\"viewBox=\"0 0 24 24\"\n",
              "     width=\"24px\">\n",
              "    <g>\n",
              "        <path d=\"M19 3H5c-1.1 0-2 .9-2 2v14c0 1.1.9 2 2 2h14c1.1 0 2-.9 2-2V5c0-1.1-.9-2-2-2zM9 17H7v-7h2v7zm4 0h-2V7h2v10zm4 0h-2v-4h2v4z\"/>\n",
              "    </g>\n",
              "</svg>\n",
              "  </button>\n",
              "\n",
              "<style>\n",
              "  .colab-df-quickchart {\n",
              "      --bg-color: #E8F0FE;\n",
              "      --fill-color: #1967D2;\n",
              "      --hover-bg-color: #E2EBFA;\n",
              "      --hover-fill-color: #174EA6;\n",
              "      --disabled-fill-color: #AAA;\n",
              "      --disabled-bg-color: #DDD;\n",
              "  }\n",
              "\n",
              "  [theme=dark] .colab-df-quickchart {\n",
              "      --bg-color: #3B4455;\n",
              "      --fill-color: #D2E3FC;\n",
              "      --hover-bg-color: #434B5C;\n",
              "      --hover-fill-color: #FFFFFF;\n",
              "      --disabled-bg-color: #3B4455;\n",
              "      --disabled-fill-color: #666;\n",
              "  }\n",
              "\n",
              "  .colab-df-quickchart {\n",
              "    background-color: var(--bg-color);\n",
              "    border: none;\n",
              "    border-radius: 50%;\n",
              "    cursor: pointer;\n",
              "    display: none;\n",
              "    fill: var(--fill-color);\n",
              "    height: 32px;\n",
              "    padding: 0;\n",
              "    width: 32px;\n",
              "  }\n",
              "\n",
              "  .colab-df-quickchart:hover {\n",
              "    background-color: var(--hover-bg-color);\n",
              "    box-shadow: 0 1px 2px rgba(60, 64, 67, 0.3), 0 1px 3px 1px rgba(60, 64, 67, 0.15);\n",
              "    fill: var(--button-hover-fill-color);\n",
              "  }\n",
              "\n",
              "  .colab-df-quickchart-complete:disabled,\n",
              "  .colab-df-quickchart-complete:disabled:hover {\n",
              "    background-color: var(--disabled-bg-color);\n",
              "    fill: var(--disabled-fill-color);\n",
              "    box-shadow: none;\n",
              "  }\n",
              "\n",
              "  .colab-df-spinner {\n",
              "    border: 2px solid var(--fill-color);\n",
              "    border-color: transparent;\n",
              "    border-bottom-color: var(--fill-color);\n",
              "    animation:\n",
              "      spin 1s steps(1) infinite;\n",
              "  }\n",
              "\n",
              "  @keyframes spin {\n",
              "    0% {\n",
              "      border-color: transparent;\n",
              "      border-bottom-color: var(--fill-color);\n",
              "      border-left-color: var(--fill-color);\n",
              "    }\n",
              "    20% {\n",
              "      border-color: transparent;\n",
              "      border-left-color: var(--fill-color);\n",
              "      border-top-color: var(--fill-color);\n",
              "    }\n",
              "    30% {\n",
              "      border-color: transparent;\n",
              "      border-left-color: var(--fill-color);\n",
              "      border-top-color: var(--fill-color);\n",
              "      border-right-color: var(--fill-color);\n",
              "    }\n",
              "    40% {\n",
              "      border-color: transparent;\n",
              "      border-right-color: var(--fill-color);\n",
              "      border-top-color: var(--fill-color);\n",
              "    }\n",
              "    60% {\n",
              "      border-color: transparent;\n",
              "      border-right-color: var(--fill-color);\n",
              "    }\n",
              "    80% {\n",
              "      border-color: transparent;\n",
              "      border-right-color: var(--fill-color);\n",
              "      border-bottom-color: var(--fill-color);\n",
              "    }\n",
              "    90% {\n",
              "      border-color: transparent;\n",
              "      border-bottom-color: var(--fill-color);\n",
              "    }\n",
              "  }\n",
              "</style>\n",
              "\n",
              "  <script>\n",
              "    async function quickchart(key) {\n",
              "      const quickchartButtonEl =\n",
              "        document.querySelector('#' + key + ' button');\n",
              "      quickchartButtonEl.disabled = true;  // To prevent multiple clicks.\n",
              "      quickchartButtonEl.classList.add('colab-df-spinner');\n",
              "      try {\n",
              "        const charts = await google.colab.kernel.invokeFunction(\n",
              "            'suggestCharts', [key], {});\n",
              "      } catch (error) {\n",
              "        console.error('Error during call to suggestCharts:', error);\n",
              "      }\n",
              "      quickchartButtonEl.classList.remove('colab-df-spinner');\n",
              "      quickchartButtonEl.classList.add('colab-df-quickchart-complete');\n",
              "    }\n",
              "    (() => {\n",
              "      let quickchartButtonEl =\n",
              "        document.querySelector('#df-ab033924-a657-4f60-968d-83547c43b31c button');\n",
              "      quickchartButtonEl.style.display =\n",
              "        google.colab.kernel.accessAllowed ? 'block' : 'none';\n",
              "    })();\n",
              "  </script>\n",
              "</div>\n",
              "\n",
              "    </div>\n",
              "  </div>\n"
            ],
            "application/vnd.google.colaboratory.intrinsic+json": {
              "type": "dataframe",
              "summary": "{\n  \"name\": \"feat_importances[:7]\",\n  \"rows\": 7,\n  \"fields\": [\n    {\n      \"column\": \"Importance\",\n      \"properties\": {\n        \"dtype\": \"float32\",\n        \"num_unique_values\": 7,\n        \"samples\": [\n          0.9745777249336243,\n          0.008142827078700066,\n          0.0015771877951920033\n        ],\n        \"semantic_type\": \"\",\n        \"description\": \"\"\n      }\n    }\n  ]\n}"
            }
          },
          "metadata": {},
          "execution_count": 92
        }
      ]
    },
    {
      "cell_type": "code",
      "source": [
        "new_df = df.copy()\n",
        "new_df.drop(columns='Work_Rate', inplace=True)\n",
        "\n",
        "def eliminate_var(n=6):\n",
        "    clf = setup(new_df, target='label', verbose=False)\n",
        "    xgboost = create_model('xgboost', verbose=False)\n",
        "    feat_importances = pd.DataFrame(\n",
        "    xgboost.feature_importances_,\n",
        "    xgboost.feature_names_in_,\n",
        "    columns=[\"Importance\"]\n",
        "    )\n",
        "    feat_importances = feat_importances.sort_values(by='Importance', ascending=True)\n",
        "    feat_importances.reset_index(inplace=True)\n",
        "    droped = feat_importances.loc[0,\"index\"]\n",
        "    # print(droped)\n",
        "    new_df.drop(columns=droped, inplace=True)\n",
        "    if n < len(new_df.columns):\n",
        "      eliminate_var(n=n)\n",
        "\n",
        "eliminate_var()"
      ],
      "metadata": {
        "colab": {
          "base_uri": "https://localhost:8080/"
        },
        "id": "3Ph4BLgBdAev",
        "outputId": "a1b78dcd-2b00-4e93-c466-d6afe0aaf16f",
        "collapsed": true
      },
      "execution_count": 60,
      "outputs": [
        {
          "output_type": "stream",
          "name": "stdout",
          "text": [
            "Vision\n",
            "Volleys\n",
            "Interceptions\n",
            "Penalties\n",
            "Freekick_Accuracy\n",
            "Sliding_Tackle\n",
            "Curve\n",
            "Long_Shots\n",
            "Finishing\n",
            "Shot_Power\n",
            "Heading\n",
            "Jumping\n",
            "Skill_Moves\n",
            "Agility\n",
            "Marking\n",
            "Balance\n",
            "National_Position\n",
            "Standing_Tackle\n",
            "Speed\n",
            "Acceleration\n",
            "Preffered_Foot\n",
            "Dribbling\n",
            "Club_Position\n",
            "Height\n",
            "Weak_foot\n",
            "Age\n",
            "Crossing\n",
            "Stamina\n",
            "Aggression\n",
            "Strength\n",
            "Long_Pass\n",
            "Ball_Control\n",
            "Short_Pass\n"
          ]
        }
      ]
    },
    {
      "cell_type": "code",
      "source": [
        "new_df"
      ],
      "metadata": {
        "colab": {
          "base_uri": "https://localhost:8080/",
          "height": 424
        },
        "id": "sR35G3SLvYy3",
        "outputId": "46e4a84a-b7c4-4c3a-be4f-140c145ad8d6"
      },
      "execution_count": 61,
      "outputs": [
        {
          "output_type": "execute_result",
          "data": {
            "text/plain": [
              "                    Name          Nationality  Weight  Reactions  Composure  \\\n",
              "0      Cristiano Ronaldo             Portugal      80         96         86   \n",
              "1           Lionel Messi            Argentina      72         95         94   \n",
              "2                 Neymar               Brazil      68         88         80   \n",
              "3            Luis Suárez              Uruguay      85         93         83   \n",
              "4           Manuel Neuer              Germany      92         85         70   \n",
              "...                  ...                  ...     ...        ...        ...   \n",
              "17583        Adam Dunbar  Republic of Ireland      82         48         35   \n",
              "17584       Dylan McGoey  Republic of Ireland      80         43         22   \n",
              "17585    Tommy Ouldridge              England      61         42         35   \n",
              "17586         Mark Foden             Scotland      80         46         28   \n",
              "17587   Barry Richardson              England      77         38         44   \n",
              "\n",
              "       label  \n",
              "0          1  \n",
              "1          1  \n",
              "2          1  \n",
              "3          1  \n",
              "4          1  \n",
              "...      ...  \n",
              "17583      0  \n",
              "17584      0  \n",
              "17585      0  \n",
              "17586      0  \n",
              "17587      0  \n",
              "\n",
              "[17588 rows x 6 columns]"
            ],
            "text/html": [
              "\n",
              "  <div id=\"df-93f26b8e-c199-426d-90c2-40b814f3703e\" class=\"colab-df-container\">\n",
              "    <div>\n",
              "<style scoped>\n",
              "    .dataframe tbody tr th:only-of-type {\n",
              "        vertical-align: middle;\n",
              "    }\n",
              "\n",
              "    .dataframe tbody tr th {\n",
              "        vertical-align: top;\n",
              "    }\n",
              "\n",
              "    .dataframe thead th {\n",
              "        text-align: right;\n",
              "    }\n",
              "</style>\n",
              "<table border=\"1\" class=\"dataframe\">\n",
              "  <thead>\n",
              "    <tr style=\"text-align: right;\">\n",
              "      <th></th>\n",
              "      <th>Name</th>\n",
              "      <th>Nationality</th>\n",
              "      <th>Weight</th>\n",
              "      <th>Reactions</th>\n",
              "      <th>Composure</th>\n",
              "      <th>label</th>\n",
              "    </tr>\n",
              "  </thead>\n",
              "  <tbody>\n",
              "    <tr>\n",
              "      <th>0</th>\n",
              "      <td>Cristiano Ronaldo</td>\n",
              "      <td>Portugal</td>\n",
              "      <td>80</td>\n",
              "      <td>96</td>\n",
              "      <td>86</td>\n",
              "      <td>1</td>\n",
              "    </tr>\n",
              "    <tr>\n",
              "      <th>1</th>\n",
              "      <td>Lionel Messi</td>\n",
              "      <td>Argentina</td>\n",
              "      <td>72</td>\n",
              "      <td>95</td>\n",
              "      <td>94</td>\n",
              "      <td>1</td>\n",
              "    </tr>\n",
              "    <tr>\n",
              "      <th>2</th>\n",
              "      <td>Neymar</td>\n",
              "      <td>Brazil</td>\n",
              "      <td>68</td>\n",
              "      <td>88</td>\n",
              "      <td>80</td>\n",
              "      <td>1</td>\n",
              "    </tr>\n",
              "    <tr>\n",
              "      <th>3</th>\n",
              "      <td>Luis Suárez</td>\n",
              "      <td>Uruguay</td>\n",
              "      <td>85</td>\n",
              "      <td>93</td>\n",
              "      <td>83</td>\n",
              "      <td>1</td>\n",
              "    </tr>\n",
              "    <tr>\n",
              "      <th>4</th>\n",
              "      <td>Manuel Neuer</td>\n",
              "      <td>Germany</td>\n",
              "      <td>92</td>\n",
              "      <td>85</td>\n",
              "      <td>70</td>\n",
              "      <td>1</td>\n",
              "    </tr>\n",
              "    <tr>\n",
              "      <th>...</th>\n",
              "      <td>...</td>\n",
              "      <td>...</td>\n",
              "      <td>...</td>\n",
              "      <td>...</td>\n",
              "      <td>...</td>\n",
              "      <td>...</td>\n",
              "    </tr>\n",
              "    <tr>\n",
              "      <th>17583</th>\n",
              "      <td>Adam Dunbar</td>\n",
              "      <td>Republic of Ireland</td>\n",
              "      <td>82</td>\n",
              "      <td>48</td>\n",
              "      <td>35</td>\n",
              "      <td>0</td>\n",
              "    </tr>\n",
              "    <tr>\n",
              "      <th>17584</th>\n",
              "      <td>Dylan McGoey</td>\n",
              "      <td>Republic of Ireland</td>\n",
              "      <td>80</td>\n",
              "      <td>43</td>\n",
              "      <td>22</td>\n",
              "      <td>0</td>\n",
              "    </tr>\n",
              "    <tr>\n",
              "      <th>17585</th>\n",
              "      <td>Tommy Ouldridge</td>\n",
              "      <td>England</td>\n",
              "      <td>61</td>\n",
              "      <td>42</td>\n",
              "      <td>35</td>\n",
              "      <td>0</td>\n",
              "    </tr>\n",
              "    <tr>\n",
              "      <th>17586</th>\n",
              "      <td>Mark Foden</td>\n",
              "      <td>Scotland</td>\n",
              "      <td>80</td>\n",
              "      <td>46</td>\n",
              "      <td>28</td>\n",
              "      <td>0</td>\n",
              "    </tr>\n",
              "    <tr>\n",
              "      <th>17587</th>\n",
              "      <td>Barry Richardson</td>\n",
              "      <td>England</td>\n",
              "      <td>77</td>\n",
              "      <td>38</td>\n",
              "      <td>44</td>\n",
              "      <td>0</td>\n",
              "    </tr>\n",
              "  </tbody>\n",
              "</table>\n",
              "<p>17588 rows × 6 columns</p>\n",
              "</div>\n",
              "    <div class=\"colab-df-buttons\">\n",
              "\n",
              "  <div class=\"colab-df-container\">\n",
              "    <button class=\"colab-df-convert\" onclick=\"convertToInteractive('df-93f26b8e-c199-426d-90c2-40b814f3703e')\"\n",
              "            title=\"Convert this dataframe to an interactive table.\"\n",
              "            style=\"display:none;\">\n",
              "\n",
              "  <svg xmlns=\"http://www.w3.org/2000/svg\" height=\"24px\" viewBox=\"0 -960 960 960\">\n",
              "    <path d=\"M120-120v-720h720v720H120Zm60-500h600v-160H180v160Zm220 220h160v-160H400v160Zm0 220h160v-160H400v160ZM180-400h160v-160H180v160Zm440 0h160v-160H620v160ZM180-180h160v-160H180v160Zm440 0h160v-160H620v160Z\"/>\n",
              "  </svg>\n",
              "    </button>\n",
              "\n",
              "  <style>\n",
              "    .colab-df-container {\n",
              "      display:flex;\n",
              "      gap: 12px;\n",
              "    }\n",
              "\n",
              "    .colab-df-convert {\n",
              "      background-color: #E8F0FE;\n",
              "      border: none;\n",
              "      border-radius: 50%;\n",
              "      cursor: pointer;\n",
              "      display: none;\n",
              "      fill: #1967D2;\n",
              "      height: 32px;\n",
              "      padding: 0 0 0 0;\n",
              "      width: 32px;\n",
              "    }\n",
              "\n",
              "    .colab-df-convert:hover {\n",
              "      background-color: #E2EBFA;\n",
              "      box-shadow: 0px 1px 2px rgba(60, 64, 67, 0.3), 0px 1px 3px 1px rgba(60, 64, 67, 0.15);\n",
              "      fill: #174EA6;\n",
              "    }\n",
              "\n",
              "    .colab-df-buttons div {\n",
              "      margin-bottom: 4px;\n",
              "    }\n",
              "\n",
              "    [theme=dark] .colab-df-convert {\n",
              "      background-color: #3B4455;\n",
              "      fill: #D2E3FC;\n",
              "    }\n",
              "\n",
              "    [theme=dark] .colab-df-convert:hover {\n",
              "      background-color: #434B5C;\n",
              "      box-shadow: 0px 1px 3px 1px rgba(0, 0, 0, 0.15);\n",
              "      filter: drop-shadow(0px 1px 2px rgba(0, 0, 0, 0.3));\n",
              "      fill: #FFFFFF;\n",
              "    }\n",
              "  </style>\n",
              "\n",
              "    <script>\n",
              "      const buttonEl =\n",
              "        document.querySelector('#df-93f26b8e-c199-426d-90c2-40b814f3703e button.colab-df-convert');\n",
              "      buttonEl.style.display =\n",
              "        google.colab.kernel.accessAllowed ? 'block' : 'none';\n",
              "\n",
              "      async function convertToInteractive(key) {\n",
              "        const element = document.querySelector('#df-93f26b8e-c199-426d-90c2-40b814f3703e');\n",
              "        const dataTable =\n",
              "          await google.colab.kernel.invokeFunction('convertToInteractive',\n",
              "                                                    [key], {});\n",
              "        if (!dataTable) return;\n",
              "\n",
              "        const docLinkHtml = 'Like what you see? Visit the ' +\n",
              "          '<a target=\"_blank\" href=https://colab.research.google.com/notebooks/data_table.ipynb>data table notebook</a>'\n",
              "          + ' to learn more about interactive tables.';\n",
              "        element.innerHTML = '';\n",
              "        dataTable['output_type'] = 'display_data';\n",
              "        await google.colab.output.renderOutput(dataTable, element);\n",
              "        const docLink = document.createElement('div');\n",
              "        docLink.innerHTML = docLinkHtml;\n",
              "        element.appendChild(docLink);\n",
              "      }\n",
              "    </script>\n",
              "  </div>\n",
              "\n",
              "\n",
              "<div id=\"df-fae1a0c3-1404-45cf-8034-8a95b1a9cf94\">\n",
              "  <button class=\"colab-df-quickchart\" onclick=\"quickchart('df-fae1a0c3-1404-45cf-8034-8a95b1a9cf94')\"\n",
              "            title=\"Suggest charts\"\n",
              "            style=\"display:none;\">\n",
              "\n",
              "<svg xmlns=\"http://www.w3.org/2000/svg\" height=\"24px\"viewBox=\"0 0 24 24\"\n",
              "     width=\"24px\">\n",
              "    <g>\n",
              "        <path d=\"M19 3H5c-1.1 0-2 .9-2 2v14c0 1.1.9 2 2 2h14c1.1 0 2-.9 2-2V5c0-1.1-.9-2-2-2zM9 17H7v-7h2v7zm4 0h-2V7h2v10zm4 0h-2v-4h2v4z\"/>\n",
              "    </g>\n",
              "</svg>\n",
              "  </button>\n",
              "\n",
              "<style>\n",
              "  .colab-df-quickchart {\n",
              "      --bg-color: #E8F0FE;\n",
              "      --fill-color: #1967D2;\n",
              "      --hover-bg-color: #E2EBFA;\n",
              "      --hover-fill-color: #174EA6;\n",
              "      --disabled-fill-color: #AAA;\n",
              "      --disabled-bg-color: #DDD;\n",
              "  }\n",
              "\n",
              "  [theme=dark] .colab-df-quickchart {\n",
              "      --bg-color: #3B4455;\n",
              "      --fill-color: #D2E3FC;\n",
              "      --hover-bg-color: #434B5C;\n",
              "      --hover-fill-color: #FFFFFF;\n",
              "      --disabled-bg-color: #3B4455;\n",
              "      --disabled-fill-color: #666;\n",
              "  }\n",
              "\n",
              "  .colab-df-quickchart {\n",
              "    background-color: var(--bg-color);\n",
              "    border: none;\n",
              "    border-radius: 50%;\n",
              "    cursor: pointer;\n",
              "    display: none;\n",
              "    fill: var(--fill-color);\n",
              "    height: 32px;\n",
              "    padding: 0;\n",
              "    width: 32px;\n",
              "  }\n",
              "\n",
              "  .colab-df-quickchart:hover {\n",
              "    background-color: var(--hover-bg-color);\n",
              "    box-shadow: 0 1px 2px rgba(60, 64, 67, 0.3), 0 1px 3px 1px rgba(60, 64, 67, 0.15);\n",
              "    fill: var(--button-hover-fill-color);\n",
              "  }\n",
              "\n",
              "  .colab-df-quickchart-complete:disabled,\n",
              "  .colab-df-quickchart-complete:disabled:hover {\n",
              "    background-color: var(--disabled-bg-color);\n",
              "    fill: var(--disabled-fill-color);\n",
              "    box-shadow: none;\n",
              "  }\n",
              "\n",
              "  .colab-df-spinner {\n",
              "    border: 2px solid var(--fill-color);\n",
              "    border-color: transparent;\n",
              "    border-bottom-color: var(--fill-color);\n",
              "    animation:\n",
              "      spin 1s steps(1) infinite;\n",
              "  }\n",
              "\n",
              "  @keyframes spin {\n",
              "    0% {\n",
              "      border-color: transparent;\n",
              "      border-bottom-color: var(--fill-color);\n",
              "      border-left-color: var(--fill-color);\n",
              "    }\n",
              "    20% {\n",
              "      border-color: transparent;\n",
              "      border-left-color: var(--fill-color);\n",
              "      border-top-color: var(--fill-color);\n",
              "    }\n",
              "    30% {\n",
              "      border-color: transparent;\n",
              "      border-left-color: var(--fill-color);\n",
              "      border-top-color: var(--fill-color);\n",
              "      border-right-color: var(--fill-color);\n",
              "    }\n",
              "    40% {\n",
              "      border-color: transparent;\n",
              "      border-right-color: var(--fill-color);\n",
              "      border-top-color: var(--fill-color);\n",
              "    }\n",
              "    60% {\n",
              "      border-color: transparent;\n",
              "      border-right-color: var(--fill-color);\n",
              "    }\n",
              "    80% {\n",
              "      border-color: transparent;\n",
              "      border-right-color: var(--fill-color);\n",
              "      border-bottom-color: var(--fill-color);\n",
              "    }\n",
              "    90% {\n",
              "      border-color: transparent;\n",
              "      border-bottom-color: var(--fill-color);\n",
              "    }\n",
              "  }\n",
              "</style>\n",
              "\n",
              "  <script>\n",
              "    async function quickchart(key) {\n",
              "      const quickchartButtonEl =\n",
              "        document.querySelector('#' + key + ' button');\n",
              "      quickchartButtonEl.disabled = true;  // To prevent multiple clicks.\n",
              "      quickchartButtonEl.classList.add('colab-df-spinner');\n",
              "      try {\n",
              "        const charts = await google.colab.kernel.invokeFunction(\n",
              "            'suggestCharts', [key], {});\n",
              "      } catch (error) {\n",
              "        console.error('Error during call to suggestCharts:', error);\n",
              "      }\n",
              "      quickchartButtonEl.classList.remove('colab-df-spinner');\n",
              "      quickchartButtonEl.classList.add('colab-df-quickchart-complete');\n",
              "    }\n",
              "    (() => {\n",
              "      let quickchartButtonEl =\n",
              "        document.querySelector('#df-fae1a0c3-1404-45cf-8034-8a95b1a9cf94 button');\n",
              "      quickchartButtonEl.style.display =\n",
              "        google.colab.kernel.accessAllowed ? 'block' : 'none';\n",
              "    })();\n",
              "  </script>\n",
              "</div>\n",
              "\n",
              "  <div id=\"id_94b3f509-591b-4259-8877-4f038e06c7b9\">\n",
              "    <style>\n",
              "      .colab-df-generate {\n",
              "        background-color: #E8F0FE;\n",
              "        border: none;\n",
              "        border-radius: 50%;\n",
              "        cursor: pointer;\n",
              "        display: none;\n",
              "        fill: #1967D2;\n",
              "        height: 32px;\n",
              "        padding: 0 0 0 0;\n",
              "        width: 32px;\n",
              "      }\n",
              "\n",
              "      .colab-df-generate:hover {\n",
              "        background-color: #E2EBFA;\n",
              "        box-shadow: 0px 1px 2px rgba(60, 64, 67, 0.3), 0px 1px 3px 1px rgba(60, 64, 67, 0.15);\n",
              "        fill: #174EA6;\n",
              "      }\n",
              "\n",
              "      [theme=dark] .colab-df-generate {\n",
              "        background-color: #3B4455;\n",
              "        fill: #D2E3FC;\n",
              "      }\n",
              "\n",
              "      [theme=dark] .colab-df-generate:hover {\n",
              "        background-color: #434B5C;\n",
              "        box-shadow: 0px 1px 3px 1px rgba(0, 0, 0, 0.15);\n",
              "        filter: drop-shadow(0px 1px 2px rgba(0, 0, 0, 0.3));\n",
              "        fill: #FFFFFF;\n",
              "      }\n",
              "    </style>\n",
              "    <button class=\"colab-df-generate\" onclick=\"generateWithVariable('new_df')\"\n",
              "            title=\"Generate code using this dataframe.\"\n",
              "            style=\"display:none;\">\n",
              "\n",
              "  <svg xmlns=\"http://www.w3.org/2000/svg\" height=\"24px\"viewBox=\"0 0 24 24\"\n",
              "       width=\"24px\">\n",
              "    <path d=\"M7,19H8.4L18.45,9,17,7.55,7,17.6ZM5,21V16.75L18.45,3.32a2,2,0,0,1,2.83,0l1.4,1.43a1.91,1.91,0,0,1,.58,1.4,1.91,1.91,0,0,1-.58,1.4L9.25,21ZM18.45,9,17,7.55Zm-12,3A5.31,5.31,0,0,0,4.9,8.1,5.31,5.31,0,0,0,1,6.5,5.31,5.31,0,0,0,4.9,4.9,5.31,5.31,0,0,0,6.5,1,5.31,5.31,0,0,0,8.1,4.9,5.31,5.31,0,0,0,12,6.5,5.46,5.46,0,0,0,6.5,12Z\"/>\n",
              "  </svg>\n",
              "    </button>\n",
              "    <script>\n",
              "      (() => {\n",
              "      const buttonEl =\n",
              "        document.querySelector('#id_94b3f509-591b-4259-8877-4f038e06c7b9 button.colab-df-generate');\n",
              "      buttonEl.style.display =\n",
              "        google.colab.kernel.accessAllowed ? 'block' : 'none';\n",
              "\n",
              "      buttonEl.onclick = () => {\n",
              "        google.colab.notebook.generateWithVariable('new_df');\n",
              "      }\n",
              "      })();\n",
              "    </script>\n",
              "  </div>\n",
              "\n",
              "    </div>\n",
              "  </div>\n"
            ],
            "application/vnd.google.colaboratory.intrinsic+json": {
              "type": "dataframe",
              "variable_name": "new_df",
              "summary": "{\n  \"name\": \"new_df\",\n  \"rows\": 17588,\n  \"fields\": [\n    {\n      \"column\": \"Name\",\n      \"properties\": {\n        \"dtype\": \"string\",\n        \"num_unique_values\": 17341,\n        \"samples\": [\n          \"Christian Tr\\u00e4sch\",\n          \"Denis Thomalla\",\n          \"Markus Henriksen\"\n        ],\n        \"semantic_type\": \"\",\n        \"description\": \"\"\n      }\n    },\n    {\n      \"column\": \"Nationality\",\n      \"properties\": {\n        \"dtype\": \"category\",\n        \"num_unique_values\": 160,\n        \"samples\": [\n          \"Latvia\",\n          \"Panama\",\n          \"Faroe Islands\"\n        ],\n        \"semantic_type\": \"\",\n        \"description\": \"\"\n      }\n    },\n    {\n      \"column\": \"Weight\",\n      \"properties\": {\n        \"dtype\": \"number\",\n        \"std\": 6,\n        \"min\": 48,\n        \"max\": 110,\n        \"num_unique_values\": 56,\n        \"samples\": [\n          80,\n          82,\n          93\n        ],\n        \"semantic_type\": \"\",\n        \"description\": \"\"\n      }\n    },\n    {\n      \"column\": \"Reactions\",\n      \"properties\": {\n        \"dtype\": \"number\",\n        \"std\": 9,\n        \"min\": 29,\n        \"max\": 96,\n        \"num_unique_values\": 67,\n        \"samples\": [\n          61,\n          83,\n          85\n        ],\n        \"semantic_type\": \"\",\n        \"description\": \"\"\n      }\n    },\n    {\n      \"column\": \"Composure\",\n      \"properties\": {\n        \"dtype\": \"number\",\n        \"std\": 13,\n        \"min\": 5,\n        \"max\": 94,\n        \"num_unique_values\": 85,\n        \"samples\": [\n          16,\n          86,\n          44\n        ],\n        \"semantic_type\": \"\",\n        \"description\": \"\"\n      }\n    },\n    {\n      \"column\": \"label\",\n      \"properties\": {\n        \"dtype\": \"number\",\n        \"std\": 0,\n        \"min\": 0,\n        \"max\": 1,\n        \"num_unique_values\": 2,\n        \"samples\": [\n          0,\n          1\n        ],\n        \"semantic_type\": \"\",\n        \"description\": \"\"\n      }\n    }\n  ]\n}"
            }
          },
          "metadata": {},
          "execution_count": 61
        }
      ]
    },
    {
      "cell_type": "code",
      "source": [
        "# Nuevo modelo\n",
        "clf2 = setup(new_df, target='label', verbose=False)\n",
        "xgboost_new = create_model('xgboost', verbose=False)\n",
        "feat_importances_new = pd.DataFrame(\n",
        "    xgboost_new.feature_importances_,\n",
        "    xgboost_new.feature_names_in_,\n",
        "    columns=[\"Importance\"]\n",
        "    )"
      ],
      "metadata": {
        "id": "YZvM-nEAy8BS"
      },
      "execution_count": 94,
      "outputs": []
    },
    {
      "cell_type": "code",
      "source": [
        "plot_model(xgboost_new, plot ='class_report')\n",
        "plot_model(xgboost_new, plot ='error')\n"
      ],
      "metadata": {
        "colab": {
          "base_uri": "https://localhost:8080/",
          "height": 1000
        },
        "id": "MYqLbV6yzvXe",
        "outputId": "81c567e1-0d00-46a6-9ee0-c00839515d7d"
      },
      "execution_count": 95,
      "outputs": [
        {
          "output_type": "display_data",
          "data": {
            "text/plain": [
              "<IPython.core.display.HTML object>"
            ],
            "text/html": []
          },
          "metadata": {}
        },
        {
          "output_type": "display_data",
          "data": {
            "text/plain": [
              "<Figure size 800x550 with 2 Axes>"
            ],
            "image/png": "[encoded data removed]"
          },
          "metadata": {}
        },
        {
          "output_type": "display_data",
          "data": {
            "text/plain": [
              "<IPython.core.display.HTML object>"
            ],
            "text/html": []
          },
          "metadata": {}
        },
        {
          "output_type": "display_data",
          "data": {
            "text/plain": [
              "<Figure size 800x550 with 1 Axes>"
            ],
            "image/png": "[encoded data removed]"
          },
          "metadata": {}
        }
      ]
    },
    {
      "cell_type": "code",
      "source": [
        "new_df.label.value_counts()"
      ],
      "metadata": {
        "colab": {
          "base_uri": "https://localhost:8080/",
          "height": 178
        },
        "id": "9BRzkguq0XuX",
        "outputId": "c64063a4-0b4c-43f1-c1f4-c2d162c2add7"
      },
      "execution_count": 68,
      "outputs": [
        {
          "output_type": "execute_result",
          "data": {
            "text/plain": [
              "label\n",
              "0    16513\n",
              "1     1075\n",
              "Name: count, dtype: int64"
            ],
            "text/html": [
              "<div>\n",
              "<style scoped>\n",
              "    .dataframe tbody tr th:only-of-type {\n",
              "        vertical-align: middle;\n",
              "    }\n",
              "\n",
              "    .dataframe tbody tr th {\n",
              "        vertical-align: top;\n",
              "    }\n",
              "\n",
              "    .dataframe thead th {\n",
              "        text-align: right;\n",
              "    }\n",
              "</style>\n",
              "<table border=\"1\" class=\"dataframe\">\n",
              "  <thead>\n",
              "    <tr style=\"text-align: right;\">\n",
              "      <th></th>\n",
              "      <th>count</th>\n",
              "    </tr>\n",
              "    <tr>\n",
              "      <th>label</th>\n",
              "      <th></th>\n",
              "    </tr>\n",
              "  </thead>\n",
              "  <tbody>\n",
              "    <tr>\n",
              "      <th>0</th>\n",
              "      <td>16513</td>\n",
              "    </tr>\n",
              "    <tr>\n",
              "      <th>1</th>\n",
              "      <td>1075</td>\n",
              "    </tr>\n",
              "  </tbody>\n",
              "</table>\n",
              "</div><br><label><b>dtype:</b> int64</label>"
            ]
          },
          "metadata": {},
          "execution_count": 68
        }
      ]
    },
    {
      "cell_type": "markdown",
      "source": [
        "Al revisar el rendimiento del modelo es posible observar que no es capaz de aprender las características para predecir la clase 1, pues tal como ocurrió antes, solo el 6.1% de los datos pertenecen a la clase de interés. Entonces para mejorar el rendimiento del modelo habría que implementar alguna técnica como Undersampling u Oversampling, por ejemplo."
      ],
      "metadata": {
        "id": "-23CiiU40PSC"
      }
    },
    {
      "cell_type": "markdown",
      "source": [
        "5.\n",
        "  - El nuevo modelo se comporta similar al original, pues ambos tienen un Recall de bajo para la clase de interés, sin embargo el nuevo modelo tiene una mejora de la precisión para la clase 0.\n",
        "\n",
        "  - Al eliminar variables, el entrenamiento tomó menos tiempo. Sin embargo, tal como se pudo apreciar, esta reducción  de variables disminuyó la capacidad del modelo para clasificar la variable de interés. Además al preferir variables como Nombre o Nacionalidad, podría indicar que hay un sesgo para la clasificación.\n",
        "\n",
        "  - Considerando las variables del nuevo modelo, se podría decir que el hecho de que un jugador esté clasificado o no depende se factores personales, más que de la habilidad que presenten, pues este sólo utiliza **'Name', 'Nationality', 'Weight', 'Composure' y 'Reactions'** para entrenar. Además, es posible notar que la mayoría las variables eliminadas coinciden con las eliminadas en la Parte 1 debido a que estaban altamente correlacionadas.\n",
        "  Si bien la eliminación de características permite entender mejor qué factores son más influyentes para determinar que jugador será seleccionado nacional, no creo que las características que seleccionó el modelo sean las mejores, ya que tal como se observó el modelo no fue capaz de clasificar correctamente a los seleccionados nacionales.\n",
        "\n"
      ],
      "metadata": {
        "id": "jcgC2uhp0_J6"
      }
    },
    {
      "cell_type": "markdown",
      "metadata": {
        "id": "PTG5cH9r3M9g"
      },
      "source": [
        "### 2.3 Calibración Probabilistica [6 puntos]"
      ]
    },
    {
      "cell_type": "markdown",
      "metadata": {
        "id": "CDL0VqjR7yvb"
      },
      "source": [
        "<center>\n",
        "<img src='https://media2.giphy.com/media/l2Je4Ku0Cx292KWv6/200w.gif?cid=6c09b952y0sihtq9tb6sz8j2023x3zxxp3qx1ocgonkpkblj&ep=v1_gifs_search&rid=200w.gif&ct=g' width=400 />"
      ]
    },
    {
      "cell_type": "markdown",
      "metadata": {
        "id": "qmOKxhAw3sic"
      },
      "source": [
        "Para lograr modelos más modulares, se recomienda realizar una calibración del modelo entrenado anteriormente, con el objetivo de obtener salidas que reflejen mayor modularidad.\n",
        "\n",
        "1. Se solicita que utilice un método de calibración que asegure que las probabilidades generadas incrementen de manera monótona. Una métrica ampliamente utilizada para evaluar la precisión de la calibración de un modelo es el Brier Score. Calcule el Brier Score para el modelo tanto antes como después de la calibración. Esto le permitirá realizar una comparación cuantitativa y determinar si la calibración ha mejorado el rendimiento del modelo. Para más información sobre el Brier Score, puede consultar el siguiente enlace: [Scikit-Learn - Brier Score Loss](https://scikit-learn.org/stable/modules/generated/sklearn.metrics.brier_score_loss.html). [3 puntos]\n",
        "\n",
        "2. Tras la calibración, examine y comente los resultados obtenidos. A su análisis añada una comparación visual de las ideales versus las salidas del modelo original (sin calibrar) y del modelo calibrado. [3 puntos]"
      ]
    },
    {
      "cell_type": "markdown",
      "metadata": {
        "id": "QIiYz_qLuD19"
      },
      "source": [
        "**Respuesta**"
      ]
    },
    {
      "cell_type": "code",
      "execution_count": 110,
      "metadata": {
        "id": "l0bfSuiFuD2I"
      },
      "outputs": [],
      "source": [
        "# Aplicar una calibración con incremento monotónico de las prob-> regresion isotónica\n",
        "# Brier Score antes y después de calibrar\n",
        "from sklearn.calibration import CalibratedClassifierCV\n",
        "from sklearn.metrics import brier_score_loss\n",
        "\n",
        "clf2 = setup(new_df, target='label', verbose=False)\n",
        "xgboost_new = create_model('xgboost', verbose=False)\n",
        "\n",
        "\n",
        "# Esta malito:c\n",
        "print('Brian Score pre-calibración', brier_score_loss(y, y_prob))\n",
        "\n",
        "calibrated = CalibratedClassifierCV(xgboost_new, method='isotonic', cv=3)\n",
        "\n",
        "print('Brian Score post-calibración', brier_score_loss(y_true, y_prob))"
      ]
    },
    {
      "cell_type": "code",
      "source": [
        "help(create_model)"
      ],
      "metadata": {
        "colab": {
          "base_uri": "https://localhost:8080/"
        },
        "id": "aSZFXQFPDMzo",
        "outputId": "5caa4db3-48b0-4802-8999-5a264e649048"
      },
      "execution_count": 112,
      "outputs": [
        {
          "output_type": "stream",
          "name": "stdout",
          "text": [
            "Help on function create_model in module pycaret.classification.functional:\n",
            "\n",
            "create_model(estimator: Union[str, Any], fold: Union[int, Any, NoneType] = None, round: int = 4, cross_validation: bool = True, fit_kwargs: Optional[dict] = None, groups: Union[str, Any, NoneType] = None, probability_threshold: Optional[float] = None, experiment_custom_tags: Optional[Dict[str, Any]] = None, engine: Optional[str] = None, verbose: bool = True, return_train_score: bool = False, **kwargs) -> Any\n",
            "    This function trains and evaluates the performance of a given estimator\n",
            "    using cross validation. The output of this function is a score grid with\n",
            "    CV scores by fold. Metrics evaluated during CV can be accessed using the\n",
            "    ``get_metrics`` function. Custom metrics can be added or removed using\n",
            "    ``add_metric`` and ``remove_metric`` function. All the available models\n",
            "    can be accessed using the ``models`` function.\n",
            "    \n",
            "    Example\n",
            "    -------\n",
            "    >>> from pycaret.datasets import get_data\n",
            "    >>> juice = get_data('juice')\n",
            "    >>> from pycaret.classification import *\n",
            "    >>> exp_name = setup(data = juice,  target = 'Purchase')\n",
            "    >>> lr = create_model('lr')\n",
            "    \n",
            "    \n",
            "    estimator: str or scikit-learn compatible object\n",
            "        ID of an estimator available in model library or pass an untrained\n",
            "        model object consistent with scikit-learn API. Estimators available\n",
            "        in the model library (ID - Name):\n",
            "    \n",
            "        * 'lr' - Logistic Regression\n",
            "        * 'knn' - K Neighbors Classifier\n",
            "        * 'nb' - Naive Bayes\n",
            "        * 'dt' - Decision Tree Classifier\n",
            "        * 'svm' - SVM - Linear Kernel\n",
            "        * 'rbfsvm' - SVM - Radial Kernel\n",
            "        * 'gpc' - Gaussian Process Classifier\n",
            "        * 'mlp' - MLP Classifier\n",
            "        * 'ridge' - Ridge Classifier\n",
            "        * 'rf' - Random Forest Classifier\n",
            "        * 'qda' - Quadratic Discriminant Analysis\n",
            "        * 'ada' - Ada Boost Classifier\n",
            "        * 'gbc' - Gradient Boosting Classifier\n",
            "        * 'lda' - Linear Discriminant Analysis\n",
            "        * 'et' - Extra Trees Classifier\n",
            "        * 'xgboost' - Extreme Gradient Boosting\n",
            "        * 'lightgbm' - Light Gradient Boosting Machine\n",
            "        * 'catboost' - CatBoost Classifier\n",
            "    \n",
            "    \n",
            "    fold: int or scikit-learn compatible CV generator, default = None\n",
            "        Controls cross-validation. If None, the CV generator in the ``fold_strategy``\n",
            "        parameter of the ``setup`` function is used. When an integer is passed,\n",
            "        it is interpreted as the 'n_splits' parameter of the CV generator in the\n",
            "        ``setup`` function.\n",
            "    \n",
            "    \n",
            "    round: int, default = 4\n",
            "        Number of decimal places the metrics in the score grid will be rounded to.\n",
            "    \n",
            "    \n",
            "    cross_validation: bool, default = True\n",
            "        When set to False, metrics are evaluated on holdout set. ``fold`` param\n",
            "        is ignored when cross_validation is set to False.\n",
            "    \n",
            "    \n",
            "    fit_kwargs: dict, default = {} (empty dict)\n",
            "        Dictionary of arguments passed to the fit method of the model.\n",
            "    \n",
            "    \n",
            "    groups: str or array-like, with shape (n_samples,), default = None\n",
            "        Optional group labels when GroupKFold is used for the cross validation.\n",
            "        It takes an array with shape (n_samples, ) where n_samples is the number\n",
            "        of rows in training dataset. When string is passed, it is interpreted as\n",
            "        the column name in the dataset containing group labels.\n",
            "    \n",
            "    \n",
            "    probability_threshold: float, default = None\n",
            "        Threshold for converting predicted probability to class label.\n",
            "        It defaults to 0.5 for all classifiers unless explicitly defined\n",
            "        in this parameter. Only applicable for binary classification.\n",
            "    \n",
            "    \n",
            "    experiment_custom_tags: dict, default = None\n",
            "        Dictionary of tag_name: String -> value: (String, but will be string-ified\n",
            "        if not) passed to the mlflow.set_tags to add new custom tags for the experiment.\n",
            "    \n",
            "    \n",
            "    verbose: bool, default = True\n",
            "        Score grid is not printed when verbose is set to False.\n",
            "    \n",
            "    \n",
            "    engine: Optional[str] = None\n",
            "        The execution engine to use for the model, e.g. for Logistic Regression (\"lr\"), users can\n",
            "        switch between \"sklearn\" and \"sklearnex\" by specifying\n",
            "        `engine=\"sklearnex\"`.\n",
            "    \n",
            "    \n",
            "    return_train_score: bool, default = False\n",
            "        If False, returns the CV Validation scores only.\n",
            "        If True, returns the CV training scores along with the CV validation scores.\n",
            "        This is useful when the user wants to do bias-variance tradeoff. A high CV\n",
            "        training score with a low corresponding CV validation score indicates overfitting.\n",
            "    \n",
            "    \n",
            "    **kwargs:\n",
            "        Additional keyword arguments to pass to the estimator.\n",
            "    \n",
            "    \n",
            "    Returns:\n",
            "        Trained Model\n",
            "    \n",
            "    \n",
            "    Warnings\n",
            "    --------\n",
            "    - AUC for estimators that does not support 'predict_proba' is shown as 0.0000.\n",
            "    \n",
            "    - Models are not logged on the ``MLFlow`` server when ``cross_validation`` param\n",
            "      is set to False.\n",
            "\n"
          ]
        }
      ]
    }
  ],
  "metadata": {
    "colab": {
      "provenance": []
    },
    "kernelspec": {
      "display_name": "Python 3",
      "name": "python3"
    },
    "language_info": {
      "name": "python"
    },
    "widgets": {
      "application/vnd.jupyter.widget-state+json": {
        "15ff60fd4c134f8f9211fdc089f572be": {
          "model_module": "@jupyter-widgets/controls",
          "model_name": "HBoxModel",
          "model_module_version": "1.5.0",
          "state": {
            "_dom_classes": [],
            "_model_module": "@jupyter-widgets/controls",
            "_model_module_version": "1.5.0",
            "_model_name": "HBoxModel",
            "_view_count": null,
            "_view_module": "@jupyter-widgets/controls",
            "_view_module_version": "1.5.0",
            "_view_name": "HBoxView",
            "box_style": "",
            "children": [
              "IPY_MODEL_4cb2b2ee455440ddb593e7abd4c748b1",
              "IPY_MODEL_60d82b415ea84b57a259efcf00379e27",
              "IPY_MODEL_9084a0923fde425d896757ba245e05fe"
            ],
            "layout": "IPY_MODEL_bc2820b1c3d4457b863f6219565eda3a"
          }
        },
        "4cb2b2ee455440ddb593e7abd4c748b1": {
          "model_module": "@jupyter-widgets/controls",
          "model_name": "HTMLModel",
          "model_module_version": "1.5.0",
          "state": {
            "_dom_classes": [],
            "_model_module": "@jupyter-widgets/controls",
            "_model_module_version": "1.5.0",
            "_model_name": "HTMLModel",
            "_view_count": null,
            "_view_module": "@jupyter-widgets/controls",
            "_view_module_version": "1.5.0",
            "_view_name": "HTMLView",
            "description": "",
            "description_tooltip": null,
            "layout": "IPY_MODEL_4b01ed549d4041cb9226f9d54386878a",
            "placeholder": "​",
            "style": "IPY_MODEL_0b8a48e352544e2696582422ba1eba1b",
            "value": "Processing: 100%"
          }
        },
        "60d82b415ea84b57a259efcf00379e27": {
          "model_module": "@jupyter-widgets/controls",
          "model_name": "FloatProgressModel",
          "model_module_version": "1.5.0",
          "state": {
            "_dom_classes": [],
            "_model_module": "@jupyter-widgets/controls",
            "_model_module_version": "1.5.0",
            "_model_name": "FloatProgressModel",
            "_view_count": null,
            "_view_module": "@jupyter-widgets/controls",
            "_view_module_version": "1.5.0",
            "_view_name": "ProgressView",
            "bar_style": "",
            "description": "",
            "description_tooltip": null,
            "layout": "IPY_MODEL_04d23fba61644f6399c4059b83a698cd",
            "max": 29,
            "min": 0,
            "orientation": "horizontal",
            "style": "IPY_MODEL_e8868d1a988044dca53bda4dfe944378",
            "value": 29
          }
        },
        "9084a0923fde425d896757ba245e05fe": {
          "model_module": "@jupyter-widgets/controls",
          "model_name": "HTMLModel",
          "model_module_version": "1.5.0",
          "state": {
            "_dom_classes": [],
            "_model_module": "@jupyter-widgets/controls",
            "_model_module_version": "1.5.0",
            "_model_name": "HTMLModel",
            "_view_count": null,
            "_view_module": "@jupyter-widgets/controls",
            "_view_module_version": "1.5.0",
            "_view_name": "HTMLView",
            "description": "",
            "description_tooltip": null,
            "layout": "IPY_MODEL_09df00ff44a346d8b3cb7ccccca06a91",
            "placeholder": "​",
            "style": "IPY_MODEL_114e63abfe3f4c0ab537181b8d1bb2af",
            "value": " 29/29 [01:13&lt;00:00,  2.37s/it]"
          }
        },
        "bc2820b1c3d4457b863f6219565eda3a": {
          "model_module": "@jupyter-widgets/base",
          "model_name": "LayoutModel",
          "model_module_version": "1.2.0",
          "state": {
            "_model_module": "@jupyter-widgets/base",
            "_model_module_version": "1.2.0",
            "_model_name": "LayoutModel",
            "_view_count": null,
            "_view_module": "@jupyter-widgets/base",
            "_view_module_version": "1.2.0",
            "_view_name": "LayoutView",
            "align_content": null,
            "align_items": null,
            "align_self": null,
            "border": null,
            "bottom": null,
            "display": null,
            "flex": null,
            "flex_flow": null,
            "grid_area": null,
            "grid_auto_columns": null,
            "grid_auto_flow": null,
            "grid_auto_rows": null,
            "grid_column": null,
            "grid_gap": null,
            "grid_row": null,
            "grid_template_areas": null,
            "grid_template_columns": null,
            "grid_template_rows": null,
            "height": null,
            "justify_content": null,
            "justify_items": null,
            "left": null,
            "margin": null,
            "max_height": null,
            "max_width": null,
            "min_height": null,
            "min_width": null,
            "object_fit": null,
            "object_position": null,
            "order": null,
            "overflow": null,
            "overflow_x": null,
            "overflow_y": null,
            "padding": null,
            "right": null,
            "top": null,
            "visibility": "hidden",
            "width": null
          }
        },
        "4b01ed549d4041cb9226f9d54386878a": {
          "model_module": "@jupyter-widgets/base",
          "model_name": "LayoutModel",
          "model_module_version": "1.2.0",
          "state": {
            "_model_module": "@jupyter-widgets/base",
            "_model_module_version": "1.2.0",
            "_model_name": "LayoutModel",
            "_view_count": null,
            "_view_module": "@jupyter-widgets/base",
            "_view_module_version": "1.2.0",
            "_view_name": "LayoutView",
            "align_content": null,
            "align_items": null,
            "align_self": null,
            "border": null,
            "bottom": null,
            "display": null,
            "flex": null,
            "flex_flow": null,
            "grid_area": null,
            "grid_auto_columns": null,
            "grid_auto_flow": null,
            "grid_auto_rows": null,
            "grid_column": null,
            "grid_gap": null,
            "grid_row": null,
            "grid_template_areas": null,
            "grid_template_columns": null,
            "grid_template_rows": null,
            "height": null,
            "justify_content": null,
            "justify_items": null,
            "left": null,
            "margin": null,
            "max_height": null,
            "max_width": null,
            "min_height": null,
            "min_width": null,
            "object_fit": null,
            "object_position": null,
            "order": null,
            "overflow": null,
            "overflow_x": null,
            "overflow_y": null,
            "padding": null,
            "right": null,
            "top": null,
            "visibility": null,
            "width": null
          }
        },
        "0b8a48e352544e2696582422ba1eba1b": {
          "model_module": "@jupyter-widgets/controls",
          "model_name": "DescriptionStyleModel",
          "model_module_version": "1.5.0",
          "state": {
            "_model_module": "@jupyter-widgets/controls",
            "_model_module_version": "1.5.0",
            "_model_name": "DescriptionStyleModel",
            "_view_count": null,
            "_view_module": "@jupyter-widgets/base",
            "_view_module_version": "1.2.0",
            "_view_name": "StyleView",
            "description_width": ""
          }
        },
        "04d23fba61644f6399c4059b83a698cd": {
          "model_module": "@jupyter-widgets/base",
          "model_name": "LayoutModel",
          "model_module_version": "1.2.0",
          "state": {
            "_model_module": "@jupyter-widgets/base",
            "_model_module_version": "1.2.0",
            "_model_name": "LayoutModel",
            "_view_count": null,
            "_view_module": "@jupyter-widgets/base",
            "_view_module_version": "1.2.0",
            "_view_name": "LayoutView",
            "align_content": null,
            "align_items": null,
            "align_self": null,
            "border": null,
            "bottom": null,
            "display": null,
            "flex": null,
            "flex_flow": null,
            "grid_area": null,
            "grid_auto_columns": null,
            "grid_auto_flow": null,
            "grid_auto_rows": null,
            "grid_column": null,
            "grid_gap": null,
            "grid_row": null,
            "grid_template_areas": null,
            "grid_template_columns": null,
            "grid_template_rows": null,
            "height": null,
            "justify_content": null,
            "justify_items": null,
            "left": null,
            "margin": null,
            "max_height": null,
            "max_width": null,
            "min_height": null,
            "min_width": null,
            "object_fit": null,
            "object_position": null,
            "order": null,
            "overflow": null,
            "overflow_x": null,
            "overflow_y": null,
            "padding": null,
            "right": null,
            "top": null,
            "visibility": null,
            "width": null
          }
        },
        "e8868d1a988044dca53bda4dfe944378": {
          "model_module": "@jupyter-widgets/controls",
          "model_name": "ProgressStyleModel",
          "model_module_version": "1.5.0",
          "state": {
            "_model_module": "@jupyter-widgets/controls",
            "_model_module_version": "1.5.0",
            "_model_name": "ProgressStyleModel",
            "_view_count": null,
            "_view_module": "@jupyter-widgets/base",
            "_view_module_version": "1.2.0",
            "_view_name": "StyleView",
            "bar_color": null,
            "description_width": ""
          }
        },
        "09df00ff44a346d8b3cb7ccccca06a91": {
          "model_module": "@jupyter-widgets/base",
          "model_name": "LayoutModel",
          "model_module_version": "1.2.0",
          "state": {
            "_model_module": "@jupyter-widgets/base",
            "_model_module_version": "1.2.0",
            "_model_name": "LayoutModel",
            "_view_count": null,
            "_view_module": "@jupyter-widgets/base",
            "_view_module_version": "1.2.0",
            "_view_name": "LayoutView",
            "align_content": null,
            "align_items": null,
            "align_self": null,
            "border": null,
            "bottom": null,
            "display": null,
            "flex": null,
            "flex_flow": null,
            "grid_area": null,
            "grid_auto_columns": null,
            "grid_auto_flow": null,
            "grid_auto_rows": null,
            "grid_column": null,
            "grid_gap": null,
            "grid_row": null,
            "grid_template_areas": null,
            "grid_template_columns": null,
            "grid_template_rows": null,
            "height": null,
            "justify_content": null,
            "justify_items": null,
            "left": null,
            "margin": null,
            "max_height": null,
            "max_width": null,
            "min_height": null,
            "min_width": null,
            "object_fit": null,
            "object_position": null,
            "order": null,
            "overflow": null,
            "overflow_x": null,
            "overflow_y": null,
            "padding": null,
            "right": null,
            "top": null,
            "visibility": null,
            "width": null
          }
        },
        "114e63abfe3f4c0ab537181b8d1bb2af": {
          "model_module": "@jupyter-widgets/controls",
          "model_name": "DescriptionStyleModel",
          "model_module_version": "1.5.0",
          "state": {
            "_model_module": "@jupyter-widgets/controls",
            "_model_module_version": "1.5.0",
            "_model_name": "DescriptionStyleModel",
            "_view_count": null,
            "_view_module": "@jupyter-widgets/base",
            "_view_module_version": "1.2.0",
            "_view_name": "StyleView",
            "description_width": ""
          }
        },
        "739f065ad514489a85db8909786864ff": {
          "model_module": "@jupyter-widgets/controls",
          "model_name": "VBoxModel",
          "model_module_version": "1.5.0",
          "state": {
            "_dom_classes": [
              "widget-interact"
            ],
            "_model_module": "@jupyter-widgets/controls",
            "_model_module_version": "1.5.0",
            "_model_name": "VBoxModel",
            "_view_count": null,
            "_view_module": "@jupyter-widgets/controls",
            "_view_module_version": "1.5.0",
            "_view_name": "VBoxView",
            "box_style": "",
            "children": [
              "IPY_MODEL_997af1f6d7ff4b5191664e233313a71d",
              "IPY_MODEL_13d38e934ddf4a7aa54c8ec167c06089"
            ],
            "layout": "IPY_MODEL_d74e3685a863440c8eaf967c3dec5eac"
          }
        },
        "997af1f6d7ff4b5191664e233313a71d": {
          "model_module": "@jupyter-widgets/controls",
          "model_name": "ToggleButtonsModel",
          "model_module_version": "1.5.0",
          "state": {
            "_dom_classes": [],
            "_model_module": "@jupyter-widgets/controls",
            "_model_module_version": "1.5.0",
            "_model_name": "ToggleButtonsModel",
            "_options_labels": [
              "Pipeline Plot",
              "Hyperparameters",
              "AUC",
              "Confusion Matrix",
              "Threshold",
              "Precision Recall",
              "Prediction Error",
              "Class Report",
              "Feature Selection",
              "Learning Curve",
              "Manifold Learning",
              "Calibration Curve",
              "Validation Curve",
              "Dimensions",
              "Feature Importance",
              "Feature Importance (All)",
              "Decision Boundary",
              "Lift Chart",
              "Gain Chart",
              "Decision Tree",
              "KS Statistic Plot"
            ],
            "_view_count": null,
            "_view_module": "@jupyter-widgets/controls",
            "_view_module_version": "1.5.0",
            "_view_name": "ToggleButtonsView",
            "button_style": "",
            "description": "Plot Type:",
            "description_tooltip": null,
            "disabled": false,
            "icons": [
              ""
            ],
            "index": 2,
            "layout": "IPY_MODEL_2d5bfaee16e545b1aa37200d1e3c1085",
            "style": "IPY_MODEL_452b51c6f1194ff7b63e1c39225ea025",
            "tooltips": []
          }
        },
        "13d38e934ddf4a7aa54c8ec167c06089": {
          "model_module": "@jupyter-widgets/output",
          "model_name": "OutputModel",
          "model_module_version": "1.0.0",
          "state": {
            "_dom_classes": [],
            "_model_module": "@jupyter-widgets/output",
            "_model_module_version": "1.0.0",
            "_model_name": "OutputModel",
            "_view_count": null,
            "_view_module": "@jupyter-widgets/output",
            "_view_module_version": "1.0.0",
            "_view_name": "OutputView",
            "layout": "IPY_MODEL_b2ddbb4141524f85b77b171b53ac220e",
            "msg_id": "",
            "outputs": [
              {
                "output_type": "display_data",
                "data": {
                  "text/plain": "<Figure size 800x550 with 1 Axes>",
                  "image/png": "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\n"
                },
                "metadata": {}
              }
            ]
          }
        },
        "d74e3685a863440c8eaf967c3dec5eac": {
          "model_module": "@jupyter-widgets/base",
          "model_name": "LayoutModel",
          "model_module_version": "1.2.0",
          "state": {
            "_model_module": "@jupyter-widgets/base",
            "_model_module_version": "1.2.0",
            "_model_name": "LayoutModel",
            "_view_count": null,
            "_view_module": "@jupyter-widgets/base",
            "_view_module_version": "1.2.0",
            "_view_name": "LayoutView",
            "align_content": null,
            "align_items": null,
            "align_self": null,
            "border": null,
            "bottom": null,
            "display": null,
            "flex": null,
            "flex_flow": null,
            "grid_area": null,
            "grid_auto_columns": null,
            "grid_auto_flow": null,
            "grid_auto_rows": null,
            "grid_column": null,
            "grid_gap": null,
            "grid_row": null,
            "grid_template_areas": null,
            "grid_template_columns": null,
            "grid_template_rows": null,
            "height": null,
            "justify_content": null,
            "justify_items": null,
            "left": null,
            "margin": null,
            "max_height": null,
            "max_width": null,
            "min_height": null,
            "min_width": null,
            "object_fit": null,
            "object_position": null,
            "order": null,
            "overflow": null,
            "overflow_x": null,
            "overflow_y": null,
            "padding": null,
            "right": null,
            "top": null,
            "visibility": null,
            "width": null
          }
        },
        "2d5bfaee16e545b1aa37200d1e3c1085": {
          "model_module": "@jupyter-widgets/base",
          "model_name": "LayoutModel",
          "model_module_version": "1.2.0",
          "state": {
            "_model_module": "@jupyter-widgets/base",
            "_model_module_version": "1.2.0",
            "_model_name": "LayoutModel",
            "_view_count": null,
            "_view_module": "@jupyter-widgets/base",
            "_view_module_version": "1.2.0",
            "_view_name": "LayoutView",
            "align_content": null,
            "align_items": null,
            "align_self": null,
            "border": null,
            "bottom": null,
            "display": null,
            "flex": null,
            "flex_flow": null,
            "grid_area": null,
            "grid_auto_columns": null,
            "grid_auto_flow": null,
            "grid_auto_rows": null,
            "grid_column": null,
            "grid_gap": null,
            "grid_row": null,
            "grid_template_areas": null,
            "grid_template_columns": null,
            "grid_template_rows": null,
            "height": null,
            "justify_content": null,
            "justify_items": null,
            "left": null,
            "margin": null,
            "max_height": null,
            "max_width": null,
            "min_height": null,
            "min_width": null,
            "object_fit": null,
            "object_position": null,
            "order": null,
            "overflow": null,
            "overflow_x": null,
            "overflow_y": null,
            "padding": null,
            "right": null,
            "top": null,
            "visibility": null,
            "width": null
          }
        },
        "452b51c6f1194ff7b63e1c39225ea025": {
          "model_module": "@jupyter-widgets/controls",
          "model_name": "ToggleButtonsStyleModel",
          "model_module_version": "1.5.0",
          "state": {
            "_model_module": "@jupyter-widgets/controls",
            "_model_module_version": "1.5.0",
            "_model_name": "ToggleButtonsStyleModel",
            "_view_count": null,
            "_view_module": "@jupyter-widgets/base",
            "_view_module_version": "1.2.0",
            "_view_name": "StyleView",
            "button_width": "",
            "description_width": "",
            "font_weight": ""
          }
        },
        "b2ddbb4141524f85b77b171b53ac220e": {
          "model_module": "@jupyter-widgets/base",
          "model_name": "LayoutModel",
          "model_module_version": "1.2.0",
          "state": {
            "_model_module": "@jupyter-widgets/base",
            "_model_module_version": "1.2.0",
            "_model_name": "LayoutModel",
            "_view_count": null,
            "_view_module": "@jupyter-widgets/base",
            "_view_module_version": "1.2.0",
            "_view_name": "LayoutView",
            "align_content": null,
            "align_items": null,
            "align_self": null,
            "border": null,
            "bottom": null,
            "display": null,
            "flex": null,
            "flex_flow": null,
            "grid_area": null,
            "grid_auto_columns": null,
            "grid_auto_flow": null,
            "grid_auto_rows": null,
            "grid_column": null,
            "grid_gap": null,
            "grid_row": null,
            "grid_template_areas": null,
            "grid_template_columns": null,
            "grid_template_rows": null,
            "height": null,
            "justify_content": null,
            "justify_items": null,
            "left": null,
            "margin": null,
            "max_height": null,
            "max_width": null,
            "min_height": null,
            "min_width": null,
            "object_fit": null,
            "object_position": null,
            "order": null,
            "overflow": null,
            "overflow_x": null,
            "overflow_y": null,
            "padding": null,
            "right": null,
            "top": null,
            "visibility": null,
            "width": null
          }
        },
        "6b440132ad134a958292bc7627c15325": {
          "model_module": "@jupyter-widgets/controls",
          "model_name": "HBoxModel",
          "model_module_version": "1.5.0",
          "state": {
            "_dom_classes": [],
            "_model_module": "@jupyter-widgets/controls",
            "_model_module_version": "1.5.0",
            "_model_name": "HBoxModel",
            "_view_count": null,
            "_view_module": "@jupyter-widgets/controls",
            "_view_module_version": "1.5.0",
            "_view_name": "HBoxView",
            "box_style": "",
            "children": [
              "IPY_MODEL_b8e1d1084fc449a4a40da62244b03fdc",
              "IPY_MODEL_a063e3720b794bd0ace200c75fc85861",
              "IPY_MODEL_20916d35a02844fc9394dc68ec10989c"
            ],
            "layout": "IPY_MODEL_a61ca6a293f94e0d9be39d1c69d3e027"
          }
        },
        "b8e1d1084fc449a4a40da62244b03fdc": {
          "model_module": "@jupyter-widgets/controls",
          "model_name": "HTMLModel",
          "model_module_version": "1.5.0",
          "state": {
            "_dom_classes": [],
            "_model_module": "@jupyter-widgets/controls",
            "_model_module_version": "1.5.0",
            "_model_name": "HTMLModel",
            "_view_count": null,
            "_view_module": "@jupyter-widgets/controls",
            "_view_module_version": "1.5.0",
            "_view_name": "HTMLView",
            "description": "",
            "description_tooltip": null,
            "layout": "IPY_MODEL_8da2e50efd7643439f8956cf852ed10a",
            "placeholder": "​",
            "style": "IPY_MODEL_77d0c28a759b417bbabcb283617d60ed",
            "value": "Processing: 100%"
          }
        },
        "a063e3720b794bd0ace200c75fc85861": {
          "model_module": "@jupyter-widgets/controls",
          "model_name": "FloatProgressModel",
          "model_module_version": "1.5.0",
          "state": {
            "_dom_classes": [],
            "_model_module": "@jupyter-widgets/controls",
            "_model_module_version": "1.5.0",
            "_model_name": "FloatProgressModel",
            "_view_count": null,
            "_view_module": "@jupyter-widgets/controls",
            "_view_module_version": "1.5.0",
            "_view_name": "ProgressView",
            "bar_style": "",
            "description": "",
            "description_tooltip": null,
            "layout": "IPY_MODEL_177468d93872498f81c25bfa1ce55009",
            "max": 9,
            "min": 0,
            "orientation": "horizontal",
            "style": "IPY_MODEL_35f2ab3714d24e5bbd4f075f10a7061f",
            "value": 9
          }
        },
        "20916d35a02844fc9394dc68ec10989c": {
          "model_module": "@jupyter-widgets/controls",
          "model_name": "HTMLModel",
          "model_module_version": "1.5.0",
          "state": {
            "_dom_classes": [],
            "_model_module": "@jupyter-widgets/controls",
            "_model_module_version": "1.5.0",
            "_model_name": "HTMLModel",
            "_view_count": null,
            "_view_module": "@jupyter-widgets/controls",
            "_view_module_version": "1.5.0",
            "_view_name": "HTMLView",
            "description": "",
            "description_tooltip": null,
            "layout": "IPY_MODEL_4301d2b2c6a94b6eb09cac7d625fbb40",
            "placeholder": "​",
            "style": "IPY_MODEL_0ab7ba4e36564ac49ab1cc395fffd255",
            "value": " 9/9 [00:08&lt;00:00,  1.25it/s]"
          }
        },
        "a61ca6a293f94e0d9be39d1c69d3e027": {
          "model_module": "@jupyter-widgets/base",
          "model_name": "LayoutModel",
          "model_module_version": "1.2.0",
          "state": {
            "_model_module": "@jupyter-widgets/base",
            "_model_module_version": "1.2.0",
            "_model_name": "LayoutModel",
            "_view_count": null,
            "_view_module": "@jupyter-widgets/base",
            "_view_module_version": "1.2.0",
            "_view_name": "LayoutView",
            "align_content": null,
            "align_items": null,
            "align_self": null,
            "border": null,
            "bottom": null,
            "display": null,
            "flex": null,
            "flex_flow": null,
            "grid_area": null,
            "grid_auto_columns": null,
            "grid_auto_flow": null,
            "grid_auto_rows": null,
            "grid_column": null,
            "grid_gap": null,
            "grid_row": null,
            "grid_template_areas": null,
            "grid_template_columns": null,
            "grid_template_rows": null,
            "height": null,
            "justify_content": null,
            "justify_items": null,
            "left": null,
            "margin": null,
            "max_height": null,
            "max_width": null,
            "min_height": null,
            "min_width": null,
            "object_fit": null,
            "object_position": null,
            "order": null,
            "overflow": null,
            "overflow_x": null,
            "overflow_y": null,
            "padding": null,
            "right": null,
            "top": null,
            "visibility": "hidden",
            "width": null
          }
        },
        "8da2e50efd7643439f8956cf852ed10a": {
          "model_module": "@jupyter-widgets/base",
          "model_name": "LayoutModel",
          "model_module_version": "1.2.0",
          "state": {
            "_model_module": "@jupyter-widgets/base",
            "_model_module_version": "1.2.0",
            "_model_name": "LayoutModel",
            "_view_count": null,
            "_view_module": "@jupyter-widgets/base",
            "_view_module_version": "1.2.0",
            "_view_name": "LayoutView",
            "align_content": null,
            "align_items": null,
            "align_self": null,
            "border": null,
            "bottom": null,
            "display": null,
            "flex": null,
            "flex_flow": null,
            "grid_area": null,
            "grid_auto_columns": null,
            "grid_auto_flow": null,
            "grid_auto_rows": null,
            "grid_column": null,
            "grid_gap": null,
            "grid_row": null,
            "grid_template_areas": null,
            "grid_template_columns": null,
            "grid_template_rows": null,
            "height": null,
            "justify_content": null,
            "justify_items": null,
            "left": null,
            "margin": null,
            "max_height": null,
            "max_width": null,
            "min_height": null,
            "min_width": null,
            "object_fit": null,
            "object_position": null,
            "order": null,
            "overflow": null,
            "overflow_x": null,
            "overflow_y": null,
            "padding": null,
            "right": null,
            "top": null,
            "visibility": null,
            "width": null
          }
        },
        "77d0c28a759b417bbabcb283617d60ed": {
          "model_module": "@jupyter-widgets/controls",
          "model_name": "DescriptionStyleModel",
          "model_module_version": "1.5.0",
          "state": {
            "_model_module": "@jupyter-widgets/controls",
            "_model_module_version": "1.5.0",
            "_model_name": "DescriptionStyleModel",
            "_view_count": null,
            "_view_module": "@jupyter-widgets/base",
            "_view_module_version": "1.2.0",
            "_view_name": "StyleView",
            "description_width": ""
          }
        },
        "177468d93872498f81c25bfa1ce55009": {
          "model_module": "@jupyter-widgets/base",
          "model_name": "LayoutModel",
          "model_module_version": "1.2.0",
          "state": {
            "_model_module": "@jupyter-widgets/base",
            "_model_module_version": "1.2.0",
            "_model_name": "LayoutModel",
            "_view_count": null,
            "_view_module": "@jupyter-widgets/base",
            "_view_module_version": "1.2.0",
            "_view_name": "LayoutView",
            "align_content": null,
            "align_items": null,
            "align_self": null,
            "border": null,
            "bottom": null,
            "display": null,
            "flex": null,
            "flex_flow": null,
            "grid_area": null,
            "grid_auto_columns": null,
            "grid_auto_flow": null,
            "grid_auto_rows": null,
            "grid_column": null,
            "grid_gap": null,
            "grid_row": null,
            "grid_template_areas": null,
            "grid_template_columns": null,
            "grid_template_rows": null,
            "height": null,
            "justify_content": null,
            "justify_items": null,
            "left": null,
            "margin": null,
            "max_height": null,
            "max_width": null,
            "min_height": null,
            "min_width": null,
            "object_fit": null,
            "object_position": null,
            "order": null,
            "overflow": null,
            "overflow_x": null,
            "overflow_y": null,
            "padding": null,
            "right": null,
            "top": null,
            "visibility": null,
            "width": null
          }
        },
        "35f2ab3714d24e5bbd4f075f10a7061f": {
          "model_module": "@jupyter-widgets/controls",
          "model_name": "ProgressStyleModel",
          "model_module_version": "1.5.0",
          "state": {
            "_model_module": "@jupyter-widgets/controls",
            "_model_module_version": "1.5.0",
            "_model_name": "ProgressStyleModel",
            "_view_count": null,
            "_view_module": "@jupyter-widgets/base",
            "_view_module_version": "1.2.0",
            "_view_name": "StyleView",
            "bar_color": null,
            "description_width": ""
          }
        },
        "4301d2b2c6a94b6eb09cac7d625fbb40": {
          "model_module": "@jupyter-widgets/base",
          "model_name": "LayoutModel",
          "model_module_version": "1.2.0",
          "state": {
            "_model_module": "@jupyter-widgets/base",
            "_model_module_version": "1.2.0",
            "_model_name": "LayoutModel",
            "_view_count": null,
            "_view_module": "@jupyter-widgets/base",
            "_view_module_version": "1.2.0",
            "_view_name": "LayoutView",
            "align_content": null,
            "align_items": null,
            "align_self": null,
            "border": null,
            "bottom": null,
            "display": null,
            "flex": null,
            "flex_flow": null,
            "grid_area": null,
            "grid_auto_columns": null,
            "grid_auto_flow": null,
            "grid_auto_rows": null,
            "grid_column": null,
            "grid_gap": null,
            "grid_row": null,
            "grid_template_areas": null,
            "grid_template_columns": null,
            "grid_template_rows": null,
            "height": null,
            "justify_content": null,
            "justify_items": null,
            "left": null,
            "margin": null,
            "max_height": null,
            "max_width": null,
            "min_height": null,
            "min_width": null,
            "object_fit": null,
            "object_position": null,
            "order": null,
            "overflow": null,
            "overflow_x": null,
            "overflow_y": null,
            "padding": null,
            "right": null,
            "top": null,
            "visibility": null,
            "width": null
          }
        },
        "0ab7ba4e36564ac49ab1cc395fffd255": {
          "model_module": "@jupyter-widgets/controls",
          "model_name": "DescriptionStyleModel",
          "model_module_version": "1.5.0",
          "state": {
            "_model_module": "@jupyter-widgets/controls",
            "_model_module_version": "1.5.0",
            "_model_name": "DescriptionStyleModel",
            "_view_count": null,
            "_view_module": "@jupyter-widgets/base",
            "_view_module_version": "1.2.0",
            "_view_name": "StyleView",
            "description_width": ""
          }
        }
      }
    }
  },
  "nbformat": 4,
  "nbformat_minor": 0
}