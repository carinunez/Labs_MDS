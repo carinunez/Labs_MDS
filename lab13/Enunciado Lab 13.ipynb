{
 "cells": [
  {
   "cell_type": "markdown",
   "metadata": {
    "id": "Kl0JoW4Eodvi"
   },
   "source": [
    "# **Laboratorio 13: 💨 Airflow 💨**\n",
    "\n",
    "<center><strong>MDS7202: Laboratorio de Programación Científica para Ciencia de Datos</strong></center>\n",
    "\n",
    "### **Cuerpo Docente:**\n",
    "\n",
    "- Profesores: Ignacio Meza, Sebastián Tinoco\n",
    "- Auxiliar: Eduardo Moya\n",
    "- Ayudantes: Nicolás Ojeda, Melanie Peña, Valentina Rojas"
   ]
  },
  {
   "cell_type": "markdown",
   "metadata": {
    "id": "o3ypG7Fsodvj"
   },
   "source": [
    "### Equipo: SUPER IMPORTANTE - notebooks sin nombre no serán revisados\n",
    "\n",
    "- Nombre de alumno 1: Alonso Uribe\n",
    "- Nombre de alumno 2: Carolina Nuñez\n",
    "\n",
    "### **Link de repositorio de GitHub:** [Repositorio💻](https://github.com/carinunez/Labs_MDS/)"
   ]
  },
  {
   "cell_type": "markdown",
   "metadata": {
    "id": "J_P7PCPTodvk"
   },
   "source": [
    "## Temas a tratar\n",
    "\n",
    "- Construcción de pipelines productivos usando `Airflow`.\n",
    "\n",
    "\n",
    "## Reglas:\n",
    "\n",
    "- **Grupos de 2 personas**\n",
    "- Cualquier duda fuera del horario de clases al foro. Mensajes al equipo docente serán respondidos por este medio.\n",
    "- Prohibidas las copias.\n",
    "- Pueden usar cualquer material del curso que estimen conveniente.\n",
    "\n",
    "### Objetivos principales del laboratorio\n",
    "\n",
    "- Reconocer los componentes pricipales de `Airflow` y su funcionamiento.\n",
    "- Poner en práctica la construcción de pipelines de `Airflow`.\n",
    "- Automatizar procesos típicos de un proyecto de ciencia de datos mediante `Airflow` y `Docker`.\n",
    "\n",
    "El laboratorio deberá ser desarrollado sin el uso indiscriminado de iteradores nativos de python (aka \"for\", \"while\"). La idea es que aprendan a exprimir al máximo las funciones optimizadas que nos entrega `pandas`, las cuales vale mencionar, son bastante más eficientes que los iteradores nativos sobre DataFrames."
   ]
  },
  {
   "cell_type": "markdown",
   "metadata": {
    "id": "KsfK981Uodvk"
   },
   "source": [
    "# **Introducción**"
   ]
  },
  {
   "cell_type": "markdown",
   "metadata": {
    "id": "1ilM8YDjodvk"
   },
   "source": [
    "<p align=\"center\">\n",
    "  <img src=\"https://i.gifer.com/SUFL.gif\" width=\"400\">\n",
    "</p>"
   ]
  },
  {
   "cell_type": "markdown",
   "metadata": {
    "id": "7zrLPQNBodvk"
   },
   "source": [
    "Nico, un estudiante del Magíster en Ciencia de Datos, se encuentra en la etapa final de sus estudios. Por un lado, está muy contento por haber llegado tan lejos, pero por otro, no puede evitar sentirse inquieto. Desde que ingresó a la universidad, una pregunta lo ha perseguido: ¿qué tan probable es que pueda ser seleccionado en los lugares donde envíe postulaciones para puestos de trabajo?\n",
    "\n",
    "Esta duda lo mantiene en constante reflexión, especialmente porque sabe que el mercado laboral en Ciencia de Datos es competitivo y exige habilidades no solo técnicas, sino también estratégicas para destacar. Sin embargo, Nico actualmente está completamente enfocado en terminar su tesis de magíster y ha tenido que postergar cualquier preparación específica para enfrentar el desafío de las postulaciones laborales.\n",
    "\n",
    "Al ver el avance y las habilidades que usted ha demostrado en el curso, Nico decidió proponerle un desafío que le permitirá disminuir la incertidumbre sobre su futuro laboral. Inspirado en sus conocimientos, él recolectó un conjunto de datos que contiene información sobre diversos factores que influyen en las decisiones de contratación de empresas al seleccionar entre sus postulantes. Este set de datos incluye los siguientes atributos:\n",
    "\n",
    "- Age: Edad del candidato\n",
    "- Gender: Genero del candidato. Male (0), Female (1).\n",
    "- EducationLevel: Mayor nivel educacional alcanzado por el candidato. Licenciatura Tipo 1 (1), Licenciatura Tipo 2 (2), Maestría (3), PhD. (4).\n",
    "- ExperienceYears: Años de experiencia profesional.\n",
    "- PreviousCompanies: Numero de compañías donde el candidato ha trabajado anteriormente.\n",
    "- DistanceFromCompany: Distancia en kilometros entre la residencia del candidato y la compañía donde postula.\n",
    "- InterviewScore: Puntaje obtenido en la entrevista por el candidato entre 0 a 100.\n",
    "- SkillScore: Puntaje obtenido en evaluación de habilidades técnicas por el candidato, entre 0 a 100.\n",
    "- PersonalityScore: Puntaje obtenido en pruebas de personalidad del candidato, entre 0 a 100.\n",
    "- RecruitmentStrategy: Estrategia del equipo de reclutamiento. Agresiva (1), Moderada (2), Conservadora (3).\n",
    "\n",
    "Variable a predecir:\n",
    "- HiringDecision: Resultado de la postulación. No contratado (0), Contratado (1).\n",
    "\n",
    "Su objetivo será ayudar a Nico a desarrollar un modelo que le permita predecir, basado en estos factores, si un postulante será contratado o no. Esta herramienta no solo le dará a Nico mayor claridad sobre el impacto de ciertos atributos en la decisión final de contratación, sino que también le permitirá aplicar sus conocimientos de Ciencia de Datos para resolver una pregunta que a muchos estudiantes como él les inquieta.\n",
    "\n",
    "Como estudiante del curso Laboratorio de Programación Científica para Ciencia de Datos, deberá demostrar sus capacidades para preprocesar, analizar y modelar datos, brindándole a Nico una solución robusta y bien fundamentada para su problemática.\n",
    "\n",
    "`Nota:` El siguiente [enlace](https://www.kaggle.com/datasets/rabieelkharoua/predicting-hiring-decisions-in-recruitment-data/data) contiene el set de datos original."
   ]
  },
  {
   "cell_type": "markdown",
   "metadata": {
    "id": "Yeh268atodvl"
   },
   "source": [
    "# **1. Pipeline de Predicción Lineal** (30 Puntos)"
   ]
  },
  {
   "cell_type": "markdown",
   "metadata": {
    "id": "CmB1LTWnodvl"
   },
   "source": [
    "<p align=\"center\">\n",
    "  <img src=\"https://c.tenor.com/WvHhQt2UpuAAAAAd/wolf-of-wall-street.gif\" width=\"400\">\n",
    "</p>"
   ]
  },
  {
   "cell_type": "markdown",
   "metadata": {
    "id": "bF1bTY0Modvl"
   },
   "source": [
    "En esta sección buscaremos desplegar un producto utilizando un modelo de clasificación `Random Forest` para determinar si una persona será contratada o no en un proceso de selección. Para ello, comenzaremos preparando un pipeline lineal mediante `Airflow`."
   ]
  },
  {
   "cell_type": "markdown",
   "metadata": {
    "id": "i7MllF4fodvl"
   },
   "source": [
    "## **1.1 Preparando el Pipeline** (15 puntos)"
   ]
  },
  {
   "cell_type": "markdown",
   "metadata": {
    "id": "V1JxaZgModvl"
   },
   "source": [
    "**Primero, asegúrese de tener creada las carpetas `dags`, `plugins` y `logs`**.\n",
    "\n",
    "Comenzamos preparando un archivo llamado `hiring_functions.py`, el cual guardará en la carpeta `dags` y debe contener lo siguiente:\n",
    "\n",
    "1. (3 puntos) Una función llamada `create_folders()` que cree una carpeta, la cual utilice la fecha de ejecución como nombre. Adicionalmente, dentro de esta carpeta debe crear las siguientes subcarpetas:\n",
    "  - raw\n",
    "  - splits\n",
    "  - models\n",
    "\n",
    "  `Hint`: Puede hacer uso de kwargs para obtener la fecha de ejecución mediante el DAG. El siguiente [Enlace](https://airflow.apache.org/docs/apache-airflow/stable/templates-ref.html) le puede ser útil.\n",
    "2. (3 puntos) Una función llamada `split_data()` que lea el archivo `data_1.csv` de la carepta `raw` y a partir de este, aplique un *hold out*, generando un dataset de entrenamiento y uno de prueba. Luego debe guardar estos nuevos conjuntos de datos en la carpeta `splits`. `Nota:` Utilice un 20% para el conjunto de prueba, mantenga la proporción original en la variable objetivo y fije una semilla.\n",
    "3. (8 puntos) Cree una función llamada `preprocess_and_train()` que:\n",
    "  - Lea los set de entrenamiento y prueba de la carpeta `splits`.\n",
    "  - Cree y aplique un `Pipeline` con una etapa de preprocesamiento. Utilice `ColumnTransformers` para aplicar las transformaciones que estime convenientes. Puede apoyarse del archivo `data_1_report.html` para justificar cualquier paso del preprocesamiento.\n",
    "  \n",
    "  - Añada una etapa de entrenamiento utilizando el modelo `RandomForest`.\n",
    "  \n",
    "  Esta función **debe crear un archivo `joblib` (análogo a `pickle`) con el pipeline entrenado** en la carepta `models`, además debe **imprimir** el accuracy en el conjunto de prueba y el f1-score de la clase positiva (contratado).\n",
    "3. (1 punto) Incorpore la función `gradio_interface` en su script, modificando la ruta de acceso a su modelo, de forma que pueda leerlo desde la carepta `models`. Puede realizar modificacioneds adicionales en caso de ser necesario.\n",
    "\n",
    "`NOTA:` Se permite la creación de funciones auxiliares si lo estiman conveniente."
   ]
  },
  {
   "cell_type": "code",
   "execution_count": 1,
   "metadata": {
    "executionInfo": {
     "elapsed": 382,
     "status": "ok",
     "timestamp": 1732807326416,
     "user": {
      "displayName": "Eduardo Andrés Moya Briones",
      "userId": "15114984037692151374"
     },
     "user_tz": 180
    },
    "id": "ze9Iotloodvl"
   },
   "outputs": [],
   "source": [
    "#Inserte su código aqui"
   ]
  },
  {
   "cell_type": "code",
   "execution_count": null,
   "metadata": {
    "id": "K_RCVPnUodvm"
   },
   "outputs": [],
   "source": [
    "\n",
    "def predict(file,model_path):\n",
    "\n",
    "    pipeline = joblib.load(model_path)\n",
    "    input_data = pd.read_json(file)\n",
    "    predictions = pipeline.predict(input_data)\n",
    "    print(f'La prediccion es: {predictions}')\n",
    "    labels = [\"No contratado\" if pred == 0 else \"Contratado\" for pred in predictions]\n",
    "\n",
    "    return {'Predicción': labels[0]}\n",
    "\n",
    "\n",
    "def gradio_interface():\n",
    "\n",
    "    model_path= ... #Completar con la ruta del modelo entrenado\n",
    "\n",
    "    interface = gr.Interface(\n",
    "        fn=lambda file: predict(file, model_path),\n",
    "        inputs=gr.File(label=\"Sube un archivo JSON\"),\n",
    "        outputs=\"json\",\n",
    "        title=\"Hiring Decision Prediction\",\n",
    "        description=\"Sube un archivo JSON con las características de entrada para predecir si Nico será contratado o no.\"\n",
    "    )\n",
    "    interface.launch(share=True)"
   ]
  },
  {
   "cell_type": "markdown",
   "metadata": {
    "id": "lTKOj1hfodvm"
   },
   "source": [
    "## **1.2 Creando Nuestro DAG** (15 puntos)"
   ]
  },
  {
   "cell_type": "markdown",
   "metadata": {
    "id": "RkEZcEh4odvm"
   },
   "source": [
    "<p align=\"center\">\n",
    "  <img src=\"https://media1.giphy.com/media/v1.Y2lkPTc5MGI3NjExMzNjd3hxOWIzZjhwZDc5NnJwZzZodnNrbWI5cGtjY2VwZjI0eDdnOSZlcD12MV9pbnRlcm5hbF9naWZfYnlfaWQmY3Q9Zw/Dh5q0sShxgp13DwrvG/giphy.webp\" width=\"400\">\n",
    "</p>"
   ]
  },
  {
   "cell_type": "markdown",
   "metadata": {
    "id": "r-MTaxTgodvm"
   },
   "source": [
    "Con las funciones del pipeline ya creadas, ahora vamos a proceder a crear un Directed Acyclic Graph (DAG). Para ello, se le pide lo siguiente:"
   ]
  },
  {
   "cell_type": "markdown",
   "metadata": {
    "id": "Y-yUak2Rodvm"
   },
   "source": [
    "- (10 puntos) Cree un segundo archivo llamado `dag_lineal.py` y guardelo en la carpeta dags. Este script debe seguir la siguiente estructura (Ver imagen de referencia):\n",
    "\n",
    "    0. Inicialice un DAG con fecha de inicio el 1 de octubre de 2024, ejecución manual y **sin backfill**. Asigne un `dag_id` que pueda reconocer facilmente, como `hiring_lineal`, etc.\n",
    "    1. Debe comenzar con un marcador de posición que indique el inicio del pipeline.\n",
    "    2. Cree una carpeta correspondiente a la ejecución del pipeline y cree las subcarpetas `raw`, `splits` y `models` mediante la función `create_folders()`.\n",
    "    3. Debe descargar el archivo `data_1.csv` del siguiente [enlace](https://gitlab.com/eduardomoyab/laboratorio-13/-/raw/main/files/data_1.csv). Debe guardar el archivo en la carpeta raw de la ejecución correspondiente.`Hint:` Le puede ser útil el comando `curl -o <path de guardado> <enlace con los datos>`.\n",
    "    4. Debe aplicar un hold out mediante la función `split_data()` de su archivo creado en la subsección anterior.\n",
    "    5. Debe aplicar el preprocesamiento y el entrenamiento del modelo mediante la función `preprocess_and_train()`.\n",
    "    6. Finalmente, debe montar una interfaz en gradio donde pueda cargar un archivo ``json``.\n",
    "\n",
    "\n",
    "- (3 puntos) Cree un `DockerFile` para montar un contenedor que contenga Airflow. Adicionalmente, cree una carpeta llamada dags donde guardará el script.py creado anteriormente.\n",
    "\n",
    "    `Nota:` Para la imagen, se recomienda utilizar python 3.10-slim. Adicionalmente, puede instalar `curl` mediante la siguiente linea de código: `RUN apt-get update && apt-get install -y curl`.\n",
    "\n",
    "- Construya el contenedor en Docker y acceda a la aplicación web de Airflow mediante el siguiente [enlace](http://localhost:8080/). Inicie sesión, acceda al DAG creado y ejecute de forma manual su pipeline.\n",
    "\n",
    "- (2 puntos) Acceda a la URL pública de Gradio e ingrese el archivo `nico_data.json` a su modelo. ¿Que predicción entregó el modelo para Nico? Adjunte imágenes de su resultado. `Hint:` Puede acceder a los `logs` para obtener los prints y la URL pública.\n",
    "\n",
    "`Hint:` Recuerde que puede entregar `kwargs` a sus funciones, como por ejemplo la fecha de ejecución `ds`.\n",
    "\n",
    "**Para esta sección, debe adjuntar todos los scripts creados junto a su notebook en la entrega, ya que serán ejecutados para validar el funcionamiento. Para justificar sus respuestas, adicionaslmente puede utilizar imágenes de apoyo, como screenshots.**"
   ]
  },
  {
   "cell_type": "markdown",
   "metadata": {
    "id": "tiMTgQfJpuIv"
   },
   "source": [
    "DAG de referencia:\n",
    "<p align=\"center\">\n",
    "  <img src=\"https://drive.google.com/uc?id=1iwDgECZfFeWq1dl433tMa6_3CNF9cn1L\" width=\"1200\">\n",
    "</p>\n",
    "\n",
    "\n"
   ]
  },
  {
   "cell_type": "code",
   "execution_count": null,
   "metadata": {
    "id": "ckzDqsF4odvn"
   },
   "outputs": [],
   "source": [
    "#Inserte código aqui"
   ]
  },
  {
   "cell_type": "markdown",
   "metadata": {
    "id": "KqBlHcBQpXJb"
   },
   "source": [
    "# **2. Paralelizando el Pipeline** (30 puntos)\n",
    "\n",
    "<p align=\"center\">\n",
    "  <img src=\"https://media.tenor.com/vDv7mn58skcAAAAM/clapping.gif\" width=\"300\">\n",
    "</p>\n",
    "\n"
   ]
  },
  {
   "cell_type": "markdown",
   "metadata": {
    "id": "SoQaVOeiqO_R"
   },
   "source": [
    "Al ver los resultados obtenidos, Nico queda muy contento con el clasificador. Sin embargo, le aparecen algunas dudas respecto al funcionamiento del pipeline. Primero le comenta que es posible que en un futuro tenga nuevos datos que podrían ser útiles para realizar nuevos entrenamientos, por lo que sería ideal si este pipeline se fuera ejecutando de forma periódica y no de forma manual. Además, Nico le menciona que le gustaría explorar el desempeño de otros modelos además de `Random Forest`, de forma que el pipeline seleccione de forma automática el modelo con mejor desempeño para luego hacer la predicción de Nico."
   ]
  },
  {
   "cell_type": "markdown",
   "metadata": {
    "id": "9mGPMg0ur-wR"
   },
   "source": [
    "## **2.1 Preparando un Nuevo Pipeline** (15 puntos)"
   ]
  },
  {
   "cell_type": "markdown",
   "metadata": {
    "id": "fpU81VCRr-Hr"
   },
   "source": [
    "<p align=\"center\">\n",
    "  <img src=\"https://i.makeagif.com/media/7-07-2015/oH6WRw.gif\" width=\"400\">\n",
    "</p>"
   ]
  },
  {
   "cell_type": "markdown",
   "metadata": {
    "id": "7KcXuS6bsZAw"
   },
   "source": [
    "De acuerdo a lo que le comentó Nico, usted decide crear un nuevo script con las funciones que utilizará su pipeline. Por ende, dentro de la carpeta `dags`, usted creará el archivo `hiring_dynamic_functions.py` el cual debe contener:\n",
    "\n",
    "1. (2 puntos) Una función llamada `create_folders()` que cree una carpeta, la cual utilice la fecha de ejecución como nombre. Adicionalmente, dentro de esta carpeta debe crear las siguientes subcarpetas:\n",
    "  - raw\n",
    "  - preprocessed\n",
    "  - splits\n",
    "  - models\n",
    "2. (2 puntos) Una función llamada `load_ands_merge()` que lea desde la carpeta `raw` los archivos `data_1.csv`y `data_2.csv` en caso de estar disponible. Luego concatene estos y genere un nuevo archivo resultante, guardándolo en la carpeta `preprocessed`.\n",
    "\n",
    "3. (2 puntos) Una función llamada `split_data()` que lea la data guardada en la carpeta `preprocessed` y realice un hold out sobre esta data. Esta función debe crear un conjunto de entrenamiento y uno de prueba. Mantenga una semilla y 20% para el conjunto de prueba. Guarde los conjuntos resultantes en la carpeta `splits`.\n",
    "\n",
    "4. (6 puntos) Una función llamada `train_model()` que reciba un modelo de clasificación.\n",
    "    - La función debe comenzar leyendo el conjunto de entrenamiento desde la carpeta `spits`.\n",
    "    - Esta debe crear y aplicar un `Pipeline` con una etapa de preprocesamiento. Utilice `ColumnTransformers` para aplicar las transformaciones que estime convenientes.\n",
    "    - Añada una etapa de entrenamiento utilizando un modelo que ingrese a la función.\n",
    "  \n",
    "  Esta función **debe crear un archivo joblib con el pipeline entrenado**. Guarde el modelo con un nombre que le permita una facil identificación dentro de la carpeta `models`.\n",
    "\n",
    "5. (3 puntos) Una función llamada `evaluate_models()` que reciba sus modelos entrenados desde la carpeta `models`, evalúe su desempeño mediante `accuracy` en el conjunto de prueba y seleccione el mejor modelo obtenido. Luego guarde el mejor modelo como archivo `.joblib`. Su función debe imprimir el nombre del modelo seleccionado y el accuracy obtenido."
   ]
  },
  {
   "cell_type": "code",
   "execution_count": null,
   "metadata": {
    "id": "KnX61hxjW9rI"
   },
   "outputs": [],
   "source": [
    "#Inserte código aqui"
   ]
  },
  {
   "cell_type": "markdown",
   "metadata": {
    "id": "RUYkXWcZJz3b"
   },
   "source": [
    "## **2.2 Componiendo un nuevo DAG** (15 puntos)"
   ]
  },
  {
   "cell_type": "markdown",
   "metadata": {
    "id": "ak7uL9YXJ6Xj"
   },
   "source": [
    "<p align=\"center\">\n",
    "  <img src=\"https://y.yarn.co/977552ab-0b55-4118-9948-06f6386474da_text.gif\" width=\"400\">\n",
    "</p>"
   ]
  },
  {
   "cell_type": "markdown",
   "metadata": {
    "id": "NbE6mu20LfWd"
   },
   "source": [
    "Con las nuevas funciones, vamos a crear nuestro nuevo DAG. Para ello, cree un nuevo script en la carpeta `dags`, llamandolo `dag_dynamic.py`. Este script debe contener la siguiente estructura:\n",
    "\n",
    "1. (1 punto) Inicialice un DAG con fecha de inicio el 1 de octubre de 2024, el cual se debe ejecutar el día 5 de cada mes a las 15:00 UTC. Utilice un `dag_id` interpretable para identificar fácilmente. **Habilite el backfill** para que pueda ejecutar tareas programadas desde fechas pasadas.\n",
    "2. (1 punto) Comience con un marcador de posición que indique el inicio del pipeline.\n",
    "3. (2 puntos) Cree una carpeta correspondiente a la ejecución del pipeline y cree las subcarpetas `raw`, `preprocessed`, `splits` y `models` mediante la función `create_folders()`.\n",
    "4. (2 puntos) Implemente un `Branching`que siga la siguiente lógica:\n",
    "  - Fechas previas al 1 de noviembre de 2024: Se descarga solo `data_1.csv`\n",
    "  - Desde el 1 de noviembre del 2024: descarga `data_1.csv` y `data_2.csv`.\n",
    "  En el siguiente [enlace](https://gitlab.com/eduardomoyab/laboratorio-13/-/raw/main/files/data_2.csv) puede descargar `data_2.csv`.\n",
    "5. (1 punto) Cree una tarea que concatene los datasets disponibles mediante la función `load_and_merge()`. Configure un `Trigger` para que la tarea se ejecute si encuentra disponible **como mínimo** uno de los archivos.\n",
    "6. (1 punto) Aplique el hold out al dataset mediante la función `split_data()`, obteniendo un conjunto de entrenamiento y uno de prueba.\n",
    "7. (2 puntos) Realice 3 entrenamientos en paralelo:\n",
    "  - Un modelo Random Forest.\n",
    "  - 2 modelos a elección.\n",
    "  Asegúrese de guardar sus modelos entrenados con nombres distintivos. Utilice su función `train_model()` para ello.\n",
    "8. (2 puntos)Mediante la función `evaluate_models()`, evalúe los modelos entrenados, registrando el accuracy de cada modelo en el set de prueba. Luego debe imprimir el mejor modelo seleccionado y su respectiva métrica. Configure un `Trigger` para que la tarea se ejecute solamente si los 3 modelos fueron entrenados y guardados.\n",
    "\n",
    "`Hint:` Recuerde que puede entregar `kwargs` a sus funciones, como por ejemplo la fecha de ejecución `ds`.\n",
    "\n",
    "Una vez creado el script, vuelva a construir el contenedor en Docker, acceda a la aplicación web de Airflow, ejecute su pipeline y muestre sus resultados. Adjunte imágenes que ayuden a mostrar el proceso y sus resultados.\n",
    "\n",
    "Adicionalmente, responda (1 c/u):\n",
    "\n",
    "- ¿Cual es el accuracy de cada modelo en la ejecución de octubre? ¿Se obtienen los mismos resultados a partir de Noviembre?\n",
    "- Analice como afectó el añadir datos a sus modelos mediante el desempeño del modelo y en costo computacional.\n",
    "- Muestre el esquema de su DAG ejecutado en octubre y en noviembre.\n",
    "\n",
    "\n",
    "`Nota:` Para esta sección no debe implementar la tarea en gradio, solamente se espera determinar el mejor modelo y comparar el desempeño obtenido.\n",
    "\n",
    "**IMPORTANTE: Para esta sección, debe adjuntar todos los scripts creados junto a su notebook en la entrega, ya que serán ejecutados para validar el funcionamiento. Para justificar sus respuestas, adicionaslmente puede utilizar imágenes de apoyo, como screenshots.**"
   ]
  },
  {
   "cell_type": "code",
   "execution_count": null,
   "metadata": {
    "id": "cMgK2sKTYJji"
   },
   "outputs": [],
   "source": [
    "#Inserte código aqui"
   ]
  },
  {
   "cell_type": "markdown",
   "metadata": {
    "id": "wrmM65RIRrgm"
   },
   "source": [
    "# Conclusión\n",
    "Eso ha sido todo para el lab de hoy, recuerden que el laboratorio tiene un plazo de entrega de una semana. Cualquier duda del laboratorio, no duden en contactarnos por el foro de U-cursos o por correo.\n",
    "\n",
    "<center>\n",
    "<img src =\"https://media0.giphy.com/media/W12WAzuqod9VS/200w.gif?cid=6c09b952gekq3fm1no1ttwcvgm9oj3khbm6yxbe6qwnx3nad&ep=v1_gifs_search&rid=200w.gif&ct=g\" width = 400 />\n"
   ]
  }
 ],
 "metadata": {
  "colab": {
   "provenance": []
  },
  "kernelspec": {
   "display_name": "Lab_MDS_Primavera",
   "language": "python",
   "name": "python3"
  },
  "language_info": {
   "codemirror_mode": {
    "name": "ipython",
    "version": 3
   },
   "file_extension": ".py",
   "mimetype": "text/x-python",
   "name": "python",
   "nbconvert_exporter": "python",
   "pygments_lexer": "ipython3",
   "version": "3.12.0"
  }
 },
 "nbformat": 4,
 "nbformat_minor": 0
}
