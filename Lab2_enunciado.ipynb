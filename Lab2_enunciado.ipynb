{
  "cells": [
    {
      "cell_type": "markdown",
      "metadata": {
        "cell_id": "c88c47fea2f64685aeec698891b7f8de",
        "deepnote_cell_height": 104.390625,
        "deepnote_cell_type": "markdown",
        "id": "XUZ1dFPHzAHl",
        "owner_user_id": "d50c3174-babb-4861-9c71-7e3af66458b8"
      },
      "source": [
        "<h1><center>Laboratorio 2: OOP con Imágenes 📷</center></h1>\n",
        "\n",
        "<center><strong>MDS7202: Laboratorio de Programación Científica para Ciencia de Datos - Primavera 2024</strong></center>"
      ]
    },
    {
      "cell_type": "markdown",
      "metadata": {
        "cell_id": "87d3c0194e1b4099918e854ada6015c9",
        "deepnote_cell_height": 165.1875,
        "deepnote_cell_type": "markdown",
        "id": "UD8X1uhGzAHq"
      },
      "source": [
        "### Cuerpo Docente:\n",
        "\n",
        "- Profesores: Ignacio Meza, Sebastián Tinoco\n",
        "- Auxiliar: Eduardo Moya\n",
        "- Ayudantes: Nicolás Ojeda, Melanie Peña, Valentina Rojas"
      ]
    },
    {
      "cell_type": "markdown",
      "metadata": {
        "cell_id": "5158366ac94448d091335d884a5e5df3",
        "deepnote_cell_height": 139.796875,
        "deepnote_cell_type": "markdown",
        "id": "tXflExjqzAHr"
      },
      "source": [
        "### Equipo: **SUPER IMPORTANTE - notebooks sin nombre no serán revisados**\n",
        "\n",
        "- Nombre de alumno 1: Carolina Núñez\n",
        "- Nombre de alumno 2: Alonso Uribe\n"
      ]
    },
    {
      "cell_type": "markdown",
      "metadata": {
        "cell_id": "15455d312c6a48ecb0cecd7780edd341",
        "deepnote_cell_height": 62,
        "deepnote_cell_type": "markdown",
        "id": "AD-V0bbZzAHr"
      },
      "source": [
        "### **Link de repositorio de GitHub:** [Repositorio💻](https://github.com/carinunez/Labs_MDS/)"
      ]
    },
    {
      "cell_type": "markdown",
      "metadata": {
        "cell_id": "a3dd6339568046c7937ca4fed10548d7",
        "deepnote_cell_height": 216,
        "deepnote_cell_type": "markdown",
        "id": "FKyNrlt_4c-z",
        "tags": []
      },
      "source": [
        "## Reglas:\n",
        "\n",
        "- **Grupos de 2 personas**\n",
        "- Fecha de entrega: 6 días de plazo con descuento de 1 punto por día. Entregas Jueves a las 23:59.\n",
        "- Instrucciones del lab el viernes a las 16:15 en formato online. Asistencia no es obligatoria.\n",
        "- <u>Prohibidas las copias</u>. Cualquier intento de copia será debidamente penalizado con el reglamento de la escuela.\n",
        "- Tienen que subir el laboratorio a u-cursos y a su repositorio de github. Labs que no estén en u-cursos no serán revisados. Recuerden que el repositorio también tiene nota.\n",
        "- Cualquier duda fuera del horario de clases al foro. Mensajes al equipo docente serán respondidos por este medio.\n",
        "- Pueden usar cualquier material del curso que estimen conveniente."
      ]
    },
    {
      "cell_type": "markdown",
      "metadata": {
        "cell_id": "6536cf61bbd84dec86fce9efb10e1ec6",
        "deepnote_cell_height": 165.1875,
        "deepnote_cell_type": "markdown",
        "id": "6uBLPj1PzAHs"
      },
      "source": [
        "### Temas a tratar:\n",
        "\n",
        "- Programación Orientada a Objetos.\n",
        "- Programación Funcional.\n",
        "- `Numpy` para manejo de datos en arreglos/tensores.\n",
        "\n",
        "\n"
      ]
    },
    {
      "cell_type": "markdown",
      "metadata": {
        "cell_id": "3fbcb9feca04474895db9efd37f5048e",
        "deepnote_cell_height": 316.59375,
        "deepnote_cell_type": "markdown",
        "id": "OcTKKoSh4c-0",
        "tags": []
      },
      "source": [
        "### Objetivos principales del laboratorio\n",
        "\n",
        "- Aplicar los paradigmas y buenas prácticas de programación vistas hasta este momento.\n",
        "- Comprender y aprovechar las ventajas que nos ofrece la liberia `numpy` con respecto a trabajar en Python 'puro'.\n",
        "- Visualizar aplicaciones de filtros de imágenes sin el uso de librerías.\n",
        "- Verificar que el uso indiscriminado de `for` puede afectar en la eficiencia en al procesar datos masivos.\n",
        "\n",
        "\n",
        "El laboratorio deberá ser desarrollado **sin el uso indiscriminado de iteradores nativos de python (aka \"for\", \"while\")**. La idea es que aprendan a exprimir al máximo las funciones optimizadas que nos entrega `numpy`, las cuales vale mencionar, son bastante más eficientes que los iteradores nativos sobre arreglos.\n",
        "\n",
        "El lab estará basado en algunos conceptos básicos de procesamiento de imágenes, por lo que te iremos guiando, paso a paso por cada uno de los tópicos a desarrollar."
      ]
    },
    {
      "cell_type": "markdown",
      "metadata": {
        "cell_id": "8bb0d186f80b4ec6b2f817d43295fd34",
        "deepnote_cell_height": 70,
        "deepnote_cell_type": "markdown",
        "id": "wrG4gYabzAHs"
      },
      "source": [
        "## Descripción del laboratorio."
      ]
    },
    {
      "cell_type": "markdown",
      "metadata": {
        "cell_id": "e10fd65559814c3792919815bf8eb69f",
        "deepnote_cell_height": 667.578125,
        "deepnote_cell_type": "markdown",
        "id": "VCXbuI5FzAHs"
      },
      "source": [
        "En Data Science son múltiples las aplicaciones que exigen el uso exhaustivo de listas de varias dimensiones. Estas entidad reciben formalmente el nombre de **arreglos o tensores**.\n",
        "\n",
        "Pensemos en que queremos almacenar objetos en un casillero común y corriente: podemos pensar que este puede ser representado por una matriz de dos dimensiones: alto y ancho. ¿Que sucederá si este casillero nos queda pequeño y queremos guardar más información del mismo tipo?: La solución es simple es agregar otro casillero. Esto puede ser pensado como el aumento de la dimensión de nuestro objeto, pasando a ser ahora (alto, ancho, id casillero). Esto no es otra cosa que un **tensor de 3 dimensiones**.\n",
        "\n",
        "<br>\n",
        "<center>\n",
        "<img src=\"https://i.imgur.com/HRiF5qA.png\" width=600 height=600 />\n",
        "</center>\n",
        "<br>"
      ]
    },
    {
      "cell_type": "markdown",
      "metadata": {
        "cell_id": "72cc0b4898164a67b2f2379b3d5b50b8",
        "deepnote_cell_height": 550.75,
        "deepnote_cell_type": "markdown",
        "id": "nMHGLtrjzAHt"
      },
      "source": [
        "### ¿Bueno y que tiene que ver todo esto con las imágenes?\n",
        "\n",
        "Una imagen es una representación visual de una matriz que contiene de números que describen intensidades de color (llamados píxeles). Esto visto desde la perspectiva de una imagen en blanco y negro, vendria siendo una matriz que reune las diferentes intensidades de los pixeles desde 0 a 255.\n",
        "\n",
        "<br>\n",
        "<center>\n",
        "<img src=\"https://miro.medium.com/max/1386/1*bV7S0zACdidh11ikjYpLpQ.png\" width=500 height=500 alt=\"Representación de una imagen\" />\n",
        "</center>\n",
        "<br>"
      ]
    },
    {
      "cell_type": "markdown",
      "metadata": {
        "cell_id": "2b4107d2ad3b42c6a31b7d93f89ca3ee",
        "deepnote_cell_height": 577.375,
        "deepnote_cell_type": "markdown",
        "id": "yNQ3QC-azAHt"
      },
      "source": [
        "Cuando las imágenes poseen colores, las imágenes vendrían siendo \"sin querer queriendo\", una bella representación de lo que es un tensor: estas pueden ser representadas por un tensor de 3 dimensiones que les dan el *ancho, alto y el canal*, en donde son alojados los colores de la imagen.\n",
        "\n",
        "<br>\n",
        "<center>\n",
        "<img src=\"https://miro.medium.com/max/2146/1*icINeO4H7UKe3NlU1fXqlA.jpeg\" width=300 height=300 alt=\"Representación de una imagen\" />\n",
        "</center>\n",
        "<br>\n",
        "\n",
        "Como pueden ver, la imagen puede ser interpretada como un tensor de tres dimensiones(un ancho, un alto y la intensidad de cada color) en el a cada posición $(i,j)$ de la imagen, le asociaremos 3 intensidades de colores RGB (Rojo, Verde y Azul). Estas intensidades irán desde el $0$ al $255$. La combinación de estos 3 canales nos permitirá representar gran parte de los colores que encontramos en la naturaleza."
      ]
    },
    {
      "cell_type": "markdown",
      "metadata": {
        "cell_id": "132465e5041848b897b1b42cf4eee93e",
        "deepnote_cell_height": 52.390625,
        "deepnote_cell_type": "markdown",
        "id": "NY8B9cZCGXM0"
      },
      "source": [
        "**Instalar paquetes: Si están usando conda**\n"
      ]
    },
    {
      "cell_type": "code",
      "execution_count": 17,
      "metadata": {
        "cell_id": "b03ebf15860540d9ad125f681d0a4030",
        "deepnote_cell_type": "code",
        "deepnote_to_be_reexecuted": false,
        "execution_millis": 615,
        "execution_start": 1649390595713,
        "id": "bdo4LdNvGXM0",
        "outputId": "ee7438f6-e46b-41b1-c170-6f889a867adf",
        "source_hash": "4fe19af5"
      },
      "outputs": [],
      "source": [
        "    # import sys\n",
        "\n",
        "    # !conda install --yes --prefix {sys.prefix} pillow plotly imageio"
      ]
    },
    {
      "cell_type": "markdown",
      "metadata": {
        "cell_id": "ce6dec64eccc4bc8868efc3e6c5645b5",
        "deepnote_cell_height": 52.390625,
        "deepnote_cell_type": "markdown",
        "id": "wBoQtPFpGXM1"
      },
      "source": [
        "**Instalar paquetes: Si están usando pip**\n"
      ]
    },
    {
      "cell_type": "code",
      "execution_count": 18,
      "metadata": {
        "cell_id": "baf05f74e45846428adf98468022825f",
        "colab": {
          "base_uri": "https://localhost:8080/"
        },
        "deepnote_cell_type": "code",
        "deepnote_to_be_reexecuted": false,
        "execution_millis": 3440,
        "execution_start": 1649390596332,
        "id": "GWPEzmMfGXM2",
        "outputId": "653cd487-1205-42b5-d897-ddecacd89723",
        "scrolled": true,
        "source_hash": "509e3204"
      },
      "outputs": [
        {
          "name": "stdout",
          "output_type": "stream",
          "text": [
            "Requirement already satisfied: pillow in d:\\fcfm\\primavera2024\\lab\\labs_mds\\.venv\\lib\\site-packages (10.4.0)\n",
            "Requirement already satisfied: plotly in d:\\fcfm\\primavera2024\\lab\\labs_mds\\.venv\\lib\\site-packages (5.23.0)\n",
            "Requirement already satisfied: imageio in d:\\fcfm\\primavera2024\\lab\\labs_mds\\.venv\\lib\\site-packages (2.35.1)\n",
            "Requirement already satisfied: tenacity>=6.2.0 in d:\\fcfm\\primavera2024\\lab\\labs_mds\\.venv\\lib\\site-packages (from plotly) (9.0.0)\n",
            "Requirement already satisfied: packaging in d:\\fcfm\\primavera2024\\lab\\labs_mds\\.venv\\lib\\site-packages (from plotly) (24.1)\n",
            "Requirement already satisfied: numpy in d:\\fcfm\\primavera2024\\lab\\labs_mds\\.venv\\lib\\site-packages (from imageio) (2.1.0)\n"
          ]
        }
      ],
      "source": [
        "import sys\n",
        "\n",
        "!{sys.executable} -m pip install pillow plotly imageio"
      ]
    },
    {
      "cell_type": "markdown",
      "metadata": {
        "cell_id": "6ba0184eb97e4c2ca65dfdce13ccefa9",
        "deepnote_cell_height": 52.390625,
        "deepnote_cell_type": "markdown",
        "id": "qVvdr3KWI44v"
      },
      "source": [
        "**En caso de trabajar con colab:**"
      ]
    },
    {
      "cell_type": "code",
      "execution_count": 19,
      "metadata": {
        "cell_id": "1ada5a6e1eec4c8fa01a4f4e1e198403",
        "colab": {
          "base_uri": "https://localhost:8080/"
        },
        "deepnote_cell_type": "code",
        "deepnote_to_be_reexecuted": false,
        "execution_millis": 432,
        "execution_start": 1649390599353,
        "id": "oK0F0SbjI5JJ",
        "outputId": "92c67b57-21dc-41d0-8cc2-40dfce78b36b",
        "source_hash": "96d22ffd"
      },
      "outputs": [],
      "source": [
        "# try:\n",
        "#     from google.colab import drive\n",
        "\n",
        "#     drive.mount(\"/content/drive\")\n",
        "#     path = \"/content/drive/My Drive/CuerpoDocente/Laboratorios/Lab1-Numpy/\"\n",
        "# except:\n",
        "#     print('Ignorando conexión drive-colab')"
      ]
    },
    {
      "cell_type": "code",
      "execution_count": 20,
      "metadata": {
        "cell_id": "8f0f140488e5441c8e6ebb24f0fcf1ab",
        "colab": {
          "background_save": true,
          "base_uri": "https://localhost:8080/",
          "height": 542
        },
        "deepnote_cell_type": "code",
        "deepnote_to_be_reexecuted": false,
        "execution_millis": 1810,
        "execution_start": 1649390599403,
        "id": "Q12jiQo6zAHu",
        "outputId": "a44d8b21-3c0a-48c8-971e-53ff315bda48",
        "owner_user_id": "badcc427-fd3d-4615-9296-faa43ec69cfb",
        "source_hash": "e5888155"
      },
      "outputs": [
        {
          "ename": "ValueError",
          "evalue": "Mime type rendering requires nbformat>=4.2.0 but it is not installed",
          "output_type": "error",
          "traceback": [
            "\u001b[1;31m---------------------------------------------------------------------------\u001b[0m",
            "\u001b[1;31mValueError\u001b[0m                                Traceback (most recent call last)",
            "Cell \u001b[1;32mIn[20], line 15\u001b[0m\n\u001b[0;32m     11\u001b[0m \u001b[38;5;66;03m# Solo para ejemplificar, usaremos plotly (NO USARLO EN LO QUE QUEDA DEL LAB).\u001b[39;00m\n\u001b[0;32m     12\u001b[0m \u001b[38;5;66;03m# Pero en el restro del laboratorio, matplotlib debe ser usado\u001b[39;00m\n\u001b[0;32m     14\u001b[0m fig \u001b[38;5;241m=\u001b[39m px\u001b[38;5;241m.\u001b[39mimshow(foto)\n\u001b[1;32m---> 15\u001b[0m \u001b[43mfig\u001b[49m\u001b[38;5;241;43m.\u001b[39;49m\u001b[43mshow\u001b[49m\u001b[43m(\u001b[49m\u001b[43m)\u001b[49m\n\u001b[0;32m     17\u001b[0m \u001b[38;5;66;03m# Reiniciar entorno just in case\u001b[39;00m\n",
            "File \u001b[1;32md:\\FCFM\\Primavera2024\\Lab\\Labs_MDS\\.venv\\lib\\site-packages\\plotly\\basedatatypes.py:3410\u001b[0m, in \u001b[0;36mBaseFigure.show\u001b[1;34m(self, *args, **kwargs)\u001b[0m\n\u001b[0;32m   3377\u001b[0m \u001b[38;5;250m\u001b[39m\u001b[38;5;124;03m\"\"\"\u001b[39;00m\n\u001b[0;32m   3378\u001b[0m \u001b[38;5;124;03mShow a figure using either the default renderer(s) or the renderer(s)\u001b[39;00m\n\u001b[0;32m   3379\u001b[0m \u001b[38;5;124;03mspecified by the renderer argument\u001b[39;00m\n\u001b[1;32m   (...)\u001b[0m\n\u001b[0;32m   3406\u001b[0m \u001b[38;5;124;03mNone\u001b[39;00m\n\u001b[0;32m   3407\u001b[0m \u001b[38;5;124;03m\"\"\"\u001b[39;00m\n\u001b[0;32m   3408\u001b[0m \u001b[38;5;28;01mimport\u001b[39;00m \u001b[38;5;21;01mplotly\u001b[39;00m\u001b[38;5;21;01m.\u001b[39;00m\u001b[38;5;21;01mio\u001b[39;00m \u001b[38;5;28;01mas\u001b[39;00m \u001b[38;5;21;01mpio\u001b[39;00m\n\u001b[1;32m-> 3410\u001b[0m \u001b[38;5;28;01mreturn\u001b[39;00m pio\u001b[38;5;241m.\u001b[39mshow(\u001b[38;5;28mself\u001b[39m, \u001b[38;5;241m*\u001b[39margs, \u001b[38;5;241m*\u001b[39m\u001b[38;5;241m*\u001b[39mkwargs)\n",
            "File \u001b[1;32md:\\FCFM\\Primavera2024\\Lab\\Labs_MDS\\.venv\\lib\\site-packages\\plotly\\io\\_renderers.py:394\u001b[0m, in \u001b[0;36mshow\u001b[1;34m(fig, renderer, validate, **kwargs)\u001b[0m\n\u001b[0;32m    389\u001b[0m         \u001b[38;5;28;01mraise\u001b[39;00m \u001b[38;5;167;01mValueError\u001b[39;00m(\n\u001b[0;32m    390\u001b[0m             \u001b[38;5;124m\"\u001b[39m\u001b[38;5;124mMime type rendering requires ipython but it is not installed\u001b[39m\u001b[38;5;124m\"\u001b[39m\n\u001b[0;32m    391\u001b[0m         )\n\u001b[0;32m    393\u001b[0m     \u001b[38;5;28;01mif\u001b[39;00m \u001b[38;5;129;01mnot\u001b[39;00m nbformat \u001b[38;5;129;01mor\u001b[39;00m Version(nbformat\u001b[38;5;241m.\u001b[39m__version__) \u001b[38;5;241m<\u001b[39m Version(\u001b[38;5;124m\"\u001b[39m\u001b[38;5;124m4.2.0\u001b[39m\u001b[38;5;124m\"\u001b[39m):\n\u001b[1;32m--> 394\u001b[0m         \u001b[38;5;28;01mraise\u001b[39;00m \u001b[38;5;167;01mValueError\u001b[39;00m(\n\u001b[0;32m    395\u001b[0m             \u001b[38;5;124m\"\u001b[39m\u001b[38;5;124mMime type rendering requires nbformat>=4.2.0 but it is not installed\u001b[39m\u001b[38;5;124m\"\u001b[39m\n\u001b[0;32m    396\u001b[0m         )\n\u001b[0;32m    398\u001b[0m     ipython_display\u001b[38;5;241m.\u001b[39mdisplay(bundle, raw\u001b[38;5;241m=\u001b[39m\u001b[38;5;28;01mTrue\u001b[39;00m)\n\u001b[0;32m    400\u001b[0m \u001b[38;5;66;03m# external renderers\u001b[39;00m\n",
            "\u001b[1;31mValueError\u001b[0m: Mime type rendering requires nbformat>=4.2.0 but it is not installed"
          ]
        }
      ],
      "source": [
        "# En este lab usaremos adicionalmente pillow, una estupenda librería\n",
        "# para manejar imágenes.\n",
        "# https://pillow.readthedocs.io/en/stable/\n",
        "\n",
        "from PIL import Image\n",
        "import numpy as np\n",
        "import plotly.express as px\n",
        "\n",
        "foto = np.array(Image.open(\"./images_lab/cobija.PNG\").convert(\"RGB\")) # Red Green Blue\n",
        "\n",
        "# Solo para ejemplificar, usaremos plotly (NO USARLO EN LO QUE QUEDA DEL LAB).\n",
        "# Pero en el restro del laboratorio, matplotlib debe ser usado\n",
        "\n",
        "fig = px.imshow(foto)\n",
        "fig.show()\n",
        "\n",
        "# Reiniciar entorno just in case"
      ]
    },
    {
      "cell_type": "markdown",
      "metadata": {
        "cell_id": "df21a6ccc1204827afa321bf68d7f630",
        "deepnote_cell_height": 52.390625,
        "deepnote_cell_type": "markdown",
        "id": "63I9Na8OzAHv"
      },
      "source": [
        "Luego, llamando la variable donde alojamos el array podemos ver los valores que componen a esta imagen."
      ]
    },
    {
      "cell_type": "code",
      "execution_count": null,
      "metadata": {
        "cell_id": "437a6f72c3144e92a0194183f26dbff0",
        "colab": {
          "base_uri": "https://localhost:8080/"
        },
        "deepnote_cell_type": "code",
        "deepnote_to_be_reexecuted": false,
        "execution_millis": 3697401,
        "execution_start": 1649390601207,
        "id": "RWc68bMGGXM3",
        "outputId": "d2ad45f1-44db-42f4-c0b5-576ae76a2d88",
        "scrolled": true,
        "source_hash": "b68dfc0f"
      },
      "outputs": [
        {
          "ename": "",
          "evalue": "",
          "output_type": "error",
          "traceback": [
            "\u001b[1;31mRunning cells with 'Python 3.10.11' requires the ipykernel package.\n",
            "\u001b[1;31mRun the following command to install 'ipykernel' into the Python environment. \n",
            "\u001b[1;31mCommand: '\"c:/Program Files/Python310/python.exe\" -m pip install ipykernel -U --user --force-reinstall'"
          ]
        }
      ],
      "source": [
        "print(f'Número de dimensiones: {foto.ndim}')\n",
        "print(f'Número de elementos por dimensión: {foto.shape}')"
      ]
    },
    {
      "cell_type": "markdown",
      "metadata": {
        "cell_id": "5e6d4cbc94f84a6083892400f02cf563",
        "deepnote_cell_height": 52.390625,
        "deepnote_cell_type": "markdown",
        "id": "F9F1g0gAzAHw"
      },
      "source": [
        "Finalmente visualizamos de forma aleatoria los pixeles de cada canal para mostrar sus intensidades."
      ]
    },
    {
      "cell_type": "code",
      "execution_count": null,
      "metadata": {
        "cell_id": "039f76b1acbc44caabcfb028486f857e",
        "colab": {
          "base_uri": "https://localhost:8080/"
        },
        "deepnote_cell_type": "code",
        "deepnote_to_be_reexecuted": false,
        "execution_millis": 3696618,
        "execution_start": 1649390601248,
        "id": "Jyj5I87HzAHw",
        "outputId": "f0067c3d-841e-495b-bfdd-2923677f465e",
        "source_hash": "cef24e8f"
      },
      "outputs": [
        {
          "ename": "",
          "evalue": "",
          "output_type": "error",
          "traceback": [
            "\u001b[1;31mRunning cells with 'Python 3.10.11' requires the ipykernel package.\n",
            "\u001b[1;31mRun the following command to install 'ipykernel' into the Python environment. \n",
            "\u001b[1;31mCommand: '\"c:/Program Files/Python310/python.exe\" -m pip install ipykernel -U --user --force-reinstall'"
          ]
        }
      ],
      "source": [
        "print(f\"Ejemplo de pixel (10, 200) en el canal 0 - Red: {foto[10, 200, 0]}\")\n",
        "print(f\"Ejemplo de pixel (10, 200) en el canal 1- Green: {foto[10, 200, 1]}\")\n",
        "print(f\"Ejemplo de pixel (10, 200) en el canal 2- Blue: {foto[10, 200, 2]}\")"
      ]
    },
    {
      "cell_type": "markdown",
      "metadata": {
        "cell_id": "6231eb2f501841c1b295206dab034648",
        "deepnote_cell_height": 825.265625,
        "deepnote_cell_type": "markdown",
        "id": "--KvQcDQzAHw"
      },
      "source": [
        "Con lo anterior, suponiendo que la imagen del \"gatito\" tiene una altura igual a 600 y un ancho de 400, el tensor $G$ que representa a la imagen vendrá dado por $G[600, 400, 3]$.\n",
        "\n",
        "### Videos\n",
        "\n",
        "Luego, si queremos complejizar aún mas esto y queremos tener tensores que agrupen un conjunto de imágenes (de igual tamaño) tendremos lo siguiente:\n",
        "\n",
        "\n",
        "<br>\n",
        "<center>\n",
        "<img src=\"https://encrypted-tbn0.gstatic.com/images?q=tbn:ANd9GcRk4BWrH_xi_blsx9Y32OTT8k80vI90udG-Yg&usqp=CAU\" width=300 height=300 alt=\"Representación de una imagen\" />\n",
        "</center>\n",
        "<br>\n",
        "\n",
        "Este conjunto de imágenes nos generará la necesidad de producir una nueva dimensión, esto producto que las dimensiones son los espacios donde alojamos la información, por esto al conjunto de imágenes le agregaremos una dimensión que identifica cada una de las imágenes del conjunto, quedando representada por el tensor $G[0:n_d, 600, 400, 3]$. Por lo general, cuando tenemos imágenes con dimensionalidad 4 es porque se tratan de videos, o sea una secuencia de imágenes; el caso se complejiza aún más cuando agregamos sonido y esto se va a las pailas.\n",
        "\n",
        "<blockquote>Dato:\n",
        "La representación que posee cada una de las dimensiones puede cambiar dependiendo de la librería utilizada, en pytorch por ejemplo las dimensiones de una imagen vienen dadas por [batch, canales, alto, ancho] y no [batch, alto, ancho, canales] como en numpy.\n",
        "</blockquote>\n"
      ]
    },
    {
      "cell_type": "markdown",
      "metadata": {
        "cell_id": "e441d2f5ed354666ba6b3a36b0d6403b",
        "deepnote_cell_height": 958.375,
        "deepnote_cell_type": "markdown",
        "id": "wJWXUSARGXM4"
      },
      "source": [
        "### ¿Ya, pero esto tiene aplicaciones más allá de guardar información en casilleros?\n",
        "\n",
        "Para el caso de imágenes podemos encontrar múltiples aplicaciones con la manipulación de los tensores y operando matemáticamente con ellos. Algunas de las aplicaciones más conocidas (y que aplicaremos) son las siguientes:\n",
        "\n",
        "- **Obtener el negativo de una imagen**: Consiste en obtener el color complementario de una imagen, para esto debemos restar la imagen con la máxima intensidad que podemos encontrar en una imagen (o sea 255).\n",
        "    \n",
        "    \n",
        "- **Pasar a escala de grises una imagen**: Los valores RGB se convierten a escala de grises mediante la fórmula NTSC:\n",
        "\n",
        "    $$ imagen\\_gris = 0.299 * Rojo + 0.587 * Verde + 0.114 * Azul $$\n",
        "    \n",
        "    Esta fórmula representa la percepción relativa de la persona promedio del brillo de la luz roja, verde y azul.\n",
        "    \n",
        "    \n",
        "- **Mejora de contraste**: Son múltiples las técnicas que nos permiten mejorar el contraste de una imagen, pero, una técnica simple para modificar los contrastes consta en obtener un factor de corrección llamado F en base al contraste deseado (C). Luego, es aplicado en la diferencia entre la imagen y 128. De esta forma obtenemos R, que es la imagen con la mejora de contraste deseada.\n",
        "\n",
        "    $$ F=259*(C+255)/(255*(259-C)) $$\n",
        "    $$ R=F*(img-128)+128 $$\n",
        "  \n",
        "  \n",
        "- **Convolución**: Consiste en recorrer una imagen por cada uno de sus canales utilizando una matriz que lleva por nombre Kernel. El kernel, examinará los conjuntos de pixeles que recorre, aplicando una multiplicación de los valores circundantes ,y sumando todos los valores generados de este producto para generar un nuevo pixel en el tensor de salida.\n",
        "\n",
        "![conv](https://media3.giphy.com/media/i4NjAwytgIRDW/giphy.gif \"miracomorecorre\")"
      ]
    },
    {
      "cell_type": "markdown",
      "metadata": {
        "cell_id": "09f728c17d9f483e8df023f7b2d96ccb",
        "deepnote_cell_height": 83,
        "deepnote_cell_type": "markdown",
        "id": "6R4LylbDzAHx"
      },
      "source": [
        "---\n",
        "\n",
        "# Desarrollo"
      ]
    },
    {
      "cell_type": "markdown",
      "metadata": {
        "cell_id": "8860a9e382d6437fb2a28b7a5b44c62a",
        "deepnote_cell_height": 119.59375,
        "deepnote_cell_type": "markdown",
        "id": "JGaG_HSuzAHx"
      },
      "source": [
        "En base a lo explicado y visto en clases, a continuación, deben construir cada uno de los programas solicitados en las actividades señaladas más abajo. Estás, deben ser desarrollados de forma grupal (**2 personas por grupo**) y, la solución no debe ser compartida con personas externas al grupo; si se detecta que dos grupos entregan el mismo trabajo, será considerado plagio y se tomaran medidas al respecto."
      ]
    },
    {
      "cell_type": "markdown",
      "metadata": {
        "cell_id": "fd05d7680cc14bda90bf2c407da780ee",
        "deepnote_cell_height": 70,
        "deepnote_cell_type": "markdown",
        "id": "qhNBRbFWzAHy"
      },
      "source": [
        "## 2. Creación de Clases y Funciones."
      ]
    },
    {
      "cell_type": "markdown",
      "metadata": {
        "cell_id": "805aa87246c64e2b9810db39f759441f",
        "deepnote_cell_height": 54,
        "deepnote_cell_type": "markdown",
        "id": "MhISwri4zAHy"
      },
      "source": [
        "#### Importamos librerias utiles 😸"
      ]
    },
    {
      "cell_type": "code",
      "execution_count": null,
      "metadata": {
        "cell_id": "752142eb10cd40f0a833f647673a2c7e",
        "deepnote_cell_type": "code",
        "deepnote_to_be_reexecuted": false,
        "execution_millis": 1829,
        "execution_start": 1649390601248,
        "id": "uyc33dKdzAHy",
        "source_hash": "8c85054c"
      },
      "outputs": [
        {
          "ename": "",
          "evalue": "",
          "output_type": "error",
          "traceback": [
            "\u001b[1;31mRunning cells with 'Python 3.10.11' requires the ipykernel package.\n",
            "\u001b[1;31mRun the following command to install 'ipykernel' into the Python environment. \n",
            "\u001b[1;31mCommand: '\"c:/Program Files/Python310/python.exe\" -m pip install ipykernel -U --user --force-reinstall'"
          ]
        }
      ],
      "source": [
        "# Libreria Core del lab.\n",
        "import numpy as np\n",
        "from pathlib import Path\n",
        "\n",
        "# Librerias para graficar\n",
        "import matplotlib.pyplot as plt\n",
        "\n",
        "# Nota: Utilizar solo matplot para este lab. NO USAR PLOTLY,\n",
        "# ya que tiene problemas de compatibilidad con imagenes\n",
        "\n",
        "# Funcionalidades dependientes del Sistema Operativo.\n",
        "import os\n",
        "\n",
        "# Librerias utiles para cargar y generar Gifs\n",
        "import imageio\n",
        "from PIL import Image\n",
        "from scipy.signal import convolve2d"
      ]
    },
    {
      "cell_type": "markdown",
      "metadata": {
        "cell_id": "368586e90633478da31a15c19b4d107e",
        "deepnote_cell_height": 62,
        "deepnote_cell_type": "markdown",
        "id": "tUVO-0qBzAHy"
      },
      "source": [
        "### 2.1. Carga de imagenes y visualización"
      ]
    },
    {
      "cell_type": "markdown",
      "metadata": {
        "cell_id": "80fb9e1d87584c2f90055ec77d03dd57",
        "deepnote_cell_height": 133.59375,
        "deepnote_cell_type": "markdown",
        "id": "oAvlZriZzAHy"
      },
      "source": [
        "Descomprima el archivo \"images_lab.zip\" en algún directorio de su computador o plataforma, observen las imágenes y clasifíquenlas a su gusto, para luego en un diccionario cargar y agrupar las diferentes imágenes (no cree mas de tres llaves).\n",
        "\n",
        "Hecho esto, visualize dos imágenes y verifique la dimensionalidad de estas imágenes con el comando *.shape*. Comente la dimensionalidad de las imágenes."
      ]
    },
    {
      "cell_type": "markdown",
      "metadata": {
        "cell_id": "6aa912b4894a4385ba113101984f880a",
        "deepnote_cell_height": 136.796875,
        "deepnote_cell_type": "markdown",
        "id": "4aOic4qDzAHz"
      },
      "source": [
        "### Carga de imagenes en diccionarios\n",
        "\n",
        "Las siguientes celdas de código le permitirá cargar las imágenes que utilizaremos durante este laboratorio.\n",
        "\n",
        "La primera celda implementa la función `from_jpg`, la cual, dado una ruta, carga una imágen:\n"
      ]
    },
    {
      "cell_type": "code",
      "execution_count": null,
      "metadata": {
        "cell_id": "70bcfe007f7a437aa79817a54d29a551",
        "deepnote_cell_type": "code",
        "deepnote_to_be_reexecuted": false,
        "execution_millis": 4,
        "execution_start": 1649390603079,
        "id": "Cz3zwrcszAHz",
        "source_hash": "4d34909a"
      },
      "outputs": [
        {
          "ename": "",
          "evalue": "",
          "output_type": "error",
          "traceback": [
            "\u001b[1;31mRunning cells with 'Python 3.10.11' requires the ipykernel package.\n",
            "\u001b[1;31mRun the following command to install 'ipykernel' into the Python environment. \n",
            "\u001b[1;31mCommand: '\"c:/Program Files/Python310/python.exe\" -m pip install ipykernel -U --user --force-reinstall'"
          ]
        }
      ],
      "source": [
        "def from_jpg(path):\n",
        "    ruta = Path(path) # Esto se cambia -> ruta de la carpeta google drive\n",
        "    image = np.array(Image.open(ruta), dtype='int')\n",
        "    return image"
      ]
    },
    {
      "cell_type": "markdown",
      "metadata": {
        "cell_id": "1181a0a458d1423dafe75f43b3db5f91",
        "deepnote_cell_height": 52.390625,
        "deepnote_cell_type": "markdown",
        "id": "zkvfmP7v4c-5",
        "tags": []
      },
      "source": [
        "La segunda celda carga las imágenes y las guarda en un diccionario."
      ]
    },
    {
      "cell_type": "code",
      "execution_count": null,
      "metadata": {
        "cell_id": "e8a53a510f57419d8502ea6656253fa1",
        "deepnote_cell_type": "code",
        "deepnote_to_be_reexecuted": false,
        "execution_millis": 184,
        "execution_start": 1649390603084,
        "id": "h9nlarrH4c-6",
        "source_hash": "bda59e07",
        "tags": []
      },
      "outputs": [
        {
          "ename": "",
          "evalue": "",
          "output_type": "error",
          "traceback": [
            "\u001b[1;31mRunning cells with 'Python 3.10.11' requires the ipykernel package.\n",
            "\u001b[1;31mRun the following command to install 'ipykernel' into the Python environment. \n",
            "\u001b[1;31mCommand: '\"c:/Program Files/Python310/python.exe\" -m pip install ipykernel -U --user --force-reinstall'"
          ]
        }
      ],
      "source": [
        "images = {\n",
        "    \"gatitos\": [\n",
        "        from_jpg(\"./images_lab/gato1.jpg\"),\n",
        "        from_jpg(\"./images_lab/gato2.jpg\"),\n",
        "        from_jpg(\"./images_lab/gato4.jpg\"),\n",
        "    ],\n",
        "    \"Personas\": [\n",
        "        from_jpg(\"./images_lab/personas.jpg\"),\n",
        "        from_jpg(\"./images_lab/gurus.jpg\"),\n",
        "    ],\n",
        "    \"Monos_chinos\": [from_jpg(\"./images_lab/monitos.jpg\")],\n",
        "}"
      ]
    },
    {
      "cell_type": "markdown",
      "metadata": {
        "cell_id": "78fa36dc914645f8bf6c1a66896a706a",
        "deepnote_cell_height": 159.1875,
        "deepnote_cell_type": "markdown",
        "id": "xaMh8aqgzAHz"
      },
      "source": [
        "### Plot de imagenes\n",
        "A continuación, utilice la función `def show(imagen)` (definida más abajo) para explorar las imágenes cargadas en la celda anterior.\n",
        "\n",
        "**Respuesta Esperada**:"
      ]
    },
    {
      "cell_type": "code",
      "execution_count": null,
      "metadata": {
        "cell_id": "640d2a8ef5054248945266ef7aeb88a0",
        "deepnote_cell_type": "code",
        "deepnote_to_be_reexecuted": false,
        "execution_millis": 3,
        "execution_start": 1649390603270,
        "id": "8ngZZ4AxzAH0",
        "source_hash": "751c6de6"
      },
      "outputs": [
        {
          "ename": "",
          "evalue": "",
          "output_type": "error",
          "traceback": [
            "\u001b[1;31mRunning cells with 'Python 3.10.11' requires the ipykernel package.\n",
            "\u001b[1;31mRun the following command to install 'ipykernel' into the Python environment. \n",
            "\u001b[1;31mCommand: '\"c:/Program Files/Python310/python.exe\" -m pip install ipykernel -U --user --force-reinstall'"
          ]
        }
      ],
      "source": [
        "def show(imagen):\n",
        "    plt.imshow(imagen)\n",
        "    plt.show()\n",
        "    x, y, z = imagen.shape\n",
        "    print(f'Dimensiones de la imagen: {x}x{y} (Alto x Ancho)')"
      ]
    },
    {
      "cell_type": "code",
      "execution_count": null,
      "metadata": {
        "cell_id": "32b1bde317dd4c3f986ce39153dc3ded",
        "deepnote_cell_type": "code",
        "deepnote_to_be_reexecuted": false,
        "execution_millis": 347,
        "execution_start": 1649390603276,
        "id": "pEfbIRk9zAH0",
        "outputId": "aa156d33-20ad-4706-bbf3-109dfae8eefa",
        "scrolled": false,
        "source_hash": "fe959f96"
      },
      "outputs": [
        {
          "ename": "",
          "evalue": "",
          "output_type": "error",
          "traceback": [
            "\u001b[1;31mRunning cells with 'Python 3.10.11' requires the ipykernel package.\n",
            "\u001b[1;31mRun the following command to install 'ipykernel' into the Python environment. \n",
            "\u001b[1;31mCommand: '\"c:/Program Files/Python310/python.exe\" -m pip install ipykernel -U --user --force-reinstall'"
          ]
        }
      ],
      "source": [
        "show(images['gatitos'][1])\n",
        "# usar show para mostrar las otras imágenes..."
      ]
    },
    {
      "cell_type": "code",
      "execution_count": null,
      "metadata": {},
      "outputs": [
        {
          "ename": "",
          "evalue": "",
          "output_type": "error",
          "traceback": [
            "\u001b[1;31mRunning cells with 'Python 3.10.11' requires the ipykernel package.\n",
            "\u001b[1;31mRun the following command to install 'ipykernel' into the Python environment. \n",
            "\u001b[1;31mCommand: '\"c:/Program Files/Python310/python.exe\" -m pip install ipykernel -U --user --force-reinstall'"
          ]
        }
      ],
      "source": [
        "show(images['gatitos'][2])\n"
      ]
    },
    {
      "cell_type": "markdown",
      "metadata": {
        "cell_id": "ec6c071a0a564e5bab79622ffa4dda5f",
        "deepnote_cell_height": 62,
        "deepnote_cell_type": "markdown",
        "id": "JCKqwGRgzAH1"
      },
      "source": [
        "### 2.2 Clase imagenes [2 puntos]."
      ]
    },
    {
      "cell_type": "markdown",
      "metadata": {
        "cell_id": "b10432d506d34a39aab4df7bb606d8e5",
        "deepnote_cell_height": 610.796875,
        "deepnote_cell_type": "markdown",
        "id": "C8rLMQmtzAH1"
      },
      "source": [
        "Ahora que sabemos cómo plotear y cargar una imagen, cree una clase llamada \"Imagen\" la que cumpla las siguientes características:\n",
        "\n",
        "- [X] Un constructor que tome como argumento una imagen y que lo guarde como un atributo. `__init__` debe comprobar que la imagen es un arreglo de numpy (con `isinstance`) y adicionalmente que este tiene 3 dimensiones. En caso contrario, debe levantar excepciones con mensajes correspondientes al error detectado (ustedes definen el mensaje).\n",
        "- [ ] Implemente el método `show()` que muestre la imagen usando la función `plt.show()`.\n",
        "- [ ] Implemente el método `info()` que retorna un string con las dimensiones de la imagen.\n",
        "- [ ] Sobrecargue el método mágico `__mul__`, `__add__` y `__sub__` para realizar operaciones matemáticas entre el objeto y arrays, int o floats. Realice la función pensando que la operación se puede aplicar tanto para izquierda y derecha. Como estamos trabajando con imágenes los outputs deben ser enteros, por esto se le aconseja utilizar `.astype(int)` para transformar los arrays de salida a un formato legible por matplotlib.\n",
        "- [ ] Es importante que para las operaciones `__add__` y `__sub__` implementen una saturación de las imágenes. Es decir, la suma o resta deben dar como valor máximo 255 y/o como valor mínimos mayores o iguales a 0.\n",
        "- [ ] Para el caso de `__mul__` deben implementar un método que nos permita saturar las imágenes (es decir que los valores del array no sobrepasen 255) y también no nos permita obtener valores inferiores a cero.\n",
        "\n",
        "Implementadas los métodos, compruebe que la funcionalidad es la correcta mediante la ejecución de los asserts incluidos un par de celdas más abajo.\n",
        "\n",
        "> **Notas:**\n",
        "- Pueden reutilizar el código implementado en las celdas anteriores para implementar los métodos `show` e `info` . Sin embargo, No invoquen directamente esas funciones.\n",
        "- La idea es que la imagen contenida en la clase sea inmutable, por ende, todos los metodos que modifiquen la imagen contenida en el objeto deberan retornar un nuevo objeto de la clase `Imagen` que contenga la imagen modificada."
      ]
    },
    {
      "cell_type": "code",
      "execution_count": null,
      "metadata": {
        "cell_id": "617e9d8d90434215a9ed59cd31394478",
        "deepnote_cell_height": 2005,
        "deepnote_cell_type": "code",
        "id": "QtoPUaj84c_A",
        "tags": []
      },
      "outputs": [
        {
          "ename": "",
          "evalue": "",
          "output_type": "error",
          "traceback": [
            "\u001b[1;31mRunning cells with 'Python 3.10.11' requires the ipykernel package.\n",
            "\u001b[1;31mRun the following command to install 'ipykernel' into the Python environment. \n",
            "\u001b[1;31mCommand: '\"c:/Program Files/Python310/python.exe\" -m pip install ipykernel -U --user --force-reinstall'"
          ]
        }
      ],
      "source": [
        "class Imagen:\n",
        "    \"\"\"Clase contenedora de imágenes\"\"\"\n",
        "\n",
        "    def __init__(self, img):\n",
        "        if isinstance(img, np.ndarray):\n",
        "            if img.ndim != 3:\n",
        "                raise (\"El argumento debe ser un arreglo de numpy de solo 3 dimensiones\")\n",
        "            if img.shape[-1] != 3:\n",
        "                raise (\n",
        "                    \"El argumento debe ser un arreglo de numpy de solo 3 dimensiones \"\n",
        "                    \"tal que la última dimensión solo tiene 3 canales\"\n",
        "                )\n",
        "            self.imagen = img\n",
        "        else:\n",
        "            raise TypeError(\n",
        "                \"Debes entregar un arreglo de numpy como argumento del constructor de \"\n",
        "                \"Imagen\"\n",
        "            )\n",
        "\n",
        "    def show(self):\n",
        "        \"\"\"Muestra la imágen contenida en el objeto.\n",
        "        Su funcionalidad debe ser igual a la de la función mostrar_imagen.\n",
        "        \"\"\"\n",
        "        plt.imshow(self.imagen)\n",
        "        plt.show()\n",
        "\n",
        "    def info(self):\n",
        "        \"\"\" Imprime las características de la imagen cargada: Alto y ancho.\n",
        "        \"\"\"\n",
        "        x, y, z = self.imagen.shape # Debo extraer las 3 dim\n",
        "        print(f'Dimensiones de la imagen: {x}x{y} (Alto x Ancho)')\n",
        "\n",
        "\n",
        "    def __add__(self, other):\n",
        "        \"\"\"Redefine la operación + entre imagen y escalar.\n",
        "\n",
        "        # Idea, usar indexado condicial (similar a los filtros de pandas).\n",
        "        # Sumar y luego que en cada pixel mayor a 255 sea asignado el máximo.\n",
        "        # Ver los tests para mas información.\n",
        "\n",
        "        Parameters\n",
        "        ----------\n",
        "        other : Union[int, float, np.ndarray]\n",
        "            Escalar o arreglo que será sumado a cada pixel de la imagen\n",
        "        \"\"\"\n",
        "\n",
        "        # if type(other) ==  int or type(other)== float:\n",
        "            # new_imag = self.imagen + other * np.ones(self.imagen.shape)\n",
        "\n",
        "            # for i in range(new_imag.shape[0]):\n",
        "            #     for j in range(new_imag.shape[1]):\n",
        "            #         for k in  range(new_imag.shape[2]):\n",
        "            #             if new_imag[i,j,k] > 255:\n",
        "            #                 new_imag[i,j,k] = max(self.imagen)\n",
        "            #             elif new_imag[i, j,k] < 0 :\n",
        "            #                 new_imag[i, j,k] = 0\n",
        "            #             else:\n",
        "            #                 None \n",
        "        new_img = self.imagen + other\n",
        "        gt = new_img > 255\n",
        "        lt = new_img < 255\n",
        "        new_img = new_img * lt.astype(int) + 255 * gt.astype(int)\n",
        "\n",
        "        return new_img\n",
        "        \n",
        "\n",
        "    def __radd__(self, other):\n",
        "        \"\"\"Operación conmutativa de __add__.\n",
        "\n",
        "        Hint: debería llamar a __add__...\n",
        "\n",
        "        Parameters\n",
        "        ----------\n",
        "        other : Union[int, float, np.ndarray]\n",
        "            Escalar o arreglo que será sumado a cada pixel de la imagen\n",
        "        \"\"\"\n",
        "        return self.__add__(other)\n",
        "\n",
        "    def __sub__(self, other):\n",
        "        \"\"\"Redefine la operación + entre imagen y escalar.\n",
        "\n",
        "        # Idea, usar indexado condicial (similar a los filtros de pandas).\n",
        "        # Restar y luego que en cada pixel mayor a 255 sea asignado el máximo.\n",
        "        # Caso similar para valores menores a 0, donde debera asignar el minimo a esos pixeles\n",
        "        # Ver los tests para mas información.\n",
        "\n",
        "        Parameters\n",
        "        ----------\n",
        "        other : Union[int, float, np.ndarray]\n",
        "            Escalar o arreglo que será sumado a cada pixel de la imagen\n",
        "        \"\"\"\n",
        "        \n",
        "        new_img = self.imagen - other\n",
        "        gt = new_img > 255\n",
        "        lt = new_img < 255\n",
        "        gtzero = new_img > 0\n",
        "        new_img = new_img * lt.astype(int) * gtzero.astype(int) + 255 * gt.astype(int)\n",
        "\n",
        "        return new_img\n",
        "\n",
        "    def __rsub__(self, other):\n",
        "        \"\"\"Operación conmutativa de __sub__.\n",
        "\n",
        "        Parameters\n",
        "        ----------\n",
        "        other : Union[int, float, np.ndarray]\n",
        "            Escalar o arreglo que será sumado a cada pixel de la imagen\n",
        "        \"\"\"\n",
        "        return self.__sub__(other)\n",
        "\n",
        "    def __mul__(self, other):\n",
        "        \"\"\"Redefine la operación + entre imagen y escalar.\n",
        "\n",
        "        # Idea, usar indexado condicial (similar a los filtros de pandas).\n",
        "        # Sumar y luego que en cada pixel mayor a 255 sea asignado el máximo y\n",
        "        # cada valor inferior a 0 debe ser 0.\n",
        "        # Ver los tests para mas información.\n",
        "\n",
        "        Parameters\n",
        "        ----------\n",
        "        other : Union[int, float, np.ndarray]\n",
        "            Escalar o arreglo que será sumado a cada pixel de la imagen\n",
        "        \"\"\"\n",
        "        \n",
        "        new_img = self.imagen * other\n",
        "        gt = new_img > 255\n",
        "        lt = new_img < 255\n",
        "        gtzero = new_img > 0\n",
        "        new_img = new_img * lt.astype(int) * gtzero.astype(int) + 255 * gt.astype(int)\n",
        "\n",
        "        return new_img\n",
        "        \n",
        "\n",
        "    def __rmul__(self, other):\n",
        "        \"\"\"Operación conmutativa de __mul__.\n",
        "\n",
        "        Hint: debería llamar a __mul__...\n",
        "\n",
        "        Parameters\n",
        "        ----------\n",
        "        other : Union[int, float, np.ndarray]\n",
        "            Escalar o arreglo que será sumado a cada pixel de la imagen\n",
        "        \"\"\"\n",
        "        return self.__mul__(other)\n",
        "        "
      ]
    },
    {
      "cell_type": "markdown",
      "metadata": {
        "cell_id": "7e3d147e4c964ae587e572c7e50a7677",
        "deepnote_cell_height": 52.390625,
        "deepnote_cell_type": "markdown",
        "id": "PCY4YO_7zAH2"
      },
      "source": [
        "**Resultados esperados:**"
      ]
    },
    {
      "cell_type": "code",
      "execution_count": null,
      "metadata": {
        "cell_id": "e2be43ccdcd14490b2a6f9af4839f8a2",
        "deepnote_cell_type": "code",
        "deepnote_to_be_reexecuted": false,
        "execution_millis": 4,
        "execution_start": 1649390603632,
        "id": "AzXTlvARGXM8",
        "source_hash": "3238808e"
      },
      "outputs": [
        {
          "ename": "",
          "evalue": "",
          "output_type": "error",
          "traceback": [
            "\u001b[1;31mRunning cells with 'Python 3.10.11' requires the ipykernel package.\n",
            "\u001b[1;31mRun the following command to install 'ipykernel' into the Python environment. \n",
            "\u001b[1;31mCommand: '\"c:/Program Files/Python310/python.exe\" -m pip install ipykernel -U --user --force-reinstall'"
          ]
        }
      ],
      "source": [
        "gatito = Imagen(images[\"gatitos\"][1])\n",
        "gurus = Imagen(images[\"Personas\"][1])"
      ]
    },
    {
      "cell_type": "code",
      "execution_count": null,
      "metadata": {},
      "outputs": [
        {
          "ename": "",
          "evalue": "",
          "output_type": "error",
          "traceback": [
            "\u001b[1;31mRunning cells with 'Python 3.10.11' requires the ipykernel package.\n",
            "\u001b[1;31mRun the following command to install 'ipykernel' into the Python environment. \n",
            "\u001b[1;31mCommand: '\"c:/Program Files/Python310/python.exe\" -m pip install ipykernel -U --user --force-reinstall'"
          ]
        }
      ],
      "source": [
        "gatito.__add__(10)"
      ]
    },
    {
      "cell_type": "code",
      "execution_count": null,
      "metadata": {
        "cell_id": "a6965f308fe243cd9743008f2355762e",
        "deepnote_cell_type": "code",
        "deepnote_to_be_reexecuted": false,
        "execution_millis": 567,
        "execution_start": 1649390603639,
        "id": "hHTR1tIRzAH2",
        "outputId": "d57de8cb-37a7-4225-c376-37f9a9a57986",
        "scrolled": false,
        "source_hash": "49b51823"
      },
      "outputs": [
        {
          "ename": "",
          "evalue": "",
          "output_type": "error",
          "traceback": [
            "\u001b[1;31mRunning cells with 'Python 3.10.11' requires the ipykernel package.\n",
            "\u001b[1;31mRun the following command to install 'ipykernel' into the Python environment. \n",
            "\u001b[1;31mCommand: '\"c:/Program Files/Python310/python.exe\" -m pip install ipykernel -U --user --force-reinstall'"
          ]
        }
      ],
      "source": [
        "# Test show e info.\n",
        "gatito.show()\n",
        "gatito.info()\n",
        "\n",
        "gurus.show()\n",
        "gurus.info()"
      ]
    },
    {
      "cell_type": "code",
      "execution_count": null,
      "metadata": {
        "cell_id": "20122afa10d843c5b5d355ac40b27f35",
        "deepnote_cell_type": "code",
        "deepnote_to_be_reexecuted": false,
        "execution_millis": 87,
        "execution_start": 1649390604209,
        "id": "nL33tmX2J2HT",
        "source_hash": "8bcc2c1f"
      },
      "outputs": [
        {
          "ename": "",
          "evalue": "",
          "output_type": "error",
          "traceback": [
            "\u001b[1;31mRunning cells with 'Python 3.10.11' requires the ipykernel package.\n",
            "\u001b[1;31mRun the following command to install 'ipykernel' into the Python environment. \n",
            "\u001b[1;31mCommand: '\"c:/Program Files/Python310/python.exe\" -m pip install ipykernel -U --user --force-reinstall'"
          ]
        }
      ],
      "source": [
        "# Tests de los overload de operadores.\n",
        "\n",
        "# Test __add__\n",
        "# Idea del test: Todos los elementos de la imagen deben ser a lo más 255.\n",
        "\n",
        "# Test __add__\n",
        "assert np.max((gatito + 1000).imagen) == 255\n",
        "\n",
        "# Test __radd__\n",
        "assert np.max((1000 + gatito).imagen) == 255\n",
        "\n",
        "# Test __sub__\n",
        "assert np.min((gatito - (-1000)).imagen) == 255\n",
        "\n",
        "# Test __sub__\n",
        "assert np.max((gatito - 1000).imagen) == 0\n",
        "\n",
        "# Test __rsub__\n",
        "assert np.min((1000 - gatito ).imagen) == 255\n",
        "\n",
        "# Test __mul__ (probar minimo)\n",
        "assert np.max((-555555 * gatito).imagen) == 0\n",
        "\n",
        "# Test __mul__ (probar maximo)\n",
        "assert np.max((555555*gatito).imagen) == 255\n",
        "\n",
        "# Test __rmul__ (probar minimo)\n",
        "assert np.max((gatito*-555555).imagen) == 0\n",
        "\n",
        "# Test __rmul__ (probar maximo)\n",
        "assert np.max((gatito*555555).imagen) == 255\n"
      ]
    },
    {
      "cell_type": "markdown",
      "metadata": {
        "cell_id": "7561372d6d434fed90203dfc779cac64",
        "deepnote_cell_height": 62,
        "deepnote_cell_type": "markdown",
        "id": "2aH0xix7zAH2"
      },
      "source": [
        "### 2.3 Clase de Procesamiento de Imagenes [2 puntos]"
      ]
    },
    {
      "cell_type": "markdown",
      "metadata": {
        "cell_id": "a15aeb26b59c4b898cd39df9b4a8d907",
        "deepnote_cell_height": 274.59375,
        "deepnote_cell_type": "markdown",
        "id": "MzIun960zAH2"
      },
      "source": [
        "Ahora que comprenden las diferentes dimensiones que componen a una imagen (en la práctica), ahora realizaremos diferentes tareas de procesamiento de imágenes. Para esto, deben crear una clase llamada \"`LibImagen`\" que cumpla los siguientes requisitos:\n",
        "\n",
        "- [ ] Pasar una imagen a escala de grises, para esto utilice la ecuación (1) expuesta en este mismo notebook.\n",
        "- [ ] Obtener los canales R, G y B de forma individual.\n",
        "- [ ] Crear una función que pase a negativo de la imagen alojada.\n",
        "- [ ] Mejorar el contraste de una imagen.\n",
        "- [ ] Realizar una convolución sobre la imagen.\n",
        "- [ ] Documentar la clase creada y verificar la documentación con el comando help().\n"
      ]
    },
    {
      "cell_type": "markdown",
      "metadata": {
        "cell_id": "e247eb4c08804da49db2d6e493e0b955",
        "deepnote_cell_height": 125.1875,
        "deepnote_cell_type": "markdown",
        "id": "JRy7BgrizAH3"
      },
      "source": [
        "> **Nota 🗒️**: Todo método debe tomar una Imagen y retornar una nueva Imagen.\n",
        "\n",
        "> **Nota 2**: El tipo de datos del arreglo de la imagen que generen o modifiquen debe ser \"int\". De lo contrario, puede no visualizarse correctamente.\n"
      ]
    },
    {
      "cell_type": "markdown",
      "metadata": {},
      "source": [
        "\n",
        "$$ imagen\\_gris = 0.299 * Rojo + 0.587 * Verde + 0.114 * Azul $$\n",
        "*Función con mejora de contraste*\n",
        "$$ F=259*(C+255)/(255*(259-C)) $$\n",
        "$$ R=F*(img-128)+128 $$"
      ]
    },
    {
      "cell_type": "code",
      "execution_count": null,
      "metadata": {},
      "outputs": [
        {
          "ename": "",
          "evalue": "",
          "output_type": "error",
          "traceback": [
            "\u001b[1;31mRunning cells with 'Python 3.10.11' requires the ipykernel package.\n",
            "\u001b[1;31mRun the following command to install 'ipykernel' into the Python environment. \n",
            "\u001b[1;31mCommand: '\"c:/Program Files/Python310/python.exe\" -m pip install ipykernel -U --user --force-reinstall'"
          ]
        }
      ],
      "source": [
        "images[\"gatitos\"][1][:][:][1]"
      ]
    },
    {
      "cell_type": "code",
      "execution_count": null,
      "metadata": {},
      "outputs": [
        {
          "ename": "",
          "evalue": "",
          "output_type": "error",
          "traceback": [
            "\u001b[1;31mRunning cells with 'Python 3.10.11' requires the ipykernel package.\n",
            "\u001b[1;31mRun the following command to install 'ipykernel' into the Python environment. \n",
            "\u001b[1;31mCommand: '\"c:/Program Files/Python310/python.exe\" -m pip install ipykernel -U --user --force-reinstall'"
          ]
        }
      ],
      "source": [
        "images[\"gatitos\"][1].reshape((images[\"gatitos\"][1].shape[0], images[\"gatitos\"][1].shape[1]))"
      ]
    },
    {
      "cell_type": "code",
      "execution_count": null,
      "metadata": {
        "cell_id": "9e607c51fda447779417c818998c0c09",
        "deepnote_cell_type": "code",
        "deepnote_to_be_reexecuted": false,
        "execution_millis": 2,
        "execution_start": 1649390604313,
        "id": "wZvSOH3UzAH3",
        "source_hash": "78b7cd0f"
      },
      "outputs": [
        {
          "ename": "",
          "evalue": "",
          "output_type": "error",
          "traceback": [
            "\u001b[1;31mRunning cells with 'Python 3.10.11' requires the ipykernel package.\n",
            "\u001b[1;31mRun the following command to install 'ipykernel' into the Python environment. \n",
            "\u001b[1;31mCommand: '\"c:/Program Files/Python310/python.exe\" -m pip install ipykernel -U --user --force-reinstall'"
          ]
        }
      ],
      "source": [
        "class LibImagen():\n",
        "\n",
        "    def to_negative(self, img_in):\n",
        "        \"\"\"Convierte imagen a negativo.\n",
        "\n",
        "        Parameters\n",
        "        ----------\n",
        "        img_in : Imagen\n",
        "            Objeto Imagen que contiene imagen a procesar.\n",
        "\n",
        "        Returns\n",
        "        -------\n",
        "        Imagen\n",
        "            Objeto Imagen con la imagen procesada.\n",
        "        \"\"\"\n",
        "        \n",
        "\n",
        "\n",
        "    def to_gray(self, img_in):\n",
        "        \"\"\"\n",
        "        Transforma una imagen en RGB a la escala de grises.\n",
        "\n",
        "        Parameters\n",
        "        ----------\n",
        "        img_in : Imagen\n",
        "            Objeto Imagen que contiene una imagen.\n",
        "\n",
        "        Returns\n",
        "        -------\n",
        "        Imagen\n",
        "            Una que contiene una imagen con 3 canales.\n",
        "            Los 3 canales deben tener los mismos valores.\n",
        "        \"\"\"\n",
        "        $$ imagen_gris = 0.299 * Rojo + 0.587 * Verde + 0.114 * Azul $$\n",
        "        # usar funcion mu\n",
        "        self.imagen[:][:] =  self.imagen.__mul__([0.299, 0.587, 0.114])\n",
        "\n",
        "    def get_channel(self, img_in, channel):\n",
        "        \"\"\"Obtiene un canal de un color seteando el resto de los canales en 0.\n",
        "\n",
        "        Parameters\n",
        "        ----------\n",
        "        img_in : Imagen\n",
        "            Objeto Imagen que contiene una imagen.\n",
        "        channel : str\n",
        "            Nombre del canal que será seleccionado. Valores posibles: ('r','g' o 'b').\n",
        "\n",
        "        Returns\n",
        "        -------\n",
        "        Imagen:\n",
        "            Objeto Imagen que contiene una imagen con 3 canales.\n",
        "            Solo el canal seleccionado debe tener valores distintos a 0.\n",
        "        \"\"\"\n",
        "        pass\n",
        "\n",
        "    def set_contrast(self, img_in, C):\n",
        "        \"\"\"Mejora el contraste de una imagen.\n",
        "\n",
        "        Parameters\n",
        "        ----------\n",
        "        img_in : Imagen\n",
        "            Objeto Imagen que contiene una imagen.\n",
        "        C : float\n",
        "            Parámetro que define el ajuste de contraste.\n",
        "\n",
        "        Returns\n",
        "        -------\n",
        "        Imagen\n",
        "            Objeto Imagen que contiene una imagen con 3 canales modificados.\n",
        "        \"\"\"\n",
        "        pass\n",
        "\n",
        "    def conv_channel(self, img_in, kernel):\n",
        "        \"\"\"Por documentar (esto es parte del puntaje)...\n",
        "        \"\"\"\n",
        "        img = img_in.imagen\n",
        "        img_out = []\n",
        "        for i in range(img.shape[-1]):\n",
        "            img_channel = convolve2d(img[:, :, i],\n",
        "                                     kernel,\n",
        "                                     mode=\"same\",\n",
        "                                     boundary=\"symm\")\n",
        "            img_out.append(img_channel)\n",
        "        new_image = np.stack(img_out, axis=2)\n",
        "        new_image[new_image>255], new_image[new_image<0] = 255, 0\n",
        "        return Imagen(new_image.astype(int))"
      ]
    },
    {
      "cell_type": "markdown",
      "metadata": {
        "cell_id": "0d6f222549024dcf8409c6fc53705c16",
        "deepnote_cell_height": 62,
        "deepnote_cell_type": "markdown",
        "id": "1UEAgZsbzAH3"
      },
      "source": [
        "### 2.4 Probar [0,5 puntos]"
      ]
    },
    {
      "cell_type": "markdown",
      "metadata": {
        "cell_id": "13ad94e4aad9463d84f42b420d0174f8",
        "deepnote_cell_height": 52.390625,
        "deepnote_cell_type": "markdown",
        "id": "hP_6WK-hzAH3"
      },
      "source": [
        "**Respuesta Esperada**:"
      ]
    },
    {
      "cell_type": "code",
      "execution_count": null,
      "metadata": {
        "cell_id": "350718e0babb4efb81802fb4a2a1ac51",
        "deepnote_cell_type": "code",
        "deepnote_to_be_reexecuted": false,
        "execution_millis": 2331,
        "execution_start": 1649390604359,
        "id": "nZYslVzozAH3",
        "outputId": "7e5c3878-b825-447e-fa66-7ff0fab19711",
        "source_hash": "80d9e160"
      },
      "outputs": [
        {
          "ename": "",
          "evalue": "",
          "output_type": "error",
          "traceback": [
            "\u001b[1;31mRunning cells with 'Python 3.10.11' requires the ipykernel package.\n",
            "\u001b[1;31mRun the following command to install 'ipykernel' into the Python environment. \n",
            "\u001b[1;31mCommand: '\"c:/Program Files/Python310/python.exe\" -m pip install ipykernel -U --user --force-reinstall'"
          ]
        }
      ],
      "source": [
        "gatito = Imagen(images[\"gatitos\"][1])\n",
        "\n",
        "gatito.show()\n",
        "\n",
        "lib = LibImagen()\n",
        "\n",
        "print('Negativo')\n",
        "lib.to_negative(gatito).show()\n",
        "\n",
        "print('Grayscale')\n",
        "lib.to_gray(gatito).show()\n",
        "\n",
        "print('Selección de Canales')\n",
        "lib.get_channel(gatito, \"r\").show()\n",
        "lib.get_channel(gatito, \"g\").show()\n",
        "lib.get_channel(gatito, \"b\").show()\n",
        "\n",
        "print('Mejora de Contraste')\n",
        "lib.set_contrast(gatito, 0).show()\n",
        "\n",
        "print('Convolución')\n",
        "kernel = np.array([[-1, -1,  -1],\n",
        "                   [-1,  8,  -1],\n",
        "                   [-1, -1,  -1]])\n",
        "\n",
        "lib.conv_channel(gatito, kernel).show()"
      ]
    },
    {
      "cell_type": "markdown",
      "metadata": {
        "cell_id": "96b8e7e9552b4853a7470519b3d63895",
        "deepnote_cell_height": 110.796875,
        "deepnote_cell_type": "markdown",
        "id": "XgE7VUPBGXM_"
      },
      "source": [
        "#### Implementar 5 Kernels y probarlos con las imagenes\n",
        "\n",
        "Referencia:\n",
        "https://en.wikipedia.org/wiki/Kernel_(image_processing)"
      ]
    },
    {
      "cell_type": "code",
      "execution_count": null,
      "metadata": {
        "cell_id": "3b6a6dafe24f4fc29938a34039fd3d7d",
        "deepnote_cell_type": "code",
        "deepnote_to_be_reexecuted": false,
        "execution_millis": 174,
        "execution_start": 1649390606682,
        "id": "3r2re1SBGXM_",
        "outputId": "fbd7f9d5-bf22-47e9-cbcf-2e202efa685a",
        "source_hash": "96d26b22"
      },
      "outputs": [
        {
          "ename": "",
          "evalue": "",
          "output_type": "error",
          "traceback": [
            "\u001b[1;31mRunning cells with 'Python 3.10.11' requires the ipykernel package.\n",
            "\u001b[1;31mRun the following command to install 'ipykernel' into the Python environment. \n",
            "\u001b[1;31mCommand: '\"c:/Program Files/Python310/python.exe\" -m pip install ipykernel -U --user --force-reinstall'"
          ]
        }
      ],
      "source": [
        "# Convolución\n",
        "kernel_1 = np.array([...])\n",
        "kernel_2 = ...\n",
        "kernel_3 = ...\n",
        "kernel_4 = ...\n",
        "kernel_5 = ...\n",
        "\n",
        "lib.conv_channel(gatito, kernel_1).show()"
      ]
    },
    {
      "cell_type": "markdown",
      "metadata": {
        "cell_id": "07ba9b8656174da2a970d542be58bd70",
        "deepnote_cell_height": 310,
        "deepnote_cell_type": "markdown",
        "id": "TZl4PO2W4c_C",
        "tags": []
      },
      "source": [
        "**Comente:**\n",
        "\n",
        "Para finalizar, comente que hace (o debería hacer) cada filtro convolucional al aplicarlas a su imagen de ejemplo.\n",
        "\n",
        "```\n",
        "(Escriba aquí su justificación)\n",
        "\n",
        "El filtro...\n",
        "\n",
        "1.-\n",
        "2.-\n",
        "3.-\n",
        "4.-\n",
        "5.-\n",
        "```"
      ]
    },
    {
      "cell_type": "markdown",
      "metadata": {
        "cell_id": "0379bf0eb24d4e2db8995ae700e01c02",
        "deepnote_cell_height": 70,
        "deepnote_cell_type": "markdown",
        "id": "CMf4H0YxzPAM"
      },
      "source": [
        "\n",
        "\n",
        "## 3. Secuencias y Detección de Movimiento\n"
      ]
    },
    {
      "cell_type": "markdown",
      "metadata": {
        "cell_id": "c5965706aa544b0c90666c4e2c3da77d",
        "deepnote_cell_height": 62,
        "deepnote_cell_type": "markdown",
        "id": "ghgvxYAPzAH4"
      },
      "source": [
        "### 3.2. Secuencia de Imagenes [1,5 punto]\n"
      ]
    },
    {
      "cell_type": "markdown",
      "metadata": {
        "cell_id": "0142f33dae6141bb9420d0e90fdf88ab",
        "deepnote_cell_height": 97.1875,
        "deepnote_cell_type": "markdown",
        "id": "X6-00O49zAH5"
      },
      "source": [
        "A continuación, deben programar una función que nos permite resaltar los objetos en movimientos de una secuencia de imágenes. Para esta parte del laboratorio, deberá utilizar las imágenes dispuestas en la carpeta `secuencia_plaza` del archivo zip subido a material docente."
      ]
    },
    {
      "cell_type": "markdown",
      "metadata": {
        "cell_id": "ba12d5d0348c4874aebdf3c9d62ebb25",
        "deepnote_cell_height": 97.1875,
        "deepnote_cell_type": "markdown",
        "id": "gG_F54l3zAH5"
      },
      "source": [
        "Primero que todo, cargue la secuencia de imágenes que se encuentran en el directorio. Para esto, se recomienda utilizar el comando `os.listdir(dir)`, ya que este le facilitará la carga de un gran número de imágenes (pruebe el comando y vea que sucede)."
      ]
    },
    {
      "cell_type": "code",
      "execution_count": null,
      "metadata": {
        "cell_id": "aa1d1f7b746f438ca29740e7453576fe",
        "deepnote_cell_type": "code",
        "deepnote_to_be_reexecuted": true,
        "execution_millis": 3408,
        "execution_start": 1649387524462,
        "id": "8_1YVO0hzAH4",
        "owner_user_id": "8c58f50a-7a08-41a2-952e-38bdb7507048",
        "source_hash": "f75f956e"
      },
      "outputs": [
        {
          "ename": "",
          "evalue": "",
          "output_type": "error",
          "traceback": [
            "\u001b[1;31mRunning cells with 'Python 3.10.11' requires the ipykernel package.\n",
            "\u001b[1;31mRun the following command to install 'ipykernel' into the Python environment. \n",
            "\u001b[1;31mCommand: '\"c:/Program Files/Python310/python.exe\" -m pip install ipykernel -U --user --force-reinstall'"
          ]
        }
      ],
      "source": [
        "path = \"./secuencia_plaza/\"\n",
        "img_names = os.listdir(path)\n",
        "\n",
        "imagenes = np.array(list(map(lambda img: np.array(Image.open(path + img)), img_names)))"
      ]
    },
    {
      "cell_type": "markdown",
      "metadata": {
        "cell_id": "8bcb2f86adf54b77b3f747489f18855b",
        "deepnote_cell_height": 338,
        "deepnote_cell_type": "markdown",
        "id": "vZQddvjUzAH5"
      },
      "source": [
        "\n",
        "\n",
        "![plaza se mueve](https://media0.giphy.com/media/ZAzlopoHETs5lZQ6EZ/giphy.gif \"plaza\")"
      ]
    },
    {
      "cell_type": "markdown",
      "metadata": {
        "cell_id": "4620d4f66f3f4531984fc2339a71d047",
        "deepnote_cell_height": 128.1875,
        "deepnote_cell_type": "markdown",
        "id": "D_lg6R2mzAH5"
      },
      "source": [
        "Para realizar este ejercicio utilizaremos un método super básico para la eliminación de fondo. Para esto sigue la siguiente receta:\n",
        " 1. Pase a escala de grises todas las imágenes secuenciales.\n",
        " 2. Almacene en una variable la resta de las imágenes consecutivas."
      ]
    },
    {
      "cell_type": "markdown",
      "metadata": {
        "cell_id": "3511ed0ec480423887296edd35584b29",
        "deepnote_cell_height": 52.71875,
        "deepnote_cell_type": "markdown",
        "id": "5OUI6d0yzAH5"
      },
      "source": [
        "   $$ imagen\\_out = imagen(t) - imagen(t+1) $$"
      ]
    },
    {
      "cell_type": "markdown",
      "metadata": {
        "cell_id": "e64944bf08c1446baf2a7b9558f730c7",
        "deepnote_cell_height": 69.390625,
        "deepnote_cell_type": "markdown",
        "id": "830SUbE0zAH5"
      },
      "source": [
        " 3. Establezca un umbral para eliminar algunos artefactos. Pruebe con al menos 3 umbrales."
      ]
    },
    {
      "cell_type": "markdown",
      "metadata": {
        "cell_id": "003fb4980e154953828b41e506fe2056",
        "deepnote_cell_height": 52.71875,
        "deepnote_cell_type": "markdown",
        "id": "izZbk7mWzAH5"
      },
      "source": [
        "$$ imagen\\_out = imagen\\_out> Umbral $$"
      ]
    },
    {
      "cell_type": "markdown",
      "metadata": {
        "cell_id": "c95a60de2218420eae73a97e0e8436ed",
        "deepnote_cell_height": 52.390625,
        "deepnote_cell_type": "markdown",
        "id": "356uBZnOzAH6"
      },
      "source": [
        "**Nota**: No es necesario que construya una clase para esta parte."
      ]
    },
    {
      "cell_type": "code",
      "execution_count": null,
      "metadata": {
        "cell_id": "6dbb938c728741a9acae26e697be436d",
        "deepnote_cell_type": "code",
        "deepnote_to_be_reexecuted": true,
        "id": "ndKMiOdRzAH6",
        "source_hash": "65bbd50f"
      },
      "outputs": [
        {
          "ename": "",
          "evalue": "",
          "output_type": "error",
          "traceback": [
            "\u001b[1;31mRunning cells with 'Python 3.10.11' requires the ipykernel package.\n",
            "\u001b[1;31mRun the following command to install 'ipykernel' into the Python environment. \n",
            "\u001b[1;31mCommand: '\"c:/Program Files/Python310/python.exe\" -m pip install ipykernel -U --user --force-reinstall'"
          ]
        }
      ],
      "source": [
        "def dect_mov(sec_img, umbral=30):\n",
        "    pass\n"
      ]
    },
    {
      "cell_type": "markdown",
      "metadata": {
        "cell_id": "1da4fa2245ae4c2c8faa271dd512e6d1",
        "deepnote_cell_height": 62,
        "deepnote_cell_type": "markdown",
        "id": "6eWMbFhKzAH6"
      },
      "source": [
        "### 3.3 Resultado"
      ]
    },
    {
      "cell_type": "markdown",
      "metadata": {
        "cell_id": "4e29470492ce4e7cb1797380a7081355",
        "deepnote_cell_height": 74.796875,
        "deepnote_cell_type": "markdown",
        "id": "mPJ2y5hizAH6"
      },
      "source": [
        "Ahora es tiempo de relajarse y ver si nuestro experimento logra resaltar los objetos en movimiento de esta polémica Plaza, para esto solo ejecute el siguiente Código y espere."
      ]
    },
    {
      "cell_type": "code",
      "execution_count": null,
      "metadata": {
        "cell_id": "af938f9962f4445f96f36f59006a53da",
        "deepnote_cell_type": "code",
        "deepnote_to_be_reexecuted": true,
        "id": "wEyadxL5zAH6",
        "source_hash": "d3bba459"
      },
      "outputs": [
        {
          "ename": "",
          "evalue": "",
          "output_type": "error",
          "traceback": [
            "\u001b[1;31mRunning cells with 'Python 3.10.11' requires the ipykernel package.\n",
            "\u001b[1;31mRun the following command to install 'ipykernel' into the Python environment. \n",
            "\u001b[1;31mCommand: '\"c:/Program Files/Python310/python.exe\" -m pip install ipykernel -U --user --force-reinstall'"
          ]
        }
      ],
      "source": [
        "imageio.mimsave('plaza.gif', dect_mov(imagenes)) # Listo"
      ]
    },
    {
      "cell_type": "markdown",
      "metadata": {
        "cell_id": "7dccac7b650c4f3fabe44ebbc9a4173b",
        "deepnote_cell_height": 362.390625,
        "deepnote_cell_type": "markdown",
        "id": "wYQUym9IzAH6"
      },
      "source": [
        "**Ejemplo de resultado esperado:**\n",
        "\n",
        "![resultados](https://media3.giphy.com/media/SKV3bgUzHt0MLJTWW2/giphy.gif \"res\")"
      ]
    },
    {
      "cell_type": "markdown",
      "metadata": {
        "cell_id": "a1acb5f2cfbb4e2595dec60a1c379a50",
        "deepnote_cell_height": 395.1875,
        "deepnote_cell_type": "markdown",
        "id": "Rg4ZMq8ezAH6"
      },
      "source": [
        "# Conclusión\n",
        "Eso ha sido todo para el lab de hoy, recuerden que el laboratorio tiene un plazo de entrega de una semana. Cualquier duda del laboratorio, no duden en contactarnos por mail o U-cursos.\n",
        "\n",
        "![Gracias Totales!](https://media.giphy.com/media/5xtDaroSIXzLa6dvfI4/giphy.gif \"cerati\")\n"
      ]
    },
    {
      "cell_type": "markdown",
      "metadata": {
        "cell_id": "a3b5c5f396f640f1a1ced0416aeefca0",
        "deepnote_cell_height": 238.390625,
        "deepnote_cell_type": "markdown",
        "id": "NT4vDJzAzAH7"
      },
      "source": [
        "### Referencias lab 1.\n",
        "\n",
        "- http://www.cs.cornell.edu/cv/SummerSchool/Introduction.pdf\n",
        "- https://en.wikipedia.org/wiki/Tensor\n",
        "- https://support.ptc.com/help/mathcad/es/index.html#page/PTC_Mathcad_Help/example_grayscale_and_color_in_images.html\n",
        "- http://w3.unpocodetodo.info/canvas/negativo.php\n",
        "- http://www.dfstudios.co.uk/articles/programming/image-programming-algorithms/image-processing-algorithms-part-5-contrast-adjustment/"
      ]
    },
    {
      "cell_type": "markdown",
      "metadata": {
        "cell_id": "97d3efd5a292442083eee397b1fa78ca",
        "deepnote_cell_height": 254.390625,
        "deepnote_cell_type": "markdown",
        "id": "wCL1lACBzAH7"
      },
      "source": [
        "<br>\n",
        "<center>\n",
        "<img src=\"https://i.kym-cdn.com/photos/images/original/001/194/195/b18.png\" width=100 height=50 />\n",
        "</center>\n",
        "<br>"
      ]
    }
  ],
  "metadata": {
    "colab": {
      "provenance": []
    },
    "deepnote_execution_queue": [],
    "deepnote_notebook_id": "3659beea8029465fac6d214201bb6ced",
    "kernelspec": {
      "display_name": "lab_proyecto2",
      "language": "python",
      "name": "python3"
    },
    "language_info": {
      "codemirror_mode": {
        "name": "ipython",
        "version": 3
      },
      "file_extension": ".py",
      "mimetype": "text/x-python",
      "name": "python",
      "nbconvert_exporter": "python",
      "pygments_lexer": "ipython3",
      "version": "3.10.11"
    }
  },
  "nbformat": 4,
  "nbformat_minor": 0
}
