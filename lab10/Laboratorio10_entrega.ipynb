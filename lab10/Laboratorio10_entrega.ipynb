{
 "cells": [
  {
   "cell_type": "markdown",
   "metadata": {
    "id": "XUZ1dFPHzAHl"
   },
   "source": [
    "<h1><center>Laboratorio 10: Interpretabilidad 🤖</center></h1>\n",
    "\n",
    "<center><strong>MDS7202: Laboratorio de Programación Científica para Ciencia de Datos - Primavera 2024</strong></center>"
   ]
  },
  {
   "cell_type": "markdown",
   "metadata": {
    "id": "UD8X1uhGzAHq"
   },
   "source": [
    "### **Cuerpo Docente:**\n",
    "\n",
    "- Profesores: Ignacio Meza, Sebastián Tinoco\n",
    "- Auxiliar: Eduardo Moya\n",
    "- Ayudantes: Nicolás Ojeda, Melanie Peña, Valentina Rojas"
   ]
  },
  {
   "cell_type": "markdown",
   "metadata": {
    "id": "tXflExjqzAHr"
   },
   "source": [
    "### Equipo: SUPER IMPORTANTE - notebooks sin nombre no serán revisados\n",
    "\n",
    "- Nombre de alumno 1: Alonso Uribe\n",
    "- Nombre de alumno 2: Carolina Nuñez\n"
   ]
  },
  {
   "cell_type": "markdown",
   "metadata": {},
   "source": [
    "### **Link de repositorio de GitHub:** [Repositorio💻](https://github.com/carinunez/Labs_MDS/)"
   ]
  },
  {
   "cell_type": "markdown",
   "metadata": {
    "id": "6uBLPj1PzAHs"
   },
   "source": [
    "## Temas a tratar\n",
    "\n",
    "- Clasificación usando `XGBoost`.\n",
    "- Métodos Agnósticos Globales de Interpretabilidad (`Partial Dependence Plot`, `Permutation Feature Importance`)\n",
    "- Métodos Agnósticos Locales de Interpretabilidad (`Scoped Rules`, `SHAP`)\n",
    "\n",
    "## Reglas:\n",
    "\n",
    "- **Grupos de 2 personas**\n",
    "- Asistencia **obligatoria** a instrucciones del lab (viernes 16.15). Luego, pueden quedarse trabajando en las salas o irse.\n",
    "- **No se revisarán entregas de personas ausentes**.\n",
    "- Cualquier duda fuera del horario de clases al foro. Mensajes al equipo docente serán respondidos por este medio.\n",
    "- Prohibidas las copias.\n",
    "- Pueden usar cualquer matrial del curso que estimen conveniente.\n",
    "\n",
    "### Objetivos principales del laboratorio\n",
    "\n",
    "- Generar un pipeline de clasificación con `XGBoost`.\n",
    "- Implementar modelos de interpretabilidad para explicar el funcionamiento del modelo de clasificación.\n",
    "\n",
    "El laboratorio deberá ser desarrollado sin el uso indiscriminado de iteradores nativos de python (aka \"for\", \"while\"). La idea es que aprendan a exprimir al máximo las funciones optimizadas que nos entrega `pandas`, las cuales vale mencionar, son bastante más eficientes que los iteradores nativos sobre DataFrames."
   ]
  },
  {
   "cell_type": "markdown",
   "metadata": {
    "id": "xpOTbQcxbSiy"
   },
   "source": [
    "# 1. Problemas Clínicos del Dr. Simi"
   ]
  },
  {
   "cell_type": "markdown",
   "metadata": {
    "id": "3Q93vbNS25bM"
   },
   "source": [
    "<p align=\"center\">\n",
    "  <img src=\"https://gantz.cl/wp-content/uploads/2020/01/79024136_2718114448239059_7240913062570491904_o.jpg\" width=\"350\">\n",
    "</p>"
   ]
  },
  {
   "cell_type": "markdown",
   "metadata": {
    "id": "Bi7JI3YNQy7L"
   },
   "source": [
    "El reconocido **Dr. Simi**, famoso vendedor de medicamentos en latinoamerica, debido a la creciente prevalencia de enfermedades crónicas, como la diabetes, decidió abrir una clínica especializada en el tratamiento de esta enfermedad en nuestro país.\n",
    "\n",
    "La clínica del Doctor Simi se convirtió en un lugar donde los pacientes con diabetes podrían recibir atención médica integral. El personal médico estaba compuesto por especialistas en endocrinología, nutrición y enfermería, todos capacitados en el manejo de la diabetes.\n",
    "\n",
    "Sin embargo él se ha dado cuenta que los tiempos han cambiado y gracias a las tecnologías es posible generar mejores predicciones en la diabetes conociendo el historial médico de las personas. Por esto, el doctor se ha colocado una meta de incluir modelos de machine learning dentro de sus clínicas, para ello le ha solicitado **crear un modelo capaz de predecir/clasificar diabetes** pero le rogó que el desarrollo del modelo tuviera un especial enfoque en la interpretabilidad de lo que hace su modelo.\n",
    "\n",
    "Para que usted pueda entrenar el modelo, Dr. Simi le ha entregado un dataset de todos los clientes que fueron detectados con diabetes a lo largo de la historia de la clinica. Con ello, adjunta el historial médico de las personas en forma de datos tabulares para que usted pueda realizar fácilmente la clasificación.\n"
   ]
  },
  {
   "cell_type": "code",
   "execution_count": null,
   "metadata": {
    "colab": {
     "base_uri": "https://localhost:8080/",
     "height": 206
    },
    "id": "bED3w3tDbSCf",
    "outputId": "cdc2ee90-5831-4be5-8004-def1f4f19f35"
   },
   "outputs": [],
   "source": [
    "import numpy as np\n",
    "import pandas as pd\n",
    "\n",
    "df = pd.read_csv('diabetes_data.csv')\n",
    "df.head(5)"
   ]
  },
  {
   "cell_type": "markdown",
   "metadata": {
    "id": "ghYBow5eQy7N"
   },
   "source": [
    "## 2. Clasificación de pacientes con diabetes (5 puntos)\n",
    "\n",
    "<!-- <p align=\"center\">\n",
    "  <img src=\"https://media.tenor.com/QH--g3ZaSbsAAAAC/dr-simi-abrazo.gif\" width=\"400\">\n",
    "</p> -->"
   ]
  },
  {
   "cell_type": "code",
   "execution_count": null,
   "metadata": {
    "colab": {
     "base_uri": "https://localhost:8080/"
    },
    "id": "eJXc0TpLQy7O",
    "outputId": "35bf4fc1-020b-4577-aaf8-fd4fc67e704e"
   },
   "outputs": [],
   "source": [
    "!pip install xgboost"
   ]
  },
  {
   "cell_type": "markdown",
   "metadata": {
    "id": "jnmZfFpxTTYX"
   },
   "source": [
    "Tareas:\n",
    "1. En primer lugar, el reconocido doctor le pide entrenar un modelo de `XGBoost` utilizando como target la columna `Diabetes` del dataset `diabetes_data.csv`. Para el entrenamiento, realice los siguientes pasos:\n",
    "  * Realice una breve exploración de los datos y determine si aplicará transformaciones (MinMaxScaler, StandardScaler, etc.) en alguna/s de las variables. (1 punto)\n",
    "  * Cree un conjunto de entrenamiento y uno de prueba, con una proporción de 1/3 en el conjunto de prueba. (0.5 puntos)\n",
    "  * Cree un ColumnTransformer de preprocesamiento donde aplique las transformaciones determinadas anteriormente. Fije el parámetro `verbose_feature_names_out=False` y fije la salida del ColumnTransformer en formato pandas mediante el método `.set_output(transform='pandas')`. (1 punto)\n",
    "  *  Cree un pipeline donde integre el preprocesamiento y el modelo `XGBoost` y entrene el modelo. Luego utilice `classification_report(..)` para reportar el desempeño del modelo. (1 punto)\n",
    "\n",
    "Comente sus decisiones y los resultados obtenidos con el modelo.\n",
    "\n",
    "2. Luego, le pide responder las siguientes preguntas:\n",
    "  *  ¿Es acaso un buen predictor de diabetes? (0.5 puntos)\n",
    "  * ¿Qué buscan explicar las métricas utilizadas? (0.5 puntos)\n",
    "  * ¿Las métricas utilizadas para medir la predictibilidad le permiten asegurar que su modelo haga una buena elección de las features?(0.5 puntos)"
   ]
  },
  {
   "cell_type": "code",
   "execution_count": null,
   "metadata": {
    "id": "Xf7rao9-CxTt"
   },
   "outputs": [],
   "source": [
    "from sklearn.model_selection import train_test_split\n",
    "from  sklearn.preprocessing import FunctionTransformer, OneHotEncoder, MinMaxScaler, StandardScaler\n",
    "from sklearn.compose import ColumnTransformer\n",
    "from sklearn.pipeline import Pipeline\n",
    "from sklearn.dummy import DummyRegressor\n",
    "# from sklearn.metrics import mean_absolute_error\n",
    "from xgboost import XGBClassifier\n",
    "from sklearn.metrics import classification_report"
   ]
  },
  {
   "cell_type": "code",
   "execution_count": null,
   "metadata": {
    "id": "yIxpMFACQy7P"
   },
   "outputs": [],
   "source": [
    "# Inserte su código aquí\n",
    "num_cols = df.select_dtypes('number').columns\n",
    "# df[num_cols].hist(figsize=(12,12));"
   ]
  },
  {
   "cell_type": "markdown",
   "metadata": {
    "id": "m0ndOhc_EA45"
   },
   "source": [
    "Múltiples variables tienen valores entre 0 y 1, por lo que a las variables que tienen un mayor rango de valores y una distribución similar a una Gaussiana (BMI y GenHith), se les aplicará StandardScaler. Mientras que las variables que no tienen una dist Gaussiana como Age, MentHith, PhysHith, se les aplicará MinMaxScaler. De esta manera, todas las variables numéricas tendrán el mismo rango de valores, mejorando el rendimiento del algoritmo."
   ]
  },
  {
   "cell_type": "code",
   "execution_count": null,
   "metadata": {
    "id": "rC46HsksF4jt"
   },
   "outputs": [],
   "source": [
    "X = df.drop(columns='Diabetes')\n",
    "y = df['Diabetes'].astype('category')\n",
    "\n",
    "X_train, X_test, y_train, y_test = train_test_split(X, y, test_size=0.33,\n",
    "                                                    random_state=29)"
   ]
  },
  {
   "cell_type": "code",
   "execution_count": null,
   "metadata": {
    "colab": {
     "base_uri": "https://localhost:8080/",
     "height": 135
    },
    "id": "9aKAssrRFAhv",
    "outputId": "e8517b32-c5ca-4f95-ad4a-d5d07f429d50"
   },
   "outputs": [],
   "source": [
    "# Column Transformer\n",
    "col_transf = ColumnTransformer([\n",
    "                                ('minMax', MinMaxScaler(), ['Age', 'MentHlth', 'PhysHlth']),\n",
    "                                ('standar', StandardScaler(), ['BMI', 'GenHlth'])],\n",
    "                                remainder=\"passthrough\",\n",
    "                                verbose_feature_names_out=False)\n",
    "col_transf.set_output(transform='pandas')"
   ]
  },
  {
   "cell_type": "markdown",
   "metadata": {
    "id": "X12qvqUXIvkt"
   },
   "source": [
    "Cree un pipeline donde integre el preprocesamiento y el modelo XGBoost y entrene el modelo. Luego utilice classification_report(..) para reportar el desempeño del modelo. (1 punto)\n"
   ]
  },
  {
   "cell_type": "code",
   "execution_count": null,
   "metadata": {
    "id": "A9duCk_hIupX"
   },
   "outputs": [],
   "source": [
    "xgb_pipe = Pipeline([\n",
    "                    ('col_transformation', col_transf),\n",
    "                    ('xgb', XGBClassifier(random_state=29))])"
   ]
  },
  {
   "cell_type": "code",
   "execution_count": null,
   "metadata": {
    "collapsed": true,
    "id": "dQipef1WL7or"
   },
   "outputs": [],
   "source": [
    "xgb_pipe.fit(X_train, y_train)\n",
    "y_pred = xgb_pipe.predict(X_test)"
   ]
  },
  {
   "cell_type": "code",
   "execution_count": null,
   "metadata": {
    "colab": {
     "base_uri": "https://localhost:8080/"
    },
    "id": "9srmHrWdJ_0S",
    "outputId": "0a475597-c0fb-400f-a12c-3b6ebd84b507"
   },
   "outputs": [],
   "source": [
    "print(classification_report(y_test, y_pred))"
   ]
  },
  {
   "cell_type": "markdown",
   "metadata": {
    "id": "ltJxtpctgZ4l"
   },
   "source": [
    "1. Teniendo en cuenta que son más \"dañinos\" los Falsos Negativos que los Falsos Positivos para la clase 0, pues una persona con la enfermedad podría ser diagnosticada como sana, entonces hay que enfocarse en el valor del precision y en el recall para la otra clase. Teniendo eso en cuenta, este modelo permite predecir con al menos el 77% de efectivadad.\n",
    "2. Las métricas permiten explicar:\n",
    "    - **precision:** proporción de true positive/(todas las muestras predichas como positivas). Por lo que mientras mayor sea este, menor será la cantidad de falsos positivos.\n",
    "    - **Recall:** proporción de true positive/(todas las muestras que realmente son positivas). Por lo que mientras mayor sea este, menor será la cantidad de falsos negativos.\n",
    "    - **F1 score:** es un promedio entre las 2 métricas anteriores.\n",
    "    - **Accuracy:** proporción de las muestras bien predichas (ambas clases) respecto al total.\n",
    "\n",
    "3. Para asegurar que las variables seleccionadas sean las ideales para predecir, se puede revisar el rendimiento del modelo, usando Precision, Recall, F1score. Además, se podría revisar la importancia de las variables para comprobar que estas permiten predecir la variable de interés."
   ]
  },
  {
   "cell_type": "markdown",
   "metadata": {
    "id": "FzYGpPhmQy7P"
   },
   "source": [
    "## 3. Importancia de las features con XGBoost (5 puntos)\n",
    "\n",
    "<p align=\"center\">\n",
    "  <img src=\"https://media.tenor.com/5JAj5_IiagEAAAAd/dr-simi-dr-simi-dance.gif\" width=\"400\">\n",
    "</p>"
   ]
  },
  {
   "cell_type": "markdown",
   "metadata": {
    "id": "jUT2mC5qQy7Q"
   },
   "source": [
    "Tareas:\n",
    "1. Para añadir el toque de interpretabilidad que Dr. Simi le pide, se le pide calcular la **importancia de las features** del modelo entrenado utilizando todos los métodos (*weight*, *cover*, *gain*) que posee xgboost usando `plot_importance`. `Hint:` Puede acceder a un paso de un pipeline por su nombre mediante el método `.named_steps[...]` (3 puntos)\n",
    "2. ¿Los resultados obtenidos con los diferentes métodos son compatibles?, comente sus resultados y a que se debe la igualdad o desigualdad que ve en los resultados. (1 punto)\n",
    "3. Finalmente, ¿las importancias obtenidas son suficientes para obtener la interpretabilidad de un modelo que utiliza árboles? ¿Qué debilidad presenta este método? (1 punto)"
   ]
  },
  {
   "cell_type": "code",
   "execution_count": null,
   "metadata": {
    "colab": {
     "base_uri": "https://localhost:8080/",
     "height": 1000
    },
    "id": "wfnQ3yqsj9Bn",
    "outputId": "72d63102-ff34-4a1e-beaa-0b2e8cee78ad"
   },
   "outputs": [],
   "source": [
    "import xgboost as xgb\n",
    "xgb_step = xgb_pipe.named_steps['xgb']\n",
    "\n",
    "imp_types = ['weight', 'cover', 'gain']\n",
    "for importance in imp_types:\n",
    "  xgb.plot_importance(xgb_step, importance_type=importance,\n",
    "                      title=f'Importante type: {str(importance)}')\n"
   ]
  },
  {
   "cell_type": "markdown",
   "metadata": {
    "id": "9dzaz6ndmz9r"
   },
   "source": [
    "2. Los resultados no son comparables ya que atribuyen la importancia de distinta forma, por lo que el orden de importancia no es el mismo entre los distintos tipos. Esta diferencia se debe a que:\n",
    "\n",
    "*   Weight: ordena según la cantidad de veces que la variable aparece en el árbol.\n",
    "*   Cover: ordena según la cantidad de muestras a las que afecta la división del árbol.\n",
    "*   Gain: ordena según la ganancia promedio dada la división del árbol.\n",
    "\n",
    "3. Las importancias por sí solas no permiten interpretar el modelo, pues necesitamos de conocer las relaciones entre variables, qué valores utiliza para hacer las divisiones, entre otros. Entonces, conocer las importancias permite tener una idea de los factores determinantes en el modelo, pero es necesaria más información para poder interpretar el modelo en su totalidad.\n",
    "\n",
    "Una desventaja es que no podemos conocer la importancia aislada de las variables en el modelo, ya que este método calcula la importancia apartir de métricas comparativas."
   ]
  },
  {
   "cell_type": "markdown",
   "metadata": {
    "id": "cB8wXvM3Qy7Q"
   },
   "source": [
    "## 4. Métodos Agnósticos Globales (10 puntos)\n",
    "<!--\n",
    "<p align=\"center\">\n",
    "  <img src=\"https://media.tenor.com/JcRHtjVuXN8AAAAC/dr-simi-farmacias-similares.gif\" width=\"400\">\n",
    "</p> -->"
   ]
  },
  {
   "cell_type": "markdown",
   "metadata": {
    "id": "sDQNwSSqQy7Q"
   },
   "source": [
    "Tareas:\n",
    "1. Para mitigar los problemas encontrados en la sección anterior, Dr. Simi le pide implementar un **método de permutación** que le permita observar la importancia de las features. `Nota:`Tenga cuidado con el orden de las columnas de este método. `Hint:` Puede obtener los features del clasificador con su respectivo orden mediante el método `.get_booster().feature_names` (2 puntos)\n",
    "2. Para que su modelo sea consistente, repita el proceso **30 veces** y verifique la desviación estándar de sus resultados (¿Qué señala esta?). (2 puntos)\n",
    "3. Visualice los resultados de este método en un gráfico. (2 puntos)\n",
    "4. Además, responda las siguientes preguntas:\n",
    "  - ¿Cómo mide la importancia de las features su propuesta? (1 punto)\n",
    "  - ¿Qué features tienen un mayor impacto en la salida del modelo?. Comente las 5 primeras, ¿tienen sentido? (1 punto)\n",
    "  - ¿Cómo cambian sus conclusiones con respecto a las features importances del punto anterior? (1 punto)\n",
    "  - Nombre y explique 3 ventajas y 3 desventajas del método implementado. (1 punto)"
   ]
  },
  {
   "cell_type": "code",
   "execution_count": null,
   "metadata": {
    "id": "gpug7RLgQy7Q"
   },
   "outputs": [],
   "source": [
    "# Inserte su código aquí\n",
    "from sklearn.inspection import permutation_importance\n",
    "import matplotlib.pyplot as plt"
   ]
  },
  {
   "cell_type": "code",
   "execution_count": null,
   "metadata": {
    "id": "aW4GIBsmr8xM"
   },
   "outputs": [],
   "source": [
    "# Guardo el orden de las variables\n",
    "features = xgb_step.get_booster().feature_names\n",
    "p_importance = permutation_importance(xgb_step, X_test[features], y_test, random_state=29)"
   ]
  },
  {
   "cell_type": "code",
   "execution_count": null,
   "metadata": {
    "colab": {
     "base_uri": "https://localhost:8080/"
    },
    "id": "ftTYadV4uTEK",
    "outputId": "6dbc9339-cd12-41ed-f54d-c1d06aa58a3f"
   },
   "outputs": [],
   "source": [
    "# 30 iteraciones\n",
    "p_importance_30 = permutation_importance(xgb_step, X_test[features], y_test, n_repeats=30, random_state=29)\n",
    "print('Desviaciones estandar: ', p_importance_30['importances_std'])"
   ]
  },
  {
   "cell_type": "code",
   "execution_count": null,
   "metadata": {
    "colab": {
     "base_uri": "https://localhost:8080/"
    },
    "id": "UWMLrxUgyPKN",
    "outputId": "bad05a45-5a73-476d-a4a0-68ee852a5041"
   },
   "outputs": [],
   "source": [
    "np.array(features)"
   ]
  },
  {
   "cell_type": "markdown",
   "metadata": {
    "id": "rDil466AvFsG"
   },
   "source": [
    "Las desviaciones estandar dan cuenta de la variación de importancia de las variables en las 30 iteraciones. Las variables como Age y BMI tienen desviación nula, por lo que se puede decir que su importancia no varia al iterar."
   ]
  },
  {
   "cell_type": "code",
   "execution_count": null,
   "metadata": {
    "colab": {
     "base_uri": "https://localhost:8080/",
     "height": 472
    },
    "id": "sGwl8qy_sLT1",
    "outputId": "08fd6262-5d1c-4542-e870-c14bb28ab8e2"
   },
   "outputs": [],
   "source": [
    "# Plot importancia de variables\n",
    "perm_sorted_idx = p_importance_30.importances_mean.argsort()\n",
    "plt.boxplot(\n",
    "    p_importance_30.importances[perm_sorted_idx].T,\n",
    "    vert=False,\n",
    "    labels=np.array(features)[perm_sorted_idx],\n",
    ")\n",
    "plt.title(\"Importancia de las variables por Incremento del Error\")\n",
    "plt.xlabel('Error')\n",
    "plt.show()"
   ]
  },
  {
   "cell_type": "markdown",
   "metadata": {
    "id": "tZEuap_uIDzo"
   },
   "source": [
    "**PREGUNTAS**\n",
    "1. La importancia es medida como la diferencia entre una métrica de referencia y la métrica asociada a la permutación de las columnas.\n",
    "\n",
    "2. Variables más importances: HighBP, PhysActivity, CholCheck, Veggies, HighCol.\n",
    "Dado que estamos prediciendo diabetes, tiene sentido los factores más importantes tengan relación con aspectos que permiten determinar si una persona lleva una vida saludable o no, tales como presión alta, si hacen ejercicio o no, si llevan un chequeo del colesterol, si consumen vegetales y si tienen colesterol alto, pues todos estos factores\n",
    "\n",
    "3. 3 de las 5 variables más importantes obtenidas mediante la permutación de variables coincide con el top5 variables más importantes obtenidas mediante el método 'gain' del apartado anterior. Sin embargo, el top 5 obtenido con la permutación de variables difiere con del obtenido con los otros métodos.\n",
    "\n",
    "4.\n",
    " **Ventajas**:\n",
    "  * _Permite interpretar a nivel global._\n",
    "  * _No se necesita re-entrenar el modelo_, ya que no elimina variable sino que solo las permuta.\n",
    "  * _Toma en cuenta las interacciones_, permutación puede afectar la interacción entre variables.\n",
    "\n",
    "**Desventajas**\n",
    "  * _Está relacionada con el error del modelo_.La permutación de variables podría afectar el rendimiento de un modelo.\n",
    "  * _Se necesita acceso a los resultados reales_, por lo que este método no sería aplicable a dataset sin etiquetar.\n",
    "  * _La presencia de variables correlacionadas podría generar sesgos_. Permutar las variables podría generar data poco realista, afectando el rendimiento del modelo.\n",
    "  * _Agregar una variable correlacionada con otra podría disminuir la importancia de esta._"
   ]
  },
  {
   "cell_type": "markdown",
   "metadata": {
    "id": "4lR52BoIQy7R"
   },
   "source": [
    "## 5. Métodos Agnósticos Locales (20 puntos)\n",
    "\n",
    "<!-- <p align=\"center\">\n",
    "  <img src=\"https://i.makeagif.com/media/10-24-2024/oMCrLI.gif\" width=\"400\">\n",
    "</p> -->"
   ]
  },
  {
   "cell_type": "markdown",
   "metadata": {
    "id": "NTeHLX8GQy7R"
   },
   "source": [
    "### 5.1 Calculando Shap Values (4 puntos)"
   ]
  },
  {
   "cell_type": "markdown",
   "metadata": {
    "id": "81G7bX8PQy7R"
   },
   "source": [
    "Tareas:\n",
    "1. Alegre por saber cómo funciona el modelo de predicción a nivel general, Dr. Simi le pide ahora interpretar las predicciones de su modelo a nivel de paciente (es decir, desde un punto de vista **local**). Para esto, el ilustre farmacéutico le pide calcular los *shap values* de su modelo. (2 puntos)\n",
    "2. ¿Qué representa cada número en su resultado? (1 punto)\n",
    "3. ¿Es posible atribuir un significado a la positividad/negatividad de cada valor? (1 punto)"
   ]
  },
  {
   "cell_type": "code",
   "execution_count": null,
   "metadata": {
    "colab": {
     "base_uri": "https://localhost:8080/"
    },
    "id": "cahAA22RQy7R",
    "outputId": "3508b2f3-4d20-4ffe-d5a8-11cbeca5c4a6"
   },
   "outputs": [],
   "source": [
    "!pip install shap"
   ]
  },
  {
   "cell_type": "code",
   "execution_count": null,
   "metadata": {
    "id": "S7bjY7XmQy7R"
   },
   "outputs": [],
   "source": [
    "import warnings\n",
    "warnings.filterwarnings(\"ignore\", message=\".*The 'nopython' keyword.*\")"
   ]
  },
  {
   "cell_type": "code",
   "execution_count": null,
   "metadata": {
    "id": "1MLhkQu0Qy7S"
   },
   "outputs": [],
   "source": [
    "import shap\n",
    "\n",
    "explainer = shap.TreeExplainer(xgb_step)\n",
    "shap_values = explainer(X)"
   ]
  },
  {
   "cell_type": "markdown",
   "metadata": {
    "id": "PRbwVNbn_cbY"
   },
   "source": [
    "Las instancias de la variable shap_values tiene una correspondencia directa con las instancias del dataset, con la diferencia de que cada valor de las columnas encontrado en shap_values son los valores shap encontrados para cada feature (correspondiente a la columna) del modelo. Dicho de otra forma, una instancia en shap_values es un vector con el aporte de cada feature a lo predicho por el modelo (según Shap)."
   ]
  },
  {
   "cell_type": "markdown",
   "metadata": {
    "id": "dBbZYuhylmuP"
   },
   "source": [
    "¿Es posible atribuir un significado a la positividad/negatividad de cada valor? (1 punto)\n",
    "\n",
    "Según lo explicado anteriormente, el signo de un shap-value es con respecto a lo que aporta a la posibilidad de diabetes, desde los **valores base** encontrados en modelo. Si es negativo, baja la posibilidad de diabetes con respecto a el valor base, y si es positivo, lo contrario."
   ]
  },
  {
   "cell_type": "markdown",
   "metadata": {
    "id": "4aGmOtVPQy7S"
   },
   "source": [
    "### 5.2 Aporte local (4 puntos)"
   ]
  },
  {
   "cell_type": "markdown",
   "metadata": {
    "id": "-ucDyFmWQy7S"
   },
   "source": [
    "1. Usando los *shap values* calculados, grafique el **aporte local** de las diferentes variables para las instancias **1**, **9** y **150** (1 punto).\n",
    "\n",
    "2. Interprete sus resultados y responda:\n",
    "\n",
    "  - ¿Qué variables afectan de manera positiva/negativa a la probabilidad de poseer diabetes? (1 punto)\n",
    "\n",
    "  - ¿Existe algún patrón común entre las instancias analizadas? (1 punto)\n",
    "\n",
    "  - ¿Es posible generalizar estas conclusiones a todo el dataset? (1 punto)"
   ]
  },
  {
   "cell_type": "code",
   "execution_count": null,
   "metadata": {
    "colab": {
     "base_uri": "https://localhost:8080/",
     "height": 193
    },
    "id": "aopZcAIvCGyx",
    "outputId": "803a9e47-2f78-4f44-b84a-b69aeb4209f3"
   },
   "outputs": [],
   "source": [
    "idx = 1\n",
    "\n",
    "shap.initjs()\n",
    "shap.force_plot(explainer.expected_value,\n",
    "                shap_values.values[idx,:],\n",
    "                X.iloc[idx,:],\n",
    "                link=\"logit\")"
   ]
  },
  {
   "cell_type": "code",
   "execution_count": null,
   "metadata": {
    "colab": {
     "base_uri": "https://localhost:8080/",
     "height": 193
    },
    "id": "HMmoilD_UvIf",
    "outputId": "898f3c14-c473-4383-9c0d-f7bf96a820d1"
   },
   "outputs": [],
   "source": [
    "idx = 9\n",
    "\n",
    "shap.initjs()\n",
    "shap.force_plot(explainer.expected_value,\n",
    "                shap_values.values[idx,:],\n",
    "                X.iloc[idx,:],\n",
    "                link=\"logit\")"
   ]
  },
  {
   "cell_type": "code",
   "execution_count": null,
   "metadata": {
    "colab": {
     "base_uri": "https://localhost:8080/",
     "height": 193
    },
    "id": "Jszyxzr0UxoR",
    "outputId": "3c45c7e5-4c30-4f3b-d59f-f35eb160e653"
   },
   "outputs": [],
   "source": [
    "idx = 150\n",
    "\n",
    "shap.initjs()\n",
    "shap.force_plot(explainer.expected_value,\n",
    "                shap_values.values[idx,:],\n",
    "                X.iloc[idx,:],\n",
    "                link=\"logit\")"
   ]
  },
  {
   "cell_type": "markdown",
   "metadata": {
    "id": "YarQ-zGVFm7i"
   },
   "source": [
    "2.\n",
    "\n",
    "a) Variables que afectan:\n",
    "\n",
    "-   Positivamente encontradas en las tres instancias: BMI, CholCheck=1, menor edad, HearthDeseaseAttack=1, etc.\n",
    "\n",
    "-   Negativamente encontradas en las tres instancias: PhisActivity=0, HeartDeseaseofAttack=0, HighCol=1, etc\n",
    "\n",
    "b)\n",
    "Sí, BMI siempre tiene un aporte positivo, y HeartDeseaseofAttack define en las tres instancias si el paciente posee diabetes o no, dependiendo si esta variable es True o False, respectivamente.\n",
    "\n",
    "c)\n",
    "Se podrían generalizar las conclusiones más destacables hasta ahora, pero puede ser muy pronto para concluir. Aún así es una buena primera directriz para explicar el fenómeno.\n",
    "\n"
   ]
  },
  {
   "cell_type": "markdown",
   "metadata": {
    "id": "z34Bo3nuQy7T"
   },
   "source": [
    "### 5.3 Aporte global (4 puntos)"
   ]
  },
  {
   "cell_type": "markdown",
   "metadata": {
    "id": "_-F3drm-Qy7T"
   },
   "source": [
    "Genere ahora una visualización donde se grafique el aporte de cada feature a nivel **global** e interprete sus resultados. ¿Qué diferencias existen con las conclusiones generadas a nivel de instancia?"
   ]
  },
  {
   "cell_type": "code",
   "execution_count": null,
   "metadata": {
    "colab": {
     "base_uri": "https://localhost:8080/",
     "height": 837
    },
    "id": "1cBZnPHHQy7T",
    "outputId": "46f7145f-95da-4976-ac21-4f7af5478378"
   },
   "outputs": [],
   "source": [
    "shap.summary_plot(shap_values, X, plot_type=\"bar\")"
   ]
  },
  {
   "cell_type": "code",
   "execution_count": null,
   "metadata": {
    "colab": {
     "base_uri": "https://localhost:8080/",
     "height": 837
    },
    "id": "5c6ytHTOKSKK",
    "outputId": "2ddbb6cb-a8c3-48f7-9fbc-982a1d3d5042"
   },
   "outputs": [],
   "source": [
    "shap.summary_plot(shap_values, X)"
   ]
  },
  {
   "cell_type": "markdown",
   "metadata": {
    "id": "qtOl8m_HiVfC"
   },
   "source": [
    "Con los aportes globales podemos ver que BMI es la feature con mayor aporte a diabetes positivo, pero para cada instancia siempre es positivo independiente de su valor, por lo que no es realmente informativo. Esto resulta bastante revelador considerando que el aporte de BMI era mayor que las demás features en las instancias vistas anterioriormente ¿Podrá ser que aporta un \"valor base\", similar a un intercepto en una regresión lineal, o puede tomarse como un proporcional a la posibilidad? Falta indagar más.  \n",
    "\n",
    "No es el caso para HearthDiseaseAttack, HighBP, Fruits, Smoker, etc. En todos estas features, si los valores son bajos (0 en caso de ser binario) los shap-values son negativos, y viceversa, sin son altos (1 para binario) los shap-values resultan positivos, lo que puede resultar definitorio en la posibilidad de diabetes."
   ]
  },
  {
   "cell_type": "markdown",
   "metadata": {
    "id": "Vk7B9zHoQy7T"
   },
   "source": [
    "### 5.4 Scatter plot (4 puntos)\n"
   ]
  },
  {
   "cell_type": "markdown",
   "metadata": {
    "id": "b9RX6vCiQy7U"
   },
   "source": [
    "Grafique ahora un *scatterplot* entre los *shap values* y las primeras 5 features con mayor impacto global (un gráfico por cada feature), coloreando cada punto por la probabilidad de tener diabetes. ¿Qué puede concluir de sus resultados?"
   ]
  },
  {
   "cell_type": "code",
   "execution_count": null,
   "metadata": {
    "colab": {
     "base_uri": "https://localhost:8080/"
    },
    "id": "CqvTj9h-peIa",
    "outputId": "f1c5d3d1-1521-4ce7-e6d5-b9e6243b2604"
   },
   "outputs": [],
   "source": [
    "shap_values_abs = np.mean(np.abs(shap_values.values), axis=0)\n",
    "feature_importance_names = X_train.columns[shap_values_abs.argsort()[::-1]]\n",
    "feature_importance_names"
   ]
  },
  {
   "cell_type": "code",
   "execution_count": null,
   "metadata": {
    "colab": {
     "base_uri": "https://localhost:8080/",
     "height": 1000
    },
    "id": "lRlG8s2dQy7U",
    "outputId": "4a58bf22-4604-4077-a502-97f6c815290a"
   },
   "outputs": [],
   "source": [
    "for name in feature_importance_names[:5]:\n",
    "    shap.plots.scatter(shap_values[:,name],\n",
    "                       color = shap_values)"
   ]
  },
  {
   "cell_type": "markdown",
   "metadata": {
    "id": "acyjid8Hl_SG"
   },
   "source": [
    "Reiterando lo argumentado en los plots globales, tal parece que las variables que más aportan a la posibilidad de diabetes en el paciente, y que al mismo tiempo tiene relación directa su rango de valores con la positividad o negatividad del resultado son HearthDesieseAttack y HighBP.Para el caso de Cholcheck sigue siendo ambiguo, aún así en combinación con un sexo en particular se puede ver un mayor aporte (positivo) a la posibilidad. Al mismo tiempo, podemos ver que para los hombres(0?) los shap-values de estos features son más altos que para las mujeres(1?)."
   ]
  },
  {
   "cell_type": "markdown",
   "metadata": {
    "id": "724u-ijOQy7U"
   },
   "source": [
    "### 5.5 Partial Dependence Plot (4 puntos)"
   ]
  },
  {
   "cell_type": "markdown",
   "metadata": {
    "id": "SJBXLAR3HWhl"
   },
   "source": [
    "Finalmente, se le pide generar un gráfico del tipo Partial Dependence Plot para las mismas 5 variables con mayor impacto global usando una submuestra de 1000 observaciones. ¿Qué relación existe entre la salida promedio del modelo y cada feature analizada? ¿Son estas conclusiones generalizables para todo el conjunto de datos?"
   ]
  },
  {
   "cell_type": "code",
   "execution_count": null,
   "metadata": {
    "colab": {
     "base_uri": "https://localhost:8080/",
     "height": 1000
    },
    "id": "tHKM8KHtQy7U",
    "outputId": "31061ce2-0614-429a-e53a-70a2ed6e421d"
   },
   "outputs": [],
   "source": [
    "# Inserte código para generar gráficos PDP aquí\n",
    "X1000 = shap.utils.sample(X, 1000)\n",
    "X1000 = col_transf.fit_transform(X1000)\n",
    "sample_ind = 20\n",
    "for name in feature_importance_names[:5]:\n",
    "  shap.partial_dependence_plot(\n",
    "      name, xgb_step.predict, X1000, model_expected_value=True,\n",
    "      feature_expected_value=True, ice=False,\n",
    "      # shap_values=shap_values[sample_ind:sample_ind+1,:],\n",
    "  )"
   ]
  },
  {
   "cell_type": "markdown",
   "metadata": {
    "id": "Jcu_Gg7hnL_s"
   },
   "source": [
    "Aquí se aplican las transformaciones para las distintas variables, la interpretación es ligeramente distinta.\n",
    "\n",
    "Se sigue cumpliendo lo expuesto anteriormente para las features HearthDiseaseAttack y HighBP. Por otra parte, resulta interesante ver que pasa para BMI y Age, al parecer los aumentos de estos dos van de la mano con un aumento en sus shap-values. Aún así estos gráficos asumen una nula correlación, de ser interpretados como tal, por lo tanto, no son del todo concluyentes. El aumento de la edad por ejemplo va acompañada de una mayor posibilidad de contraer enfermedades, pero a pesar de estar altamente correlacionadas con la edad, esta por si sola no es suficientemente informativa. De igual forma un BMI alto habla de una persona con hábitos tipicamente poco saludables, pero luego esto puede guardar una alta correlación con enfermedades e indicadores más concretos que nos podrían entregar mayor información."
   ]
  },
  {
   "cell_type": "markdown",
   "metadata": {
    "id": "i4tFPrFA4_O5"
   },
   "source": [
    "## 6. Sistema de Reglas! (10 punto)\n",
    "\n",
    "<p align=\"center\">\n",
    "  <img src=\"https://media.baamboozle.com/uploads/images/125978/1638281150_1380186_gif-url.gif\" width=\"400\">\n",
    "</p>"
   ]
  },
  {
   "cell_type": "markdown",
   "metadata": {
    "id": "f_4NF0_V5XZ-"
   },
   "source": [
    "Después de todo el trabajo hecho, Dr. Simi le pide simplificar el funcionamiento de su modelo en un sistema de reglas que le permita explicar a sus clientes las predicciones que genera su modelo.\n",
    "En particular, Dr. Simi le pide explicar la decisión tomada para las observaciones **1000**, **3001** y **5751**. Con las reglas propuestas señale a **cuánta población** es posible explicar con estas reglas e indique la **precisión** que poseen las reglas en la totalidad de los datos. ¿Tienen sentido sus reglas propuestas para las observaciones?. Fundamente sus respuesta señalando el impacto que tienen sus reglas sobre todo el conjunto de datos.\n",
    "\n",
    "`Hint:` Como debe entregar las columnas que entran al clasificador entrenado de su pipeline, le será útil extraer el paso de preprocesamiento y generar dataframes preprocesados para el conjunto `train` y `test`."
   ]
  },
  {
   "cell_type": "code",
   "execution_count": null,
   "metadata": {
    "colab": {
     "base_uri": "https://localhost:8080/"
    },
    "collapsed": true,
    "id": "arJkVfO9Qy7b",
    "outputId": "8b692a1b-0bf8-404d-ad03-451e2efb7034"
   },
   "outputs": [],
   "source": [
    "!pip install alibi"
   ]
  },
  {
   "cell_type": "code",
   "execution_count": null,
   "metadata": {
    "id": "_ED-yF_hQy7b"
   },
   "outputs": [],
   "source": [
    "from alibi.explainers import AnchorTabular"
   ]
  },
  {
   "cell_type": "code",
   "execution_count": null,
   "metadata": {
    "id": "yH6TMjPC0ZkL"
   },
   "outputs": [],
   "source": [
    "AnchXtrain = col_transf.fit_transform(X_train).to_numpy()\n",
    "AnchXtest = col_transf.fit_transform(X_test).to_numpy()"
   ]
  },
  {
   "cell_type": "code",
   "execution_count": null,
   "metadata": {
    "colab": {
     "base_uri": "https://localhost:8080/"
    },
    "id": "oeigo6eezzHR",
    "outputId": "74f7b2d5-bc82-48f9-ef72-9f3092557da3"
   },
   "outputs": [],
   "source": [
    "explainer = AnchorTabular(xgb_step.predict, xgb_step.feature_names_in_, seed=1) # instanciamos Anchor usando función creada\n",
    "explainer.fit(AnchXtrain)"
   ]
  },
  {
   "cell_type": "code",
   "execution_count": null,
   "metadata": {
    "colab": {
     "base_uri": "https://localhost:8080/"
    },
    "id": "msFaoQBaQy7c",
    "outputId": "93bc5654-3747-47a6-bbbb-6b9ed9555ad9"
   },
   "outputs": [],
   "source": [
    "idx = 1000\n",
    "obs = np.array(AnchXtest[idx,:], ndmin = 2) # array de la obs\n",
    "\n",
    "# generar anchor\n",
    "explanation = explainer.explain(obs, # obs a explicar\n",
    "                                threshold=0.95, # min precision de anchor\n",
    "                                )\n",
    "print('idx: ', idx)\n",
    "print('Prediction: ', explainer.predictor(AnchXtest[idx,:].reshape(1, -1))[0]) # obtener prediccion del modelo\n",
    "print('Anchor: %s' % (' AND '.join(explanation.anchor))) # obtener regla\n",
    "print('Precision: %.2f' % explanation.precision) # obtener precision\n",
    "print('Coverage: %.2f' % explanation.coverage) # obtener cobertura\n",
    "\n",
    "idx = 3001\n",
    "obs = np.array(AnchXtest[idx,:], ndmin = 2) # array de la obs\n",
    "\n",
    "# generar anchor\n",
    "explanation = explainer.explain(obs, # obs a explicar\n",
    "                                threshold=0.95, # min precision de anchor\n",
    "                                )\n",
    "print('----------------------------------------------------')\n",
    "print('idx: ', idx)\n",
    "print('Prediction: ', explainer.predictor(AnchXtest[idx,:].reshape(1, -1))[0]) # obtener prediccion del modelo\n",
    "print('Anchor: %s' % (' AND '.join(explanation.anchor))) # obtener regla\n",
    "print('Precision: %.2f' % explanation.precision) # obtener precision\n",
    "print('Coverage: %.2f' % explanation.coverage) # obtener cobertura\n",
    "\n",
    "idx = 5751\n",
    "obs = np.array(AnchXtest[idx,:], ndmin = 2) # array de la obs\n",
    "\n",
    "# generar anchor\n",
    "explanation = explainer.explain(obs, # obs a explicar\n",
    "                                threshold=0.95, # min precision de anchor\n",
    "                                )\n",
    "print('----------------------------------------------------')\n",
    "print('idx: ', idx)\n",
    "print('Prediction: ', explainer.predictor(AnchXtest[idx,:].reshape(1, -1))[0]) # obtener prediccion del modelo\n",
    "print('Anchor: %s' % (' AND '.join(explanation.anchor))) # obtener regla\n",
    "print('Precision: %.2f' % explanation.precision) # obtener precision\n",
    "print('Coverage: %.2f' % explanation.coverage) # obtener cobertura"
   ]
  },
  {
   "cell_type": "markdown",
   "metadata": {
    "id": "EYmQ6x1KBVrs"
   },
   "source": [
    "Si partimos analizando las condiciones para las variables BMI y Age, es fácil notar que no tiene sentido una condición del tipo \"Age<=0.67\" o \"BMI<=-0.12\" (Body Mass Index). Esto se debe a las transformaciones aplicadas a estas variables pues, se modificó el rango de valores que podían tomar para mejorar el rendimiento de los algoritmos. Para esplicar de forma más intuitiva a un cliente, basta escalar \"a la inversa los valores encontrados para estas features. Notamos que Age en estos 3 casos de diabetes negativa, define una edad en particular, lo que no resulta muy informativo, igualmente BMI. Para estas dos features ya observamos que no son definitorias para la posibilidad, solo son proporcionales.\n",
    "\n",
    "Las variables binarias están relacionadas con \"métricas\" que podrían definir a una persona con un estilo de vida saludable. Si nos centramos en las reglas del id=5751, el cual tiene mayor coverage, nuevamente nos encontramos con lo observado anteriormente, por ejemplo, con Fruit Positivo, con HighBP Negativo, con DiffWalk negativo (que apesar de tener un aporte leve en sus shap-values, podía ser definitoria su definición, es decir, si es positivo o negativo; alto o bajo).\n",
    "\n",
    "En particular las features con los mayores shap-values y que, al mismo tiempo, son definitorios sus valores a la posibilidad de diabetes, se repiten en las reglas encontradas para estas instancias:\n",
    "- HighBP\n",
    "- HighChol\n",
    "- PhysActivity\n",
    "- Fruits\n",
    "- Smoker\n",
    "- DiffWalk\n",
    "\n",
    "Ordenados por la magnitud de sus shap-values."
   ]
  },
  {
   "cell_type": "markdown",
   "metadata": {
    "id": "0QvR_juJQy7c"
   },
   "source": [
    "# Retrospectiva... (10 puntos)"
   ]
  },
  {
   "cell_type": "markdown",
   "metadata": {
    "id": "-5ljFheRQy7c"
   },
   "source": [
    "En base a los diferentes métodos que implementa y ha comentado en este laboratorio, comente qué métodos le permiten entregar mejores conclusiones para la tarea de clasificación de diabetes. Por otro lado, ¿qué métodos son más útiles para el problema del doctor Simi, métodos agnosticos locales o globales?"
   ]
  },
  {
   "cell_type": "markdown",
   "metadata": {
    "id": "PVbQ8dyoQy7c"
   },
   "source": [
    "> Fundamente su Respuesta aquí\n",
    "\n",
    "Consideramos que el método Sharp es el que permite concluir de mejor manera, pues los sharp-values y su fácil entendimiento son superiores a los otros métodos de interpretabilidad, sumado esto a que no solo se limita a una interpretación de valores particulares, sino que también nos entraga una visión global del comportamiento de las features en la predicción. Para el caso de BMI o de Age, si no supiesemos a priori su definición en el fenómeno, podríamos concluir que visto reiteradas veces su gran aporte en los valores shap es sufciente para definirlas como variables suficientes para predecir diabetes, pero si obeservamos luego sus valores globales entendemos que no definen del todo el fenómeno, o estan altamente correlacionadas con features más informativas. Todo este estudio lo permiten los shap-values.\n",
    "\n",
    "Dado que esperamos diagnosticar diabetes, lo que se busca es realizar una predicción para una persona en particular, por lo que lo ideal es utilizar métodos locales, lo cual coincide con la elección del método Sharp."
   ]
  },
  {
   "cell_type": "markdown",
   "metadata": {
    "id": "3CyhXoq9Qy7d"
   },
   "source": [
    "# Conclusión\n",
    "Eso ha sido todo para el lab de hoy, recuerden que el laboratorio tiene un plazo de entrega de una semana. Cualquier duda del laboratorio, no duden en contactarnos por mail o U-cursos.\n",
    "\n",
    "![Gracias Totales!](https://media.tenor.com/ctnq4bhZE3gAAAAC/drsimi-simi.gif)"
   ]
  },
  {
   "cell_type": "markdown",
   "metadata": {
    "id": "arS9Nm9YQy7d"
   },
   "source": [
    "<a style='text-decoration:none;line-height:16px;display:flex;color:#5B5B62;padding:10px;justify-content:end;' href='https://deepnote.com?utm_source=created-in-deepnote-cell&projectId=87110296-876e-426f-b91d-aaf681223468' target=\"_blank\">\n",
    "<img alt='Created in deepnote.com' style='display:inline;max-height:16px;margin:0px;margin-right:7.5px;' src='data:image/svg+xml;base64,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' > </img>\n",
    "Created in <span style='font-weight:600;margin-left:4px;'>Deepnote</span></a>"
   ]
  }
 ],
 "metadata": {
  "colab": {
   "provenance": []
  },
  "deepnote": {},
  "deepnote_execution_queue": [],
  "deepnote_notebook_id": "0afd011ae5da4596ac4144fb27adc429",
  "deepnote_persisted_session": {
   "createdAt": "2023-06-16T16:30:21.663Z"
  },
  "kernelspec": {
   "display_name": "Python 3",
   "language": "python",
   "name": "python3"
  },
  "language_info": {
   "codemirror_mode": {
    "name": "ipython",
    "version": 3
   },
   "file_extension": ".py",
   "mimetype": "text/x-python",
   "name": "python",
   "nbconvert_exporter": "python",
   "pygments_lexer": "ipython3",
   "version": "3.8.3"
  },
  "toc": {
   "base_numbering": 1,
   "nav_menu": {},
   "number_sections": true,
   "sideBar": true,
   "skip_h1_title": true,
   "title_cell": "Tabla de Contenidos",
   "title_sidebar": "Contenidos",
   "toc_cell": false,
   "toc_position": {
    "height": "calc(100% - 180px)",
    "left": "10px",
    "top": "150px",
    "width": "241.867px"
   },
   "toc_section_display": true,
   "toc_window_display": true
  },
  "varInspector": {
   "cols": {
    "lenName": 16,
    "lenType": 16,
    "lenVar": 40
   },
   "kernels_config": {
    "python": {
     "delete_cmd_postfix": "",
     "delete_cmd_prefix": "del ",
     "library": "var_list.py",
     "varRefreshCmd": "print(var_dic_list())"
    },
    "r": {
     "delete_cmd_postfix": ") ",
     "delete_cmd_prefix": "rm(",
     "library": "var_list.r",
     "varRefreshCmd": "cat(var_dic_list()) "
    }
   },
   "types_to_exclude": [
    "module",
    "function",
    "builtin_function_or_method",
    "instance",
    "_Feature"
   ],
   "window_display": false
  }
 },
 "nbformat": 4,
 "nbformat_minor": 0
}
