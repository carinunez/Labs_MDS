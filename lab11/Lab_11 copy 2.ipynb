{
 "cells": [
  {
   "cell_type": "markdown",
   "metadata": {
    "id": "PyPTffTLug7i"
   },
   "source": [
    "# **Laboratorio 11: LLM y Agentes Autónomos 🤖**\n",
    "\n",
    "MDS7202: Laboratorio de Programación Científica para Ciencia de Datos"
   ]
  },
  {
   "cell_type": "markdown",
   "metadata": {
    "id": "5pbWVyntzbvL"
   },
   "source": [
    "### **Cuerpo Docente:**\n",
    "\n",
    "- Profesores: Ignacio Meza, Sebastián Tinoco\n",
    "- Auxiliar: Eduardo Moya\n",
    "- Ayudantes: Nicolás Ojeda, Melanie Peña, Valentina Rojas"
   ]
  },
  {
   "cell_type": "markdown",
   "metadata": {
    "id": "dy6ikgVYzghB"
   },
   "source": [
    "### **Equipo: SUPER IMPORTANTE - notebooks sin nombre no serán revisados**\n",
    "\n",
    "- Nombre de alumno 1: Carolina Nuñez\n",
    "- Nombre de alumno 2: Alonso Uribe"
   ]
  },
  {
   "cell_type": "markdown",
   "metadata": {
    "id": "iMJ-owchzjFf"
   },
   "source": [
    "### **Link de repositorio de GitHub:** [Repositorio💻](https://github.com/carinunez/Labs_MDS)"
   ]
  },
  {
   "cell_type": "markdown",
   "metadata": {
    "id": "WUuwsXrKzmkK"
   },
   "source": [
    "## **Temas a tratar**\n",
    "\n",
    "- Reinforcement Learning\n",
    "- Large Language Models\n",
    "\n",
    "## **Reglas:**\n",
    "\n",
    "- **Grupos de 2 personas**\n",
    "- Cualquier duda fuera del horario de clases al foro. Mensajes al equipo docente serán respondidos por este medio.\n",
    "- Prohibidas las copias.\n",
    "- Pueden usar cualquer matrial del curso que estimen conveniente.\n",
    "\n",
    "### **Objetivos principales del laboratorio**\n",
    "\n",
    "- Resolución de problemas secuenciales usando Reinforcement Learning\n",
    "- Habilitar un Chatbot para entregar respuestas útiles usando Large Language Models.\n",
    "\n",
    "El laboratorio deberá ser desarrollado sin el uso indiscriminado de iteradores nativos de python (aka \"for\", \"while\"). La idea es que aprendan a exprimir al máximo las funciones optimizadas que nos entrega `pandas`, las cuales vale mencionar, son bastante más eficientes que los iteradores nativos sobre DataFrames."
   ]
  },
  {
   "cell_type": "markdown",
   "metadata": {
    "id": "0hmHHQ9BuyAG"
   },
   "source": [
    "## **1. Reinforcement Learning (2.0 puntos)**\n",
    "\n",
    "En esta sección van a usar métodos de RL para resolver dos problemas interesantes: `Blackjack` y `LunarLander`."
   ]
  },
  {
   "cell_type": "code",
   "execution_count": 1,
   "metadata": {
    "id": "gOcejYb6uzOO"
   },
   "outputs": [],
   "source": [
    "!pip install -qqq gymnasium stable_baselines3\n",
    "!pip install -qqq swig\n",
    "!pip install -qqq gymnasium[box2d]"
   ]
  },
  {
   "cell_type": "markdown",
   "metadata": {
    "id": "qBPet_Mq8dX9"
   },
   "source": [
    "### **1.1 Blackjack (1.0 puntos)**\n",
    "\n",
    "<p align=\"center\">\n",
    "  <img src=\"https://www.recreoviral.com/wp-content/uploads/2016/08/s3.amazonaws.com-Math.gif\"\n",
    "\" width=\"400\">\n",
    "</p>\n",
    "\n",
    "La idea de esta subsección es que puedan implementar métodos de RL y así generar una estrategia para jugar el clásico juego Blackjack y de paso puedan ~~hacerse millonarios~~ aprender a resolver problemas mediante RL.\n",
    "\n",
    "Comencemos primero preparando el ambiente. El siguiente bloque de código transforma las observaciones del ambiente a `np.array`:\n"
   ]
  },
  {
   "cell_type": "code",
   "execution_count": 2,
   "metadata": {
    "id": "LpZ8bBKk9ZlU"
   },
   "outputs": [],
   "source": [
    "import gymnasium as gym\n",
    "from gymnasium.spaces import MultiDiscrete\n",
    "import numpy as np\n",
    "\n",
    "class FlattenObservation(gym.ObservationWrapper):\n",
    "    def __init__(self, env):\n",
    "        super(FlattenObservation, self).__init__(env)\n",
    "        self.observation_space = MultiDiscrete(np.array([32, 11, 2]))\n",
    "\n",
    "    def observation(self, observation):\n",
    "        return np.array(observation).flatten()\n",
    "\n",
    "# Create and wrap the environment\n",
    "env = gym.make(\"Blackjack-v1\")\n"
   ]
  },
  {
   "cell_type": "code",
   "execution_count": 3,
   "metadata": {},
   "outputs": [],
   "source": [
    "env = FlattenObservation(env)"
   ]
  },
  {
   "cell_type": "code",
   "execution_count": 4,
   "metadata": {},
   "outputs": [
    {
     "name": "stdout",
     "output_type": "stream",
     "text": [
      "Action Space: Discrete(2)\n",
      "Obs Space: MultiDiscrete([32 11  2])\n"
     ]
    }
   ],
   "source": [
    "print(\"Action Space:\", env.action_space)\n",
    "print(\"Obs Space:\", env.observation_space)"
   ]
  },
  {
   "cell_type": "code",
   "execution_count": 5,
   "metadata": {},
   "outputs": [
    {
     "name": "stdout",
     "output_type": "stream",
     "text": [
      "(array([16,  9,  0]), {})\n"
     ]
    }
   ],
   "source": [
    "print(env.reset())\n"
   ]
  },
  {
   "cell_type": "code",
   "execution_count": 6,
   "metadata": {},
   "outputs": [
    {
     "name": "stdout",
     "output_type": "stream",
     "text": [
      "Sample Action: 1\n",
      "Sample Observation: (array([17,  9,  0]), 0.0, False, False, {})\n"
     ]
    }
   ],
   "source": [
    "action = env.action_space.sample()\n",
    "print(\"Sample Action:\", action)\n",
    "print(\"Sample Observation:\", env.step(1))"
   ]
  },
  {
   "cell_type": "markdown",
   "metadata": {
    "id": "ZJ6J1_-Y9nHO"
   },
   "source": [
    "#### **1.1.1 Descripción de MDP (0.2 puntos)**\n",
    "\n",
    "Entregue una breve descripción sobre el ambiente [Blackjack](https://gymnasium.farama.org/environments/toy_text/blackjack/) y su formulación en MDP, distinguiendo de forma clara y concisa los estados, acciones y recompensas."
   ]
  },
  {
   "cell_type": "markdown",
   "metadata": {
    "id": "G5i1Wt1p770x"
   },
   "source": [
    "Las observaciones entregadas se componen de una tupla, en seguida se describen por posición.  \n",
    "Los estados son discretos y se tienen $32 \\cdot 11 \\cdot 2$ en total correspondiente a todas las combinaciones de estas tres variables.\n",
    "* 0: suma de las dos cartas iniciales del jugador\n",
    "* 1: valor de carta boca arriba del repartidor (1-10 con un Ace)\n",
    "* 2: Si el jugador posee un Ace\n",
    "\n",
    "La acción es un valor 0 o 1 (int)\n",
    "* 0: Seguir sacando cartas para acercarse a la suma 21\n",
    "* 1: Retirarse\n",
    "\n",
    "Las recompensas (int)\n",
    "* 1: gana\n",
    "* 0: empata\n",
    "* -1: pierde\n",
    "* 1.5: ganando con Blackjack natural (Ace + J, Q o K). Opcional.\n",
    "\n",
    "Si el juego ha terminado (bool); ganando, perdiendo o empatando"
   ]
  },
  {
   "cell_type": "markdown",
   "metadata": {
    "id": "pmcX6bRC9agQ"
   },
   "source": [
    "#### **1.1.2 Generando un Baseline (0.2 puntos)**\n",
    "\n",
    "Simule un escenario en donde se escojan acciones aleatorias. Repita esta simulación 5000 veces y reporte el promedio y desviación de las recompensas. ¿Cómo calificaría el performance de esta política? ¿Cómo podría interpretar las recompensas obtenidas?"
   ]
  },
  {
   "cell_type": "code",
   "execution_count": 7,
   "metadata": {},
   "outputs": [],
   "source": [
    "import pandas as pd"
   ]
  },
  {
   "cell_type": "code",
   "execution_count": 8,
   "metadata": {
    "id": "9p2PrLLR9yju"
   },
   "outputs": [],
   "source": [
    "epochs = 5000\n",
    "rewards = []\n",
    "for epoch in range(epochs):\n",
    "    obs, _ = env.reset()\n",
    "    done = False\n",
    "    while not done:\n",
    "        action = np.random.randint(0,2) # acción aleatoria\n",
    "        obs, reward, done, _, _ = env.step(action)\n",
    "    # Solo queremos la recompensa\n",
    "    rewards.append(reward)"
   ]
  },
  {
   "cell_type": "code",
   "execution_count": 9,
   "metadata": {},
   "outputs": [
    {
     "name": "stdout",
     "output_type": "stream",
     "text": [
      "Media: -0.3794\n",
      "Desviación: 0.9031161407885204\n"
     ]
    }
   ],
   "source": [
    "rewards = pd.Series(rewards)\n",
    "print(\"Media:\", rewards.mean())\n",
    "print(\"Desviación:\", rewards.std())"
   ]
  },
  {
   "cell_type": "markdown",
   "metadata": {},
   "source": [
    "Es pésima la recompensa. Hay mayor cantidad de juegos perdidos a ganados, y la desviación es casi tan grande como diferencia entre empatar y ganar, es decir, el modelo no pierde y empata consistentemente (también tendríamos una media de [-0.4,-0.5]), es más aleatorio que eso."
   ]
  },
  {
   "cell_type": "markdown",
   "metadata": {
    "id": "LEO_dY4x_SJu"
   },
   "source": [
    "#### **1.1.3 Entrenamiento de modelo (0.2 puntos)**\n",
    "\n",
    "A partir del siguiente [enlace](https://stable-baselines3.readthedocs.io/en/master/guide/algos.html), escoja un modelo de `stable_baselines3` y entrenelo para resolver el ambiente `Blackjack`."
   ]
  },
  {
   "cell_type": "code",
   "execution_count": 10,
   "metadata": {},
   "outputs": [
    {
     "name": "stdout",
     "output_type": "stream",
     "text": [
      "Using cpu device\n",
      "Wrapping the env with a `Monitor` wrapper\n",
      "Wrapping the env in a DummyVecEnv.\n",
      "---------------------------------\n",
      "| rollout/           |          |\n",
      "|    ep_len_mean     | 1.39     |\n",
      "|    ep_rew_mean     | -0.48    |\n",
      "| time/              |          |\n",
      "|    fps             | 1190     |\n",
      "|    iterations      | 1        |\n",
      "|    time_elapsed    | 1        |\n",
      "|    total_timesteps | 2048     |\n",
      "---------------------------------\n",
      "-----------------------------------------\n",
      "| rollout/                |             |\n",
      "|    ep_len_mean          | 1.33        |\n",
      "|    ep_rew_mean          | -0.26       |\n",
      "| time/                   |             |\n",
      "|    fps                  | 760         |\n",
      "|    iterations           | 2           |\n",
      "|    time_elapsed         | 5           |\n",
      "|    total_timesteps      | 4096        |\n",
      "| train/                  |             |\n",
      "|    approx_kl            | 0.018861253 |\n",
      "|    clip_fraction        | 0.347       |\n",
      "|    clip_range           | 0.2         |\n",
      "|    entropy_loss         | -0.675      |\n",
      "|    explained_variance   | -0.12235236 |\n",
      "|    learning_rate        | 0.0003      |\n",
      "|    loss                 | 0.315       |\n",
      "|    n_updates            | 10          |\n",
      "|    policy_gradient_loss | -0.0529     |\n",
      "|    value_loss           | 0.739       |\n",
      "-----------------------------------------\n",
      "-----------------------------------------\n",
      "| rollout/                |             |\n",
      "|    ep_len_mean          | 1.22        |\n",
      "|    ep_rew_mean          | -0.27       |\n",
      "| time/                   |             |\n",
      "|    fps                  | 669         |\n",
      "|    iterations           | 3           |\n",
      "|    time_elapsed         | 9           |\n",
      "|    total_timesteps      | 6144        |\n",
      "| train/                  |             |\n",
      "|    approx_kl            | 0.019448081 |\n",
      "|    clip_fraction        | 0.29        |\n",
      "|    clip_range           | 0.2         |\n",
      "|    entropy_loss         | -0.624      |\n",
      "|    explained_variance   | 0.05718392  |\n",
      "|    learning_rate        | 0.0003      |\n",
      "|    loss                 | 0.371       |\n",
      "|    n_updates            | 20          |\n",
      "|    policy_gradient_loss | -0.0466     |\n",
      "|    value_loss           | 0.748       |\n",
      "-----------------------------------------\n",
      "-----------------------------------------\n",
      "| rollout/                |             |\n",
      "|    ep_len_mean          | 1.28        |\n",
      "|    ep_rew_mean          | -0.16       |\n",
      "| time/                   |             |\n",
      "|    fps                  | 667         |\n",
      "|    iterations           | 4           |\n",
      "|    time_elapsed         | 12          |\n",
      "|    total_timesteps      | 8192        |\n",
      "| train/                  |             |\n",
      "|    approx_kl            | 0.034068845 |\n",
      "|    clip_fraction        | 0.229       |\n",
      "|    clip_range           | 0.2         |\n",
      "|    entropy_loss         | -0.545      |\n",
      "|    explained_variance   | 0.08803624  |\n",
      "|    learning_rate        | 0.0003      |\n",
      "|    loss                 | 0.324       |\n",
      "|    n_updates            | 30          |\n",
      "|    policy_gradient_loss | -0.0385     |\n",
      "|    value_loss           | 0.752       |\n",
      "-----------------------------------------\n",
      "-----------------------------------------\n",
      "| rollout/                |             |\n",
      "|    ep_len_mean          | 1.23        |\n",
      "|    ep_rew_mean          | -0.22       |\n",
      "| time/                   |             |\n",
      "|    fps                  | 672         |\n",
      "|    iterations           | 5           |\n",
      "|    time_elapsed         | 15          |\n",
      "|    total_timesteps      | 10240       |\n",
      "| train/                  |             |\n",
      "|    approx_kl            | 0.027044337 |\n",
      "|    clip_fraction        | 0.143       |\n",
      "|    clip_range           | 0.2         |\n",
      "|    entropy_loss         | -0.494      |\n",
      "|    explained_variance   | 0.15260488  |\n",
      "|    learning_rate        | 0.0003      |\n",
      "|    loss                 | 0.33        |\n",
      "|    n_updates            | 40          |\n",
      "|    policy_gradient_loss | -0.0265     |\n",
      "|    value_loss           | 0.726       |\n",
      "-----------------------------------------\n",
      "-----------------------------------------\n",
      "| rollout/                |             |\n",
      "|    ep_len_mean          | 1.24        |\n",
      "|    ep_rew_mean          | -0.17       |\n",
      "| time/                   |             |\n",
      "|    fps                  | 675         |\n",
      "|    iterations           | 6           |\n",
      "|    time_elapsed         | 18          |\n",
      "|    total_timesteps      | 12288       |\n",
      "| train/                  |             |\n",
      "|    approx_kl            | 0.009158123 |\n",
      "|    clip_fraction        | 0.0972      |\n",
      "|    clip_range           | 0.2         |\n",
      "|    entropy_loss         | -0.442      |\n",
      "|    explained_variance   | 0.17393458  |\n",
      "|    learning_rate        | 0.0003      |\n",
      "|    loss                 | 0.342       |\n",
      "|    n_updates            | 50          |\n",
      "|    policy_gradient_loss | -0.0134     |\n",
      "|    value_loss           | 0.725       |\n",
      "-----------------------------------------\n",
      "-----------------------------------------\n",
      "| rollout/                |             |\n",
      "|    ep_len_mean          | 1.25        |\n",
      "|    ep_rew_mean          | 0.03        |\n",
      "| time/                   |             |\n",
      "|    fps                  | 669         |\n",
      "|    iterations           | 7           |\n",
      "|    time_elapsed         | 21          |\n",
      "|    total_timesteps      | 14336       |\n",
      "| train/                  |             |\n",
      "|    approx_kl            | 0.010409494 |\n",
      "|    clip_fraction        | 0.103       |\n",
      "|    clip_range           | 0.2         |\n",
      "|    entropy_loss         | -0.412      |\n",
      "|    explained_variance   | 0.18887222  |\n",
      "|    learning_rate        | 0.0003      |\n",
      "|    loss                 | 0.352       |\n",
      "|    n_updates            | 60          |\n",
      "|    policy_gradient_loss | -0.0142     |\n",
      "|    value_loss           | 0.703       |\n",
      "-----------------------------------------\n",
      "----------------------------------------\n",
      "| rollout/                |            |\n",
      "|    ep_len_mean          | 1.27       |\n",
      "|    ep_rew_mean          | -0.02      |\n",
      "| time/                   |            |\n",
      "|    fps                  | 664        |\n",
      "|    iterations           | 8          |\n",
      "|    time_elapsed         | 24         |\n",
      "|    total_timesteps      | 16384      |\n",
      "| train/                  |            |\n",
      "|    approx_kl            | 0.00741982 |\n",
      "|    clip_fraction        | 0.075      |\n",
      "|    clip_range           | 0.2        |\n",
      "|    entropy_loss         | -0.367     |\n",
      "|    explained_variance   | 0.21563351 |\n",
      "|    learning_rate        | 0.0003     |\n",
      "|    loss                 | 0.331      |\n",
      "|    n_updates            | 70         |\n",
      "|    policy_gradient_loss | -0.0104    |\n",
      "|    value_loss           | 0.675      |\n",
      "----------------------------------------\n",
      "-----------------------------------------\n",
      "| rollout/                |             |\n",
      "|    ep_len_mean          | 1.28        |\n",
      "|    ep_rew_mean          | -0.07       |\n",
      "| time/                   |             |\n",
      "|    fps                  | 660         |\n",
      "|    iterations           | 9           |\n",
      "|    time_elapsed         | 27          |\n",
      "|    total_timesteps      | 18432       |\n",
      "| train/                  |             |\n",
      "|    approx_kl            | 0.005433716 |\n",
      "|    clip_fraction        | 0.0632      |\n",
      "|    clip_range           | 0.2         |\n",
      "|    entropy_loss         | -0.367      |\n",
      "|    explained_variance   | 0.20867234  |\n",
      "|    learning_rate        | 0.0003      |\n",
      "|    loss                 | 0.328       |\n",
      "|    n_updates            | 80          |\n",
      "|    policy_gradient_loss | -0.00779    |\n",
      "|    value_loss           | 0.693       |\n",
      "-----------------------------------------\n",
      "-----------------------------------------\n",
      "| rollout/                |             |\n",
      "|    ep_len_mean          | 1.28        |\n",
      "|    ep_rew_mean          | -0.11       |\n",
      "| time/                   |             |\n",
      "|    fps                  | 656         |\n",
      "|    iterations           | 10          |\n",
      "|    time_elapsed         | 31          |\n",
      "|    total_timesteps      | 20480       |\n",
      "| train/                  |             |\n",
      "|    approx_kl            | 0.005703653 |\n",
      "|    clip_fraction        | 0.0595      |\n",
      "|    clip_range           | 0.2         |\n",
      "|    entropy_loss         | -0.347      |\n",
      "|    explained_variance   | 0.2055623   |\n",
      "|    learning_rate        | 0.0003      |\n",
      "|    loss                 | 0.324       |\n",
      "|    n_updates            | 90          |\n",
      "|    policy_gradient_loss | -0.00756    |\n",
      "|    value_loss           | 0.691       |\n",
      "-----------------------------------------\n",
      "-----------------------------------------\n",
      "| rollout/                |             |\n",
      "|    ep_len_mean          | 1.48        |\n",
      "|    ep_rew_mean          | 0.12        |\n",
      "| time/                   |             |\n",
      "|    fps                  | 646         |\n",
      "|    iterations           | 11          |\n",
      "|    time_elapsed         | 34          |\n",
      "|    total_timesteps      | 22528       |\n",
      "| train/                  |             |\n",
      "|    approx_kl            | 0.005505457 |\n",
      "|    clip_fraction        | 0.046       |\n",
      "|    clip_range           | 0.2         |\n",
      "|    entropy_loss         | -0.332      |\n",
      "|    explained_variance   | 0.18700433  |\n",
      "|    learning_rate        | 0.0003      |\n",
      "|    loss                 | 0.397       |\n",
      "|    n_updates            | 100         |\n",
      "|    policy_gradient_loss | -0.00577    |\n",
      "|    value_loss           | 0.72        |\n",
      "-----------------------------------------\n",
      "------------------------------------------\n",
      "| rollout/                |              |\n",
      "|    ep_len_mean          | 1.39         |\n",
      "|    ep_rew_mean          | 0.1          |\n",
      "| time/                   |              |\n",
      "|    fps                  | 640          |\n",
      "|    iterations           | 12           |\n",
      "|    time_elapsed         | 38           |\n",
      "|    total_timesteps      | 24576        |\n",
      "| train/                  |              |\n",
      "|    approx_kl            | 0.0071530766 |\n",
      "|    clip_fraction        | 0.0643       |\n",
      "|    clip_range           | 0.2          |\n",
      "|    entropy_loss         | -0.297       |\n",
      "|    explained_variance   | 0.18327135   |\n",
      "|    learning_rate        | 0.0003       |\n",
      "|    loss                 | 0.301        |\n",
      "|    n_updates            | 110          |\n",
      "|    policy_gradient_loss | -0.00923     |\n",
      "|    value_loss           | 0.721        |\n",
      "------------------------------------------\n",
      "------------------------------------------\n",
      "| rollout/                |              |\n",
      "|    ep_len_mean          | 1.48         |\n",
      "|    ep_rew_mean          | -0.07        |\n",
      "| time/                   |              |\n",
      "|    fps                  | 635          |\n",
      "|    iterations           | 13           |\n",
      "|    time_elapsed         | 41           |\n",
      "|    total_timesteps      | 26624        |\n",
      "| train/                  |              |\n",
      "|    approx_kl            | 0.0065090302 |\n",
      "|    clip_fraction        | 0.0433       |\n",
      "|    clip_range           | 0.2          |\n",
      "|    entropy_loss         | -0.267       |\n",
      "|    explained_variance   | 0.21921551   |\n",
      "|    learning_rate        | 0.0003       |\n",
      "|    loss                 | 0.368        |\n",
      "|    n_updates            | 120          |\n",
      "|    policy_gradient_loss | -0.00491     |\n",
      "|    value_loss           | 0.662        |\n",
      "------------------------------------------\n",
      "------------------------------------------\n",
      "| rollout/                |              |\n",
      "|    ep_len_mean          | 1.5          |\n",
      "|    ep_rew_mean          | -0.11        |\n",
      "| time/                   |              |\n",
      "|    fps                  | 623          |\n",
      "|    iterations           | 14           |\n",
      "|    time_elapsed         | 45           |\n",
      "|    total_timesteps      | 28672        |\n",
      "| train/                  |              |\n",
      "|    approx_kl            | 0.0027711922 |\n",
      "|    clip_fraction        | 0.0329       |\n",
      "|    clip_range           | 0.2          |\n",
      "|    entropy_loss         | -0.243       |\n",
      "|    explained_variance   | 0.19096816   |\n",
      "|    learning_rate        | 0.0003       |\n",
      "|    loss                 | 0.345        |\n",
      "|    n_updates            | 130          |\n",
      "|    policy_gradient_loss | -0.00342     |\n",
      "|    value_loss           | 0.691        |\n",
      "------------------------------------------\n",
      "------------------------------------------\n",
      "| rollout/                |              |\n",
      "|    ep_len_mean          | 1.37         |\n",
      "|    ep_rew_mean          | -0.15        |\n",
      "| time/                   |              |\n",
      "|    fps                  | 618          |\n",
      "|    iterations           | 15           |\n",
      "|    time_elapsed         | 49           |\n",
      "|    total_timesteps      | 30720        |\n",
      "| train/                  |              |\n",
      "|    approx_kl            | 0.0043505356 |\n",
      "|    clip_fraction        | 0.0491       |\n",
      "|    clip_range           | 0.2          |\n",
      "|    entropy_loss         | -0.241       |\n",
      "|    explained_variance   | 0.20540667   |\n",
      "|    learning_rate        | 0.0003       |\n",
      "|    loss                 | 0.359        |\n",
      "|    n_updates            | 140          |\n",
      "|    policy_gradient_loss | -0.00451     |\n",
      "|    value_loss           | 0.69         |\n",
      "------------------------------------------\n",
      "----------------------------------------\n",
      "| rollout/                |            |\n",
      "|    ep_len_mean          | 1.41       |\n",
      "|    ep_rew_mean          | -0.06      |\n",
      "| time/                   |            |\n",
      "|    fps                  | 616        |\n",
      "|    iterations           | 16         |\n",
      "|    time_elapsed         | 53         |\n",
      "|    total_timesteps      | 32768      |\n",
      "| train/                  |            |\n",
      "|    approx_kl            | 0.00770624 |\n",
      "|    clip_fraction        | 0.0465     |\n",
      "|    clip_range           | 0.2        |\n",
      "|    entropy_loss         | -0.211     |\n",
      "|    explained_variance   | 0.21524173 |\n",
      "|    learning_rate        | 0.0003     |\n",
      "|    loss                 | 0.267      |\n",
      "|    n_updates            | 150        |\n",
      "|    policy_gradient_loss | -0.0053    |\n",
      "|    value_loss           | 0.678      |\n",
      "----------------------------------------\n"
     ]
    }
   ],
   "source": [
    "import gymnasium as gym\n",
    "from stable_baselines3.common.utils import random\n",
    "from stable_baselines3 import PPO\n",
    "from stable_baselines3.common.env_util import make_vec_env\n",
    "\n",
    "random.seed(29)\n",
    "\n",
    "model = PPO(\"MlpPolicy\", env, verbose=1)\n",
    "model.learn(total_timesteps=32000)\n",
    "model.save(\"ppo_blackjack\")\n",
    "\n",
    "del model # remove to demonstrate saving and loading\n",
    "\n",
    "model = PPO.load(\"ppo_blackjack\")"
   ]
  },
  {
   "cell_type": "markdown",
   "metadata": {
    "id": "E-bpdb8wZID1"
   },
   "source": [
    "#### **1.1.4 Evaluación de modelo (0.2 puntos)**\n",
    "\n",
    "Repita el ejercicio 1.1.2 pero utilizando el modelo entrenado. ¿Cómo es el performance de su agente? ¿Es mejor o peor que el escenario baseline?"
   ]
  },
  {
   "cell_type": "code",
   "execution_count": 11,
   "metadata": {},
   "outputs": [],
   "source": [
    "epochs = 10000\n",
    "rewards = []\n",
    "for epoch in range(epochs):\n",
    "    obs, _ = env.reset()\n",
    "    done = False\n",
    "    while not done:\n",
    "        action, _ = model.predict(obs)\n",
    "        obs, reward, done, _, _ = env.step(action)\n",
    "    # Solo queremos la recompensa\n",
    "    rewards.append(reward)"
   ]
  },
  {
   "cell_type": "code",
   "execution_count": 12,
   "metadata": {
    "id": "5-d7d8GFf7F6"
   },
   "outputs": [
    {
     "name": "stdout",
     "output_type": "stream",
     "text": [
      "Media: -0.063\n",
      "Desviación: 0.9585003246150877\n"
     ]
    }
   ],
   "source": [
    "rewards = pd.Series(rewards)\n",
    "print(\"Media:\", rewards.mean())\n",
    "print(\"Desviación:\", rewards.std())"
   ]
  },
  {
   "cell_type": "markdown",
   "metadata": {},
   "source": [
    "Es bastante mejor, ahora se pierde y se gana casi con la misma probabilidad, difícilmente se empatada dada la varianza tan alta. Aún así no sirve para hacerse millonario. Puede ser porque este juego esta sujeto en gran medida por el azar, aún así, el agente es capaz de equiparar las probabilidades de ganar y perder."
   ]
  },
  {
   "cell_type": "markdown",
   "metadata": {
    "id": "RO-EsAaPAYEm"
   },
   "source": [
    "#### **1.1.5 Estudio de acciones (0.2 puntos)**\n",
    "\n",
    "Genere una función que reciba un estado y retorne la accion del agente. Luego, use esta función para entregar la acción escogida frente a los siguientes escenarios:\n",
    "\n",
    "1. Suma de cartas del agente es 6, dealer muestra un 7, agente no tiene tiene un as\n",
    "2. Suma de cartas del agente es 19, dealer muestra un 3, agente tiene tiene un as\n",
    "\n",
    "¿Son coherentes sus acciones con las reglas del juego?\n",
    "\n",
    "Hint: ¿A que clase de python pertenecen los estados? Pruebe a usar el método `.reset` para saberlo."
   ]
  },
  {
   "cell_type": "code",
   "execution_count": 13,
   "metadata": {
    "id": "Fh8XlGyzwtRp"
   },
   "outputs": [
    {
     "name": "stdout",
     "output_type": "stream",
     "text": [
      "Si la suma de cartas del agente es 6, el dealer muestra un 7, agente no tiene un As:\n",
      "\n",
      "Hit Hit Hit Hit Hit Hit Hit Hit Hit Hit \n",
      "\n",
      "\n",
      "Si la suma de cartas del agente es 19, el dealer muestra un 3, agente tiene un As:\n",
      "\n",
      "Stick Stick Stick Stick Stick Stick Stick Stick Stick Stick \n",
      "\n",
      "\n",
      "Si la suma de cartas del agente es 6, el dealer muestra un 7, agente no tiene un As:\n",
      "\n",
      "Media: 0.9909\n",
      "Desviación: 0.0949636341405536\n",
      "\n",
      "\n",
      "Si la suma de cartas del agente es 19, el dealer muestra un 3, agente tiene un As:\n",
      "\n",
      "Media: 0.0015\n",
      "Desviación: 0.038702710369934015\n"
     ]
    }
   ],
   "source": [
    "def explicit_player(suma:int, dealer:int, ace:bool):\n",
    "    obs = np.array([suma, dealer, int(ace)])\n",
    "    return \"Hit\" if model.predict(obs)[0] else \"Stick\"\n",
    "\n",
    "tries = 10\n",
    "uno = \"Si la suma de cartas del agente es 6, el dealer muestra un 7, agente no tiene un As:\\n\"\n",
    "dos = \"Si la suma de cartas del agente es 19, el dealer muestra un 3, agente tiene un As:\\n\"\n",
    "print(uno)\n",
    "for _ in range(tries):\n",
    "    print(explicit_player(suma=6, dealer=7, ace=False), end=' ')\n",
    "print('\\n\\n')\n",
    "print(dos)\n",
    "for _ in range(tries):\n",
    "    print(explicit_player(suma=19, dealer=3, ace=True), end=' ')\n",
    "\n",
    "tries = 10000\n",
    "one = []\n",
    "two = []\n",
    "for _ in range(tries):\n",
    "    one.append(model.predict(np.array([6, 7, 0]))[0])\n",
    "    two.append(model.predict(np.array([19, 3, 1]))[0])\n",
    "\n",
    "print(\"\\n\\n\")\n",
    "one = pd.Series(one)\n",
    "two = pd.Series(two)\n",
    "print(uno)\n",
    "print(\"Media:\", one.mean())\n",
    "print(\"Desviación:\", one.std())\n",
    "print('\\n')\n",
    "print(dos)\n",
    "print(\"Media:\", two.mean())\n",
    "print(\"Desviación:\", two.std())"
   ]
  },
  {
   "cell_type": "markdown",
   "metadata": {},
   "source": [
    "Se concluye que las acciones son coherentes con las reglas del juego. Estado muy cerca del 21 resulta más obvio querer quedarse (Stick) en el número. Lo que se muestra en la media y la desviación del agente para este escenario, rondando siempre esta acción.\n",
    "\n",
    "Para el primer caso resulta más extraña la jugada y esta mucho más sujeta a la suerte que tenga el dealer, es decir, dada la mala mano del agente, este decide apostar por que el repartidor supere el 21, dandole la victoria. Esto se refleja en la media encontrada y su desviación. A pesar de esto existe una desviación estandar superior al otro escenario, esto porque se entiende que el numero 6 sigue siendo bajo y las probabilidades de superar el 21 con la siguiente carta son nulas. \n",
    "\n",
    "Los estados son clase numpy.array"
   ]
  },
  {
   "cell_type": "markdown",
   "metadata": {
    "id": "SEqCTqqroh03"
   },
   "source": [
    "### **1.2 LunarLander**\n",
    "\n",
    "<p align=\"center\">\n",
    "  <img src=\"https://i.redd.it/097t6tk29zf51.jpg\"\n",
    "\" width=\"400\">\n",
    "</p>\n",
    "\n",
    "Similar a la sección 2.1, en esta sección usted se encargará de implementar una gente de RL que pueda resolver el ambiente `LunarLander`.\n",
    "\n",
    "Comencemos preparando el ambiente:\n"
   ]
  },
  {
   "cell_type": "code",
   "execution_count": null,
   "metadata": {
    "id": "nvQUyuZ_FtZ4"
   },
   "outputs": [],
   "source": [
    "import gymnasium as gym\n",
    "env = gym.make(\"LunarLander-v2\", render_mode=\"rgb_array\", continuous=False, max_episode_steps=1000) # notar el parámetro continuous = True}\n",
    "# Tuve un error con continuous=True. El método de step() no funcionaba bien. Cambiando a discreto lo arreglo."
   ]
  },
  {
   "cell_type": "markdown",
   "metadata": {
    "id": "FBU4lGX3wpN6"
   },
   "source": [
    "Noten que se especifica el parámetro `continuous = True`. ¿Que implicancias tiene esto sobre el ambiente?\n",
    "\n",
    "Además, se le facilita la función `export_gif` para el ejercicio 2.2.4:"
   ]
  },
  {
   "cell_type": "code",
   "execution_count": 15,
   "metadata": {
    "id": "bRiWpSo9yfr9"
   },
   "outputs": [],
   "source": [
    "import imageio\n",
    "import numpy as np\n",
    "\n",
    "def export_gif(model, n = 5):\n",
    "  '''\n",
    "  función que exporta a gif el comportamiento del agente en n episodios\n",
    "  '''\n",
    "  images = []\n",
    "  for episode in range(n):\n",
    "    obs = model.env.reset()\n",
    "    img = model.env.render()\n",
    "    done = False\n",
    "    while not done:\n",
    "      images.append(img)\n",
    "      action, _ = model.predict(obs)\n",
    "      obs, reward, done, info = model.env.step(action)\n",
    "      img = model.env.render(mode=\"rgb_array\")\n",
    "\n",
    "  imageio.mimsave(\"agent_performance.gif\", [np.array(img) for i, img in enumerate(images) if i%2 == 0], fps=29)"
   ]
  },
  {
   "cell_type": "markdown",
   "metadata": {
    "id": "sk5VJVppXh3N"
   },
   "source": [
    "#### **1.2.1 Descripción de MDP (0.2 puntos)**\n",
    "\n",
    "Entregue una breve descripción sobre el ambiente [LunarLander](https://gymnasium.farama.org/environments/box2d/lunar_lander/) y su formulación en MDP, distinguiendo de forma clara y concisa los estados, acciones y recompensas. ¿Como se distinguen las acciones de este ambiente en comparación a `Blackjack`?\n",
    "\n",
    "Nota: recuerde que se especificó el parámetro `continuous = True`"
   ]
  },
  {
   "cell_type": "markdown",
   "metadata": {},
   "source": [
    "Los estados son continuos y por lo tanto son teoricamente infinitos.\n",
    "\n",
    "Las observaciones entregadas se componen de una tupla de ocho valores, 6 continuos para nuestro experimento, y dos boolean\n",
    "\n",
    "* 0: Posición eje X (float)\n",
    "* 1: Posición eje Y (float)\n",
    "* 2: Velocidad eje X (float)\n",
    "* 3: Velocidad eje Y (float)\n",
    "* 4: Angulo de la nave (float)\n",
    "* 5: Velocidad Angular (float)\n",
    "* 6: Pata 1 en contacto con las plataforma de aterrizaje (int)\n",
    "* 7: Pata 2 en contacto con las plataforma de aterrizaje (int)\n",
    "\n",
    "La acción es un valor 0 al 3 (int)\n",
    "* 0: No acción\n",
    "* 1: Prender motor izquierdo\n",
    "* 2: Prender motor central\n",
    "* 3: Prender motor derecho\n",
    "\n",
    "Las recompensas (int)\n",
    "\n",
    "* Aumenta/decrece de acuerdo a la cercania/lejania de la nave a la plataforma de aterrizaje.\n",
    "* Aumenta/decrece según mayor/menor sea su velocidad.\n",
    "* Decrece si la nave se ladea (a mayor angulo).\n",
    "* 10: por cada pata tocando la plataforma.\n",
    "* 0.03: por cada cuadro donde alguno de los motores laterales estan encendidos.\n",
    "* 0.3: por cada cuadro donde el motor central esta encendido.\n",
    "* +100/-100 por aterrizar exitosamente/estrellarse.\n",
    "\n",
    "Juego terminado\n",
    "\n",
    "* La nave se estrella.\n",
    "* La plataforma de aterrizaje sale del cuadro (X>1).\n",
    "* La nave no está \"despierta\". Según los documentos de Box2D, un cuerpo que no está despierto es un cuerpo que no se mueve y no choca con ningún otro cuerpo."
   ]
  },
  {
   "cell_type": "markdown",
   "metadata": {
    "id": "YChodtNQwzG2"
   },
   "source": [
    "#### **1.2.2 Generando un Baseline (0.2 puntos)**\n",
    "\n",
    "Simule un escenario en donde se escojan acciones aleatorias. Repita esta simulación 10 veces y reporte el promedio y desviación de las recompensas. ¿Cómo calificaría el performance de esta política?"
   ]
  },
  {
   "cell_type": "code",
   "execution_count": 16,
   "metadata": {
    "id": "5bwc3A0GX7a8"
   },
   "outputs": [
    {
     "data": {
      "text/plain": [
       "(array([ 0.00473738,  1.4124866 ,  0.47982517,  0.06962075, -0.0054826 ,\n",
       "        -0.10868756,  0.        ,  0.        ], dtype=float32),\n",
       " {})"
      ]
     },
     "execution_count": 16,
     "metadata": {},
     "output_type": "execute_result"
    }
   ],
   "source": [
    "env.reset()"
   ]
  },
  {
   "cell_type": "code",
   "execution_count": 17,
   "metadata": {},
   "outputs": [
    {
     "data": {
      "text/plain": [
       "np.int64(3)"
      ]
     },
     "execution_count": 17,
     "metadata": {},
     "output_type": "execute_result"
    }
   ],
   "source": [
    "env.action_space.sample()"
   ]
  },
  {
   "cell_type": "code",
   "execution_count": 18,
   "metadata": {},
   "outputs": [],
   "source": [
    "epochs = 20\n",
    "rewards = []\n",
    "for epoch in range(epochs):\n",
    "    obs, _ = env.reset()\n",
    "    done = False\n",
    "    reward = 0\n",
    "    while not done:\n",
    "        # action, _ = model.predict(obs)\n",
    "        action = np.random.randint(0,4)\n",
    "        obs, r, done, _, _ = env.step(env.action_space.sample())\n",
    "        reward += r\n",
    "    # Solo queremos la recompensa\n",
    "    rewards.append(reward)"
   ]
  },
  {
   "cell_type": "code",
   "execution_count": 19,
   "metadata": {},
   "outputs": [
    {
     "name": "stdout",
     "output_type": "stream",
     "text": [
      "Media: -191.38007611825944\n",
      "Desviación: 116.65708845593782\n"
     ]
    }
   ],
   "source": [
    "rewards = pd.Series(rewards)\n",
    "print(\"Media:\", rewards.mean())\n",
    "print(\"Desviación:\", rewards.std())"
   ]
  },
  {
   "cell_type": "markdown",
   "metadata": {},
   "source": [
    "Mala. Que la media sea casi el doble que el puntaje obtenido al estrellarse, es de suponer que la gran mayoría de los episodios la nave se estrello"
   ]
  },
  {
   "cell_type": "markdown",
   "metadata": {
    "id": "hQrZVQflX_5f"
   },
   "source": [
    "#### **1.2.3 Entrenamiento de modelo (0.2 puntos)**\n",
    "\n",
    "A partir del siguiente [enlace](https://stable-baselines3.readthedocs.io/en/master/guide/algos.html), escoja un modelo de `stable_baselines3` y entrenelo para resolver el ambiente `LunarLander` **usando 10000 timesteps de entrenamiento**."
   ]
  },
  {
   "cell_type": "code",
   "execution_count": 20,
   "metadata": {
    "id": "y_6Ia9uoF7Hs"
   },
   "outputs": [
    {
     "name": "stdout",
     "output_type": "stream",
     "text": [
      "Using cpu device\n",
      "Wrapping the env with a `Monitor` wrapper\n",
      "Wrapping the env in a DummyVecEnv.\n",
      "---------------------------------\n",
      "| rollout/           |          |\n",
      "|    ep_len_mean     | 87.7     |\n",
      "|    ep_rew_mean     | -125     |\n",
      "| time/              |          |\n",
      "|    fps             | 1052     |\n",
      "|    iterations      | 1        |\n",
      "|    time_elapsed    | 1        |\n",
      "|    total_timesteps | 2048     |\n",
      "---------------------------------\n",
      "-------------------------------------------\n",
      "| rollout/                |               |\n",
      "|    ep_len_mean          | 86.3          |\n",
      "|    ep_rew_mean          | -134          |\n",
      "| time/                   |               |\n",
      "|    fps                  | 758           |\n",
      "|    iterations           | 2             |\n",
      "|    time_elapsed         | 5             |\n",
      "|    total_timesteps      | 4096          |\n",
      "| train/                  |               |\n",
      "|    approx_kl            | 0.005735997   |\n",
      "|    clip_fraction        | 0.031         |\n",
      "|    clip_range           | 0.2           |\n",
      "|    entropy_loss         | -1.38         |\n",
      "|    explained_variance   | -0.0018408298 |\n",
      "|    learning_rate        | 0.0003        |\n",
      "|    loss                 | 424           |\n",
      "|    n_updates            | 10            |\n",
      "|    policy_gradient_loss | -0.00806      |\n",
      "|    value_loss           | 934           |\n",
      "-------------------------------------------\n",
      "------------------------------------------\n",
      "| rollout/                |              |\n",
      "|    ep_len_mean          | 88.1         |\n",
      "|    ep_rew_mean          | -124         |\n",
      "| time/                   |              |\n",
      "|    fps                  | 699          |\n",
      "|    iterations           | 3            |\n",
      "|    time_elapsed         | 8            |\n",
      "|    total_timesteps      | 6144         |\n",
      "| train/                  |              |\n",
      "|    approx_kl            | 0.0077327495 |\n",
      "|    clip_fraction        | 0.0159       |\n",
      "|    clip_range           | 0.2          |\n",
      "|    entropy_loss         | -1.37        |\n",
      "|    explained_variance   | -0.009796739 |\n",
      "|    learning_rate        | 0.0003       |\n",
      "|    loss                 | 997          |\n",
      "|    n_updates            | 20           |\n",
      "|    policy_gradient_loss | -0.00338     |\n",
      "|    value_loss           | 1.1e+03      |\n",
      "------------------------------------------\n",
      "------------------------------------------\n",
      "| rollout/                |              |\n",
      "|    ep_len_mean          | 89.5         |\n",
      "|    ep_rew_mean          | -110         |\n",
      "| time/                   |              |\n",
      "|    fps                  | 685          |\n",
      "|    iterations           | 4            |\n",
      "|    time_elapsed         | 11           |\n",
      "|    total_timesteps      | 8192         |\n",
      "| train/                  |              |\n",
      "|    approx_kl            | 0.010398867  |\n",
      "|    clip_fraction        | 0.0463       |\n",
      "|    clip_range           | 0.2          |\n",
      "|    entropy_loss         | -1.37        |\n",
      "|    explained_variance   | -0.014926076 |\n",
      "|    learning_rate        | 0.0003       |\n",
      "|    loss                 | 207          |\n",
      "|    n_updates            | 30           |\n",
      "|    policy_gradient_loss | -0.00882     |\n",
      "|    value_loss           | 627          |\n",
      "------------------------------------------\n",
      "------------------------------------------\n",
      "| rollout/                |              |\n",
      "|    ep_len_mean          | 90.2         |\n",
      "|    ep_rew_mean          | -112         |\n",
      "| time/                   |              |\n",
      "|    fps                  | 667          |\n",
      "|    iterations           | 5            |\n",
      "|    time_elapsed         | 15           |\n",
      "|    total_timesteps      | 10240        |\n",
      "| train/                  |              |\n",
      "|    approx_kl            | 0.007289325  |\n",
      "|    clip_fraction        | 0.0453       |\n",
      "|    clip_range           | 0.2          |\n",
      "|    entropy_loss         | -1.35        |\n",
      "|    explained_variance   | 0.0026738048 |\n",
      "|    learning_rate        | 0.0003       |\n",
      "|    loss                 | 134          |\n",
      "|    n_updates            | 40           |\n",
      "|    policy_gradient_loss | -0.00357     |\n",
      "|    value_loss           | 452          |\n",
      "------------------------------------------\n"
     ]
    }
   ],
   "source": [
    "def train_ppo(timestepts=10000, lr=0.0003, batch_size=64, save=False):\n",
    "    model = PPO(\"MlpPolicy\", env, verbose=1, learning_rate=lr, batch_size=batch_size)\n",
    "    model.learn(total_timesteps=timestepts, )\n",
    "    if save:\n",
    "        model.save(\"ppo_lunarlander\")\n",
    "    return model\n",
    "train_ppo()\n",
    "model = PPO.load(\"ppo_lunarlander\")"
   ]
  },
  {
   "cell_type": "markdown",
   "metadata": {},
   "source": [
    "#### **1.2.4 Evaluación de modelo (0.2 puntos)**\n",
    "\n",
    "Repita el ejercicio 1.2.2 pero utilizando el modelo entrenado. ¿Cómo es el performance de su agente? ¿Es mejor o peor que el escenario baseline?"
   ]
  },
  {
   "cell_type": "code",
   "execution_count": 21,
   "metadata": {},
   "outputs": [],
   "source": [
    "epochs = 1\n",
    "rewards = []\n",
    "for epoch in range(epochs):\n",
    "    obs, _ = env.reset()\n",
    "    done = False\n",
    "    reward = 0\n",
    "    while not done:\n",
    "        # action, _ = model.predict(obs)\n",
    "        action, _ = model.predict(obs)\n",
    "        obs, r, done, _, _ = env.step(action)\n",
    "        reward += r\n",
    "    # Solo queremos la recompensa\n",
    "    rewards.append(reward)"
   ]
  },
  {
   "cell_type": "code",
   "execution_count": 22,
   "metadata": {},
   "outputs": [
    {
     "name": "stdout",
     "output_type": "stream",
     "text": [
      "Media: -81.84549060143385\n",
      "Desviación: nan\n"
     ]
    }
   ],
   "source": [
    "rewards = pd.Series(rewards)\n",
    "print(\"Media:\", rewards.mean())\n",
    "print(\"Desviación:\", rewards.std())"
   ]
  },
  {
   "cell_type": "markdown",
   "metadata": {},
   "source": [
    "Es mejor, pero no mucho mejor. La media es mayor pero igual cercana a la recompensa por estrellar (-100). La desviación es menor, se puede asumir que hubieron algunos episodios donde la nave pudo mantenerse y/o acercarse a la plataforma de aterrizaje antes de estrellar."
   ]
  },
  {
   "cell_type": "markdown",
   "metadata": {
    "id": "x6Xw4YHT3P5d"
   },
   "source": [
    "#### **1.2.5 Optimización de modelo (0.2 puntos)**\n",
    "\n",
    "Repita los ejercicios 1.2.3 y 1.2.4 hasta obtener un nivel de recompensas promedio mayor a 50. Para esto, puede cambiar manualmente parámetros como:\n",
    "- `total_timesteps`\n",
    "- `learning_rate`\n",
    "- `batch_size`\n",
    "\n",
    "Una vez optimizado el modelo, use la función `export_gif` para estudiar el comportamiento de su agente en la resolución del ambiente y comente sobre sus resultados.\n",
    "\n",
    "Adjunte el gif generado en su entrega (mejor aún si además adjuntan el gif en el markdown)."
   ]
  },
  {
   "cell_type": "code",
   "execution_count": 23,
   "metadata": {
    "id": "aItYF6sr6F_6"
   },
   "outputs": [
    {
     "name": "stdout",
     "output_type": "stream",
     "text": [
      "Using cpu device\n",
      "Wrapping the env with a `Monitor` wrapper\n",
      "Wrapping the env in a DummyVecEnv.\n",
      "---------------------------------\n",
      "| rollout/           |          |\n",
      "|    ep_len_mean     | 87.7     |\n",
      "|    ep_rew_mean     | -153     |\n",
      "| time/              |          |\n",
      "|    fps             | 1033     |\n",
      "|    iterations      | 1        |\n",
      "|    time_elapsed    | 1        |\n",
      "|    total_timesteps | 2048     |\n",
      "---------------------------------\n",
      "------------------------------------------\n",
      "| rollout/                |              |\n",
      "|    ep_len_mean          | 87.5         |\n",
      "|    ep_rew_mean          | -142         |\n",
      "| time/                   |              |\n",
      "|    fps                  | 854          |\n",
      "|    iterations           | 2            |\n",
      "|    time_elapsed         | 4            |\n",
      "|    total_timesteps      | 4096         |\n",
      "| train/                  |              |\n",
      "|    approx_kl            | 0.0013028546 |\n",
      "|    clip_fraction        | 0            |\n",
      "|    clip_range           | 0.2          |\n",
      "|    entropy_loss         | -1.39        |\n",
      "|    explained_variance   | 0.002374947  |\n",
      "|    learning_rate        | 0.0001       |\n",
      "|    loss                 | 526          |\n",
      "|    n_updates            | 10           |\n",
      "|    policy_gradient_loss | -0.0036      |\n",
      "|    value_loss           | 1.33e+03     |\n",
      "------------------------------------------\n",
      "-------------------------------------------\n",
      "| rollout/                |               |\n",
      "|    ep_len_mean          | 88.9          |\n",
      "|    ep_rew_mean          | -146          |\n",
      "| time/                   |               |\n",
      "|    fps                  | 803           |\n",
      "|    iterations           | 3             |\n",
      "|    time_elapsed         | 7             |\n",
      "|    total_timesteps      | 6144          |\n",
      "| train/                  |               |\n",
      "|    approx_kl            | 0.00067638373 |\n",
      "|    clip_fraction        | 0             |\n",
      "|    clip_range           | 0.2           |\n",
      "|    entropy_loss         | -1.38         |\n",
      "|    explained_variance   | -0.006182313  |\n",
      "|    learning_rate        | 0.0001        |\n",
      "|    loss                 | 402           |\n",
      "|    n_updates            | 20            |\n",
      "|    policy_gradient_loss | -0.00185      |\n",
      "|    value_loss           | 1.06e+03      |\n",
      "-------------------------------------------\n",
      "-------------------------------------------\n",
      "| rollout/                |               |\n",
      "|    ep_len_mean          | 88            |\n",
      "|    ep_rew_mean          | -136          |\n",
      "| time/                   |               |\n",
      "|    fps                  | 754           |\n",
      "|    iterations           | 4             |\n",
      "|    time_elapsed         | 10            |\n",
      "|    total_timesteps      | 8192          |\n",
      "| train/                  |               |\n",
      "|    approx_kl            | 0.00076524547 |\n",
      "|    clip_fraction        | 0             |\n",
      "|    clip_range           | 0.2           |\n",
      "|    entropy_loss         | -1.38         |\n",
      "|    explained_variance   | 0.0010166168  |\n",
      "|    learning_rate        | 0.0001        |\n",
      "|    loss                 | 617           |\n",
      "|    n_updates            | 30            |\n",
      "|    policy_gradient_loss | -0.00256      |\n",
      "|    value_loss           | 1.34e+03      |\n",
      "-------------------------------------------\n",
      "-------------------------------------------\n",
      "| rollout/                |               |\n",
      "|    ep_len_mean          | 89.1          |\n",
      "|    ep_rew_mean          | -126          |\n",
      "| time/                   |               |\n",
      "|    fps                  | 774           |\n",
      "|    iterations           | 5             |\n",
      "|    time_elapsed         | 13            |\n",
      "|    total_timesteps      | 10240         |\n",
      "| train/                  |               |\n",
      "|    approx_kl            | 0.00051734946 |\n",
      "|    clip_fraction        | 0             |\n",
      "|    clip_range           | 0.2           |\n",
      "|    entropy_loss         | -1.38         |\n",
      "|    explained_variance   | -0.00784409   |\n",
      "|    learning_rate        | 0.0001        |\n",
      "|    loss                 | 288           |\n",
      "|    n_updates            | 40            |\n",
      "|    policy_gradient_loss | -0.000992     |\n",
      "|    value_loss           | 804           |\n",
      "-------------------------------------------\n",
      "------------------------------------------\n",
      "| rollout/                |              |\n",
      "|    ep_len_mean          | 88.6         |\n",
      "|    ep_rew_mean          | -117         |\n",
      "| time/                   |              |\n",
      "|    fps                  | 766          |\n",
      "|    iterations           | 6            |\n",
      "|    time_elapsed         | 16           |\n",
      "|    total_timesteps      | 12288        |\n",
      "| train/                  |              |\n",
      "|    approx_kl            | 0.0012908808 |\n",
      "|    clip_fraction        | 0            |\n",
      "|    clip_range           | 0.2          |\n",
      "|    entropy_loss         | -1.38        |\n",
      "|    explained_variance   | 0.0048072934 |\n",
      "|    learning_rate        | 0.0001       |\n",
      "|    loss                 | 224          |\n",
      "|    n_updates            | 50           |\n",
      "|    policy_gradient_loss | -0.00174     |\n",
      "|    value_loss           | 619          |\n",
      "------------------------------------------\n",
      "------------------------------------------\n",
      "| rollout/                |              |\n",
      "|    ep_len_mean          | 89.5         |\n",
      "|    ep_rew_mean          | -110         |\n",
      "| time/                   |              |\n",
      "|    fps                  | 762          |\n",
      "|    iterations           | 7            |\n",
      "|    time_elapsed         | 18           |\n",
      "|    total_timesteps      | 14336        |\n",
      "| train/                  |              |\n",
      "|    approx_kl            | 0.0017995022 |\n",
      "|    clip_fraction        | 0            |\n",
      "|    clip_range           | 0.2          |\n",
      "|    entropy_loss         | -1.37        |\n",
      "|    explained_variance   | -0.07656562  |\n",
      "|    learning_rate        | 0.0001       |\n",
      "|    loss                 | 249          |\n",
      "|    n_updates            | 60           |\n",
      "|    policy_gradient_loss | -0.00283     |\n",
      "|    value_loss           | 692          |\n",
      "------------------------------------------\n",
      "------------------------------------------\n",
      "| rollout/                |              |\n",
      "|    ep_len_mean          | 91.1         |\n",
      "|    ep_rew_mean          | -103         |\n",
      "| time/                   |              |\n",
      "|    fps                  | 759          |\n",
      "|    iterations           | 8            |\n",
      "|    time_elapsed         | 21           |\n",
      "|    total_timesteps      | 16384        |\n",
      "| train/                  |              |\n",
      "|    approx_kl            | 0.0019645293 |\n",
      "|    clip_fraction        | 0.000293     |\n",
      "|    clip_range           | 0.2          |\n",
      "|    entropy_loss         | -1.37        |\n",
      "|    explained_variance   | -0.040593505 |\n",
      "|    learning_rate        | 0.0001       |\n",
      "|    loss                 | 306          |\n",
      "|    n_updates            | 70           |\n",
      "|    policy_gradient_loss | -0.0041      |\n",
      "|    value_loss           | 731          |\n",
      "------------------------------------------\n",
      "------------------------------------------\n",
      "| rollout/                |              |\n",
      "|    ep_len_mean          | 92.7         |\n",
      "|    ep_rew_mean          | -98          |\n",
      "| time/                   |              |\n",
      "|    fps                  | 759          |\n",
      "|    iterations           | 9            |\n",
      "|    time_elapsed         | 24           |\n",
      "|    total_timesteps      | 18432        |\n",
      "| train/                  |              |\n",
      "|    approx_kl            | 0.00926874   |\n",
      "|    clip_fraction        | 0.0142       |\n",
      "|    clip_range           | 0.2          |\n",
      "|    entropy_loss         | -1.35        |\n",
      "|    explained_variance   | -0.016345143 |\n",
      "|    learning_rate        | 0.0001       |\n",
      "|    loss                 | 217          |\n",
      "|    n_updates            | 80           |\n",
      "|    policy_gradient_loss | -0.0109      |\n",
      "|    value_loss           | 402          |\n",
      "------------------------------------------\n",
      "------------------------------------------\n",
      "| rollout/                |              |\n",
      "|    ep_len_mean          | 94.4         |\n",
      "|    ep_rew_mean          | -88.1        |\n",
      "| time/                   |              |\n",
      "|    fps                  | 767          |\n",
      "|    iterations           | 10           |\n",
      "|    time_elapsed         | 26           |\n",
      "|    total_timesteps      | 20480        |\n",
      "| train/                  |              |\n",
      "|    approx_kl            | 0.011129867  |\n",
      "|    clip_fraction        | 0.0461       |\n",
      "|    clip_range           | 0.2          |\n",
      "|    entropy_loss         | -1.32        |\n",
      "|    explained_variance   | -0.016285062 |\n",
      "|    learning_rate        | 0.0001       |\n",
      "|    loss                 | 126          |\n",
      "|    n_updates            | 90           |\n",
      "|    policy_gradient_loss | -0.00778     |\n",
      "|    value_loss           | 317          |\n",
      "------------------------------------------\n",
      "-------------------------------------------\n",
      "| rollout/                |               |\n",
      "|    ep_len_mean          | 96.2          |\n",
      "|    ep_rew_mean          | -67.9         |\n",
      "| time/                   |               |\n",
      "|    fps                  | 767           |\n",
      "|    iterations           | 11            |\n",
      "|    time_elapsed         | 29            |\n",
      "|    total_timesteps      | 22528         |\n",
      "| train/                  |               |\n",
      "|    approx_kl            | 0.006972287   |\n",
      "|    clip_fraction        | 0.0432        |\n",
      "|    clip_range           | 0.2           |\n",
      "|    entropy_loss         | -1.32         |\n",
      "|    explained_variance   | -0.0028022528 |\n",
      "|    learning_rate        | 0.0001        |\n",
      "|    loss                 | 121           |\n",
      "|    n_updates            | 100           |\n",
      "|    policy_gradient_loss | -0.0122       |\n",
      "|    value_loss           | 243           |\n",
      "-------------------------------------------\n",
      "-------------------------------------------\n",
      "| rollout/                |               |\n",
      "|    ep_len_mean          | 96.7          |\n",
      "|    ep_rew_mean          | -59.7         |\n",
      "| time/                   |               |\n",
      "|    fps                  | 764           |\n",
      "|    iterations           | 12            |\n",
      "|    time_elapsed         | 32            |\n",
      "|    total_timesteps      | 24576         |\n",
      "| train/                  |               |\n",
      "|    approx_kl            | 0.010785021   |\n",
      "|    clip_fraction        | 0.0498        |\n",
      "|    clip_range           | 0.2           |\n",
      "|    entropy_loss         | -1.27         |\n",
      "|    explained_variance   | -0.0040187836 |\n",
      "|    learning_rate        | 0.0001        |\n",
      "|    loss                 | 89            |\n",
      "|    n_updates            | 110           |\n",
      "|    policy_gradient_loss | -0.00596      |\n",
      "|    value_loss           | 213           |\n",
      "-------------------------------------------\n",
      "-------------------------------------------\n",
      "| rollout/                |               |\n",
      "|    ep_len_mean          | 97.3          |\n",
      "|    ep_rew_mean          | -50.7         |\n",
      "| time/                   |               |\n",
      "|    fps                  | 761           |\n",
      "|    iterations           | 13            |\n",
      "|    time_elapsed         | 34            |\n",
      "|    total_timesteps      | 26624         |\n",
      "| train/                  |               |\n",
      "|    approx_kl            | 0.006465061   |\n",
      "|    clip_fraction        | 0.0186        |\n",
      "|    clip_range           | 0.2           |\n",
      "|    entropy_loss         | -1.23         |\n",
      "|    explained_variance   | -0.0053019524 |\n",
      "|    learning_rate        | 0.0001        |\n",
      "|    loss                 | 133           |\n",
      "|    n_updates            | 120           |\n",
      "|    policy_gradient_loss | -0.00648      |\n",
      "|    value_loss           | 343           |\n",
      "-------------------------------------------\n",
      "-------------------------------------------\n",
      "| rollout/                |               |\n",
      "|    ep_len_mean          | 97.9          |\n",
      "|    ep_rew_mean          | -44.3         |\n",
      "| time/                   |               |\n",
      "|    fps                  | 759           |\n",
      "|    iterations           | 14            |\n",
      "|    time_elapsed         | 37            |\n",
      "|    total_timesteps      | 28672         |\n",
      "| train/                  |               |\n",
      "|    approx_kl            | 0.0089672115  |\n",
      "|    clip_fraction        | 0.0707        |\n",
      "|    clip_range           | 0.2           |\n",
      "|    entropy_loss         | -1.2          |\n",
      "|    explained_variance   | -0.0033620596 |\n",
      "|    learning_rate        | 0.0001        |\n",
      "|    loss                 | 77.4          |\n",
      "|    n_updates            | 130           |\n",
      "|    policy_gradient_loss | -0.00939      |\n",
      "|    value_loss           | 153           |\n",
      "-------------------------------------------\n",
      "------------------------------------------\n",
      "| rollout/                |              |\n",
      "|    ep_len_mean          | 98.1         |\n",
      "|    ep_rew_mean          | -40.7        |\n",
      "| time/                   |              |\n",
      "|    fps                  | 757          |\n",
      "|    iterations           | 15           |\n",
      "|    time_elapsed         | 40           |\n",
      "|    total_timesteps      | 30720        |\n",
      "| train/                  |              |\n",
      "|    approx_kl            | 0.005696865  |\n",
      "|    clip_fraction        | 0.0246       |\n",
      "|    clip_range           | 0.2          |\n",
      "|    entropy_loss         | -1.23        |\n",
      "|    explained_variance   | -0.002903819 |\n",
      "|    learning_rate        | 0.0001       |\n",
      "|    loss                 | 40.6         |\n",
      "|    n_updates            | 140          |\n",
      "|    policy_gradient_loss | -0.00663     |\n",
      "|    value_loss           | 135          |\n",
      "------------------------------------------\n",
      "------------------------------------------\n",
      "| rollout/                |              |\n",
      "|    ep_len_mean          | 98.5         |\n",
      "|    ep_rew_mean          | -40          |\n",
      "| time/                   |              |\n",
      "|    fps                  | 755          |\n",
      "|    iterations           | 16           |\n",
      "|    time_elapsed         | 43           |\n",
      "|    total_timesteps      | 32768        |\n",
      "| train/                  |              |\n",
      "|    approx_kl            | 0.0075586457 |\n",
      "|    clip_fraction        | 0.0584       |\n",
      "|    clip_range           | 0.2          |\n",
      "|    entropy_loss         | -1.22        |\n",
      "|    explained_variance   | -0.009236574 |\n",
      "|    learning_rate        | 0.0001       |\n",
      "|    loss                 | 94.7         |\n",
      "|    n_updates            | 150          |\n",
      "|    policy_gradient_loss | -0.0115      |\n",
      "|    value_loss           | 228          |\n",
      "------------------------------------------\n",
      "------------------------------------------\n",
      "| rollout/                |              |\n",
      "|    ep_len_mean          | 99.1         |\n",
      "|    ep_rew_mean          | -32.6        |\n",
      "| time/                   |              |\n",
      "|    fps                  | 756          |\n",
      "|    iterations           | 17           |\n",
      "|    time_elapsed         | 46           |\n",
      "|    total_timesteps      | 34816        |\n",
      "| train/                  |              |\n",
      "|    approx_kl            | 0.010740669  |\n",
      "|    clip_fraction        | 0.0943       |\n",
      "|    clip_range           | 0.2          |\n",
      "|    entropy_loss         | -1.19        |\n",
      "|    explained_variance   | 0.0013312101 |\n",
      "|    learning_rate        | 0.0001       |\n",
      "|    loss                 | 80.1         |\n",
      "|    n_updates            | 160          |\n",
      "|    policy_gradient_loss | -0.0135      |\n",
      "|    value_loss           | 126          |\n",
      "------------------------------------------\n",
      "-------------------------------------------\n",
      "| rollout/                |               |\n",
      "|    ep_len_mean          | 99.4          |\n",
      "|    ep_rew_mean          | -28.5         |\n",
      "| time/                   |               |\n",
      "|    fps                  | 759           |\n",
      "|    iterations           | 18            |\n",
      "|    time_elapsed         | 48            |\n",
      "|    total_timesteps      | 36864         |\n",
      "| train/                  |               |\n",
      "|    approx_kl            | 0.007856041   |\n",
      "|    clip_fraction        | 0.0551        |\n",
      "|    clip_range           | 0.2           |\n",
      "|    entropy_loss         | -1.14         |\n",
      "|    explained_variance   | -0.0012729168 |\n",
      "|    learning_rate        | 0.0001        |\n",
      "|    loss                 | 60.8          |\n",
      "|    n_updates            | 170           |\n",
      "|    policy_gradient_loss | -0.00861      |\n",
      "|    value_loss           | 127           |\n",
      "-------------------------------------------\n",
      "-------------------------------------------\n",
      "| rollout/                |               |\n",
      "|    ep_len_mean          | 99.4          |\n",
      "|    ep_rew_mean          | -13.7         |\n",
      "| time/                   |               |\n",
      "|    fps                  | 761           |\n",
      "|    iterations           | 19            |\n",
      "|    time_elapsed         | 51            |\n",
      "|    total_timesteps      | 38912         |\n",
      "| train/                  |               |\n",
      "|    approx_kl            | 0.006198832   |\n",
      "|    clip_fraction        | 0.064         |\n",
      "|    clip_range           | 0.2           |\n",
      "|    entropy_loss         | -1.18         |\n",
      "|    explained_variance   | -0.0006375313 |\n",
      "|    learning_rate        | 0.0001        |\n",
      "|    loss                 | 25.9          |\n",
      "|    n_updates            | 180           |\n",
      "|    policy_gradient_loss | -0.0113       |\n",
      "|    value_loss           | 56.4          |\n",
      "-------------------------------------------\n",
      "--------------------------------------------\n",
      "| rollout/                |                |\n",
      "|    ep_len_mean          | 99.7           |\n",
      "|    ep_rew_mean          | -1.76          |\n",
      "| time/                   |                |\n",
      "|    fps                  | 761            |\n",
      "|    iterations           | 20             |\n",
      "|    time_elapsed         | 53             |\n",
      "|    total_timesteps      | 40960          |\n",
      "| train/                  |                |\n",
      "|    approx_kl            | 4.3838372e-05  |\n",
      "|    clip_fraction        | 0              |\n",
      "|    clip_range           | 0.2            |\n",
      "|    entropy_loss         | -1.12          |\n",
      "|    explained_variance   | -0.00088250637 |\n",
      "|    learning_rate        | 0.0001         |\n",
      "|    loss                 | 51.8           |\n",
      "|    n_updates            | 190            |\n",
      "|    policy_gradient_loss | -0.000489      |\n",
      "|    value_loss           | 134            |\n",
      "--------------------------------------------\n",
      "-------------------------------------------\n",
      "| rollout/                |               |\n",
      "|    ep_len_mean          | 99.9          |\n",
      "|    ep_rew_mean          | 6.19          |\n",
      "| time/                   |               |\n",
      "|    fps                  | 763           |\n",
      "|    iterations           | 21            |\n",
      "|    time_elapsed         | 56            |\n",
      "|    total_timesteps      | 43008         |\n",
      "| train/                  |               |\n",
      "|    approx_kl            | 0.00019835215 |\n",
      "|    clip_fraction        | 0             |\n",
      "|    clip_range           | 0.2           |\n",
      "|    entropy_loss         | -1.12         |\n",
      "|    explained_variance   | 0.0001167655  |\n",
      "|    learning_rate        | 0.0001        |\n",
      "|    loss                 | 56.5          |\n",
      "|    n_updates            | 200           |\n",
      "|    policy_gradient_loss | -0.000668     |\n",
      "|    value_loss           | 115           |\n",
      "-------------------------------------------\n",
      "--------------------------------------------\n",
      "| rollout/                |                |\n",
      "|    ep_len_mean          | 100            |\n",
      "|    ep_rew_mean          | 14             |\n",
      "| time/                   |                |\n",
      "|    fps                  | 765            |\n",
      "|    iterations           | 22             |\n",
      "|    time_elapsed         | 58             |\n",
      "|    total_timesteps      | 45056          |\n",
      "| train/                  |                |\n",
      "|    approx_kl            | 0.00053511723  |\n",
      "|    clip_fraction        | 0              |\n",
      "|    clip_range           | 0.2            |\n",
      "|    entropy_loss         | -1.12          |\n",
      "|    explained_variance   | -0.00018048286 |\n",
      "|    learning_rate        | 0.0001         |\n",
      "|    loss                 | 38.7           |\n",
      "|    n_updates            | 210            |\n",
      "|    policy_gradient_loss | -0.00122       |\n",
      "|    value_loss           | 78.8           |\n",
      "--------------------------------------------\n",
      "-------------------------------------------\n",
      "| rollout/                |               |\n",
      "|    ep_len_mean          | 100           |\n",
      "|    ep_rew_mean          | 21.2          |\n",
      "| time/                   |               |\n",
      "|    fps                  | 769           |\n",
      "|    iterations           | 23            |\n",
      "|    time_elapsed         | 61            |\n",
      "|    total_timesteps      | 47104         |\n",
      "| train/                  |               |\n",
      "|    approx_kl            | 0.00053795316 |\n",
      "|    clip_fraction        | 0             |\n",
      "|    clip_range           | 0.2           |\n",
      "|    entropy_loss         | -1.08         |\n",
      "|    explained_variance   | 0.00071281195 |\n",
      "|    learning_rate        | 0.0001        |\n",
      "|    loss                 | 34.9          |\n",
      "|    n_updates            | 220           |\n",
      "|    policy_gradient_loss | -0.00143      |\n",
      "|    value_loss           | 88.7          |\n",
      "-------------------------------------------\n",
      "------------------------------------------\n",
      "| rollout/                |              |\n",
      "|    ep_len_mean          | 100          |\n",
      "|    ep_rew_mean          | 21.8         |\n",
      "| time/                   |              |\n",
      "|    fps                  | 774          |\n",
      "|    iterations           | 24           |\n",
      "|    time_elapsed         | 63           |\n",
      "|    total_timesteps      | 49152        |\n",
      "| train/                  |              |\n",
      "|    approx_kl            | 0.0008231263 |\n",
      "|    clip_fraction        | 0            |\n",
      "|    clip_range           | 0.2          |\n",
      "|    entropy_loss         | -1.11        |\n",
      "|    explained_variance   | 0.006267667  |\n",
      "|    learning_rate        | 0.0001       |\n",
      "|    loss                 | 48.5         |\n",
      "|    n_updates            | 230          |\n",
      "|    policy_gradient_loss | -0.00166     |\n",
      "|    value_loss           | 94.1         |\n",
      "------------------------------------------\n",
      "------------------------------------------\n",
      "| rollout/                |              |\n",
      "|    ep_len_mean          | 100          |\n",
      "|    ep_rew_mean          | 18.1         |\n",
      "| time/                   |              |\n",
      "|    fps                  | 778          |\n",
      "|    iterations           | 25           |\n",
      "|    time_elapsed         | 65           |\n",
      "|    total_timesteps      | 51200        |\n",
      "| train/                  |              |\n",
      "|    approx_kl            | 0.0015585537 |\n",
      "|    clip_fraction        | 0            |\n",
      "|    clip_range           | 0.2          |\n",
      "|    entropy_loss         | -1.1         |\n",
      "|    explained_variance   | 0.0031808615 |\n",
      "|    learning_rate        | 0.0001       |\n",
      "|    loss                 | 36.9         |\n",
      "|    n_updates            | 240          |\n",
      "|    policy_gradient_loss | -0.00214     |\n",
      "|    value_loss           | 78.2         |\n",
      "------------------------------------------\n",
      "------------------------------------------\n",
      "| rollout/                |              |\n",
      "|    ep_len_mean          | 100          |\n",
      "|    ep_rew_mean          | 16.3         |\n",
      "| time/                   |              |\n",
      "|    fps                  | 780          |\n",
      "|    iterations           | 26           |\n",
      "|    time_elapsed         | 68           |\n",
      "|    total_timesteps      | 53248        |\n",
      "| train/                  |              |\n",
      "|    approx_kl            | 0.002778776  |\n",
      "|    clip_fraction        | 0.000879     |\n",
      "|    clip_range           | 0.2          |\n",
      "|    entropy_loss         | -1.09        |\n",
      "|    explained_variance   | 0.0033420324 |\n",
      "|    learning_rate        | 0.0001       |\n",
      "|    loss                 | 43.2         |\n",
      "|    n_updates            | 250          |\n",
      "|    policy_gradient_loss | -0.00202     |\n",
      "|    value_loss           | 74.4         |\n",
      "------------------------------------------\n",
      "------------------------------------------\n",
      "| rollout/                |              |\n",
      "|    ep_len_mean          | 100          |\n",
      "|    ep_rew_mean          | 15.1         |\n",
      "| time/                   |              |\n",
      "|    fps                  | 782          |\n",
      "|    iterations           | 27           |\n",
      "|    time_elapsed         | 70           |\n",
      "|    total_timesteps      | 55296        |\n",
      "| train/                  |              |\n",
      "|    approx_kl            | 0.0049438123 |\n",
      "|    clip_fraction        | 0.0152       |\n",
      "|    clip_range           | 0.2          |\n",
      "|    entropy_loss         | -1.09        |\n",
      "|    explained_variance   | 0.032244265  |\n",
      "|    learning_rate        | 0.0001       |\n",
      "|    loss                 | 29.9         |\n",
      "|    n_updates            | 260          |\n",
      "|    policy_gradient_loss | -0.0034      |\n",
      "|    value_loss           | 64.9         |\n",
      "------------------------------------------\n",
      "------------------------------------------\n",
      "| rollout/                |              |\n",
      "|    ep_len_mean          | 100          |\n",
      "|    ep_rew_mean          | 13.1         |\n",
      "| time/                   |              |\n",
      "|    fps                  | 783          |\n",
      "|    iterations           | 28           |\n",
      "|    time_elapsed         | 73           |\n",
      "|    total_timesteps      | 57344        |\n",
      "| train/                  |              |\n",
      "|    approx_kl            | 0.0017927969 |\n",
      "|    clip_fraction        | 0            |\n",
      "|    clip_range           | 0.2          |\n",
      "|    entropy_loss         | -1.1         |\n",
      "|    explained_variance   | 0.10817218   |\n",
      "|    learning_rate        | 0.0001       |\n",
      "|    loss                 | 34.5         |\n",
      "|    n_updates            | 270          |\n",
      "|    policy_gradient_loss | -0.00181     |\n",
      "|    value_loss           | 70.5         |\n",
      "------------------------------------------\n",
      "-----------------------------------------\n",
      "| rollout/                |             |\n",
      "|    ep_len_mean          | 100         |\n",
      "|    ep_rew_mean          | 13.3        |\n",
      "| time/                   |             |\n",
      "|    fps                  | 785         |\n",
      "|    iterations           | 29          |\n",
      "|    time_elapsed         | 75          |\n",
      "|    total_timesteps      | 59392       |\n",
      "| train/                  |             |\n",
      "|    approx_kl            | 0.00641432  |\n",
      "|    clip_fraction        | 0.0548      |\n",
      "|    clip_range           | 0.2         |\n",
      "|    entropy_loss         | -1.09       |\n",
      "|    explained_variance   | 0.052233458 |\n",
      "|    learning_rate        | 0.0001      |\n",
      "|    loss                 | 50.5        |\n",
      "|    n_updates            | 280         |\n",
      "|    policy_gradient_loss | -0.00634    |\n",
      "|    value_loss           | 99.8        |\n",
      "-----------------------------------------\n",
      "-----------------------------------------\n",
      "| rollout/                |             |\n",
      "|    ep_len_mean          | 100         |\n",
      "|    ep_rew_mean          | 13.8        |\n",
      "| time/                   |             |\n",
      "|    fps                  | 784         |\n",
      "|    iterations           | 30          |\n",
      "|    time_elapsed         | 78          |\n",
      "|    total_timesteps      | 61440       |\n",
      "| train/                  |             |\n",
      "|    approx_kl            | 0.004047575 |\n",
      "|    clip_fraction        | 0.00117     |\n",
      "|    clip_range           | 0.2         |\n",
      "|    entropy_loss         | -1.03       |\n",
      "|    explained_variance   | 0.1106897   |\n",
      "|    learning_rate        | 0.0001      |\n",
      "|    loss                 | 37.3        |\n",
      "|    n_updates            | 290         |\n",
      "|    policy_gradient_loss | -0.00157    |\n",
      "|    value_loss           | 82.9        |\n",
      "-----------------------------------------\n",
      "------------------------------------------\n",
      "| rollout/                |              |\n",
      "|    ep_len_mean          | 100          |\n",
      "|    ep_rew_mean          | 18.9         |\n",
      "| time/                   |              |\n",
      "|    fps                  | 786          |\n",
      "|    iterations           | 31           |\n",
      "|    time_elapsed         | 80           |\n",
      "|    total_timesteps      | 63488        |\n",
      "| train/                  |              |\n",
      "|    approx_kl            | 0.0046732463 |\n",
      "|    clip_fraction        | 0.0179       |\n",
      "|    clip_range           | 0.2          |\n",
      "|    entropy_loss         | -1.09        |\n",
      "|    explained_variance   | 0.19409901   |\n",
      "|    learning_rate        | 0.0001       |\n",
      "|    loss                 | 21.6         |\n",
      "|    n_updates            | 300          |\n",
      "|    policy_gradient_loss | -0.0028      |\n",
      "|    value_loss           | 61.4         |\n",
      "------------------------------------------\n",
      "-----------------------------------------\n",
      "| rollout/                |             |\n",
      "|    ep_len_mean          | 100         |\n",
      "|    ep_rew_mean          | 19.7        |\n",
      "| time/                   |             |\n",
      "|    fps                  | 790         |\n",
      "|    iterations           | 32          |\n",
      "|    time_elapsed         | 82          |\n",
      "|    total_timesteps      | 65536       |\n",
      "| train/                  |             |\n",
      "|    approx_kl            | 0.001672385 |\n",
      "|    clip_fraction        | 0           |\n",
      "|    clip_range           | 0.2         |\n",
      "|    entropy_loss         | -1.04       |\n",
      "|    explained_variance   | 0.26276493  |\n",
      "|    learning_rate        | 0.0001      |\n",
      "|    loss                 | 28.3        |\n",
      "|    n_updates            | 310         |\n",
      "|    policy_gradient_loss | -0.00119    |\n",
      "|    value_loss           | 61.5        |\n",
      "-----------------------------------------\n",
      "-----------------------------------------\n",
      "| rollout/                |             |\n",
      "|    ep_len_mean          | 100         |\n",
      "|    ep_rew_mean          | 23.2        |\n",
      "| time/                   |             |\n",
      "|    fps                  | 789         |\n",
      "|    iterations           | 33          |\n",
      "|    time_elapsed         | 85          |\n",
      "|    total_timesteps      | 67584       |\n",
      "| train/                  |             |\n",
      "|    approx_kl            | 0.005724188 |\n",
      "|    clip_fraction        | 0.0112      |\n",
      "|    clip_range           | 0.2         |\n",
      "|    entropy_loss         | -1.08       |\n",
      "|    explained_variance   | 0.31605256  |\n",
      "|    learning_rate        | 0.0001      |\n",
      "|    loss                 | 28.3        |\n",
      "|    n_updates            | 320         |\n",
      "|    policy_gradient_loss | -0.00368    |\n",
      "|    value_loss           | 49          |\n",
      "-----------------------------------------\n",
      "------------------------------------------\n",
      "| rollout/                |              |\n",
      "|    ep_len_mean          | 100          |\n",
      "|    ep_rew_mean          | 24.2         |\n",
      "| time/                   |              |\n",
      "|    fps                  | 791          |\n",
      "|    iterations           | 34           |\n",
      "|    time_elapsed         | 87           |\n",
      "|    total_timesteps      | 69632        |\n",
      "| train/                  |              |\n",
      "|    approx_kl            | 0.0009433538 |\n",
      "|    clip_fraction        | 0            |\n",
      "|    clip_range           | 0.2          |\n",
      "|    entropy_loss         | -1.05        |\n",
      "|    explained_variance   | 0.2369098    |\n",
      "|    learning_rate        | 0.0001       |\n",
      "|    loss                 | 49.3         |\n",
      "|    n_updates            | 330          |\n",
      "|    policy_gradient_loss | -0.00153     |\n",
      "|    value_loss           | 89.4         |\n",
      "------------------------------------------\n",
      "-----------------------------------------\n",
      "| rollout/                |             |\n",
      "|    ep_len_mean          | 100         |\n",
      "|    ep_rew_mean          | 27.2        |\n",
      "| time/                   |             |\n",
      "|    fps                  | 793         |\n",
      "|    iterations           | 35          |\n",
      "|    time_elapsed         | 90          |\n",
      "|    total_timesteps      | 71680       |\n",
      "| train/                  |             |\n",
      "|    approx_kl            | 0.006201758 |\n",
      "|    clip_fraction        | 0.043       |\n",
      "|    clip_range           | 0.2         |\n",
      "|    entropy_loss         | -1.05       |\n",
      "|    explained_variance   | 0.27775717  |\n",
      "|    learning_rate        | 0.0001      |\n",
      "|    loss                 | 39.3        |\n",
      "|    n_updates            | 340         |\n",
      "|    policy_gradient_loss | -0.00578    |\n",
      "|    value_loss           | 78.7        |\n",
      "-----------------------------------------\n",
      "------------------------------------------\n",
      "| rollout/                |              |\n",
      "|    ep_len_mean          | 100          |\n",
      "|    ep_rew_mean          | 24.5         |\n",
      "| time/                   |              |\n",
      "|    fps                  | 793          |\n",
      "|    iterations           | 36           |\n",
      "|    time_elapsed         | 92           |\n",
      "|    total_timesteps      | 73728        |\n",
      "| train/                  |              |\n",
      "|    approx_kl            | 0.0064433664 |\n",
      "|    clip_fraction        | 0.00215      |\n",
      "|    clip_range           | 0.2          |\n",
      "|    entropy_loss         | -1.03        |\n",
      "|    explained_variance   | 0.27631468   |\n",
      "|    learning_rate        | 0.0001       |\n",
      "|    loss                 | 33.8         |\n",
      "|    n_updates            | 350          |\n",
      "|    policy_gradient_loss | -0.00205     |\n",
      "|    value_loss           | 72           |\n",
      "------------------------------------------\n",
      "-----------------------------------------\n",
      "| rollout/                |             |\n",
      "|    ep_len_mean          | 100         |\n",
      "|    ep_rew_mean          | 27          |\n",
      "| time/                   |             |\n",
      "|    fps                  | 794         |\n",
      "|    iterations           | 37          |\n",
      "|    time_elapsed         | 95          |\n",
      "|    total_timesteps      | 75776       |\n",
      "| train/                  |             |\n",
      "|    approx_kl            | 0.004217263 |\n",
      "|    clip_fraction        | 0.00493     |\n",
      "|    clip_range           | 0.2         |\n",
      "|    entropy_loss         | -1.07       |\n",
      "|    explained_variance   | 0.3420059   |\n",
      "|    learning_rate        | 0.0001      |\n",
      "|    loss                 | 34.1        |\n",
      "|    n_updates            | 360         |\n",
      "|    policy_gradient_loss | -0.00308    |\n",
      "|    value_loss           | 65.6        |\n",
      "-----------------------------------------\n",
      "------------------------------------------\n",
      "| rollout/                |              |\n",
      "|    ep_len_mean          | 100          |\n",
      "|    ep_rew_mean          | 27.7         |\n",
      "| time/                   |              |\n",
      "|    fps                  | 795          |\n",
      "|    iterations           | 38           |\n",
      "|    time_elapsed         | 97           |\n",
      "|    total_timesteps      | 77824        |\n",
      "| train/                  |              |\n",
      "|    approx_kl            | 0.0069017354 |\n",
      "|    clip_fraction        | 0.0357       |\n",
      "|    clip_range           | 0.2          |\n",
      "|    entropy_loss         | -1.03        |\n",
      "|    explained_variance   | 0.32042074   |\n",
      "|    learning_rate        | 0.0001       |\n",
      "|    loss                 | 37.9         |\n",
      "|    n_updates            | 370          |\n",
      "|    policy_gradient_loss | -0.00529     |\n",
      "|    value_loss           | 79.2         |\n",
      "------------------------------------------\n",
      "------------------------------------------\n",
      "| rollout/                |              |\n",
      "|    ep_len_mean          | 100          |\n",
      "|    ep_rew_mean          | 28.4         |\n",
      "| time/                   |              |\n",
      "|    fps                  | 796          |\n",
      "|    iterations           | 39           |\n",
      "|    time_elapsed         | 100          |\n",
      "|    total_timesteps      | 79872        |\n",
      "| train/                  |              |\n",
      "|    approx_kl            | 0.0062358696 |\n",
      "|    clip_fraction        | 0.0563       |\n",
      "|    clip_range           | 0.2          |\n",
      "|    entropy_loss         | -1.02        |\n",
      "|    explained_variance   | 0.30854803   |\n",
      "|    learning_rate        | 0.0001       |\n",
      "|    loss                 | 38           |\n",
      "|    n_updates            | 380          |\n",
      "|    policy_gradient_loss | -0.00701     |\n",
      "|    value_loss           | 64.8         |\n",
      "------------------------------------------\n",
      "------------------------------------------\n",
      "| rollout/                |              |\n",
      "|    ep_len_mean          | 100          |\n",
      "|    ep_rew_mean          | 27.2         |\n",
      "| time/                   |              |\n",
      "|    fps                  | 797          |\n",
      "|    iterations           | 40           |\n",
      "|    time_elapsed         | 102          |\n",
      "|    total_timesteps      | 81920        |\n",
      "| train/                  |              |\n",
      "|    approx_kl            | 0.0062539773 |\n",
      "|    clip_fraction        | 0.0395       |\n",
      "|    clip_range           | 0.2          |\n",
      "|    entropy_loss         | -1.02        |\n",
      "|    explained_variance   | 0.25661737   |\n",
      "|    learning_rate        | 0.0001       |\n",
      "|    loss                 | 26.4         |\n",
      "|    n_updates            | 390          |\n",
      "|    policy_gradient_loss | -0.0051      |\n",
      "|    value_loss           | 53.5         |\n",
      "------------------------------------------\n",
      "-----------------------------------------\n",
      "| rollout/                |             |\n",
      "|    ep_len_mean          | 100         |\n",
      "|    ep_rew_mean          | 32.6        |\n",
      "| time/                   |             |\n",
      "|    fps                  | 797         |\n",
      "|    iterations           | 41          |\n",
      "|    time_elapsed         | 105         |\n",
      "|    total_timesteps      | 83968       |\n",
      "| train/                  |             |\n",
      "|    approx_kl            | 0.008734476 |\n",
      "|    clip_fraction        | 0.0626      |\n",
      "|    clip_range           | 0.2         |\n",
      "|    entropy_loss         | -1.07       |\n",
      "|    explained_variance   | 0.32848942  |\n",
      "|    learning_rate        | 0.0001      |\n",
      "|    loss                 | 24.6        |\n",
      "|    n_updates            | 400         |\n",
      "|    policy_gradient_loss | -0.00404    |\n",
      "|    value_loss           | 49.1        |\n",
      "-----------------------------------------\n",
      "-----------------------------------------\n",
      "| rollout/                |             |\n",
      "|    ep_len_mean          | 100         |\n",
      "|    ep_rew_mean          | 32.6        |\n",
      "| time/                   |             |\n",
      "|    fps                  | 796         |\n",
      "|    iterations           | 42          |\n",
      "|    time_elapsed         | 107         |\n",
      "|    total_timesteps      | 86016       |\n",
      "| train/                  |             |\n",
      "|    approx_kl            | 0.005722766 |\n",
      "|    clip_fraction        | 0.0229      |\n",
      "|    clip_range           | 0.2         |\n",
      "|    entropy_loss         | -1          |\n",
      "|    explained_variance   | 0.24138373  |\n",
      "|    learning_rate        | 0.0001      |\n",
      "|    loss                 | 38.9        |\n",
      "|    n_updates            | 410         |\n",
      "|    policy_gradient_loss | -0.00391    |\n",
      "|    value_loss           | 79          |\n",
      "-----------------------------------------\n",
      "-----------------------------------------\n",
      "| rollout/                |             |\n",
      "|    ep_len_mean          | 100         |\n",
      "|    ep_rew_mean          | 32.6        |\n",
      "| time/                   |             |\n",
      "|    fps                  | 796         |\n",
      "|    iterations           | 43          |\n",
      "|    time_elapsed         | 110         |\n",
      "|    total_timesteps      | 88064       |\n",
      "| train/                  |             |\n",
      "|    approx_kl            | 0.007357894 |\n",
      "|    clip_fraction        | 0.04        |\n",
      "|    clip_range           | 0.2         |\n",
      "|    entropy_loss         | -0.98       |\n",
      "|    explained_variance   | 0.22092348  |\n",
      "|    learning_rate        | 0.0001      |\n",
      "|    loss                 | 23.4        |\n",
      "|    n_updates            | 420         |\n",
      "|    policy_gradient_loss | -0.00435    |\n",
      "|    value_loss           | 55.1        |\n",
      "-----------------------------------------\n",
      "------------------------------------------\n",
      "| rollout/                |              |\n",
      "|    ep_len_mean          | 100          |\n",
      "|    ep_rew_mean          | 33.8         |\n",
      "| time/                   |              |\n",
      "|    fps                  | 795          |\n",
      "|    iterations           | 44           |\n",
      "|    time_elapsed         | 113          |\n",
      "|    total_timesteps      | 90112        |\n",
      "| train/                  |              |\n",
      "|    approx_kl            | 0.0090043945 |\n",
      "|    clip_fraction        | 0.0147       |\n",
      "|    clip_range           | 0.2          |\n",
      "|    entropy_loss         | -0.969       |\n",
      "|    explained_variance   | 0.26904637   |\n",
      "|    learning_rate        | 0.0001       |\n",
      "|    loss                 | 32.5         |\n",
      "|    n_updates            | 430          |\n",
      "|    policy_gradient_loss | -0.00198     |\n",
      "|    value_loss           | 52.1         |\n",
      "------------------------------------------\n",
      "------------------------------------------\n",
      "| rollout/                |              |\n",
      "|    ep_len_mean          | 100          |\n",
      "|    ep_rew_mean          | 34.2         |\n",
      "| time/                   |              |\n",
      "|    fps                  | 795          |\n",
      "|    iterations           | 45           |\n",
      "|    time_elapsed         | 115          |\n",
      "|    total_timesteps      | 92160        |\n",
      "| train/                  |              |\n",
      "|    approx_kl            | 0.0065284222 |\n",
      "|    clip_fraction        | 0.0134       |\n",
      "|    clip_range           | 0.2          |\n",
      "|    entropy_loss         | -0.973       |\n",
      "|    explained_variance   | 0.31907976   |\n",
      "|    learning_rate        | 0.0001       |\n",
      "|    loss                 | 31           |\n",
      "|    n_updates            | 440          |\n",
      "|    policy_gradient_loss | -0.00376     |\n",
      "|    value_loss           | 68.3         |\n",
      "------------------------------------------\n",
      "-----------------------------------------\n",
      "| rollout/                |             |\n",
      "|    ep_len_mean          | 100         |\n",
      "|    ep_rew_mean          | 33.2        |\n",
      "| time/                   |             |\n",
      "|    fps                  | 795         |\n",
      "|    iterations           | 46          |\n",
      "|    time_elapsed         | 118         |\n",
      "|    total_timesteps      | 94208       |\n",
      "| train/                  |             |\n",
      "|    approx_kl            | 0.003017269 |\n",
      "|    clip_fraction        | 0.0104      |\n",
      "|    clip_range           | 0.2         |\n",
      "|    entropy_loss         | -0.97       |\n",
      "|    explained_variance   | 0.29875535  |\n",
      "|    learning_rate        | 0.0001      |\n",
      "|    loss                 | 31.4        |\n",
      "|    n_updates            | 450         |\n",
      "|    policy_gradient_loss | -0.00304    |\n",
      "|    value_loss           | 56.4        |\n",
      "-----------------------------------------\n",
      "------------------------------------------\n",
      "| rollout/                |              |\n",
      "|    ep_len_mean          | 100          |\n",
      "|    ep_rew_mean          | 33.8         |\n",
      "| time/                   |              |\n",
      "|    fps                  | 795          |\n",
      "|    iterations           | 47           |\n",
      "|    time_elapsed         | 120          |\n",
      "|    total_timesteps      | 96256        |\n",
      "| train/                  |              |\n",
      "|    approx_kl            | 0.0053999536 |\n",
      "|    clip_fraction        | 0.032        |\n",
      "|    clip_range           | 0.2          |\n",
      "|    entropy_loss         | -0.976       |\n",
      "|    explained_variance   | 0.30124474   |\n",
      "|    learning_rate        | 0.0001       |\n",
      "|    loss                 | 36.3         |\n",
      "|    n_updates            | 460          |\n",
      "|    policy_gradient_loss | -0.00454     |\n",
      "|    value_loss           | 77.6         |\n",
      "------------------------------------------\n",
      "------------------------------------------\n",
      "| rollout/                |              |\n",
      "|    ep_len_mean          | 100          |\n",
      "|    ep_rew_mean          | 33.1         |\n",
      "| time/                   |              |\n",
      "|    fps                  | 795          |\n",
      "|    iterations           | 48           |\n",
      "|    time_elapsed         | 123          |\n",
      "|    total_timesteps      | 98304        |\n",
      "| train/                  |              |\n",
      "|    approx_kl            | 0.0046101524 |\n",
      "|    clip_fraction        | 0.0136       |\n",
      "|    clip_range           | 0.2          |\n",
      "|    entropy_loss         | -1.04        |\n",
      "|    explained_variance   | 0.37925047   |\n",
      "|    learning_rate        | 0.0001       |\n",
      "|    loss                 | 30.5         |\n",
      "|    n_updates            | 470          |\n",
      "|    policy_gradient_loss | -0.00178     |\n",
      "|    value_loss           | 57.3         |\n",
      "------------------------------------------\n",
      "------------------------------------------\n",
      "| rollout/                |              |\n",
      "|    ep_len_mean          | 100          |\n",
      "|    ep_rew_mean          | 33.3         |\n",
      "| time/                   |              |\n",
      "|    fps                  | 795          |\n",
      "|    iterations           | 49           |\n",
      "|    time_elapsed         | 126          |\n",
      "|    total_timesteps      | 100352       |\n",
      "| train/                  |              |\n",
      "|    approx_kl            | 0.0051352773 |\n",
      "|    clip_fraction        | 0.036        |\n",
      "|    clip_range           | 0.2          |\n",
      "|    entropy_loss         | -1.05        |\n",
      "|    explained_variance   | 0.20382279   |\n",
      "|    learning_rate        | 0.0001       |\n",
      "|    loss                 | 28           |\n",
      "|    n_updates            | 480          |\n",
      "|    policy_gradient_loss | -0.00454     |\n",
      "|    value_loss           | 54.7         |\n",
      "------------------------------------------\n"
     ]
    }
   ],
   "source": [
    "model = train_ppo(timestepts=100000, lr=0.0001, batch_size=128, save=True)"
   ]
  },
  {
   "cell_type": "code",
   "execution_count": 24,
   "metadata": {},
   "outputs": [],
   "source": [
    "epochs = 1\n",
    "rewards = []\n",
    "for epoch in range(epochs):\n",
    "    obs, _ = env.reset()\n",
    "    done = False\n",
    "    reward = 0\n",
    "    while not done:\n",
    "        # action, _ = model.predict(obs)\n",
    "        action, _ = model.predict(obs)\n",
    "        obs, r, done, _, _ = env.step(action)\n",
    "        reward += r\n",
    "    # Solo queremos la recompensa\n",
    "    rewards.append(reward)"
   ]
  },
  {
   "cell_type": "code",
   "execution_count": 25,
   "metadata": {},
   "outputs": [
    {
     "name": "stdout",
     "output_type": "stream",
     "text": [
      "Media: -55.37642261371896\n",
      "Desviación: nan\n"
     ]
    }
   ],
   "source": [
    "rewards = pd.Series(rewards)\n",
    "print(\"Media:\", rewards.mean())\n",
    "print(\"Desviación:\", rewards.std())"
   ]
  },
  {
   "cell_type": "code",
   "execution_count": 26,
   "metadata": {},
   "outputs": [],
   "source": [
    "export_gif(model)"
   ]
  },
  {
   "cell_type": "markdown",
   "metadata": {},
   "source": [
    "<p align=\"center\">\n",
    "  <img src=\"./lab11/\"\n",
    "\" width=\"400\">\n",
    "</p>"
   ]
  },
  {
   "cell_type": "markdown",
   "metadata": {
    "id": "mPUY-Ktgf2BO"
   },
   "source": [
    "## **2. Large Language Models (4.0 puntos)**\n",
    "\n",
    "En esta sección se enfocarán en habilitar un Chatbot que nos permita responder preguntas útiles a través de LLMs."
   ]
  },
  {
   "cell_type": "markdown",
   "metadata": {
    "id": "mQ4fPRRihGLe"
   },
   "source": [
    "### **2.0 Configuración Inicial**\n",
    "\n",
    "<p align=\"center\">\n",
    "  <img src=\"https://media1.tenor.com/m/uqAs9atZH58AAAAd/config-config-issue.gif\"\n",
    "\" width=\"400\">\n",
    "</p>\n",
    "\n",
    "Como siempre, cargamos todas nuestras API KEY al entorno:"
   ]
  },
  {
   "cell_type": "code",
   "execution_count": 27,
   "metadata": {
    "id": "Ud2Xm_k-hFJn"
   },
   "outputs": [],
   "source": [
    "# import getpass\n",
    "# import os\n",
    "\n",
    "# if \"GOOGLE_API_KEY\" not in os.environ:\n",
    "#     os.environ[\"GOOGLE_API_KEY\"] = getpass.getpass(\"Enter your Google AI API key: \")\n",
    "\n",
    "# if \"TAVILY_API_KEY\" not in os.environ:\n",
    "#     os.environ[\"TAVILY_API_KEY\"] = getpass.getpass(\"Enter your Tavily API key: \")"
   ]
  },
  {
   "cell_type": "markdown",
   "metadata": {
    "id": "Rj9JvQUsgZZJ"
   },
   "source": [
    "### **2.1 Retrieval Augmented Generation (1.5 puntos)**\n",
    "\n",
    "<p align=\"center\">\n",
    "  <img src=\"https://y.yarn.co/218aaa02-c47e-4ec9-b1c9-07792a06a88f_text.gif\"\n",
    "\" width=\"400\">\n",
    "</p>\n",
    "\n",
    "El objetivo de esta subsección es que habiliten un chatbot que pueda responder preguntas usando información contenida en documentos PDF a través de **Retrieval Augmented Generation.**"
   ]
  },
  {
   "cell_type": "markdown",
   "metadata": {
    "id": "ZrxOQroVnaZ5"
   },
   "source": [
    "#### **2.1.1 Reunir Documentos (0 puntos)**\n",
    "\n",
    "Reuna documentos PDF sobre los que hacer preguntas siguiendo las siguientes instrucciones:\n",
    "  - 2 documentos .pdf como mínimo.\n",
    "  - 50 páginas de contenido como mínimo entre todos los documentos.\n",
    "  - Ideas para documentos: Documentos relacionados a temas académicos, laborales o de ocio. Aprovechen este ejercicio para construir algo útil y/o relevante para ustedes!\n",
    "  - Deben ocupar documentos reales, no pueden utilizar los mismos de la clase.\n",
    "  - Deben registrar sus documentos en la siguiente [planilla](https://docs.google.com/spreadsheets/d/1Hy1w_dOiG2UCHJ8muyxhdKPZEPrrL7BNHm6E90imIIM/edit?usp=sharing). **NO PUEDEN USAR LOS MISMOS DOCUMENTOS QUE OTRO GRUPO**\n",
    "  - **Recuerden adjuntar los documentos en su entrega**."
   ]
  },
  {
   "cell_type": "code",
   "execution_count": 28,
   "metadata": {
    "colab": {
     "base_uri": "https://localhost:8080/"
    },
    "id": "5D1tIRCi4oJJ",
    "outputId": "39f6d4fc-63cb-4b9b-d48f-48d60df25ee5"
   },
   "outputs": [
    {
     "name": "stdout",
     "output_type": "stream",
     "text": [
      "Note: you may need to restart the kernel to use updated packages.\n"
     ]
    },
    {
     "name": "stderr",
     "output_type": "stream",
     "text": [
      "\n",
      "[notice] A new release of pip is available: 24.2 -> 24.3.1\n",
      "[notice] To update, run: python.exe -m pip install --upgrade pip\n"
     ]
    }
   ],
   "source": [
    "%pip install --upgrade --quiet PyPDF2"
   ]
  },
  {
   "cell_type": "code",
   "execution_count": 29,
   "metadata": {
    "id": "kzq2TjWCnu15"
   },
   "outputs": [
    {
     "ename": "AssertionError",
     "evalue": "Deben adjuntar un mínimo de 2 documentos",
     "output_type": "error",
     "traceback": [
      "\u001b[1;31m---------------------------------------------------------------------------\u001b[0m",
      "\u001b[1;31mAssertionError\u001b[0m                            Traceback (most recent call last)",
      "Cell \u001b[1;32mIn[29], line 5\u001b[0m\n\u001b[0;32m      1\u001b[0m \u001b[38;5;28;01mimport\u001b[39;00m \u001b[38;5;21;01mPyPDF2\u001b[39;00m\n\u001b[0;32m      3\u001b[0m doc_paths \u001b[38;5;241m=\u001b[39m [] \u001b[38;5;66;03m# rellenar con los path a sus documentos\u001b[39;00m\n\u001b[1;32m----> 5\u001b[0m \u001b[38;5;28;01massert\u001b[39;00m \u001b[38;5;28mlen\u001b[39m(doc_paths) \u001b[38;5;241m>\u001b[39m\u001b[38;5;241m=\u001b[39m \u001b[38;5;241m2\u001b[39m, \u001b[38;5;124m\"\u001b[39m\u001b[38;5;124mDeben adjuntar un mínimo de 2 documentos\u001b[39m\u001b[38;5;124m\"\u001b[39m\n\u001b[0;32m      7\u001b[0m total_paginas \u001b[38;5;241m=\u001b[39m \u001b[38;5;28msum\u001b[39m(\u001b[38;5;28mlen\u001b[39m(PyPDF2\u001b[38;5;241m.\u001b[39mPdfReader(\u001b[38;5;28mopen\u001b[39m(doc, \u001b[38;5;124m\"\u001b[39m\u001b[38;5;124mrb\u001b[39m\u001b[38;5;124m\"\u001b[39m))\u001b[38;5;241m.\u001b[39mpages) \u001b[38;5;28;01mfor\u001b[39;00m doc \u001b[38;5;129;01min\u001b[39;00m doc_paths)\n\u001b[0;32m      8\u001b[0m \u001b[38;5;28;01massert\u001b[39;00m total_paginas \u001b[38;5;241m>\u001b[39m\u001b[38;5;241m=\u001b[39m \u001b[38;5;241m50\u001b[39m, \u001b[38;5;124mf\u001b[39m\u001b[38;5;124m\"\u001b[39m\u001b[38;5;124mPáginas insuficientes: \u001b[39m\u001b[38;5;132;01m{\u001b[39;00mtotal_paginas\u001b[38;5;132;01m}\u001b[39;00m\u001b[38;5;124m\"\u001b[39m\n",
      "\u001b[1;31mAssertionError\u001b[0m: Deben adjuntar un mínimo de 2 documentos"
     ]
    }
   ],
   "source": [
    "import PyPDF2\n",
    "\n",
    "doc_paths = [] # rellenar con los path a sus documentos\n",
    "\n",
    "assert len(doc_paths) >= 2, \"Deben adjuntar un mínimo de 2 documentos\"\n",
    "\n",
    "total_paginas = sum(len(PyPDF2.PdfReader(open(doc, \"rb\")).pages) for doc in doc_paths)\n",
    "assert total_paginas >= 50, f\"Páginas insuficientes: {total_paginas}\""
   ]
  },
  {
   "cell_type": "markdown",
   "metadata": {
    "id": "r811-P71nizA"
   },
   "source": [
    "#### **2.1.2 Vectorizar Documentos (0.2 puntos)**\n",
    "\n",
    "Vectorice los documentos y almacene sus representaciones de manera acorde."
   ]
  },
  {
   "cell_type": "code",
   "execution_count": null,
   "metadata": {
    "id": "n-yXAdCSn4JM"
   },
   "outputs": [],
   "source": []
  },
  {
   "cell_type": "markdown",
   "metadata": {
    "id": "hAUkP5zrnyBK"
   },
   "source": [
    "#### **2.1.3 Habilitar RAG (0.3 puntos)**\n",
    "\n",
    "Habilite la solución RAG a través de una *chain* y guárdela en una variable."
   ]
  },
  {
   "cell_type": "code",
   "execution_count": null,
   "metadata": {
    "id": "gPIySdDFn99l"
   },
   "outputs": [],
   "source": []
  },
  {
   "cell_type": "markdown",
   "metadata": {
    "id": "ycg5S5i_n-kL"
   },
   "source": [
    "#### **2.1.4 Verificación de respuestas (0.5 puntos)**\n",
    "\n",
    "Genere un listado de 3 tuplas (\"pregunta\", \"respuesta correcta\") y analice la respuesta de su solución para cada una. ¿Su solución RAG entrega las respuestas que esperaba?\n",
    "\n",
    "Ejemplo de tupla:\n",
    "- Pregunta: ¿Quién es el presidente de Chile?\n",
    "- Respuesta correcta: El presidente de Chile es Gabriel Boric"
   ]
  },
  {
   "cell_type": "code",
   "execution_count": null,
   "metadata": {
    "id": "S_UiEn1hoZYR"
   },
   "outputs": [],
   "source": []
  },
  {
   "cell_type": "markdown",
   "metadata": {
    "id": "X8d5zTMHoUgF"
   },
   "source": [
    "#### **2.1.5 Sensibilidad de Hiperparámetros (0.5 puntos)**\n",
    "\n",
    "Extienda el análisis del punto 2.1.4 analizando cómo cambian las respuestas entregadas cambiando los siguientes hiperparámetros:\n",
    "- `Tamaño del chunk`. (*¿Cómo repercute que los chunks sean mas grandes o chicos?*)\n",
    "- `La cantidad de chunks recuperados`. (*¿Qué pasa si se devuelven muchos/pocos chunks?*)\n",
    "- `El tipo de búsqueda`. (*¿Cómo afecta el tipo de búsqueda a las respuestas de mi RAG?*)"
   ]
  },
  {
   "cell_type": "code",
   "execution_count": null,
   "metadata": {
    "id": "UDh_QgeXLGHc"
   },
   "outputs": [],
   "source": []
  },
  {
   "cell_type": "markdown",
   "metadata": {
    "id": "ENJiPPM0giX8"
   },
   "source": [
    "### **2.2 Agentes (1.0 puntos)**\n",
    "\n",
    "<p align=\"center\">\n",
    "  <img src=\"https://media1.tenor.com/m/rcqnN2aJCSEAAAAd/secret-agent-man.gif\"\n",
    "\" width=\"400\">\n",
    "</p>\n",
    "\n",
    "Similar a la sección anterior, en esta sección se busca habilitar **Agentes** para obtener información a través de tools y así responder la pregunta del usuario."
   ]
  },
  {
   "cell_type": "markdown",
   "metadata": {
    "id": "V47l7Mjfrk0N"
   },
   "source": [
    "#### **2.2.1 Tool de Tavily (0.2 puntos)**\n",
    "\n",
    "Generar una *tool* que pueda hacer consultas al motor de búsqueda **Tavily**."
   ]
  },
  {
   "cell_type": "code",
   "execution_count": null,
   "metadata": {
    "id": "R6SLKwcWr0AG"
   },
   "outputs": [],
   "source": []
  },
  {
   "cell_type": "markdown",
   "metadata": {
    "id": "SonB1A-9rtRq"
   },
   "source": [
    "#### **2.2.2 Tool de Wikipedia (0.2 puntos)**\n",
    "\n",
    "Generar una *tool* que pueda hacer consultas a **Wikipedia**.\n",
    "\n",
    "*Hint: Le puede ser de ayuda el siguiente [link](https://python.langchain.com/v0.1/docs/modules/tools/).*"
   ]
  },
  {
   "cell_type": "code",
   "execution_count": null,
   "metadata": {
    "id": "ehJJpoqsr26-"
   },
   "outputs": [],
   "source": []
  },
  {
   "cell_type": "markdown",
   "metadata": {
    "id": "CvUIMdX6r0ne"
   },
   "source": [
    "#### **2.2.3 Crear Agente (0.3 puntos)**\n",
    "\n",
    "Crear un agente que pueda responder preguntas preguntas usando las *tools* antes generadas. Asegúrese que su agente responda en español. Por último, guarde el agente en una variable."
   ]
  },
  {
   "cell_type": "code",
   "execution_count": null,
   "metadata": {
    "id": "pD1_n0wrsDI5"
   },
   "outputs": [],
   "source": []
  },
  {
   "cell_type": "markdown",
   "metadata": {
    "id": "dKV0JxK3r-XG"
   },
   "source": [
    "#### **2.2.4 Verificación de respuestas (0.3 puntos)**\n",
    "\n",
    "Pruebe el funcionamiento de su agente y asegúrese que el agente esté ocupando correctamente las tools disponibles. ¿En qué casos el agente debería ocupar la tool de Tavily? ¿En qué casos debería ocupar la tool de Wikipedia?"
   ]
  },
  {
   "cell_type": "code",
   "execution_count": null,
   "metadata": {
    "id": "Pqo2dsxvywW_"
   },
   "outputs": [],
   "source": []
  },
  {
   "cell_type": "markdown",
   "metadata": {
    "id": "cZbDTYiogquv"
   },
   "source": [
    "### **2.3 Multi Agente (1.5 puntos)**\n",
    "\n",
    "<p align=\"center\">\n",
    "  <img src=\"https://media1.tenor.com/m/r7QMJLxU4BoAAAAd/this-is-getting-out-of-hand-star-wars.gif\"\n",
    "\" width=\"450\">\n",
    "</p>\n",
    "\n",
    "El objetivo de esta subsección es encapsular las funcionalidades creadas en una solución multiagente con un **supervisor**.\n"
   ]
  },
  {
   "cell_type": "markdown",
   "metadata": {
    "id": "7-iUfH0WvI6m"
   },
   "source": [
    "#### **2.3.1 Generando Tools (0.5 puntos)**\n",
    "\n",
    "Transforme la solución RAG de la sección 2.1 y el agente de la sección 2.2 a *tools* (una tool por cada uno)."
   ]
  },
  {
   "cell_type": "code",
   "execution_count": null,
   "metadata": {
    "id": "pw1cfTtvv1AZ"
   },
   "outputs": [],
   "source": []
  },
  {
   "cell_type": "markdown",
   "metadata": {
    "id": "HQYNjT_0vPCg"
   },
   "source": [
    "#### **2.3.2 Agente Supervisor (0.5 puntos)**\n",
    "\n",
    "Habilite un agente que tenga acceso a las tools del punto anterior y pueda responder preguntas relacionadas. Almacene este agente en una variable llamada supervisor."
   ]
  },
  {
   "cell_type": "code",
   "execution_count": null,
   "metadata": {
    "id": "yv2ZY0BAv1RD"
   },
   "outputs": [],
   "source": []
  },
  {
   "cell_type": "markdown",
   "metadata": {
    "id": "ea3zWlvyvY7K"
   },
   "source": [
    "#### **2.3.3 Verificación de respuestas (0.25 puntos)**\n",
    "\n",
    "Pruebe el funcionamiento de su agente repitiendo las preguntas realizadas en las secciones 2.1.4 y 2.2.4 y comente sus resultados. ¿Cómo varían las respuestas bajo este enfoque?"
   ]
  },
  {
   "cell_type": "code",
   "execution_count": null,
   "metadata": {
    "id": "6_1t0zkgv1qW"
   },
   "outputs": [],
   "source": []
  },
  {
   "cell_type": "markdown",
   "metadata": {
    "id": "Qb8bdAmYvgwn"
   },
   "source": [
    "#### **2.3.4 Análisis (0.25 puntos)**\n",
    "\n",
    "¿Qué diferencias tiene este enfoque con la solución *Router* vista en clases? Nombre al menos una ventaja y desventaja."
   ]
  },
  {
   "cell_type": "markdown",
   "metadata": {
    "id": "YAUlJxqoLK5r"
   },
   "source": [
    "`escriba su respuesta acá`"
   ]
  },
  {
   "cell_type": "markdown",
   "metadata": {
    "id": "4JWVSuWiZ8Mj"
   },
   "source": [
    "### **2.4 Memoria (Bonus +0.5 puntos)**\n",
    "\n",
    "<p align=\"center\">\n",
    "  <img src=\"https://media1.tenor.com/m/Gs95aiElrscAAAAd/memory-unlocked-ratatouille-critic.gif\"\n",
    "\" width=\"400\">\n",
    "</p>\n",
    "\n",
    "Una de las principales falencias de las soluciones que hemos visto hasta ahora es que nuestro chat no responde las interacciones anteriores, por ejemplo:\n",
    "\n",
    "- Pregunta 1: \"Hola! mi nombre es Sebastián\"\n",
    "  - Respuesta esperada: \"Hola Sebastián! ...\"\n",
    "- Pregunta 2: \"Cual es mi nombre?\"\n",
    "  - Respuesta actual: \"Lo siento pero no conozco tu nombre :(\"\n",
    "  - **Respuesta esperada: \"Tu nombre es Sebastián\"**\n",
    "\n",
    "Para solucionar esto, se les solicita agregar un componente de **memoria** a la solución entregada en el punto 2.3.\n",
    "\n",
    "**Nota: El Bonus es válido <u>sólo para la sección 2 de Large Language Models.</u>**"
   ]
  },
  {
   "cell_type": "code",
   "execution_count": null,
   "metadata": {
    "id": "K6Y7tIPJLPfB"
   },
   "outputs": [],
   "source": []
  },
  {
   "cell_type": "markdown",
   "metadata": {
    "id": "vFc3jBT5g0kT"
   },
   "source": [
    "### **2.5 Despliegue (0 puntos)**\n",
    "\n",
    "<p align=\"center\">\n",
    "  <img src=\"https://media1.tenor.com/m/IytHqOp52EsAAAAd/you-get-a-deploy-deploy.gif\"\n",
    "\" width=\"400\">\n",
    "</p>\n",
    "\n",
    "Una vez tengan los puntos anteriores finalizados, toca la etapa de dar a conocer lo que hicimos! Para eso, vamos a desplegar nuestro modelo a través de `gradio`, una librería especializada en el levantamiento rápido de demos basadas en ML.\n",
    "\n",
    "Primero instalamos la librería:"
   ]
  },
  {
   "cell_type": "code",
   "execution_count": null,
   "metadata": {
    "id": "T8TsvnCPbkIA"
   },
   "outputs": [],
   "source": [
    "%pip install --upgrade --quiet gradio"
   ]
  },
  {
   "cell_type": "markdown",
   "metadata": {
    "id": "HJBztEUovKsF"
   },
   "source": [
    "Luego sólo deben ejecutar el siguiente código e interactuar con la interfaz a través del notebook o del link generado:"
   ]
  },
  {
   "cell_type": "code",
   "execution_count": null,
   "metadata": {
    "id": "Z3KedQSvg1-n"
   },
   "outputs": [],
   "source": [
    "import gradio as gr\n",
    "import time\n",
    "\n",
    "def agent_response(message, history):\n",
    "  '''\n",
    "  Función para gradio, recibe mensaje e historial, devuelte la respuesta del chatbot.\n",
    "  '''\n",
    "  # get chatbot response\n",
    "  response = ... # rellenar con la respuesta de su chat\n",
    "\n",
    "  # assert\n",
    "  assert type(response) == str, \"output de route_question debe ser string\"\n",
    "\n",
    "  # \"streaming\" response\n",
    "  for i in range(len(response)):\n",
    "    time.sleep(0.015)\n",
    "    yield response[: i+1]\n",
    "\n",
    "gr.ChatInterface(\n",
    "    agent_response,\n",
    "    type=\"messages\",\n",
    "    title=\"Chatbot MDS7202\", # Pueden cambiar esto si lo desean\n",
    "    description=\"Hola! Soy un chatbot muy útil :)\", # también la descripción\n",
    "    theme=\"soft\",\n",
    "    ).launch(\n",
    "        share=True, # pueden compartir el link a sus amig@s para que interactuen con su chat!\n",
    "        debug = False,\n",
    "        )"
   ]
  }
 ],
 "metadata": {
  "colab": {
   "provenance": [],
   "toc_visible": true
  },
  "kernelspec": {
   "display_name": ".venv",
   "language": "python",
   "name": "python3"
  },
  "language_info": {
   "codemirror_mode": {
    "name": "ipython",
    "version": 3
   },
   "file_extension": ".py",
   "mimetype": "text/x-python",
   "name": "python",
   "nbconvert_exporter": "python",
   "pygments_lexer": "ipython3",
   "version": "3.10.11"
  }
 },
 "nbformat": 4,
 "nbformat_minor": 0
}
