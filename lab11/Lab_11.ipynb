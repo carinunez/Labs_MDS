{
  "cells": [
    {
      "cell_type": "markdown",
      "metadata": {
        "id": "PyPTffTLug7i"
      },
      "source": [
        "# **Laboratorio 11: LLM y Agentes Autónomos 🤖**\n",
        "\n",
        "MDS7202: Laboratorio de Programación Científica para Ciencia de Datos"
      ]
    },
    {
      "cell_type": "markdown",
      "metadata": {
        "id": "5pbWVyntzbvL"
      },
      "source": [
        "### **Cuerpo Docente:**\n",
        "\n",
        "- Profesores: Ignacio Meza, Sebastián Tinoco\n",
        "- Auxiliar: Eduardo Moya\n",
        "- Ayudantes: Nicolás Ojeda, Melanie Peña, Valentina Rojas"
      ]
    },
    {
      "cell_type": "markdown",
      "metadata": {
        "id": "dy6ikgVYzghB"
      },
      "source": [
        "### **Equipo: SUPER IMPORTANTE - notebooks sin nombre no serán revisados**\n",
        "\n",
        "- Nombre de alumno 1: Carolina Nuñez\n",
        "- Nombre de alumno 2: Alonso Uribe"
      ]
    },
    {
      "cell_type": "markdown",
      "metadata": {
        "id": "iMJ-owchzjFf"
      },
      "source": [
        "### **Link de repositorio de GitHub:** [Repositorio💻](https://github.com/carinunez/Labs_MDS)"
      ]
    },
    {
      "cell_type": "markdown",
      "metadata": {
        "id": "WUuwsXrKzmkK"
      },
      "source": [
        "## **Temas a tratar**\n",
        "\n",
        "- Reinforcement Learning\n",
        "- Large Language Models\n",
        "\n",
        "## **Reglas:**\n",
        "\n",
        "- **Grupos de 2 personas**\n",
        "- Cualquier duda fuera del horario de clases al foro. Mensajes al equipo docente serán respondidos por este medio.\n",
        "- Prohibidas las copias.\n",
        "- Pueden usar cualquer matrial del curso que estimen conveniente.\n",
        "\n",
        "### **Objetivos principales del laboratorio**\n",
        "\n",
        "- Resolución de problemas secuenciales usando Reinforcement Learning\n",
        "- Habilitar un Chatbot para entregar respuestas útiles usando Large Language Models.\n",
        "\n",
        "El laboratorio deberá ser desarrollado sin el uso indiscriminado de iteradores nativos de python (aka \"for\", \"while\"). La idea es que aprendan a exprimir al máximo las funciones optimizadas que nos entrega `pandas`, las cuales vale mencionar, son bastante más eficientes que los iteradores nativos sobre DataFrames."
      ]
    },
    {
      "cell_type": "markdown",
      "metadata": {
        "id": "0hmHHQ9BuyAG"
      },
      "source": [
        "## **1. Reinforcement Learning (2.0 puntos)**\n",
        "\n",
        "En esta sección van a usar métodos de RL para resolver dos problemas interesantes: `Blackjack` y `LunarLander`."
      ]
    },
    {
      "cell_type": "code",
      "execution_count": null,
      "metadata": {
        "id": "gOcejYb6uzOO"
      },
      "outputs": [],
      "source": [
        "!pip install -qqq gymnasium stable_baselines3\n",
        "!pip install -qqq swig\n",
        "!pip install -qqq gymnasium[box2d]"
      ]
    },
    {
      "cell_type": "markdown",
      "metadata": {
        "id": "qBPet_Mq8dX9"
      },
      "source": [
        "### **1.1 Blackjack (1.0 puntos)**\n",
        "\n",
        "<p align=\"center\">\n",
        "  <img src=\"https://www.recreoviral.com/wp-content/uploads/2016/08/s3.amazonaws.com-Math.gif\"\n",
        "\" width=\"400\">\n",
        "</p>\n",
        "\n",
        "La idea de esta subsección es que puedan implementar métodos de RL y así generar una estrategia para jugar el clásico juego Blackjack y de paso puedan ~~hacerse millonarios~~ aprender a resolver problemas mediante RL.\n",
        "\n",
        "Comencemos primero preparando el ambiente. El siguiente bloque de código transforma las observaciones del ambiente a `np.array`:\n"
      ]
    },
    {
      "cell_type": "code",
      "execution_count": null,
      "metadata": {
        "id": "LpZ8bBKk9ZlU"
      },
      "outputs": [],
      "source": [
        "import gymnasium as gym\n",
        "from gymnasium.spaces import MultiDiscrete\n",
        "import numpy as np\n",
        "\n",
        "class FlattenObservation(gym.ObservationWrapper):\n",
        "    def __init__(self, env):\n",
        "        super(FlattenObservation, self).__init__(env)\n",
        "        self.observation_space = MultiDiscrete(np.array([32, 11, 2]))\n",
        "\n",
        "    def observation(self, observation):\n",
        "        return np.array(observation).flatten()\n",
        "\n",
        "# Create and wrap the environment\n",
        "env = gym.make(\"Blackjack-v1\")\n",
        "env = FlattenObservation(env)"
      ]
    },
    {
      "cell_type": "markdown",
      "metadata": {
        "id": "ZJ6J1_-Y9nHO"
      },
      "source": [
        "#### **1.1.1 Descripción de MDP (0.2 puntos)**\n",
        "\n",
        "Entregue una breve descripción sobre el ambiente [Blackjack](https://gymnasium.farama.org/environments/toy_text/blackjack/) y su formulación en MDP, distinguiendo de forma clara y concisa los estados, acciones y recompensas."
      ]
    },
    {
      "cell_type": "markdown",
      "metadata": {
        "id": "G5i1Wt1p770x"
      },
      "source": [
        "`escriba su respuesta acá`"
      ]
    },
    {
      "cell_type": "markdown",
      "metadata": {
        "id": "pmcX6bRC9agQ"
      },
      "source": [
        "#### **1.1.2 Generando un Baseline (0.2 puntos)**\n",
        "\n",
        "Simule un escenario en donde se escojan acciones aleatorias. Repita esta simulación 5000 veces y reporte el promedio y desviación de las recompensas. ¿Cómo calificaría el performance de esta política? ¿Cómo podría interpretar las recompensas obtenidas?"
      ]
    },
    {
      "cell_type": "code",
      "execution_count": null,
      "metadata": {
        "id": "9p2PrLLR9yju"
      },
      "outputs": [],
      "source": []
    },
    {
      "cell_type": "markdown",
      "metadata": {
        "id": "LEO_dY4x_SJu"
      },
      "source": [
        "#### **1.1.3 Entrenamiento de modelo (0.2 puntos)**\n",
        "\n",
        "A partir del siguiente [enlace](https://stable-baselines3.readthedocs.io/en/master/guide/algos.html), escoja un modelo de `stable_baselines3` y entrenelo para resolver el ambiente `Blackjack`."
      ]
    },
    {
      "cell_type": "code",
      "execution_count": null,
      "metadata": {
        "id": "m9JsFA1wGmnH"
      },
      "outputs": [],
      "source": []
    },
    {
      "cell_type": "markdown",
      "metadata": {
        "id": "E-bpdb8wZID1"
      },
      "source": [
        "#### **1.1.4 Evaluación de modelo (0.2 puntos)**\n",
        "\n",
        "Repita el ejercicio 1.1.2 pero utilizando el modelo entrenado. ¿Cómo es el performance de su agente? ¿Es mejor o peor que el escenario baseline?"
      ]
    },
    {
      "cell_type": "code",
      "execution_count": null,
      "metadata": {
        "id": "5-d7d8GFf7F6"
      },
      "outputs": [],
      "source": []
    },
    {
      "cell_type": "markdown",
      "metadata": {
        "id": "RO-EsAaPAYEm"
      },
      "source": [
        "#### **1.1.5 Estudio de acciones (0.2 puntos)**\n",
        "\n",
        "Genere una función que reciba un estado y retorne la accion del agente. Luego, use esta función para entregar la acción escogida frente a los siguientes escenarios:\n",
        "\n",
        "- Suma de cartas del agente es 6, dealer muestra un 7, agente no tiene tiene un as\n",
        "- Suma de cartas del agente es 19, dealer muestra un 3, agente tiene tiene un as\n",
        "\n",
        "¿Son coherentes sus acciones con las reglas del juego?\n",
        "\n",
        "Hint: ¿A que clase de python pertenecen los estados? Pruebe a usar el método `.reset` para saberlo."
      ]
    },
    {
      "cell_type": "code",
      "execution_count": null,
      "metadata": {
        "id": "Fh8XlGyzwtRp"
      },
      "outputs": [],
      "source": []
    },
    {
      "cell_type": "markdown",
      "metadata": {
        "id": "SEqCTqqroh03"
      },
      "source": [
        "### **1.2 LunarLander**\n",
        "\n",
        "<p align=\"center\">\n",
        "  <img src=\"https://i.redd.it/097t6tk29zf51.jpg\"\n",
        "\" width=\"400\">\n",
        "</p>\n",
        "\n",
        "Similar a la sección 2.1, en esta sección usted se encargará de implementar una gente de RL que pueda resolver el ambiente `LunarLander`.\n",
        "\n",
        "Comencemos preparando el ambiente:\n"
      ]
    },
    {
      "cell_type": "code",
      "execution_count": null,
      "metadata": {
        "id": "nvQUyuZ_FtZ4"
      },
      "outputs": [],
      "source": [
        "import gymnasium as gym\n",
        "env = gym.make(\"LunarLander-v2\", render_mode = \"rgb_array\", continuous = True) # notar el parámetro continuous = True"
      ]
    },
    {
      "cell_type": "markdown",
      "metadata": {
        "id": "FBU4lGX3wpN6"
      },
      "source": [
        "Noten que se especifica el parámetro `continuous = True`. ¿Que implicancias tiene esto sobre el ambiente?\n",
        "\n",
        "Además, se le facilita la función `export_gif` para el ejercicio 2.2.4:"
      ]
    },
    {
      "cell_type": "code",
      "execution_count": null,
      "metadata": {
        "id": "bRiWpSo9yfr9"
      },
      "outputs": [],
      "source": [
        "import imageio\n",
        "import numpy as np\n",
        "\n",
        "def export_gif(model, n = 5):\n",
        "  '''\n",
        "  función que exporta a gif el comportamiento del agente en n episodios\n",
        "  '''\n",
        "  images = []\n",
        "  for episode in range(n):\n",
        "    obs = model.env.reset()\n",
        "    img = model.env.render()\n",
        "    done = False\n",
        "    while not done:\n",
        "      images.append(img)\n",
        "      action, _ = model.predict(obs)\n",
        "      obs, reward, done, info = model.env.step(action)\n",
        "      img = model.env.render(mode=\"rgb_array\")\n",
        "\n",
        "  imageio.mimsave(\"agent_performance.gif\", [np.array(img) for i, img in enumerate(images) if i%2 == 0], fps=29)"
      ]
    },
    {
      "cell_type": "markdown",
      "metadata": {
        "id": "sk5VJVppXh3N"
      },
      "source": [
        "#### **1.2.1 Descripción de MDP (0.2 puntos)**\n",
        "\n",
        "Entregue una breve descripción sobre el ambiente [LunarLander](https://gymnasium.farama.org/environments/box2d/lunar_lander/) y su formulación en MDP, distinguiendo de forma clara y concisa los estados, acciones y recompensas. ¿Como se distinguen las acciones de este ambiente en comparación a `Blackjack`?\n",
        "\n",
        "Nota: recuerde que se especificó el parámetro `continuous = True`"
      ]
    },
    {
      "cell_type": "markdown",
      "metadata": {
        "id": "Yb-u9LUE8O9a"
      },
      "source": [
        "`escriba su respuesta acá`"
      ]
    },
    {
      "cell_type": "markdown",
      "metadata": {
        "id": "YChodtNQwzG2"
      },
      "source": [
        "#### **1.2.2 Generando un Baseline (0.2 puntos)**\n",
        "\n",
        "Simule un escenario en donde se escojan acciones aleatorias. Repita esta simulación 10 veces y reporte el promedio y desviación de las recompensas. ¿Cómo calificaría el performance de esta política?"
      ]
    },
    {
      "cell_type": "code",
      "execution_count": null,
      "metadata": {
        "id": "5bwc3A0GX7a8"
      },
      "outputs": [],
      "source": []
    },
    {
      "cell_type": "markdown",
      "metadata": {
        "id": "hQrZVQflX_5f"
      },
      "source": [
        "#### **1.2.3 Entrenamiento de modelo (0.2 puntos)**\n",
        "\n",
        "A partir del siguiente [enlace](https://stable-baselines3.readthedocs.io/en/master/guide/algos.html), escoja un modelo de `stable_baselines3` y entrenelo para resolver el ambiente `LunarLander` **usando 10000 timesteps de entrenamiento**."
      ]
    },
    {
      "cell_type": "code",
      "execution_count": null,
      "metadata": {
        "id": "y_6Ia9uoF7Hs"
      },
      "outputs": [],
      "source": []
    },
    {
      "cell_type": "markdown",
      "metadata": {
        "id": "3z-oIUSrlAsY"
      },
      "source": [
        "#### **1.2.4 Evaluación de modelo (0.2 puntos)**\n",
        "\n",
        "Repita el ejercicio 1.2.2 pero utilizando el modelo entrenado. ¿Cómo es el performance de su agente? ¿Es mejor o peor que el escenario baseline?"
      ]
    },
    {
      "cell_type": "code",
      "execution_count": null,
      "metadata": {
        "id": "ophyU3KrWrwl"
      },
      "outputs": [],
      "source": []
    },
    {
      "cell_type": "markdown",
      "metadata": {
        "id": "x6Xw4YHT3P5d"
      },
      "source": [
        "#### **1.2.5 Optimización de modelo (0.2 puntos)**\n",
        "\n",
        "Repita los ejercicios 1.2.3 y 1.2.4 hasta obtener un nivel de recompensas promedio mayor a 50. Para esto, puede cambiar manualmente parámetros como:\n",
        "- `total_timesteps`\n",
        "- `learning_rate`\n",
        "- `batch_size`\n",
        "\n",
        "Una vez optimizado el modelo, use la función `export_gif` para estudiar el comportamiento de su agente en la resolución del ambiente y comente sobre sus resultados.\n",
        "\n",
        "Adjunte el gif generado en su entrega (mejor aún si además adjuntan el gif en el markdown)."
      ]
    },
    {
      "cell_type": "code",
      "execution_count": null,
      "metadata": {
        "id": "aItYF6sr6F_6"
      },
      "outputs": [],
      "source": []
    },
    {
      "cell_type": "markdown",
      "metadata": {
        "id": "mPUY-Ktgf2BO"
      },
      "source": [
        "## **2. Large Language Models (4.0 puntos)**\n",
        "\n",
        "En esta sección se enfocarán en habilitar un Chatbot que nos permita responder preguntas útiles a través de LLMs."
      ]
    },
    {
      "cell_type": "markdown",
      "metadata": {
        "id": "mQ4fPRRihGLe"
      },
      "source": [
        "### **2.0 Configuración Inicial**\n",
        "\n",
        "<p align=\"center\">\n",
        "  <img src=\"https://media1.tenor.com/m/uqAs9atZH58AAAAd/config-config-issue.gif\"\n",
        "\" width=\"400\">\n",
        "</p>\n",
        "\n",
        "Como siempre, cargamos todas nuestras API KEY al entorno:"
      ]
    },
    {
      "cell_type": "code",
      "execution_count": 1,
      "metadata": {
        "id": "Ud2Xm_k-hFJn",
        "colab": {
          "base_uri": "https://localhost:8080/"
        },
        "outputId": "0c517707-faa7-4599-bd1d-9c97a3e662bf"
      },
      "outputs": [
        {
          "name": "stdout",
          "output_type": "stream",
          "text": [
            "Enter your Google AI API key: ··········\n",
            "Enter your Tavily API key: ··········\n"
          ]
        }
      ],
      "source": [
        "import getpass\n",
        "import os\n",
        "\n",
        "if \"GOOGLE_API_KEY\" not in os.environ:\n",
        "    os.environ[\"GOOGLE_API_KEY\"] = getpass.getpass(\"Enter your Google AI API key: \")\n",
        "\n",
        "if \"TAVILY_API_KEY\" not in os.environ:\n",
        "    os.environ[\"TAVILY_API_KEY\"] = getpass.getpass(\"Enter your Tavily API key: \")"
      ]
    },
    {
      "cell_type": "markdown",
      "metadata": {
        "id": "Rj9JvQUsgZZJ"
      },
      "source": [
        "### **2.1 Retrieval Augmented Generation (1.5 puntos)**\n",
        "\n",
        "<p align=\"center\">\n",
        "  <img src=\"https://y.yarn.co/218aaa02-c47e-4ec9-b1c9-07792a06a88f_text.gif\"\n",
        "\" width=\"400\">\n",
        "</p>\n",
        "\n",
        "El objetivo de esta subsección es que habiliten un chatbot que pueda responder preguntas usando información contenida en documentos PDF a través de **Retrieval Augmented Generation.**"
      ]
    },
    {
      "cell_type": "markdown",
      "metadata": {
        "id": "ZrxOQroVnaZ5"
      },
      "source": [
        "#### **2.1.1 Reunir Documentos (0 puntos)**\n",
        "\n",
        "Reuna documentos PDF sobre los que hacer preguntas siguiendo las siguientes instrucciones:\n",
        "  - 2 documentos .pdf como mínimo.\n",
        "  - 50 páginas de contenido como mínimo entre todos los documentos.\n",
        "  - Ideas para documentos: Documentos relacionados a temas académicos, laborales o de ocio. Aprovechen este ejercicio para construir algo útil y/o relevante para ustedes!\n",
        "  - Deben ocupar documentos reales, no pueden utilizar los mismos de la clase.\n",
        "  - Deben registrar sus documentos en la siguiente [planilla](https://docs.google.com/spreadsheets/d/1Hy1w_dOiG2UCHJ8muyxhdKPZEPrrL7BNHm6E90imIIM/edit?usp=sharing). **NO PUEDEN USAR LOS MISMOS DOCUMENTOS QUE OTRO GRUPO**\n",
        "  - **Recuerden adjuntar los documentos en su entrega**."
      ]
    },
    {
      "cell_type": "code",
      "source": [
        "from google.colab import drive\n",
        "drive.mount('/content/gdrive')"
      ],
      "metadata": {
        "colab": {
          "base_uri": "https://localhost:8080/"
        },
        "id": "pH-I97c5wPUh",
        "outputId": "fe76603e-bf2d-42f5-9639-a5a07bd7d957"
      },
      "execution_count": 2,
      "outputs": [
        {
          "output_type": "stream",
          "name": "stdout",
          "text": [
            "Mounted at /content/gdrive\n"
          ]
        }
      ]
    },
    {
      "cell_type": "code",
      "execution_count": 3,
      "metadata": {
        "colab": {
          "base_uri": "https://localhost:8080/"
        },
        "id": "5D1tIRCi4oJJ",
        "outputId": "77816388-e483-45cb-f6da-faa35c84c119"
      },
      "outputs": [
        {
          "output_type": "stream",
          "name": "stdout",
          "text": [
            "\u001b[?25l   \u001b[90m━━━━━━━━━━━━━━━━━━━━━━━━━━━━━━━━━━━━━━━━\u001b[0m \u001b[32m0.0/232.6 kB\u001b[0m \u001b[31m?\u001b[0m eta \u001b[36m-:--:--\u001b[0m\r\u001b[2K   \u001b[91m━━━━━━━━━━━━━━━━━━━━━━━━━━━━━━━━━━━━━━\u001b[0m\u001b[91m╸\u001b[0m\u001b[90m━\u001b[0m \u001b[32m225.3/232.6 kB\u001b[0m \u001b[31m7.2 MB/s\u001b[0m eta \u001b[36m0:00:01\u001b[0m\r\u001b[2K   \u001b[90m━━━━━━━━━━━━━━━━━━━━━━━━━━━━━━━━━━━━━━━━\u001b[0m \u001b[32m232.6/232.6 kB\u001b[0m \u001b[31m5.0 MB/s\u001b[0m eta \u001b[36m0:00:00\u001b[0m\n",
            "\u001b[?25h"
          ]
        }
      ],
      "source": [
        "%pip install --upgrade --quiet PyPDF2"
      ]
    },
    {
      "cell_type": "code",
      "source": [
        "%pip install --upgrade --quiet  langchain-google-genai"
      ],
      "metadata": {
        "colab": {
          "base_uri": "https://localhost:8080/"
        },
        "id": "caUD7ufNwfhq",
        "outputId": "e4fbf470-469c-4aa3-a412-930cffdb3c09"
      },
      "execution_count": 4,
      "outputs": [
        {
          "output_type": "stream",
          "name": "stdout",
          "text": [
            "\u001b[?25l   \u001b[90m━━━━━━━━━━━━━━━━━━━━━━━━━━━━━━━━━━━━━━━━\u001b[0m \u001b[32m0.0/41.8 kB\u001b[0m \u001b[31m?\u001b[0m eta \u001b[36m-:--:--\u001b[0m\r\u001b[2K   \u001b[90m━━━━━━━━━━━━━━━━━━━━━━━━━━━━━━━━━━━━━━━━\u001b[0m \u001b[32m41.8/41.8 kB\u001b[0m \u001b[31m2.5 MB/s\u001b[0m eta \u001b[36m0:00:00\u001b[0m\n",
            "\u001b[?25h"
          ]
        }
      ]
    },
    {
      "cell_type": "code",
      "source": [
        "%pip install --upgrade --quiet faiss-cpu langchain_community pypdf"
      ],
      "metadata": {
        "colab": {
          "base_uri": "https://localhost:8080/"
        },
        "id": "Io4tl9IgyVAv",
        "outputId": "b328e3a6-9b15-4d61-94c0-6f1b25c5e2b0"
      },
      "execution_count": 5,
      "outputs": [
        {
          "output_type": "stream",
          "name": "stdout",
          "text": [
            "\u001b[2K   \u001b[90m━━━━━━━━━━━━━━━━━━━━━━━━━━━━━━━━━━━━━━━━\u001b[0m \u001b[32m27.5/27.5 MB\u001b[0m \u001b[31m31.5 MB/s\u001b[0m eta \u001b[36m0:00:00\u001b[0m\n",
            "\u001b[2K   \u001b[90m━━━━━━━━━━━━━━━━━━━━━━━━━━━━━━━━━━━━━━━━\u001b[0m \u001b[32m2.4/2.4 MB\u001b[0m \u001b[31m28.8 MB/s\u001b[0m eta \u001b[36m0:00:00\u001b[0m\n",
            "\u001b[2K   \u001b[90m━━━━━━━━━━━━━━━━━━━━━━━━━━━━━━━━━━━━━━━━\u001b[0m \u001b[32m298.0/298.0 kB\u001b[0m \u001b[31m12.5 MB/s\u001b[0m eta \u001b[36m0:00:00\u001b[0m\n",
            "\u001b[2K   \u001b[90m━━━━━━━━━━━━━━━━━━━━━━━━━━━━━━━━━━━━━━━━\u001b[0m \u001b[32m409.3/409.3 kB\u001b[0m \u001b[31m8.9 MB/s\u001b[0m eta \u001b[36m0:00:00\u001b[0m\n",
            "\u001b[2K   \u001b[90m━━━━━━━━━━━━━━━━━━━━━━━━━━━━━━━━━━━━━━━━\u001b[0m \u001b[32m3.1/3.1 MB\u001b[0m \u001b[31m20.0 MB/s\u001b[0m eta \u001b[36m0:00:00\u001b[0m\n",
            "\u001b[2K   \u001b[90m━━━━━━━━━━━━━━━━━━━━━━━━━━━━━━━━━━━━━━━━\u001b[0m \u001b[32m49.5/49.5 kB\u001b[0m \u001b[31m2.7 MB/s\u001b[0m eta \u001b[36m0:00:00\u001b[0m\n",
            "\u001b[?25h"
          ]
        }
      ]
    },
    {
      "cell_type": "code",
      "execution_count": 6,
      "metadata": {
        "id": "kzq2TjWCnu15"
      },
      "outputs": [],
      "source": [
        "import PyPDF2\n",
        "\n",
        "doc_paths = ['/content/gdrive/MyDrive/pdf_LLM/506.pdf',\n",
        "            #  '/content/gdrive/MyDrive/pdf_LLM/Encyclopedia of Foods. A Guide to Healthy Nutrition ( PDFDrive.com ).pdf',\n",
        "             '/content/gdrive/MyDrive/pdf_LLM/La-guia-peq-cambios-castella.pdf',\n",
        "             '/content/gdrive/MyDrive/pdf_LLM/Manual_basico_N_clinica_y_Dietetica_Valencia_2012.pdf',\n",
        "             '/content/gdrive/MyDrive/pdf_LLM/cb2395en.pdf',\n",
        "             '/content/gdrive/MyDrive/pdf_LLM/food-for-thought-mental-health-nutrition-briefing-march-2017.pdf',\n",
        "             '/content/gdrive/MyDrive/pdf_LLM/nutrients-14-00750.pdf'] # rellenar con los path a sus documentos\n",
        "\n",
        "assert len(doc_paths) >= 2, \"Deben adjuntar un mínimo de 2 documentos\"\n",
        "\n",
        "total_paginas = sum(len(PyPDF2.PdfReader(open(doc, \"rb\")).pages) for doc in doc_paths)\n",
        "assert total_paginas >= 50, f\"Páginas insuficientes: {total_paginas}\""
      ]
    },
    {
      "cell_type": "markdown",
      "metadata": {
        "id": "r811-P71nizA"
      },
      "source": [
        "#### **2.1.2 Vectorizar Documentos (0.2 puntos)**\n",
        "\n",
        "Vectorice los documentos y almacene sus representaciones de manera acorde."
      ]
    },
    {
      "cell_type": "code",
      "execution_count": 7,
      "metadata": {
        "id": "n-yXAdCSn4JM"
      },
      "outputs": [],
      "source": [
        "from langchain_community.document_loaders import PyPDFLoader\n",
        "\n",
        "docs = PyPDFLoader(doc_paths[-1]).load()\n",
        "\n",
        "for doc in doc_paths[:-1]:\n",
        "  new_doc = PyPDFLoader(doc).load()\n",
        "  docs.extend(new_doc)\n"
      ]
    },
    {
      "cell_type": "code",
      "source": [
        "# Splits docs in chunks\n",
        "from langchain_text_splitters import RecursiveCharacterTextSplitter\n",
        "\n",
        "text_splitter = RecursiveCharacterTextSplitter(chunk_size=500, chunk_overlap=50) # inicializamos splitter\n",
        "splits = text_splitter.split_documents(docs) # dividir documentos en chunks"
      ],
      "metadata": {
        "id": "XV1spUnLzL8s"
      },
      "execution_count": 30,
      "outputs": []
    },
    {
      "cell_type": "code",
      "source": [
        "from langchain_google_genai import GoogleGenerativeAIEmbeddings\n",
        "from langchain_community.vectorstores import FAISS\n",
        "\n",
        "embedding = GoogleGenerativeAIEmbeddings(model=\"models/embedding-001\") # inicializamos los embeddings\n",
        "vectorstore = FAISS.from_documents(documents=splits, embedding=embedding) # vectorizacion y almacenamiento\n",
        "vectorstore"
      ],
      "metadata": {
        "colab": {
          "base_uri": "https://localhost:8080/"
        },
        "id": "kE8h7lFIzGmX",
        "outputId": "f6c70336-86ce-4867-9cca-dce33c8c67ed"
      },
      "execution_count": 31,
      "outputs": [
        {
          "output_type": "execute_result",
          "data": {
            "text/plain": [
              "<langchain_community.vectorstores.faiss.FAISS at 0x789084438fa0>"
            ]
          },
          "metadata": {},
          "execution_count": 31
        }
      ]
    },
    {
      "cell_type": "code",
      "source": [
        "retriever = vectorstore.as_retriever(search_type=\"similarity\", # método de búsqueda\n",
        "                                     search_kwargs={\"k\": 3}, # n° documentos a recuperar\n",
        "                                     )"
      ],
      "metadata": {
        "id": "mMRpyP0e0Aiq"
      },
      "execution_count": 32,
      "outputs": []
    },
    {
      "cell_type": "code",
      "source": [
        "# question = \"que frutas recomiendas para una persona deshidratada\" # pregunta\n",
        "# relevant_documents = retriever.invoke(question) # top k documentos relevantes a la pregunta\n",
        "# relevant_documents"
      ],
      "metadata": {
        "id": "Fz4TpvNE0DI4"
      },
      "execution_count": 33,
      "outputs": []
    },
    {
      "cell_type": "code",
      "source": [
        "def format_docs(docs):\n",
        "    return \"\\n\\n\".join(doc.page_content for doc in docs)"
      ],
      "metadata": {
        "id": "15F4ydsr1c8Z"
      },
      "execution_count": 34,
      "outputs": []
    },
    {
      "cell_type": "markdown",
      "metadata": {
        "id": "hAUkP5zrnyBK"
      },
      "source": [
        "#### **2.1.3 Habilitar RAG (0.3 puntos)**\n",
        "\n",
        "Habilite la solución RAG a través de una *chain* y guárdela en una variable."
      ]
    },
    {
      "cell_type": "code",
      "execution_count": 35,
      "metadata": {
        "id": "gPIySdDFn99l",
        "colab": {
          "base_uri": "https://localhost:8080/"
        },
        "collapsed": true,
        "outputId": "d38b025c-5688-4310-92ca-141b201b7d90"
      },
      "outputs": [
        {
          "output_type": "stream",
          "name": "stdout",
          "text": [
            "MANUAL BÁSICO DE NUTRICIÓN CLÍNICA Y DIETÉTICA\n",
            "76\n",
            "tatas produce una respuesta glucémica del 70% respecto a una cantidad equivalente de pan blanco. La utili-\n",
            "dad de este índice pierde parte de su valor debido a que las comidas incluyen mezclas de diversos alimentos.\n",
            "2.2 Fibra. Es un HC complejo, no absorbible, que se encuentra principalmente en verduras, hortalizas, le-\n",
            "gumbres, cereales y frutas. Se recomienda una ingesta de 20-35 g por día (10-15 g de fibra cada 1000 kcal/\n",
            "\n",
            "CAPÍTULO 2. DIETÉTICA Y DIETOTERAPIA\n",
            "47\n",
            "GRUPO DE LAS VERDURAS Y HORTALIZAS\n",
            "A pesar de que las verduras y las hortalizas forman una amplia gama de alimentos, pueden ser reunidas en \n",
            "un mismo grupo, ya que los nutrientes que aportan son similares. Son alimentos en general de bajo conteni-\n",
            "do energético, ya que casi un 80% de su composición es agua. Aportan vitaminas A, C, ácido fólico, betaca-\n",
            "\n",
            "rotenos y otros carotenos (licopeno, alfacaroteno), además de flavonoides, compuestos fenólicos y clorofila \n",
            "y una importante cantidad de fibra. Las verduras y las hortalizas más verdes son más ricas en carotenos (por \n",
            "ello, es un error comer sólo la parte más blanca de la lechuga, por ejemplo). Dada la variabilidad en la rique-\n",
            "za de vitaminas y minerales que contienen los alimentos de este grupo, debe recomendarse la ingesta varia-\n"
          ]
        }
      ],
      "source": [
        "retriever = vectorstore.as_retriever(search_type=\"similarity\", # método de búsqueda\n",
        "                                     search_kwargs={\"k\": 3}, # n° documentos a recuperar\n",
        "                                     )\n",
        "\n",
        "def format_docs(docs):\n",
        "    return \"\\n\\n\".join(doc.page_content for doc in docs)\n",
        "\n",
        "retriever_chain = retriever | format_docs # chain\n",
        "print(retriever_chain.invoke(\"lista de verduras con mayor contenido en fibra\"))"
      ]
    },
    {
      "cell_type": "code",
      "source": [
        "from langchain_core.prompts import PromptTemplate\n",
        "from langchain_core.output_parsers import StrOutputParser\n",
        "\n",
        "from langchain_google_genai import ChatGoogleGenerativeAI\n",
        "\n",
        "llm = ChatGoogleGenerativeAI(\n",
        "    model=\"gemini-1.5-flash\", # modelo de lenguaje\n",
        "    temperature=0.2, # probabilidad de \"respuestas creativas\"\n",
        "    max_tokens=None, # sin tope de tokens\n",
        "    timeout=None, # sin timeout\n",
        "    max_retries=2, # número máximo de intentos\n",
        ")\n",
        "\n",
        "# Entrego contexto para las respuestas\n",
        "rag_template = '''\n",
        "Eres un asistente experto en nutrición y salud. Haces recomendaciones sobre alimentos\n",
        "a consumir según el contexto que se te entrega.\n",
        "Tu único rol es contestar preguntas del usuario a partir de información relevante que te sea proporcionada.\n",
        "Responde siempre de la forma más completa posible y usando toda la información entregada.\n",
        "Responde sólo lo que te pregunten a partir de la información relevante, NUNCA inventes una respuesta.\n",
        "\n",
        "Información relevante: {context}\n",
        "Pregunta: {question}\n",
        "Respuesta útil:\n",
        "'''\n",
        "\n",
        "rag_prompt = PromptTemplate.from_template(rag_template)\n",
        "\n",
        "# Finalmente, condensamos todo en una chain para recuperar información relevante y responder al mismo tiempo:\n",
        "\n",
        "\n",
        "from langchain_core.runnables import RunnablePassthrough\n",
        "\n",
        "rag_chain = (\n",
        "    {\n",
        "        \"context\": retriever_chain, # context lo obtendremos del retriever_chain\n",
        "        \"question\": RunnablePassthrough(), # question pasará directo hacia el prompt\n",
        "    }\n",
        "    | rag_prompt # prompt con las variables question y context\n",
        "    | llm # llm recibe el prompt y responde\n",
        "    | StrOutputParser() # recuperamos sólo la respuesta\n",
        ")\n",
        "\n",
        "question = \"que frutas recomiendas para la deshidratación?\"\n",
        "response = rag_chain.invoke(question)\n",
        "print(response)\n",
        ""
      ],
      "metadata": {
        "colab": {
          "base_uri": "https://localhost:8080/"
        },
        "id": "W7Ar_lIFWuM0",
        "outputId": "c3bc9e5f-8033-4c4f-ecb9-a85de1a5654f"
      },
      "execution_count": 36,
      "outputs": [
        {
          "output_type": "stream",
          "name": "stdout",
          "text": [
            "Las frutas y hortalizas son alimentos ricos en agua, por lo que son una buena opción para combatir la deshidratación. \n",
            "\n"
          ]
        }
      ]
    },
    {
      "cell_type": "code",
      "source": [
        "# question = \"entregame 5 verduras con alto contenido en fibra y su cantidad, si dispones de ella'\"\n",
        "# response = rag_chain.invoke(question)\n",
        "# print(response)"
      ],
      "metadata": {
        "id": "Yhcm2MgSeABQ"
      },
      "execution_count": 37,
      "outputs": []
    },
    {
      "cell_type": "code",
      "source": [
        "question = \"que alimentos recomeindas para reducir la obesidad\"\n",
        "response = rag_chain.invoke(question)\n",
        "print(response)"
      ],
      "metadata": {
        "colab": {
          "base_uri": "https://localhost:8080/"
        },
        "id": "TRtc383vcfAL",
        "outputId": "a4e06a01-643e-4268-c697-9ce106048600"
      },
      "execution_count": 38,
      "outputs": [
        {
          "output_type": "stream",
          "name": "stdout",
          "text": [
            "Para reducir la obesidad, se recomienda reducir tanto el aporte calórico global como la ingesta de grasas. Se recomienda consumir:\n",
            "\n",
            "* **Pescado:** Dos o más raciones de pescado a la semana (con excepción de los filetes de pescado frito comerciales) ya que proporcionan ácidos grasos poliinsaturados n-3.\n",
            "* **Conservas de pescado en aceite de oliva:**  \n",
            "* **Conejo, pollo o pavo sin piel asado, frito en aceite de oliva o al horno:** \n",
            "* **Ternera, cerdo magro o jamón serrano, suprimiendo la grasa visible:**\n",
            "* **Huevos:** 2 a la semana.\n",
            "* **Nueces naturales:** diariamente. \n",
            "* **Fruta:** (naranjas, fresas, kiwi, etc.) fresca a diario.\n",
            "* **Verdura:** (tomates, zanahorias, lechuga), fresca a diario.\n",
            "\n",
            "Se deben restringir:\n",
            "\n",
            "* **Sal y alimentos salados:**\n",
            "* **Azúcar y alimentos y bebidas azucaradas:**\n",
            "* **Carne roja y procesada:**\n",
            "* **Alimentos ultraprocesados:** \n",
            "\n"
          ]
        }
      ]
    },
    {
      "cell_type": "code",
      "source": [
        "print(rag_chain.invoke('recomendaciones de meriendas dulces'))"
      ],
      "metadata": {
        "colab": {
          "base_uri": "https://localhost:8080/"
        },
        "id": "NGYUZ_EbszK-",
        "outputId": "2bf97950-5fde-44fe-a7f8-f0b3e4d41afe"
      },
      "execution_count": 39,
      "outputs": [
        {
          "output_type": "stream",
          "name": "stdout",
          "text": [
            "Para una merienda dulce, puedes optar por:\n",
            "\n",
            "* **Fruta entera:** Naranja, melocotón, melón, limón, mandarina, sandía, manzana ácida.\n",
            "* **Combinaciones de fruta:** Naranja y vainilla, melocotón, limón y tomillo, pepino y mejorana, mandarina y albahaca, naranja, clavo y canela en rama, sandía y romero, hinojo y naranja o limón.\n",
            "* **Fruta desecada:** Pasas, ciruelas, orejones, dátiles. \n",
            "* **Infusión:** Puedes preparar una infusión de hierbas aromáticas como tomillo, mejorana, albahaca, romero. \n",
            "\n",
            "Recuerda que es importante evitar el azúcar añadido y priorizar la fruta entera. \n",
            "\n"
          ]
        }
      ]
    },
    {
      "cell_type": "markdown",
      "metadata": {
        "id": "ycg5S5i_n-kL"
      },
      "source": [
        "#### **2.1.4 Verificación de respuestas (0.5 puntos)**\n",
        "\n",
        "Genere un listado de 3 tuplas (\"pregunta\", \"respuesta correcta\") y analice la respuesta de su solución para cada una. ¿Su solución RAG entrega las respuestas que esperaba?\n",
        "\n",
        "Ejemplo de tupla:\n",
        "- Pregunta: ¿Quién es el presidente de Chile?\n",
        "- Respuesta correcta: El presidente de Chile es Gabriel Boric"
      ]
    },
    {
      "cell_type": "code",
      "execution_count": 41,
      "metadata": {
        "id": "S_UiEn1hoZYR",
        "colab": {
          "base_uri": "https://localhost:8080/"
        },
        "outputId": "1c5b8c66-a81b-4cee-89ae-c7b027dbf8d7"
      },
      "outputs": [
        {
          "output_type": "stream",
          "name": "stdout",
          "text": [
            "Pregunta:  que alimentos debe tener la dieta de una persona con diabetes?\n",
            "Respuesta de ref:  Frutas.Verduras.Granos integrales.Legumbres, como frijoles y guisantes. Productos lácteos bajos en grasa, como leche y queso.\n",
            "Respuesta RAG chain:  La dieta de una persona con diabetes debe incluir alimentos como pan, cereales, pastas, legumbres, arroz y verduras. Estos alimentos contribuyen al aporte de fibra, especialmente la fibra soluble, que ha demostrado tener efectos beneficiosos sobre el perfil glucémico. Los glúcidos sencillos serán aportados mediante la ingesta de frutas y leche. Los horarios de las comidas en pacientes insulinodependiente se deben ajustar en función de la pauta de insulina. \n",
            "\n",
            "Pregunta:  alimentos recomendados para la deshidratación\n",
            "Respuesta de ref:  Beba líquidos. A veces, los líquidos muy fríos resultan más fáciles de beber.     Recuerde que los alimentos contienen líquidos. Procure comer frutas, verduras,     sopas, gelatinas, paletas de helado y otros alimentos hidratados\n",
            "Respuesta RAG chain:  La información proporcionada no menciona alimentos específicos recomendados para la deshidratación. \n",
            "\n",
            "Sin embargo, sí indica que se recomienda una ingesta de agua natural de aproximadamente 1-1,5 litros al día para el adecuado funcionamiento y equilibrio del organismo. \n",
            "\n",
            "Pregunta:  que alimentos recomeindas para reducir la obesidad\n",
            "Respuesta de ref:  nn\n",
            "Respuesta RAG chain:  Para reducir la obesidad, se recomienda reducir tanto el aporte calórico global como la ingesta de grasas. Se recomienda consumir:\n",
            "\n",
            "* **Pescado:** Dos o más raciones a la semana (con excepción de los filetes de pescado frito comerciales), ya que proporcionan ácidos grasos poliinsaturados n-3.\n",
            "* **Conservas de pescado en aceite de oliva:** Son una buena fuente de proteínas y ácidos grasos saludables.\n",
            "* **Conejo, pollo o pavo sin piel asado, frito en aceite de oliva o al horno:** Son carnes magras que aportan proteínas de alta calidad.\n",
            "* **Ternera, cerdo magro o jamón serrano, suprimiendo la grasa visible:** Son carnes magras que se pueden consumir con moderación.\n",
            "* **Huevos:** 2 a la semana.\n",
            "* **Nueces naturales:** Diariamente.\n",
            "* **Fruta:** Fresca a diario (naranjas, fresas, kiwi, etc.).\n",
            "* **Verdura:** Fresca a diario (tomates, zanahorias, lechuga, etc.).\n",
            "\n",
            "**Alimentos a restringir:**\n",
            "\n",
            "* **Sal y alimentos salados:**  \n",
            "* **Azúcar y alimentos y bebidas azucaradas:**\n",
            "* **Carne roja y procesada:**\n",
            "* **Alimentos ultraprocesados:**\n",
            "\n",
            "**Consejos prácticos:**\n",
            "\n",
            "* **Monitorizar periódicamente las variaciones de peso, del perfil lipídico y del control glucémico.** Esto te ayudará a evaluar el efecto de los cambios dietéticos.\n",
            "* **Leer las etiquetas de los alimentos:**  Para controlar la cantidad de calorías, grasas, azúcares y sal que consumes.\n",
            "* **Cocinar en casa:**  Te permite controlar los ingredientes y la cantidad de grasas que se utilizan.\n",
            "* **Beber mucha agua:**  Te ayuda a sentirte saciado y a reducir la ingesta de calorías.\n",
            "* **Hacer ejercicio físico regularmente:**  Te ayuda a quemar calorías y a mejorar tu salud en general.\n",
            "\n"
          ]
        }
      ],
      "source": [
        "referencia = [\n",
        "    ('que alimentos debe tener la dieta de una persona con diabetes?',\n",
        "     #respuesta\n",
        "    'Frutas.Verduras.Granos integrales.Legumbres, como frijoles y guisantes. Productos lácteos bajos en grasa, como leche y queso.'),\n",
        "    ('alimentos recomendados para la deshidratación',\n",
        "     \"Beba líquidos. A veces, los líquidos muy fríos resultan más fáciles de beber.\\\n",
        "     Recuerde que los alimentos contienen líquidos. Procure comer frutas, verduras,\\\n",
        "     sopas, gelatinas, paletas de helado y otros alimentos hidratados\"),\n",
        "    ('que alimentos recomeindas para reducir la obesidad',\n",
        "     'nn')]\n",
        "\n",
        "for i, ref in enumerate(referencia):\n",
        "  print('Pregunta: ', ref[0])\n",
        "  print('Respuesta de ref: ', ref[1])\n",
        "  print('Respuesta RAG chain: ', rag_chain.invoke(ref[0]))"
      ]
    },
    {
      "cell_type": "markdown",
      "metadata": {
        "id": "X8d5zTMHoUgF"
      },
      "source": [
        "#### **2.1.5 Sensibilidad de Hiperparámetros (0.5 puntos)**\n",
        "\n",
        "Extienda el análisis del punto 2.1.4 analizando cómo cambian las respuestas entregadas cambiando los siguientes hiperparámetros:\n",
        "- `Tamaño del chunk`. (*¿Cómo repercute que los chunks sean mas grandes o chicos?*)\n",
        "- `La cantidad de chunks recuperados`. (*¿Qué pasa si se devuelven muchos/pocos chunks?*)\n",
        "- `El tipo de búsqueda`. (*¿Cómo afecta el tipo de búsqueda a las respuestas de mi RAG?*)"
      ]
    },
    {
      "cell_type": "code",
      "source": [
        "text_splitter = RecursiveCharacterTextSplitter(chunk_size=300, chunk_overlap=50) # inicializamos splitter\n",
        "splits = text_splitter.split_documents(docs)\n",
        "embedding = GoogleGenerativeAIEmbeddings(model=\"models/embedding-001\") # inicializamos los embeddings\n",
        "vectorstore = FAISS.from_documents(documents=splits, embedding=embedding) # vectorizacion y almacenamiento\n",
        "vectorstore\n",
        "retriever = vectorstore.as_retriever(search_type=\"similarity\", # método de búsqueda\n",
        "                                     search_kwargs={\"k\": 3}, # n° documentos a recuperar\n",
        "                                     )\n",
        "\n",
        "retriever_chain = retriever | format_docs # chain"
      ],
      "metadata": {
        "id": "CI2r2huOaO6q"
      },
      "execution_count": 42,
      "outputs": []
    },
    {
      "cell_type": "code",
      "source": [
        "rag_prompt = PromptTemplate.from_template(rag_template)\n",
        "\n",
        "# Finalmente, condensamos todo en una chain para recuperar información relevante y responder al mismo tiempo:\n",
        "\n",
        "rag_chain = (\n",
        "    {\n",
        "        \"context\": retriever_chain, # context lo obtendremos del retriever_chain\n",
        "        \"question\": RunnablePassthrough(), # question pasará directo hacia el prompt\n",
        "    }\n",
        "    | rag_prompt # prompt con las variables question y context\n",
        "    | llm # llm recibe el prompt y responde\n",
        "    | StrOutputParser() # recuperamos sólo la respuesta\n",
        ")\n",
        "\n",
        "for i, ref in enumerate(referencia):\n",
        "  print('Pregunta: ', ref[0])\n",
        "  print('Respuesta de ref: ', ref[1])\n",
        "  print('Respuesta RAG chain: ', rag_chain.invoke(ref[0]))"
      ],
      "metadata": {
        "colab": {
          "base_uri": "https://localhost:8080/"
        },
        "id": "xhBGcL2eYM--",
        "outputId": "3d484ba2-ce4c-4168-ea0e-73160d038354"
      },
      "execution_count": 43,
      "outputs": [
        {
          "output_type": "stream",
          "name": "stdout",
          "text": [
            "Pregunta:  que alimentos debe tener la dieta de una persona con diabetes?\n",
            "Respuesta de ref:  Frutas.Verduras.Granos integrales.Legumbres, como frijoles y guisantes. Productos lácteos bajos en grasa, como leche y queso.\n",
            "Respuesta RAG chain:  La dieta de una persona con diabetes debe incluir alimentos frescos, poco procesados o sin procesar y principalmente vegetales, evitando los alimentos de baja calidad nutricional y las bebidas alcohólicas. \n",
            "\n",
            "Pregunta:  alimentos recomendados para la deshidratación\n",
            "Respuesta de ref:  Beba líquidos. A veces, los líquidos muy fríos resultan más fáciles de beber.     Recuerde que los alimentos contienen líquidos. Procure comer frutas, verduras,     sopas, gelatinas, paletas de helado y otros alimentos hidratados\n",
            "Respuesta RAG chain:  La mejor bebida para la deshidratación es el agua, tanto durante las comidas como entre ellas. \n",
            "Si algún día quieres tomar una bebida distinta, puedes elegir un agua con gas, un zumo de fruta sin azúcares añadidos, una infusión, etc. \n",
            "\n",
            "Pregunta:  que alimentos recomeindas para reducir la obesidad\n",
            "Respuesta de ref:  nn\n",
            "Respuesta RAG chain:  Para reducir la obesidad, se recomienda:\n",
            "\n",
            "* **Favorecer el consumo de legumbres, verduras verdes, hortalizas (sobre todo tomate), frutas (sobre todo naranja, uva, ciruelas, kiwi, melón, etc).**\n",
            "* **Reducir el consumo de grasa saturada ingiriendo lácteos semidesnatados.**\n",
            "* **Conejo, pollo o pavo sin piel asado, frito en aceite de oliva o al horno.**\n",
            "* **El consumo de ternera, cerdo magro o jamón serrano, se hará suprimiendo la grasa visible.**\n",
            "* **Huevos 2 a la semana.**\n",
            "* **Nueces naturales, diariamente.**\n",
            "\n",
            "Además, es importante:\n",
            "\n",
            "* **Realizar ejercicio físico de forma regular.**\n",
            "* **Evitar el consumo de tabaco.** \n",
            "\n"
          ]
        }
      ]
    },
    {
      "cell_type": "code",
      "execution_count": 44,
      "metadata": {
        "id": "UDh_QgeXLGHc"
      },
      "outputs": [],
      "source": [
        "text_splitter = RecursiveCharacterTextSplitter(chunk_size=1000, chunk_overlap=50) # inicializamos splitter\n",
        "splits = text_splitter.split_documents(docs)\n",
        "embedding = GoogleGenerativeAIEmbeddings(model=\"models/embedding-001\") # inicializamos los embeddings\n",
        "vectorstore = FAISS.from_documents(documents=splits, embedding=embedding) # vectorizacion y almacenamiento\n",
        "vectorstore\n",
        "retriever = vectorstore.as_retriever(search_type=\"similarity\", # método de búsqueda\n",
        "                                     search_kwargs={\"k\": 3}, # n° documentos a recuperar\n",
        "                                     )\n",
        "\n",
        "retriever_chain = retriever | format_docs # chain"
      ]
    },
    {
      "cell_type": "code",
      "source": [
        "text_splitter = RecursiveCharacterTextSplitter(chunk_size=1000, chunk_overlap=50) # inicializamos splitter\n",
        "splits = text_splitter.split_documents(docs)\n",
        "embedding = GoogleGenerativeAIEmbeddings(model=\"models/embedding-001\") # inicializamos los embeddings\n",
        "vectorstore = FAISS.from_documents(documents=splits, embedding=embedding) # vectorizacion y almacenamiento\n",
        "vectorstore\n",
        "retriever = vectorstore.as_retriever(search_type=\"similarity\", # método de búsqueda\n",
        "                                     search_kwargs={\"k\": 3}, # n° documentos a recuperar\n",
        "                                     )\n",
        "\n",
        "retriever_chain = retriever | format_docs # chain\n",
        "rag_prompt = PromptTemplate.from_template(rag_template)\n",
        "\n",
        "# Finalmente, condensamos todo en una chain para recuperar información relevante y responder al mismo tiempo:\n",
        "\n",
        "rag_chain = (\n",
        "    {\n",
        "        \"context\": retriever_chain, # context lo obtendremos del retriever_chain\n",
        "        \"question\": RunnablePassthrough(), # question pasará directo hacia el prompt\n",
        "    }\n",
        "    | rag_prompt # prompt con las variables question y context\n",
        "    | llm # llm recibe el prompt y responde\n",
        "    | StrOutputParser() # recuperamos sólo la respuesta\n",
        ")\n",
        "\n",
        "for i, ref in enumerate(referencia):\n",
        "  print('Pregunta: ', ref[0])\n",
        "  print('Respuesta de ref: ', ref[1])\n",
        "  print('Respuesta RAG chain: ', rag_chain.invoke(ref[0]))"
      ],
      "metadata": {
        "colab": {
          "base_uri": "https://localhost:8080/"
        },
        "id": "2rYyrNwmaSuR",
        "outputId": "9d48bb00-a619-4aff-8cdd-39f715716d20"
      },
      "execution_count": 45,
      "outputs": [
        {
          "output_type": "stream",
          "name": "stdout",
          "text": [
            "Pregunta:  que alimentos debe tener la dieta de una persona con diabetes?\n",
            "Respuesta de ref:  Frutas.Verduras.Granos integrales.Legumbres, como frijoles y guisantes. Productos lácteos bajos en grasa, como leche y queso.\n",
            "Respuesta RAG chain:  La dieta de una persona con diabetes debe ser individualizada, pero en general debe incluir:\n",
            "\n",
            "* **Carbohidratos complejos:** Estos se encuentran en alimentos como el pan, cereales, pastas, legumbres, arroz y verduras. Estos alimentos también aportan fibra, que es beneficiosa para el control del azúcar en sangre.\n",
            "* **Frutas:** Las frutas aportan glúcidos sencillos y fibra.\n",
            "* **Proteínas:** Las proteínas deben estar presentes en la dieta, pero no en exceso.\n",
            "* **Grasas:** Las grasas deben ser saludables, como las que se encuentran en el aceite de oliva, los frutos secos y los pescados.\n",
            "\n",
            "Es importante tener en cuenta que la cantidad de cada tipo de alimento debe ser ajustada según las necesidades individuales de cada persona. \n",
            "\n",
            "Pregunta:  alimentos recomendados para la deshidratación\n",
            "Respuesta de ref:  Beba líquidos. A veces, los líquidos muy fríos resultan más fáciles de beber.     Recuerde que los alimentos contienen líquidos. Procure comer frutas, verduras,     sopas, gelatinas, paletas de helado y otros alimentos hidratados\n",
            "Respuesta RAG chain:  Para la deshidratación se recomienda consumir alimentos ricos en agua como frutas y hortalizas. \n",
            "También es importante beber agua natural, aproximadamente 1-1,5 litros al día. \n",
            "Se desaconsejan las bebidas deportivas, refrescos y zumos por su escaso contenido en sodio y exceso de azúcares. \n",
            "Tampoco se recomienda el uso de preparados caseros de rehidratación (limonada alcalina) ya que tienen un alto riesgo de intoxicación salina. \n",
            "\n",
            "Pregunta:  que alimentos recomeindas para reducir la obesidad\n",
            "Respuesta de ref:  nn\n",
            "Respuesta RAG chain:  Para reducir la obesidad, te recomiendo consumir:\n",
            "\n",
            "* **Carnes y aves:** Conejo, pollo o pavo sin piel asado, frito en aceite de oliva o al horno. El consumo de ternera, cerdo magro o jamón serrano, se hará suprimiendo la grasa visible.\n",
            "* **Huevos:** 2 a la semana.\n",
            "* **Frutos secos:** Nueces naturales, diariamente. \n",
            "* **Frutas y verduras:** Frescas a diario, como naranjas, fresas, kiwi, tomates, zanahorias y lechuga.\n",
            "\n",
            "**Evita el consumo de:**\n",
            "\n",
            "* **Desayunos, meriendas y postres:** Bollos, ensaimadas, croissants y magdalenas de elaboración industrial. Mantequilla o margarina. Embutidos, excepto jamón serrano poco graso y pavo. Sucedáneos de chocolate, pastelería y galletas. Helados, batidos, flanes y natillas. Quesos secos y grasos.\n",
            "* **Comidas y cenas:** Cocinar con mantequilla, tocino o embutidos. Arroces y pastas preparados con salsas de mantequilla o nata o tocino. Comidas precocinadas. Patatas fritas de bolsa o churrería. Calamares. Hamburguesas comerciales, frankfurt, longanizas o embutidos. Pato, cordero, cochinillo, vísceras y despojos.\n",
            "\n",
            "**Además, es importante:**\n",
            "\n",
            "* Evitar el consumo de alimentos calóricos con escaso interés nutritivo como los zumos industriales y los refrescos, e incluso, los que además aportan grasa saturada y trans como los aperitivos y la bollería industrial.\n",
            "\n"
          ]
        }
      ]
    },
    {
      "cell_type": "markdown",
      "source": [
        "Al aumentar el tamaño del chunk, se tiene más contexto por lo que tiene sentido que las respuestas entregadas la segunda prueba tengan mayor extension."
      ],
      "metadata": {
        "id": "3eGk92MLZqCh"
      }
    },
    {
      "cell_type": "code",
      "source": [
        "# Cambio de numero de chunks a recuperar\n",
        "text_splitter = RecursiveCharacterTextSplitter(chunk_size=500, chunk_overlap=50) # inicializamos splitter\n",
        "splits = text_splitter.split_documents(docs)\n",
        "embedding = GoogleGenerativeAIEmbeddings(model=\"models/embedding-001\") # inicializamos los embeddings\n",
        "vectorstore = FAISS.from_documents(documents=splits, embedding=embedding) # vectorizacion y almacenamiento\n",
        "vectorstore\n",
        "retriever = vectorstore.as_retriever(search_type=\"similarity\", # método de búsqueda\n",
        "                                     search_kwargs={\"k\": 6}, # n° documentos a recuperar\n",
        "                                     )\n",
        "\n",
        "retriever_chain = retriever | format_docs # chain\n",
        "rag_prompt = PromptTemplate.from_template(rag_template)\n",
        "\n",
        "# Finalmente, condensamos todo en una chain para recuperar información relevante y responder al mismo tiempo:\n",
        "\n",
        "rag_chain = (\n",
        "    {\n",
        "        \"context\": retriever_chain, # context lo obtendremos del retriever_chain\n",
        "        \"question\": RunnablePassthrough(), # question pasará directo hacia el prompt\n",
        "    }\n",
        "    | rag_prompt # prompt con las variables question y context\n",
        "    | llm # llm recibe el prompt y responde\n",
        "    | StrOutputParser() # recuperamos sólo la respuesta\n",
        ")\n",
        "\n",
        "for i, ref in enumerate(referencia):\n",
        "  print('Pregunta: ', ref[0])\n",
        "  print('Respuesta de ref: ', ref[1])\n",
        "  print('Respuesta RAG chain: ', rag_chain.invoke(ref[0]))"
      ],
      "metadata": {
        "colab": {
          "base_uri": "https://localhost:8080/"
        },
        "id": "C9FWmZW9cdEg",
        "outputId": "127cd38e-e0f9-46c8-b258-858e94eb0f95"
      },
      "execution_count": 46,
      "outputs": [
        {
          "output_type": "stream",
          "name": "stdout",
          "text": [
            "Pregunta:  que alimentos debe tener la dieta de una persona con diabetes?\n",
            "Respuesta de ref:  Frutas.Verduras.Granos integrales.Legumbres, como frijoles y guisantes. Productos lácteos bajos en grasa, como leche y queso.\n",
            "Respuesta RAG chain:  La dieta de una persona con diabetes debe ajustarse de forma individualizada, teniendo en cuenta la valoración del estado nutricional, su estilo de vida y los objetivos terapéuticos marcados. \n",
            "\n",
            "**En general, la dieta debe incluir:**\n",
            "\n",
            "* **Alimentos ricos en fibra:** pan, cereales, pastas, legumbres, arroz y verduras. Estos alimentos contribuyen al aporte de fibra, especialmente la fibra soluble, que ha demostrado tener efectos beneficiosos sobre el perfil glucémico.\n",
            "* **Frutas:** aportan glúcidos sencillos.\n",
            "* **Leche:** aporta glúcidos sencillos.\n",
            "* **Alimentos con control de carbohidratos:** se deben ajustar en función de la pauta de insulina utilizada, adaptada a cada paciente, y al perfil glucémico.\n",
            "\n",
            "**Se deben evitar o limitar:**\n",
            "\n",
            "* **Alimentos flatulentos:** cebolla cruda, alcachofa, col, coliflor, coles de Bruselas, bróculi, melón, sandía, legumbres.\n",
            "* **Frutas ácidas:** naranja.\n",
            "\n",
            "**Recomendaciones adicionales:**\n",
            "\n",
            "* Los horarios de las comidas en pacientes insulinodependiente se deben ajustar en función de la pauta de insulina utilizada.\n",
            "* Se deben realizar 6 comidas al día para distribuir los carbohidratos a lo largo del día.\n",
            "* Se deben elegir alimentos con baja densidad calórica.\n",
            "* Se pueden consumir libremente alimentos que contienen gran cantidad de fibra y menos del 5% de HC, como muchos vegetales.\n",
            "\n",
            "**Es importante destacar que la dieta debe ser personalizada y debe ser supervisada por un profesional de la salud.** \n",
            "\n",
            "Pregunta:  alimentos recomendados para la deshidratación\n",
            "Respuesta de ref:  Beba líquidos. A veces, los líquidos muy fríos resultan más fáciles de beber.     Recuerde que los alimentos contienen líquidos. Procure comer frutas, verduras,     sopas, gelatinas, paletas de helado y otros alimentos hidratados\n",
            "Respuesta RAG chain:  Para la deshidratación se recomienda beber agua natural de 1 a 1,5 litros al día. También se pueden consumir bebidas acalóricas como agua con gas o zumo de fruta sin azúcares. \n",
            "\n",
            "Pregunta:  que alimentos recomeindas para reducir la obesidad\n",
            "Respuesta de ref:  nn\n",
            "Respuesta RAG chain:  Para reducir la obesidad, se recomienda reducir tanto el aporte calórico global como la ingesta de grasas. \n",
            "\n",
            "**Alimentos recomendados:**\n",
            "\n",
            "* **Pescado:** Dos o más raciones a la semana (excepto filetes de pescado frito comerciales).\n",
            "* **Conservas de pescado en aceite de oliva:** Opción saludable y práctica.\n",
            "* **Conejo, pollo o pavo sin piel:** Asado, frito en aceite de oliva o al horno.\n",
            "* **Ternera, cerdo magro o jamón serrano:** Suprimiendo la grasa visible.\n",
            "* **Huevos:** 2 a la semana.\n",
            "* **Nueces naturales:** Diariamente.\n",
            "* **Fruta:** Fresca a diario (naranjas, fresas, kiwi, etc.).\n",
            "* **Verdura:** Fresca a diario (tomates, zanahorias, lechuga, etc.).\n",
            "\n",
            "**Alimentos a restringir:**\n",
            "\n",
            "* **Sal y alimentos salados:** Disminuir su consumo.\n",
            "* **Azúcar y alimentos y bebidas azucaradas:** Evitar su consumo.\n",
            "* **Carne roja y procesada:** Consumir con moderación.\n",
            "* **Alimentos ultraprocesados:** Evitar su consumo.\n",
            "\n",
            "**Recomendaciones adicionales:**\n",
            "\n",
            "* **Espaciar el intervalo entre las comidas.**\n",
            "* **Realizar ejercicio físico de forma regular.**\n",
            "* **Evitar el consumo de tabaco.**\n",
            "\n",
            "**Monitorización:**\n",
            "\n",
            "* **Monitorizar periódicamente las variaciones de peso, del perfil lipídico y del control glucémico.**\n",
            "\n",
            "**En casos de obesidad grave refractaria (IMC > 35 kg/m2), pueden ensayarse agentes serotoninérgicos y/o cirugía bariátrica.**\n",
            "\n"
          ]
        }
      ]
    },
    {
      "cell_type": "code",
      "source": [
        "# Cambio de numero de chunks a recuperar\n",
        "text_splitter = RecursiveCharacterTextSplitter(chunk_size=500, chunk_overlap=50) # inicializamos splitter\n",
        "splits = text_splitter.split_documents(docs)\n",
        "embedding = GoogleGenerativeAIEmbeddings(model=\"models/embedding-001\") # inicializamos los embeddings\n",
        "vectorstore = FAISS.from_documents(documents=splits, embedding=embedding) # vectorizacion y almacenamiento\n",
        "retriever = vectorstore.as_retriever(search_type=\"similarity\", # método de búsqueda\n",
        "                                     search_kwargs={\"k\": 2}, # n° documentos a recuperar\n",
        "                                     )\n",
        "\n",
        "retriever_chain = retriever | format_docs # chain\n",
        "rag_prompt = PromptTemplate.from_template(rag_template)\n",
        "\n",
        "# Finalmente, condensamos todo en una chain para recuperar información relevante y responder al mismo tiempo:\n",
        "\n",
        "rag_chain = (\n",
        "    {\n",
        "        \"context\": retriever_chain, # context lo obtendremos del retriever_chain\n",
        "        \"question\": RunnablePassthrough(), # question pasará directo hacia el prompt\n",
        "    }\n",
        "    | rag_prompt # prompt con las variables question y context\n",
        "    | llm # llm recibe el prompt y responde\n",
        "    | StrOutputParser() # recuperamos sólo la respuesta\n",
        ")\n",
        "\n",
        "for i, ref in enumerate(referencia):\n",
        "  print('Pregunta: ', ref[0])\n",
        "  print('Respuesta de ref: ', ref[1])\n",
        "  print('Respuesta RAG chain: ', rag_chain.invoke(ref[0]))"
      ],
      "metadata": {
        "colab": {
          "base_uri": "https://localhost:8080/"
        },
        "id": "17KMKaLAeaOA",
        "outputId": "23896ced-94ac-4fc6-d191-f3581661acd8"
      },
      "execution_count": 49,
      "outputs": [
        {
          "output_type": "stream",
          "name": "stdout",
          "text": [
            "Pregunta:  que alimentos debe tener la dieta de una persona con diabetes?\n",
            "Respuesta de ref:  Frutas.Verduras.Granos integrales.Legumbres, como frijoles y guisantes. Productos lácteos bajos en grasa, como leche y queso.\n",
            "Respuesta RAG chain:  La dieta de una persona con diabetes debe incluir alimentos como pan, cereales, pastas, legumbres, arroz y verduras. Estos alimentos contribuyen al aporte de fibra, especialmente la fibra soluble, que ha demostrado tener efectos beneficiosos sobre el perfil glucémico. Los glúcidos sencillos serán aportados mediante la ingesta de frutas y leche. Los horarios de las comidas en pacientes insulinodependiente se deben ajustar en función de la pauta. \n",
            "\n",
            "Pregunta:  alimentos recomendados para la deshidratación\n",
            "Respuesta de ref:  Beba líquidos. A veces, los líquidos muy fríos resultan más fáciles de beber.     Recuerde que los alimentos contienen líquidos. Procure comer frutas, verduras,     sopas, gelatinas, paletas de helado y otros alimentos hidratados\n",
            "Respuesta RAG chain:  La información proporcionada no incluye una lista de alimentos recomendados para la deshidratación. \n",
            "Solo menciona que se debe consumir agua natural de 1-1,5 litros al día y evitar bebidas refrescantes o gaseosas. \n",
            "Además, se desaconsejan las bebidas deportivas, refrescos, zumos y preparados caseros de rehidratación. \n",
            "\n",
            "Pregunta:  que alimentos recomeindas para reducir la obesidad\n",
            "Respuesta de ref:  nn\n",
            "Respuesta RAG chain:  Para reducir la obesidad se recomienda reducir el aporte calórico global y la ingesta de grasas. Se recomienda consumir:\n",
            "\n",
            "* **Pescado:** Dos o más raciones a la semana (con excepción de los filetes de pescado frito comerciales) ya que proporcionan ácidos grasos poliinsaturados n-3.\n",
            "* **Conservas de pescado en aceite de oliva.**\n",
            "* **Conejo, pollo o pavo sin piel asado, frito en aceite de oliva o al horno.**\n",
            "* **Ternera, cerdo magro o jamón serrano, suprimiendo la grasa visible.**\n",
            "* **Huevos:** 2 a la semana.\n",
            "* **Nueces naturales, diariamente.**\n",
            "* **Fruta (naranjas, fresas, kiwi, etc.) y verdura (tomates, zanahorias, lechuga), frescas a diario.** \n",
            "\n"
          ]
        }
      ]
    },
    {
      "cell_type": "markdown",
      "source": [
        "# cambio en num archivos por recuperar"
      ],
      "metadata": {
        "id": "QkcMgsz-ec7A"
      }
    },
    {
      "cell_type": "code",
      "source": [
        "# Cambio de numero de chunks a recuperar\n",
        "text_splitter = RecursiveCharacterTextSplitter(chunk_size=500, chunk_overlap=50) # inicializamos splitter\n",
        "splits = text_splitter.split_documents(docs)\n",
        "embedding = GoogleGenerativeAIEmbeddings(model=\"models/embedding-001\") # inicializamos los embeddings\n",
        "vectorstore = FAISS.from_documents(documents=splits, embedding=embedding) # vectorizacion y almacenamiento\n",
        "\n",
        "# Maximum Marginal Relevance Search\n",
        "retriever = vectorstore.as_retriever(search_type='mmr', search_kwargs={\"k\": 2})\n",
        "\n",
        "retriever_chain = retriever | format_docs # chain\n",
        "rag_prompt = PromptTemplate.from_template(rag_template)\n",
        "\n",
        "# Finalmente, condensamos todo en una chain para recuperar información relevante y responder al mismo tiempo:\n",
        "\n",
        "rag_chain = (\n",
        "    {\n",
        "        \"context\": retriever_chain, # context lo obtendremos del retriever_chain\n",
        "        \"question\": RunnablePassthrough(), # question pasará directo hacia el prompt\n",
        "    }\n",
        "    | rag_prompt # prompt con las variables question y context\n",
        "    | llm # llm recibe el prompt y responde\n",
        "    | StrOutputParser() # recuperamos sólo la respuesta\n",
        ")\n",
        "\n",
        "for i, ref in enumerate(referencia):\n",
        "  print('Pregunta: ', ref[0])\n",
        "  print('Respuesta de ref: ', ref[1])\n",
        "  print('Respuesta RAG chain: ', rag_chain.invoke(ref[0]))"
      ],
      "metadata": {
        "colab": {
          "base_uri": "https://localhost:8080/"
        },
        "id": "6uCd7IOwegz5",
        "outputId": "41cde235-dc1b-4041-d6c7-31ea3570fedb"
      },
      "execution_count": 51,
      "outputs": [
        {
          "output_type": "stream",
          "name": "stdout",
          "text": [
            "Pregunta:  que alimentos debe tener la dieta de una persona con diabetes?\n",
            "Respuesta de ref:  Frutas.Verduras.Granos integrales.Legumbres, como frijoles y guisantes. Productos lácteos bajos en grasa, como leche y queso.\n",
            "Respuesta RAG chain:  La dieta de una persona con diabetes debe incluir alimentos como pan, cereales, pastas, legumbres, arroz y verduras. Estos alimentos contribuyen al aporte de fibra, especialmente la fibra soluble, que ha demostrado tener efectos beneficiosos sobre el perfil glucémico. Las frutas y la leche aportan glúcidos sencillos. \n",
            "\n",
            "Pregunta:  alimentos recomendados para la deshidratación\n",
            "Respuesta de ref:  Beba líquidos. A veces, los líquidos muy fríos resultan más fáciles de beber.     Recuerde que los alimentos contienen líquidos. Procure comer frutas, verduras,     sopas, gelatinas, paletas de helado y otros alimentos hidratados\n",
            "Respuesta RAG chain:  Los alimentos recomendados para la deshidratación son:\n",
            "\n",
            "* **Pescado blanco:** Hervido, a la plancha o pasado por agua.\n",
            "* **Jamón cocido:** Crudo o hervido.\n",
            "* **Zanahoria:** Hervida, en puré.\n",
            "* **Plátano y manzana muy maduros:** Compota, asada o cruda.\n",
            "* **Aceite, mantequilla, margarina:** Crudo.\n",
            "* **Galletas tipo María:** Crudo.\n",
            "* **Membrillo:** Crudo.\n",
            "* **Infusiones suaves:** Hervidas con agua o caldos suaves.\n",
            "* **Zumo de limón:** Hervido.\n",
            "* **En principio yogur.**\n",
            "* **La leche es uno de los últimos alimentos en reintroducir.**\n",
            "* **Harinas o pastas integrales:** Crudo.\n",
            "* **Carnes grasas:** Crudo.\n",
            "* **Frutas y verduras en general:** Crudo o hervido.\n",
            "\n",
            "**Se desaconsejan:**\n",
            "\n",
            "* **Bebidas deportivas, refrescos (colas, limonadas) y los zumos:** por su escaso contenido en sodio y exceso de azúcares que incrementan la osmolaridad.\n",
            "* **Cualquier preparado casero de rehidratación (limonada alcalina):** ya que tiene un alto riesgo de intoxicación salina.\n",
            "* **Café, zumo de frutas:** No se recomienda su consumo.\n",
            "\n",
            "Pregunta:  que alimentos recomeindas para reducir la obesidad\n",
            "Respuesta de ref:  nn\n",
            "Respuesta RAG chain:  Para reducir la obesidad, se recomienda reducir tanto el aporte calórico global como la ingesta de grasas. \n",
            "\n",
            "**Alimentos recomendados:**\n",
            "\n",
            "* **Frutas y verduras:** Todas (especialmente recomendadas)\n",
            "* **Cereales:** Todas en general\n",
            "* **Legumbres:** Todas (especialmente recomendadas)\n",
            "* **Lácteos:** Leche y yogur desnatados, clara de huevo\n",
            "* **Carnes:** Partes magras de buey, ternera, cordero y cerdo\n",
            "* **Pescados:** Calamares, gambas\n",
            "* **Huevos:** Clara de huevo\n",
            "* **Pasta:** Pasta con huevo\n",
            "* **Aceites:** Aceite de oliva virgen extra, aceite de girasol y maíz\n",
            "* **Bebidas:** Agua mineral, zumos de fruta o tomate, café, té, vino o cerveza (alcohol < 30 g/día, excepto en hipertrigliceridemias)\n",
            "* **Dulces:** Dátil*, higos*, almendras, nueces, avellanas, castañas*. Mermelada, miel*, azúcar, almibar*, sorbetes, postres con leche descremada, sin huevo y con aceites permitidos\n",
            "\n",
            "**Nota:** Los alimentos marcados con un asterisco (*) deben consumirse con moderación.\n",
            "\n"
          ]
        }
      ]
    },
    {
      "cell_type": "markdown",
      "metadata": {
        "id": "ENJiPPM0giX8"
      },
      "source": [
        "### **2.2 Agentes (1.0 puntos)**\n",
        "\n",
        "<p align=\"center\">\n",
        "  <img src=\"https://media1.tenor.com/m/rcqnN2aJCSEAAAAd/secret-agent-man.gif\"\n",
        "\" width=\"400\">\n",
        "</p>\n",
        "\n",
        "Similar a la sección anterior, en esta sección se busca habilitar **Agentes** para obtener información a través de tools y así responder la pregunta del usuario."
      ]
    },
    {
      "cell_type": "markdown",
      "metadata": {
        "id": "V47l7Mjfrk0N"
      },
      "source": [
        "#### **2.2.1 Tool de Tavily (0.2 puntos)**\n",
        "\n",
        "Generar una *tool* que pueda hacer consultas al motor de búsqueda **Tavily**."
      ]
    },
    {
      "cell_type": "code",
      "execution_count": 59,
      "metadata": {
        "id": "R6SLKwcWr0AG"
      },
      "outputs": [],
      "source": [
        "from langchain_community.tools.tavily_search import TavilySearchResults\n",
        "\n",
        "search_tavily = TavilySearchResults(max_results = 1) # inicializamos tool\n",
        "tools = [search_tavily] # guardamos las tools en una lista"
      ]
    },
    {
      "cell_type": "markdown",
      "metadata": {
        "id": "SonB1A-9rtRq"
      },
      "source": [
        "#### **2.2.2 Tool de Wikipedia (0.2 puntos)**\n",
        "\n",
        "Generar una *tool* que pueda hacer consultas a **Wikipedia**.\n",
        "\n",
        "*Hint: Le puede ser de ayuda el siguiente [link](https://python.langchain.com/v0.1/docs/modules/tools/).*"
      ]
    },
    {
      "cell_type": "code",
      "source": [
        "%pip install wikipedia"
      ],
      "metadata": {
        "id": "DTVliBeU28WX",
        "outputId": "600ddb17-0763-468c-99b4-136923602ffb",
        "colab": {
          "base_uri": "https://localhost:8080/"
        }
      },
      "execution_count": 60,
      "outputs": [
        {
          "output_type": "stream",
          "name": "stdout",
          "text": [
            "Requirement already satisfied: wikipedia in /usr/local/lib/python3.10/dist-packages (1.4.0)\n",
            "Requirement already satisfied: beautifulsoup4 in /usr/local/lib/python3.10/dist-packages (from wikipedia) (4.12.3)\n",
            "Requirement already satisfied: requests<3.0.0,>=2.0.0 in /usr/local/lib/python3.10/dist-packages (from wikipedia) (2.32.3)\n",
            "Requirement already satisfied: charset-normalizer<4,>=2 in /usr/local/lib/python3.10/dist-packages (from requests<3.0.0,>=2.0.0->wikipedia) (3.4.0)\n",
            "Requirement already satisfied: idna<4,>=2.5 in /usr/local/lib/python3.10/dist-packages (from requests<3.0.0,>=2.0.0->wikipedia) (3.10)\n",
            "Requirement already satisfied: urllib3<3,>=1.21.1 in /usr/local/lib/python3.10/dist-packages (from requests<3.0.0,>=2.0.0->wikipedia) (2.2.3)\n",
            "Requirement already satisfied: certifi>=2017.4.17 in /usr/local/lib/python3.10/dist-packages (from requests<3.0.0,>=2.0.0->wikipedia) (2024.8.30)\n",
            "Requirement already satisfied: soupsieve>1.2 in /usr/local/lib/python3.10/dist-packages (from beautifulsoup4->wikipedia) (2.6)\n"
          ]
        }
      ]
    },
    {
      "cell_type": "code",
      "execution_count": 61,
      "metadata": {
        "id": "ehJJpoqsr26-"
      },
      "outputs": [],
      "source": [
        "from langchain_community.tools import WikipediaQueryRun\n",
        "from langchain_community.utilities import WikipediaAPIWrapper\n",
        "\n",
        "api_wrapper = WikipediaAPIWrapper(top_k_results=1, doc_content_chars_max=100)\n",
        "search_wiki = WikipediaQueryRun(api_wrapper=api_wrapper)\n",
        "\n",
        "tools += [search_wiki]"
      ]
    },
    {
      "cell_type": "code",
      "source": [
        "[search_tavily] + [search_wiki]"
      ],
      "metadata": {
        "id": "MJyrroq33PQq",
        "outputId": "8c2a072b-20dd-4b00-805f-2fb20dc1ce48",
        "colab": {
          "base_uri": "https://localhost:8080/"
        }
      },
      "execution_count": 66,
      "outputs": [
        {
          "output_type": "execute_result",
          "data": {
            "text/plain": [
              "[TavilySearchResults(max_results=1, api_wrapper=TavilySearchAPIWrapper(tavily_api_key=SecretStr('**********'))),\n",
              " WikipediaQueryRun(api_wrapper=WikipediaAPIWrapper(wiki_client=<module 'wikipedia' from '/usr/local/lib/python3.10/dist-packages/wikipedia/__init__.py'>, top_k_results=1, lang='en', load_all_available_meta=False, doc_content_chars_max=100))]"
            ]
          },
          "metadata": {},
          "execution_count": 66
        }
      ]
    },
    {
      "cell_type": "markdown",
      "metadata": {
        "id": "CvUIMdX6r0ne"
      },
      "source": [
        "#### **2.2.3 Crear Agente (0.3 puntos)**\n",
        "\n",
        "Crear un agente que pueda responder preguntas preguntas usando las *tools* antes generadas. Asegúrese que su agente responda en español. Por último, guarde el agente en una variable."
      ]
    },
    {
      "cell_type": "code",
      "execution_count": 46,
      "metadata": {
        "id": "pD1_n0wrsDI5"
      },
      "outputs": [],
      "source": []
    },
    {
      "cell_type": "markdown",
      "metadata": {
        "id": "dKV0JxK3r-XG"
      },
      "source": [
        "#### **2.2.4 Verificación de respuestas (0.3 puntos)**\n",
        "\n",
        "Pruebe el funcionamiento de su agente y asegúrese que el agente esté ocupando correctamente las tools disponibles. ¿En qué casos el agente debería ocupar la tool de Tavily? ¿En qué casos debería ocupar la tool de Wikipedia?"
      ]
    },
    {
      "cell_type": "code",
      "execution_count": 46,
      "metadata": {
        "id": "Pqo2dsxvywW_"
      },
      "outputs": [],
      "source": []
    },
    {
      "cell_type": "markdown",
      "metadata": {
        "id": "cZbDTYiogquv"
      },
      "source": [
        "### **2.3 Multi Agente (1.5 puntos)**\n",
        "\n",
        "<p align=\"center\">\n",
        "  <img src=\"https://media1.tenor.com/m/r7QMJLxU4BoAAAAd/this-is-getting-out-of-hand-star-wars.gif\"\n",
        "\" width=\"450\">\n",
        "</p>\n",
        "\n",
        "El objetivo de esta subsección es encapsular las funcionalidades creadas en una solución multiagente con un **supervisor**.\n"
      ]
    },
    {
      "cell_type": "markdown",
      "metadata": {
        "id": "7-iUfH0WvI6m"
      },
      "source": [
        "#### **2.3.1 Generando Tools (0.5 puntos)**\n",
        "\n",
        "Transforme la solución RAG de la sección 2.1 y el agente de la sección 2.2 a *tools* (una tool por cada uno)."
      ]
    },
    {
      "cell_type": "code",
      "execution_count": 46,
      "metadata": {
        "id": "pw1cfTtvv1AZ"
      },
      "outputs": [],
      "source": []
    },
    {
      "cell_type": "markdown",
      "metadata": {
        "id": "HQYNjT_0vPCg"
      },
      "source": [
        "#### **2.3.2 Agente Supervisor (0.5 puntos)**\n",
        "\n",
        "Habilite un agente que tenga acceso a las tools del punto anterior y pueda responder preguntas relacionadas. Almacene este agente en una variable llamada supervisor."
      ]
    },
    {
      "cell_type": "code",
      "execution_count": 46,
      "metadata": {
        "id": "yv2ZY0BAv1RD"
      },
      "outputs": [],
      "source": []
    },
    {
      "cell_type": "markdown",
      "metadata": {
        "id": "ea3zWlvyvY7K"
      },
      "source": [
        "#### **2.3.3 Verificación de respuestas (0.25 puntos)**\n",
        "\n",
        "Pruebe el funcionamiento de su agente repitiendo las preguntas realizadas en las secciones 2.1.4 y 2.2.4 y comente sus resultados. ¿Cómo varían las respuestas bajo este enfoque?"
      ]
    },
    {
      "cell_type": "code",
      "execution_count": 46,
      "metadata": {
        "id": "6_1t0zkgv1qW"
      },
      "outputs": [],
      "source": []
    },
    {
      "cell_type": "markdown",
      "metadata": {
        "id": "Qb8bdAmYvgwn"
      },
      "source": [
        "#### **2.3.4 Análisis (0.25 puntos)**\n",
        "\n",
        "¿Qué diferencias tiene este enfoque con la solución *Router* vista en clases? Nombre al menos una ventaja y desventaja."
      ]
    },
    {
      "cell_type": "markdown",
      "metadata": {
        "id": "YAUlJxqoLK5r"
      },
      "source": [
        "`escriba su respuesta acá`"
      ]
    },
    {
      "cell_type": "markdown",
      "metadata": {
        "id": "4JWVSuWiZ8Mj"
      },
      "source": [
        "### **2.4 Memoria (Bonus +0.5 puntos)**\n",
        "\n",
        "<p align=\"center\">\n",
        "  <img src=\"https://media1.tenor.com/m/Gs95aiElrscAAAAd/memory-unlocked-ratatouille-critic.gif\"\n",
        "\" width=\"400\">\n",
        "</p>\n",
        "\n",
        "Una de las principales falencias de las soluciones que hemos visto hasta ahora es que nuestro chat no responde las interacciones anteriores, por ejemplo:\n",
        "\n",
        "- Pregunta 1: \"Hola! mi nombre es Sebastián\"\n",
        "  - Respuesta esperada: \"Hola Sebastián! ...\"\n",
        "- Pregunta 2: \"Cual es mi nombre?\"\n",
        "  - Respuesta actual: \"Lo siento pero no conozco tu nombre :(\"\n",
        "  - **Respuesta esperada: \"Tu nombre es Sebastián\"**\n",
        "\n",
        "Para solucionar esto, se les solicita agregar un componente de **memoria** a la solución entregada en el punto 2.3.\n",
        "\n",
        "**Nota: El Bonus es válido <u>sólo para la sección 2 de Large Language Models.</u>**"
      ]
    },
    {
      "cell_type": "code",
      "execution_count": 46,
      "metadata": {
        "id": "K6Y7tIPJLPfB"
      },
      "outputs": [],
      "source": []
    },
    {
      "cell_type": "markdown",
      "metadata": {
        "id": "vFc3jBT5g0kT"
      },
      "source": [
        "### **2.5 Despliegue (0 puntos)**\n",
        "\n",
        "<p align=\"center\">\n",
        "  <img src=\"https://media1.tenor.com/m/IytHqOp52EsAAAAd/you-get-a-deploy-deploy.gif\"\n",
        "\" width=\"400\">\n",
        "</p>\n",
        "\n",
        "Una vez tengan los puntos anteriores finalizados, toca la etapa de dar a conocer lo que hicimos! Para eso, vamos a desplegar nuestro modelo a través de `gradio`, una librería especializada en el levantamiento rápido de demos basadas en ML.\n",
        "\n",
        "Primero instalamos la librería:"
      ]
    },
    {
      "cell_type": "code",
      "execution_count": 47,
      "metadata": {
        "id": "T8TsvnCPbkIA"
      },
      "outputs": [],
      "source": [
        "%pip install --upgrade --quiet gradio"
      ]
    },
    {
      "cell_type": "markdown",
      "metadata": {
        "id": "HJBztEUovKsF"
      },
      "source": [
        "Luego sólo deben ejecutar el siguiente código e interactuar con la interfaz a través del notebook o del link generado:"
      ]
    },
    {
      "cell_type": "code",
      "execution_count": 48,
      "metadata": {
        "id": "Z3KedQSvg1-n",
        "colab": {
          "base_uri": "https://localhost:8080/",
          "height": 614
        },
        "outputId": "86289f6e-e140-4fb9-9e22-dbe5a64586b0"
      },
      "outputs": [
        {
          "output_type": "stream",
          "name": "stdout",
          "text": [
            "Colab notebook detected. To show errors in colab notebook, set debug=True in launch()\n",
            "* Running on public URL: https://8519dba04d0882d0e1.gradio.live\n",
            "\n",
            "This share link expires in 72 hours. For free permanent hosting and GPU upgrades, run `gradio deploy` from the terminal in the working directory to deploy to Hugging Face Spaces (https://huggingface.co/spaces)\n"
          ]
        },
        {
          "output_type": "display_data",
          "data": {
            "text/plain": [
              "<IPython.core.display.HTML object>"
            ],
            "text/html": [
              "<div><iframe src=\"https://8519dba04d0882d0e1.gradio.live\" width=\"100%\" height=\"500\" allow=\"autoplay; camera; microphone; clipboard-read; clipboard-write;\" frameborder=\"0\" allowfullscreen></iframe></div>"
            ]
          },
          "metadata": {}
        },
        {
          "output_type": "execute_result",
          "data": {
            "text/plain": []
          },
          "metadata": {},
          "execution_count": 48
        }
      ],
      "source": [
        "import gradio as gr\n",
        "import time\n",
        "\n",
        "def agent_response(message, history):\n",
        "  '''\n",
        "  Función para gradio, recibe mensaje e historial, devuelte la respuesta del chatbot.\n",
        "  '''\n",
        "  # get chatbot response\n",
        "  response = ... # rellenar con la respuesta de su chat\n",
        "\n",
        "  # assert\n",
        "  assert type(response) == str, \"output de route_question debe ser string\"\n",
        "\n",
        "  # \"streaming\" response\n",
        "  for i in range(len(response)):\n",
        "    time.sleep(0.015)\n",
        "    yield response[: i+1]\n",
        "\n",
        "gr.ChatInterface(\n",
        "    agent_response,\n",
        "    type=\"messages\",\n",
        "    title=\"Chatbot MDS7202\", # Pueden cambiar esto si lo desean\n",
        "    description=\"Hola! Soy un chatbot muy útil :)\", # también la descripción\n",
        "    theme=\"soft\",\n",
        "    ).launch(\n",
        "        share=True, # pueden compartir el link a sus amig@s para que interactuen con su chat!\n",
        "        debug = False,\n",
        "        )"
      ]
    }
  ],
  "metadata": {
    "colab": {
      "provenance": []
    },
    "kernelspec": {
      "display_name": "Python 3",
      "name": "python3"
    },
    "language_info": {
      "name": "python"
    }
  },
  "nbformat": 4,
  "nbformat_minor": 0
}