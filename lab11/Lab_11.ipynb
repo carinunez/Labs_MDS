{
  "cells": [
    {
      "cell_type": "markdown",
      "metadata": {
        "id": "PyPTffTLug7i"
      },
      "source": [
        "# **Laboratorio 11: LLM y Agentes Autónomos 🤖**\n",
        "\n",
        "MDS7202: Laboratorio de Programación Científica para Ciencia de Datos"
      ]
    },
    {
      "cell_type": "markdown",
      "metadata": {
        "id": "5pbWVyntzbvL"
      },
      "source": [
        "### **Cuerpo Docente:**\n",
        "\n",
        "- Profesores: Ignacio Meza, Sebastián Tinoco\n",
        "- Auxiliar: Eduardo Moya\n",
        "- Ayudantes: Nicolás Ojeda, Melanie Peña, Valentina Rojas"
      ]
    },
    {
      "cell_type": "markdown",
      "metadata": {
        "id": "dy6ikgVYzghB"
      },
      "source": [
        "### **Equipo: SUPER IMPORTANTE - notebooks sin nombre no serán revisados**\n",
        "\n",
        "- Nombre de alumno 1: Carolina Nuñez\n",
        "- Nombre de alumno 2: Alonso Uribe"
      ]
    },
    {
      "cell_type": "markdown",
      "metadata": {
        "id": "iMJ-owchzjFf"
      },
      "source": [
        "### **Link de repositorio de GitHub:** [Repositorio💻](https://github.com/carinunez/Labs_MDS)"
      ]
    },
    {
      "cell_type": "markdown",
      "metadata": {
        "id": "WUuwsXrKzmkK"
      },
      "source": [
        "## **Temas a tratar**\n",
        "\n",
        "- Reinforcement Learning\n",
        "- Large Language Models\n",
        "\n",
        "## **Reglas:**\n",
        "\n",
        "- **Grupos de 2 personas**\n",
        "- Cualquier duda fuera del horario de clases al foro. Mensajes al equipo docente serán respondidos por este medio.\n",
        "- Prohibidas las copias.\n",
        "- Pueden usar cualquer matrial del curso que estimen conveniente.\n",
        "\n",
        "### **Objetivos principales del laboratorio**\n",
        "\n",
        "- Resolución de problemas secuenciales usando Reinforcement Learning\n",
        "- Habilitar un Chatbot para entregar respuestas útiles usando Large Language Models.\n",
        "\n",
        "El laboratorio deberá ser desarrollado sin el uso indiscriminado de iteradores nativos de python (aka \"for\", \"while\"). La idea es que aprendan a exprimir al máximo las funciones optimizadas que nos entrega `pandas`, las cuales vale mencionar, son bastante más eficientes que los iteradores nativos sobre DataFrames."
      ]
    },
    {
      "cell_type": "markdown",
      "metadata": {
        "id": "0hmHHQ9BuyAG"
      },
      "source": [
        "## **1. Reinforcement Learning (2.0 puntos)**\n",
        "\n",
        "En esta sección van a usar métodos de RL para resolver dos problemas interesantes: `Blackjack` y `LunarLander`."
      ]
    },
    {
      "cell_type": "code",
      "execution_count": null,
      "metadata": {
        "id": "gOcejYb6uzOO"
      },
      "outputs": [],
      "source": [
        "!pip install -qqq gymnasium stable_baselines3\n",
        "!pip install -qqq swig\n",
        "!pip install -qqq gymnasium[box2d]"
      ]
    },
    {
      "cell_type": "markdown",
      "metadata": {
        "id": "qBPet_Mq8dX9"
      },
      "source": [
        "### **1.1 Blackjack (1.0 puntos)**\n",
        "\n",
        "<p align=\"center\">\n",
        "  <img src=\"https://www.recreoviral.com/wp-content/uploads/2016/08/s3.amazonaws.com-Math.gif\"\n",
        "\" width=\"400\">\n",
        "</p>\n",
        "\n",
        "La idea de esta subsección es que puedan implementar métodos de RL y así generar una estrategia para jugar el clásico juego Blackjack y de paso puedan ~~hacerse millonarios~~ aprender a resolver problemas mediante RL.\n",
        "\n",
        "Comencemos primero preparando el ambiente. El siguiente bloque de código transforma las observaciones del ambiente a `np.array`:\n"
      ]
    },
    {
      "cell_type": "code",
      "execution_count": null,
      "metadata": {
        "id": "LpZ8bBKk9ZlU"
      },
      "outputs": [],
      "source": [
        "import gymnasium as gym\n",
        "from gymnasium.spaces import MultiDiscrete\n",
        "import numpy as np\n",
        "\n",
        "class FlattenObservation(gym.ObservationWrapper):\n",
        "    def __init__(self, env):\n",
        "        super(FlattenObservation, self).__init__(env)\n",
        "        self.observation_space = MultiDiscrete(np.array([32, 11, 2]))\n",
        "\n",
        "    def observation(self, observation):\n",
        "        return np.array(observation).flatten()\n",
        "\n",
        "# Create and wrap the environment\n",
        "env = gym.make(\"Blackjack-v1\")\n",
        "env = FlattenObservation(env)"
      ]
    },
    {
      "cell_type": "markdown",
      "metadata": {
        "id": "ZJ6J1_-Y9nHO"
      },
      "source": [
        "#### **1.1.1 Descripción de MDP (0.2 puntos)**\n",
        "\n",
        "Entregue una breve descripción sobre el ambiente [Blackjack](https://gymnasium.farama.org/environments/toy_text/blackjack/) y su formulación en MDP, distinguiendo de forma clara y concisa los estados, acciones y recompensas."
      ]
    },
    {
      "cell_type": "markdown",
      "metadata": {
        "id": "G5i1Wt1p770x"
      },
      "source": [
        "`escriba su respuesta acá`"
      ]
    },
    {
      "cell_type": "markdown",
      "metadata": {
        "id": "pmcX6bRC9agQ"
      },
      "source": [
        "#### **1.1.2 Generando un Baseline (0.2 puntos)**\n",
        "\n",
        "Simule un escenario en donde se escojan acciones aleatorias. Repita esta simulación 5000 veces y reporte el promedio y desviación de las recompensas. ¿Cómo calificaría el performance de esta política? ¿Cómo podría interpretar las recompensas obtenidas?"
      ]
    },
    {
      "cell_type": "code",
      "execution_count": null,
      "metadata": {
        "id": "9p2PrLLR9yju"
      },
      "outputs": [],
      "source": []
    },
    {
      "cell_type": "markdown",
      "metadata": {
        "id": "LEO_dY4x_SJu"
      },
      "source": [
        "#### **1.1.3 Entrenamiento de modelo (0.2 puntos)**\n",
        "\n",
        "A partir del siguiente [enlace](https://stable-baselines3.readthedocs.io/en/master/guide/algos.html), escoja un modelo de `stable_baselines3` y entrenelo para resolver el ambiente `Blackjack`."
      ]
    },
    {
      "cell_type": "code",
      "execution_count": null,
      "metadata": {
        "id": "m9JsFA1wGmnH"
      },
      "outputs": [],
      "source": []
    },
    {
      "cell_type": "markdown",
      "metadata": {
        "id": "E-bpdb8wZID1"
      },
      "source": [
        "#### **1.1.4 Evaluación de modelo (0.2 puntos)**\n",
        "\n",
        "Repita el ejercicio 1.1.2 pero utilizando el modelo entrenado. ¿Cómo es el performance de su agente? ¿Es mejor o peor que el escenario baseline?"
      ]
    },
    {
      "cell_type": "code",
      "execution_count": null,
      "metadata": {
        "id": "5-d7d8GFf7F6"
      },
      "outputs": [],
      "source": []
    },
    {
      "cell_type": "markdown",
      "metadata": {
        "id": "RO-EsAaPAYEm"
      },
      "source": [
        "#### **1.1.5 Estudio de acciones (0.2 puntos)**\n",
        "\n",
        "Genere una función que reciba un estado y retorne la accion del agente. Luego, use esta función para entregar la acción escogida frente a los siguientes escenarios:\n",
        "\n",
        "- Suma de cartas del agente es 6, dealer muestra un 7, agente no tiene tiene un as\n",
        "- Suma de cartas del agente es 19, dealer muestra un 3, agente tiene tiene un as\n",
        "\n",
        "¿Son coherentes sus acciones con las reglas del juego?\n",
        "\n",
        "Hint: ¿A que clase de python pertenecen los estados? Pruebe a usar el método `.reset` para saberlo."
      ]
    },
    {
      "cell_type": "code",
      "execution_count": null,
      "metadata": {
        "id": "Fh8XlGyzwtRp"
      },
      "outputs": [],
      "source": []
    },
    {
      "cell_type": "markdown",
      "metadata": {
        "id": "SEqCTqqroh03"
      },
      "source": [
        "### **1.2 LunarLander**\n",
        "\n",
        "<p align=\"center\">\n",
        "  <img src=\"https://i.redd.it/097t6tk29zf51.jpg\"\n",
        "\" width=\"400\">\n",
        "</p>\n",
        "\n",
        "Similar a la sección 2.1, en esta sección usted se encargará de implementar una gente de RL que pueda resolver el ambiente `LunarLander`.\n",
        "\n",
        "Comencemos preparando el ambiente:\n"
      ]
    },
    {
      "cell_type": "code",
      "execution_count": null,
      "metadata": {
        "id": "nvQUyuZ_FtZ4"
      },
      "outputs": [],
      "source": [
        "import gymnasium as gym\n",
        "env = gym.make(\"LunarLander-v2\", render_mode = \"rgb_array\", continuous = True) # notar el parámetro continuous = True"
      ]
    },
    {
      "cell_type": "markdown",
      "metadata": {
        "id": "FBU4lGX3wpN6"
      },
      "source": [
        "Noten que se especifica el parámetro `continuous = True`. ¿Que implicancias tiene esto sobre el ambiente?\n",
        "\n",
        "Además, se le facilita la función `export_gif` para el ejercicio 2.2.4:"
      ]
    },
    {
      "cell_type": "code",
      "execution_count": null,
      "metadata": {
        "id": "bRiWpSo9yfr9"
      },
      "outputs": [],
      "source": [
        "import imageio\n",
        "import numpy as np\n",
        "\n",
        "def export_gif(model, n = 5):\n",
        "  '''\n",
        "  función que exporta a gif el comportamiento del agente en n episodios\n",
        "  '''\n",
        "  images = []\n",
        "  for episode in range(n):\n",
        "    obs = model.env.reset()\n",
        "    img = model.env.render()\n",
        "    done = False\n",
        "    while not done:\n",
        "      images.append(img)\n",
        "      action, _ = model.predict(obs)\n",
        "      obs, reward, done, info = model.env.step(action)\n",
        "      img = model.env.render(mode=\"rgb_array\")\n",
        "\n",
        "  imageio.mimsave(\"agent_performance.gif\", [np.array(img) for i, img in enumerate(images) if i%2 == 0], fps=29)"
      ]
    },
    {
      "cell_type": "markdown",
      "metadata": {
        "id": "sk5VJVppXh3N"
      },
      "source": [
        "#### **1.2.1 Descripción de MDP (0.2 puntos)**\n",
        "\n",
        "Entregue una breve descripción sobre el ambiente [LunarLander](https://gymnasium.farama.org/environments/box2d/lunar_lander/) y su formulación en MDP, distinguiendo de forma clara y concisa los estados, acciones y recompensas. ¿Como se distinguen las acciones de este ambiente en comparación a `Blackjack`?\n",
        "\n",
        "Nota: recuerde que se especificó el parámetro `continuous = True`"
      ]
    },
    {
      "cell_type": "markdown",
      "metadata": {
        "id": "Yb-u9LUE8O9a"
      },
      "source": [
        "`escriba su respuesta acá`"
      ]
    },
    {
      "cell_type": "markdown",
      "metadata": {
        "id": "YChodtNQwzG2"
      },
      "source": [
        "#### **1.2.2 Generando un Baseline (0.2 puntos)**\n",
        "\n",
        "Simule un escenario en donde se escojan acciones aleatorias. Repita esta simulación 10 veces y reporte el promedio y desviación de las recompensas. ¿Cómo calificaría el performance de esta política?"
      ]
    },
    {
      "cell_type": "code",
      "execution_count": null,
      "metadata": {
        "id": "5bwc3A0GX7a8"
      },
      "outputs": [],
      "source": []
    },
    {
      "cell_type": "markdown",
      "metadata": {
        "id": "hQrZVQflX_5f"
      },
      "source": [
        "#### **1.2.3 Entrenamiento de modelo (0.2 puntos)**\n",
        "\n",
        "A partir del siguiente [enlace](https://stable-baselines3.readthedocs.io/en/master/guide/algos.html), escoja un modelo de `stable_baselines3` y entrenelo para resolver el ambiente `LunarLander` **usando 10000 timesteps de entrenamiento**."
      ]
    },
    {
      "cell_type": "code",
      "execution_count": null,
      "metadata": {
        "id": "y_6Ia9uoF7Hs"
      },
      "outputs": [],
      "source": []
    },
    {
      "cell_type": "markdown",
      "metadata": {
        "id": "3z-oIUSrlAsY"
      },
      "source": [
        "#### **1.2.4 Evaluación de modelo (0.2 puntos)**\n",
        "\n",
        "Repita el ejercicio 1.2.2 pero utilizando el modelo entrenado. ¿Cómo es el performance de su agente? ¿Es mejor o peor que el escenario baseline?"
      ]
    },
    {
      "cell_type": "code",
      "execution_count": null,
      "metadata": {
        "id": "ophyU3KrWrwl"
      },
      "outputs": [],
      "source": []
    },
    {
      "cell_type": "markdown",
      "metadata": {
        "id": "x6Xw4YHT3P5d"
      },
      "source": [
        "#### **1.2.5 Optimización de modelo (0.2 puntos)**\n",
        "\n",
        "Repita los ejercicios 1.2.3 y 1.2.4 hasta obtener un nivel de recompensas promedio mayor a 50. Para esto, puede cambiar manualmente parámetros como:\n",
        "- `total_timesteps`\n",
        "- `learning_rate`\n",
        "- `batch_size`\n",
        "\n",
        "Una vez optimizado el modelo, use la función `export_gif` para estudiar el comportamiento de su agente en la resolución del ambiente y comente sobre sus resultados.\n",
        "\n",
        "Adjunte el gif generado en su entrega (mejor aún si además adjuntan el gif en el markdown)."
      ]
    },
    {
      "cell_type": "code",
      "execution_count": null,
      "metadata": {
        "id": "aItYF6sr6F_6"
      },
      "outputs": [],
      "source": []
    },
    {
      "cell_type": "markdown",
      "metadata": {
        "id": "mPUY-Ktgf2BO"
      },
      "source": [
        "## **2. Large Language Models (4.0 puntos)**\n",
        "\n",
        "En esta sección se enfocarán en habilitar un Chatbot que nos permita responder preguntas útiles a través de LLMs."
      ]
    },
    {
      "cell_type": "markdown",
      "metadata": {
        "id": "mQ4fPRRihGLe"
      },
      "source": [
        "### **2.0 Configuración Inicial**\n",
        "<!--\n",
        "<p align=\"center\">\n",
        "  <img src=\"https://media1.tenor.com/m/uqAs9atZH58AAAAd/config-config-issue.gif\"\n",
        "\" width=\"400\">\n",
        "</p> -->\n",
        "\n",
        "Como siempre, cargamos todas nuestras API KEY al entorno:"
      ]
    },
    {
      "cell_type": "code",
      "execution_count": 11,
      "metadata": {
        "id": "Ud2Xm_k-hFJn",
        "colab": {
          "base_uri": "https://localhost:8080/"
        },
        "outputId": "867a0774-08eb-4d5b-f26c-f50805d47708"
      },
      "outputs": [
        {
          "name": "stdout",
          "output_type": "stream",
          "text": [
            "Enter your Google AI API key: ··········\n",
            "Enter your Tavily API key: ··········\n"
          ]
        }
      ],
      "source": [
        "import getpass\n",
        "import os\n",
        "\n",
        "if \"GOOGLE_API_KEY\" not in os.environ:\n",
        "    os.environ[\"GOOGLE_API_KEY\"] = getpass.getpass(\"Enter your Google AI API key: \")\n",
        "\n",
        "if \"TAVILY_API_KEY\" not in os.environ:\n",
        "    os.environ[\"TAVILY_API_KEY\"] = getpass.getpass(\"Enter your Tavily API key: \")"
      ]
    },
    {
      "cell_type": "markdown",
      "metadata": {
        "id": "Rj9JvQUsgZZJ"
      },
      "source": [
        "### **2.1 Retrieval Augmented Generation (1.5 puntos)**\n",
        "\n",
        "<!-- <p align=\"center\">\n",
        "  <img src=\"https://y.yarn.co/218aaa02-c47e-4ec9-b1c9-07792a06a88f_text.gif\"\n",
        "\" width=\"400\">\n",
        "</p> -->\n",
        "\n",
        "El objetivo de esta subsección es que habiliten un chatbot que pueda responder preguntas usando información contenida en documentos PDF a través de **Retrieval Augmented Generation.**"
      ]
    },
    {
      "cell_type": "markdown",
      "metadata": {
        "id": "ZrxOQroVnaZ5"
      },
      "source": [
        "#### **2.1.1 Reunir Documentos (0 puntos)**\n",
        "\n",
        "Reuna documentos PDF sobre los que hacer preguntas siguiendo las siguientes instrucciones:\n",
        "  - 2 documentos .pdf como mínimo.\n",
        "  - 50 páginas de contenido como mínimo entre todos los documentos.\n",
        "  - Ideas para documentos: Documentos relacionados a temas académicos, laborales o de ocio. Aprovechen este ejercicio para construir algo útil y/o relevante para ustedes!\n",
        "  - Deben ocupar documentos reales, no pueden utilizar los mismos de la clase.\n",
        "  - Deben registrar sus documentos en la siguiente [planilla](https://docs.google.com/spreadsheets/d/1Hy1w_dOiG2UCHJ8muyxhdKPZEPrrL7BNHm6E90imIIM/edit?usp=sharing). **NO PUEDEN USAR LOS MISMOS DOCUMENTOS QUE OTRO GRUPO**\n",
        "  - **Recuerden adjuntar los documentos en su entrega**."
      ]
    },
    {
      "cell_type": "code",
      "source": [
        "from google.colab import drive\n",
        "drive.mount('/content/gdrive')"
      ],
      "metadata": {
        "id": "pH-I97c5wPUh",
        "colab": {
          "base_uri": "https://localhost:8080/"
        },
        "outputId": "e93e9068-a487-42b2-f521-35b4649ac51f"
      },
      "execution_count": 5,
      "outputs": [
        {
          "output_type": "stream",
          "name": "stdout",
          "text": [
            "Mounted at /content/gdrive\n"
          ]
        }
      ]
    },
    {
      "cell_type": "code",
      "execution_count": 1,
      "metadata": {
        "id": "5D1tIRCi4oJJ",
        "colab": {
          "base_uri": "https://localhost:8080/"
        },
        "outputId": "4c52cbfc-38d6-4206-ea39-1ddffff4792f"
      },
      "outputs": [
        {
          "output_type": "stream",
          "name": "stdout",
          "text": [
            "\u001b[?25l   \u001b[90m━━━━━━━━━━━━━━━━━━━━━━━━━━━━━━━━━━━━━━━━\u001b[0m \u001b[32m0.0/232.6 kB\u001b[0m \u001b[31m?\u001b[0m eta \u001b[36m-:--:--\u001b[0m\r\u001b[2K   \u001b[91m━━━━━━━━━━━━━━━━━━━━━━━━━━━━━━━━━━━\u001b[0m\u001b[90m╺\u001b[0m\u001b[90m━━━━\u001b[0m \u001b[32m204.8/232.6 kB\u001b[0m \u001b[31m5.8 MB/s\u001b[0m eta \u001b[36m0:00:01\u001b[0m\r\u001b[2K   \u001b[90m━━━━━━━━━━━━━━━━━━━━━━━━━━━━━━━━━━━━━━━━\u001b[0m \u001b[32m232.6/232.6 kB\u001b[0m \u001b[31m4.6 MB/s\u001b[0m eta \u001b[36m0:00:00\u001b[0m\n",
            "\u001b[?25h"
          ]
        }
      ],
      "source": [
        "%pip install --upgrade --quiet PyPDF2"
      ]
    },
    {
      "cell_type": "code",
      "source": [
        "%pip install --upgrade --quiet  langchain-google-genai"
      ],
      "metadata": {
        "id": "caUD7ufNwfhq",
        "colab": {
          "base_uri": "https://localhost:8080/"
        },
        "outputId": "ba42e196-aea1-48e9-9728-f1c375845a8c"
      },
      "execution_count": 2,
      "outputs": [
        {
          "output_type": "stream",
          "name": "stdout",
          "text": [
            "\u001b[?25l   \u001b[90m━━━━━━━━━━━━━━━━━━━━━━━━━━━━━━━━━━━━━━━━\u001b[0m \u001b[32m0.0/41.3 kB\u001b[0m \u001b[31m?\u001b[0m eta \u001b[36m-:--:--\u001b[0m\r\u001b[2K   \u001b[90m━━━━━━━━━━━━━━━━━━━━━━━━━━━━━━━━━━━━━━━━\u001b[0m \u001b[32m41.3/41.3 kB\u001b[0m \u001b[31m1.7 MB/s\u001b[0m eta \u001b[36m0:00:00\u001b[0m\n",
            "\u001b[?25h"
          ]
        }
      ]
    },
    {
      "cell_type": "code",
      "source": [
        "%pip install --upgrade --quiet faiss-cpu langchain_community pypdf"
      ],
      "metadata": {
        "id": "Io4tl9IgyVAv",
        "colab": {
          "base_uri": "https://localhost:8080/"
        },
        "outputId": "8f6e41b6-d471-4a6b-baf1-6c0530c277e0"
      },
      "execution_count": 3,
      "outputs": [
        {
          "output_type": "stream",
          "name": "stdout",
          "text": [
            "\u001b[2K   \u001b[90m━━━━━━━━━━━━━━━━━━━━━━━━━━━━━━━━━━━━━━━━\u001b[0m \u001b[32m27.5/27.5 MB\u001b[0m \u001b[31m63.6 MB/s\u001b[0m eta \u001b[36m0:00:00\u001b[0m\n",
            "\u001b[2K   \u001b[90m━━━━━━━━━━━━━━━━━━━━━━━━━━━━━━━━━━━━━━━━\u001b[0m \u001b[32m2.4/2.4 MB\u001b[0m \u001b[31m67.7 MB/s\u001b[0m eta \u001b[36m0:00:00\u001b[0m\n",
            "\u001b[2K   \u001b[90m━━━━━━━━━━━━━━━━━━━━━━━━━━━━━━━━━━━━━━━━\u001b[0m \u001b[32m298.0/298.0 kB\u001b[0m \u001b[31m21.8 MB/s\u001b[0m eta \u001b[36m0:00:00\u001b[0m\n",
            "\u001b[2K   \u001b[90m━━━━━━━━━━━━━━━━━━━━━━━━━━━━━━━━━━━━━━━━\u001b[0m \u001b[32m3.1/3.1 MB\u001b[0m \u001b[31m79.8 MB/s\u001b[0m eta \u001b[36m0:00:00\u001b[0m\n",
            "\u001b[2K   \u001b[90m━━━━━━━━━━━━━━━━━━━━━━━━━━━━━━━━━━━━━━━━\u001b[0m \u001b[32m49.5/49.5 kB\u001b[0m \u001b[31m3.2 MB/s\u001b[0m eta \u001b[36m0:00:00\u001b[0m\n",
            "\u001b[?25h"
          ]
        }
      ]
    },
    {
      "cell_type": "code",
      "execution_count": 12,
      "metadata": {
        "id": "kzq2TjWCnu15"
      },
      "outputs": [],
      "source": [
        "import PyPDF2\n",
        "\n",
        "doc_paths = ['/content/gdrive/MyDrive/pdf_LLM/506.pdf',\n",
        "             '/content/gdrive/MyDrive/pdf_LLM/La-guia-peq-cambios-castella.pdf',\n",
        "             '/content/gdrive/MyDrive/pdf_LLM/Manual_basico_N_clinica_y_Dietetica_Valencia_2012.pdf',\n",
        "             '/content/gdrive/MyDrive/pdf_LLM/food-for-thought-mental-health-nutrition-briefing-march-2017.pdf',\n",
        "             '/content/gdrive/MyDrive/pdf_LLM/nutrients-14-00750.pdf'] # rellenar con los path a sus documentos\n",
        "\n",
        "assert len(doc_paths) >= 2, \"Deben adjuntar un mínimo de 2 documentos\"\n",
        "\n",
        "total_paginas = sum(len(PyPDF2.PdfReader(open(doc, \"rb\")).pages) for doc in doc_paths)\n",
        "assert total_paginas >= 50, f\"Páginas insuficientes: {total_paginas}\""
      ]
    },
    {
      "cell_type": "markdown",
      "metadata": {
        "id": "r811-P71nizA"
      },
      "source": [
        "#### **2.1.2 Vectorizar Documentos (0.2 puntos)**\n",
        "\n",
        "Vectorice los documentos y almacene sus representaciones de manera acorde."
      ]
    },
    {
      "cell_type": "code",
      "execution_count": 13,
      "metadata": {
        "id": "n-yXAdCSn4JM"
      },
      "outputs": [],
      "source": [
        "from langchain_community.document_loaders import PyPDFLoader\n",
        "\n",
        "docs = PyPDFLoader(doc_paths[-1]).load()\n",
        "\n",
        "for doc in doc_paths[:-1]:\n",
        "  new_doc = PyPDFLoader(doc).load()\n",
        "  docs.extend(new_doc)\n"
      ]
    },
    {
      "cell_type": "code",
      "source": [
        "# Splits docs in chunks\n",
        "from langchain_text_splitters import RecursiveCharacterTextSplitter\n",
        "\n",
        "text_splitter = RecursiveCharacterTextSplitter(chunk_size=500, chunk_overlap=50) # inicializamos splitter\n",
        "splits = text_splitter.split_documents(docs) # dividir documentos en chunks"
      ],
      "metadata": {
        "id": "XV1spUnLzL8s"
      },
      "execution_count": 14,
      "outputs": []
    },
    {
      "cell_type": "code",
      "source": [
        "from langchain_google_genai import GoogleGenerativeAIEmbeddings\n",
        "from langchain_community.vectorstores import FAISS\n",
        "\n",
        "embedding = GoogleGenerativeAIEmbeddings(model=\"models/embedding-001\")\n",
        "vectorstore = FAISS.from_documents(documents=splits, embedding=embedding) # vectorizacion y almacenamiento\n",
        "vectorstore"
      ],
      "metadata": {
        "id": "kE8h7lFIzGmX",
        "colab": {
          "base_uri": "https://localhost:8080/"
        },
        "outputId": "36ecdf70-d805-4a31-8f20-3a68b18017a5"
      },
      "execution_count": 15,
      "outputs": [
        {
          "output_type": "execute_result",
          "data": {
            "text/plain": [
              "<langchain_community.vectorstores.faiss.FAISS at 0x7da76aec21a0>"
            ]
          },
          "metadata": {},
          "execution_count": 15
        }
      ]
    },
    {
      "cell_type": "markdown",
      "metadata": {
        "id": "hAUkP5zrnyBK"
      },
      "source": [
        "#### **2.1.3 Habilitar RAG (0.3 puntos)**\n",
        "\n",
        "Habilite la solución RAG a través de una *chain* y guárdela en una variable."
      ]
    },
    {
      "cell_type": "code",
      "execution_count": 19,
      "metadata": {
        "id": "gPIySdDFn99l",
        "collapsed": true,
        "colab": {
          "base_uri": "https://localhost:8080/"
        },
        "outputId": "2cc2c74a-6f99-4ee2-e105-d373f941684a"
      },
      "outputs": [
        {
          "output_type": "stream",
          "name": "stdout",
          "text": [
            "MANUAL BÁSICO DE NUTRICIÓN CLÍNICA Y DIETÉTICA\n",
            "76\n",
            "tatas produce una respuesta glucémica del 70% respecto a una cantidad equivalente de pan blanco. La utili-\n",
            "dad de este índice pierde parte de su valor debido a que las comidas incluyen mezclas de diversos alimentos.\n",
            "2.2 Fibra. Es un HC complejo, no absorbible, que se encuentra principalmente en verduras, hortalizas, le-\n",
            "gumbres, cereales y frutas. Se recomienda una ingesta de 20-35 g por día (10-15 g de fibra cada 1000 kcal/\n",
            "\n",
            "CAPÍTULO 2. DIETÉTICA Y DIETOTERAPIA\n",
            "47\n",
            "GRUPO DE LAS VERDURAS Y HORTALIZAS\n",
            "A pesar de que las verduras y las hortalizas forman una amplia gama de alimentos, pueden ser reunidas en \n",
            "un mismo grupo, ya que los nutrientes que aportan son similares. Son alimentos en general de bajo conteni-\n",
            "do energético, ya que casi un 80% de su composición es agua. Aportan vitaminas A, C, ácido fólico, betaca-\n",
            "\n",
            "rotenos y otros carotenos (licopeno, alfacaroteno), además de flavonoides, compuestos fenólicos y clorofila \n",
            "y una importante cantidad de fibra. Las verduras y las hortalizas más verdes son más ricas en carotenos (por \n",
            "ello, es un error comer sólo la parte más blanca de la lechuga, por ejemplo). Dada la variabilidad en la rique-\n",
            "za de vitaminas y minerales que contienen los alimentos de este grupo, debe recomendarse la ingesta varia-\n"
          ]
        }
      ],
      "source": [
        "retriever = vectorstore.as_retriever(search_type=\"similarity\", # método de búsqueda\n",
        "                                     search_kwargs={\"k\": 3}, # n° documentos a recuperar\n",
        "                                     )\n",
        "\n",
        "# Funcion para corregir formato\n",
        "def format_docs(docs):\n",
        "    return \"\\n\\n\".join(doc.page_content for doc in docs)\n",
        "\n",
        "retriever_chain = retriever | format_docs # chain\n",
        "print(retriever_chain.invoke(\"lista de verduras con mayor contenido en fibra\"))"
      ]
    },
    {
      "cell_type": "code",
      "source": [
        "from langchain_core.prompts import PromptTemplate\n",
        "from langchain_core.output_parsers import StrOutputParser\n",
        "\n",
        "from langchain_google_genai import ChatGoogleGenerativeAI\n",
        "\n",
        "llm = ChatGoogleGenerativeAI(\n",
        "    model=\"gemini-1.5-flash\", # modelo de lenguaje\n",
        "    temperature=0.2, # probabilidad de \"respuestas creativas\"\n",
        "    max_tokens=None, # sin tope de tokens\n",
        "    timeout=None, # sin timeout\n",
        "    max_retries=2, # número máximo de intentos\n",
        ")\n",
        "\n",
        "# Entrego contexto para las respuestas\n",
        "rag_template = '''\n",
        "Eres un asistente experto en nutrición y salud. Haces recomendaciones sobre alimentos\n",
        "a consumir según el contexto que se te entrega.\n",
        "Tu único rol es contestar preguntas del usuario a partir de información relevante que te sea proporcionada.\n",
        "Responde siempre de la forma más completa posible y usando toda la información entregada.\n",
        "Responde sólo lo que te pregunten a partir de la información relevante, NUNCA inventes una respuesta.\n",
        "Responde en español, a menos que se te indique lo contrario.\n",
        "\n",
        "Información relevante: {context}\n",
        "Pregunta: {question}\n",
        "Respuesta útil:\n",
        "'''\n",
        "rag_prompt = PromptTemplate.from_template(rag_template)\n",
        "\n",
        "\n",
        "from langchain_core.runnables import RunnablePassthrough\n",
        "\n",
        "rag_chain = (\n",
        "    {\n",
        "        \"context\": retriever_chain, # context lo obtendremos del retriever_chain\n",
        "        \"question\": RunnablePassthrough(), # question pasará directo hacia el prompt\n",
        "    }\n",
        "    | rag_prompt # prompt con las variables question y context\n",
        "    | llm # llm recibe el prompt y responde\n",
        "    | StrOutputParser() # recuperamos sólo la respuesta\n",
        ")\n",
        "\n",
        "question = \"que frutas recomiendas para la deshidratación?\"\n",
        "response = rag_chain.invoke(question)\n",
        "print(response)\n"
      ],
      "metadata": {
        "id": "W7Ar_lIFWuM0",
        "colab": {
          "base_uri": "https://localhost:8080/"
        },
        "outputId": "023c3d1b-5a38-4169-f58c-5dd5a855328b"
      },
      "execution_count": 20,
      "outputs": [
        {
          "output_type": "stream",
          "name": "stdout",
          "text": [
            "La información proporcionada no incluye recomendaciones específicas de frutas para la deshidratación.  Solo menciona que las frutas y hortalizas, en general, contribuyen a una buena hidratación debido a su contenido de agua.\n",
            "\n"
          ]
        }
      ]
    },
    {
      "cell_type": "code",
      "source": [
        "# question = \"entregame 5 verduras con alto contenido en fibra y su cantidad, si dispones de ella'\"\n",
        "# response = rag_chain.invoke(question)\n",
        "# print(response)"
      ],
      "metadata": {
        "id": "Yhcm2MgSeABQ"
      },
      "execution_count": 15,
      "outputs": []
    },
    {
      "cell_type": "code",
      "source": [
        "question = \"que alimentos recomeindas para reducir la obesidad\"\n",
        "response = rag_chain.invoke(question)\n",
        "print(response)"
      ],
      "metadata": {
        "id": "TRtc383vcfAL",
        "colab": {
          "base_uri": "https://localhost:8080/"
        },
        "outputId": "f1037efc-491f-4707-f818-c21974854460"
      },
      "execution_count": 21,
      "outputs": [
        {
          "output_type": "stream",
          "name": "stdout",
          "text": [
            "Para reducir la obesidad, se recomienda reducir el aporte calórico global y la ingesta de grasas.  Específicamente, se sugiere consumir:\n",
            "\n",
            "* **Pescado:** Dos o más raciones a la semana (excepto filetes fritos comerciales), por su aporte de ácidos grasos poliinsaturados n-3.  Se mencionan específicamente las conservas de pescado en aceite de oliva.\n",
            "\n",
            "* **Carnes magras:** Conejo, pollo o pavo sin piel (asado, frito en aceite de oliva o al horno).  La ternera, el cerdo magro y el jamón serrano se pueden consumir suprimiendo la grasa visible.\n",
            "\n",
            "* **Huevos:**  2 a la semana.\n",
            "\n",
            "* **Frutos secos:** Nueces naturales diariamente.\n",
            "\n",
            "* **Frutas y verduras:** Frescas a diario (naranjas, fresas, kiwi, tomates, zanahorias, lechuga, etc.).\n",
            "\n",
            "\n",
            "Se deben restringir la sal y alimentos salados, el azúcar y alimentos y bebidas azucaradas, la carne roja y procesada, y los alimentos ultraprocesados.\n",
            "\n"
          ]
        }
      ]
    },
    {
      "cell_type": "code",
      "source": [
        "print(rag_chain.invoke('recomendaciones de meriendas dulces'))"
      ],
      "metadata": {
        "id": "aErx77-GMaBU",
        "colab": {
          "base_uri": "https://localhost:8080/"
        },
        "outputId": "a3505aef-2fc7-489a-a6b6-ea3ad87f2683"
      },
      "execution_count": 22,
      "outputs": [
        {
          "output_type": "stream",
          "name": "stdout",
          "text": [
            "Basándome en la información proporcionada, para una merienda dulce y saludable se podrían considerar las siguientes opciones, evitando siempre el azúcar añadido:\n",
            "\n",
            "* **Melocotón:**  Se puede consumir solo como fruta fresca.\n",
            "* **Naranja:** Se puede consumir sola como fruta fresca.  También se menciona la combinación de naranja con clavo y canela en rama, lo que podría ser una opción aromática.\n",
            "* **Mandarina:** Se puede consumir sola como fruta fresca, o combinada con albahaca (aunque no se especifica cómo).\n",
            "* **Manzana ácida:** Se puede consumir sola o combinada con limón.\n",
            "\n",
            "La información también sugiere usar fruta muy madura o fruta desecada (pasas, ciruelas, orejones, dátiles) como alternativa al azúcar en recetas dulces.  Sin embargo, no se proporcionan recetas específicas.  Se recomienda consultar las recetas saludables del \"Canal Salut\" mencionado en la información para obtener ideas más concretas.\n",
            "\n"
          ]
        }
      ]
    },
    {
      "cell_type": "markdown",
      "metadata": {
        "id": "ycg5S5i_n-kL"
      },
      "source": [
        "#### **2.1.4 Verificación de respuestas (0.5 puntos)**\n",
        "\n",
        "Genere un listado de 3 tuplas (\"pregunta\", \"respuesta correcta\") y analice la respuesta de su solución para cada una. ¿Su solución RAG entrega las respuestas que esperaba?\n",
        "\n",
        "Ejemplo de tupla:\n",
        "- Pregunta: ¿Quién es el presidente de Chile?\n",
        "- Respuesta correcta: El presidente de Chile es Gabriel Boric"
      ]
    },
    {
      "cell_type": "code",
      "source": [
        "referencia[0][1]['respuesta']"
      ],
      "metadata": {
        "id": "BF2P2vpzK0zb",
        "outputId": "74ddef8b-f111-4314-f36d-bc9d5164625e",
        "colab": {
          "base_uri": "https://localhost:8080/",
          "height": 35
        }
      },
      "execution_count": 47,
      "outputs": [
        {
          "output_type": "execute_result",
          "data": {
            "text/plain": [
              "'Frutas.Verduras.Granos integrales.Legumbres, como frijoles y       guisantes. Productos lácteos bajos en grasa, como leche y queso.'"
            ],
            "application/vnd.google.colaboratory.intrinsic+json": {
              "type": "string"
            }
          },
          "metadata": {},
          "execution_count": 47
        }
      ]
    },
    {
      "cell_type": "code",
      "execution_count": 54,
      "metadata": {
        "id": "S_UiEn1hoZYR",
        "colab": {
          "base_uri": "https://localhost:8080/"
        },
        "outputId": "d9a7eda0-a175-4fc4-bbfd-654225811784"
      },
      "outputs": [
        {
          "output_type": "stream",
          "name": "stdout",
          "text": [
            "Pregunta:  que alimentos debe tener la dieta de una persona con diabetes?\n",
            "Respuesta de ref:  Frutas.Verduras.Granos integrales.Legumbres, como frijoles y       guisantes. Productos lácteos bajos en grasa, como leche y queso.\n",
            "Respuesta RAG chain:  La dieta de una persona con diabetes tipo I o II (requiriendo entre 1500 y 2500 Kcals) debe incluir:\n",
            "\n",
            "* **Pan, cereales, pastas, legumbres, arroz y verduras:**  Estos aportan fibra, especialmente fibra soluble, beneficiosa para el perfil glucémico.\n",
            "\n",
            "* **Frutas:**  Aportan glúcidos sencillos y fibra.  Sin embargo, se debe tener precaución con las frutas ácidas como la naranja y las flatulentas como el melón y la sandía.\n",
            "\n",
            "* **Leche:**  Aporta glúcidos sencillos.\n",
            "\n",
            "La distribución de las comidas debe ajustarse a la pauta de insulina del paciente (si es insulinodependiente).  Se debe evitar o limitar el consumo de alimentos flatulentos (cebolla cruda, alcachofa, col, coliflor, coles de Bruselas, bróculi, melón, sandía, legumbres)  y  la tabla 2-20 proporciona una lista de alimentos prohibidos (la información completa de esta tabla no está disponible en el texto proporcionado).  Los cambios en la dieta deben ser graduales para asegurar un mantenimiento a largo plazo.\n",
            "\n",
            "---------------------------------------------------------------------\n",
            "Pregunta:  alimentos recomendados para la deshidratación\n",
            "Respuesta de ref:  Beba líquidos. A veces, los líquidos muy fríos resultan más fáciles de beber.                    Recuerde que los alimentos contienen líquidos. Procure comer frutas, verduras,                    sopas, gelatinas, paletas de helado y otros alimentos hidratados\n",
            "Respuesta RAG chain:  La información proporcionada no lista alimentos específicos recomendados para la deshidratación,  sino que se centra en lo que *no* se debe consumir: bebidas deportivas, refrescos (colas, limonadas), zumos, y preparados caseros de rehidratación (como limonada alcalina).  Se recomienda el consumo de agua natural (1-1,5 litros al día).  La información menciona que el agua está contenida en los alimentos, pero no especifica qué alimentos son ricos en agua y por lo tanto recomendables para la rehidratación.\n",
            "\n",
            "---------------------------------------------------------------------\n",
            "Pregunta:  que alimentos recomindas para reducir la obesidad\n",
            "Respuesta de ref:  Incluir en la dieta 2-3 raciones de fruta al día, repartidas durante la jornada tanto como postres,      tentempiés o completando un buen desayuno. Incluir 2 raciones de verduras crudas o cocidas al día.      Seleccionar proteínas magras (pescados blancos, carnes blancas) en cocciones sencillas, como a la      plancha, brasa, horno, papillote, hervidos, vapor o airfryer. Disminuir las cantidades de sal y       azúcar añadido a los alimentos. Beber por lo menos entre 1,5 y 2 litros de agua al día.       Planificar como mínimo 5 menús a la semana para evitar picoteos u otras opciones menos saludables.\n",
            "Respuesta RAG chain:  Para reducir la obesidad, se recomienda reducir el aporte calórico global y la ingesta de grasas.  Se deben consumir:\n",
            "\n",
            "* **Pescado:** Dos o más raciones a la semana (excepto filetes fritos comerciales), por su aporte de ácidos grasos poliinsaturados n-3.  Se mencionan específicamente las conservas de pescado en aceite de oliva.\n",
            "\n",
            "* **Carnes magras:** Conejo, pollo o pavo sin piel (asado, frito en aceite de oliva o al horno).  La ternera, el cerdo magro y el jamón serrano se pueden consumir suprimiendo la grasa visible.\n",
            "\n",
            "* **Huevos:**  2 a la semana.\n",
            "\n",
            "* **Frutos secos:** Nueces naturales diariamente.\n",
            "\n",
            "* **Frutas y verduras:** Frescas a diario (naranjas, fresas, kiwi, tomates, zanahorias, lechuga, etc.).\n",
            "\n",
            "\n",
            "Se deben restringir la sal y alimentos salados, el azúcar y alimentos y bebidas azucaradas, la carne roja y procesada, y los alimentos ultraprocesados.\n",
            "\n",
            "---------------------------------------------------------------------\n"
          ]
        }
      ],
      "source": [
        "referencia = [\n",
        "    ({'pregunta':'que alimentos debe tener la dieta de una persona con diabetes?'},\n",
        "      {'respuesta':'Frutas.Verduras.Granos integrales.Legumbres, como frijoles y \\\n",
        "      guisantes. Productos lácteos bajos en grasa, como leche y queso.'}),\n",
        "\n",
        "    ({'pregunta':'alimentos recomendados para la deshidratación'},\n",
        "     {'respuesta': \"Beba líquidos. A veces, los líquidos muy fríos resultan más fáciles de beber.\\\n",
        "                    Recuerde que los alimentos contienen líquidos. Procure comer frutas, verduras,\\\n",
        "                    sopas, gelatinas, paletas de helado y otros alimentos hidratados\"}),\n",
        "    ({'pregunta':'que alimentos recomindas para reducir la obesidad'},\n",
        "     {'respuesta':'Incluir en la dieta 2-3 raciones de fruta al día, repartidas durante la jornada tanto como postres, \\\n",
        "     tentempiés o completando un buen desayuno. Incluir 2 raciones de verduras crudas o cocidas al día. \\\n",
        "     Seleccionar proteínas magras (pescados blancos, carnes blancas) en cocciones sencillas, como a la \\\n",
        "     plancha, brasa, horno, papillote, hervidos, vapor o airfryer. Disminuir las cantidades de sal y \\\n",
        "      azúcar añadido a los alimentos. Beber por lo menos entre 1,5 y 2 litros de agua al día. \\\n",
        "      Planificar como mínimo 5 menús a la semana para evitar picoteos u otras opciones menos saludables.'})]\n",
        "\n",
        "for i, ref in enumerate(referencia):\n",
        "  print('Pregunta: ', ref[0]['pregunta'])\n",
        "  print('Respuesta de ref: ', ref[1]['respuesta'])\n",
        "  print('Respuesta RAG chain: ', rag_chain.invoke(ref[0]['pregunta']))\n",
        "  print('---------------------------------------------------------------------')"
      ]
    },
    {
      "cell_type": "markdown",
      "metadata": {
        "id": "X8d5zTMHoUgF"
      },
      "source": [
        "#### **2.1.5 Sensibilidad de Hiperparámetros (0.5 puntos)**\n",
        "\n",
        "Extienda el análisis del punto 2.1.4 analizando cómo cambian las respuestas entregadas cambiando los siguientes hiperparámetros:\n",
        "- `Tamaño del chunk`. (*¿Cómo repercute que los chunks sean mas grandes o chicos?*)\n",
        "- `La cantidad de chunks recuperados`. (*¿Qué pasa si se devuelven muchos/pocos chunks?*)\n",
        "- `El tipo de búsqueda`. (*¿Cómo afecta el tipo de búsqueda a las respuestas de mi RAG?*)"
      ]
    },
    {
      "cell_type": "code",
      "source": [
        "text_splitter = RecursiveCharacterTextSplitter(chunk_size=300, chunk_overlap=50)\n",
        "splits = text_splitter.split_documents(docs)\n",
        "embedding = GoogleGenerativeAIEmbeddings(model=\"models/embedding-001\")\n",
        "vectorstore = FAISS.from_documents(documents=splits, embedding=embedding)\n",
        "\n",
        "retriever = vectorstore.as_retriever(search_type=\"similarity\", search_kwargs={\"k\": 3})\n",
        "\n",
        "retriever_chain = retriever | format_docs # chain\n",
        "\n",
        "rag_prompt = PromptTemplate.from_template(rag_template)\n",
        "\n",
        "rag_chain = (\n",
        "    {\"context\": retriever_chain, \"question\": RunnablePassthrough()}\n",
        "    | rag_prompt | llm | StrOutputParser() )\n",
        "\n",
        "for i, ref in enumerate(referencia):\n",
        "  print('Pregunta: ', ref[0]['pregunta'])\n",
        "  print('Respuesta de ref: ', ref[1]['respuesta'])\n",
        "  print('Respuesta RAG chain: ', rag_chain.invoke(ref[0]['pregunta']))\n",
        "  print('---------------------------------------------------------------------')"
      ],
      "metadata": {
        "id": "CI2r2huOaO6q",
        "colab": {
          "base_uri": "https://localhost:8080/"
        },
        "outputId": "e3256ede-98dd-4cfd-e169-bed8b6e9ef1d"
      },
      "execution_count": 55,
      "outputs": [
        {
          "output_type": "stream",
          "name": "stdout",
          "text": [
            "Pregunta:  que alimentos debe tener la dieta de una persona con diabetes?\n",
            "Respuesta de ref:  Frutas.Verduras.Granos integrales.Legumbres, como frijoles y       guisantes. Productos lácteos bajos en grasa, como leche y queso.\n",
            "Respuesta RAG chain:  De acuerdo a la información proporcionada, la dieta de una persona con diabetes tipo I o tipo II (requiriendo entre 1500 y 2500 Kcals) debe incluir alimentos frescos y poco procesados, principalmente vegetales.  Se deben evitar los alimentos de baja calidad nutricional y las bebidas alcohólicas.  La información también menciona, como ejemplos de alimentos adecuados, las legumbres y las frutas ácidas como la naranja.  Es importante destacar que los cambios dietéticos deben ser progresivos para asegurar el mantenimiento a largo plazo de la dieta.  La información no especifica otros alimentos que deban incluirse o excluirse de la dieta.\n",
            "\n",
            "---------------------------------------------------------------------\n",
            "Pregunta:  alimentos recomendados para la deshidratación\n",
            "Respuesta de ref:  Beba líquidos. A veces, los líquidos muy fríos resultan más fáciles de beber.                    Recuerde que los alimentos contienen líquidos. Procure comer frutas, verduras,                    sopas, gelatinas, paletas de helado y otros alimentos hidratados\n",
            "Respuesta RAG chain:  Según la información proporcionada, la mejor bebida para la rehidratación es el agua, tanto durante las comidas como entre ellas.  Si se desea otra bebida, se pueden considerar opciones como agua con gas, zumo de fruta sin azúcares añadidos o infusiones.  Se debe evitar el uso de remedios o preparados caseros para la rehidratación, incluyendo limonadas alcalinas, debido al riesgo de intoxicación salina.\n",
            "\n",
            "---------------------------------------------------------------------\n",
            "Pregunta:  que alimentos recomindas para reducir la obesidad\n",
            "Respuesta de ref:  Incluir en la dieta 2-3 raciones de fruta al día, repartidas durante la jornada tanto como postres,      tentempiés o completando un buen desayuno. Incluir 2 raciones de verduras crudas o cocidas al día.      Seleccionar proteínas magras (pescados blancos, carnes blancas) en cocciones sencillas, como a la      plancha, brasa, horno, papillote, hervidos, vapor o airfryer. Disminuir las cantidades de sal y       azúcar añadido a los alimentos. Beber por lo menos entre 1,5 y 2 litros de agua al día.       Planificar como mínimo 5 menús a la semana para evitar picoteos u otras opciones menos saludables.\n",
            "Respuesta RAG chain:  Para reducir la obesidad, se recomienda favorecer el consumo de legumbres, verduras verdes, hortalizas (especialmente tomate), y frutas (como naranja, uva, ciruelas, kiwi y melón).  Se debe reducir el consumo de grasa saturada, optando por lácteos semidesnatados.  Además, se aconseja consumir conejo, pollo o pavo sin piel (asado, frito en aceite de oliva o al horno), y ternera, cerdo magro o jamón serrano, suprimiendo la grasa visible.  Se pueden consumir hasta 2 huevos a la semana y nueces naturales diariamente.  Finalmente, es importante realizar ejercicio físico de forma regular y evitar el consumo de tabaco.\n",
            "\n",
            "---------------------------------------------------------------------\n"
          ]
        }
      ]
    },
    {
      "cell_type": "code",
      "execution_count": 56,
      "metadata": {
        "id": "UDh_QgeXLGHc",
        "colab": {
          "base_uri": "https://localhost:8080/"
        },
        "outputId": "5371c30a-45f1-4afd-853d-9e78fa69d3a5"
      },
      "outputs": [
        {
          "output_type": "stream",
          "name": "stdout",
          "text": [
            "Pregunta:  que alimentos debe tener la dieta de una persona con diabetes?\n",
            "Respuesta de ref:  Frutas.Verduras.Granos integrales.Legumbres, como frijoles y       guisantes. Productos lácteos bajos en grasa, como leche y queso.\n",
            "Respuesta RAG chain:  La dieta de una persona con diabetes debe ser individualizada, considerando su estado nutricional, estilo de vida y objetivos terapéuticos.  Sin embargo, en general, debe  alcanzar y mantener un control metabólico normal a través del balance entre dieta, ejercicio y tratamiento (oral o insulina).  Para ello, la dieta debe tener una distribución porcentual de nutrientes sobre el valor calórico total de: 50-55% de glúcidos, 15-20% de proteínas y 30% de lípidos.\n",
            "\n",
            "Los glúcidos deben provenir principalmente de carbohidratos complejos como pan, cereales, pastas, legumbres, arroz y verduras.  Las frutas y la leche aportan glúcidos sencillos.  Es importante considerar el contenido de fibra, especialmente la fibra soluble, que tiene efectos beneficiosos sobre el perfil glucémico.  Los horarios de las comidas en pacientes insulinodependientes deben ajustarse a la pauta de insulina prescrita.  Además, la dieta debe contribuir a un perfil lipídico y de lipoproteínas que reduzca el riesgo de enfermedad vascular, y a mantener la tensión arterial dentro del rango normal.  Finalmente, la dieta debe prevenir y tratar las complicaciones agudas y crónicas de la diabetes.\n",
            "\n",
            "---------------------------------------------------------------------\n",
            "Pregunta:  alimentos recomendados para la deshidratación\n",
            "Respuesta de ref:  Beba líquidos. A veces, los líquidos muy fríos resultan más fáciles de beber.                    Recuerde que los alimentos contienen líquidos. Procure comer frutas, verduras,                    sopas, gelatinas, paletas de helado y otros alimentos hidratados\n",
            "Respuesta RAG chain:  Para la rehidratación se recomienda el consumo de agua natural (aproximadamente 1-1,5 litros al día).  Se deben evitar las bebidas deportivas, refrescos (colas, limonadas) y zumos debido a su bajo contenido en sodio y exceso de azúcares, que incrementan la osmolaridad.  También se desaconsejan los preparados caseros de rehidratación por el alto riesgo de intoxicación salina.  Las frutas y hortalizas son buenas fuentes de agua.\n",
            "\n",
            "---------------------------------------------------------------------\n",
            "Pregunta:  que alimentos recomindas para reducir la obesidad\n",
            "Respuesta de ref:  Incluir en la dieta 2-3 raciones de fruta al día, repartidas durante la jornada tanto como postres,      tentempiés o completando un buen desayuno. Incluir 2 raciones de verduras crudas o cocidas al día.      Seleccionar proteínas magras (pescados blancos, carnes blancas) en cocciones sencillas, como a la      plancha, brasa, horno, papillote, hervidos, vapor o airfryer. Disminuir las cantidades de sal y       azúcar añadido a los alimentos. Beber por lo menos entre 1,5 y 2 litros de agua al día.       Planificar como mínimo 5 menús a la semana para evitar picoteos u otras opciones menos saludables.\n",
            "Respuesta RAG chain:  Para reducir la obesidad, se recomienda consumir conejo, pollo o pavo sin piel (asado, frito en aceite de oliva o al horno).  La ternera, el cerdo magro y el jamón serrano se pueden incluir suprimiendo la grasa visible.  Incluir dos huevos a la semana, nueces naturales diariamente, y frutas (naranjas, fresas, kiwi, etc.) y verduras (tomates, zanahorias, lechuga) frescas a diario.  Se deben evitar los alimentos con elevado contenido calórico y escaso interés nutritivo, como los zumos industriales, refrescos, aperitivos y bollería industrial, ya que estos aportan grasas saturadas y trans.  También se deben restringir los alimentos listados en la sección \"Alimentos a restringir\".\n",
            "\n",
            "---------------------------------------------------------------------\n"
          ]
        }
      ],
      "source": [
        "# Chunck de mayor tamaño\n",
        "text_splitter = RecursiveCharacterTextSplitter(chunk_size=1000, chunk_overlap=50)\n",
        "splits = text_splitter.split_documents(docs)\n",
        "embedding = GoogleGenerativeAIEmbeddings(model=\"models/embedding-001\")\n",
        "vectorstore = FAISS.from_documents(documents=splits, embedding=embedding)\n",
        "\n",
        "retriever = vectorstore.as_retriever(search_type=\"similarity\", search_kwargs={\"k\": 3})\n",
        "\n",
        "retriever_chain = retriever | format_docs # chain\n",
        "\n",
        "rag_prompt = PromptTemplate.from_template(rag_template)\n",
        "\n",
        "rag_chain = (\n",
        "    {\"context\": retriever_chain, \"question\": RunnablePassthrough()}\n",
        "    | rag_prompt | llm | StrOutputParser() )\n",
        "\n",
        "for i, ref in enumerate(referencia):\n",
        "  print('Pregunta: ', ref[0]['pregunta'])\n",
        "  print('Respuesta de ref: ', ref[1]['respuesta'])\n",
        "  print('Respuesta RAG chain: ', rag_chain.invoke(ref[0]['pregunta']))\n",
        "  print('---------------------------------------------------------------------')"
      ]
    },
    {
      "cell_type": "markdown",
      "source": [
        "Al aumentar el tamaño del chunk, se tiene más contexto por lo que tiene sentido que las respuestas entregadas usando chunk_size=1000, sean más completas."
      ],
      "metadata": {
        "id": "3eGk92MLZqCh"
      }
    },
    {
      "cell_type": "code",
      "source": [
        "# Cambio numero de docs a recuperar\n",
        "num_docs_recuperar = [1, 4]\n",
        "for k in num_docs_recuperar:\n",
        "    text_splitter = RecursiveCharacterTextSplitter(chunk_size=500, chunk_overlap=50)\n",
        "    splits = text_splitter.split_documents(docs)\n",
        "    embedding = GoogleGenerativeAIEmbeddings(model=\"models/embedding-001\")\n",
        "    vectorstore = FAISS.from_documents(documents=splits, embedding=embedding)\n",
        "\n",
        "    retriever = vectorstore.as_retriever(search_type=\"similarity\", search_kwargs={\"k\": k})\n",
        "\n",
        "    retriever_chain = retriever | format_docs # chain\n",
        "\n",
        "    rag_prompt = PromptTemplate.from_template(rag_template)\n",
        "\n",
        "    rag_chain = (\n",
        "        {\"context\": retriever_chain, \"question\": RunnablePassthrough()}\n",
        "        | rag_prompt | llm | StrOutputParser() )\n",
        "\n",
        "    for i, ref in enumerate(referencia):\n",
        "      print('chuck recuperados :', k)\n",
        "      print('Pregunta: ', ref[0]['pregunta'])\n",
        "      print('Respuesta de ref: ', ref[1]['respuesta'])\n",
        "      print('Respuesta RAG chain: ', rag_chain.invoke(ref[0]['pregunta']))\n",
        "      print('---------------------------------------------------------------------')"
      ],
      "metadata": {
        "id": "fjtElim7P3rR",
        "outputId": "2dbe10e2-d146-4b59-e0d7-1724c9ede2cb",
        "colab": {
          "base_uri": "https://localhost:8080/"
        }
      },
      "execution_count": 59,
      "outputs": [
        {
          "output_type": "stream",
          "name": "stdout",
          "text": [
            "chuck recuperados : 1\n",
            "Pregunta:  que alimentos debe tener la dieta de una persona con diabetes?\n",
            "Respuesta de ref:  Frutas.Verduras.Granos integrales.Legumbres, como frijoles y       guisantes. Productos lácteos bajos en grasa, como leche y queso.\n",
            "Respuesta RAG chain:  La dieta de una persona con diabetes debe incluir pan, cereales, pastas, legumbres, arroz y verduras.  Estos alimentos, junto con las frutas, aportan fibra, especialmente fibra soluble, que tiene efectos beneficiosos sobre el perfil glucémico.  Además, las frutas y la leche aportarán glúcidos sencillos.  Los horarios de las comidas deben ajustarse según la pauta de insulina.\n",
            "\n",
            "---------------------------------------------------------------------\n",
            "chuck recuperados : 1\n",
            "Pregunta:  alimentos recomendados para la deshidratación\n",
            "Respuesta de ref:  Beba líquidos. A veces, los líquidos muy fríos resultan más fáciles de beber.                    Recuerde que los alimentos contienen líquidos. Procure comer frutas, verduras,                    sopas, gelatinas, paletas de helado y otros alimentos hidratados\n",
            "Respuesta RAG chain:  La información proporcionada no incluye una lista de alimentos recomendados para la deshidratación, sino que se centra en lo que *no* se debe consumir: bebidas deportivas, refrescos (colas y limonadas), zumos y preparados caseros de rehidratación (como limonada alcalina).  La razón para evitar estos es su bajo contenido de sodio y alto contenido de azúcar, que incrementan la osmolaridad, y el riesgo de intoxicación salina en el caso de los preparados caseros.\n",
            "\n",
            "---------------------------------------------------------------------\n",
            "chuck recuperados : 1\n",
            "Pregunta:  que alimentos recomindas para reducir la obesidad\n",
            "Respuesta de ref:  Incluir en la dieta 2-3 raciones de fruta al día, repartidas durante la jornada tanto como postres,      tentempiés o completando un buen desayuno. Incluir 2 raciones de verduras crudas o cocidas al día.      Seleccionar proteínas magras (pescados blancos, carnes blancas) en cocciones sencillas, como a la      plancha, brasa, horno, papillote, hervidos, vapor o airfryer. Disminuir las cantidades de sal y       azúcar añadido a los alimentos. Beber por lo menos entre 1,5 y 2 litros de agua al día.       Planificar como mínimo 5 menús a la semana para evitar picoteos u otras opciones menos saludables.\n",
            "Respuesta RAG chain:  Para reducir la obesidad, se recomienda reducir el aporte calórico global y la ingesta de grasas.  Además, se aconseja consumir dos o más raciones de pescado a la semana (excepto filetes de pescado frito comerciales) por su aporte de ácidos grasos poliinsaturados n-3.  No se especifica qué otros alimentos son recomendables para reducir la obesidad en esta información.\n",
            "\n",
            "---------------------------------------------------------------------\n",
            "chuck recuperados : 4\n",
            "Pregunta:  que alimentos debe tener la dieta de una persona con diabetes?\n",
            "Respuesta de ref:  Frutas.Verduras.Granos integrales.Legumbres, como frijoles y       guisantes. Productos lácteos bajos en grasa, como leche y queso.\n",
            "Respuesta RAG chain:  La dieta de una persona con diabetes tipo I o II (requiriendo entre 1500 y 2500 Kcals) debe controlar los carbohidratos.  Se deben incluir alimentos como pan, cereales, pastas, legumbres, arroz y verduras, que aportan fibra, especialmente fibra soluble, beneficiosa para el perfil glucémico. Las frutas y la leche aportan glúcidos sencillos.  La distribución de los carbohidratos debe hacerse en al menos 6 comidas diarias, ajustándose a la pauta de insulina y al perfil glucémico individual.  Se deben evitar o limitar los alimentos flatulentos (cebolla cruda, alcachofa, col, coliflor, coles de Bruselas, bróculi, melón, sandía, legumbres) y las frutas ácidas (naranja),  así como los alimentos prohibidos según la Tabla 2-20 (no proporcionada en el texto). Los vegetales con alta fibra y menos del 5% de carbohidratos pueden consumirse libremente.  Los cambios dietéticos deben ser graduales para asegurar un mantenimiento a largo plazo.\n",
            "\n",
            "---------------------------------------------------------------------\n",
            "chuck recuperados : 4\n",
            "Pregunta:  alimentos recomendados para la deshidratación\n",
            "Respuesta de ref:  Beba líquidos. A veces, los líquidos muy fríos resultan más fáciles de beber.                    Recuerde que los alimentos contienen líquidos. Procure comer frutas, verduras,                    sopas, gelatinas, paletas de helado y otros alimentos hidratados\n",
            "Respuesta RAG chain:  Para la rehidratación se recomienda el consumo de agua natural (1-1,5 litros al día).  Como bebidas alternativas, se puede optar por agua con gas o zumos de fruta sin azúcares añadidos.  Se deben evitar las bebidas deportivas, refrescos (colas, limonadas), zumos con azúcar añadido y cualquier preparado casero de rehidratación, incluyendo limonadas alcalinas, debido al riesgo de intoxicación salina o desequilibrio electrolítico.\n",
            "\n",
            "---------------------------------------------------------------------\n",
            "chuck recuperados : 4\n",
            "Pregunta:  que alimentos recomindas para reducir la obesidad\n",
            "Respuesta de ref:  Incluir en la dieta 2-3 raciones de fruta al día, repartidas durante la jornada tanto como postres,      tentempiés o completando un buen desayuno. Incluir 2 raciones de verduras crudas o cocidas al día.      Seleccionar proteínas magras (pescados blancos, carnes blancas) en cocciones sencillas, como a la      plancha, brasa, horno, papillote, hervidos, vapor o airfryer. Disminuir las cantidades de sal y       azúcar añadido a los alimentos. Beber por lo menos entre 1,5 y 2 litros de agua al día.       Planificar como mínimo 5 menús a la semana para evitar picoteos u otras opciones menos saludables.\n",
            "Respuesta RAG chain:  Para reducir la obesidad, se recomienda reducir el aporte calórico global y la ingesta de grasas.  Se deben priorizar los siguientes alimentos:\n",
            "\n",
            "* **Alimentos aconsejados:**  Pescado (al menos dos raciones a la semana, excepto filetes fritos comerciales), conejo, pollo o pavo sin piel (asado, frito en aceite de oliva o al horno), ternera, cerdo magro o jamón serrano (suprimiendo la grasa visible), huevos (2 a la semana), nueces naturales (diariamente), fruta (naranjas, fresas, kiwi, etc.) y verdura (tomates, zanahorias, lechuga) frescas a diario, y conservas de pescado en aceite de oliva.  Estos alimentos son aconsejados por su bajo contenido en grasa saturada y alto contenido en hidratos de carbono complejos y fibra vegetal.\n",
            "\n",
            "* **Alimentos a restringir:**  Sal y alimentos salados, azúcar y alimentos y bebidas azucaradas, carne roja y procesada, y alimentos ultraprocesados.  Estos deben restringirse debido a su alto contenido en grasa y colesterol.\n",
            "\n",
            "---------------------------------------------------------------------\n"
          ]
        }
      ]
    },
    {
      "cell_type": "markdown",
      "source": [
        "Tal como ocurrió cuando se aumentó el tamaño de los chunks, al aumentar el número de documentos por recuperar también mejoran las respuestas entregadas."
      ],
      "metadata": {
        "id": "QkcMgsz-ec7A"
      }
    },
    {
      "cell_type": "code",
      "source": [
        "# Tipo de busqueda MMR\n",
        "text_splitter = RecursiveCharacterTextSplitter(chunk_size=500, chunk_overlap=50)\n",
        "splits = text_splitter.split_documents(docs)\n",
        "embedding = GoogleGenerativeAIEmbeddings(model=\"models/embedding-001\")\n",
        "vectorstore = FAISS.from_documents(documents=splits, embedding=embedding)\n",
        "\n",
        "retriever = vectorstore.as_retriever(search_type=\"mmr\", search_kwargs={\"k\": 3})\n",
        "\n",
        "retriever_chain = retriever | format_docs # chain\n",
        "\n",
        "rag_prompt = PromptTemplate.from_template(rag_template)\n",
        "\n",
        "rag_chain = (\n",
        "    {\"context\": retriever_chain, \"question\": RunnablePassthrough()}\n",
        "    | rag_prompt | llm | StrOutputParser() )\n",
        "\n",
        "for i, ref in enumerate(referencia):\n",
        "  print('Tipo de búsqueda :', 'mmr')\n",
        "  print('Pregunta: ', ref[0]['pregunta'])\n",
        "  print('Respuesta de ref: ', ref[1]['respuesta'])\n",
        "  print('Respuesta RAG chain: ', rag_chain.invoke(ref[0]['pregunta']))\n",
        "  print('---------------------------------------------------------------------')"
      ],
      "metadata": {
        "id": "D16QohJsQoz8",
        "outputId": "e9758cc3-41bc-4f1b-a6d5-2f287a714792",
        "colab": {
          "base_uri": "https://localhost:8080/"
        }
      },
      "execution_count": 61,
      "outputs": [
        {
          "output_type": "stream",
          "name": "stdout",
          "text": [
            "Tipo de búsqueda : mmr\n",
            "Pregunta:  que alimentos debe tener la dieta de una persona con diabetes?\n",
            "Respuesta de ref:  Frutas.Verduras.Granos integrales.Legumbres, como frijoles y       guisantes. Productos lácteos bajos en grasa, como leche y queso.\n",
            "Respuesta RAG chain:  La dieta de una persona con diabetes mellitus tipo I o tipo II, que requiera entre 1500 y 2500 kcal, debe contener  pan, cereales, pastas, legumbres, arroz y verduras,  para contribuir al aporte de fibra, especialmente fibra soluble, que beneficia el perfil glucémico.  Las frutas y la leche aportarán glúcidos sencillos.  La cantidad de carbohidratos, proteínas y grasas variará según la dieta prescrita:\n",
            "\n",
            "* **Dieta Diabética 1500:** 20 raciones de carbohidratos, 6 raciones de proteínas y 5 raciones de grasas.\n",
            "* **Dieta Diabética 1800:** 24 raciones de carbohidratos, 7 raciones de proteínas y 5,5 raciones de grasas.\n",
            "* **Dieta Diabética 2000:** 27 raciones de carbohidratos, 7.5 raciones de proteínas y 7.5 raciones de grasas.\n",
            "\n",
            "Todas las dietas se reparten en 4 o 6 comidas, y los horarios deben ajustarse según la pauta de insulina en pacientes insulinodependientes.  Se deben evitar o moderar los alimentos flatulentos (cebolla cruda, alcachofa, col, coliflor, coles de Bruselas, bróculi, melón, sandía, legumbres) y las frutas ácidas (como la naranja).  La información proporcionada no incluye detalles sobre las cantidades de cada alimento ni sobre las raciones de proteínas y grasas.\n",
            "\n",
            "---------------------------------------------------------------------\n",
            "Tipo de búsqueda : mmr\n",
            "Pregunta:  alimentos recomendados para la deshidratación\n",
            "Respuesta de ref:  Beba líquidos. A veces, los líquidos muy fríos resultan más fáciles de beber.                    Recuerde que los alimentos contienen líquidos. Procure comer frutas, verduras,                    sopas, gelatinas, paletas de helado y otros alimentos hidratados\n",
            "Respuesta RAG chain:  Para la rehidratación se recomiendan: pescado blanco (hervido o a la plancha), jamón cocido, zanahoria (hervida o en puré), plátano y manzana muy maduros (compota, asada o cruda), aceite, mantequilla, margarina, galletas tipo María, membrillo, infusiones suaves, zumo de limón, caldos suaves,  yogur (en principio), harinas o pastas integrales.  La leche se debe reintroducir al final.  Se deben evitar las bebidas deportivas, refrescos (colas, limonadas), zumos de frutas,  y cualquier preparado casero de rehidratación por el riesgo de intoxicación salina.  La ingesta mínima de agua recomendada es de 20-45 ml/kg de peso corporal al día, distribuida en cantidades regulares.\n",
            "\n",
            "---------------------------------------------------------------------\n",
            "Tipo de búsqueda : mmr\n",
            "Pregunta:  que alimentos recomindas para reducir la obesidad\n",
            "Respuesta de ref:  Incluir en la dieta 2-3 raciones de fruta al día, repartidas durante la jornada tanto como postres,      tentempiés o completando un buen desayuno. Incluir 2 raciones de verduras crudas o cocidas al día.      Seleccionar proteínas magras (pescados blancos, carnes blancas) en cocciones sencillas, como a la      plancha, brasa, horno, papillote, hervidos, vapor o airfryer. Disminuir las cantidades de sal y       azúcar añadido a los alimentos. Beber por lo menos entre 1,5 y 2 litros de agua al día.       Planificar como mínimo 5 menús a la semana para evitar picoteos u otras opciones menos saludables.\n",
            "Respuesta RAG chain:  Para reducir la obesidad, se recomienda reducir el aporte calórico global y la ingesta de grasas.  Se debe dar preferencia a alimentos como frutas y hortalizas,  y optar por los cereales integrales y el aceite de oliva virgen.  Además, se debe aumentar el consumo de agua como bebida principal y priorizar alimentos de temporada y de proximidad geográfica.  Se debe reducir el consumo de sal, alimentos salados, azúcar y alimentos con alto contenido de azúcar.\n",
            "\n",
            "---------------------------------------------------------------------\n"
          ]
        }
      ]
    },
    {
      "cell_type": "markdown",
      "source": [
        "Al buscar por Maximal marginal Relevance (MMR), se obtienen respuestas más nutridas y diversas respecto a las entregadas mediante la búsqueda por similitud."
      ],
      "metadata": {
        "id": "-iXhNGIqTmGy"
      }
    },
    {
      "cell_type": "markdown",
      "metadata": {
        "id": "ENJiPPM0giX8"
      },
      "source": [
        "### **2.2 Agentes (1.0 puntos)**\n",
        "\n",
        "<p align=\"center\">\n",
        "  <img src=\"https://media1.tenor.com/m/rcqnN2aJCSEAAAAd/secret-agent-man.gif\"\n",
        "\" width=\"400\">\n",
        "</p>\n",
        "\n",
        "Similar a la sección anterior, en esta sección se busca habilitar **Agentes** para obtener información a través de tools y así responder la pregunta del usuario."
      ]
    },
    {
      "cell_type": "markdown",
      "metadata": {
        "id": "V47l7Mjfrk0N"
      },
      "source": [
        "#### **2.2.1 Tool de Tavily (0.2 puntos)**\n",
        "\n",
        "Generar una *tool* que pueda hacer consultas al motor de búsqueda **Tavily**."
      ]
    },
    {
      "cell_type": "code",
      "execution_count": 70,
      "metadata": {
        "id": "R6SLKwcWr0AG"
      },
      "outputs": [],
      "source": [
        "from langchain_community.tools.tavily_search import TavilySearchResults\n",
        "# inicializamos tool\n",
        "search_tavily = TavilySearchResults(max_results = 1, include_raw_content=True)\n",
        "tools = [search_tavily]"
      ]
    },
    {
      "cell_type": "code",
      "source": [
        "search_tavily.invoke('qué frutas tienen alto contenido de fibra?')"
      ],
      "metadata": {
        "collapsed": true,
        "id": "Q7nG2E1uUrPR",
        "colab": {
          "base_uri": "https://localhost:8080/"
        },
        "outputId": "745ac4b4-3684-4267-dde7-1c3a0f617b0f"
      },
      "execution_count": 71,
      "outputs": [
        {
          "output_type": "execute_result",
          "data": {
            "text/plain": [
              "[{'url': 'https://saludresponde.org/nutricion/10-frutas-con-mas-fibra/',\n",
              "  'content': 'Los alimentos ricos en fibra son eliminados más fácilmente por el organismo, favoreciendo la eliminación de toxinas y mantener la salud del intestino. Es ahí que muchas de las frutas guardan la mayoría de sus fibras, como es el caso de la manzana y de la pera, por ejemplo. La pera es una de las frutas con más fibra que usted puede encontrar en el mercado. La frambuesa contiene más antioxidantes que la mayoría de las frutas, siendo considerada por los investigadores uno de los mejores alimentos naturales para la prevención y el tratamiento del cáncer. Además de delicioso y rico en fibras, el kiwi es otro de los beneficios para la salud.'}]"
            ]
          },
          "metadata": {},
          "execution_count": 71
        }
      ]
    },
    {
      "cell_type": "markdown",
      "metadata": {
        "id": "SonB1A-9rtRq"
      },
      "source": [
        "#### **2.2.2 Tool de Wikipedia (0.2 puntos)**\n",
        "\n",
        "Generar una *tool* que pueda hacer consultas a **Wikipedia**.\n",
        "\n",
        "*Hint: Le puede ser de ayuda el siguiente [link](https://python.langchain.com/v0.1/docs/modules/tools/).*"
      ]
    },
    {
      "cell_type": "code",
      "source": [
        "%pip install wikipedia"
      ],
      "metadata": {
        "id": "DTVliBeU28WX",
        "collapsed": true,
        "colab": {
          "base_uri": "https://localhost:8080/"
        },
        "outputId": "85ef7414-e640-426b-904f-c82299eb612a"
      },
      "execution_count": 64,
      "outputs": [
        {
          "output_type": "stream",
          "name": "stdout",
          "text": [
            "Collecting wikipedia\n",
            "  Downloading wikipedia-1.4.0.tar.gz (27 kB)\n",
            "  Preparing metadata (setup.py) ... \u001b[?25l\u001b[?25hdone\n",
            "Requirement already satisfied: beautifulsoup4 in /usr/local/lib/python3.10/dist-packages (from wikipedia) (4.12.3)\n",
            "Requirement already satisfied: requests<3.0.0,>=2.0.0 in /usr/local/lib/python3.10/dist-packages (from wikipedia) (2.32.3)\n",
            "Requirement already satisfied: charset-normalizer<4,>=2 in /usr/local/lib/python3.10/dist-packages (from requests<3.0.0,>=2.0.0->wikipedia) (3.4.0)\n",
            "Requirement already satisfied: idna<4,>=2.5 in /usr/local/lib/python3.10/dist-packages (from requests<3.0.0,>=2.0.0->wikipedia) (3.10)\n",
            "Requirement already satisfied: urllib3<3,>=1.21.1 in /usr/local/lib/python3.10/dist-packages (from requests<3.0.0,>=2.0.0->wikipedia) (2.2.3)\n",
            "Requirement already satisfied: certifi>=2017.4.17 in /usr/local/lib/python3.10/dist-packages (from requests<3.0.0,>=2.0.0->wikipedia) (2024.8.30)\n",
            "Requirement already satisfied: soupsieve>1.2 in /usr/local/lib/python3.10/dist-packages (from beautifulsoup4->wikipedia) (2.6)\n",
            "Building wheels for collected packages: wikipedia\n",
            "  Building wheel for wikipedia (setup.py) ... \u001b[?25l\u001b[?25hdone\n",
            "  Created wheel for wikipedia: filename=wikipedia-1.4.0-py3-none-any.whl size=11679 sha256=702a29ee4aee58ef25c34d0f034b1c8dd614dac2f4e20792a4362c2551fec298\n",
            "  Stored in directory: /root/.cache/pip/wheels/5e/b6/c5/93f3dec388ae76edc830cb42901bb0232504dfc0df02fc50de\n",
            "Successfully built wikipedia\n",
            "Installing collected packages: wikipedia\n",
            "Successfully installed wikipedia-1.4.0\n"
          ]
        }
      ]
    },
    {
      "cell_type": "code",
      "execution_count": 74,
      "metadata": {
        "id": "ehJJpoqsr26-"
      },
      "outputs": [],
      "source": [
        "from langchain_community.tools import WikipediaQueryRun\n",
        "from langchain_community.utilities import WikipediaAPIWrapper\n",
        "\n",
        "api_wrapper = WikipediaAPIWrapper(top_k_results=1,\n",
        "                                  doc_content_chars_max=600,\n",
        "                                  lang='es' # respuestas en español\n",
        "                                  )\n",
        "search_wiki = WikipediaQueryRun(api_wrapper=api_wrapper)\n",
        "\n",
        "tools += [search_wiki]"
      ]
    },
    {
      "cell_type": "code",
      "source": [
        "search_wiki.invoke('qué frutas tienen alto contenido de fibra?')"
      ],
      "metadata": {
        "id": "sVbKFiDB5QJp",
        "colab": {
          "base_uri": "https://localhost:8080/",
          "height": 87
        },
        "outputId": "6e7990c8-f467-46bd-8281-e78ab512f415"
      },
      "execution_count": 75,
      "outputs": [
        {
          "output_type": "execute_result",
          "data": {
            "text/plain": [
              "'Page: Fruta\\nSummary: Por fruta se entiende aquellos frutos comestibles obtenidos de plantas cultivadas o silvestres que, por su sabor generalmente dulce y acidulado, su aroma intenso y agradable, y sus propiedades nutritivas, suelen consumirse mayormente en su estado fresco, como jugo o como postre (y en menor medida, en otras preparaciones), una vez alcanzada la madurez organoléptica, o luego de ser sometidos a cocción.[1]\\u200b\\nLa definición del diccionario de la Real Academia Española no es específica: \"fruto comestible de ciertas plantas cultivadas; p. ej. la pera, la guinda, la fresa, etc.\"[2]'"
            ],
            "application/vnd.google.colaboratory.intrinsic+json": {
              "type": "string"
            }
          },
          "metadata": {},
          "execution_count": 75
        }
      ]
    },
    {
      "cell_type": "markdown",
      "metadata": {
        "id": "CvUIMdX6r0ne"
      },
      "source": [
        "#### **2.2.3 Crear Agente (0.3 puntos)**\n",
        "\n",
        "Crear un agente que pueda responder preguntas preguntas usando las *tools* antes generadas. Asegúrese que su agente responda en español. Por último, guarde el agente en una variable."
      ]
    },
    {
      "cell_type": "code",
      "execution_count": 111,
      "metadata": {
        "id": "pD1_n0wrsDI5",
        "collapsed": true,
        "colab": {
          "base_uri": "https://localhost:8080/"
        },
        "outputId": "83c7d695-17be-456c-f2fe-63b5c0f219b0"
      },
      "outputs": [
        {
          "output_type": "stream",
          "name": "stderr",
          "text": [
            "/usr/local/lib/python3.10/dist-packages/langsmith/client.py:241: LangSmithMissingAPIKeyWarning: API key must be provided when using hosted LangSmith API\n",
            "  warnings.warn(\n"
          ]
        }
      ],
      "source": [
        "from langchain.agents import create_react_agent, AgentExecutor\n",
        "from langchain import hub\n",
        "\n",
        "\n",
        "react_prompt = hub.pull(\"hwchase17/react\") + PromptTemplate.from_template(\n",
        "                                                \"\"\"\n",
        "                                                Responde utilizando search_wiki si la pregunta puede ser\n",
        "                                                respondida mediante búsquedas en Wikipedia, sino utiliza\n",
        "                                                search_tavily.\n",
        "                                                No respondas, ni inventes respuestas, en caso de que la\n",
        "                                                pregunta no pueda ser respondida con ninguna tool.\n",
        "                                                Responde en español.\n",
        "                                                \"\"\")\n",
        "\n",
        "\n",
        "agente = create_react_agent(llm, tools, react_prompt) # primero inicializamos el agente ReAct\n",
        "agente_executor = AgentExecutor(agent=agente, tools=tools,\n",
        "                                verbose=True,\n",
        "                                return_intermediate_steps=True,\n",
        "                                max_iterations=5)"
      ]
    },
    {
      "cell_type": "markdown",
      "metadata": {
        "id": "dKV0JxK3r-XG"
      },
      "source": [
        "#### **2.2.4 Verificación de respuestas (0.3 puntos)**\n",
        "\n",
        "Pruebe el funcionamiento de su agente y asegúrese que el agente esté ocupando correctamente las tools disponibles. ¿En qué casos el agente debería ocupar la tool de Tavily? ¿En qué casos debería ocupar la tool de Wikipedia?"
      ]
    },
    {
      "cell_type": "markdown",
      "source": [
        "En caso de que se esté buscando una respuesta, lo ideal es usar la tool de Tavily que busca, filtra y extrae información desde distintas fuentes en línea. La tool de Wikipedia, busca información solo a partir  de páginas de wikipedia, por lo que podría estar desactualizada o con errores."
      ],
      "metadata": {
        "id": "6mfZKeTGglyr"
      }
    },
    {
      "cell_type": "code",
      "source": [
        "agente_executor.invoke({'input':'qué pasó con Cathy Barriga?'})"
      ],
      "metadata": {
        "collapsed": true,
        "id": "LoFOn8TIWMev",
        "colab": {
          "base_uri": "https://localhost:8080/"
        },
        "outputId": "581e811f-28ad-4031-9c0f-7427d9625daa"
      },
      "execution_count": 100,
      "outputs": [
        {
          "output_type": "stream",
          "name": "stdout",
          "text": [
            "\n",
            "\n",
            "\u001b[1m> Entering new AgentExecutor chain...\u001b[0m\n",
            "\u001b[32;1m\u001b[1;3mThought: This question asks about what happened to Cathy Barriga.  A Wikipedia search should provide information about her recent activities or life events.\n",
            "\n",
            "Action: wikipedia\n",
            "Action Input: Cathy Barriga\n",
            "\u001b[0m\u001b[38;5;200m\u001b[1;3mPage: Cathy Barriga\n",
            "Summary: Cathy Carolina Barriga Guerra (nacida Catherine Carolina Barriga Guerra; Santiago, 9 de abril de 1973)[6]​[7]​ es una figura televisiva, licenciada en psicología y política chilena.[8]​[3]​ Entre diciembre de 2016 y junio de 2021 se desempeñó como alcaldesa de Maipú.[9]​ A raíz de sus gestiones como alcaldesa, en enero de 2024 fue formalizada por delitos de fraude al fisco y falsificación de instrumento público, quedando con arresto domiciliario mientras prosiguen su juicio.[10]​ En noviembre de ese mismo año, Barriga fue puesta en prisión preventiva.[5]​\u001b[0m\u001b[32;1m\u001b[1;3mThought:The Wikipedia article provides a summary of what happened to Cathy Barriga.  I can answer the question directly using this information.\n",
            "\n",
            "Thought: I now know the final answer\n",
            "\n",
            "Final Answer: Cathy Barriga, alcaldesa de Maipú entre 2016 y 2021, fue formalizada en enero de 2024 por delitos de fraude al fisco y falsificación de instrumento público.  Inicialmente se le otorgó arresto domiciliario, pero en noviembre de 2024 fue puesta en prisión preventiva mientras continúa su juicio.\n",
            "\u001b[0m\n",
            "\n",
            "\u001b[1m> Finished chain.\u001b[0m\n"
          ]
        },
        {
          "output_type": "execute_result",
          "data": {
            "text/plain": [
              "{'input': 'qué pasó con Cathy Barriga?',\n",
              " 'output': 'Cathy Barriga, alcaldesa de Maipú entre 2016 y 2021, fue formalizada en enero de 2024 por delitos de fraude al fisco y falsificación de instrumento público.  Inicialmente se le otorgó arresto domiciliario, pero en noviembre de 2024 fue puesta en prisión preventiva mientras continúa su juicio.',\n",
              " 'intermediate_steps': [(AgentAction(tool='wikipedia', tool_input='Cathy Barriga\\n', log='Thought: This question asks about what happened to Cathy Barriga.  A Wikipedia search should provide information about her recent activities or life events.\\n\\nAction: wikipedia\\nAction Input: Cathy Barriga\\n'),\n",
              "   'Page: Cathy Barriga\\nSummary: Cathy Carolina Barriga Guerra (nacida Catherine Carolina Barriga Guerra; Santiago, 9 de abril de 1973)[6]\\u200b[7]\\u200b es una figura televisiva, licenciada en psicología y política chilena.[8]\\u200b[3]\\u200b Entre diciembre de 2016 y junio de 2021 se desempeñó como alcaldesa de Maipú.[9]\\u200b A raíz de sus gestiones como alcaldesa, en enero de 2024 fue formalizada por delitos de fraude al fisco y falsificación de instrumento público, quedando con arresto domiciliario mientras prosiguen su juicio.[10]\\u200b En noviembre de ese mismo año, Barriga fue puesta en prisión preventiva.[5]\\u200b')]}"
            ]
          },
          "metadata": {},
          "execution_count": 100
        }
      ]
    },
    {
      "cell_type": "code",
      "source": [
        "agente_executor.invoke({'input':'últimos albums de Jin de BTS'})"
      ],
      "metadata": {
        "id": "zY__1iO61w82",
        "collapsed": true,
        "colab": {
          "base_uri": "https://localhost:8080/"
        },
        "outputId": "9927dc56-e8d2-4bc1-d397-4abce19fa4e3"
      },
      "execution_count": 90,
      "outputs": [
        {
          "output_type": "stream",
          "name": "stdout",
          "text": [
            "\n",
            "\n",
            "\u001b[1m> Entering new AgentExecutor chain...\u001b[0m\n",
            "\u001b[32;1m\u001b[1;3mThought:The question asks about Jin's (from BTS) latest albums.  Since Jin is a person and this is a question about his musical releases, Wikipedia is a good resource.\n",
            "\n",
            "Action: wikipedia\n",
            "Action Input: Jin (BTS) discography\n",
            "\u001b[0m\u001b[38;5;200m\u001b[1;3mPage: Jin (cantante)\n",
            "Summary: Kim Seok-Jin (en hangul, 김석진; Gwacheon, 4 de diciembre de 1992), conocido por su nombre artístico Jin, es un cantante y bailarín surcoreano.[1]​[2]​ Desde 2013 es miembro del grupo BTS bajo la compañía Big Hit Music.[2]​ Jin ha coescrito y lanzado tres canciones en solitario con BTS: «Awake» (2016), «Epiphany» (2018) y «Moon» (2020); todas han entrado en la lista digital Gaon de Corea del Sur. También apareció en la banda sonora del drama Hwarang (2016) junto a su compañero de grupo V. El 28 de octubre del 2022 presentó su último sencillo «The Astronaut» antes de \u001b[0m\u001b[32;1m\u001b[1;3mThought:The Wikipedia page provides information about Jin's solo songs, but doesn't list albums.  It mentions his song \"The Astronaut\" as his latest single.  To be sure there aren't any albums I've missed, I'll use a search engine.\n",
            "\n",
            "Action: tavily_search_results_json\n",
            "Action Input: \"Jin BTS albums\"\n",
            "\u001b[0m\u001b[36;1m\u001b[1;3m[{'url': 'https://en.wikipedia.org/wiki/Happy_(Jin_album)', 'content': 'Happy is the debut studio album [a] by South Korean singer Jin of BTS, released on November 15, 2024, ... In 2022, Jin debuted as a solo artist with his song \"The Astronaut\". [1] Shortly after the song\\'s release, Jin enlisted for South Korea\\'s mandatory military service, serving until July 2024. [2]'}]\u001b[0m\u001b[32;1m\u001b[1;3mThought:I now know the final answer.  The Wikipedia search didn't show any albums, but the Tavily search indicates a possible upcoming album \"Happy,\" though the release date is in the future.  The most recent release is his single \"The Astronaut.\"\n",
            "\n",
            "Final Answer: El último lanzamiento de Jin de BTS es el sencillo \"The Astronaut\", publicado en 2022.  Se espera que lance su álbum debut \"Happy\" en noviembre de 2024, según algunas fuentes.\n",
            "\u001b[0m\n",
            "\n",
            "\u001b[1m> Finished chain.\u001b[0m\n"
          ]
        },
        {
          "output_type": "execute_result",
          "data": {
            "text/plain": [
              "{'input': 'últimos albums de Jin de BTS',\n",
              " 'output': 'El último lanzamiento de Jin de BTS es el sencillo \"The Astronaut\", publicado en 2022.  Se espera que lance su álbum debut \"Happy\" en noviembre de 2024, según algunas fuentes.',\n",
              " 'intermediate_steps': [(AgentAction(tool='wikipedia', tool_input='Jin (BTS) discography\\n', log=\"Thought:The question asks about Jin's (from BTS) latest albums.  Since Jin is a person and this is a question about his musical releases, Wikipedia is a good resource.\\n\\nAction: wikipedia\\nAction Input: Jin (BTS) discography\\n\"),\n",
              "   'Page: Jin (cantante)\\nSummary: Kim Seok-Jin (en hangul, 김석진; Gwacheon, 4 de diciembre de 1992), conocido por su nombre artístico Jin, es un cantante y bailarín surcoreano.[1]\\u200b[2]\\u200b Desde 2013 es miembro del grupo BTS bajo la compañía Big Hit Music.[2]\\u200b Jin ha coescrito y lanzado tres canciones en solitario con BTS: «Awake» (2016), «Epiphany» (2018) y «Moon» (2020); todas han entrado en la lista digital Gaon de Corea del Sur. También apareció en la banda sonora del drama Hwarang (2016) junto a su compañero de grupo V. El 28 de octubre del 2022 presentó su último sencillo «The Astronaut» antes de '),\n",
              "  (AgentAction(tool='tavily_search_results_json', tool_input='Jin BTS albums\"\\n', log='Thought:The Wikipedia page provides information about Jin\\'s solo songs, but doesn\\'t list albums.  It mentions his song \"The Astronaut\" as his latest single.  To be sure there aren\\'t any albums I\\'ve missed, I\\'ll use a search engine.\\n\\nAction: tavily_search_results_json\\nAction Input: \"Jin BTS albums\"\\n'),\n",
              "   [{'url': 'https://en.wikipedia.org/wiki/Happy_(Jin_album)',\n",
              "     'content': 'Happy is the debut studio album [a] by South Korean singer Jin of BTS, released on November 15, 2024, ... In 2022, Jin debuted as a solo artist with his song \"The Astronaut\". [1] Shortly after the song\\'s release, Jin enlisted for South Korea\\'s mandatory military service, serving until July 2024. [2]'}])]}"
            ]
          },
          "metadata": {},
          "execution_count": 90
        }
      ]
    },
    {
      "cell_type": "code",
      "source": [
        "agente_executor.invoke({'input':'actual presidente de Chile'})"
      ],
      "metadata": {
        "id": "dgB-39KecjQd",
        "outputId": "f8c7434d-8fa7-45e4-f946-094e61c727ba",
        "colab": {
          "base_uri": "https://localhost:8080/"
        }
      },
      "execution_count": 101,
      "outputs": [
        {
          "output_type": "stream",
          "name": "stdout",
          "text": [
            "\n",
            "\n",
            "\u001b[1m> Entering new AgentExecutor chain...\u001b[0m\n",
            "\u001b[32;1m\u001b[1;3mThought: This question asks for the current president of Chile.  Wikipedia should have this information.\n",
            "\n",
            "Action: wikipedia\n",
            "Action Input: Presidente de Chile\n",
            "\u001b[0m\u001b[38;5;200m\u001b[1;3mPage: Presidente de Chile\n",
            "Summary: El presidente de la República de Chile es el jefe de Estado y de Gobierno del país, por ende, titular del poder ejecutivo. Como máxima autoridad política de la nación, designa o remueve a los comandantes en jefe de las Fuerzas Armadas.[n 5]​ El actual mandatario es Gabriel Boric Font, quien asumió el cargo el 11 de marzo de 2022, dando inicio así a su gestión.\n",
            "Le corresponde, como mandato genérico, el gobierno y la administración del Estado.[6]​ Si bien su papel y significación ha experimentado cambios a lo largo de la historia, al igual que su posición y rel\u001b[0m\u001b[32;1m\u001b[1;3mThought: The Wikipedia page clearly states the current president.\n",
            "\n",
            "Thought: I now know the final answer\n",
            "\n",
            "Final Answer: El actual presidente de Chile es Gabriel Boric Font.\n",
            "\u001b[0m\n",
            "\n",
            "\u001b[1m> Finished chain.\u001b[0m\n"
          ]
        },
        {
          "output_type": "execute_result",
          "data": {
            "text/plain": [
              "{'input': 'actual presidente de Chile',\n",
              " 'output': 'El actual presidente de Chile es Gabriel Boric Font.',\n",
              " 'intermediate_steps': [(AgentAction(tool='wikipedia', tool_input='Presidente de Chile\\n', log='Thought: This question asks for the current president of Chile.  Wikipedia should have this information.\\n\\nAction: wikipedia\\nAction Input: Presidente de Chile\\n'),\n",
              "   'Page: Presidente de Chile\\nSummary: El presidente de la República de Chile es el jefe de Estado y de Gobierno del país, por ende, titular del poder ejecutivo. Como máxima autoridad política de la nación, designa o remueve a los comandantes en jefe de las Fuerzas Armadas.[n 5]\\u200b El actual mandatario es Gabriel Boric Font, quien asumió el cargo el 11 de marzo de 2022, dando inicio así a su gestión.\\nLe corresponde, como mandato genérico, el gobierno y la administración del Estado.[6]\\u200b Si bien su papel y significación ha experimentado cambios a lo largo de la historia, al igual que su posición y rel')]}"
            ]
          },
          "metadata": {},
          "execution_count": 101
        }
      ]
    },
    {
      "cell_type": "markdown",
      "metadata": {
        "id": "cZbDTYiogquv"
      },
      "source": [
        "### **2.3 Multi Agente (1.5 puntos)**\n",
        "\n",
        "<p align=\"center\">\n",
        "  <img src=\"https://media1.tenor.com/m/r7QMJLxU4BoAAAAd/this-is-getting-out-of-hand-star-wars.gif\"\n",
        "\" width=\"450\">\n",
        "</p>\n",
        "\n",
        "El objetivo de esta subsección es encapsular las funcionalidades creadas en una solución multiagente con un **supervisor**.\n"
      ]
    },
    {
      "cell_type": "markdown",
      "metadata": {
        "id": "7-iUfH0WvI6m"
      },
      "source": [
        "#### **2.3.1 Generando Tools (0.5 puntos)**\n",
        "\n",
        "Transforme la solución RAG de la sección 2.1 y el agente de la sección 2.2 a *tools* (una tool por cada uno)."
      ]
    },
    {
      "cell_type": "code",
      "execution_count": 105,
      "metadata": {
        "id": "pw1cfTtvv1AZ"
      },
      "outputs": [],
      "source": [
        "from langchain.tools import tool\n",
        "\n",
        "@tool\n",
        "def rag_solution(x: str) -> str:\n",
        "  \"\"\" Responde la pregunta 'x' con la solucion RAG, si esta está relacionada\n",
        "      con nutrición, comida y/o salud.\n",
        "    \"\"\"\n",
        "  return rag_chain.invoke(x)\n",
        "\n",
        "@tool\n",
        "def agent_tool(x:str) -> str:\n",
        "  \"\"\" Responde la pregunta 'x' con este agente si esta puede ser respondida\n",
        "      realizando búsquedas en páginas web o mediante wikipedia.\n",
        "  \"\"\"\n",
        "  return agente_executor.invoke({'input':x})\n"
      ]
    },
    {
      "cell_type": "markdown",
      "metadata": {
        "id": "HQYNjT_0vPCg"
      },
      "source": [
        "#### **2.3.2 Agente Supervisor (0.5 puntos)**\n",
        "\n",
        "Habilite un agente que tenga acceso a las tools del punto anterior y pueda responder preguntas relacionadas. Almacene este agente en una variable llamada supervisor."
      ]
    },
    {
      "cell_type": "code",
      "execution_count": 112,
      "metadata": {
        "id": "yv2ZY0BAv1RD"
      },
      "outputs": [],
      "source": [
        "supervisor_prompt = PromptTemplate.from_template(\n",
        "    \"\"\"\n",
        "    Responde a las preguntas de los usuarios de la mejor manera posible utilizando\n",
        "    las siguientes tools:\n",
        "    {tools}\n",
        "    Tú único rol es redireccionar la pregunta del usuario utilizando las tools\n",
        "    entregadas, dependiendo de si la pregunta es sobre nutrición y enfermedades\n",
        "    relacionadas con esta o realizar búsquedas en la web.\n",
        "    Recuerda ser amable y cordial en tu respuesta.\n",
        "    Restringete a utilizar solo los agentes dados, no inventes respuestas.\n",
        "\n",
        "    Pregunta: {question}\n",
        "    tool_names: {tools_name}\n",
        "    Respuesta cordial:\"\"\"\n",
        ")\n",
        "# agent_scratchpad = \"\"\n",
        "tools_supervisor = [rag_solution, agent_tool]\n",
        "tools_name = [rag_solution.name, agent_tool.name]\n",
        "supervisor = create_react_agent(llm,\n",
        "                                tools_supervisor,\n",
        "                                prompt=react_prompt)\n",
        "supervisor_executor = AgentExecutor(agent=supervisor,\n",
        "                                    tools=tools_supervisor,\n",
        "                                    verbose=True,\n",
        "                                    # return_intermediate_steps=True,\n",
        "                                    max_iterations=5)\n"
      ]
    },
    {
      "cell_type": "markdown",
      "metadata": {
        "id": "ea3zWlvyvY7K"
      },
      "source": [
        "#### **2.3.3 Verificación de respuestas (0.25 puntos)**\n",
        "\n",
        "Pruebe el funcionamiento de su agente repitiendo las preguntas realizadas en las secciones 2.1.4 y 2.2.4 y comente sus resultados. ¿Cómo varían las respuestas bajo este enfoque?"
      ]
    },
    {
      "cell_type": "code",
      "source": [
        "# PREGUNTA 2.1.4\n",
        "supervisor_executor.invoke({'input': 'que alimentos debe tener la dieta de una persona con diabetes?'})"
      ],
      "metadata": {
        "id": "tsEmFeCGiW2V",
        "outputId": "35e6a2ef-3576-4c7e-eca1-76421433ae2b",
        "colab": {
          "base_uri": "https://localhost:8080/"
        }
      },
      "execution_count": 113,
      "outputs": [
        {
          "output_type": "stream",
          "name": "stdout",
          "text": [
            "\n",
            "\n",
            "\u001b[1m> Entering new AgentExecutor chain...\u001b[0m\n",
            "\u001b[32;1m\u001b[1;3mThought: This question is about nutrition and diet for people with diabetes, so it's suitable for a RAG-based solution.  I'll try `rag_solution` first. If it fails to provide a satisfactory answer, I can try `agent_tool`.\n",
            "\n",
            "Action: rag_solution\n",
            "Action Input: que alimentos debe tener la dieta de una persona con diabetes?\u001b[0m\u001b[36;1m\u001b[1;3mLa dieta de una persona con diabetes mellitus tipo I o tipo II, que requiera entre 1500 y 2500 kcal, debe contener  pan, cereales, pastas, legumbres, arroz y verduras,  para contribuir al aporte de fibra, especialmente fibra soluble, que beneficia el perfil glucémico.  Las frutas y la leche aportarán glúcidos sencillos.  La cantidad de carbohidratos, proteínas y grasas dependerá de la ingesta calórica diaria:\n",
            "\n",
            "* **Dieta Diabética 1500:** 20 raciones de carbohidratos, 6 raciones de proteínas y 5 raciones de grasas.\n",
            "* **Dieta Diabética 1800:** 24 raciones de carbohidratos, 7 raciones de proteínas y 5,5 raciones de grasas.\n",
            "* **Dieta Diabética 2000:** 27 raciones de carbohidratos, 7.5 raciones de proteínas y 7.5 raciones de grasas.\n",
            "\n",
            "Todas las dietas se deben repartir en 4 o 6 comidas, ajustando los horarios según la pauta de insulina si el paciente es insulinodependiente.  Se deben evitar o moderar los alimentos flatulentos (cebolla cruda, alcachofa, col, coliflor, coles de Bruselas, bróculi, melón, sandía, legumbres) y las frutas ácidas (como la naranja).  La información proporcionada no incluye detalles sobre las raciones de cada alimento ni sobre los alimentos prohibidos en dietas con control lipídico.\n",
            "\u001b[0m\u001b[32;1m\u001b[1;3mThought:The `rag_solution` provided a good answer.  I don't need to use `agent_tool`.\n",
            "\n",
            "Thought: I now know the final answer.\n",
            "Final Answer: Una dieta para una persona con diabetes, dependiendo de sus necesidades calóricas (1500-2500 kcal), debe incluir pan, cereales, pastas, legumbres, arroz y verduras para aportar fibra.  Frutas y leche aportan glúcidos. La cantidad de carbohidratos, proteínas y grasas varía según las calorías diarias (ver detalles en la observación).  Se deben moderar o evitar alimentos flatulentos y frutas ácidas.  La información no incluye detalles sobre raciones específicas de cada alimento ni alimentos prohibidos en dietas con control lipídico.\n",
            "\u001b[0m\n",
            "\n",
            "\u001b[1m> Finished chain.\u001b[0m\n"
          ]
        },
        {
          "output_type": "execute_result",
          "data": {
            "text/plain": [
              "{'input': 'que alimentos debe tener la dieta de una persona con diabetes?',\n",
              " 'output': 'Una dieta para una persona con diabetes, dependiendo de sus necesidades calóricas (1500-2500 kcal), debe incluir pan, cereales, pastas, legumbres, arroz y verduras para aportar fibra.  Frutas y leche aportan glúcidos. La cantidad de carbohidratos, proteínas y grasas varía según las calorías diarias (ver detalles en la observación).  Se deben moderar o evitar alimentos flatulentos y frutas ácidas.  La información no incluye detalles sobre raciones específicas de cada alimento ni alimentos prohibidos en dietas con control lipídico.'}"
            ]
          },
          "metadata": {},
          "execution_count": 113
        }
      ]
    },
    {
      "cell_type": "markdown",
      "source": [
        "Esta respuesta parece estar más procesada que las anteriores, entregando información relevante de manera ordenada."
      ],
      "metadata": {
        "id": "G2pem9NJoX9k"
      }
    },
    {
      "cell_type": "code",
      "execution_count": 114,
      "metadata": {
        "id": "6_1t0zkgv1qW",
        "colab": {
          "base_uri": "https://localhost:8080/"
        },
        "outputId": "8921341f-235d-4080-9fed-e5f10c5ae5e3"
      },
      "outputs": [
        {
          "output_type": "stream",
          "name": "stdout",
          "text": [
            "\n",
            "\n",
            "\u001b[1m> Entering new AgentExecutor chain...\u001b[0m\n",
            "\u001b[32;1m\u001b[1;3mThought: This question asks about a person, Cathy Barriga.  It's likely that information about her can be found through a web search or Wikipedia.  I'll use the `agent_tool`.\n",
            "\n",
            "Action: agent_tool\n",
            "Action Input: qué pasó con Cathy Barriga?\n",
            "\u001b[0m\n",
            "\n",
            "\u001b[1m> Entering new AgentExecutor chain...\u001b[0m\n",
            "\u001b[32;1m\u001b[1;3mThought: This question asks about what happened to Cathy Barriga.  A Wikipedia search should provide information about her recent activities or events in her life.\n",
            "\n",
            "Action: wikipedia\n",
            "Action Input: Cathy Barriga\n",
            "\u001b[0m\u001b[38;5;200m\u001b[1;3mPage: Cathy Barriga\n",
            "Summary: Cathy Carolina Barriga Guerra (nacida Catherine Carolina Barriga Guerra; Santiago, 9 de abril de 1973)[6]​[7]​ es una figura televisiva, licenciada en psicología y política chilena.[8]​[3]​ Entre diciembre de 2016 y junio de 2021 se desempeñó como alcaldesa de Maipú.[9]​ A raíz de sus gestiones como alcaldesa, en enero de 2024 fue formalizada por delitos de fraude al fisco y falsificación de instrumento público, quedando con arresto domiciliario mientras prosiguen su juicio.[10]​ En noviembre de ese mismo año, Barriga fue puesta en prisión preventiva.[5]​\u001b[0m\u001b[32;1m\u001b[1;3mThought:The Wikipedia page provides a summary of Cathy Barriga's life and career, including her recent legal troubles.  This answers the question.\n",
            "\n",
            "Thought:I now know the final answer.\n",
            "\n",
            "Final Answer: Cathy Barriga, alcaldesa de Maipú entre 2016 y 2021, fue formalizada en enero de 2024 por delitos de fraude al fisco y falsificación de instrumento público.  Inicialmente se le otorgó arresto domiciliario, pero en noviembre de 2024 fue puesta en prisión preventiva mientras continúa su juicio.\n",
            "\u001b[0m\n",
            "\n",
            "\u001b[1m> Finished chain.\u001b[0m\n",
            "\u001b[33;1m\u001b[1;3m{'input': 'qué pasó con Cathy Barriga?\\n', 'output': 'Cathy Barriga, alcaldesa de Maipú entre 2016 y 2021, fue formalizada en enero de 2024 por delitos de fraude al fisco y falsificación de instrumento público.  Inicialmente se le otorgó arresto domiciliario, pero en noviembre de 2024 fue puesta en prisión preventiva mientras continúa su juicio.', 'intermediate_steps': [(AgentAction(tool='wikipedia', tool_input='Cathy Barriga\\n', log='Thought: This question asks about what happened to Cathy Barriga.  A Wikipedia search should provide information about her recent activities or events in her life.\\n\\nAction: wikipedia\\nAction Input: Cathy Barriga\\n'), 'Page: Cathy Barriga\\nSummary: Cathy Carolina Barriga Guerra (nacida Catherine Carolina Barriga Guerra; Santiago, 9 de abril de 1973)[6]\\u200b[7]\\u200b es una figura televisiva, licenciada en psicología y política chilena.[8]\\u200b[3]\\u200b Entre diciembre de 2016 y junio de 2021 se desempeñó como alcaldesa de Maipú.[9]\\u200b A raíz de sus gestiones como alcaldesa, en enero de 2024 fue formalizada por delitos de fraude al fisco y falsificación de instrumento público, quedando con arresto domiciliario mientras prosiguen su juicio.[10]\\u200b En noviembre de ese mismo año, Barriga fue puesta en prisión preventiva.[5]\\u200b')]}\u001b[0m\u001b[32;1m\u001b[1;3mThought: I now know the final answer. The agent_tool provided a concise summary of what happened to Cathy Barriga.\n",
            "\n",
            "Final Answer: Cathy Barriga, alcaldesa de Maipú entre 2016 y 2021, fue formalizada en enero de 2024 por delitos de fraude al fisco y falsificación de instrumento público. Inicialmente se le otorgó arresto domiciliario, pero en noviembre de 2024 fue puesta en prisión preventiva mientras continúa su juicio.\n",
            "\u001b[0m\n",
            "\n",
            "\u001b[1m> Finished chain.\u001b[0m\n"
          ]
        },
        {
          "output_type": "execute_result",
          "data": {
            "text/plain": [
              "{'input': 'qué pasó con Cathy Barriga?',\n",
              " 'output': 'Cathy Barriga, alcaldesa de Maipú entre 2016 y 2021, fue formalizada en enero de 2024 por delitos de fraude al fisco y falsificación de instrumento público. Inicialmente se le otorgó arresto domiciliario, pero en noviembre de 2024 fue puesta en prisión preventiva mientras continúa su juicio.'}"
            ]
          },
          "metadata": {},
          "execution_count": 114
        }
      ],
      "source": [
        "# PREGUNTA 2.2.4\n",
        "supervisor_executor.invoke({'input':'qué pasó con Cathy Barriga?'})"
      ]
    },
    {
      "cell_type": "markdown",
      "source": [
        "Dado que esta respuesta se responde utilizando la tool de wikipedia, era esperable que la respuesta no cambiara ya que se está extrayendo información de la misma página."
      ],
      "metadata": {
        "id": "2zmUnuZKp7J9"
      }
    },
    {
      "cell_type": "markdown",
      "metadata": {
        "id": "Qb8bdAmYvgwn"
      },
      "source": [
        "#### **2.3.4 Análisis (0.25 puntos)**\n",
        "\n",
        "¿Qué diferencias tiene este enfoque con la solución *Router* vista en clases? Nombre al menos una ventaja y desventaja."
      ]
    },
    {
      "cell_type": "markdown",
      "metadata": {
        "id": "YAUlJxqoLK5r"
      },
      "source": [
        "El agente supervisor, a diferencia de la solución Router,"
      ]
    },
    {
      "cell_type": "markdown",
      "metadata": {
        "id": "4JWVSuWiZ8Mj"
      },
      "source": [
        "### **2.4 Memoria (Bonus +0.5 puntos)**\n",
        "\n",
        "<p align=\"center\">\n",
        "  <img src=\"https://media1.tenor.com/m/Gs95aiElrscAAAAd/memory-unlocked-ratatouille-critic.gif\"\n",
        "\" width=\"400\">\n",
        "</p>\n",
        "\n",
        "Una de las principales falencias de las soluciones que hemos visto hasta ahora es que nuestro chat no responde las interacciones anteriores, por ejemplo:\n",
        "\n",
        "- Pregunta 1: \"Hola! mi nombre es Sebastián\"\n",
        "  - Respuesta esperada: \"Hola Sebastián! ...\"\n",
        "- Pregunta 2: \"Cual es mi nombre?\"\n",
        "  - Respuesta actual: \"Lo siento pero no conozco tu nombre :(\"\n",
        "  - **Respuesta esperada: \"Tu nombre es Sebastián\"**\n",
        "\n",
        "Para solucionar esto, se les solicita agregar un componente de **memoria** a la solución entregada en el punto 2.3.\n",
        "\n",
        "**Nota: El Bonus es válido <u>sólo para la sección 2 de Large Language Models.</u>**"
      ]
    },
    {
      "cell_type": "code",
      "execution_count": null,
      "metadata": {
        "id": "K6Y7tIPJLPfB"
      },
      "outputs": [],
      "source": []
    },
    {
      "cell_type": "markdown",
      "metadata": {
        "id": "vFc3jBT5g0kT"
      },
      "source": [
        "### **2.5 Despliegue (0 puntos)**\n",
        "\n",
        "<p align=\"center\">\n",
        "  <img src=\"https://media1.tenor.com/m/IytHqOp52EsAAAAd/you-get-a-deploy-deploy.gif\"\n",
        "\" width=\"400\">\n",
        "</p>\n",
        "\n",
        "Una vez tengan los puntos anteriores finalizados, toca la etapa de dar a conocer lo que hicimos! Para eso, vamos a desplegar nuestro modelo a través de `gradio`, una librería especializada en el levantamiento rápido de demos basadas en ML.\n",
        "\n",
        "Primero instalamos la librería:"
      ]
    },
    {
      "cell_type": "code",
      "execution_count": null,
      "metadata": {
        "id": "T8TsvnCPbkIA"
      },
      "outputs": [],
      "source": [
        "%pip install --upgrade --quiet gradio"
      ]
    },
    {
      "cell_type": "markdown",
      "metadata": {
        "id": "HJBztEUovKsF"
      },
      "source": [
        "Luego sólo deben ejecutar el siguiente código e interactuar con la interfaz a través del notebook o del link generado:"
      ]
    },
    {
      "cell_type": "code",
      "execution_count": null,
      "metadata": {
        "id": "Z3KedQSvg1-n"
      },
      "outputs": [],
      "source": [
        "import gradio as gr\n",
        "import time\n",
        "\n",
        "def agent_response(message, history):\n",
        "  '''\n",
        "  Función para gradio, recibe mensaje e historial, devuelte la respuesta del chatbot.\n",
        "  '''\n",
        "  # get chatbot response\n",
        "  response = ... # rellenar con la respuesta de su chat\n",
        "\n",
        "  # assert\n",
        "  assert type(response) == str, \"output de route_question debe ser string\"\n",
        "\n",
        "  # \"streaming\" response\n",
        "  for i in range(len(response)):\n",
        "    time.sleep(0.015)\n",
        "    yield response[: i+1]\n",
        "\n",
        "gr.ChatInterface(\n",
        "    agent_response,\n",
        "    type=\"messages\",\n",
        "    title=\"Chatbot MDS7202\", # Pueden cambiar esto si lo desean\n",
        "    description=\"Hola! Soy un chatbot muy útil :)\", # también la descripción\n",
        "    theme=\"soft\",\n",
        "    ).launch(\n",
        "        share=True, # pueden compartir el link a sus amig@s para que interactuen con su chat!\n",
        "        debug = False,\n",
        "        )"
      ]
    }
  ],
  "metadata": {
    "colab": {
      "provenance": []
    },
    "kernelspec": {
      "display_name": "Python 3",
      "name": "python3"
    },
    "language_info": {
      "name": "python"
    }
  },
  "nbformat": 4,
  "nbformat_minor": 0
}